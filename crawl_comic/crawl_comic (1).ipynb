{
 "cells": [
  {
   "cell_type": "code",
   "execution_count": 1,
   "metadata": {},
   "outputs": [],
   "source": [
    "import gc, argparse, sys, os, errno\n",
    "import os\n",
    "from tqdm.notebook import tqdm\n",
    "\n",
    "import warnings\n",
    "warnings.filterwarnings('ignore')"
   ]
  },
  {
   "cell_type": "code",
   "execution_count": 4,
   "metadata": {},
   "outputs": [],
   "source": [
    "from selenium import webdriver\n",
    "import requests"
   ]
  },
  {
   "cell_type": "code",
   "execution_count": 5,
   "metadata": {},
   "outputs": [],
   "source": [
    "def mkdir(path):\n",
    "    '''\n",
    "    防止目录存在\n",
    "    '''\n",
    "    if not os.path.exists(path):\n",
    "        os.makedirs(path)\n",
    "\n",
    "\n",
    "def SavePic(filename, url):\n",
    "    '''\n",
    "    通过requests库\n",
    "    将抓取到的图片保存到本地\n",
    "    '''\n",
    "    content = requests.get(url).content\n",
    "    with open(filename, 'wb') as f:\n",
    "        f.write(content)"
   ]
  },
  {
   "cell_type": "markdown",
   "metadata": {},
   "source": [
    "SavePic( 'comic_crawl/test/test.png','http://www.xmanhua.com/m130497/#ipg5' )\n",
    "browser.title.split('_')[]\n",
    "browser.find_element_by_id('cp_image').get_attribute('src')\n",
    "len(browser.find_elements_by_class_name('chapterpage'))\n",
    "browser.find_elements_by_class_name('chapterpage')[2].get_attribute(\"href\")\n",
    "SavePic('comic_crawl/test/周刊174/1.jpg', browser.find_element_by_id('cp_image').get_attribute('src'))"
   ]
  },
  {
   "cell_type": "code",
   "execution_count": 6,
   "metadata": {},
   "outputs": [],
   "source": [
    "basedir = 'comics/huiye/'\n",
    "comic_url = 'http://xmanhua.com/60xm/'\n"
   ]
  },
  {
   "cell_type": "code",
   "execution_count": 7,
   "metadata": {},
   "outputs": [],
   "source": [
    "mkdir(basedir)\n",
    "browser = webdriver.PhantomJS()\n",
    "browser.get(comic_url)\n",
    "browser.implicitly_wait(3)"
   ]
  },
  {
   "cell_type": "code",
   "execution_count": 8,
   "metadata": {},
   "outputs": [],
   "source": [
    "comic_list = []\n",
    "for i in range(len(browser.find_elements_by_class_name('detail-list-form-item'))):\n",
    "    comic_list.append(browser.find_elements_by_class_name('detail-list-form-item')[i].get_attribute(\"href\"))"
   ]
  },
  {
   "cell_type": "code",
   "execution_count": 9,
   "metadata": {},
   "outputs": [
    {
     "data": {
      "application/vnd.jupyter.widget-view+json": {
       "model_id": "4ab5c96dc76a4e618adc9dabfaa9e594",
       "version_major": 2,
       "version_minor": 0
      },
      "text/plain": [
       "HBox(children=(FloatProgress(value=0.0, max=217.0), HTML(value='')))"
      ]
     },
     "metadata": {},
     "output_type": "display_data"
    },
    {
     "data": {
      "application/vnd.jupyter.widget-view+json": {
       "model_id": "f17fdcd15ae74db89763cd730461e4dc",
       "version_major": 2,
       "version_minor": 0
      },
      "text/plain": [
       "HBox(children=(FloatProgress(value=0.0, max=20.0), HTML(value='')))"
      ]
     },
     "metadata": {},
     "output_type": "display_data"
    },
    {
     "name": "stdout",
     "output_type": "stream",
     "text": [
      "\n",
      "当前章节\t輝夜大小姐想讓我告白 ~天才們的戀愛頭腦戰~漫畫_周刊185_輝夜大小姐想讓我告白 ~天才們的戀愛頭腦戰~漫畫在線閱讀</漫畫名></章節顯示名></漫畫名>  下载完毕\n"
     ]
    },
    {
     "data": {
      "application/vnd.jupyter.widget-view+json": {
       "model_id": "14d1c463f8aa476388fe517102e110d6",
       "version_major": 2,
       "version_minor": 0
      },
      "text/plain": [
       "HBox(children=(FloatProgress(value=0.0, max=21.0), HTML(value='')))"
      ]
     },
     "metadata": {},
     "output_type": "display_data"
    },
    {
     "name": "stdout",
     "output_type": "stream",
     "text": [
      "\n",
      "当前章节\t輝夜大小姐想讓我告白 ~天才們的戀愛頭腦戰~漫畫_周刊184_輝夜大小姐想讓我告白 ~天才們的戀愛頭腦戰~漫畫在線閱讀</漫畫名></章節顯示名></漫畫名>  下载完毕\n"
     ]
    },
    {
     "data": {
      "application/vnd.jupyter.widget-view+json": {
       "model_id": "def728bc0a054b398206982cbb97cf75",
       "version_major": 2,
       "version_minor": 0
      },
      "text/plain": [
       "HBox(children=(FloatProgress(value=0.0, max=20.0), HTML(value='')))"
      ]
     },
     "metadata": {},
     "output_type": "display_data"
    },
    {
     "name": "stdout",
     "output_type": "stream",
     "text": [
      "\n",
      "当前章节\t輝夜大小姐想讓我告白 ~天才們的戀愛頭腦戰~漫畫_周刊183_輝夜大小姐想讓我告白 ~天才們的戀愛頭腦戰~漫畫在線閱讀</漫畫名></章節顯示名></漫畫名>  下载完毕\n"
     ]
    },
    {
     "data": {
      "application/vnd.jupyter.widget-view+json": {
       "model_id": "d28fa29278e84f838019fc4b043aa5a2",
       "version_major": 2,
       "version_minor": 0
      },
      "text/plain": [
       "HBox(children=(FloatProgress(value=0.0, max=20.0), HTML(value='')))"
      ]
     },
     "metadata": {},
     "output_type": "display_data"
    },
    {
     "name": "stdout",
     "output_type": "stream",
     "text": [
      "\n",
      "当前章节\t輝夜大小姐想讓我告白 ~天才們的戀愛頭腦戰~漫畫_周刊182_輝夜大小姐想讓我告白 ~天才們的戀愛頭腦戰~漫畫在線閱讀</漫畫名></章節顯示名></漫畫名>  下载完毕\n"
     ]
    },
    {
     "data": {
      "application/vnd.jupyter.widget-view+json": {
       "model_id": "b8b8beb3b09c4ee09d65c770a3401a80",
       "version_major": 2,
       "version_minor": 0
      },
      "text/plain": [
       "HBox(children=(FloatProgress(value=0.0, max=23.0), HTML(value='')))"
      ]
     },
     "metadata": {},
     "output_type": "display_data"
    },
    {
     "name": "stdout",
     "output_type": "stream",
     "text": [
      "\n",
      "当前章节\t輝夜大小姐想讓我告白 ~天才們的戀愛頭腦戰~漫畫_彩色版05話_輝夜大小姐想讓我告白 ~天才們的戀愛頭腦戰~漫畫在線閱讀</漫畫名></章節顯示名></漫畫名>  下载完毕\n"
     ]
    },
    {
     "data": {
      "application/vnd.jupyter.widget-view+json": {
       "model_id": "586a1d171fb24cfea59ebb5c2032b9bd",
       "version_major": 2,
       "version_minor": 0
      },
      "text/plain": [
       "HBox(children=(FloatProgress(value=0.0, max=19.0), HTML(value='')))"
      ]
     },
     "metadata": {},
     "output_type": "display_data"
    },
    {
     "name": "stdout",
     "output_type": "stream",
     "text": [
      "\n",
      "当前章节\t輝夜大小姐想讓我告白 ~天才們的戀愛頭腦戰~漫畫_周刊181_輝夜大小姐想讓我告白 ~天才們的戀愛頭腦戰~漫畫在線閱讀</漫畫名></章節顯示名></漫畫名>  下载完毕\n"
     ]
    },
    {
     "data": {
      "application/vnd.jupyter.widget-view+json": {
       "model_id": "dce33a4262464c7c88158297b96fc832",
       "version_major": 2,
       "version_minor": 0
      },
      "text/plain": [
       "HBox(children=(FloatProgress(value=0.0, max=19.0), HTML(value='')))"
      ]
     },
     "metadata": {},
     "output_type": "display_data"
    },
    {
     "name": "stdout",
     "output_type": "stream",
     "text": [
      "\n",
      "当前章节\t輝夜大小姐想讓我告白 ~天才們的戀愛頭腦戰~漫畫_周刊180_輝夜大小姐想讓我告白 ~天才們的戀愛頭腦戰~漫畫在線閱讀</漫畫名></章節顯示名></漫畫名>  下载完毕\n"
     ]
    },
    {
     "data": {
      "application/vnd.jupyter.widget-view+json": {
       "model_id": "ee6beb3c89764958977e5d0964e7e1c8",
       "version_major": 2,
       "version_minor": 0
      },
      "text/plain": [
       "HBox(children=(FloatProgress(value=0.0, max=19.0), HTML(value='')))"
      ]
     },
     "metadata": {},
     "output_type": "display_data"
    },
    {
     "name": "stdout",
     "output_type": "stream",
     "text": [
      "\n",
      "当前章节\t輝夜大小姐想讓我告白 ~天才們的戀愛頭腦戰~漫畫_周刊179_輝夜大小姐想讓我告白 ~天才們的戀愛頭腦戰~漫畫在線閱讀</漫畫名></章節顯示名></漫畫名>  下载完毕\n"
     ]
    },
    {
     "data": {
      "application/vnd.jupyter.widget-view+json": {
       "model_id": "16116f5143e7492fbb18765942911e19",
       "version_major": 2,
       "version_minor": 0
      },
      "text/plain": [
       "HBox(children=(FloatProgress(value=0.0, max=20.0), HTML(value='')))"
      ]
     },
     "metadata": {},
     "output_type": "display_data"
    },
    {
     "name": "stdout",
     "output_type": "stream",
     "text": [
      "\n",
      "当前章节\t輝夜大小姐想讓我告白 ~天才們的戀愛頭腦戰~漫畫_周刊178_輝夜大小姐想讓我告白 ~天才們的戀愛頭腦戰~漫畫在線閱讀</漫畫名></章節顯示名></漫畫名>  下载完毕\n"
     ]
    },
    {
     "data": {
      "application/vnd.jupyter.widget-view+json": {
       "model_id": "edda038e3fd348e1a406b1ecdb8ab4d7",
       "version_major": 2,
       "version_minor": 0
      },
      "text/plain": [
       "HBox(children=(FloatProgress(value=0.0, max=19.0), HTML(value='')))"
      ]
     },
     "metadata": {},
     "output_type": "display_data"
    },
    {
     "name": "stdout",
     "output_type": "stream",
     "text": [
      "\n",
      "当前章节\t輝夜大小姐想讓我告白 ~天才們的戀愛頭腦戰~漫畫_周刊177_輝夜大小姐想讓我告白 ~天才們的戀愛頭腦戰~漫畫在線閱讀</漫畫名></章節顯示名></漫畫名>  下载完毕\n"
     ]
    },
    {
     "data": {
      "application/vnd.jupyter.widget-view+json": {
       "model_id": "4544df289a734b53a751930684644daf",
       "version_major": 2,
       "version_minor": 0
      },
      "text/plain": [
       "HBox(children=(FloatProgress(value=0.0, max=19.0), HTML(value='')))"
      ]
     },
     "metadata": {},
     "output_type": "display_data"
    },
    {
     "name": "stdout",
     "output_type": "stream",
     "text": [
      "\n",
      "当前章节\t輝夜大小姐想讓我告白 ~天才們的戀愛頭腦戰~漫畫_周刊176_輝夜大小姐想讓我告白 ~天才們的戀愛頭腦戰~漫畫在線閱讀</漫畫名></章節顯示名></漫畫名>  下载完毕\n"
     ]
    },
    {
     "data": {
      "application/vnd.jupyter.widget-view+json": {
       "model_id": "027ba5a36a4c484c96696b69126d4190",
       "version_major": 2,
       "version_minor": 0
      },
      "text/plain": [
       "HBox(children=(FloatProgress(value=0.0, max=22.0), HTML(value='')))"
      ]
     },
     "metadata": {},
     "output_type": "display_data"
    },
    {
     "name": "stdout",
     "output_type": "stream",
     "text": [
      "\n",
      "当前章节\t輝夜大小姐想讓我告白 ~天才們的戀愛頭腦戰~漫畫_周刊175_輝夜大小姐想讓我告白 ~天才們的戀愛頭腦戰~漫畫在線閱讀</漫畫名></章節顯示名></漫畫名>  下载完毕\n"
     ]
    },
    {
     "data": {
      "application/vnd.jupyter.widget-view+json": {
       "model_id": "b4359f8333794103b62cd6153ddb73f8",
       "version_major": 2,
       "version_minor": 0
      },
      "text/plain": [
       "HBox(children=(FloatProgress(value=0.0, max=18.0), HTML(value='')))"
      ]
     },
     "metadata": {},
     "output_type": "display_data"
    },
    {
     "name": "stdout",
     "output_type": "stream",
     "text": [
      "\n",
      "当前章节\t輝夜大小姐想讓我告白 ~天才們的戀愛頭腦戰~漫畫_周刊174_輝夜大小姐想讓我告白 ~天才們的戀愛頭腦戰~漫畫在線閱讀</漫畫名></章節顯示名></漫畫名>  下载完毕\n"
     ]
    },
    {
     "data": {
      "application/vnd.jupyter.widget-view+json": {
       "model_id": "c3901ae0529f4ac1a93dffeb2dd222b9",
       "version_major": 2,
       "version_minor": 0
      },
      "text/plain": [
       "HBox(children=(FloatProgress(value=0.0, max=19.0), HTML(value='')))"
      ]
     },
     "metadata": {},
     "output_type": "display_data"
    },
    {
     "name": "stdout",
     "output_type": "stream",
     "text": [
      "\n",
      "当前章节\t輝夜大小姐想讓我告白 ~天才們的戀愛頭腦戰~漫畫_周刊173_輝夜大小姐想讓我告白 ~天才們的戀愛頭腦戰~漫畫在線閱讀</漫畫名></章節顯示名></漫畫名>  下载完毕\n"
     ]
    },
    {
     "data": {
      "application/vnd.jupyter.widget-view+json": {
       "model_id": "f49768d34a3c4452a98c579990efb95b",
       "version_major": 2,
       "version_minor": 0
      },
      "text/plain": [
       "HBox(children=(FloatProgress(value=0.0, max=23.0), HTML(value='')))"
      ]
     },
     "metadata": {},
     "output_type": "display_data"
    },
    {
     "name": "stdout",
     "output_type": "stream",
     "text": [
      "\n",
      "当前章节\t輝夜大小姐想讓我告白 ~天才們的戀愛頭腦戰~漫畫_彩色版04話_輝夜大小姐想讓我告白 ~天才們的戀愛頭腦戰~漫畫在線閱讀</漫畫名></章節顯示名></漫畫名>  下载完毕\n"
     ]
    },
    {
     "data": {
      "application/vnd.jupyter.widget-view+json": {
       "model_id": "bdec970277764fd1b5f670f69db345fe",
       "version_major": 2,
       "version_minor": 0
      },
      "text/plain": [
       "HBox(children=(FloatProgress(value=0.0, max=20.0), HTML(value='')))"
      ]
     },
     "metadata": {},
     "output_type": "display_data"
    },
    {
     "name": "stdout",
     "output_type": "stream",
     "text": [
      "\n",
      "当前章节\t輝夜大小姐想讓我告白 ~天才們的戀愛頭腦戰~漫畫_彩色版03話_輝夜大小姐想讓我告白 ~天才們的戀愛頭腦戰~漫畫在線閱讀</漫畫名></章節顯示名></漫畫名>  下载完毕\n"
     ]
    },
    {
     "data": {
      "application/vnd.jupyter.widget-view+json": {
       "model_id": "f43d1d2958fd473d947d3dc24abf1d0a",
       "version_major": 2,
       "version_minor": 0
      },
      "text/plain": [
       "HBox(children=(FloatProgress(value=0.0, max=20.0), HTML(value='')))"
      ]
     },
     "metadata": {},
     "output_type": "display_data"
    },
    {
     "name": "stdout",
     "output_type": "stream",
     "text": [
      "\n",
      "当前章节\t輝夜大小姐想讓我告白 ~天才們的戀愛頭腦戰~漫畫_周刊172_輝夜大小姐想讓我告白 ~天才們的戀愛頭腦戰~漫畫在線閱讀</漫畫名></章節顯示名></漫畫名>  下载完毕\n"
     ]
    },
    {
     "data": {
      "application/vnd.jupyter.widget-view+json": {
       "model_id": "ffcbfe0fb30f4d9e98d5a927bc6e400f",
       "version_major": 2,
       "version_minor": 0
      },
      "text/plain": [
       "HBox(children=(FloatProgress(value=0.0, max=18.0), HTML(value='')))"
      ]
     },
     "metadata": {},
     "output_type": "display_data"
    },
    {
     "name": "stdout",
     "output_type": "stream",
     "text": [
      "\n",
      "当前章节\t輝夜大小姐想讓我告白 ~天才們的戀愛頭腦戰~漫畫_周刊171_輝夜大小姐想讓我告白 ~天才們的戀愛頭腦戰~漫畫在線閱讀</漫畫名></章節顯示名></漫畫名>  下载完毕\n"
     ]
    },
    {
     "data": {
      "application/vnd.jupyter.widget-view+json": {
       "model_id": "ff88c34b967e416e9d61c1e140d9e8c3",
       "version_major": 2,
       "version_minor": 0
      },
      "text/plain": [
       "HBox(children=(FloatProgress(value=0.0, max=18.0), HTML(value='')))"
      ]
     },
     "metadata": {},
     "output_type": "display_data"
    },
    {
     "name": "stdout",
     "output_type": "stream",
     "text": [
      "\n",
      "当前章节\t輝夜大小姐想讓我告白 ~天才們的戀愛頭腦戰~漫畫_周刊170_輝夜大小姐想讓我告白 ~天才們的戀愛頭腦戰~漫畫在線閱讀</漫畫名></章節顯示名></漫畫名>  下载完毕\n"
     ]
    },
    {
     "data": {
      "application/vnd.jupyter.widget-view+json": {
       "model_id": "fec238564171412592f74690834e9d9f",
       "version_major": 2,
       "version_minor": 0
      },
      "text/plain": [
       "HBox(children=(FloatProgress(value=0.0, max=18.0), HTML(value='')))"
      ]
     },
     "metadata": {},
     "output_type": "display_data"
    },
    {
     "name": "stdout",
     "output_type": "stream",
     "text": [
      "\n",
      "当前章节\t輝夜大小姐想讓我告白 ~天才們的戀愛頭腦戰~漫畫_周刊169_輝夜大小姐想讓我告白 ~天才們的戀愛頭腦戰~漫畫在線閱讀</漫畫名></章節顯示名></漫畫名>  下载完毕\n"
     ]
    },
    {
     "data": {
      "application/vnd.jupyter.widget-view+json": {
       "model_id": "3f957782929e4547a6d2c94becf44fc7",
       "version_major": 2,
       "version_minor": 0
      },
      "text/plain": [
       "HBox(children=(FloatProgress(value=0.0, max=18.0), HTML(value='')))"
      ]
     },
     "metadata": {},
     "output_type": "display_data"
    },
    {
     "name": "stdout",
     "output_type": "stream",
     "text": [
      "\n",
      "当前章节\t輝夜大小姐想讓我告白 ~天才們的戀愛頭腦戰~漫畫_周刊168_輝夜大小姐想讓我告白 ~天才們的戀愛頭腦戰~漫畫在線閱讀</漫畫名></章節顯示名></漫畫名>  下载完毕\n"
     ]
    },
    {
     "data": {
      "application/vnd.jupyter.widget-view+json": {
       "model_id": "8023f983fd6b4049a035d5f1db1e5649",
       "version_major": 2,
       "version_minor": 0
      },
      "text/plain": [
       "HBox(children=(FloatProgress(value=0.0, max=19.0), HTML(value='')))"
      ]
     },
     "metadata": {},
     "output_type": "display_data"
    },
    {
     "name": "stdout",
     "output_type": "stream",
     "text": [
      "\n",
      "当前章节\t輝夜大小姐想讓我告白 ~天才們的戀愛頭腦戰~漫畫_周刊167話_輝夜大小姐想讓我告白 ~天才們的戀愛頭腦戰~漫畫在線閱讀</漫畫名></章節顯示名></漫畫名>  下载完毕\n"
     ]
    },
    {
     "data": {
      "application/vnd.jupyter.widget-view+json": {
       "model_id": "32526b2c08a2428c9fcec4c8c7fdaf69",
       "version_major": 2,
       "version_minor": 0
      },
      "text/plain": [
       "HBox(children=(FloatProgress(value=0.0, max=18.0), HTML(value='')))"
      ]
     },
     "metadata": {},
     "output_type": "display_data"
    },
    {
     "name": "stdout",
     "output_type": "stream",
     "text": [
      "\n",
      "当前章节\t輝夜大小姐想讓我告白 ~天才們的戀愛頭腦戰~漫畫_周刊166話_輝夜大小姐想讓我告白 ~天才們的戀愛頭腦戰~漫畫在線閱讀</漫畫名></章節顯示名></漫畫名>  下载完毕\n"
     ]
    },
    {
     "data": {
      "application/vnd.jupyter.widget-view+json": {
       "model_id": "1109988f0f024137a89d0612e2c3226f",
       "version_major": 2,
       "version_minor": 0
      },
      "text/plain": [
       "HBox(children=(FloatProgress(value=0.0, max=20.0), HTML(value='')))"
      ]
     },
     "metadata": {},
     "output_type": "display_data"
    },
    {
     "name": "stdout",
     "output_type": "stream",
     "text": [
      "\n",
      "当前章节\t輝夜大小姐想讓我告白 ~天才們的戀愛頭腦戰~漫畫_周刊165_輝夜大小姐想讓我告白 ~天才們的戀愛頭腦戰~漫畫在線閱讀</漫畫名></章節顯示名></漫畫名>  下载完毕\n"
     ]
    },
    {
     "data": {
      "application/vnd.jupyter.widget-view+json": {
       "model_id": "aa84e61ad7874327a49ef74c3a30df7d",
       "version_major": 2,
       "version_minor": 0
      },
      "text/plain": [
       "HBox(children=(FloatProgress(value=0.0, max=22.0), HTML(value='')))"
      ]
     },
     "metadata": {},
     "output_type": "display_data"
    },
    {
     "name": "stdout",
     "output_type": "stream",
     "text": [
      "\n",
      "当前章节\t輝夜大小姐想讓我告白 ~天才們的戀愛頭腦戰~漫畫_彩色版02話_輝夜大小姐想讓我告白 ~天才們的戀愛頭腦戰~漫畫在線閱讀</漫畫名></章節顯示名></漫畫名>  下载完毕\n"
     ]
    },
    {
     "data": {
      "application/vnd.jupyter.widget-view+json": {
       "model_id": "3d6651042b9c429d88c15e83a4ed28a0",
       "version_major": 2,
       "version_minor": 0
      },
      "text/plain": [
       "HBox(children=(FloatProgress(value=0.0, max=7.0), HTML(value='')))"
      ]
     },
     "metadata": {},
     "output_type": "display_data"
    },
    {
     "name": "stdout",
     "output_type": "stream",
     "text": [
      "\n",
      "当前章节\t輝夜大小姐想讓我告白 ~天才們的戀愛頭腦戰~漫畫_番外篇_輝夜大小姐想讓我告白 ~天才們的戀愛頭腦戰~漫畫在線閱讀</漫畫名></章節顯示名></漫畫名>  下载完毕\n"
     ]
    },
    {
     "data": {
      "application/vnd.jupyter.widget-view+json": {
       "model_id": "4ddb29cb556f42d7805c33bbc3be7e68",
       "version_major": 2,
       "version_minor": 0
      },
      "text/plain": [
       "HBox(children=(FloatProgress(value=0.0, max=19.0), HTML(value='')))"
      ]
     },
     "metadata": {},
     "output_type": "display_data"
    },
    {
     "name": "stdout",
     "output_type": "stream",
     "text": [
      "\n",
      "当前章节\t輝夜大小姐想讓我告白 ~天才們的戀愛頭腦戰~漫畫_周刊163_輝夜大小姐想讓我告白 ~天才們的戀愛頭腦戰~漫畫在線閱讀</漫畫名></章節顯示名></漫畫名>  下载完毕\n"
     ]
    },
    {
     "data": {
      "application/vnd.jupyter.widget-view+json": {
       "model_id": "5e3866f321ec496b9813c81252728882",
       "version_major": 2,
       "version_minor": 0
      },
      "text/plain": [
       "HBox(children=(FloatProgress(value=0.0, max=19.0), HTML(value='')))"
      ]
     },
     "metadata": {},
     "output_type": "display_data"
    },
    {
     "name": "stdout",
     "output_type": "stream",
     "text": [
      "\n",
      "当前章节\t輝夜大小姐想讓我告白 ~天才們的戀愛頭腦戰~漫畫_周刊162_輝夜大小姐想讓我告白 ~天才們的戀愛頭腦戰~漫畫在線閱讀</漫畫名></章節顯示名></漫畫名>  下载完毕\n"
     ]
    },
    {
     "data": {
      "application/vnd.jupyter.widget-view+json": {
       "model_id": "71947d9089ea480aab2d9867887bfbd7",
       "version_major": 2,
       "version_minor": 0
      },
      "text/plain": [
       "HBox(children=(FloatProgress(value=0.0, max=21.0), HTML(value='')))"
      ]
     },
     "metadata": {},
     "output_type": "display_data"
    },
    {
     "name": "stdout",
     "output_type": "stream",
     "text": [
      "\n",
      "当前章节\t輝夜大小姐想讓我告白 ~天才們的戀愛頭腦戰~漫畫_周刊161_輝夜大小姐想讓我告白 ~天才們的戀愛頭腦戰~漫畫在線閱讀</漫畫名></章節顯示名></漫畫名>  下载完毕\n"
     ]
    },
    {
     "data": {
      "application/vnd.jupyter.widget-view+json": {
       "model_id": "d4754297a7d74615a8a4720ba3811a4f",
       "version_major": 2,
       "version_minor": 0
      },
      "text/plain": [
       "HBox(children=(FloatProgress(value=0.0, max=20.0), HTML(value='')))"
      ]
     },
     "metadata": {},
     "output_type": "display_data"
    },
    {
     "name": "stdout",
     "output_type": "stream",
     "text": [
      "\n",
      "当前章节\t輝夜大小姐想讓我告白 ~天才們的戀愛頭腦戰~漫畫_周刊160_輝夜大小姐想讓我告白 ~天才們的戀愛頭腦戰~漫畫在線閱讀</漫畫名></章節顯示名></漫畫名>  下载完毕\n"
     ]
    },
    {
     "data": {
      "application/vnd.jupyter.widget-view+json": {
       "model_id": "1863f452fc8f438ebadaa2fdb889ff77",
       "version_major": 2,
       "version_minor": 0
      },
      "text/plain": [
       "HBox(children=(FloatProgress(value=0.0, max=20.0), HTML(value='')))"
      ]
     },
     "metadata": {},
     "output_type": "display_data"
    },
    {
     "name": "stdout",
     "output_type": "stream",
     "text": [
      "\n",
      "当前章节\t輝夜大小姐想讓我告白 ~天才們的戀愛頭腦戰~漫畫_周刊159_輝夜大小姐想讓我告白 ~天才們的戀愛頭腦戰~漫畫在線閱讀</漫畫名></章節顯示名></漫畫名>  下载完毕\n"
     ]
    },
    {
     "data": {
      "application/vnd.jupyter.widget-view+json": {
       "model_id": "387089bb5c194a4f8f1d8f17b5b5a79b",
       "version_major": 2,
       "version_minor": 0
      },
      "text/plain": [
       "HBox(children=(FloatProgress(value=0.0, max=21.0), HTML(value='')))"
      ]
     },
     "metadata": {},
     "output_type": "display_data"
    },
    {
     "name": "stdout",
     "output_type": "stream",
     "text": [
      "\n",
      "当前章节\t輝夜大小姐想讓我告白 ~天才們的戀愛頭腦戰~漫畫_周刊158_輝夜大小姐想讓我告白 ~天才們的戀愛頭腦戰~漫畫在線閱讀</漫畫名></章節顯示名></漫畫名>  下载完毕\n"
     ]
    },
    {
     "data": {
      "application/vnd.jupyter.widget-view+json": {
       "model_id": "3440157145cd417c8783fe7e970c7a83",
       "version_major": 2,
       "version_minor": 0
      },
      "text/plain": [
       "HBox(children=(FloatProgress(value=0.0, max=19.0), HTML(value='')))"
      ]
     },
     "metadata": {},
     "output_type": "display_data"
    },
    {
     "name": "stdout",
     "output_type": "stream",
     "text": [
      "\n",
      "当前章节\t輝夜大小姐想讓我告白 ~天才們的戀愛頭腦戰~漫畫_周刊157_輝夜大小姐想讓我告白 ~天才們的戀愛頭腦戰~漫畫在線閱讀</漫畫名></章節顯示名></漫畫名>  下载完毕\n"
     ]
    },
    {
     "data": {
      "application/vnd.jupyter.widget-view+json": {
       "model_id": "b8c5cadd2216409d962d15fcd53bd4c5",
       "version_major": 2,
       "version_minor": 0
      },
      "text/plain": [
       "HBox(children=(FloatProgress(value=0.0, max=18.0), HTML(value='')))"
      ]
     },
     "metadata": {},
     "output_type": "display_data"
    },
    {
     "name": "stdout",
     "output_type": "stream",
     "text": [
      "\n",
      "当前章节\t輝夜大小姐想讓我告白 ~天才們的戀愛頭腦戰~漫畫_周刊156_輝夜大小姐想讓我告白 ~天才們的戀愛頭腦戰~漫畫在線閱讀</漫畫名></章節顯示名></漫畫名>  下载完毕\n"
     ]
    },
    {
     "data": {
      "application/vnd.jupyter.widget-view+json": {
       "model_id": "438590c2bddc4db098f82b6283b7173d",
       "version_major": 2,
       "version_minor": 0
      },
      "text/plain": [
       "HBox(children=(FloatProgress(value=0.0, max=20.0), HTML(value='')))"
      ]
     },
     "metadata": {},
     "output_type": "display_data"
    },
    {
     "name": "stdout",
     "output_type": "stream",
     "text": [
      "\n",
      "当前章节\t輝夜大小姐想讓我告白 ~天才們的戀愛頭腦戰~漫畫_周刊155_輝夜大小姐想讓我告白 ~天才們的戀愛頭腦戰~漫畫在線閱讀</漫畫名></章節顯示名></漫畫名>  下载完毕\n"
     ]
    },
    {
     "data": {
      "application/vnd.jupyter.widget-view+json": {
       "model_id": "e0651a612b654f8b9694feaabab195da",
       "version_major": 2,
       "version_minor": 0
      },
      "text/plain": [
       "HBox(children=(FloatProgress(value=0.0, max=25.0), HTML(value='')))"
      ]
     },
     "metadata": {},
     "output_type": "display_data"
    },
    {
     "name": "stdout",
     "output_type": "stream",
     "text": [
      "\n",
      "当前章节\t輝夜大小姐想讓我告白 ~天才們的戀愛頭腦戰~漫畫_彩色版01話_輝夜大小姐想讓我告白 ~天才們的戀愛頭腦戰~漫畫在線閱讀</漫畫名></章節顯示名></漫畫名>  下载完毕\n"
     ]
    },
    {
     "data": {
      "application/vnd.jupyter.widget-view+json": {
       "model_id": "3278f78404834cf49e2bbc49816dbd3b",
       "version_major": 2,
       "version_minor": 0
      },
      "text/plain": [
       "HBox(children=(FloatProgress(value=0.0, max=21.0), HTML(value='')))"
      ]
     },
     "metadata": {},
     "output_type": "display_data"
    },
    {
     "name": "stdout",
     "output_type": "stream",
     "text": [
      "\n",
      "当前章节\t輝夜大小姐想讓我告白 ~天才們的戀愛頭腦戰~漫畫_周刊154_輝夜大小姐想讓我告白 ~天才們的戀愛頭腦戰~漫畫在線閱讀</漫畫名></章節顯示名></漫畫名>  下载完毕\n"
     ]
    },
    {
     "data": {
      "application/vnd.jupyter.widget-view+json": {
       "model_id": "4d79e17c7ae2412c895ab3dd953a86eb",
       "version_major": 2,
       "version_minor": 0
      },
      "text/plain": [
       "HBox(children=(FloatProgress(value=0.0, max=19.0), HTML(value='')))"
      ]
     },
     "metadata": {},
     "output_type": "display_data"
    },
    {
     "name": "stdout",
     "output_type": "stream",
     "text": [
      "\n",
      "当前章节\t輝夜大小姐想讓我告白 ~天才們的戀愛頭腦戰~漫畫_周刊153_輝夜大小姐想讓我告白 ~天才們的戀愛頭腦戰~漫畫在線閱讀</漫畫名></章節顯示名></漫畫名>  下载完毕\n"
     ]
    },
    {
     "data": {
      "application/vnd.jupyter.widget-view+json": {
       "model_id": "260ceaf9061b49ec83d908cff1cacd68",
       "version_major": 2,
       "version_minor": 0
      },
      "text/plain": [
       "HBox(children=(FloatProgress(value=0.0, max=19.0), HTML(value='')))"
      ]
     },
     "metadata": {},
     "output_type": "display_data"
    },
    {
     "name": "stdout",
     "output_type": "stream",
     "text": [
      "\n",
      "当前章节\t輝夜大小姐想讓我告白 ~天才們的戀愛頭腦戰~漫畫_周刊152_輝夜大小姐想讓我告白 ~天才們的戀愛頭腦戰~漫畫在線閱讀</漫畫名></章節顯示名></漫畫名>  下载完毕\n"
     ]
    },
    {
     "data": {
      "application/vnd.jupyter.widget-view+json": {
       "model_id": "79c4f3dc968b4d02916d44cf63272357",
       "version_major": 2,
       "version_minor": 0
      },
      "text/plain": [
       "HBox(children=(FloatProgress(value=0.0, max=19.0), HTML(value='')))"
      ]
     },
     "metadata": {},
     "output_type": "display_data"
    },
    {
     "name": "stdout",
     "output_type": "stream",
     "text": [
      "\n",
      "当前章节\t輝夜大小姐想讓我告白 ~天才們的戀愛頭腦戰~漫畫_周刊151_輝夜大小姐想讓我告白 ~天才們的戀愛頭腦戰~漫畫在線閱讀</漫畫名></章節顯示名></漫畫名>  下载完毕\n"
     ]
    },
    {
     "data": {
      "application/vnd.jupyter.widget-view+json": {
       "model_id": "7b2fa9d00f394cf584f9ce58d5ea75a9",
       "version_major": 2,
       "version_minor": 0
      },
      "text/plain": [
       "HBox(children=(FloatProgress(value=0.0, max=18.0), HTML(value='')))"
      ]
     },
     "metadata": {},
     "output_type": "display_data"
    },
    {
     "name": "stdout",
     "output_type": "stream",
     "text": [
      "\n",
      "当前章节\t輝夜大小姐想讓我告白 ~天才們的戀愛頭腦戰~漫畫_周刊150_輝夜大小姐想讓我告白 ~天才們的戀愛頭腦戰~漫畫在線閱讀</漫畫名></章節顯示名></漫畫名>  下载完毕\n"
     ]
    },
    {
     "data": {
      "application/vnd.jupyter.widget-view+json": {
       "model_id": "50cc9d6113014df6ad0908d5aebc47aa",
       "version_major": 2,
       "version_minor": 0
      },
      "text/plain": [
       "HBox(children=(FloatProgress(value=0.0, max=18.0), HTML(value='')))"
      ]
     },
     "metadata": {},
     "output_type": "display_data"
    },
    {
     "name": "stdout",
     "output_type": "stream",
     "text": [
      "\n",
      "当前章节\t輝夜大小姐想讓我告白 ~天才們的戀愛頭腦戰~漫畫_周刊149_輝夜大小姐想讓我告白 ~天才們的戀愛頭腦戰~漫畫在線閱讀</漫畫名></章節顯示名></漫畫名>  下载完毕\n"
     ]
    },
    {
     "data": {
      "application/vnd.jupyter.widget-view+json": {
       "model_id": "906af5ea9775444a964c83f1bef69534",
       "version_major": 2,
       "version_minor": 0
      },
      "text/plain": [
       "HBox(children=(FloatProgress(value=0.0, max=18.0), HTML(value='')))"
      ]
     },
     "metadata": {},
     "output_type": "display_data"
    },
    {
     "name": "stdout",
     "output_type": "stream",
     "text": [
      "\n",
      "当前章节\t輝夜大小姐想讓我告白 ~天才們的戀愛頭腦戰~漫畫_周刊148_輝夜大小姐想讓我告白 ~天才們的戀愛頭腦戰~漫畫在線閱讀</漫畫名></章節顯示名></漫畫名>  下载完毕\n"
     ]
    },
    {
     "data": {
      "application/vnd.jupyter.widget-view+json": {
       "model_id": "3b5386e8ae8948329a4eb41272e05141",
       "version_major": 2,
       "version_minor": 0
      },
      "text/plain": [
       "HBox(children=(FloatProgress(value=0.0, max=19.0), HTML(value='')))"
      ]
     },
     "metadata": {},
     "output_type": "display_data"
    },
    {
     "name": "stdout",
     "output_type": "stream",
     "text": [
      "\n",
      "当前章节\t輝夜大小姐想讓我告白 ~天才們的戀愛頭腦戰~漫畫_周刊147_輝夜大小姐想讓我告白 ~天才們的戀愛頭腦戰~漫畫在線閱讀</漫畫名></章節顯示名></漫畫名>  下载完毕\n"
     ]
    },
    {
     "data": {
      "application/vnd.jupyter.widget-view+json": {
       "model_id": "0f987b9fd3d24adfb65449c6fb3d7e5f",
       "version_major": 2,
       "version_minor": 0
      },
      "text/plain": [
       "HBox(children=(FloatProgress(value=0.0, max=18.0), HTML(value='')))"
      ]
     },
     "metadata": {},
     "output_type": "display_data"
    },
    {
     "name": "stdout",
     "output_type": "stream",
     "text": [
      "\n",
      "当前章节\t輝夜大小姐想讓我告白 ~天才們的戀愛頭腦戰~漫畫_周刊146_輝夜大小姐想讓我告白 ~天才們的戀愛頭腦戰~漫畫在線閱讀</漫畫名></章節顯示名></漫畫名>  下载完毕\n"
     ]
    },
    {
     "data": {
      "application/vnd.jupyter.widget-view+json": {
       "model_id": "f812cd8870b04389b3ae3976114790c4",
       "version_major": 2,
       "version_minor": 0
      },
      "text/plain": [
       "HBox(children=(FloatProgress(value=0.0, max=19.0), HTML(value='')))"
      ]
     },
     "metadata": {},
     "output_type": "display_data"
    },
    {
     "name": "stdout",
     "output_type": "stream",
     "text": [
      "\n",
      "当前章节\t輝夜大小姐想讓我告白 ~天才們的戀愛頭腦戰~漫畫_周刊145_輝夜大小姐想讓我告白 ~天才們的戀愛頭腦戰~漫畫在線閱讀</漫畫名></章節顯示名></漫畫名>  下载完毕\n"
     ]
    },
    {
     "data": {
      "application/vnd.jupyter.widget-view+json": {
       "model_id": "283b961da7ea415eb1bd49f6df4cb9e2",
       "version_major": 2,
       "version_minor": 0
      },
      "text/plain": [
       "HBox(children=(FloatProgress(value=0.0, max=27.0), HTML(value='')))"
      ]
     },
     "metadata": {},
     "output_type": "display_data"
    },
    {
     "name": "stdout",
     "output_type": "stream",
     "text": [
      "\n",
      "当前章节\t輝夜大小姐想讓我告白 ~天才們的戀愛頭腦戰~漫畫_周刊144_輝夜大小姐想讓我告白 ~天才們的戀愛頭腦戰~漫畫在線閱讀</漫畫名></章節顯示名></漫畫名>  下载完毕\n"
     ]
    },
    {
     "data": {
      "application/vnd.jupyter.widget-view+json": {
       "model_id": "0fa51cc969624985bbf2ba522cd1ef8c",
       "version_major": 2,
       "version_minor": 0
      },
      "text/plain": [
       "HBox(children=(FloatProgress(value=0.0, max=18.0), HTML(value='')))"
      ]
     },
     "metadata": {},
     "output_type": "display_data"
    },
    {
     "name": "stdout",
     "output_type": "stream",
     "text": [
      "\n",
      "当前章节\t輝夜大小姐想讓我告白 ~天才們的戀愛頭腦戰~漫畫_周刊143_輝夜大小姐想讓我告白 ~天才們的戀愛頭腦戰~漫畫在線閱讀</漫畫名></章節顯示名></漫畫名>  下载完毕\n"
     ]
    },
    {
     "data": {
      "application/vnd.jupyter.widget-view+json": {
       "model_id": "e9911ca859a945ceaf1dda9dbf495c8c",
       "version_major": 2,
       "version_minor": 0
      },
      "text/plain": [
       "HBox(children=(FloatProgress(value=0.0, max=18.0), HTML(value='')))"
      ]
     },
     "metadata": {},
     "output_type": "display_data"
    },
    {
     "name": "stdout",
     "output_type": "stream",
     "text": [
      "\n",
      "当前章节\t輝夜大小姐想讓我告白 ~天才們的戀愛頭腦戰~漫畫_周刊142_輝夜大小姐想讓我告白 ~天才們的戀愛頭腦戰~漫畫在線閱讀</漫畫名></章節顯示名></漫畫名>  下载完毕\n"
     ]
    },
    {
     "data": {
      "application/vnd.jupyter.widget-view+json": {
       "model_id": "d57c99e3ca424e918871fe96bf676c36",
       "version_major": 2,
       "version_minor": 0
      },
      "text/plain": [
       "HBox(children=(FloatProgress(value=0.0, max=18.0), HTML(value='')))"
      ]
     },
     "metadata": {},
     "output_type": "display_data"
    },
    {
     "name": "stdout",
     "output_type": "stream",
     "text": [
      "\n",
      "当前章节\t輝夜大小姐想讓我告白 ~天才們的戀愛頭腦戰~漫畫_周刊141_輝夜大小姐想讓我告白 ~天才們的戀愛頭腦戰~漫畫在線閱讀</漫畫名></章節顯示名></漫畫名>  下载完毕\n"
     ]
    },
    {
     "data": {
      "application/vnd.jupyter.widget-view+json": {
       "model_id": "4f6601fce16046ae83e7147080be30b2",
       "version_major": 2,
       "version_minor": 0
      },
      "text/plain": [
       "HBox(children=(FloatProgress(value=0.0, max=21.0), HTML(value='')))"
      ]
     },
     "metadata": {},
     "output_type": "display_data"
    },
    {
     "name": "stdout",
     "output_type": "stream",
     "text": [
      "\n",
      "当前章节\t輝夜大小姐想讓我告白 ~天才們的戀愛頭腦戰~漫畫_周刊140_輝夜大小姐想讓我告白 ~天才們的戀愛頭腦戰~漫畫在線閱讀</漫畫名></章節顯示名></漫畫名>  下载完毕\n"
     ]
    },
    {
     "data": {
      "application/vnd.jupyter.widget-view+json": {
       "model_id": "2d4ad7de4fcc4cb886ef2021795f9596",
       "version_major": 2,
       "version_minor": 0
      },
      "text/plain": [
       "HBox(children=(FloatProgress(value=0.0, max=21.0), HTML(value='')))"
      ]
     },
     "metadata": {},
     "output_type": "display_data"
    },
    {
     "name": "stdout",
     "output_type": "stream",
     "text": [
      "\n",
      "当前章节\t輝夜大小姐想讓我告白 ~天才們的戀愛頭腦戰~漫畫_周刊139_輝夜大小姐想讓我告白 ~天才們的戀愛頭腦戰~漫畫在線閱讀</漫畫名></章節顯示名></漫畫名>  下载完毕\n"
     ]
    },
    {
     "data": {
      "application/vnd.jupyter.widget-view+json": {
       "model_id": "a97df70be2f94c2cb31e8ff8e995d25f",
       "version_major": 2,
       "version_minor": 0
      },
      "text/plain": [
       "HBox(children=(FloatProgress(value=0.0, max=22.0), HTML(value='')))"
      ]
     },
     "metadata": {},
     "output_type": "display_data"
    },
    {
     "name": "stdout",
     "output_type": "stream",
     "text": [
      "\n",
      "当前章节\t輝夜大小姐想讓我告白 ~天才們的戀愛頭腦戰~漫畫_周刊138_輝夜大小姐想讓我告白 ~天才們的戀愛頭腦戰~漫畫在線閱讀</漫畫名></章節顯示名></漫畫名>  下载完毕\n"
     ]
    },
    {
     "data": {
      "application/vnd.jupyter.widget-view+json": {
       "model_id": "5b609aa6d0f341f19cb6853adfbae74d",
       "version_major": 2,
       "version_minor": 0
      },
      "text/plain": [
       "HBox(children=(FloatProgress(value=0.0, max=19.0), HTML(value='')))"
      ]
     },
     "metadata": {},
     "output_type": "display_data"
    },
    {
     "name": "stdout",
     "output_type": "stream",
     "text": [
      "\n",
      "当前章节\t輝夜大小姐想讓我告白 ~天才們的戀愛頭腦戰~漫畫_周刊137_輝夜大小姐想讓我告白 ~天才們的戀愛頭腦戰~漫畫在線閱讀</漫畫名></章節顯示名></漫畫名>  下载完毕\n"
     ]
    },
    {
     "data": {
      "application/vnd.jupyter.widget-view+json": {
       "model_id": "9f55208874c54b458656732acf1e86d3",
       "version_major": 2,
       "version_minor": 0
      },
      "text/plain": [
       "HBox(children=(FloatProgress(value=0.0, max=20.0), HTML(value='')))"
      ]
     },
     "metadata": {},
     "output_type": "display_data"
    },
    {
     "name": "stdout",
     "output_type": "stream",
     "text": [
      "\n",
      "当前章节\t輝夜大小姐想讓我告白 ~天才們的戀愛頭腦戰~漫畫_周刊136_輝夜大小姐想讓我告白 ~天才們的戀愛頭腦戰~漫畫在線閱讀</漫畫名></章節顯示名></漫畫名>  下载完毕\n"
     ]
    },
    {
     "data": {
      "application/vnd.jupyter.widget-view+json": {
       "model_id": "b8892cb404f840d094453d5309ad25a9",
       "version_major": 2,
       "version_minor": 0
      },
      "text/plain": [
       "HBox(children=(FloatProgress(value=0.0, max=19.0), HTML(value='')))"
      ]
     },
     "metadata": {},
     "output_type": "display_data"
    },
    {
     "name": "stdout",
     "output_type": "stream",
     "text": [
      "\n",
      "当前章节\t輝夜大小姐想讓我告白 ~天才們的戀愛頭腦戰~漫畫_周刊135_輝夜大小姐想讓我告白 ~天才們的戀愛頭腦戰~漫畫在線閱讀</漫畫名></章節顯示名></漫畫名>  下载完毕\n"
     ]
    },
    {
     "data": {
      "application/vnd.jupyter.widget-view+json": {
       "model_id": "1520ab23620c46b1b5b60c1833494401",
       "version_major": 2,
       "version_minor": 0
      },
      "text/plain": [
       "HBox(children=(FloatProgress(value=0.0, max=18.0), HTML(value='')))"
      ]
     },
     "metadata": {},
     "output_type": "display_data"
    },
    {
     "name": "stdout",
     "output_type": "stream",
     "text": [
      "\n",
      "当前章节\t輝夜大小姐想讓我告白 ~天才們的戀愛頭腦戰~漫畫_周刊134_輝夜大小姐想讓我告白 ~天才們的戀愛頭腦戰~漫畫在線閱讀</漫畫名></章節顯示名></漫畫名>  下载完毕\n"
     ]
    },
    {
     "data": {
      "application/vnd.jupyter.widget-view+json": {
       "model_id": "689e0dc5b34b44c7be573bb921457f6b",
       "version_major": 2,
       "version_minor": 0
      },
      "text/plain": [
       "HBox(children=(FloatProgress(value=0.0, max=19.0), HTML(value='')))"
      ]
     },
     "metadata": {},
     "output_type": "display_data"
    },
    {
     "name": "stdout",
     "output_type": "stream",
     "text": [
      "\n",
      "当前章节\t輝夜大小姐想讓我告白 ~天才們的戀愛頭腦戰~漫畫_周刊133_輝夜大小姐想讓我告白 ~天才們的戀愛頭腦戰~漫畫在線閱讀</漫畫名></章節顯示名></漫畫名>  下载完毕\n"
     ]
    },
    {
     "data": {
      "application/vnd.jupyter.widget-view+json": {
       "model_id": "4206e2573ee54e30a0005caf82ce9a1d",
       "version_major": 2,
       "version_minor": 0
      },
      "text/plain": [
       "HBox(children=(FloatProgress(value=0.0, max=21.0), HTML(value='')))"
      ]
     },
     "metadata": {},
     "output_type": "display_data"
    },
    {
     "name": "stdout",
     "output_type": "stream",
     "text": [
      "\n",
      "当前章节\t輝夜大小姐想讓我告白 ~天才們的戀愛頭腦戰~漫畫_周刊132_輝夜大小姐想讓我告白 ~天才們的戀愛頭腦戰~漫畫在線閱讀</漫畫名></章節顯示名></漫畫名>  下载完毕\n"
     ]
    },
    {
     "data": {
      "application/vnd.jupyter.widget-view+json": {
       "model_id": "cda43b89b97e4e959e398a856ab4f331",
       "version_major": 2,
       "version_minor": 0
      },
      "text/plain": [
       "HBox(children=(FloatProgress(value=0.0, max=19.0), HTML(value='')))"
      ]
     },
     "metadata": {},
     "output_type": "display_data"
    },
    {
     "name": "stdout",
     "output_type": "stream",
     "text": [
      "\n",
      "当前章节\t輝夜大小姐想讓我告白 ~天才們的戀愛頭腦戰~漫畫_周刊131_輝夜大小姐想讓我告白 ~天才們的戀愛頭腦戰~漫畫在線閱讀</漫畫名></章節顯示名></漫畫名>  下载完毕\n"
     ]
    },
    {
     "data": {
      "application/vnd.jupyter.widget-view+json": {
       "model_id": "81c8036df7df45718c288932bf244d34",
       "version_major": 2,
       "version_minor": 0
      },
      "text/plain": [
       "HBox(children=(FloatProgress(value=0.0, max=20.0), HTML(value='')))"
      ]
     },
     "metadata": {},
     "output_type": "display_data"
    },
    {
     "name": "stdout",
     "output_type": "stream",
     "text": [
      "\n",
      "当前章节\t輝夜大小姐想讓我告白 ~天才們的戀愛頭腦戰~漫畫_周刊130_輝夜大小姐想讓我告白 ~天才們的戀愛頭腦戰~漫畫在線閱讀</漫畫名></章節顯示名></漫畫名>  下载完毕\n"
     ]
    },
    {
     "data": {
      "application/vnd.jupyter.widget-view+json": {
       "model_id": "197cef36b8064445a3928ce1802f1e8e",
       "version_major": 2,
       "version_minor": 0
      },
      "text/plain": [
       "HBox(children=(FloatProgress(value=0.0, max=19.0), HTML(value='')))"
      ]
     },
     "metadata": {},
     "output_type": "display_data"
    },
    {
     "name": "stdout",
     "output_type": "stream",
     "text": [
      "\n",
      "当前章节\t輝夜大小姐想讓我告白 ~天才們的戀愛頭腦戰~漫畫_周刊129_輝夜大小姐想讓我告白 ~天才們的戀愛頭腦戰~漫畫在線閱讀</漫畫名></章節顯示名></漫畫名>  下载完毕\n"
     ]
    },
    {
     "data": {
      "application/vnd.jupyter.widget-view+json": {
       "model_id": "5e73bbdffc464f58ba5f9a55c5b11987",
       "version_major": 2,
       "version_minor": 0
      },
      "text/plain": [
       "HBox(children=(FloatProgress(value=0.0, max=19.0), HTML(value='')))"
      ]
     },
     "metadata": {},
     "output_type": "display_data"
    },
    {
     "name": "stdout",
     "output_type": "stream",
     "text": [
      "\n",
      "当前章节\t輝夜大小姐想讓我告白 ~天才們的戀愛頭腦戰~漫畫_周刊128_輝夜大小姐想讓我告白 ~天才們的戀愛頭腦戰~漫畫在線閱讀</漫畫名></章節顯示名></漫畫名>  下载完毕\n"
     ]
    },
    {
     "data": {
      "application/vnd.jupyter.widget-view+json": {
       "model_id": "1f9f206a4f984f0ba4f69757285d0751",
       "version_major": 2,
       "version_minor": 0
      },
      "text/plain": [
       "HBox(children=(FloatProgress(value=0.0, max=19.0), HTML(value='')))"
      ]
     },
     "metadata": {},
     "output_type": "display_data"
    },
    {
     "name": "stdout",
     "output_type": "stream",
     "text": [
      "\n",
      "当前章节\t輝夜大小姐想讓我告白 ~天才們的戀愛頭腦戰~漫畫_周刊127_輝夜大小姐想讓我告白 ~天才們的戀愛頭腦戰~漫畫在線閱讀</漫畫名></章節顯示名></漫畫名>  下载完毕\n"
     ]
    },
    {
     "data": {
      "application/vnd.jupyter.widget-view+json": {
       "model_id": "12d480177ab14e5b89657f1da67243db",
       "version_major": 2,
       "version_minor": 0
      },
      "text/plain": [
       "HBox(children=(FloatProgress(value=0.0, max=22.0), HTML(value='')))"
      ]
     },
     "metadata": {},
     "output_type": "display_data"
    },
    {
     "name": "stdout",
     "output_type": "stream",
     "text": [
      "\n",
      "当前章节\t輝夜大小姐想讓我告白 ~天才們的戀愛頭腦戰~漫畫_周刊126_輝夜大小姐想讓我告白 ~天才們的戀愛頭腦戰~漫畫在線閱讀</漫畫名></章節顯示名></漫畫名>  下载完毕\n"
     ]
    },
    {
     "data": {
      "application/vnd.jupyter.widget-view+json": {
       "model_id": "a30a30f4e5014589bec82fb6cb8c7c30",
       "version_major": 2,
       "version_minor": 0
      },
      "text/plain": [
       "HBox(children=(FloatProgress(value=0.0, max=20.0), HTML(value='')))"
      ]
     },
     "metadata": {},
     "output_type": "display_data"
    },
    {
     "name": "stdout",
     "output_type": "stream",
     "text": [
      "\n",
      "当前章节\t輝夜大小姐想讓我告白 ~天才們的戀愛頭腦戰~漫畫_周刊125_輝夜大小姐想讓我告白 ~天才們的戀愛頭腦戰~漫畫在線閱讀</漫畫名></章節顯示名></漫畫名>  下载完毕\n"
     ]
    },
    {
     "data": {
      "application/vnd.jupyter.widget-view+json": {
       "model_id": "661358cff5334341adbc33da06e013e9",
       "version_major": 2,
       "version_minor": 0
      },
      "text/plain": [
       "HBox(children=(FloatProgress(value=0.0, max=19.0), HTML(value='')))"
      ]
     },
     "metadata": {},
     "output_type": "display_data"
    },
    {
     "name": "stdout",
     "output_type": "stream",
     "text": [
      "\n",
      "当前章节\t輝夜大小姐想讓我告白 ~天才們的戀愛頭腦戰~漫畫_周刊124_輝夜大小姐想讓我告白 ~天才們的戀愛頭腦戰~漫畫在線閱讀</漫畫名></章節顯示名></漫畫名>  下载完毕\n"
     ]
    },
    {
     "data": {
      "application/vnd.jupyter.widget-view+json": {
       "model_id": "be019743e70b40efb080a640344bc553",
       "version_major": 2,
       "version_minor": 0
      },
      "text/plain": [
       "HBox(children=(FloatProgress(value=0.0, max=19.0), HTML(value='')))"
      ]
     },
     "metadata": {},
     "output_type": "display_data"
    },
    {
     "name": "stdout",
     "output_type": "stream",
     "text": [
      "\n",
      "当前章节\t輝夜大小姐想讓我告白 ~天才們的戀愛頭腦戰~漫畫_周刊123_輝夜大小姐想讓我告白 ~天才們的戀愛頭腦戰~漫畫在線閱讀</漫畫名></章節顯示名></漫畫名>  下载完毕\n"
     ]
    },
    {
     "data": {
      "application/vnd.jupyter.widget-view+json": {
       "model_id": "55de566d944c423bb841bdb36299cbb6",
       "version_major": 2,
       "version_minor": 0
      },
      "text/plain": [
       "HBox(children=(FloatProgress(value=0.0, max=21.0), HTML(value='')))"
      ]
     },
     "metadata": {},
     "output_type": "display_data"
    },
    {
     "name": "stdout",
     "output_type": "stream",
     "text": [
      "\n",
      "当前章节\t輝夜大小姐想讓我告白 ~天才們的戀愛頭腦戰~漫畫_周刊122_輝夜大小姐想讓我告白 ~天才們的戀愛頭腦戰~漫畫在線閱讀</漫畫名></章節顯示名></漫畫名>  下载完毕\n"
     ]
    },
    {
     "data": {
      "application/vnd.jupyter.widget-view+json": {
       "model_id": "5096177773b1475e8e31035897513dda",
       "version_major": 2,
       "version_minor": 0
      },
      "text/plain": [
       "HBox(children=(FloatProgress(value=0.0, max=19.0), HTML(value='')))"
      ]
     },
     "metadata": {},
     "output_type": "display_data"
    },
    {
     "name": "stdout",
     "output_type": "stream",
     "text": [
      "\n",
      "当前章节\t輝夜大小姐想讓我告白 ~天才們的戀愛頭腦戰~漫畫_周刊121話_輝夜大小姐想讓我告白 ~天才們的戀愛頭腦戰~漫畫在線閱讀</漫畫名></章節顯示名></漫畫名>  下载完毕\n"
     ]
    },
    {
     "data": {
      "application/vnd.jupyter.widget-view+json": {
       "model_id": "8dc1b0a871db4dccaf94b3e3b866ccbe",
       "version_major": 2,
       "version_minor": 0
      },
      "text/plain": [
       "HBox(children=(FloatProgress(value=0.0, max=37.0), HTML(value='')))"
      ]
     },
     "metadata": {},
     "output_type": "display_data"
    },
    {
     "name": "stdout",
     "output_type": "stream",
     "text": [
      "\n",
      "当前章节\t輝夜大小姐想讓我告白 ~天才們的戀愛頭腦戰~漫畫_周刊120話_輝夜大小姐想讓我告白 ~天才們的戀愛頭腦戰~漫畫在線閱讀</漫畫名></章節顯示名></漫畫名>  下载完毕\n"
     ]
    },
    {
     "data": {
      "application/vnd.jupyter.widget-view+json": {
       "model_id": "87cd1dab48df4fb196626db517953730",
       "version_major": 2,
       "version_minor": 0
      },
      "text/plain": [
       "HBox(children=(FloatProgress(value=0.0, max=19.0), HTML(value='')))"
      ]
     },
     "metadata": {},
     "output_type": "display_data"
    },
    {
     "name": "stdout",
     "output_type": "stream",
     "text": [
      "\n",
      "当前章节\t輝夜大小姐想讓我告白 ~天才們的戀愛頭腦戰~漫畫_周刊119話_輝夜大小姐想讓我告白 ~天才們的戀愛頭腦戰~漫畫在線閱讀</漫畫名></章節顯示名></漫畫名>  下载完毕\n"
     ]
    },
    {
     "data": {
      "application/vnd.jupyter.widget-view+json": {
       "model_id": "3f1411dee3874dd3b6e80ee241b05eeb",
       "version_major": 2,
       "version_minor": 0
      },
      "text/plain": [
       "HBox(children=(FloatProgress(value=0.0, max=19.0), HTML(value='')))"
      ]
     },
     "metadata": {},
     "output_type": "display_data"
    },
    {
     "name": "stdout",
     "output_type": "stream",
     "text": [
      "\n",
      "当前章节\t輝夜大小姐想讓我告白 ~天才們的戀愛頭腦戰~漫畫_周刊118_輝夜大小姐想讓我告白 ~天才們的戀愛頭腦戰~漫畫在線閱讀</漫畫名></章節顯示名></漫畫名>  下载完毕\n"
     ]
    },
    {
     "data": {
      "application/vnd.jupyter.widget-view+json": {
       "model_id": "19eac30b404f4094b702f2154e38b8cf",
       "version_major": 2,
       "version_minor": 0
      },
      "text/plain": [
       "HBox(children=(FloatProgress(value=0.0, max=19.0), HTML(value='')))"
      ]
     },
     "metadata": {},
     "output_type": "display_data"
    },
    {
     "name": "stdout",
     "output_type": "stream",
     "text": [
      "\n",
      "当前章节\t輝夜大小姐想讓我告白 ~天才們的戀愛頭腦戰~漫畫_周刊117話_輝夜大小姐想讓我告白 ~天才們的戀愛頭腦戰~漫畫在線閱讀</漫畫名></章節顯示名></漫畫名>  下载完毕\n"
     ]
    },
    {
     "data": {
      "application/vnd.jupyter.widget-view+json": {
       "model_id": "ce577e0295bb4fb69926dedcb7e07cba",
       "version_major": 2,
       "version_minor": 0
      },
      "text/plain": [
       "HBox(children=(FloatProgress(value=0.0, max=19.0), HTML(value='')))"
      ]
     },
     "metadata": {},
     "output_type": "display_data"
    },
    {
     "name": "stdout",
     "output_type": "stream",
     "text": [
      "\n",
      "当前章节\t輝夜大小姐想讓我告白 ~天才們的戀愛頭腦戰~漫畫_周刊116話_輝夜大小姐想讓我告白 ~天才們的戀愛頭腦戰~漫畫在線閱讀</漫畫名></章節顯示名></漫畫名>  下载完毕\n"
     ]
    },
    {
     "data": {
      "application/vnd.jupyter.widget-view+json": {
       "model_id": "68d009253bcf4db299e1f953577fda40",
       "version_major": 2,
       "version_minor": 0
      },
      "text/plain": [
       "HBox(children=(FloatProgress(value=0.0, max=19.0), HTML(value='')))"
      ]
     },
     "metadata": {},
     "output_type": "display_data"
    },
    {
     "name": "stdout",
     "output_type": "stream",
     "text": [
      "\n",
      "当前章节\t輝夜大小姐想讓我告白 ~天才們的戀愛頭腦戰~漫畫_周刊115話_輝夜大小姐想讓我告白 ~天才們的戀愛頭腦戰~漫畫在線閱讀</漫畫名></章節顯示名></漫畫名>  下载完毕\n"
     ]
    },
    {
     "data": {
      "application/vnd.jupyter.widget-view+json": {
       "model_id": "f7368124faeb4a5ea975fba7a99a00f8",
       "version_major": 2,
       "version_minor": 0
      },
      "text/plain": [
       "HBox(children=(FloatProgress(value=0.0, max=19.0), HTML(value='')))"
      ]
     },
     "metadata": {},
     "output_type": "display_data"
    },
    {
     "name": "stdout",
     "output_type": "stream",
     "text": [
      "\n",
      "当前章节\t輝夜大小姐想讓我告白 ~天才們的戀愛頭腦戰~漫畫_周刊114話_輝夜大小姐想讓我告白 ~天才們的戀愛頭腦戰~漫畫在線閱讀</漫畫名></章節顯示名></漫畫名>  下载完毕\n"
     ]
    },
    {
     "data": {
      "application/vnd.jupyter.widget-view+json": {
       "model_id": "579096080950407db6bb2483bcdccda2",
       "version_major": 2,
       "version_minor": 0
      },
      "text/plain": [
       "HBox(children=(FloatProgress(value=0.0, max=19.0), HTML(value='')))"
      ]
     },
     "metadata": {},
     "output_type": "display_data"
    },
    {
     "name": "stdout",
     "output_type": "stream",
     "text": [
      "\n",
      "当前章节\t輝夜大小姐想讓我告白 ~天才們的戀愛頭腦戰~漫畫_周刊113_輝夜大小姐想讓我告白 ~天才們的戀愛頭腦戰~漫畫在線閱讀</漫畫名></章節顯示名></漫畫名>  下载完毕\n"
     ]
    },
    {
     "data": {
      "application/vnd.jupyter.widget-view+json": {
       "model_id": "d9a2b067f63940ab97c380c42ecde1f4",
       "version_major": 2,
       "version_minor": 0
      },
      "text/plain": [
       "HBox(children=(FloatProgress(value=0.0, max=19.0), HTML(value='')))"
      ]
     },
     "metadata": {},
     "output_type": "display_data"
    },
    {
     "name": "stdout",
     "output_type": "stream",
     "text": [
      "\n",
      "当前章节\t輝夜大小姐想讓我告白 ~天才們的戀愛頭腦戰~漫畫_周刊112_輝夜大小姐想讓我告白 ~天才們的戀愛頭腦戰~漫畫在線閱讀</漫畫名></章節顯示名></漫畫名>  下载完毕\n"
     ]
    },
    {
     "data": {
      "application/vnd.jupyter.widget-view+json": {
       "model_id": "c09b1788eee247b0833abeed5ebf7bd7",
       "version_major": 2,
       "version_minor": 0
      },
      "text/plain": [
       "HBox(children=(FloatProgress(value=0.0, max=20.0), HTML(value='')))"
      ]
     },
     "metadata": {},
     "output_type": "display_data"
    },
    {
     "name": "stdout",
     "output_type": "stream",
     "text": [
      "\n",
      "当前章节\t輝夜大小姐想讓我告白 ~天才們的戀愛頭腦戰~漫畫_周刊111話 _輝夜大小姐想讓我告白 ~天才們的戀愛頭腦戰~漫畫在線閱讀</漫畫名></章節顯示名></漫畫名>  下载完毕\n"
     ]
    },
    {
     "data": {
      "application/vnd.jupyter.widget-view+json": {
       "model_id": "cbef3375832c410aa39b10a53e40fcaa",
       "version_major": 2,
       "version_minor": 0
      },
      "text/plain": [
       "HBox(children=(FloatProgress(value=0.0, max=19.0), HTML(value='')))"
      ]
     },
     "metadata": {},
     "output_type": "display_data"
    },
    {
     "name": "stdout",
     "output_type": "stream",
     "text": [
      "\n",
      "当前章节\t輝夜大小姐想讓我告白 ~天才們的戀愛頭腦戰~漫畫_周刊110話 _輝夜大小姐想讓我告白 ~天才們的戀愛頭腦戰~漫畫在線閱讀</漫畫名></章節顯示名></漫畫名>  下载完毕\n"
     ]
    },
    {
     "data": {
      "application/vnd.jupyter.widget-view+json": {
       "model_id": "147edd673a3c487eaa6d9d438647db76",
       "version_major": 2,
       "version_minor": 0
      },
      "text/plain": [
       "HBox(children=(FloatProgress(value=0.0, max=19.0), HTML(value='')))"
      ]
     },
     "metadata": {},
     "output_type": "display_data"
    },
    {
     "name": "stdout",
     "output_type": "stream",
     "text": [
      "\n",
      "当前章节\t輝夜大小姐想讓我告白 ~天才們的戀愛頭腦戰~漫畫_周刊109話 _輝夜大小姐想讓我告白 ~天才們的戀愛頭腦戰~漫畫在線閱讀</漫畫名></章節顯示名></漫畫名>  下载完毕\n"
     ]
    },
    {
     "data": {
      "application/vnd.jupyter.widget-view+json": {
       "model_id": "4306840769234182bbc9ce63d7aca948",
       "version_major": 2,
       "version_minor": 0
      },
      "text/plain": [
       "HBox(children=(FloatProgress(value=0.0, max=19.0), HTML(value='')))"
      ]
     },
     "metadata": {},
     "output_type": "display_data"
    },
    {
     "name": "stdout",
     "output_type": "stream",
     "text": [
      "\n",
      "当前章节\t輝夜大小姐想讓我告白 ~天才們的戀愛頭腦戰~漫畫_周刊108話_輝夜大小姐想讓我告白 ~天才們的戀愛頭腦戰~漫畫在線閱讀</漫畫名></章節顯示名></漫畫名>  下载完毕\n"
     ]
    },
    {
     "data": {
      "application/vnd.jupyter.widget-view+json": {
       "model_id": "e9ce2d8a11d849f2a3273997c10cc5e7",
       "version_major": 2,
       "version_minor": 0
      },
      "text/plain": [
       "HBox(children=(FloatProgress(value=0.0, max=10.0), HTML(value='')))"
      ]
     },
     "metadata": {},
     "output_type": "display_data"
    },
    {
     "name": "stdout",
     "output_type": "stream",
     "text": [
      "\n",
      "当前章节\t輝夜大小姐想讓我告白 ~天才們的戀愛頭腦戰~漫畫_YJ GOLD Vol.2 特別篇_輝夜大小姐想讓我告白 ~天才們的戀愛頭腦戰~漫畫在線閱讀</漫畫名></章節顯示名></漫畫名>  下载完毕\n"
     ]
    },
    {
     "data": {
      "application/vnd.jupyter.widget-view+json": {
       "model_id": "6bf6faef71464bf4b90e5333f0b8046d",
       "version_major": 2,
       "version_minor": 0
      },
      "text/plain": [
       "HBox(children=(FloatProgress(value=0.0, max=19.0), HTML(value='')))"
      ]
     },
     "metadata": {},
     "output_type": "display_data"
    },
    {
     "name": "stdout",
     "output_type": "stream",
     "text": [
      "\n",
      "当前章节\t輝夜大小姐想讓我告白 ~天才們的戀愛頭腦戰~漫畫_周刊107話_輝夜大小姐想讓我告白 ~天才們的戀愛頭腦戰~漫畫在線閱讀</漫畫名></章節顯示名></漫畫名>  下载完毕\n"
     ]
    },
    {
     "data": {
      "application/vnd.jupyter.widget-view+json": {
       "model_id": "fab325152d4c4d5d8f0af4b36d85e778",
       "version_major": 2,
       "version_minor": 0
      },
      "text/plain": [
       "HBox(children=(FloatProgress(value=0.0, max=19.0), HTML(value='')))"
      ]
     },
     "metadata": {},
     "output_type": "display_data"
    },
    {
     "name": "stdout",
     "output_type": "stream",
     "text": [
      "\n",
      "当前章节\t輝夜大小姐想讓我告白 ~天才們的戀愛頭腦戰~漫畫_周刊106話_輝夜大小姐想讓我告白 ~天才們的戀愛頭腦戰~漫畫在線閱讀</漫畫名></章節顯示名></漫畫名>  下载完毕\n"
     ]
    },
    {
     "data": {
      "application/vnd.jupyter.widget-view+json": {
       "model_id": "7a31bece26cc4a5b8074e185c8106774",
       "version_major": 2,
       "version_minor": 0
      },
      "text/plain": [
       "HBox(children=(FloatProgress(value=0.0, max=19.0), HTML(value='')))"
      ]
     },
     "metadata": {},
     "output_type": "display_data"
    },
    {
     "name": "stdout",
     "output_type": "stream",
     "text": [
      "\n",
      "当前章节\t輝夜大小姐想讓我告白 ~天才們的戀愛頭腦戰~漫畫_周刊版105話_輝夜大小姐想讓我告白 ~天才們的戀愛頭腦戰~漫畫在線閱讀</漫畫名></章節顯示名></漫畫名>  下载完毕\n"
     ]
    },
    {
     "data": {
      "application/vnd.jupyter.widget-view+json": {
       "model_id": "c57767d246bd44cb949eee7f598abd34",
       "version_major": 2,
       "version_minor": 0
      },
      "text/plain": [
       "HBox(children=(FloatProgress(value=0.0, max=19.0), HTML(value='')))"
      ]
     },
     "metadata": {},
     "output_type": "display_data"
    },
    {
     "name": "stdout",
     "output_type": "stream",
     "text": [
      "\n",
      "当前章节\t輝夜大小姐想讓我告白 ~天才們的戀愛頭腦戰~漫畫_周刊版104話_輝夜大小姐想讓我告白 ~天才們的戀愛頭腦戰~漫畫在線閱讀</漫畫名></章節顯示名></漫畫名>  下载完毕\n"
     ]
    },
    {
     "data": {
      "application/vnd.jupyter.widget-view+json": {
       "model_id": "e439d66300b04b5ebdded08d970d706c",
       "version_major": 2,
       "version_minor": 0
      },
      "text/plain": [
       "HBox(children=(FloatProgress(value=0.0, max=19.0), HTML(value='')))"
      ]
     },
     "metadata": {},
     "output_type": "display_data"
    },
    {
     "name": "stdout",
     "output_type": "stream",
     "text": [
      "\n",
      "当前章节\t輝夜大小姐想讓我告白 ~天才們的戀愛頭腦戰~漫畫_周刊版103話_輝夜大小姐想讓我告白 ~天才們的戀愛頭腦戰~漫畫在線閱讀</漫畫名></章節顯示名></漫畫名>  下载完毕\n"
     ]
    },
    {
     "data": {
      "application/vnd.jupyter.widget-view+json": {
       "model_id": "4bc14d3e7b2d410ab079e487a52e8b37",
       "version_major": 2,
       "version_minor": 0
      },
      "text/plain": [
       "HBox(children=(FloatProgress(value=0.0, max=19.0), HTML(value='')))"
      ]
     },
     "metadata": {},
     "output_type": "display_data"
    },
    {
     "name": "stdout",
     "output_type": "stream",
     "text": [
      "\n",
      "当前章节\t輝夜大小姐想讓我告白 ~天才們的戀愛頭腦戰~漫畫_周刊版102話_輝夜大小姐想讓我告白 ~天才們的戀愛頭腦戰~漫畫在線閱讀</漫畫名></章節顯示名></漫畫名>  下载完毕\n"
     ]
    },
    {
     "data": {
      "application/vnd.jupyter.widget-view+json": {
       "model_id": "d803fb35f9904e95ad482bad6627b68d",
       "version_major": 2,
       "version_minor": 0
      },
      "text/plain": [
       "HBox(children=(FloatProgress(value=0.0, max=20.0), HTML(value='')))"
      ]
     },
     "metadata": {},
     "output_type": "display_data"
    },
    {
     "name": "stdout",
     "output_type": "stream",
     "text": [
      "\n",
      "当前章节\t輝夜大小姐想讓我告白 ~天才們的戀愛頭腦戰~漫畫_周刊版101話_輝夜大小姐想讓我告白 ~天才們的戀愛頭腦戰~漫畫在線閱讀</漫畫名></章節顯示名></漫畫名>  下载完毕\n"
     ]
    },
    {
     "data": {
      "application/vnd.jupyter.widget-view+json": {
       "model_id": "80c847cd34384db3909ac6c467da58f4",
       "version_major": 2,
       "version_minor": 0
      },
      "text/plain": [
       "HBox(children=(FloatProgress(value=0.0, max=22.0), HTML(value='')))"
      ]
     },
     "metadata": {},
     "output_type": "display_data"
    },
    {
     "name": "stdout",
     "output_type": "stream",
     "text": [
      "\n",
      "当前章节\t輝夜大小姐想讓我告白 ~天才們的戀愛頭腦戰~漫畫_周刊版100話_輝夜大小姐想讓我告白 ~天才們的戀愛頭腦戰~漫畫在線閱讀</漫畫名></章節顯示名></漫畫名>  下载完毕\n"
     ]
    },
    {
     "data": {
      "application/vnd.jupyter.widget-view+json": {
       "model_id": "3628643c83544731b477ae3318de54a9",
       "version_major": 2,
       "version_minor": 0
      },
      "text/plain": [
       "HBox(children=(FloatProgress(value=0.0, max=9.0), HTML(value='')))"
      ]
     },
     "metadata": {},
     "output_type": "display_data"
    },
    {
     "name": "stdout",
     "output_type": "stream",
     "text": [
      "\n",
      "当前章节\t輝夜大小姐想讓我告白 ~天才們的戀愛頭腦戰~漫畫_周刊版99.5話_輝夜大小姐想讓我告白 ~天才們的戀愛頭腦戰~漫畫在線閱讀</漫畫名></章節顯示名></漫畫名>  下载完毕\n"
     ]
    },
    {
     "data": {
      "application/vnd.jupyter.widget-view+json": {
       "model_id": "9bc99130714f43c182319d4262f188f6",
       "version_major": 2,
       "version_minor": 0
      },
      "text/plain": [
       "HBox(children=(FloatProgress(value=0.0, max=19.0), HTML(value='')))"
      ]
     },
     "metadata": {},
     "output_type": "display_data"
    },
    {
     "name": "stdout",
     "output_type": "stream",
     "text": [
      "\n",
      "当前章节\t輝夜大小姐想讓我告白 ~天才們的戀愛頭腦戰~漫畫_周刊版99話_輝夜大小姐想讓我告白 ~天才們的戀愛頭腦戰~漫畫在線閱讀</漫畫名></章節顯示名></漫畫名>  下载完毕\n"
     ]
    },
    {
     "data": {
      "application/vnd.jupyter.widget-view+json": {
       "model_id": "7c8a5470eaf64332b14989b37ba46c7c",
       "version_major": 2,
       "version_minor": 0
      },
      "text/plain": [
       "HBox(children=(FloatProgress(value=0.0, max=19.0), HTML(value='')))"
      ]
     },
     "metadata": {},
     "output_type": "display_data"
    },
    {
     "name": "stdout",
     "output_type": "stream",
     "text": [
      "\n",
      "当前章节\t輝夜大小姐想讓我告白 ~天才們的戀愛頭腦戰~漫畫_周刊版98話_輝夜大小姐想讓我告白 ~天才們的戀愛頭腦戰~漫畫在線閱讀</漫畫名></章節顯示名></漫畫名>  下载完毕\n"
     ]
    },
    {
     "data": {
      "application/vnd.jupyter.widget-view+json": {
       "model_id": "9deca169aae4438db52c8f9dc2997456",
       "version_major": 2,
       "version_minor": 0
      },
      "text/plain": [
       "HBox(children=(FloatProgress(value=0.0, max=19.0), HTML(value='')))"
      ]
     },
     "metadata": {},
     "output_type": "display_data"
    },
    {
     "name": "stdout",
     "output_type": "stream",
     "text": [
      "\n",
      "当前章节\t輝夜大小姐想讓我告白 ~天才們的戀愛頭腦戰~漫畫_周刊版97話_輝夜大小姐想讓我告白 ~天才們的戀愛頭腦戰~漫畫在線閱讀</漫畫名></章節顯示名></漫畫名>  下载完毕\n"
     ]
    },
    {
     "data": {
      "application/vnd.jupyter.widget-view+json": {
       "model_id": "bc00233acae543239de767cf0085b673",
       "version_major": 2,
       "version_minor": 0
      },
      "text/plain": [
       "HBox(children=(FloatProgress(value=0.0, max=19.0), HTML(value='')))"
      ]
     },
     "metadata": {},
     "output_type": "display_data"
    },
    {
     "name": "stdout",
     "output_type": "stream",
     "text": [
      "\n",
      "当前章节\t輝夜大小姐想讓我告白 ~天才們的戀愛頭腦戰~漫畫_周刊版96話_輝夜大小姐想讓我告白 ~天才們的戀愛頭腦戰~漫畫在線閱讀</漫畫名></章節顯示名></漫畫名>  下载完毕\n"
     ]
    },
    {
     "data": {
      "application/vnd.jupyter.widget-view+json": {
       "model_id": "0c56ed2c271a44248ca0560be86f39dc",
       "version_major": 2,
       "version_minor": 0
      },
      "text/plain": [
       "HBox(children=(FloatProgress(value=0.0, max=20.0), HTML(value='')))"
      ]
     },
     "metadata": {},
     "output_type": "display_data"
    },
    {
     "name": "stdout",
     "output_type": "stream",
     "text": [
      "\n",
      "当前章节\t輝夜大小姐想讓我告白 ~天才們的戀愛頭腦戰~漫畫_周刊版95話_輝夜大小姐想讓我告白 ~天才們的戀愛頭腦戰~漫畫在線閱讀</漫畫名></章節顯示名></漫畫名>  下载完毕\n"
     ]
    },
    {
     "data": {
      "application/vnd.jupyter.widget-view+json": {
       "model_id": "8dcfb28ca1fe4b5fa5480ac24da34caf",
       "version_major": 2,
       "version_minor": 0
      },
      "text/plain": [
       "HBox(children=(FloatProgress(value=0.0, max=19.0), HTML(value='')))"
      ]
     },
     "metadata": {},
     "output_type": "display_data"
    },
    {
     "name": "stdout",
     "output_type": "stream",
     "text": [
      "\n",
      "当前章节\t輝夜大小姐想讓我告白 ~天才們的戀愛頭腦戰~漫畫_周刊版94話 _輝夜大小姐想讓我告白 ~天才們的戀愛頭腦戰~漫畫在線閱讀</漫畫名></章節顯示名></漫畫名>  下载完毕\n"
     ]
    },
    {
     "data": {
      "application/vnd.jupyter.widget-view+json": {
       "model_id": "aa6acef02d2040f7af2a90535991dc77",
       "version_major": 2,
       "version_minor": 0
      },
      "text/plain": [
       "HBox(children=(FloatProgress(value=0.0, max=19.0), HTML(value='')))"
      ]
     },
     "metadata": {},
     "output_type": "display_data"
    },
    {
     "name": "stdout",
     "output_type": "stream",
     "text": [
      "\n",
      "当前章节\t輝夜大小姐想讓我告白 ~天才們的戀愛頭腦戰~漫畫_周刊版93話 _輝夜大小姐想讓我告白 ~天才們的戀愛頭腦戰~漫畫在線閱讀</漫畫名></章節顯示名></漫畫名>  下载完毕\n"
     ]
    },
    {
     "data": {
      "application/vnd.jupyter.widget-view+json": {
       "model_id": "4b0d544f2c5b454aa073537b083e907b",
       "version_major": 2,
       "version_minor": 0
      },
      "text/plain": [
       "HBox(children=(FloatProgress(value=1.0, bar_style='info', max=1.0), HTML(value='')))"
      ]
     },
     "metadata": {},
     "output_type": "display_data"
    },
    {
     "name": "stdout",
     "output_type": "stream",
     "text": [
      "\n",
      "当前章节\t輝夜大小姐想讓我告白 ~天才們的戀愛頭腦戰~漫畫_動畫化決定_輝夜大小姐想讓我告白 ~天才們的戀愛頭腦戰~漫畫在線閱讀</漫畫名></章節顯示名></漫畫名>  下载完毕\n"
     ]
    },
    {
     "data": {
      "application/vnd.jupyter.widget-view+json": {
       "model_id": "158bd8ffcea448e68fbd7de6ac4ceab4",
       "version_major": 2,
       "version_minor": 0
      },
      "text/plain": [
       "HBox(children=(FloatProgress(value=0.0, max=22.0), HTML(value='')))"
      ]
     },
     "metadata": {},
     "output_type": "display_data"
    },
    {
     "name": "stdout",
     "output_type": "stream",
     "text": [
      "\n",
      "当前章节\t輝夜大小姐想讓我告白 ~天才們的戀愛頭腦戰~漫畫_周刊版92話 _輝夜大小姐想讓我告白 ~天才們的戀愛頭腦戰~漫畫在線閱讀</漫畫名></章節顯示名></漫畫名>  下载完毕\n"
     ]
    },
    {
     "data": {
      "application/vnd.jupyter.widget-view+json": {
       "model_id": "d57652ed0eea4ed183ee5cf9abdaf6a6",
       "version_major": 2,
       "version_minor": 0
      },
      "text/plain": [
       "HBox(children=(FloatProgress(value=0.0, max=19.0), HTML(value='')))"
      ]
     },
     "metadata": {},
     "output_type": "display_data"
    },
    {
     "name": "stdout",
     "output_type": "stream",
     "text": [
      "\n",
      "当前章节\t輝夜大小姐想讓我告白 ~天才們的戀愛頭腦戰~漫畫_周刊版91話 _輝夜大小姐想讓我告白 ~天才們的戀愛頭腦戰~漫畫在線閱讀</漫畫名></章節顯示名></漫畫名>  下载完毕\n"
     ]
    },
    {
     "data": {
      "application/vnd.jupyter.widget-view+json": {
       "model_id": "dcb078cf8a4a4774a476e8ea6aab7b9f",
       "version_major": 2,
       "version_minor": 0
      },
      "text/plain": [
       "HBox(children=(FloatProgress(value=0.0, max=20.0), HTML(value='')))"
      ]
     },
     "metadata": {},
     "output_type": "display_data"
    },
    {
     "name": "stdout",
     "output_type": "stream",
     "text": [
      "\n",
      "当前章节\t輝夜大小姐想讓我告白 ~天才們的戀愛頭腦戰~漫畫_周刊版90話 _輝夜大小姐想讓我告白 ~天才們的戀愛頭腦戰~漫畫在線閱讀</漫畫名></章節顯示名></漫畫名>  下载完毕\n"
     ]
    },
    {
     "data": {
      "application/vnd.jupyter.widget-view+json": {
       "model_id": "473c5bce696f445296a4985fd20438c6",
       "version_major": 2,
       "version_minor": 0
      },
      "text/plain": [
       "HBox(children=(FloatProgress(value=0.0, max=19.0), HTML(value='')))"
      ]
     },
     "metadata": {},
     "output_type": "display_data"
    },
    {
     "name": "stdout",
     "output_type": "stream",
     "text": [
      "\n",
      "当前章节\t輝夜大小姐想讓我告白 ~天才們的戀愛頭腦戰~漫畫_周刊版89話 _輝夜大小姐想讓我告白 ~天才們的戀愛頭腦戰~漫畫在線閱讀</漫畫名></章節顯示名></漫畫名>  下载完毕\n"
     ]
    },
    {
     "data": {
      "application/vnd.jupyter.widget-view+json": {
       "model_id": "1be9329d44424889bb137ce2a232a66f",
       "version_major": 2,
       "version_minor": 0
      },
      "text/plain": [
       "HBox(children=(FloatProgress(value=0.0, max=19.0), HTML(value='')))"
      ]
     },
     "metadata": {},
     "output_type": "display_data"
    },
    {
     "name": "stdout",
     "output_type": "stream",
     "text": [
      "\n",
      "当前章节\t輝夜大小姐想讓我告白 ~天才們的戀愛頭腦戰~漫畫_周刊版88話_輝夜大小姐想讓我告白 ~天才們的戀愛頭腦戰~漫畫在線閱讀</漫畫名></章節顯示名></漫畫名>  下载完毕\n"
     ]
    },
    {
     "data": {
      "application/vnd.jupyter.widget-view+json": {
       "model_id": "e562e1fedb684897b035037a76c1d2f3",
       "version_major": 2,
       "version_minor": 0
      },
      "text/plain": [
       "HBox(children=(FloatProgress(value=0.0, max=19.0), HTML(value='')))"
      ]
     },
     "metadata": {},
     "output_type": "display_data"
    },
    {
     "name": "stdout",
     "output_type": "stream",
     "text": [
      "\n",
      "当前章节\t輝夜大小姐想讓我告白 ~天才們的戀愛頭腦戰~漫畫_周刊版87話_輝夜大小姐想讓我告白 ~天才們的戀愛頭腦戰~漫畫在線閱讀</漫畫名></章節顯示名></漫畫名>  下载完毕\n"
     ]
    },
    {
     "data": {
      "application/vnd.jupyter.widget-view+json": {
       "model_id": "b20efc761fa24da58e142c4b031bdd9d",
       "version_major": 2,
       "version_minor": 0
      },
      "text/plain": [
       "HBox(children=(FloatProgress(value=0.0, max=19.0), HTML(value='')))"
      ]
     },
     "metadata": {},
     "output_type": "display_data"
    },
    {
     "name": "stdout",
     "output_type": "stream",
     "text": [
      "\n",
      "当前章节\t輝夜大小姐想讓我告白 ~天才們的戀愛頭腦戰~漫畫_周刊版86話_輝夜大小姐想讓我告白 ~天才們的戀愛頭腦戰~漫畫在線閱讀</漫畫名></章節顯示名></漫畫名>  下载完毕\n"
     ]
    },
    {
     "data": {
      "application/vnd.jupyter.widget-view+json": {
       "model_id": "3b0d3dacab304b7fba8180ba9d2ee1e3",
       "version_major": 2,
       "version_minor": 0
      },
      "text/plain": [
       "HBox(children=(FloatProgress(value=0.0, max=19.0), HTML(value='')))"
      ]
     },
     "metadata": {},
     "output_type": "display_data"
    },
    {
     "name": "stdout",
     "output_type": "stream",
     "text": [
      "\n",
      "当前章节\t輝夜大小姐想讓我告白 ~天才們的戀愛頭腦戰~漫畫_周刊版85話_輝夜大小姐想讓我告白 ~天才們的戀愛頭腦戰~漫畫在線閱讀</漫畫名></章節顯示名></漫畫名>  下载完毕\n"
     ]
    },
    {
     "data": {
      "application/vnd.jupyter.widget-view+json": {
       "model_id": "91fd36fb4f51406d9972a1c8815bf87a",
       "version_major": 2,
       "version_minor": 0
      },
      "text/plain": [
       "HBox(children=(FloatProgress(value=0.0, max=19.0), HTML(value='')))"
      ]
     },
     "metadata": {},
     "output_type": "display_data"
    },
    {
     "name": "stdout",
     "output_type": "stream",
     "text": [
      "\n",
      "当前章节\t輝夜大小姐想讓我告白 ~天才們的戀愛頭腦戰~漫畫_周刊版84話_輝夜大小姐想讓我告白 ~天才們的戀愛頭腦戰~漫畫在線閱讀</漫畫名></章節顯示名></漫畫名>  下载完毕\n"
     ]
    },
    {
     "data": {
      "application/vnd.jupyter.widget-view+json": {
       "model_id": "e9a6f41ac80e48208afe131c6cb4ccbb",
       "version_major": 2,
       "version_minor": 0
      },
      "text/plain": [
       "HBox(children=(FloatProgress(value=0.0, max=20.0), HTML(value='')))"
      ]
     },
     "metadata": {},
     "output_type": "display_data"
    },
    {
     "name": "stdout",
     "output_type": "stream",
     "text": [
      "\n",
      "当前章节\t輝夜大小姐想讓我告白 ~天才們的戀愛頭腦戰~漫畫_周刊版83話_輝夜大小姐想讓我告白 ~天才們的戀愛頭腦戰~漫畫在線閱讀</漫畫名></章節顯示名></漫畫名>  下载完毕\n"
     ]
    },
    {
     "data": {
      "application/vnd.jupyter.widget-view+json": {
       "model_id": "7113b94351ca41f6a444e6aa709f232f",
       "version_major": 2,
       "version_minor": 0
      },
      "text/plain": [
       "HBox(children=(FloatProgress(value=0.0, max=19.0), HTML(value='')))"
      ]
     },
     "metadata": {},
     "output_type": "display_data"
    },
    {
     "name": "stdout",
     "output_type": "stream",
     "text": [
      "\n",
      "当前章节\t輝夜大小姐想讓我告白 ~天才們的戀愛頭腦戰~漫畫_周刊版82話_輝夜大小姐想讓我告白 ~天才們的戀愛頭腦戰~漫畫在線閱讀</漫畫名></章節顯示名></漫畫名>  下载完毕\n"
     ]
    },
    {
     "data": {
      "application/vnd.jupyter.widget-view+json": {
       "model_id": "8edade267d134d9ea77e97b80e9a3d3e",
       "version_major": 2,
       "version_minor": 0
      },
      "text/plain": [
       "HBox(children=(FloatProgress(value=0.0, max=19.0), HTML(value='')))"
      ]
     },
     "metadata": {},
     "output_type": "display_data"
    },
    {
     "name": "stdout",
     "output_type": "stream",
     "text": [
      "\n",
      "当前章节\t輝夜大小姐想讓我告白 ~天才們的戀愛頭腦戰~漫畫_周刊版81話_輝夜大小姐想讓我告白 ~天才們的戀愛頭腦戰~漫畫在線閱讀</漫畫名></章節顯示名></漫畫名>  下载完毕\n"
     ]
    },
    {
     "data": {
      "application/vnd.jupyter.widget-view+json": {
       "model_id": "6835a3cfafb84753aefb5c2a8fc5b689",
       "version_major": 2,
       "version_minor": 0
      },
      "text/plain": [
       "HBox(children=(FloatProgress(value=0.0, max=20.0), HTML(value='')))"
      ]
     },
     "metadata": {},
     "output_type": "display_data"
    },
    {
     "name": "stdout",
     "output_type": "stream",
     "text": [
      "\n",
      "当前章节\t輝夜大小姐想讓我告白 ~天才們的戀愛頭腦戰~漫畫_周刊版80話_輝夜大小姐想讓我告白 ~天才們的戀愛頭腦戰~漫畫在線閱讀</漫畫名></章節顯示名></漫畫名>  下载完毕\n"
     ]
    },
    {
     "data": {
      "application/vnd.jupyter.widget-view+json": {
       "model_id": "193d61546eb04a8c9ced68ce011a7b9f",
       "version_major": 2,
       "version_minor": 0
      },
      "text/plain": [
       "HBox(children=(FloatProgress(value=0.0, max=22.0), HTML(value='')))"
      ]
     },
     "metadata": {},
     "output_type": "display_data"
    },
    {
     "name": "stdout",
     "output_type": "stream",
     "text": [
      "\n",
      "当前章节\t輝夜大小姐想讓我告白 ~天才們的戀愛頭腦戰~漫畫_周刊79話_輝夜大小姐想讓我告白 ~天才們的戀愛頭腦戰~漫畫在線閱讀</漫畫名></章節顯示名></漫畫名>  下载完毕\n"
     ]
    },
    {
     "data": {
      "application/vnd.jupyter.widget-view+json": {
       "model_id": "4266c9e8482b448ea9dd40eb887922d1",
       "version_major": 2,
       "version_minor": 0
      },
      "text/plain": [
       "HBox(children=(FloatProgress(value=0.0, max=20.0), HTML(value='')))"
      ]
     },
     "metadata": {},
     "output_type": "display_data"
    },
    {
     "name": "stdout",
     "output_type": "stream",
     "text": [
      "\n",
      "当前章节\t輝夜大小姐想讓我告白 ~天才們的戀愛頭腦戰~漫畫_周刊78話_輝夜大小姐想讓我告白 ~天才們的戀愛頭腦戰~漫畫在線閱讀</漫畫名></章節顯示名></漫畫名>  下载完毕\n"
     ]
    },
    {
     "data": {
      "application/vnd.jupyter.widget-view+json": {
       "model_id": "611b41ee914c4dd992a03206168df94a",
       "version_major": 2,
       "version_minor": 0
      },
      "text/plain": [
       "HBox(children=(FloatProgress(value=0.0, max=20.0), HTML(value='')))"
      ]
     },
     "metadata": {},
     "output_type": "display_data"
    },
    {
     "name": "stdout",
     "output_type": "stream",
     "text": [
      "\n",
      "当前章节\t輝夜大小姐想讓我告白 ~天才們的戀愛頭腦戰~漫畫_周刊77話_輝夜大小姐想讓我告白 ~天才們的戀愛頭腦戰~漫畫在線閱讀</漫畫名></章節顯示名></漫畫名>  下载完毕\n"
     ]
    },
    {
     "data": {
      "application/vnd.jupyter.widget-view+json": {
       "model_id": "9334ba15a63d40ee81f76026981f0e4c",
       "version_major": 2,
       "version_minor": 0
      },
      "text/plain": [
       "HBox(children=(FloatProgress(value=0.0, max=20.0), HTML(value='')))"
      ]
     },
     "metadata": {},
     "output_type": "display_data"
    },
    {
     "name": "stdout",
     "output_type": "stream",
     "text": [
      "\n",
      "当前章节\t輝夜大小姐想讓我告白 ~天才們的戀愛頭腦戰~漫畫_周刊76話_輝夜大小姐想讓我告白 ~天才們的戀愛頭腦戰~漫畫在線閱讀</漫畫名></章節顯示名></漫畫名>  下载完毕\n"
     ]
    },
    {
     "data": {
      "application/vnd.jupyter.widget-view+json": {
       "model_id": "521973a70de941afa7e1f24a257c55e2",
       "version_major": 2,
       "version_minor": 0
      },
      "text/plain": [
       "HBox(children=(FloatProgress(value=0.0, max=20.0), HTML(value='')))"
      ]
     },
     "metadata": {},
     "output_type": "display_data"
    },
    {
     "name": "stdout",
     "output_type": "stream",
     "text": [
      "\n",
      "当前章节\t輝夜大小姐想讓我告白 ~天才們的戀愛頭腦戰~漫畫_周刊75話_輝夜大小姐想讓我告白 ~天才們的戀愛頭腦戰~漫畫在線閱讀</漫畫名></章節顯示名></漫畫名>  下载完毕\n"
     ]
    },
    {
     "data": {
      "application/vnd.jupyter.widget-view+json": {
       "model_id": "92caa59bae7d487f8d592f1e74f633a8",
       "version_major": 2,
       "version_minor": 0
      },
      "text/plain": [
       "HBox(children=(FloatProgress(value=0.0, max=22.0), HTML(value='')))"
      ]
     },
     "metadata": {},
     "output_type": "display_data"
    },
    {
     "name": "stdout",
     "output_type": "stream",
     "text": [
      "\n",
      "当前章节\t輝夜大小姐想讓我告白 ~天才們的戀愛頭腦戰~漫畫_周刊74話_輝夜大小姐想讓我告白 ~天才們的戀愛頭腦戰~漫畫在線閱讀</漫畫名></章節顯示名></漫畫名>  下载完毕\n"
     ]
    },
    {
     "data": {
      "application/vnd.jupyter.widget-view+json": {
       "model_id": "63ea4874854648209e68031743e96027",
       "version_major": 2,
       "version_minor": 0
      },
      "text/plain": [
       "HBox(children=(FloatProgress(value=0.0, max=20.0), HTML(value='')))"
      ]
     },
     "metadata": {},
     "output_type": "display_data"
    },
    {
     "name": "stdout",
     "output_type": "stream",
     "text": [
      "\n",
      "当前章节\t輝夜大小姐想讓我告白 ~天才們的戀愛頭腦戰~漫畫_周刊73話_輝夜大小姐想讓我告白 ~天才們的戀愛頭腦戰~漫畫在線閱讀</漫畫名></章節顯示名></漫畫名>  下载完毕\n"
     ]
    },
    {
     "data": {
      "application/vnd.jupyter.widget-view+json": {
       "model_id": "99a271a632924fc49dadcef635cc82e4",
       "version_major": 2,
       "version_minor": 0
      },
      "text/plain": [
       "HBox(children=(FloatProgress(value=0.0, max=20.0), HTML(value='')))"
      ]
     },
     "metadata": {},
     "output_type": "display_data"
    },
    {
     "name": "stdout",
     "output_type": "stream",
     "text": [
      "\n",
      "当前章节\t輝夜大小姐想讓我告白 ~天才們的戀愛頭腦戰~漫畫_周刊72話_輝夜大小姐想讓我告白 ~天才們的戀愛頭腦戰~漫畫在線閱讀</漫畫名></章節顯示名></漫畫名>  下载完毕\n"
     ]
    },
    {
     "data": {
      "application/vnd.jupyter.widget-view+json": {
       "model_id": "041f6264525049b9bf579292d847d0d5",
       "version_major": 2,
       "version_minor": 0
      },
      "text/plain": [
       "HBox(children=(FloatProgress(value=0.0, max=20.0), HTML(value='')))"
      ]
     },
     "metadata": {},
     "output_type": "display_data"
    },
    {
     "name": "stdout",
     "output_type": "stream",
     "text": [
      "\n",
      "当前章节\t輝夜大小姐想讓我告白 ~天才們的戀愛頭腦戰~漫畫_周刊71話_輝夜大小姐想讓我告白 ~天才們的戀愛頭腦戰~漫畫在線閱讀</漫畫名></章節顯示名></漫畫名>  下载完毕\n"
     ]
    },
    {
     "data": {
      "application/vnd.jupyter.widget-view+json": {
       "model_id": "bdf2249e6abc49b3a50444f6cf075c95",
       "version_major": 2,
       "version_minor": 0
      },
      "text/plain": [
       "HBox(children=(FloatProgress(value=0.0, max=20.0), HTML(value='')))"
      ]
     },
     "metadata": {},
     "output_type": "display_data"
    },
    {
     "name": "stdout",
     "output_type": "stream",
     "text": [
      "\n",
      "当前章节\t輝夜大小姐想讓我告白 ~天才們的戀愛頭腦戰~漫畫_周刊70話_輝夜大小姐想讓我告白 ~天才們的戀愛頭腦戰~漫畫在線閱讀</漫畫名></章節顯示名></漫畫名>  下载完毕\n"
     ]
    },
    {
     "data": {
      "application/vnd.jupyter.widget-view+json": {
       "model_id": "ba48393e8e034d418d2428d297351d3b",
       "version_major": 2,
       "version_minor": 0
      },
      "text/plain": [
       "HBox(children=(FloatProgress(value=0.0, max=20.0), HTML(value='')))"
      ]
     },
     "metadata": {},
     "output_type": "display_data"
    },
    {
     "name": "stdout",
     "output_type": "stream",
     "text": [
      "\n",
      "当前章节\t輝夜大小姐想讓我告白 ~天才們的戀愛頭腦戰~漫畫_周刊69話_輝夜大小姐想讓我告白 ~天才們的戀愛頭腦戰~漫畫在線閱讀</漫畫名></章節顯示名></漫畫名>  下载完毕\n"
     ]
    },
    {
     "data": {
      "application/vnd.jupyter.widget-view+json": {
       "model_id": "7f7b8386663b4190b6630d946745e18b",
       "version_major": 2,
       "version_minor": 0
      },
      "text/plain": [
       "HBox(children=(FloatProgress(value=0.0, max=22.0), HTML(value='')))"
      ]
     },
     "metadata": {},
     "output_type": "display_data"
    },
    {
     "name": "stdout",
     "output_type": "stream",
     "text": [
      "\n",
      "当前章节\t輝夜大小姐想讓我告白 ~天才們的戀愛頭腦戰~漫畫_周刊68話_輝夜大小姐想讓我告白 ~天才們的戀愛頭腦戰~漫畫在線閱讀</漫畫名></章節顯示名></漫畫名>  下载完毕\n"
     ]
    },
    {
     "data": {
      "application/vnd.jupyter.widget-view+json": {
       "model_id": "8f45a392f83f482e91db0ff64ea32bd7",
       "version_major": 2,
       "version_minor": 0
      },
      "text/plain": [
       "HBox(children=(FloatProgress(value=0.0, max=20.0), HTML(value='')))"
      ]
     },
     "metadata": {},
     "output_type": "display_data"
    },
    {
     "name": "stdout",
     "output_type": "stream",
     "text": [
      "\n",
      "当前章节\t輝夜大小姐想讓我告白 ~天才們的戀愛頭腦戰~漫畫_周刊67話_輝夜大小姐想讓我告白 ~天才們的戀愛頭腦戰~漫畫在線閱讀</漫畫名></章節顯示名></漫畫名>  下载完毕\n"
     ]
    },
    {
     "data": {
      "application/vnd.jupyter.widget-view+json": {
       "model_id": "04850564d73448c09c2d0f388df29560",
       "version_major": 2,
       "version_minor": 0
      },
      "text/plain": [
       "HBox(children=(FloatProgress(value=0.0, max=20.0), HTML(value='')))"
      ]
     },
     "metadata": {},
     "output_type": "display_data"
    },
    {
     "name": "stdout",
     "output_type": "stream",
     "text": [
      "\n",
      "当前章节\t輝夜大小姐想讓我告白 ~天才們的戀愛頭腦戰~漫畫_周刊66話_輝夜大小姐想讓我告白 ~天才們的戀愛頭腦戰~漫畫在線閱讀</漫畫名></章節顯示名></漫畫名>  下载完毕\n"
     ]
    },
    {
     "data": {
      "application/vnd.jupyter.widget-view+json": {
       "model_id": "60012e26232842849514839f47db9dfd",
       "version_major": 2,
       "version_minor": 0
      },
      "text/plain": [
       "HBox(children=(FloatProgress(value=0.0, max=20.0), HTML(value='')))"
      ]
     },
     "metadata": {},
     "output_type": "display_data"
    },
    {
     "name": "stdout",
     "output_type": "stream",
     "text": [
      "\n",
      "当前章节\t輝夜大小姐想讓我告白 ~天才們的戀愛頭腦戰~漫畫_周刊65話_輝夜大小姐想讓我告白 ~天才們的戀愛頭腦戰~漫畫在線閱讀</漫畫名></章節顯示名></漫畫名>  下载完毕\n"
     ]
    },
    {
     "data": {
      "application/vnd.jupyter.widget-view+json": {
       "model_id": "87e5ae063bc44e9ab3b88d6f71dbf3b5",
       "version_major": 2,
       "version_minor": 0
      },
      "text/plain": [
       "HBox(children=(FloatProgress(value=0.0, max=20.0), HTML(value='')))"
      ]
     },
     "metadata": {},
     "output_type": "display_data"
    },
    {
     "name": "stdout",
     "output_type": "stream",
     "text": [
      "\n",
      "当前章节\t輝夜大小姐想讓我告白 ~天才們的戀愛頭腦戰~漫畫_周刊64話_輝夜大小姐想讓我告白 ~天才們的戀愛頭腦戰~漫畫在線閱讀</漫畫名></章節顯示名></漫畫名>  下载完毕\n"
     ]
    },
    {
     "data": {
      "application/vnd.jupyter.widget-view+json": {
       "model_id": "caee96737fe044599ee6ce319aa89cef",
       "version_major": 2,
       "version_minor": 0
      },
      "text/plain": [
       "HBox(children=(FloatProgress(value=0.0, max=20.0), HTML(value='')))"
      ]
     },
     "metadata": {},
     "output_type": "display_data"
    },
    {
     "name": "stdout",
     "output_type": "stream",
     "text": [
      "\n",
      "当前章节\t輝夜大小姐想讓我告白 ~天才們的戀愛頭腦戰~漫畫_周刊63話_輝夜大小姐想讓我告白 ~天才們的戀愛頭腦戰~漫畫在線閱讀</漫畫名></章節顯示名></漫畫名>  下载完毕\n"
     ]
    },
    {
     "data": {
      "application/vnd.jupyter.widget-view+json": {
       "model_id": "7cd590b5611b463cb7d0efbb804484e0",
       "version_major": 2,
       "version_minor": 0
      },
      "text/plain": [
       "HBox(children=(FloatProgress(value=0.0, max=21.0), HTML(value='')))"
      ]
     },
     "metadata": {},
     "output_type": "display_data"
    },
    {
     "name": "stdout",
     "output_type": "stream",
     "text": [
      "\n",
      "当前章节\t輝夜大小姐想讓我告白 ~天才們的戀愛頭腦戰~漫畫_周刊62話_輝夜大小姐想讓我告白 ~天才們的戀愛頭腦戰~漫畫在線閱讀</漫畫名></章節顯示名></漫畫名>  下载完毕\n"
     ]
    },
    {
     "data": {
      "application/vnd.jupyter.widget-view+json": {
       "model_id": "510bafd399c547d9a3a4c38e4e82e798",
       "version_major": 2,
       "version_minor": 0
      },
      "text/plain": [
       "HBox(children=(FloatProgress(value=0.0, max=20.0), HTML(value='')))"
      ]
     },
     "metadata": {},
     "output_type": "display_data"
    },
    {
     "name": "stdout",
     "output_type": "stream",
     "text": [
      "\n",
      "当前章节\t輝夜大小姐想讓我告白 ~天才們的戀愛頭腦戰~漫畫_周刊61話_輝夜大小姐想讓我告白 ~天才們的戀愛頭腦戰~漫畫在線閱讀</漫畫名></章節顯示名></漫畫名>  下载完毕\n"
     ]
    },
    {
     "data": {
      "application/vnd.jupyter.widget-view+json": {
       "model_id": "a6f4a28bcaa748bf88c1a5404f498815",
       "version_major": 2,
       "version_minor": 0
      },
      "text/plain": [
       "HBox(children=(FloatProgress(value=0.0, max=20.0), HTML(value='')))"
      ]
     },
     "metadata": {},
     "output_type": "display_data"
    },
    {
     "name": "stdout",
     "output_type": "stream",
     "text": [
      "\n",
      "当前章节\t輝夜大小姐想讓我告白 ~天才們的戀愛頭腦戰~漫畫_周刊60話_輝夜大小姐想讓我告白 ~天才們的戀愛頭腦戰~漫畫在線閱讀</漫畫名></章節顯示名></漫畫名>  下载完毕\n"
     ]
    },
    {
     "data": {
      "application/vnd.jupyter.widget-view+json": {
       "model_id": "e6300db943284d69a28966c4c85c6b9b",
       "version_major": 2,
       "version_minor": 0
      },
      "text/plain": [
       "HBox(children=(FloatProgress(value=0.0, max=20.0), HTML(value='')))"
      ]
     },
     "metadata": {},
     "output_type": "display_data"
    },
    {
     "name": "stdout",
     "output_type": "stream",
     "text": [
      "\n",
      "当前章节\t輝夜大小姐想讓我告白 ~天才們的戀愛頭腦戰~漫畫_周刊第59話_輝夜大小姐想讓我告白 ~天才們的戀愛頭腦戰~漫畫在線閱讀</漫畫名></章節顯示名></漫畫名>  下载完毕\n"
     ]
    },
    {
     "data": {
      "application/vnd.jupyter.widget-view+json": {
       "model_id": "1280dbe96ace421393f6fd363ca2e0e0",
       "version_major": 2,
       "version_minor": 0
      },
      "text/plain": [
       "HBox(children=(FloatProgress(value=0.0, max=20.0), HTML(value='')))"
      ]
     },
     "metadata": {},
     "output_type": "display_data"
    },
    {
     "name": "stdout",
     "output_type": "stream",
     "text": [
      "\n",
      "当前章节\t輝夜大小姐想讓我告白 ~天才們的戀愛頭腦戰~漫畫_周刊第58話_輝夜大小姐想讓我告白 ~天才們的戀愛頭腦戰~漫畫在線閱讀</漫畫名></章節顯示名></漫畫名>  下载完毕\n"
     ]
    },
    {
     "data": {
      "application/vnd.jupyter.widget-view+json": {
       "model_id": "3c42505b7f67477ea6a598b85aa0d1b7",
       "version_major": 2,
       "version_minor": 0
      },
      "text/plain": [
       "HBox(children=(FloatProgress(value=0.0, max=20.0), HTML(value='')))"
      ]
     },
     "metadata": {},
     "output_type": "display_data"
    },
    {
     "name": "stdout",
     "output_type": "stream",
     "text": [
      "\n",
      "当前章节\t輝夜大小姐想讓我告白 ~天才們的戀愛頭腦戰~漫畫_周刊57話_輝夜大小姐想讓我告白 ~天才們的戀愛頭腦戰~漫畫在線閱讀</漫畫名></章節顯示名></漫畫名>  下载完毕\n"
     ]
    },
    {
     "data": {
      "application/vnd.jupyter.widget-view+json": {
       "model_id": "3ea9289d377c4905b2b728d1824a7ab0",
       "version_major": 2,
       "version_minor": 0
      },
      "text/plain": [
       "HBox(children=(FloatProgress(value=0.0, max=20.0), HTML(value='')))"
      ]
     },
     "metadata": {},
     "output_type": "display_data"
    },
    {
     "name": "stdout",
     "output_type": "stream",
     "text": [
      "\n",
      "当前章节\t輝夜大小姐想讓我告白 ~天才們的戀愛頭腦戰~漫畫_周刊56話_輝夜大小姐想讓我告白 ~天才們的戀愛頭腦戰~漫畫在線閱讀</漫畫名></章節顯示名></漫畫名>  下载完毕\n"
     ]
    },
    {
     "data": {
      "application/vnd.jupyter.widget-view+json": {
       "model_id": "1e103fc5f92044e0956c9e4287625093",
       "version_major": 2,
       "version_minor": 0
      },
      "text/plain": [
       "HBox(children=(FloatProgress(value=0.0, max=20.0), HTML(value='')))"
      ]
     },
     "metadata": {},
     "output_type": "display_data"
    },
    {
     "name": "stdout",
     "output_type": "stream",
     "text": [
      "\n",
      "当前章节\t輝夜大小姐想讓我告白 ~天才們的戀愛頭腦戰~漫畫_周刊版55話_輝夜大小姐想讓我告白 ~天才們的戀愛頭腦戰~漫畫在線閱讀</漫畫名></章節顯示名></漫畫名>  下载完毕\n"
     ]
    },
    {
     "data": {
      "application/vnd.jupyter.widget-view+json": {
       "model_id": "4465031465044d84aa47ea8979cfa773",
       "version_major": 2,
       "version_minor": 0
      },
      "text/plain": [
       "HBox(children=(FloatProgress(value=0.0, max=19.0), HTML(value='')))"
      ]
     },
     "metadata": {},
     "output_type": "display_data"
    },
    {
     "name": "stdout",
     "output_type": "stream",
     "text": [
      "\n",
      "当前章节\t輝夜大小姐想讓我告白 ~天才們的戀愛頭腦戰~漫畫_周刊版54話_輝夜大小姐想讓我告白 ~天才們的戀愛頭腦戰~漫畫在線閱讀</漫畫名></章節顯示名></漫畫名>  下载完毕\n"
     ]
    },
    {
     "data": {
      "application/vnd.jupyter.widget-view+json": {
       "model_id": "e9aca4f1b0d442bcab50d25c4c4b5089",
       "version_major": 2,
       "version_minor": 0
      },
      "text/plain": [
       "HBox(children=(FloatProgress(value=0.0, max=20.0), HTML(value='')))"
      ]
     },
     "metadata": {},
     "output_type": "display_data"
    },
    {
     "name": "stdout",
     "output_type": "stream",
     "text": [
      "\n",
      "当前章节\t輝夜大小姐想讓我告白 ~天才們的戀愛頭腦戰~漫畫_周刊53話_輝夜大小姐想讓我告白 ~天才們的戀愛頭腦戰~漫畫在線閱讀</漫畫名></章節顯示名></漫畫名>  下载完毕\n"
     ]
    },
    {
     "data": {
      "application/vnd.jupyter.widget-view+json": {
       "model_id": "7ee04669e1c74f03ac4d2ba998117bb5",
       "version_major": 2,
       "version_minor": 0
      },
      "text/plain": [
       "HBox(children=(FloatProgress(value=0.0, max=14.0), HTML(value='')))"
      ]
     },
     "metadata": {},
     "output_type": "display_data"
    },
    {
     "name": "stdout",
     "output_type": "stream",
     "text": [
      "\n",
      "当前章节\t輝夜大小姐想讓我告白 ~天才們的戀愛頭腦戰~漫畫_番外篇Darkness_輝夜大小姐想讓我告白 ~天才們的戀愛頭腦戰~漫畫在線閱讀</漫畫名></章節顯示名></漫畫名>  下载完毕\n"
     ]
    },
    {
     "data": {
      "application/vnd.jupyter.widget-view+json": {
       "model_id": "b0b06d6cb9ec4d8b99535e1a662f4732",
       "version_major": 2,
       "version_minor": 0
      },
      "text/plain": [
       "HBox(children=(FloatProgress(value=0.0, max=20.0), HTML(value='')))"
      ]
     },
     "metadata": {},
     "output_type": "display_data"
    },
    {
     "name": "stdout",
     "output_type": "stream",
     "text": [
      "\n",
      "当前章节\t輝夜大小姐想讓我告白 ~天才們的戀愛頭腦戰~漫畫_周刊52話_輝夜大小姐想讓我告白 ~天才們的戀愛頭腦戰~漫畫在線閱讀</漫畫名></章節顯示名></漫畫名>  下载完毕\n"
     ]
    },
    {
     "data": {
      "application/vnd.jupyter.widget-view+json": {
       "model_id": "a1a852a60d5f4f9a9b699fb035bc74e7",
       "version_major": 2,
       "version_minor": 0
      },
      "text/plain": [
       "HBox(children=(FloatProgress(value=0.0, max=26.0), HTML(value='')))"
      ]
     },
     "metadata": {},
     "output_type": "display_data"
    },
    {
     "name": "stdout",
     "output_type": "stream",
     "text": [
      "\n",
      "当前章节\t輝夜大小姐想讓我告白 ~天才們的戀愛頭腦戰~漫畫_周刊51話_輝夜大小姐想讓我告白 ~天才們的戀愛頭腦戰~漫畫在線閱讀</漫畫名></章節顯示名></漫畫名>  下载完毕\n"
     ]
    },
    {
     "data": {
      "application/vnd.jupyter.widget-view+json": {
       "model_id": "e0cc7a4046b347a1972f5d7b1b8b948d",
       "version_major": 2,
       "version_minor": 0
      },
      "text/plain": [
       "HBox(children=(FloatProgress(value=0.0, max=20.0), HTML(value='')))"
      ]
     },
     "metadata": {},
     "output_type": "display_data"
    },
    {
     "name": "stdout",
     "output_type": "stream",
     "text": [
      "\n",
      "当前章节\t輝夜大小姐想讓我告白 ~天才們的戀愛頭腦戰~漫畫_周刊50話_輝夜大小姐想讓我告白 ~天才們的戀愛頭腦戰~漫畫在線閱讀</漫畫名></章節顯示名></漫畫名>  下载完毕\n"
     ]
    },
    {
     "data": {
      "application/vnd.jupyter.widget-view+json": {
       "model_id": "d1abb204a2aa4d7f86bae9ebdbd91f40",
       "version_major": 2,
       "version_minor": 0
      },
      "text/plain": [
       "HBox(children=(FloatProgress(value=0.0, max=2.0), HTML(value='')))"
      ]
     },
     "metadata": {},
     "output_type": "display_data"
    },
    {
     "name": "stdout",
     "output_type": "stream",
     "text": [
      "\n",
      "当前章节\t輝夜大小姐想讓我告白 ~天才們的戀愛頭腦戰~漫畫_作者聯動_輝夜大小姐想讓我告白 ~天才們的戀愛頭腦戰~漫畫在線閱讀</漫畫名></章節顯示名></漫畫名>  下载完毕\n"
     ]
    },
    {
     "data": {
      "application/vnd.jupyter.widget-view+json": {
       "model_id": "884450af1bf74b0896d63697b55c88e1",
       "version_major": 2,
       "version_minor": 0
      },
      "text/plain": [
       "HBox(children=(FloatProgress(value=0.0, max=5.0), HTML(value='')))"
      ]
     },
     "metadata": {},
     "output_type": "display_data"
    },
    {
     "name": "stdout",
     "output_type": "stream",
     "text": [
      "\n",
      "当前章节\t輝夜大小姐想讓我告白 ~天才們的戀愛頭腦戰~漫畫_聯動漫畫03_輝夜大小姐想讓我告白 ~天才們的戀愛頭腦戰~漫畫在線閱讀</漫畫名></章節顯示名></漫畫名>  下载完毕\n"
     ]
    },
    {
     "data": {
      "application/vnd.jupyter.widget-view+json": {
       "model_id": "b5684dcb59694f0682ce661e70df2aab",
       "version_major": 2,
       "version_minor": 0
      },
      "text/plain": [
       "HBox(children=(FloatProgress(value=0.0, max=7.0), HTML(value='')))"
      ]
     },
     "metadata": {},
     "output_type": "display_data"
    },
    {
     "name": "stdout",
     "output_type": "stream",
     "text": [
      "\n",
      "当前章节\t輝夜大小姐想讓我告白 ~天才們的戀愛頭腦戰~漫畫_聯動漫畫02_輝夜大小姐想讓我告白 ~天才們的戀愛頭腦戰~漫畫在線閱讀</漫畫名></章節顯示名></漫畫名>  下载完毕\n"
     ]
    },
    {
     "data": {
      "application/vnd.jupyter.widget-view+json": {
       "model_id": "cf25362bf0e94261b3d787fe0cfa0016",
       "version_major": 2,
       "version_minor": 0
      },
      "text/plain": [
       "HBox(children=(FloatProgress(value=0.0, max=3.0), HTML(value='')))"
      ]
     },
     "metadata": {},
     "output_type": "display_data"
    },
    {
     "name": "stdout",
     "output_type": "stream",
     "text": [
      "\n",
      "当前章节\t輝夜大小姐想讓我告白 ~天才們的戀愛頭腦戰~漫畫_聯動漫畫01_輝夜大小姐想讓我告白 ~天才們的戀愛頭腦戰~漫畫在線閱讀</漫畫名></章節顯示名></漫畫名>  下载完毕\n"
     ]
    },
    {
     "data": {
      "application/vnd.jupyter.widget-view+json": {
       "model_id": "61f8fd7deb604103841d618dd916569d",
       "version_major": 2,
       "version_minor": 0
      },
      "text/plain": [
       "HBox(children=(FloatProgress(value=0.0, max=20.0), HTML(value='')))"
      ]
     },
     "metadata": {},
     "output_type": "display_data"
    },
    {
     "name": "stdout",
     "output_type": "stream",
     "text": [
      "\n",
      "当前章节\t輝夜大小姐想讓我告白 ~天才們的戀愛頭腦戰~漫畫_周刊49話_輝夜大小姐想讓我告白 ~天才們的戀愛頭腦戰~漫畫在線閱讀</漫畫名></章節顯示名></漫畫名>  下载完毕\n"
     ]
    },
    {
     "data": {
      "application/vnd.jupyter.widget-view+json": {
       "model_id": "fc92cfb797a04dcc91e79a7639857887",
       "version_major": 2,
       "version_minor": 0
      },
      "text/plain": [
       "HBox(children=(FloatProgress(value=0.0, max=20.0), HTML(value='')))"
      ]
     },
     "metadata": {},
     "output_type": "display_data"
    },
    {
     "name": "stdout",
     "output_type": "stream",
     "text": [
      "\n",
      "当前章节\t輝夜大小姐想讓我告白 ~天才們的戀愛頭腦戰~漫畫_周刊48話_輝夜大小姐想讓我告白 ~天才們的戀愛頭腦戰~漫畫在線閱讀</漫畫名></章節顯示名></漫畫名>  下载完毕\n"
     ]
    },
    {
     "data": {
      "application/vnd.jupyter.widget-view+json": {
       "model_id": "6f7978d2d6224c36bc4afe7387ac7126",
       "version_major": 2,
       "version_minor": 0
      },
      "text/plain": [
       "HBox(children=(FloatProgress(value=0.0, max=20.0), HTML(value='')))"
      ]
     },
     "metadata": {},
     "output_type": "display_data"
    },
    {
     "name": "stdout",
     "output_type": "stream",
     "text": [
      "\n",
      "当前章节\t輝夜大小姐想讓我告白 ~天才們的戀愛頭腦戰~漫畫_周刊47話 _輝夜大小姐想讓我告白 ~天才們的戀愛頭腦戰~漫畫在線閱讀</漫畫名></章節顯示名></漫畫名>  下载完毕\n"
     ]
    },
    {
     "data": {
      "application/vnd.jupyter.widget-view+json": {
       "model_id": "9e34489145204ba1a8d2237f85827edf",
       "version_major": 2,
       "version_minor": 0
      },
      "text/plain": [
       "HBox(children=(FloatProgress(value=0.0, max=18.0), HTML(value='')))"
      ]
     },
     "metadata": {},
     "output_type": "display_data"
    },
    {
     "name": "stdout",
     "output_type": "stream",
     "text": [
      "\n",
      "当前章节\t輝夜大小姐想讓我告白 ~天才們的戀愛頭腦戰~漫畫_周刊46話_輝夜大小姐想讓我告白 ~天才們的戀愛頭腦戰~漫畫在線閱讀</漫畫名></章節顯示名></漫畫名>  下载完毕\n"
     ]
    },
    {
     "data": {
      "application/vnd.jupyter.widget-view+json": {
       "model_id": "e66bbba5d4774c5986b81e7aa0000397",
       "version_major": 2,
       "version_minor": 0
      },
      "text/plain": [
       "HBox(children=(FloatProgress(value=0.0, max=20.0), HTML(value='')))"
      ]
     },
     "metadata": {},
     "output_type": "display_data"
    },
    {
     "name": "stdout",
     "output_type": "stream",
     "text": [
      "\n",
      "当前章节\t輝夜大小姐想讓我告白 ~天才們的戀愛頭腦戰~漫畫_周刊45話_輝夜大小姐想讓我告白 ~天才們的戀愛頭腦戰~漫畫在線閱讀</漫畫名></章節顯示名></漫畫名>  下载完毕\n"
     ]
    },
    {
     "data": {
      "application/vnd.jupyter.widget-view+json": {
       "model_id": "088499e7658245f18dc8ace1a7374c5b",
       "version_major": 2,
       "version_minor": 0
      },
      "text/plain": [
       "HBox(children=(FloatProgress(value=0.0, max=20.0), HTML(value='')))"
      ]
     },
     "metadata": {},
     "output_type": "display_data"
    },
    {
     "name": "stdout",
     "output_type": "stream",
     "text": [
      "\n",
      "当前章节\t輝夜大小姐想讓我告白 ~天才們的戀愛頭腦戰~漫畫_周刊44話_輝夜大小姐想讓我告白 ~天才們的戀愛頭腦戰~漫畫在線閱讀</漫畫名></章節顯示名></漫畫名>  下载完毕\n"
     ]
    },
    {
     "data": {
      "application/vnd.jupyter.widget-view+json": {
       "model_id": "e16a401b832f4789b9694caffd386df7",
       "version_major": 2,
       "version_minor": 0
      },
      "text/plain": [
       "HBox(children=(FloatProgress(value=0.0, max=20.0), HTML(value='')))"
      ]
     },
     "metadata": {},
     "output_type": "display_data"
    },
    {
     "name": "stdout",
     "output_type": "stream",
     "text": [
      "\n",
      "当前章节\t輝夜大小姐想讓我告白 ~天才們的戀愛頭腦戰~漫畫_周刊43話_輝夜大小姐想讓我告白 ~天才們的戀愛頭腦戰~漫畫在線閱讀</漫畫名></章節顯示名></漫畫名>  下载完毕\n"
     ]
    },
    {
     "data": {
      "application/vnd.jupyter.widget-view+json": {
       "model_id": "edad7fffbb6143b2bcb5a296931be585",
       "version_major": 2,
       "version_minor": 0
      },
      "text/plain": [
       "HBox(children=(FloatProgress(value=0.0, max=20.0), HTML(value='')))"
      ]
     },
     "metadata": {},
     "output_type": "display_data"
    },
    {
     "name": "stdout",
     "output_type": "stream",
     "text": [
      "\n",
      "当前章节\t輝夜大小姐想讓我告白 ~天才們的戀愛頭腦戰~漫畫_周刊42話_輝夜大小姐想讓我告白 ~天才們的戀愛頭腦戰~漫畫在線閱讀</漫畫名></章節顯示名></漫畫名>  下载完毕\n"
     ]
    },
    {
     "data": {
      "application/vnd.jupyter.widget-view+json": {
       "model_id": "c2b9fc88afd14217adc05f5a37bdce5a",
       "version_major": 2,
       "version_minor": 0
      },
      "text/plain": [
       "HBox(children=(FloatProgress(value=0.0, max=20.0), HTML(value='')))"
      ]
     },
     "metadata": {},
     "output_type": "display_data"
    },
    {
     "name": "stdout",
     "output_type": "stream",
     "text": [
      "\n",
      "当前章节\t輝夜大小姐想讓我告白 ~天才們的戀愛頭腦戰~漫畫_周刊41話_輝夜大小姐想讓我告白 ~天才們的戀愛頭腦戰~漫畫在線閱讀</漫畫名></章節顯示名></漫畫名>  下载完毕\n"
     ]
    },
    {
     "data": {
      "application/vnd.jupyter.widget-view+json": {
       "model_id": "fe781e5dea594d329bbaa3715331530b",
       "version_major": 2,
       "version_minor": 0
      },
      "text/plain": [
       "HBox(children=(FloatProgress(value=0.0, max=3.0), HTML(value='')))"
      ]
     },
     "metadata": {},
     "output_type": "display_data"
    },
    {
     "name": "stdout",
     "output_type": "stream",
     "text": [
      "\n",
      "当前章节\t輝夜大小姐想讓我告白 ~天才們的戀愛頭腦戰~漫畫_合作四格_輝夜大小姐想讓我告白 ~天才們的戀愛頭腦戰~漫畫在線閱讀</漫畫名></章節顯示名></漫畫名>  下载完毕\n"
     ]
    },
    {
     "data": {
      "application/vnd.jupyter.widget-view+json": {
       "model_id": "960478b7c02c4f8d827f781e82189b95",
       "version_major": 2,
       "version_minor": 0
      },
      "text/plain": [
       "HBox(children=(FloatProgress(value=0.0, max=21.0), HTML(value='')))"
      ]
     },
     "metadata": {},
     "output_type": "display_data"
    },
    {
     "name": "stdout",
     "output_type": "stream",
     "text": [
      "\n",
      "当前章节\t輝夜大小姐想讓我告白 ~天才們的戀愛頭腦戰~漫畫_周刊40話_輝夜大小姐想讓我告白 ~天才們的戀愛頭腦戰~漫畫在線閱讀</漫畫名></章節顯示名></漫畫名>  下载完毕\n"
     ]
    },
    {
     "data": {
      "application/vnd.jupyter.widget-view+json": {
       "model_id": "6c4d8d20f3ff4f37b2f8afbe6a994aa0",
       "version_major": 2,
       "version_minor": 0
      },
      "text/plain": [
       "HBox(children=(FloatProgress(value=0.0, max=20.0), HTML(value='')))"
      ]
     },
     "metadata": {},
     "output_type": "display_data"
    },
    {
     "name": "stdout",
     "output_type": "stream",
     "text": [
      "\n",
      "当前章节\t輝夜大小姐想讓我告白 ~天才們的戀愛頭腦戰~漫畫_周刊39話_輝夜大小姐想讓我告白 ~天才們的戀愛頭腦戰~漫畫在線閱讀</漫畫名></章節顯示名></漫畫名>  下载完毕\n"
     ]
    },
    {
     "data": {
      "application/vnd.jupyter.widget-view+json": {
       "model_id": "e8a278fa9d8a4f8b99d2077e83440506",
       "version_major": 2,
       "version_minor": 0
      },
      "text/plain": [
       "HBox(children=(FloatProgress(value=0.0, max=20.0), HTML(value='')))"
      ]
     },
     "metadata": {},
     "output_type": "display_data"
    },
    {
     "name": "stdout",
     "output_type": "stream",
     "text": [
      "\n",
      "当前章节\t輝夜大小姐想讓我告白 ~天才們的戀愛頭腦戰~漫畫_周刊38話_輝夜大小姐想讓我告白 ~天才們的戀愛頭腦戰~漫畫在線閱讀</漫畫名></章節顯示名></漫畫名>  下载完毕\n"
     ]
    },
    {
     "data": {
      "application/vnd.jupyter.widget-view+json": {
       "model_id": "734af09c260149b2a103fe6a48e766f0",
       "version_major": 2,
       "version_minor": 0
      },
      "text/plain": [
       "HBox(children=(FloatProgress(value=0.0, max=20.0), HTML(value='')))"
      ]
     },
     "metadata": {},
     "output_type": "display_data"
    },
    {
     "name": "stdout",
     "output_type": "stream",
     "text": [
      "\n",
      "当前章节\t輝夜大小姐想讓我告白 ~天才們的戀愛頭腦戰~漫畫_周刊37話 _輝夜大小姐想讓我告白 ~天才們的戀愛頭腦戰~漫畫在線閱讀</漫畫名></章節顯示名></漫畫名>  下载完毕\n"
     ]
    },
    {
     "data": {
      "application/vnd.jupyter.widget-view+json": {
       "model_id": "59de3cd67c4341b0a1faa43015d230f9",
       "version_major": 2,
       "version_minor": 0
      },
      "text/plain": [
       "HBox(children=(FloatProgress(value=0.0, max=20.0), HTML(value='')))"
      ]
     },
     "metadata": {},
     "output_type": "display_data"
    },
    {
     "name": "stdout",
     "output_type": "stream",
     "text": [
      "\n",
      "当前章节\t輝夜大小姐想讓我告白 ~天才們的戀愛頭腦戰~漫畫_周刊36話_輝夜大小姐想讓我告白 ~天才們的戀愛頭腦戰~漫畫在線閱讀</漫畫名></章節顯示名></漫畫名>  下载完毕\n"
     ]
    },
    {
     "data": {
      "application/vnd.jupyter.widget-view+json": {
       "model_id": "a001b1df2fd349e08a4911886b825a42",
       "version_major": 2,
       "version_minor": 0
      },
      "text/plain": [
       "HBox(children=(FloatProgress(value=0.0, max=23.0), HTML(value='')))"
      ]
     },
     "metadata": {},
     "output_type": "display_data"
    },
    {
     "name": "stdout",
     "output_type": "stream",
     "text": [
      "\n",
      "当前章节\t輝夜大小姐想讓我告白 ~天才們的戀愛頭腦戰~漫畫_周刊35話_輝夜大小姐想讓我告白 ~天才們的戀愛頭腦戰~漫畫在線閱讀</漫畫名></章節顯示名></漫畫名>  下载完毕\n"
     ]
    },
    {
     "data": {
      "application/vnd.jupyter.widget-view+json": {
       "model_id": "296fd62d95bb4c9397fd24bb112cae03",
       "version_major": 2,
       "version_minor": 0
      },
      "text/plain": [
       "HBox(children=(FloatProgress(value=0.0, max=20.0), HTML(value='')))"
      ]
     },
     "metadata": {},
     "output_type": "display_data"
    },
    {
     "name": "stdout",
     "output_type": "stream",
     "text": [
      "\n",
      "当前章节\t輝夜大小姐想讓我告白 ~天才們的戀愛頭腦戰~漫畫_周刊34話 （前篇）_輝夜大小姐想讓我告白 ~天才們的戀愛頭腦戰~漫畫在線閱讀</漫畫名></章節顯示名></漫畫名>  下载完毕\n"
     ]
    },
    {
     "data": {
      "application/vnd.jupyter.widget-view+json": {
       "model_id": "1d24dce6d4e94c1eb649ec901afca82c",
       "version_major": 2,
       "version_minor": 0
      },
      "text/plain": [
       "HBox(children=(FloatProgress(value=0.0, max=20.0), HTML(value='')))"
      ]
     },
     "metadata": {},
     "output_type": "display_data"
    },
    {
     "name": "stdout",
     "output_type": "stream",
     "text": [
      "\n",
      "当前章节\t輝夜大小姐想讓我告白 ~天才們的戀愛頭腦戰~漫畫_周刊41話_輝夜大小姐想讓我告白 ~天才們的戀愛頭腦戰~漫畫在線閱讀</漫畫名></章節顯示名></漫畫名>  下载完毕\n"
     ]
    },
    {
     "data": {
      "application/vnd.jupyter.widget-view+json": {
       "model_id": "b18be7930a7e4e71a66a0c7cef499920",
       "version_major": 2,
       "version_minor": 0
      },
      "text/plain": [
       "HBox(children=(FloatProgress(value=0.0, max=19.0), HTML(value='')))"
      ]
     },
     "metadata": {},
     "output_type": "display_data"
    },
    {
     "name": "stdout",
     "output_type": "stream",
     "text": [
      "\n",
      "当前章节\t輝夜大小姐想讓我告白 ~天才們的戀愛頭腦戰~漫畫_周刊33話_輝夜大小姐想讓我告白 ~天才們的戀愛頭腦戰~漫畫在線閱讀</漫畫名></章節顯示名></漫畫名>  下载完毕\n"
     ]
    },
    {
     "data": {
      "application/vnd.jupyter.widget-view+json": {
       "model_id": "449677d2ddb74541a5486691588de4b5",
       "version_major": 2,
       "version_minor": 0
      },
      "text/plain": [
       "HBox(children=(FloatProgress(value=0.0, max=19.0), HTML(value='')))"
      ]
     },
     "metadata": {},
     "output_type": "display_data"
    },
    {
     "name": "stdout",
     "output_type": "stream",
     "text": [
      "\n",
      "当前章节\t輝夜大小姐想讓我告白 ~天才們的戀愛頭腦戰~漫畫_周刊32話_輝夜大小姐想讓我告白 ~天才們的戀愛頭腦戰~漫畫在線閱讀</漫畫名></章節顯示名></漫畫名>  下载完毕\n"
     ]
    },
    {
     "data": {
      "application/vnd.jupyter.widget-view+json": {
       "model_id": "0494b5a8fd254008a4abf0bacd5a083a",
       "version_major": 2,
       "version_minor": 0
      },
      "text/plain": [
       "HBox(children=(FloatProgress(value=0.0, max=20.0), HTML(value='')))"
      ]
     },
     "metadata": {},
     "output_type": "display_data"
    },
    {
     "name": "stdout",
     "output_type": "stream",
     "text": [
      "\n",
      "当前章节\t輝夜大小姐想讓我告白 ~天才們的戀愛頭腦戰~漫畫_周刊31話_輝夜大小姐想讓我告白 ~天才們的戀愛頭腦戰~漫畫在線閱讀</漫畫名></章節顯示名></漫畫名>  下载完毕\n"
     ]
    },
    {
     "data": {
      "application/vnd.jupyter.widget-view+json": {
       "model_id": "ebcb24b908bb4ac28dfa2da99b5307f6",
       "version_major": 2,
       "version_minor": 0
      },
      "text/plain": [
       "HBox(children=(FloatProgress(value=0.0, max=19.0), HTML(value='')))"
      ]
     },
     "metadata": {},
     "output_type": "display_data"
    },
    {
     "name": "stdout",
     "output_type": "stream",
     "text": [
      "\n",
      "当前章节\t輝夜大小姐想讓我告白 ~天才們的戀愛頭腦戰~漫畫_周刊30話_輝夜大小姐想讓我告白 ~天才們的戀愛頭腦戰~漫畫在線閱讀</漫畫名></章節顯示名></漫畫名>  下载完毕\n"
     ]
    },
    {
     "data": {
      "application/vnd.jupyter.widget-view+json": {
       "model_id": "4c1826df2991479b99fcc41162c8419f",
       "version_major": 2,
       "version_minor": 0
      },
      "text/plain": [
       "HBox(children=(FloatProgress(value=0.0, max=20.0), HTML(value='')))"
      ]
     },
     "metadata": {},
     "output_type": "display_data"
    },
    {
     "name": "stdout",
     "output_type": "stream",
     "text": [
      "\n",
      "当前章节\t輝夜大小姐想讓我告白 ~天才們的戀愛頭腦戰~漫畫_周刊29話_輝夜大小姐想讓我告白 ~天才們的戀愛頭腦戰~漫畫在線閱讀</漫畫名></章節顯示名></漫畫名>  下载完毕\n"
     ]
    },
    {
     "data": {
      "application/vnd.jupyter.widget-view+json": {
       "model_id": "f46edb4e82c24a3e8c0c997cb94c4c9b",
       "version_major": 2,
       "version_minor": 0
      },
      "text/plain": [
       "HBox(children=(FloatProgress(value=0.0, max=20.0), HTML(value='')))"
      ]
     },
     "metadata": {},
     "output_type": "display_data"
    },
    {
     "name": "stdout",
     "output_type": "stream",
     "text": [
      "\n",
      "当前章节\t輝夜大小姐想讓我告白 ~天才們的戀愛頭腦戰~漫畫_周刊28話_輝夜大小姐想讓我告白 ~天才們的戀愛頭腦戰~漫畫在線閱讀</漫畫名></章節顯示名></漫畫名>  下载完毕\n"
     ]
    },
    {
     "data": {
      "application/vnd.jupyter.widget-view+json": {
       "model_id": "b35e80b03e1a494c856d1470dda20e89",
       "version_major": 2,
       "version_minor": 0
      },
      "text/plain": [
       "HBox(children=(FloatProgress(value=0.0, max=19.0), HTML(value='')))"
      ]
     },
     "metadata": {},
     "output_type": "display_data"
    },
    {
     "name": "stdout",
     "output_type": "stream",
     "text": [
      "\n",
      "当前章节\t輝夜大小姐想讓我告白 ~天才們的戀愛頭腦戰~漫畫_周刊27話_輝夜大小姐想讓我告白 ~天才們的戀愛頭腦戰~漫畫在線閱讀</漫畫名></章節顯示名></漫畫名>  下载完毕\n"
     ]
    },
    {
     "data": {
      "application/vnd.jupyter.widget-view+json": {
       "model_id": "7a895819617548df9d6828ef8d9cb9a6",
       "version_major": 2,
       "version_minor": 0
      },
      "text/plain": [
       "HBox(children=(FloatProgress(value=0.0, max=20.0), HTML(value='')))"
      ]
     },
     "metadata": {},
     "output_type": "display_data"
    },
    {
     "name": "stdout",
     "output_type": "stream",
     "text": [
      "\n",
      "当前章节\t輝夜大小姐想讓我告白 ~天才們的戀愛頭腦戰~漫畫_周刊26話_輝夜大小姐想讓我告白 ~天才們的戀愛頭腦戰~漫畫在線閱讀</漫畫名></章節顯示名></漫畫名>  下载完毕\n"
     ]
    },
    {
     "data": {
      "application/vnd.jupyter.widget-view+json": {
       "model_id": "d4a012328cc448aca5e0ce0fa5f3c0dd",
       "version_major": 2,
       "version_minor": 0
      },
      "text/plain": [
       "HBox(children=(FloatProgress(value=0.0, max=19.0), HTML(value='')))"
      ]
     },
     "metadata": {},
     "output_type": "display_data"
    },
    {
     "name": "stdout",
     "output_type": "stream",
     "text": [
      "\n",
      "当前章节\t輝夜大小姐想讓我告白 ~天才們的戀愛頭腦戰~漫畫_周刊25話_輝夜大小姐想讓我告白 ~天才們的戀愛頭腦戰~漫畫在線閱讀</漫畫名></章節顯示名></漫畫名>  下载完毕\n"
     ]
    },
    {
     "data": {
      "application/vnd.jupyter.widget-view+json": {
       "model_id": "84575054907d4660b36b34a9ef52c116",
       "version_major": 2,
       "version_minor": 0
      },
      "text/plain": [
       "HBox(children=(FloatProgress(value=0.0, max=19.0), HTML(value='')))"
      ]
     },
     "metadata": {},
     "output_type": "display_data"
    },
    {
     "name": "stdout",
     "output_type": "stream",
     "text": [
      "\n",
      "当前章节\t輝夜大小姐想讓我告白 ~天才們的戀愛頭腦戰~漫畫_周刊24話_輝夜大小姐想讓我告白 ~天才們的戀愛頭腦戰~漫畫在線閱讀</漫畫名></章節顯示名></漫畫名>  下载完毕\n"
     ]
    },
    {
     "data": {
      "application/vnd.jupyter.widget-view+json": {
       "model_id": "e4a90242f2874850983e7f52a9bf359e",
       "version_major": 2,
       "version_minor": 0
      },
      "text/plain": [
       "HBox(children=(FloatProgress(value=0.0, max=19.0), HTML(value='')))"
      ]
     },
     "metadata": {},
     "output_type": "display_data"
    },
    {
     "name": "stdout",
     "output_type": "stream",
     "text": [
      "\n",
      "当前章节\t輝夜大小姐想讓我告白 ~天才們的戀愛頭腦戰~漫畫_周刊23話 _輝夜大小姐想讓我告白 ~天才們的戀愛頭腦戰~漫畫在線閱讀</漫畫名></章節顯示名></漫畫名>  下载完毕\n"
     ]
    },
    {
     "data": {
      "application/vnd.jupyter.widget-view+json": {
       "model_id": "8bdb4a4667f54ef29a925ed90363f22f",
       "version_major": 2,
       "version_minor": 0
      },
      "text/plain": [
       "HBox(children=(FloatProgress(value=0.0, max=19.0), HTML(value='')))"
      ]
     },
     "metadata": {},
     "output_type": "display_data"
    },
    {
     "name": "stdout",
     "output_type": "stream",
     "text": [
      "\n",
      "当前章节\t輝夜大小姐想讓我告白 ~天才們的戀愛頭腦戰~漫畫_周刊22話 _輝夜大小姐想讓我告白 ~天才們的戀愛頭腦戰~漫畫在線閱讀</漫畫名></章節顯示名></漫畫名>  下载完毕\n"
     ]
    },
    {
     "data": {
      "application/vnd.jupyter.widget-view+json": {
       "model_id": "937d0b82fee7449d8ecb992edccd3d34",
       "version_major": 2,
       "version_minor": 0
      },
      "text/plain": [
       "HBox(children=(FloatProgress(value=0.0, max=19.0), HTML(value='')))"
      ]
     },
     "metadata": {},
     "output_type": "display_data"
    },
    {
     "name": "stdout",
     "output_type": "stream",
     "text": [
      "\n",
      "当前章节\t輝夜大小姐想讓我告白 ~天才們的戀愛頭腦戰~漫畫_周刊21話_輝夜大小姐想讓我告白 ~天才們的戀愛頭腦戰~漫畫在線閱讀</漫畫名></章節顯示名></漫畫名>  下载完毕\n"
     ]
    },
    {
     "data": {
      "application/vnd.jupyter.widget-view+json": {
       "model_id": "80bd753fbe414849873674b8786bc259",
       "version_major": 2,
       "version_minor": 0
      },
      "text/plain": [
       "HBox(children=(FloatProgress(value=0.0, max=19.0), HTML(value='')))"
      ]
     },
     "metadata": {},
     "output_type": "display_data"
    },
    {
     "name": "stdout",
     "output_type": "stream",
     "text": [
      "\n",
      "当前章节\t輝夜大小姐想讓我告白 ~天才們的戀愛頭腦戰~漫畫_周刊20話_輝夜大小姐想讓我告白 ~天才們的戀愛頭腦戰~漫畫在線閱讀</漫畫名></章節顯示名></漫畫名>  下载完毕\n"
     ]
    },
    {
     "data": {
      "application/vnd.jupyter.widget-view+json": {
       "model_id": "790cce2d58544d9785d7a9fbbc1865e3",
       "version_major": 2,
       "version_minor": 0
      },
      "text/plain": [
       "HBox(children=(FloatProgress(value=0.0, max=20.0), HTML(value='')))"
      ]
     },
     "metadata": {},
     "output_type": "display_data"
    },
    {
     "name": "stdout",
     "output_type": "stream",
     "text": [
      "\n",
      "当前章节\t輝夜大小姐想讓我告白 ~天才們的戀愛頭腦戰~漫畫_MJ凱旋特別篇_輝夜大小姐想讓我告白 ~天才們的戀愛頭腦戰~漫畫在線閱讀</漫畫名></章節顯示名></漫畫名>  下载完毕\n"
     ]
    },
    {
     "data": {
      "application/vnd.jupyter.widget-view+json": {
       "model_id": "800acad8ba14489288c5cdcf50ecb8f6",
       "version_major": 2,
       "version_minor": 0
      },
      "text/plain": [
       "HBox(children=(FloatProgress(value=0.0, max=19.0), HTML(value='')))"
      ]
     },
     "metadata": {},
     "output_type": "display_data"
    },
    {
     "name": "stdout",
     "output_type": "stream",
     "text": [
      "\n",
      "当前章节\t輝夜大小姐想讓我告白 ~天才們的戀愛頭腦戰~漫畫_周刊19話_輝夜大小姐想讓我告白 ~天才們的戀愛頭腦戰~漫畫在線閱讀</漫畫名></章節顯示名></漫畫名>  下载完毕\n"
     ]
    },
    {
     "data": {
      "application/vnd.jupyter.widget-view+json": {
       "model_id": "1a3406fe0ac44659ac08687d9b208a18",
       "version_major": 2,
       "version_minor": 0
      },
      "text/plain": [
       "HBox(children=(FloatProgress(value=0.0, max=19.0), HTML(value='')))"
      ]
     },
     "metadata": {},
     "output_type": "display_data"
    },
    {
     "name": "stdout",
     "output_type": "stream",
     "text": [
      "\n",
      "当前章节\t輝夜大小姐想讓我告白 ~天才們的戀愛頭腦戰~漫畫_周刊18話_輝夜大小姐想讓我告白 ~天才們的戀愛頭腦戰~漫畫在線閱讀</漫畫名></章節顯示名></漫畫名>  下载完毕\n"
     ]
    },
    {
     "data": {
      "application/vnd.jupyter.widget-view+json": {
       "model_id": "a5d4f3bb09a2412c82588c2f757a1bc7",
       "version_major": 2,
       "version_minor": 0
      },
      "text/plain": [
       "HBox(children=(FloatProgress(value=0.0, max=20.0), HTML(value='')))"
      ]
     },
     "metadata": {},
     "output_type": "display_data"
    },
    {
     "name": "stdout",
     "output_type": "stream",
     "text": [
      "\n",
      "当前章节\t輝夜大小姐想讓我告白 ~天才們的戀愛頭腦戰~漫畫_周刊17話_輝夜大小姐想讓我告白 ~天才們的戀愛頭腦戰~漫畫在線閱讀</漫畫名></章節顯示名></漫畫名>  下载完毕\n"
     ]
    },
    {
     "data": {
      "application/vnd.jupyter.widget-view+json": {
       "model_id": "2ab9532512d941059899a5c065dd179e",
       "version_major": 2,
       "version_minor": 0
      },
      "text/plain": [
       "HBox(children=(FloatProgress(value=0.0, max=19.0), HTML(value='')))"
      ]
     },
     "metadata": {},
     "output_type": "display_data"
    },
    {
     "name": "stdout",
     "output_type": "stream",
     "text": [
      "\n",
      "当前章节\t輝夜大小姐想讓我告白 ~天才們的戀愛頭腦戰~漫畫_周刊16話 _輝夜大小姐想讓我告白 ~天才們的戀愛頭腦戰~漫畫在線閱讀</漫畫名></章節顯示名></漫畫名>  下载完毕\n"
     ]
    },
    {
     "data": {
      "application/vnd.jupyter.widget-view+json": {
       "model_id": "c31904bb981242f090175ed3eb03b430",
       "version_major": 2,
       "version_minor": 0
      },
      "text/plain": [
       "HBox(children=(FloatProgress(value=0.0, max=19.0), HTML(value='')))"
      ]
     },
     "metadata": {},
     "output_type": "display_data"
    },
    {
     "name": "stdout",
     "output_type": "stream",
     "text": [
      "\n",
      "当前章节\t輝夜大小姐想讓我告白 ~天才們的戀愛頭腦戰~漫畫_周刊15話_輝夜大小姐想讓我告白 ~天才們的戀愛頭腦戰~漫畫在線閱讀</漫畫名></章節顯示名></漫畫名>  下载完毕\n"
     ]
    },
    {
     "data": {
      "application/vnd.jupyter.widget-view+json": {
       "model_id": "e572cfc179144cec8d85d2e4459ccc18",
       "version_major": 2,
       "version_minor": 0
      },
      "text/plain": [
       "HBox(children=(FloatProgress(value=0.0, max=19.0), HTML(value='')))"
      ]
     },
     "metadata": {},
     "output_type": "display_data"
    },
    {
     "name": "stdout",
     "output_type": "stream",
     "text": [
      "\n",
      "当前章节\t輝夜大小姐想讓我告白 ~天才們的戀愛頭腦戰~漫畫_周刊14話_輝夜大小姐想讓我告白 ~天才們的戀愛頭腦戰~漫畫在線閱讀</漫畫名></章節顯示名></漫畫名>  下载完毕\n"
     ]
    },
    {
     "data": {
      "application/vnd.jupyter.widget-view+json": {
       "model_id": "b759934a133a4b029fdae517eea45b38",
       "version_major": 2,
       "version_minor": 0
      },
      "text/plain": [
       "HBox(children=(FloatProgress(value=0.0, max=19.0), HTML(value='')))"
      ]
     },
     "metadata": {},
     "output_type": "display_data"
    },
    {
     "name": "stdout",
     "output_type": "stream",
     "text": [
      "\n",
      "当前章节\t輝夜大小姐想讓我告白 ~天才們的戀愛頭腦戰~漫畫_周刊13話_輝夜大小姐想讓我告白 ~天才們的戀愛頭腦戰~漫畫在線閱讀</漫畫名></章節顯示名></漫畫名>  下载完毕\n"
     ]
    },
    {
     "data": {
      "application/vnd.jupyter.widget-view+json": {
       "model_id": "aa569c87e98e421ba42996f76517583a",
       "version_major": 2,
       "version_minor": 0
      },
      "text/plain": [
       "HBox(children=(FloatProgress(value=0.0, max=19.0), HTML(value='')))"
      ]
     },
     "metadata": {},
     "output_type": "display_data"
    },
    {
     "name": "stdout",
     "output_type": "stream",
     "text": [
      "\n",
      "当前章节\t輝夜大小姐想讓我告白 ~天才們的戀愛頭腦戰~漫畫_周刊12話_輝夜大小姐想讓我告白 ~天才們的戀愛頭腦戰~漫畫在線閱讀</漫畫名></章節顯示名></漫畫名>  下载完毕\n"
     ]
    },
    {
     "data": {
      "application/vnd.jupyter.widget-view+json": {
       "model_id": "4bd002b4eee74389b59dc57a62574d9d",
       "version_major": 2,
       "version_minor": 0
      },
      "text/plain": [
       "HBox(children=(FloatProgress(value=0.0, max=20.0), HTML(value='')))"
      ]
     },
     "metadata": {},
     "output_type": "display_data"
    },
    {
     "name": "stdout",
     "output_type": "stream",
     "text": [
      "\n",
      "当前章节\t輝夜大小姐想讓我告白 ~天才們的戀愛頭腦戰~漫畫_周刊11話_輝夜大小姐想讓我告白 ~天才們的戀愛頭腦戰~漫畫在線閱讀</漫畫名></章節顯示名></漫畫名>  下载完毕\n"
     ]
    },
    {
     "data": {
      "application/vnd.jupyter.widget-view+json": {
       "model_id": "d95e2c7180dc4308a45a34649751ea17",
       "version_major": 2,
       "version_minor": 0
      },
      "text/plain": [
       "HBox(children=(FloatProgress(value=0.0, max=19.0), HTML(value='')))"
      ]
     },
     "metadata": {},
     "output_type": "display_data"
    },
    {
     "name": "stdout",
     "output_type": "stream",
     "text": [
      "\n",
      "当前章节\t輝夜大小姐想讓我告白 ~天才們的戀愛頭腦戰~漫畫_周刊10話_輝夜大小姐想讓我告白 ~天才們的戀愛頭腦戰~漫畫在線閱讀</漫畫名></章節顯示名></漫畫名>  下载完毕\n"
     ]
    },
    {
     "data": {
      "application/vnd.jupyter.widget-view+json": {
       "model_id": "5ddc52a8709a49dc89dbf1f493166a21",
       "version_major": 2,
       "version_minor": 0
      },
      "text/plain": [
       "HBox(children=(FloatProgress(value=0.0, max=19.0), HTML(value='')))"
      ]
     },
     "metadata": {},
     "output_type": "display_data"
    },
    {
     "name": "stdout",
     "output_type": "stream",
     "text": [
      "\n",
      "当前章节\t輝夜大小姐想讓我告白 ~天才們的戀愛頭腦戰~漫畫_周刊09話_輝夜大小姐想讓我告白 ~天才們的戀愛頭腦戰~漫畫在線閱讀</漫畫名></章節顯示名></漫畫名>  下载完毕\n"
     ]
    },
    {
     "data": {
      "application/vnd.jupyter.widget-view+json": {
       "model_id": "8ea934953df240bbbdee03ad5b8414ec",
       "version_major": 2,
       "version_minor": 0
      },
      "text/plain": [
       "HBox(children=(FloatProgress(value=0.0, max=19.0), HTML(value='')))"
      ]
     },
     "metadata": {},
     "output_type": "display_data"
    },
    {
     "name": "stdout",
     "output_type": "stream",
     "text": [
      "\n",
      "当前章节\t輝夜大小姐想讓我告白 ~天才們的戀愛頭腦戰~漫畫_周刊08話_輝夜大小姐想讓我告白 ~天才們的戀愛頭腦戰~漫畫在線閱讀</漫畫名></章節顯示名></漫畫名>  下载完毕\n"
     ]
    },
    {
     "data": {
      "application/vnd.jupyter.widget-view+json": {
       "model_id": "11a4a1d74020402396dec3c5b10b4c97",
       "version_major": 2,
       "version_minor": 0
      },
      "text/plain": [
       "HBox(children=(FloatProgress(value=0.0, max=20.0), HTML(value='')))"
      ]
     },
     "metadata": {},
     "output_type": "display_data"
    },
    {
     "name": "stdout",
     "output_type": "stream",
     "text": [
      "\n",
      "当前章节\t輝夜大小姐想讓我告白 ~天才們的戀愛頭腦戰~漫畫_周刊07話_輝夜大小姐想讓我告白 ~天才們的戀愛頭腦戰~漫畫在線閱讀</漫畫名></章節顯示名></漫畫名>  下载完毕\n"
     ]
    },
    {
     "data": {
      "application/vnd.jupyter.widget-view+json": {
       "model_id": "dbbd4fa23d374cceb9dc6d0aa061bc5d",
       "version_major": 2,
       "version_minor": 0
      },
      "text/plain": [
       "HBox(children=(FloatProgress(value=0.0, max=19.0), HTML(value='')))"
      ]
     },
     "metadata": {},
     "output_type": "display_data"
    },
    {
     "name": "stdout",
     "output_type": "stream",
     "text": [
      "\n",
      "当前章节\t輝夜大小姐想讓我告白 ~天才們的戀愛頭腦戰~漫畫_周刊06話_輝夜大小姐想讓我告白 ~天才們的戀愛頭腦戰~漫畫在線閱讀</漫畫名></章節顯示名></漫畫名>  下载完毕\n"
     ]
    },
    {
     "data": {
      "application/vnd.jupyter.widget-view+json": {
       "model_id": "4a2ad1087fbe49a7835835e58de9635e",
       "version_major": 2,
       "version_minor": 0
      },
      "text/plain": [
       "HBox(children=(FloatProgress(value=0.0, max=19.0), HTML(value='')))"
      ]
     },
     "metadata": {},
     "output_type": "display_data"
    },
    {
     "name": "stdout",
     "output_type": "stream",
     "text": [
      "\n",
      "当前章节\t輝夜大小姐想讓我告白 ~天才們的戀愛頭腦戰~漫畫_周刊05話_輝夜大小姐想讓我告白 ~天才們的戀愛頭腦戰~漫畫在線閱讀</漫畫名></章節顯示名></漫畫名>  下载完毕\n"
     ]
    },
    {
     "data": {
      "application/vnd.jupyter.widget-view+json": {
       "model_id": "d266e438ae77450b9d27c512c9943d11",
       "version_major": 2,
       "version_minor": 0
      },
      "text/plain": [
       "HBox(children=(FloatProgress(value=0.0, max=23.0), HTML(value='')))"
      ]
     },
     "metadata": {},
     "output_type": "display_data"
    },
    {
     "name": "stdout",
     "output_type": "stream",
     "text": [
      "\n",
      "当前章节\t輝夜大小姐想讓我告白 ~天才們的戀愛頭腦戰~漫畫_周刊04話_輝夜大小姐想讓我告白 ~天才們的戀愛頭腦戰~漫畫在線閱讀</漫畫名></章節顯示名></漫畫名>  下载完毕\n"
     ]
    },
    {
     "data": {
      "application/vnd.jupyter.widget-view+json": {
       "model_id": "a5cdf42b88f5481b9cf5c37c48529b04",
       "version_major": 2,
       "version_minor": 0
      },
      "text/plain": [
       "HBox(children=(FloatProgress(value=0.0, max=20.0), HTML(value='')))"
      ]
     },
     "metadata": {},
     "output_type": "display_data"
    },
    {
     "name": "stdout",
     "output_type": "stream",
     "text": [
      "\n",
      "当前章节\t輝夜大小姐想讓我告白 ~天才們的戀愛頭腦戰~漫畫_周刊03_輝夜大小姐想讓我告白 ~天才們的戀愛頭腦戰~漫畫在線閱讀</漫畫名></章節顯示名></漫畫名>  下载完毕\n"
     ]
    },
    {
     "data": {
      "application/vnd.jupyter.widget-view+json": {
       "model_id": "dae4aae6cfba49cf9b73dd0d7a843bcc",
       "version_major": 2,
       "version_minor": 0
      },
      "text/plain": [
       "HBox(children=(FloatProgress(value=0.0, max=17.0), HTML(value='')))"
      ]
     },
     "metadata": {},
     "output_type": "display_data"
    },
    {
     "name": "stdout",
     "output_type": "stream",
     "text": [
      "\n",
      "当前章节\t輝夜大小姐想讓我告白 ~天才們的戀愛頭腦戰~漫畫_周刊02話_輝夜大小姐想讓我告白 ~天才們的戀愛頭腦戰~漫畫在線閱讀</漫畫名></章節顯示名></漫畫名>  下载完毕\n"
     ]
    },
    {
     "data": {
      "application/vnd.jupyter.widget-view+json": {
       "model_id": "b48b413c734d4e62b7e4abcf1f4c984f",
       "version_major": 2,
       "version_minor": 0
      },
      "text/plain": [
       "HBox(children=(FloatProgress(value=0.0, max=31.0), HTML(value='')))"
      ]
     },
     "metadata": {},
     "output_type": "display_data"
    },
    {
     "name": "stdout",
     "output_type": "stream",
     "text": [
      "\n",
      "当前章节\t輝夜大小姐想讓我告白 ~天才們的戀愛頭腦戰~漫畫_周刊01話_輝夜大小姐想讓我告白 ~天才們的戀愛頭腦戰~漫畫在線閱讀</漫畫名></章節顯示名></漫畫名>  下载完毕\n"
     ]
    },
    {
     "data": {
      "application/vnd.jupyter.widget-view+json": {
       "model_id": "c622670382254deb8a51f1bab277ed19",
       "version_major": 2,
       "version_minor": 0
      },
      "text/plain": [
       "HBox(children=(FloatProgress(value=0.0, max=21.0), HTML(value='')))"
      ]
     },
     "metadata": {},
     "output_type": "display_data"
    },
    {
     "name": "stdout",
     "output_type": "stream",
     "text": [
      "\n",
      "当前章节\t輝夜大小姐想讓我告白 ~天才們的戀愛頭腦戰~漫畫_第10話_輝夜大小姐想讓我告白 ~天才們的戀愛頭腦戰~漫畫在線閱讀</漫畫名></章節顯示名></漫畫名>  下载完毕\n"
     ]
    },
    {
     "data": {
      "application/vnd.jupyter.widget-view+json": {
       "model_id": "ec45aca5b5e446a3bd190070c126d7b8",
       "version_major": 2,
       "version_minor": 0
      },
      "text/plain": [
       "HBox(children=(FloatProgress(value=0.0, max=22.0), HTML(value='')))"
      ]
     },
     "metadata": {},
     "output_type": "display_data"
    },
    {
     "name": "stdout",
     "output_type": "stream",
     "text": [
      "\n",
      "当前章节\t輝夜大小姐想讓我告白 ~天才們的戀愛頭腦戰~漫畫_第9話_輝夜大小姐想讓我告白 ~天才們的戀愛頭腦戰~漫畫在線閱讀</漫畫名></章節顯示名></漫畫名>  下载完毕\n"
     ]
    },
    {
     "data": {
      "application/vnd.jupyter.widget-view+json": {
       "model_id": "9e1d8a2728534dfbb21af6d6ad60f17c",
       "version_major": 2,
       "version_minor": 0
      },
      "text/plain": [
       "HBox(children=(FloatProgress(value=0.0, max=20.0), HTML(value='')))"
      ]
     },
     "metadata": {},
     "output_type": "display_data"
    },
    {
     "name": "stdout",
     "output_type": "stream",
     "text": [
      "\n",
      "当前章节\t輝夜大小姐想讓我告白 ~天才們的戀愛頭腦戰~漫畫_第8話_輝夜大小姐想讓我告白 ~天才們的戀愛頭腦戰~漫畫在線閱讀</漫畫名></章節顯示名></漫畫名>  下载完毕\n"
     ]
    },
    {
     "data": {
      "application/vnd.jupyter.widget-view+json": {
       "model_id": "5f1b43e2d5354506ac87192d17e9b4e7",
       "version_major": 2,
       "version_minor": 0
      },
      "text/plain": [
       "HBox(children=(FloatProgress(value=0.0, max=20.0), HTML(value='')))"
      ]
     },
     "metadata": {},
     "output_type": "display_data"
    },
    {
     "name": "stdout",
     "output_type": "stream",
     "text": [
      "\n",
      "当前章节\t輝夜大小姐想讓我告白 ~天才們的戀愛頭腦戰~漫畫_第7話_輝夜大小姐想讓我告白 ~天才們的戀愛頭腦戰~漫畫在線閱讀</漫畫名></章節顯示名></漫畫名>  下载完毕\n"
     ]
    },
    {
     "data": {
      "application/vnd.jupyter.widget-view+json": {
       "model_id": "46d4428ce3e44cf8bd829f0c64268f09",
       "version_major": 2,
       "version_minor": 0
      },
      "text/plain": [
       "HBox(children=(FloatProgress(value=0.0, max=20.0), HTML(value='')))"
      ]
     },
     "metadata": {},
     "output_type": "display_data"
    },
    {
     "name": "stdout",
     "output_type": "stream",
     "text": [
      "\n",
      "当前章节\t輝夜大小姐想讓我告白 ~天才們的戀愛頭腦戰~漫畫_第6話_輝夜大小姐想讓我告白 ~天才們的戀愛頭腦戰~漫畫在線閱讀</漫畫名></章節顯示名></漫畫名>  下载完毕\n"
     ]
    },
    {
     "data": {
      "application/vnd.jupyter.widget-view+json": {
       "model_id": "607f3b1d6b414a1b9ce34f14368916a1",
       "version_major": 2,
       "version_minor": 0
      },
      "text/plain": [
       "HBox(children=(FloatProgress(value=0.0, max=20.0), HTML(value='')))"
      ]
     },
     "metadata": {},
     "output_type": "display_data"
    },
    {
     "name": "stdout",
     "output_type": "stream",
     "text": [
      "\n",
      "当前章节\t輝夜大小姐想讓我告白 ~天才們的戀愛頭腦戰~漫畫_第5話_輝夜大小姐想讓我告白 ~天才們的戀愛頭腦戰~漫畫在線閱讀</漫畫名></章節顯示名></漫畫名>  下载完毕\n"
     ]
    },
    {
     "data": {
      "application/vnd.jupyter.widget-view+json": {
       "model_id": "4638fc06e8634b9f966e42ea8138c083",
       "version_major": 2,
       "version_minor": 0
      },
      "text/plain": [
       "HBox(children=(FloatProgress(value=0.0, max=16.0), HTML(value='')))"
      ]
     },
     "metadata": {},
     "output_type": "display_data"
    },
    {
     "name": "stdout",
     "output_type": "stream",
     "text": [
      "\n",
      "当前章节\t輝夜大小姐想讓我告白 ~天才們的戀愛頭腦戰~漫畫_出張版_輝夜大小姐想讓我告白 ~天才們的戀愛頭腦戰~漫畫在線閱讀</漫畫名></章節顯示名></漫畫名>  下载完毕\n"
     ]
    },
    {
     "data": {
      "application/vnd.jupyter.widget-view+json": {
       "model_id": "ce4585afbbe84a5395d8f8b8d1dc1ef3",
       "version_major": 2,
       "version_minor": 0
      },
      "text/plain": [
       "HBox(children=(FloatProgress(value=0.0, max=20.0), HTML(value='')))"
      ]
     },
     "metadata": {},
     "output_type": "display_data"
    },
    {
     "name": "stdout",
     "output_type": "stream",
     "text": [
      "\n",
      "当前章节\t輝夜大小姐想讓我告白 ~天才們的戀愛頭腦戰~漫畫_第4話_輝夜大小姐想讓我告白 ~天才們的戀愛頭腦戰~漫畫在線閱讀</漫畫名></章節顯示名></漫畫名>  下载完毕\n"
     ]
    },
    {
     "data": {
      "application/vnd.jupyter.widget-view+json": {
       "model_id": "dec324b8885c41cd92c53c86de43ef92",
       "version_major": 2,
       "version_minor": 0
      },
      "text/plain": [
       "HBox(children=(FloatProgress(value=0.0, max=19.0), HTML(value='')))"
      ]
     },
     "metadata": {},
     "output_type": "display_data"
    },
    {
     "name": "stdout",
     "output_type": "stream",
     "text": [
      "\n",
      "当前章节\t輝夜大小姐想讓我告白 ~天才們的戀愛頭腦戰~漫畫_第3話_輝夜大小姐想讓我告白 ~天才們的戀愛頭腦戰~漫畫在線閱讀</漫畫名></章節顯示名></漫畫名>  下载完毕\n"
     ]
    },
    {
     "data": {
      "application/vnd.jupyter.widget-view+json": {
       "model_id": "d9607770b29640a89d2c3a99d949dea2",
       "version_major": 2,
       "version_minor": 0
      },
      "text/plain": [
       "HBox(children=(FloatProgress(value=0.0, max=20.0), HTML(value='')))"
      ]
     },
     "metadata": {},
     "output_type": "display_data"
    },
    {
     "name": "stdout",
     "output_type": "stream",
     "text": [
      "\n",
      "当前章节\t輝夜大小姐想讓我告白 ~天才們的戀愛頭腦戰~漫畫_第2話_輝夜大小姐想讓我告白 ~天才們的戀愛頭腦戰~漫畫在線閱讀</漫畫名></章節顯示名></漫畫名>  下载完毕\n"
     ]
    },
    {
     "data": {
      "application/vnd.jupyter.widget-view+json": {
       "model_id": "37452db2dedc4ffdaf791132af9d3088",
       "version_major": 2,
       "version_minor": 0
      },
      "text/plain": [
       "HBox(children=(FloatProgress(value=0.0, max=23.0), HTML(value='')))"
      ]
     },
     "metadata": {},
     "output_type": "display_data"
    },
    {
     "name": "stdout",
     "output_type": "stream",
     "text": [
      "\n",
      "当前章节\t輝夜大小姐想讓我告白 ~天才們的戀愛頭腦戰~漫畫_第1話_輝夜大小姐想讓我告白 ~天才們的戀愛頭腦戰~漫畫在線閱讀</漫畫名></章節顯示名></漫畫名>  下载完毕\n"
     ]
    },
    {
     "data": {
      "application/vnd.jupyter.widget-view+json": {
       "model_id": "8f3819950ea0499b809a3d3652f89bc0",
       "version_major": 2,
       "version_minor": 0
      },
      "text/plain": [
       "HBox(children=(FloatProgress(value=0.0, max=210.0), HTML(value='')))"
      ]
     },
     "metadata": {},
     "output_type": "display_data"
    },
    {
     "name": "stdout",
     "output_type": "stream",
     "text": [
      "\n",
      "当前章节\t輝夜大小姐想讓我告白 ~天才們的戀愛頭腦戰~漫畫_第5卷_輝夜大小姐想讓我告白 ~天才們的戀愛頭腦戰~漫畫在線閱讀</漫畫名></章節顯示名></漫畫名>  下载完毕\n"
     ]
    },
    {
     "data": {
      "application/vnd.jupyter.widget-view+json": {
       "model_id": "ac2517e7fea14cef9d092e47d221c3ef",
       "version_major": 2,
       "version_minor": 0
      },
      "text/plain": [
       "HBox(children=(FloatProgress(value=0.0, max=208.0), HTML(value='')))"
      ]
     },
     "metadata": {},
     "output_type": "display_data"
    },
    {
     "name": "stdout",
     "output_type": "stream",
     "text": [
      "\n",
      "当前章节\t輝夜大小姐想讓我告白 ~天才們的戀愛頭腦戰~漫畫_第4卷_輝夜大小姐想讓我告白 ~天才們的戀愛頭腦戰~漫畫在線閱讀</漫畫名></章節顯示名></漫畫名>  下载完毕\n"
     ]
    },
    {
     "data": {
      "application/vnd.jupyter.widget-view+json": {
       "model_id": "c2c4d9ffd3d54a218ff696123ef26cb1",
       "version_major": 2,
       "version_minor": 0
      },
      "text/plain": [
       "HBox(children=(FloatProgress(value=0.0, max=208.0), HTML(value='')))"
      ]
     },
     "metadata": {},
     "output_type": "display_data"
    },
    {
     "name": "stdout",
     "output_type": "stream",
     "text": [
      "\n",
      "当前章节\t輝夜大小姐想讓我告白 ~天才們的戀愛頭腦戰~漫畫_第3卷_輝夜大小姐想讓我告白 ~天才們的戀愛頭腦戰~漫畫在線閱讀</漫畫名></章節顯示名></漫畫名>  下载完毕\n"
     ]
    },
    {
     "data": {
      "application/vnd.jupyter.widget-view+json": {
       "model_id": "21ed8e7c9fbc49e489633950734ff0c3",
       "version_major": 2,
       "version_minor": 0
      },
      "text/plain": [
       "HBox(children=(FloatProgress(value=0.0, max=220.0), HTML(value='')))"
      ]
     },
     "metadata": {},
     "output_type": "display_data"
    },
    {
     "name": "stdout",
     "output_type": "stream",
     "text": [
      "\n",
      "当前章节\t輝夜大小姐想讓我告白 ~天才們的戀愛頭腦戰~漫畫_第2卷_輝夜大小姐想讓我告白 ~天才們的戀愛頭腦戰~漫畫在線閱讀</漫畫名></章節顯示名></漫畫名>  下载完毕\n"
     ]
    },
    {
     "data": {
      "application/vnd.jupyter.widget-view+json": {
       "model_id": "48c79dcdf49843d0a5078c8071177566",
       "version_major": 2,
       "version_minor": 0
      },
      "text/plain": [
       "HBox(children=(FloatProgress(value=0.0, max=212.0), HTML(value='')))"
      ]
     },
     "metadata": {},
     "output_type": "display_data"
    },
    {
     "name": "stdout",
     "output_type": "stream",
     "text": [
      "\n",
      "当前章节\t輝夜大小姐想讓我告白 ~天才們的戀愛頭腦戰~漫畫_第1卷_輝夜大小姐想讓我告白 ~天才們的戀愛頭腦戰~漫畫在線閱讀</漫畫名></章節顯示名></漫畫名>  下载完毕\n",
      "\n",
      "所有章节下载完毕\n"
     ]
    }
   ],
   "source": [
    "browser = webdriver.PhantomJS()\n",
    "#browser = webdriver.Chrome(executable_path='/Users/james/chromedriver')\n",
    "for url in tqdm(comic_list):\n",
    "    try:\n",
    "        print('当前章节\\t{}  下载开始'.format(browser.title))\n",
    "        browser.get(url)\n",
    "        browser.implicitly_wait(3)\n",
    "\n",
    "        # 创建章节目录\n",
    "        dirname = basedir + '/' + browser.title.split('_')[1]\n",
    "        mkdir(dirname)\n",
    "\n",
    "        for i in tqdm(range(len(browser.find_elements_by_class_name('chapterpage')))):\n",
    "            #print (page.get_attribute(\"href\"))\n",
    "            browser.get(browser.find_elements_by_class_name('chapterpage')[i].get_attribute(\"href\"))\n",
    "            browser.implicitly_wait(3)\n",
    "            pic_url  = browser.find_element_by_id('cp_image').get_attribute('src')\n",
    "            #pic_url = browser.find_element_by_id('curPic').get_attribute('src')\n",
    "            filename = dirname + '/' + str(i+1) + '.jpg'\n",
    "            SavePic(filename, pic_url)\n",
    "            # 点击下一页的按钮，加载下一张图\n",
    "            #count +=1\n",
    "\n",
    "        print('当前章节\\t{}  下载完毕'.format(browser.title))\n",
    "    except:\n",
    "        print('当前章节\\t{}  下载出错'.format(browser.title)) \n",
    "\n",
    "browser.quit()\n",
    "print('所有章节下载完毕')"
   ]
  },
  {
   "cell_type": "code",
   "execution_count": null,
   "metadata": {},
   "outputs": [],
   "source": [
    "import zipfile\n",
    "\n",
    "def zipdir(path, ziph):\n",
    "    # ziph is zipfile handle\n",
    "    for root, dirs, files in os.walk(path):\n",
    "        for file in files:\n",
    "            print (os.path.join(root, file+'.zip'))\n",
    "            ziph.write(os.path.join(root, file))\n",
    "for i in tqdm(os.listdir(basedir)):\n",
    "    zipf = zipfile.ZipFile(basedir+i+'.zip', 'w', zipfile.ZIP_DEFLATED)\n",
    "    zipdir(basedir+i, zipf)\n",
    "    \n",
    "if not os.path.exists('comics/cbr/'+basedir.split('/')[-2]+'/'):\n",
    "    os.makedirs('comics/cbr/'+basedir.split('/')[-2]+'/')\n",
    "import shutil\n",
    "for i in tqdm(os.listdir(basedir)):\n",
    "    if i[-3:] =='zip':\n",
    "        print (i)\n",
    "        shutil.move(basedir+i,'comics/cbr/'+basedir.split('/')[-2]+'/'+i[:-3]+'cbr')"
   ]
  },
  {
   "cell_type": "code",
   "execution_count": null,
   "metadata": {},
   "outputs": [],
   "source": []
  }
 ],
 "metadata": {
  "kernelspec": {
   "display_name": "Python 3",
   "language": "python",
   "name": "python3"
  },
  "language_info": {
   "codemirror_mode": {
    "name": "ipython",
    "version": 3
   },
   "file_extension": ".py",
   "mimetype": "text/x-python",
   "name": "python",
   "nbconvert_exporter": "python",
   "pygments_lexer": "ipython3",
   "version": "3.7.6"
  },
  "toc": {
   "base_numbering": 1,
   "nav_menu": {},
   "number_sections": true,
   "sideBar": true,
   "skip_h1_title": false,
   "title_cell": "Table of Contents",
   "title_sidebar": "Contents",
   "toc_cell": false,
   "toc_position": {},
   "toc_section_display": true,
   "toc_window_display": false
  }
 },
 "nbformat": 4,
 "nbformat_minor": 4
}
