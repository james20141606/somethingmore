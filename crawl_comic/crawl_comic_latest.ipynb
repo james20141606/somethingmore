{
 "cells": [
  {
   "cell_type": "code",
   "execution_count": 1,
   "metadata": {},
   "outputs": [],
   "source": [
    "import gc, argparse, sys, os, errno\n",
    "import os\n",
    "from tqdm.notebook import tqdm\n",
    "\n",
    "import warnings\n",
    "warnings.filterwarnings('ignore')"
   ]
  },
  {
   "cell_type": "code",
   "execution_count": 2,
   "metadata": {},
   "outputs": [],
   "source": [
    "from selenium import webdriver\n",
    "import requests"
   ]
  },
  {
   "cell_type": "code",
   "execution_count": 3,
   "metadata": {},
   "outputs": [],
   "source": [
    "def mkdir(path):\n",
    "    if not os.path.exists(path):\n",
    "        os.makedirs(path)\n",
    "\n",
    "def SavePic(filename, url):\n",
    "    content = requests.get(url).content\n",
    "    with open(filename, 'wb') as f:\n",
    "        f.write(content)"
   ]
  },
  {
   "cell_type": "code",
   "execution_count": 10,
   "metadata": {
    "deletable": false,
    "editable": false,
    "run_control": {
     "frozen": true
    }
   },
   "outputs": [],
   "source": [
    "basedir = 'comics/DB_super/'\n",
    "comic_url = 'http://www.xmanhua.com/610xm/'"
   ]
  },
  {
   "cell_type": "code",
   "execution_count": 4,
   "metadata": {},
   "outputs": [],
   "source": [
    "basedir = 'comics/onepuch_man/'\n",
    "comic_url = 'http://www.xmanhua.com/38xm/'"
   ]
  },
  {
   "cell_type": "code",
   "execution_count": 5,
   "metadata": {},
   "outputs": [],
   "source": [
    "mkdir(basedir)\n",
    "browser = webdriver.PhantomJS()\n",
    "browser.get(comic_url)\n",
    "browser.implicitly_wait(3)"
   ]
  },
  {
   "cell_type": "code",
   "execution_count": 6,
   "metadata": {},
   "outputs": [],
   "source": [
    "comic_list = []\n",
    "for i in range(len(browser.find_elements_by_class_name('detail-list-form-item'))):\n",
    "    comic_list.append(browser.find_elements_by_class_name('detail-list-form-item')[i].get_attribute(\"href\"))"
   ]
  },
  {
   "cell_type": "code",
   "execution_count": null,
   "metadata": {
    "scrolled": true
   },
   "outputs": [
    {
     "data": {
      "application/vnd.jupyter.widget-view+json": {
       "model_id": "24c0b846f35f4cb484ad7476abbbda3b",
       "version_major": 2,
       "version_minor": 0
      },
      "text/plain": [
       "HBox(children=(FloatProgress(value=0.0, max=423.0), HTML(value='')))"
      ]
     },
     "metadata": {},
     "output_type": "display_data"
    },
    {
     "name": "stdout",
     "output_type": "stream",
     "text": [
      "当前章节\t  下载开始\n",
      "comics/onepuch_man/第185話/36.jpg\n"
     ]
    },
    {
     "data": {
      "application/vnd.jupyter.widget-view+json": {
       "model_id": "87b9c14f1d2f4957bd4c9dc3f95a0f73",
       "version_major": 2,
       "version_minor": 0
      },
      "text/plain": [
       "HBox(children=(FloatProgress(value=0.0, max=36.0), HTML(value='')))"
      ]
     },
     "metadata": {},
     "output_type": "display_data"
    },
    {
     "name": "stdout",
     "output_type": "stream",
     "text": [
      "\n",
      "当前章节\t一拳超人漫畫_第185話_一拳超人漫畫在線閱讀</漫畫名></章節顯示名></漫畫名>  下载完毕\n",
      "当前章节\t  下载开始\n",
      "comics/onepuch_man/第184話/23.jpg\n"
     ]
    },
    {
     "data": {
      "application/vnd.jupyter.widget-view+json": {
       "model_id": "dad043437c214c1ca3cfca24725e0cf4",
       "version_major": 2,
       "version_minor": 0
      },
      "text/plain": [
       "HBox(children=(FloatProgress(value=0.0, max=23.0), HTML(value='')))"
      ]
     },
     "metadata": {},
     "output_type": "display_data"
    },
    {
     "name": "stdout",
     "output_type": "stream",
     "text": [
      "\n",
      "当前章节\t一拳超人漫畫_第184話_一拳超人漫畫在線閱讀</漫畫名></章節顯示名></漫畫名>  下载完毕\n",
      "当前章节\t  下载开始\n",
      "comics/onepuch_man/第183話/32.jpg\n"
     ]
    },
    {
     "data": {
      "application/vnd.jupyter.widget-view+json": {
       "model_id": "a7a5100839da46acbd9680fd736ecf47",
       "version_major": 2,
       "version_minor": 0
      },
      "text/plain": [
       "HBox(children=(FloatProgress(value=0.0, max=32.0), HTML(value='')))"
      ]
     },
     "metadata": {},
     "output_type": "display_data"
    },
    {
     "name": "stdout",
     "output_type": "stream",
     "text": [
      "\n",
      "当前章节\t一拳超人漫畫_第183話_一拳超人漫畫在線閱讀</漫畫名></章節顯示名></漫畫名>  下载完毕\n",
      "当前章节\t  下载开始\n",
      "comics/onepuch_man/第182話/44.jpg\n"
     ]
    },
    {
     "data": {
      "application/vnd.jupyter.widget-view+json": {
       "model_id": "8d157c95c339490bbb07da9c967af135",
       "version_major": 2,
       "version_minor": 0
      },
      "text/plain": [
       "HBox(children=(FloatProgress(value=0.0, max=44.0), HTML(value='')))"
      ]
     },
     "metadata": {},
     "output_type": "display_data"
    },
    {
     "name": "stdout",
     "output_type": "stream",
     "text": [
      "\n",
      "当前章节\t一拳超人漫畫_第182話_一拳超人漫畫在線閱讀</漫畫名></章節顯示名></漫畫名>  下载完毕\n",
      "当前章节\t  下载开始\n",
      "comics/onepuch_man/第181話/38.jpg\n"
     ]
    },
    {
     "data": {
      "application/vnd.jupyter.widget-view+json": {
       "model_id": "bee2a60900a14d81af9d89e75bb7a958",
       "version_major": 2,
       "version_minor": 0
      },
      "text/plain": [
       "HBox(children=(FloatProgress(value=0.0, max=38.0), HTML(value='')))"
      ]
     },
     "metadata": {},
     "output_type": "display_data"
    },
    {
     "name": "stdout",
     "output_type": "stream",
     "text": [
      "\n",
      "当前章节\t一拳超人漫畫_第181話_一拳超人漫畫在線閱讀</漫畫名></章節顯示名></漫畫名>  下载完毕\n",
      "当前章节\t  下载开始\n",
      "comics/onepuch_man/第180話/38.jpg\n"
     ]
    },
    {
     "data": {
      "application/vnd.jupyter.widget-view+json": {
       "model_id": "5eba55bdedd246ff9176af97a2eb4752",
       "version_major": 2,
       "version_minor": 0
      },
      "text/plain": [
       "HBox(children=(FloatProgress(value=0.0, max=38.0), HTML(value='')))"
      ]
     },
     "metadata": {},
     "output_type": "display_data"
    },
    {
     "name": "stdout",
     "output_type": "stream",
     "text": [
      "\n",
      "当前章节\t一拳超人漫畫_第180話_一拳超人漫畫在線閱讀</漫畫名></章節顯示名></漫畫名>  下载完毕\n",
      "当前章节\t  下载开始\n",
      "comics/onepuch_man/第179話/15.jpg\n"
     ]
    },
    {
     "data": {
      "application/vnd.jupyter.widget-view+json": {
       "model_id": "aae34264a57942678228391851606fd3",
       "version_major": 2,
       "version_minor": 0
      },
      "text/plain": [
       "HBox(children=(FloatProgress(value=0.0, max=15.0), HTML(value='')))"
      ]
     },
     "metadata": {},
     "output_type": "display_data"
    },
    {
     "name": "stdout",
     "output_type": "stream",
     "text": [
      "\n",
      "当前章节\t一拳超人漫畫_第179話_一拳超人漫畫在線閱讀</漫畫名></章節顯示名></漫畫名>  下载完毕\n",
      "当前章节\t  下载开始\n",
      "comics/onepuch_man/第178話/20.jpg\n"
     ]
    },
    {
     "data": {
      "application/vnd.jupyter.widget-view+json": {
       "model_id": "6dc0ca4a18094d11bc507a98e2b35352",
       "version_major": 2,
       "version_minor": 0
      },
      "text/plain": [
       "HBox(children=(FloatProgress(value=0.0, max=20.0), HTML(value='')))"
      ]
     },
     "metadata": {},
     "output_type": "display_data"
    },
    {
     "name": "stdout",
     "output_type": "stream",
     "text": [
      "\n",
      "当前章节\t一拳超人漫畫_第178話_一拳超人漫畫在線閱讀</漫畫名></章節顯示名></漫畫名>  下载完毕\n",
      "当前章节\t  下载开始\n",
      "comics/onepuch_man/第177話/32.jpg\n"
     ]
    },
    {
     "data": {
      "application/vnd.jupyter.widget-view+json": {
       "model_id": "b31d3b80fb244682886f86a94a0e1bbd",
       "version_major": 2,
       "version_minor": 0
      },
      "text/plain": [
       "HBox(children=(FloatProgress(value=0.0, max=32.0), HTML(value='')))"
      ]
     },
     "metadata": {},
     "output_type": "display_data"
    },
    {
     "name": "stdout",
     "output_type": "stream",
     "text": [
      "\n",
      "当前章节\t一拳超人漫畫_第177話_一拳超人漫畫在線閱讀</漫畫名></章節顯示名></漫畫名>  下载完毕\n",
      "当前章节\t  下载开始\n",
      "comics/onepuch_man/第176話/44.jpg\n"
     ]
    },
    {
     "data": {
      "application/vnd.jupyter.widget-view+json": {
       "model_id": "1bf65fca79d3401997171f94b4607eea",
       "version_major": 2,
       "version_minor": 0
      },
      "text/plain": [
       "HBox(children=(FloatProgress(value=0.0, max=44.0), HTML(value='')))"
      ]
     },
     "metadata": {},
     "output_type": "display_data"
    },
    {
     "name": "stdout",
     "output_type": "stream",
     "text": [
      "\n",
      "当前章节\t一拳超人漫畫_第176話_一拳超人漫畫在線閱讀</漫畫名></章節顯示名></漫畫名>  下载完毕\n",
      "当前章节\t  下载开始\n",
      "comics/onepuch_man/第175話/25.jpg\n"
     ]
    },
    {
     "data": {
      "application/vnd.jupyter.widget-view+json": {
       "model_id": "8c7641fc614f444199a810f549d5c629",
       "version_major": 2,
       "version_minor": 0
      },
      "text/plain": [
       "HBox(children=(FloatProgress(value=0.0, max=25.0), HTML(value='')))"
      ]
     },
     "metadata": {},
     "output_type": "display_data"
    },
    {
     "name": "stdout",
     "output_type": "stream",
     "text": [
      "\n",
      "当前章节\t一拳超人漫畫_第175話_一拳超人漫畫在線閱讀</漫畫名></章節顯示名></漫畫名>  下载完毕\n",
      "当前章节\t  下载开始\n",
      "comics/onepuch_man/第174話/24.jpg\n"
     ]
    },
    {
     "data": {
      "application/vnd.jupyter.widget-view+json": {
       "model_id": "6520ff4f1d0d412d9d9ba18b7418af11",
       "version_major": 2,
       "version_minor": 0
      },
      "text/plain": [
       "HBox(children=(FloatProgress(value=0.0, max=24.0), HTML(value='')))"
      ]
     },
     "metadata": {},
     "output_type": "display_data"
    },
    {
     "name": "stdout",
     "output_type": "stream",
     "text": [
      "\n",
      "当前章节\t一拳超人漫畫_第174話_一拳超人漫畫在線閱讀</漫畫名></章節顯示名></漫畫名>  下载完毕\n",
      "当前章节\t  下载开始\n",
      "comics/onepuch_man/第173話/30.jpg\n"
     ]
    },
    {
     "data": {
      "application/vnd.jupyter.widget-view+json": {
       "model_id": "25cafd41f02143ee9c86d249e04a9dfe",
       "version_major": 2,
       "version_minor": 0
      },
      "text/plain": [
       "HBox(children=(FloatProgress(value=0.0, max=30.0), HTML(value='')))"
      ]
     },
     "metadata": {},
     "output_type": "display_data"
    },
    {
     "name": "stdout",
     "output_type": "stream",
     "text": [
      "\n",
      "当前章节\t一拳超人漫畫_第173話_一拳超人漫畫在線閱讀</漫畫名></章節顯示名></漫畫名>  下载完毕\n",
      "当前章节\t  下载开始\n",
      "comics/onepuch_man/第172話/28.jpg\n"
     ]
    },
    {
     "data": {
      "application/vnd.jupyter.widget-view+json": {
       "model_id": "aa562d83d4b140afb9079f0601c3fe7a",
       "version_major": 2,
       "version_minor": 0
      },
      "text/plain": [
       "HBox(children=(FloatProgress(value=0.0, max=28.0), HTML(value='')))"
      ]
     },
     "metadata": {},
     "output_type": "display_data"
    },
    {
     "name": "stdout",
     "output_type": "stream",
     "text": [
      "\n",
      "当前章节\t一拳超人漫畫_第172話_一拳超人漫畫在線閱讀</漫畫名></章節顯示名></漫畫名>  下载完毕\n",
      "当前章节\t  下载开始\n",
      "comics/onepuch_man/第171話/24.jpg\n"
     ]
    },
    {
     "data": {
      "application/vnd.jupyter.widget-view+json": {
       "model_id": "448eec1f018f495f85079e31ff9be307",
       "version_major": 2,
       "version_minor": 0
      },
      "text/plain": [
       "HBox(children=(FloatProgress(value=0.0, max=24.0), HTML(value='')))"
      ]
     },
     "metadata": {},
     "output_type": "display_data"
    },
    {
     "name": "stdout",
     "output_type": "stream",
     "text": [
      "\n",
      "当前章节\t一拳超人漫畫_第171話_一拳超人漫畫在線閱讀</漫畫名></章節顯示名></漫畫名>  下载完毕\n",
      "当前章节\t  下载开始\n",
      "comics/onepuch_man/第170話/31.jpg\n"
     ]
    },
    {
     "data": {
      "application/vnd.jupyter.widget-view+json": {
       "model_id": "30d928ecd153498fba0409ea8fd58406",
       "version_major": 2,
       "version_minor": 0
      },
      "text/plain": [
       "HBox(children=(FloatProgress(value=0.0, max=31.0), HTML(value='')))"
      ]
     },
     "metadata": {},
     "output_type": "display_data"
    },
    {
     "name": "stdout",
     "output_type": "stream",
     "text": [
      "\n",
      "当前章节\t一拳超人漫畫_第170話_一拳超人漫畫在線閱讀</漫畫名></章節顯示名></漫畫名>  下载完毕\n",
      "当前章节\t  下载开始\n",
      "comics/onepuch_man/第169話/35.jpg\n"
     ]
    },
    {
     "data": {
      "application/vnd.jupyter.widget-view+json": {
       "model_id": "a768c86bc321458e8c4efdee463b2f89",
       "version_major": 2,
       "version_minor": 0
      },
      "text/plain": [
       "HBox(children=(FloatProgress(value=0.0, max=35.0), HTML(value='')))"
      ]
     },
     "metadata": {},
     "output_type": "display_data"
    },
    {
     "name": "stdout",
     "output_type": "stream",
     "text": [
      "\n",
      "当前章节\t一拳超人漫畫_第169話_一拳超人漫畫在線閱讀</漫畫名></章節顯示名></漫畫名>  下载完毕\n",
      "当前章节\t  下载开始\n",
      "comics/onepuch_man/第168話/18.jpg\n"
     ]
    },
    {
     "data": {
      "application/vnd.jupyter.widget-view+json": {
       "model_id": "5d600ce854d5420580e419d486b634ad",
       "version_major": 2,
       "version_minor": 0
      },
      "text/plain": [
       "HBox(children=(FloatProgress(value=0.0, max=18.0), HTML(value='')))"
      ]
     },
     "metadata": {},
     "output_type": "display_data"
    },
    {
     "name": "stdout",
     "output_type": "stream",
     "text": [
      "\n",
      "当前章节\t一拳超人漫畫_第168話_一拳超人漫畫在線閱讀</漫畫名></章節顯示名></漫畫名>  下载完毕\n",
      "当前章节\t  下载开始\n",
      "comics/onepuch_man/第167話/13.jpg\n"
     ]
    },
    {
     "data": {
      "application/vnd.jupyter.widget-view+json": {
       "model_id": "32ea1572d2d946b181fc3bfd7266420f",
       "version_major": 2,
       "version_minor": 0
      },
      "text/plain": [
       "HBox(children=(FloatProgress(value=0.0, max=13.0), HTML(value='')))"
      ]
     },
     "metadata": {},
     "output_type": "display_data"
    },
    {
     "name": "stdout",
     "output_type": "stream",
     "text": [
      "\n",
      "当前章节\t一拳超人漫畫_第167話_一拳超人漫畫在線閱讀</漫畫名></章節顯示名></漫畫名>  下载完毕\n",
      "当前章节\t  下载开始\n",
      "comics/onepuch_man/第166話/18.jpg\n"
     ]
    },
    {
     "data": {
      "application/vnd.jupyter.widget-view+json": {
       "model_id": "fa7cd6e65940487abec996ebbce4e8b2",
       "version_major": 2,
       "version_minor": 0
      },
      "text/plain": [
       "HBox(children=(FloatProgress(value=0.0, max=18.0), HTML(value='')))"
      ]
     },
     "metadata": {},
     "output_type": "display_data"
    },
    {
     "name": "stdout",
     "output_type": "stream",
     "text": [
      "\n",
      "当前章节\t一拳超人漫畫_第166話_一拳超人漫畫在線閱讀</漫畫名></章節顯示名></漫畫名>  下载完毕\n",
      "当前章节\t  下载开始\n",
      "comics/onepuch_man/第170話/34.jpg\n"
     ]
    },
    {
     "data": {
      "application/vnd.jupyter.widget-view+json": {
       "model_id": "e2908338a8454a5cb1bfaceefed1fe7d",
       "version_major": 2,
       "version_minor": 0
      },
      "text/plain": [
       "HBox(children=(FloatProgress(value=0.0, max=34.0), HTML(value='')))"
      ]
     },
     "metadata": {},
     "output_type": "display_data"
    },
    {
     "name": "stdout",
     "output_type": "stream",
     "text": [
      "\n",
      "当前章节\t一拳超人漫畫_第170話_一拳超人漫畫在線閱讀</漫畫名></章節顯示名></漫畫名>  下载完毕\n",
      "当前章节\t  下载开始\n",
      "comics/onepuch_man/第169話/37.jpg\n"
     ]
    },
    {
     "data": {
      "application/vnd.jupyter.widget-view+json": {
       "model_id": "97e81bd95bd8481f81ffc07901586aff",
       "version_major": 2,
       "version_minor": 0
      },
      "text/plain": [
       "HBox(children=(FloatProgress(value=0.0, max=37.0), HTML(value='')))"
      ]
     },
     "metadata": {},
     "output_type": "display_data"
    },
    {
     "name": "stdout",
     "output_type": "stream",
     "text": [
      "\n",
      "当前章节\t一拳超人漫畫_第169話_一拳超人漫畫在線閱讀</漫畫名></章節顯示名></漫畫名>  下载完毕\n",
      "当前章节\t  下载开始\n",
      "comics/onepuch_man/第168話/21.jpg\n"
     ]
    },
    {
     "data": {
      "application/vnd.jupyter.widget-view+json": {
       "model_id": "f92e0be8af2c48ea9e5924830ca17f76",
       "version_major": 2,
       "version_minor": 0
      },
      "text/plain": [
       "HBox(children=(FloatProgress(value=0.0, max=21.0), HTML(value='')))"
      ]
     },
     "metadata": {},
     "output_type": "display_data"
    },
    {
     "name": "stdout",
     "output_type": "stream",
     "text": [
      "\n",
      "当前章节\t一拳超人漫畫_第168話_一拳超人漫畫在線閱讀</漫畫名></章節顯示名></漫畫名>  下载完毕\n",
      "当前章节\t  下载开始\n",
      "当前章节\t一拳超人漫畫_第167話_一拳超人漫畫在線閱讀</漫畫名></章節顯示名></漫畫名>  之前已经下载\n",
      "当前章节\t  下载开始\n",
      "当前章节\t一拳超人漫畫_第166話_一拳超人漫畫在線閱讀</漫畫名></章節顯示名></漫畫名>  之前已经下载\n",
      "当前章节\t  下载开始\n",
      "comics/onepuch_man/第165話/25.jpg\n"
     ]
    },
    {
     "data": {
      "application/vnd.jupyter.widget-view+json": {
       "model_id": "c600325c417f4bcda67c2c342e26c969",
       "version_major": 2,
       "version_minor": 0
      },
      "text/plain": [
       "HBox(children=(FloatProgress(value=0.0, max=25.0), HTML(value='')))"
      ]
     },
     "metadata": {},
     "output_type": "display_data"
    },
    {
     "name": "stdout",
     "output_type": "stream",
     "text": [
      "\n",
      "当前章节\t一拳超人漫畫_第165話_一拳超人漫畫在線閱讀</漫畫名></章節顯示名></漫畫名>  下载完毕\n",
      "当前章节\t  下载开始\n",
      "comics/onepuch_man/第164話/25.jpg\n"
     ]
    },
    {
     "data": {
      "application/vnd.jupyter.widget-view+json": {
       "model_id": "ee681fb6ff214f6e9a6521eaeb3035e1",
       "version_major": 2,
       "version_minor": 0
      },
      "text/plain": [
       "HBox(children=(FloatProgress(value=0.0, max=25.0), HTML(value='')))"
      ]
     },
     "metadata": {},
     "output_type": "display_data"
    },
    {
     "name": "stdout",
     "output_type": "stream",
     "text": [
      "\n",
      "当前章节\t一拳超人漫畫_第164話_一拳超人漫畫在線閱讀</漫畫名></章節顯示名></漫畫名>  下载完毕\n",
      "当前章节\t  下载开始\n",
      "comics/onepuch_man/番外：攜帶道具/10.jpg\n"
     ]
    },
    {
     "data": {
      "application/vnd.jupyter.widget-view+json": {
       "model_id": "c12bf8bae8824bab9204d5d6ae47191a",
       "version_major": 2,
       "version_minor": 0
      },
      "text/plain": [
       "HBox(children=(FloatProgress(value=0.0, max=10.0), HTML(value='')))"
      ]
     },
     "metadata": {},
     "output_type": "display_data"
    },
    {
     "name": "stdout",
     "output_type": "stream",
     "text": [
      "\n",
      "当前章节\t一拳超人漫畫_番外：攜帶道具_一拳超人漫畫在線閱讀</漫畫名></章節顯示名></漫畫名>  下载完毕\n",
      "当前章节\t  下载开始\n",
      "comics/onepuch_man/第163話/25.jpg\n"
     ]
    },
    {
     "data": {
      "application/vnd.jupyter.widget-view+json": {
       "model_id": "82a046c3b4ae4e5ebe0016df0215798d",
       "version_major": 2,
       "version_minor": 0
      },
      "text/plain": [
       "HBox(children=(FloatProgress(value=0.0, max=25.0), HTML(value='')))"
      ]
     },
     "metadata": {},
     "output_type": "display_data"
    },
    {
     "name": "stdout",
     "output_type": "stream",
     "text": [
      "\n",
      "当前章节\t一拳超人漫畫_第163話_一拳超人漫畫在線閱讀</漫畫名></章節顯示名></漫畫名>  下载完毕\n",
      "当前章节\t  下载开始\n",
      "comics/onepuch_man/第162話/24.jpg\n"
     ]
    },
    {
     "data": {
      "application/vnd.jupyter.widget-view+json": {
       "model_id": "44147ca9642f46c287cad4ea8da6d6aa",
       "version_major": 2,
       "version_minor": 0
      },
      "text/plain": [
       "HBox(children=(FloatProgress(value=0.0, max=24.0), HTML(value='')))"
      ]
     },
     "metadata": {},
     "output_type": "display_data"
    },
    {
     "name": "stdout",
     "output_type": "stream",
     "text": [
      "\n",
      "当前章节\t一拳超人漫畫_第162話_一拳超人漫畫在線閱讀</漫畫名></章節顯示名></漫畫名>  下载完毕\n",
      "当前章节\t  下载开始\n",
      "comics/onepuch_man/第161話/28.jpg\n"
     ]
    },
    {
     "data": {
      "application/vnd.jupyter.widget-view+json": {
       "model_id": "eb1e3ad9e1274b8fa3dde60232d74a8f",
       "version_major": 2,
       "version_minor": 0
      },
      "text/plain": [
       "HBox(children=(FloatProgress(value=0.0, max=28.0), HTML(value='')))"
      ]
     },
     "metadata": {},
     "output_type": "display_data"
    },
    {
     "name": "stdout",
     "output_type": "stream",
     "text": [
      "\n",
      "当前章节\t一拳超人漫畫_第161話_一拳超人漫畫在線閱讀</漫畫名></章節顯示名></漫畫名>  下载完毕\n",
      "当前章节\t  下载开始\n",
      "comics/onepuch_man/第160話/26.jpg\n"
     ]
    },
    {
     "data": {
      "application/vnd.jupyter.widget-view+json": {
       "model_id": "0242b97721144164b19d47dd4e6606ac",
       "version_major": 2,
       "version_minor": 0
      },
      "text/plain": [
       "HBox(children=(FloatProgress(value=0.0, max=26.0), HTML(value='')))"
      ]
     },
     "metadata": {},
     "output_type": "display_data"
    },
    {
     "name": "stdout",
     "output_type": "stream",
     "text": [
      "\n",
      "当前章节\t一拳超人漫畫_第160話_一拳超人漫畫在線閱讀</漫畫名></章節顯示名></漫畫名>  下载完毕\n",
      "当前章节\t  下载开始\n",
      "comics/onepuch_man/第159話/18.jpg\n"
     ]
    },
    {
     "data": {
      "application/vnd.jupyter.widget-view+json": {
       "model_id": "bcea3dcd9c634d7bb9d8cdff5511950b",
       "version_major": 2,
       "version_minor": 0
      },
      "text/plain": [
       "HBox(children=(FloatProgress(value=0.0, max=18.0), HTML(value='')))"
      ]
     },
     "metadata": {},
     "output_type": "display_data"
    },
    {
     "name": "stdout",
     "output_type": "stream",
     "text": [
      "\n",
      "当前章节\t一拳超人漫畫_第159話_一拳超人漫畫在線閱讀</漫畫名></章節顯示名></漫畫名>  下载完毕\n",
      "当前章节\t  下载开始\n",
      "comics/onepuch_man/第158話/22.jpg\n"
     ]
    },
    {
     "data": {
      "application/vnd.jupyter.widget-view+json": {
       "model_id": "3eddb95997ad4ffa84142e144ee87594",
       "version_major": 2,
       "version_minor": 0
      },
      "text/plain": [
       "HBox(children=(FloatProgress(value=0.0, max=22.0), HTML(value='')))"
      ]
     },
     "metadata": {},
     "output_type": "display_data"
    },
    {
     "name": "stdout",
     "output_type": "stream",
     "text": [
      "\n",
      "当前章节\t一拳超人漫畫_第158話_一拳超人漫畫在線閱讀</漫畫名></章節顯示名></漫畫名>  下载完毕\n",
      "当前章节\t  下载开始\n",
      "comics/onepuch_man/第157話/27.jpg\n"
     ]
    },
    {
     "data": {
      "application/vnd.jupyter.widget-view+json": {
       "model_id": "6112d9c3ee8f40a397f67fb74c773f9b",
       "version_major": 2,
       "version_minor": 0
      },
      "text/plain": [
       "HBox(children=(FloatProgress(value=0.0, max=27.0), HTML(value='')))"
      ]
     },
     "metadata": {},
     "output_type": "display_data"
    },
    {
     "name": "stdout",
     "output_type": "stream",
     "text": [
      "\n",
      "当前章节\t一拳超人漫畫_第157話_一拳超人漫畫在線閱讀</漫畫名></章節顯示名></漫畫名>  下载完毕\n",
      "当前章节\t  下载开始\n",
      "comics/onepuch_man/第156話/20.jpg\n"
     ]
    },
    {
     "data": {
      "application/vnd.jupyter.widget-view+json": {
       "model_id": "05fa27fb6efc44abbd1afab1a41139f2",
       "version_major": 2,
       "version_minor": 0
      },
      "text/plain": [
       "HBox(children=(FloatProgress(value=0.0, max=20.0), HTML(value='')))"
      ]
     },
     "metadata": {},
     "output_type": "display_data"
    },
    {
     "name": "stdout",
     "output_type": "stream",
     "text": [
      "\n",
      "当前章节\t一拳超人漫畫_第156話_一拳超人漫畫在線閱讀</漫畫名></章節顯示名></漫畫名>  下载完毕\n",
      "当前章节\t  下载开始\n",
      "comics/onepuch_man/第155話/25.jpg\n"
     ]
    },
    {
     "data": {
      "application/vnd.jupyter.widget-view+json": {
       "model_id": "4c101306ce7946e1b2a15e99b1caea4b",
       "version_major": 2,
       "version_minor": 0
      },
      "text/plain": [
       "HBox(children=(FloatProgress(value=0.0, max=25.0), HTML(value='')))"
      ]
     },
     "metadata": {},
     "output_type": "display_data"
    },
    {
     "name": "stdout",
     "output_type": "stream",
     "text": [
      "\n",
      "当前章节\t一拳超人漫畫_第155話_一拳超人漫畫在線閱讀</漫畫名></章節顯示名></漫畫名>  下载完毕\n",
      "当前章节\t  下载开始\n",
      "comics/onepuch_man/投票特別話/0.jpg\n"
     ]
    },
    {
     "data": {
      "application/vnd.jupyter.widget-view+json": {
       "model_id": "d55f575da43e4a9bbc24404e4052ce0d",
       "version_major": 2,
       "version_minor": 0
      },
      "text/plain": [
       "HBox(children=(FloatProgress(value=1.0, bar_style='info', max=1.0), HTML(value='')))"
      ]
     },
     "metadata": {},
     "output_type": "display_data"
    },
    {
     "name": "stdout",
     "output_type": "stream",
     "text": [
      "\n",
      "当前章节\t一拳超人漫畫_投票特別話_一拳超人漫畫在線閱讀</漫畫名></章節顯示名></漫畫名>  下载完毕\n",
      "当前章节\t  下载开始\n",
      "comics/onepuch_man/第154話/27.jpg\n"
     ]
    },
    {
     "data": {
      "application/vnd.jupyter.widget-view+json": {
       "model_id": "42e07111d0c3488688063c54e704bd95",
       "version_major": 2,
       "version_minor": 0
      },
      "text/plain": [
       "HBox(children=(FloatProgress(value=0.0, max=27.0), HTML(value='')))"
      ]
     },
     "metadata": {},
     "output_type": "display_data"
    },
    {
     "name": "stdout",
     "output_type": "stream",
     "text": [
      "\n",
      "当前章节\t一拳超人漫畫_第154話_一拳超人漫畫在線閱讀</漫畫名></章節顯示名></漫畫名>  下载完毕\n",
      "当前章节\t  下载开始\n",
      "comics/onepuch_man/第153話/24.jpg\n"
     ]
    },
    {
     "data": {
      "application/vnd.jupyter.widget-view+json": {
       "model_id": "c6966a626eb04a8aba867d4b2de2e97a",
       "version_major": 2,
       "version_minor": 0
      },
      "text/plain": [
       "HBox(children=(FloatProgress(value=0.0, max=24.0), HTML(value='')))"
      ]
     },
     "metadata": {},
     "output_type": "display_data"
    },
    {
     "name": "stdout",
     "output_type": "stream",
     "text": [
      "\n",
      "当前章节\t一拳超人漫畫_第153話_一拳超人漫畫在線閱讀</漫畫名></章節顯示名></漫畫名>  下载完毕\n",
      "当前章节\t  下载开始\n",
      "comics/onepuch_man/第152話/25.jpg\n"
     ]
    },
    {
     "data": {
      "application/vnd.jupyter.widget-view+json": {
       "model_id": "108c2f10c7b2400c8e477d229130ade2",
       "version_major": 2,
       "version_minor": 0
      },
      "text/plain": [
       "HBox(children=(FloatProgress(value=0.0, max=25.0), HTML(value='')))"
      ]
     },
     "metadata": {},
     "output_type": "display_data"
    },
    {
     "name": "stdout",
     "output_type": "stream",
     "text": [
      "\n",
      "当前章节\t一拳超人漫畫_第152話_一拳超人漫畫在線閱讀</漫畫名></章節顯示名></漫畫名>  下载完毕\n",
      "当前章节\t  下载开始\n",
      "comics/onepuch_man/第151話/18.jpg\n"
     ]
    },
    {
     "data": {
      "application/vnd.jupyter.widget-view+json": {
       "model_id": "12704a0d39314f4cb02fb92bc73f966d",
       "version_major": 2,
       "version_minor": 0
      },
      "text/plain": [
       "HBox(children=(FloatProgress(value=0.0, max=18.0), HTML(value='')))"
      ]
     },
     "metadata": {},
     "output_type": "display_data"
    },
    {
     "name": "stdout",
     "output_type": "stream",
     "text": [
      "\n",
      "当前章节\t一拳超人漫畫_第151話_一拳超人漫畫在線閱讀</漫畫名></章節顯示名></漫畫名>  下载完毕\n",
      "当前章节\t  下载开始\n",
      "comics/onepuch_man/第150話/35.jpg\n"
     ]
    },
    {
     "data": {
      "application/vnd.jupyter.widget-view+json": {
       "model_id": "aad288ec55b84a8f851632b291e14983",
       "version_major": 2,
       "version_minor": 0
      },
      "text/plain": [
       "HBox(children=(FloatProgress(value=0.0, max=35.0), HTML(value='')))"
      ]
     },
     "metadata": {},
     "output_type": "display_data"
    },
    {
     "name": "stdout",
     "output_type": "stream",
     "text": [
      "\n",
      "当前章节\t一拳超人漫畫_第150話_一拳超人漫畫在線閱讀</漫畫名></章節顯示名></漫畫名>  下载完毕\n",
      "当前章节\t  下载开始\n",
      "comics/onepuch_man/第149話/18.jpg\n"
     ]
    },
    {
     "data": {
      "application/vnd.jupyter.widget-view+json": {
       "model_id": "791afee2be9347eb843ab00422dc8dd2",
       "version_major": 2,
       "version_minor": 0
      },
      "text/plain": [
       "HBox(children=(FloatProgress(value=0.0, max=18.0), HTML(value='')))"
      ]
     },
     "metadata": {},
     "output_type": "display_data"
    },
    {
     "name": "stdout",
     "output_type": "stream",
     "text": [
      "\n",
      "当前章节\t一拳超人漫畫_第149話_一拳超人漫畫在線閱讀</漫畫名></章節顯示名></漫畫名>  下载完毕\n",
      "当前章节\t  下载开始\n",
      "comics/onepuch_man/第148話/34.jpg\n"
     ]
    },
    {
     "data": {
      "application/vnd.jupyter.widget-view+json": {
       "model_id": "36eb8dbe75f44f429b54bbb520e7f6c4",
       "version_major": 2,
       "version_minor": 0
      },
      "text/plain": [
       "HBox(children=(FloatProgress(value=0.0, max=34.0), HTML(value='')))"
      ]
     },
     "metadata": {},
     "output_type": "display_data"
    },
    {
     "name": "stdout",
     "output_type": "stream",
     "text": [
      "\n",
      "当前章节\t一拳超人漫畫_第148話_一拳超人漫畫在線閱讀</漫畫名></章節顯示名></漫畫名>  下载完毕\n",
      "当前章节\t  下载开始\n",
      "comics/onepuch_man/19卷番外/7.jpg\n"
     ]
    },
    {
     "data": {
      "application/vnd.jupyter.widget-view+json": {
       "model_id": "e47711c3b0bf44b6ae52cad098eb3ac0",
       "version_major": 2,
       "version_minor": 0
      },
      "text/plain": [
       "HBox(children=(FloatProgress(value=0.0, max=7.0), HTML(value='')))"
      ]
     },
     "metadata": {},
     "output_type": "display_data"
    },
    {
     "name": "stdout",
     "output_type": "stream",
     "text": [
      "\n",
      "当前章节\t一拳超人漫畫_19卷番外_一拳超人漫畫在線閱讀</漫畫名></章節顯示名></漫畫名>  下载完毕\n",
      "当前章节\t  下载开始\n",
      "comics/onepuch_man/第二季等動畫1/0.jpg\n"
     ]
    },
    {
     "data": {
      "application/vnd.jupyter.widget-view+json": {
       "model_id": "e9d2c89c964c46aa8414110118946137",
       "version_major": 2,
       "version_minor": 0
      },
      "text/plain": [
       "HBox(children=(FloatProgress(value=1.0, bar_style='info', max=1.0), HTML(value='')))"
      ]
     },
     "metadata": {},
     "output_type": "display_data"
    },
    {
     "name": "stdout",
     "output_type": "stream",
     "text": [
      "\n",
      "当前章节\t一拳超人漫畫_第二季等動畫1_一拳超人漫畫在線閱讀</漫畫名></章節顯示名></漫畫名>  下载完毕\n",
      "当前章节\t  下载开始\n",
      "comics/onepuch_man/第147話/42.jpg\n"
     ]
    },
    {
     "data": {
      "application/vnd.jupyter.widget-view+json": {
       "model_id": "31ce7bae497741abae4dec80155ab123",
       "version_major": 2,
       "version_minor": 0
      },
      "text/plain": [
       "HBox(children=(FloatProgress(value=0.0, max=42.0), HTML(value='')))"
      ]
     },
     "metadata": {},
     "output_type": "display_data"
    },
    {
     "name": "stdout",
     "output_type": "stream",
     "text": [
      "\n",
      "当前章节\t一拳超人漫畫_第147話_一拳超人漫畫在線閱讀</漫畫名></章節顯示名></漫畫名>  下载完毕\n",
      "当前章节\t  下载开始\n",
      "comics/onepuch_man/第146話/9.jpg\n"
     ]
    },
    {
     "data": {
      "application/vnd.jupyter.widget-view+json": {
       "model_id": "4228769722914c6d9e295147278cba09",
       "version_major": 2,
       "version_minor": 0
      },
      "text/plain": [
       "HBox(children=(FloatProgress(value=0.0, max=9.0), HTML(value='')))"
      ]
     },
     "metadata": {},
     "output_type": "display_data"
    },
    {
     "name": "stdout",
     "output_type": "stream",
     "text": [
      "\n",
      "当前章节\t一拳超人漫畫_第146話_一拳超人漫畫在線閱讀</漫畫名></章節顯示名></漫畫名>  下载完毕\n",
      "当前章节\t  下载开始\n",
      "comics/onepuch_man/第145話/20.jpg\n"
     ]
    },
    {
     "data": {
      "application/vnd.jupyter.widget-view+json": {
       "model_id": "96de729f30f547f883ca7781e3796449",
       "version_major": 2,
       "version_minor": 0
      },
      "text/plain": [
       "HBox(children=(FloatProgress(value=0.0, max=20.0), HTML(value='')))"
      ]
     },
     "metadata": {},
     "output_type": "display_data"
    },
    {
     "name": "stdout",
     "output_type": "stream",
     "text": [
      "\n",
      "当前章节\t一拳超人漫畫_第145話_一拳超人漫畫在線閱讀</漫畫名></章節顯示名></漫畫名>  下载完毕\n",
      "当前章节\t  下载开始\n",
      "comics/onepuch_man/炒飯/0.jpg\n"
     ]
    },
    {
     "data": {
      "application/vnd.jupyter.widget-view+json": {
       "model_id": "66193357a1b6415da1c73dce2d99380b",
       "version_major": 2,
       "version_minor": 0
      },
      "text/plain": [
       "HBox(children=(FloatProgress(value=1.0, bar_style='info', max=1.0), HTML(value='')))"
      ]
     },
     "metadata": {},
     "output_type": "display_data"
    },
    {
     "name": "stdout",
     "output_type": "stream",
     "text": [
      "\n",
      "当前章节\t一拳超人漫畫_炒飯_一拳超人漫畫在線閱讀</漫畫名></章節顯示名></漫畫名>  下载完毕\n",
      "当前章节\t  下载开始\n",
      "comics/onepuch_man/第144話/15.jpg\n"
     ]
    },
    {
     "data": {
      "application/vnd.jupyter.widget-view+json": {
       "model_id": "052f4291e3aa45da9c9bda31051d2672",
       "version_major": 2,
       "version_minor": 0
      },
      "text/plain": [
       "HBox(children=(FloatProgress(value=0.0, max=15.0), HTML(value='')))"
      ]
     },
     "metadata": {},
     "output_type": "display_data"
    },
    {
     "name": "stdout",
     "output_type": "stream",
     "text": [
      "\n",
      "当前章节\t一拳超人漫畫_第144話_一拳超人漫畫在線閱讀</漫畫名></章節顯示名></漫畫名>  下载完毕\n",
      "当前章节\t  下载开始\n",
      "comics/onepuch_man/第143話/47.jpg\n"
     ]
    },
    {
     "data": {
      "application/vnd.jupyter.widget-view+json": {
       "model_id": "21f369e2845a4d63ba58307dd82341e5",
       "version_major": 2,
       "version_minor": 0
      },
      "text/plain": [
       "HBox(children=(FloatProgress(value=0.0, max=47.0), HTML(value='')))"
      ]
     },
     "metadata": {},
     "output_type": "display_data"
    },
    {
     "name": "stdout",
     "output_type": "stream",
     "text": [
      "\n",
      "当前章节\t一拳超人漫畫_第143話_一拳超人漫畫在線閱讀</漫畫名></章節顯示名></漫畫名>  下载完毕\n",
      "当前章节\t  下载开始\n",
      "comics/onepuch_man/第142話/28.jpg\n"
     ]
    },
    {
     "data": {
      "application/vnd.jupyter.widget-view+json": {
       "model_id": "e25b84c411704add9220ce84be50713b",
       "version_major": 2,
       "version_minor": 0
      },
      "text/plain": [
       "HBox(children=(FloatProgress(value=0.0, max=28.0), HTML(value='')))"
      ]
     },
     "metadata": {},
     "output_type": "display_data"
    },
    {
     "name": "stdout",
     "output_type": "stream",
     "text": [
      "\n",
      "当前章节\t一拳超人漫畫_第142話_一拳超人漫畫在線閱讀</漫畫名></章節顯示名></漫畫名>  下载完毕\n",
      "当前章节\t  下载开始\n",
      "comics/onepuch_man/第141話/26.jpg\n"
     ]
    },
    {
     "data": {
      "application/vnd.jupyter.widget-view+json": {
       "model_id": "3bf89bb834e54c11b200cd9401d5fba0",
       "version_major": 2,
       "version_minor": 0
      },
      "text/plain": [
       "HBox(children=(FloatProgress(value=0.0, max=26.0), HTML(value='')))"
      ]
     },
     "metadata": {},
     "output_type": "display_data"
    },
    {
     "name": "stdout",
     "output_type": "stream",
     "text": [
      "\n",
      "当前章节\t一拳超人漫畫_第141話_一拳超人漫畫在線閱讀</漫畫名></章節顯示名></漫畫名>  下载完毕\n",
      "当前章节\t  下载开始\n",
      "comics/onepuch_man/第140話/35.jpg\n"
     ]
    },
    {
     "data": {
      "application/vnd.jupyter.widget-view+json": {
       "model_id": "b8220dcc9ef54118b5d91c68e0c336c0",
       "version_major": 2,
       "version_minor": 0
      },
      "text/plain": [
       "HBox(children=(FloatProgress(value=0.0, max=35.0), HTML(value='')))"
      ]
     },
     "metadata": {},
     "output_type": "display_data"
    },
    {
     "name": "stdout",
     "output_type": "stream",
     "text": [
      "\n",
      "当前章节\t一拳超人漫畫_第140話_一拳超人漫畫在線閱讀</漫畫名></章節顯示名></漫畫名>  下载完毕\n",
      "当前章节\t  下载开始\n",
      "comics/onepuch_man/第139話/39.jpg\n"
     ]
    },
    {
     "data": {
      "application/vnd.jupyter.widget-view+json": {
       "model_id": "3529fcaa1cda4731b8afa8f3f9a7ad1c",
       "version_major": 2,
       "version_minor": 0
      },
      "text/plain": [
       "HBox(children=(FloatProgress(value=0.0, max=39.0), HTML(value='')))"
      ]
     },
     "metadata": {},
     "output_type": "display_data"
    },
    {
     "name": "stdout",
     "output_type": "stream",
     "text": [
      "\n",
      "当前章节\t一拳超人漫畫_第139話_一拳超人漫畫在線閱讀</漫畫名></章節顯示名></漫畫名>  下载完毕\n",
      "当前章节\t  下载开始\n",
      "comics/onepuch_man/第138話/33.jpg\n"
     ]
    },
    {
     "data": {
      "application/vnd.jupyter.widget-view+json": {
       "model_id": "fd5078faa0fd424ba4491df0711febbc",
       "version_major": 2,
       "version_minor": 0
      },
      "text/plain": [
       "HBox(children=(FloatProgress(value=0.0, max=33.0), HTML(value='')))"
      ]
     },
     "metadata": {},
     "output_type": "display_data"
    },
    {
     "name": "stdout",
     "output_type": "stream",
     "text": [
      "\n",
      "当前章节\t一拳超人漫畫_第138話_一拳超人漫畫在線閱讀</漫畫名></章節顯示名></漫畫名>  下载完毕\n",
      "当前章节\t  下载开始\n",
      "comics/onepuch_man/第137話/32.jpg\n"
     ]
    },
    {
     "data": {
      "application/vnd.jupyter.widget-view+json": {
       "model_id": "e47d1b9f11bb44389cf37a80ef425e92",
       "version_major": 2,
       "version_minor": 0
      },
      "text/plain": [
       "HBox(children=(FloatProgress(value=0.0, max=32.0), HTML(value='')))"
      ]
     },
     "metadata": {},
     "output_type": "display_data"
    },
    {
     "name": "stdout",
     "output_type": "stream",
     "text": [
      "\n",
      "当前章节\t一拳超人漫畫_第137話_一拳超人漫畫在線閱讀</漫畫名></章節顯示名></漫畫名>  下载完毕\n",
      "当前章节\t  下载开始\n",
      "comics/onepuch_man/第136話/54.jpg\n"
     ]
    },
    {
     "data": {
      "application/vnd.jupyter.widget-view+json": {
       "model_id": "5850a20412c04863a741c0ccf62ee0c3",
       "version_major": 2,
       "version_minor": 0
      },
      "text/plain": [
       "HBox(children=(FloatProgress(value=0.0, max=54.0), HTML(value='')))"
      ]
     },
     "metadata": {},
     "output_type": "display_data"
    },
    {
     "name": "stdout",
     "output_type": "stream",
     "text": [
      "\n",
      "当前章节\t一拳超人漫畫_第136話_一拳超人漫畫在線閱讀</漫畫名></章節顯示名></漫畫名>  下载完毕\n",
      "当前章节\t  下载开始\n",
      "comics/onepuch_man/第135話/143.jpg\n"
     ]
    },
    {
     "data": {
      "application/vnd.jupyter.widget-view+json": {
       "model_id": "11dc9b74f1e34ea18df3314bfb5acf49",
       "version_major": 2,
       "version_minor": 0
      },
      "text/plain": [
       "HBox(children=(FloatProgress(value=0.0, max=143.0), HTML(value='')))"
      ]
     },
     "metadata": {},
     "output_type": "display_data"
    },
    {
     "name": "stdout",
     "output_type": "stream",
     "text": [
      "\n",
      "当前章节\t一拳超人漫畫_第135話_一拳超人漫畫在線閱讀</漫畫名></章節顯示名></漫畫名>  下载完毕\n",
      "当前章节\t  下载开始\n",
      "comics/onepuch_man/第134話/71.jpg\n"
     ]
    },
    {
     "data": {
      "application/vnd.jupyter.widget-view+json": {
       "model_id": "e982c504c30b4115bd96099fb24872ed",
       "version_major": 2,
       "version_minor": 0
      },
      "text/plain": [
       "HBox(children=(FloatProgress(value=0.0, max=71.0), HTML(value='')))"
      ]
     },
     "metadata": {},
     "output_type": "display_data"
    },
    {
     "name": "stdout",
     "output_type": "stream",
     "text": [
      "\n",
      "当前章节\t一拳超人漫畫_第134話_一拳超人漫畫在線閱讀</漫畫名></章節顯示名></漫畫名>  下载完毕\n",
      "当前章节\t  下载开始\n",
      "comics/onepuch_man/第133話/67.jpg\n"
     ]
    },
    {
     "data": {
      "application/vnd.jupyter.widget-view+json": {
       "model_id": "7ae942b4ebd2462c9369b86308eed542",
       "version_major": 2,
       "version_minor": 0
      },
      "text/plain": [
       "HBox(children=(FloatProgress(value=0.0, max=67.0), HTML(value='')))"
      ]
     },
     "metadata": {},
     "output_type": "display_data"
    },
    {
     "name": "stdout",
     "output_type": "stream",
     "text": [
      "\n",
      "当前章节\t一拳超人漫畫_第133話_一拳超人漫畫在線閱讀</漫畫名></章節顯示名></漫畫名>  下载完毕\n",
      "当前章节\t  下载开始\n",
      "comics/onepuch_man/第132話/60.jpg\n"
     ]
    },
    {
     "data": {
      "application/vnd.jupyter.widget-view+json": {
       "model_id": "d6763028b0b445a998dd0ddd5106c035",
       "version_major": 2,
       "version_minor": 0
      },
      "text/plain": [
       "HBox(children=(FloatProgress(value=0.0, max=60.0), HTML(value='')))"
      ]
     },
     "metadata": {},
     "output_type": "display_data"
    },
    {
     "name": "stdout",
     "output_type": "stream",
     "text": [
      "\n",
      "当前章节\t一拳超人漫畫_第132話_一拳超人漫畫在線閱讀</漫畫名></章節顯示名></漫畫名>  下载完毕\n",
      "当前章节\t  下载开始\n",
      "comics/onepuch_man/第131話/47.jpg\n"
     ]
    },
    {
     "data": {
      "application/vnd.jupyter.widget-view+json": {
       "model_id": "c45251d859e74b749db477073e1ee4c8",
       "version_major": 2,
       "version_minor": 0
      },
      "text/plain": [
       "HBox(children=(FloatProgress(value=0.0, max=47.0), HTML(value='')))"
      ]
     },
     "metadata": {},
     "output_type": "display_data"
    },
    {
     "name": "stdout",
     "output_type": "stream",
     "text": [
      "\n",
      "当前章节\t一拳超人漫畫_第131話_一拳超人漫畫在線閱讀</漫畫名></章節顯示名></漫畫名>  下载完毕\n",
      "当前章节\t  下载开始\n",
      "comics/onepuch_man/15卷番外/13.jpg\n"
     ]
    },
    {
     "data": {
      "application/vnd.jupyter.widget-view+json": {
       "model_id": "d7909c1ff44847f69b741c263f270e8f",
       "version_major": 2,
       "version_minor": 0
      },
      "text/plain": [
       "HBox(children=(FloatProgress(value=0.0, max=13.0), HTML(value='')))"
      ]
     },
     "metadata": {},
     "output_type": "display_data"
    },
    {
     "name": "stdout",
     "output_type": "stream",
     "text": [
      "\n",
      "当前章节\t一拳超人漫畫_15卷番外_一拳超人漫畫在線閱讀</漫畫名></章節顯示名></漫畫名>  下载完毕\n",
      "当前章节\t  下载开始\n",
      "comics/onepuch_man/16番外成長過程/8.jpg\n"
     ]
    },
    {
     "data": {
      "application/vnd.jupyter.widget-view+json": {
       "model_id": "540b3448321d4da5bd62e017ce62f695",
       "version_major": 2,
       "version_minor": 0
      },
      "text/plain": [
       "HBox(children=(FloatProgress(value=0.0, max=8.0), HTML(value='')))"
      ]
     },
     "metadata": {},
     "output_type": "display_data"
    },
    {
     "name": "stdout",
     "output_type": "stream",
     "text": [
      "\n",
      "当前章节\t一拳超人漫畫_16番外成長過程_一拳超人漫畫在線閱讀</漫畫名></章節顯示名></漫畫名>  下载完毕\n",
      "当前章节\t  下载开始\n",
      "comics/onepuch_man/第130話/99.jpg\n"
     ]
    },
    {
     "data": {
      "application/vnd.jupyter.widget-view+json": {
       "model_id": "b8b5c7389053469d9359788a8a9c3494",
       "version_major": 2,
       "version_minor": 0
      },
      "text/plain": [
       "HBox(children=(FloatProgress(value=0.0, max=99.0), HTML(value='')))"
      ]
     },
     "metadata": {},
     "output_type": "display_data"
    },
    {
     "name": "stdout",
     "output_type": "stream",
     "text": [
      "\n",
      "当前章节\t一拳超人漫畫_第130話_一拳超人漫畫在線閱讀</漫畫名></章節顯示名></漫畫名>  下载完毕\n",
      "当前章节\t  下载开始\n",
      "comics/onepuch_man/第129話/58.jpg\n"
     ]
    },
    {
     "data": {
      "application/vnd.jupyter.widget-view+json": {
       "model_id": "c494c49e67a94664926662b801f1fa2b",
       "version_major": 2,
       "version_minor": 0
      },
      "text/plain": [
       "HBox(children=(FloatProgress(value=0.0, max=58.0), HTML(value='')))"
      ]
     },
     "metadata": {},
     "output_type": "display_data"
    },
    {
     "name": "stdout",
     "output_type": "stream",
     "text": [
      "\n",
      "当前章节\t一拳超人漫畫_第129話_一拳超人漫畫在線閱讀</漫畫名></章節顯示名></漫畫名>  下载完毕\n",
      "当前章节\t  下载开始\n",
      "comics/onepuch_man/第128話/43.jpg\n"
     ]
    },
    {
     "data": {
      "application/vnd.jupyter.widget-view+json": {
       "model_id": "a95cac9d2c964c6fb3848a94c3d8338a",
       "version_major": 2,
       "version_minor": 0
      },
      "text/plain": [
       "HBox(children=(FloatProgress(value=0.0, max=43.0), HTML(value='')))"
      ]
     },
     "metadata": {},
     "output_type": "display_data"
    },
    {
     "name": "stdout",
     "output_type": "stream",
     "text": [
      "\n",
      "当前章节\t一拳超人漫畫_第128話_一拳超人漫畫在線閱讀</漫畫名></章節顯示名></漫畫名>  下载完毕\n",
      "当前章节\t  下载开始\n",
      "comics/onepuch_man/第127話/31.jpg\n"
     ]
    },
    {
     "data": {
      "application/vnd.jupyter.widget-view+json": {
       "model_id": "a4af50b8ceb248a4844b682f5b79d174",
       "version_major": 2,
       "version_minor": 0
      },
      "text/plain": [
       "HBox(children=(FloatProgress(value=0.0, max=31.0), HTML(value='')))"
      ]
     },
     "metadata": {},
     "output_type": "display_data"
    },
    {
     "name": "stdout",
     "output_type": "stream",
     "text": [
      "\n",
      "当前章节\t一拳超人漫畫_第127話_一拳超人漫畫在線閱讀</漫畫名></章節顯示名></漫畫名>  下载完毕\n",
      "当前章节\t  下载开始\n",
      "comics/onepuch_man/第126話/43.jpg\n"
     ]
    },
    {
     "data": {
      "application/vnd.jupyter.widget-view+json": {
       "model_id": "f7989de378cf41258839cb5032c10063",
       "version_major": 2,
       "version_minor": 0
      },
      "text/plain": [
       "HBox(children=(FloatProgress(value=0.0, max=43.0), HTML(value='')))"
      ]
     },
     "metadata": {},
     "output_type": "display_data"
    },
    {
     "name": "stdout",
     "output_type": "stream",
     "text": [
      "\n",
      "当前章节\t一拳超人漫畫_第126話_一拳超人漫畫在線閱讀</漫畫名></章節顯示名></漫畫名>  下载完毕\n",
      "当前章节\t  下载开始\n",
      "comics/onepuch_man/圣誕特別篇/0.jpg\n"
     ]
    },
    {
     "data": {
      "application/vnd.jupyter.widget-view+json": {
       "model_id": "98f78cb3b3034cfa9f8a918598d85c3c",
       "version_major": 2,
       "version_minor": 0
      },
      "text/plain": [
       "HBox(children=(FloatProgress(value=1.0, bar_style='info', max=1.0), HTML(value='')))"
      ]
     },
     "metadata": {},
     "output_type": "display_data"
    },
    {
     "name": "stdout",
     "output_type": "stream",
     "text": [
      "\n",
      "当前章节\t一拳超人漫畫_圣誕特別篇_一拳超人漫畫在線閱讀</漫畫名></章節顯示名></漫畫名>  下载完毕\n",
      "当前章节\t  下载开始\n",
      "comics/onepuch_man/第125話/72.jpg\n"
     ]
    },
    {
     "data": {
      "application/vnd.jupyter.widget-view+json": {
       "model_id": "a9aa9648934041889497b17cfb8b1049",
       "version_major": 2,
       "version_minor": 0
      },
      "text/plain": [
       "HBox(children=(FloatProgress(value=0.0, max=72.0), HTML(value='')))"
      ]
     },
     "metadata": {},
     "output_type": "display_data"
    },
    {
     "name": "stdout",
     "output_type": "stream",
     "text": [
      "\n",
      "当前章节\t一拳超人漫畫_第125話_一拳超人漫畫在線閱讀</漫畫名></章節顯示名></漫畫名>  下载完毕\n",
      "当前章节\t  下载开始\n",
      "comics/onepuch_man/第124話/56.jpg\n"
     ]
    },
    {
     "data": {
      "application/vnd.jupyter.widget-view+json": {
       "model_id": "a0fa4cf485074c3b9c83d81a4bf6b7e4",
       "version_major": 2,
       "version_minor": 0
      },
      "text/plain": [
       "HBox(children=(FloatProgress(value=0.0, max=56.0), HTML(value='')))"
      ]
     },
     "metadata": {},
     "output_type": "display_data"
    },
    {
     "name": "stdout",
     "output_type": "stream",
     "text": [
      "\n",
      "当前章节\t一拳超人漫畫_第124話_一拳超人漫畫在線閱讀</漫畫名></章節顯示名></漫畫名>  下载完毕\n",
      "当前章节\t  下载开始\n",
      "comics/onepuch_man/第123話/58.jpg\n"
     ]
    },
    {
     "data": {
      "application/vnd.jupyter.widget-view+json": {
       "model_id": "49139f9b683146de8e1e51beb99676d2",
       "version_major": 2,
       "version_minor": 0
      },
      "text/plain": [
       "HBox(children=(FloatProgress(value=0.0, max=58.0), HTML(value='')))"
      ]
     },
     "metadata": {},
     "output_type": "display_data"
    },
    {
     "name": "stdout",
     "output_type": "stream",
     "text": [
      "\n",
      "当前章节\t一拳超人漫畫_第123話_一拳超人漫畫在線閱讀</漫畫名></章節顯示名></漫畫名>  下载完毕\n",
      "当前章节\t  下载开始\n",
      "comics/onepuch_man/第122話/49.jpg\n"
     ]
    },
    {
     "data": {
      "application/vnd.jupyter.widget-view+json": {
       "model_id": "b9391d7f0f02456a98c7616cdc89cbe0",
       "version_major": 2,
       "version_minor": 0
      },
      "text/plain": [
       "HBox(children=(FloatProgress(value=0.0, max=49.0), HTML(value='')))"
      ]
     },
     "metadata": {},
     "output_type": "display_data"
    },
    {
     "name": "stdout",
     "output_type": "stream",
     "text": [
      "\n",
      "当前章节\t一拳超人漫畫_第122話_一拳超人漫畫在線閱讀</漫畫名></章節顯示名></漫畫名>  下载完毕\n",
      "当前章节\t  下载开始\n",
      "comics/onepuch_man/第121話/33.jpg\n"
     ]
    },
    {
     "data": {
      "application/vnd.jupyter.widget-view+json": {
       "model_id": "1d21591e600347c787191973e09b8b1e",
       "version_major": 2,
       "version_minor": 0
      },
      "text/plain": [
       "HBox(children=(FloatProgress(value=0.0, max=33.0), HTML(value='')))"
      ]
     },
     "metadata": {},
     "output_type": "display_data"
    },
    {
     "name": "stdout",
     "output_type": "stream",
     "text": [
      "\n",
      "当前章节\t一拳超人漫畫_第121話_一拳超人漫畫在線閱讀</漫畫名></章節顯示名></漫畫名>  下载完毕\n",
      "当前章节\t  下载开始\n",
      "comics/onepuch_man/第120話/47.jpg\n"
     ]
    },
    {
     "data": {
      "application/vnd.jupyter.widget-view+json": {
       "model_id": "e577333f393244b39fe8362d400ab6db",
       "version_major": 2,
       "version_minor": 0
      },
      "text/plain": [
       "HBox(children=(FloatProgress(value=0.0, max=47.0), HTML(value='')))"
      ]
     },
     "metadata": {},
     "output_type": "display_data"
    },
    {
     "name": "stdout",
     "output_type": "stream",
     "text": [
      "\n",
      "当前章节\t一拳超人漫畫_第120話_一拳超人漫畫在線閱讀</漫畫名></章節顯示名></漫畫名>  下载完毕\n",
      "当前章节\t  下载开始\n",
      "comics/onepuch_man/第119話/41.jpg\n"
     ]
    },
    {
     "data": {
      "application/vnd.jupyter.widget-view+json": {
       "model_id": "5bf61bb7147749f88181316549b45da8",
       "version_major": 2,
       "version_minor": 0
      },
      "text/plain": [
       "HBox(children=(FloatProgress(value=0.0, max=41.0), HTML(value='')))"
      ]
     },
     "metadata": {},
     "output_type": "display_data"
    },
    {
     "name": "stdout",
     "output_type": "stream",
     "text": [
      "\n",
      "当前章节\t一拳超人漫畫_第119話_一拳超人漫畫在線閱讀</漫畫名></章節顯示名></漫畫名>  下载完毕\n",
      "当前章节\t  下载开始\n",
      "comics/onepuch_man/第118話/31.jpg\n"
     ]
    },
    {
     "data": {
      "application/vnd.jupyter.widget-view+json": {
       "model_id": "5313583cd09a4be3b4111d8c91c7a829",
       "version_major": 2,
       "version_minor": 0
      },
      "text/plain": [
       "HBox(children=(FloatProgress(value=0.0, max=31.0), HTML(value='')))"
      ]
     },
     "metadata": {},
     "output_type": "display_data"
    },
    {
     "name": "stdout",
     "output_type": "stream",
     "text": [
      "\n",
      "当前章节\t一拳超人漫畫_第118話_一拳超人漫畫在線閱讀</漫畫名></章節顯示名></漫畫名>  下载完毕\n",
      "当前章节\t  下载开始\n",
      "comics/onepuch_man/第117話/17.jpg\n"
     ]
    },
    {
     "data": {
      "application/vnd.jupyter.widget-view+json": {
       "model_id": "5bac4ba6836b463ab5349f2fb1c6c34a",
       "version_major": 2,
       "version_minor": 0
      },
      "text/plain": [
       "HBox(children=(FloatProgress(value=0.0, max=17.0), HTML(value='')))"
      ]
     },
     "metadata": {},
     "output_type": "display_data"
    },
    {
     "name": "stdout",
     "output_type": "stream",
     "text": [
      "\n",
      "当前章节\t一拳超人漫畫_第117話_一拳超人漫畫在線閱讀</漫畫名></章節顯示名></漫畫名>  下载完毕\n",
      "当前章节\t  下载开始\n",
      "comics/onepuch_man/第116話/40.jpg\n"
     ]
    },
    {
     "data": {
      "application/vnd.jupyter.widget-view+json": {
       "model_id": "74be7ffbdd9c40018a5aad9c9cf5f446",
       "version_major": 2,
       "version_minor": 0
      },
      "text/plain": [
       "HBox(children=(FloatProgress(value=0.0, max=40.0), HTML(value='')))"
      ]
     },
     "metadata": {},
     "output_type": "display_data"
    },
    {
     "name": "stdout",
     "output_type": "stream",
     "text": [
      "\n",
      "当前章节\t一拳超人漫畫_第116話_一拳超人漫畫在線閱讀</漫畫名></章節顯示名></漫畫名>  下载完毕\n",
      "当前章节\t  下载开始\n",
      "comics/onepuch_man/第13卷附錄/14.jpg\n"
     ]
    },
    {
     "data": {
      "application/vnd.jupyter.widget-view+json": {
       "model_id": "e99fa8c075af48fda4e207f0546415b1",
       "version_major": 2,
       "version_minor": 0
      },
      "text/plain": [
       "HBox(children=(FloatProgress(value=0.0, max=14.0), HTML(value='')))"
      ]
     },
     "metadata": {},
     "output_type": "display_data"
    },
    {
     "name": "stdout",
     "output_type": "stream",
     "text": [
      "\n",
      "当前章节\t一拳超人漫畫_第13卷附錄_一拳超人漫畫在線閱讀</漫畫名></章節顯示名></漫畫名>  下载完毕\n",
      "当前章节\t  下载开始\n",
      "comics/onepuch_man/第115話/23.jpg\n"
     ]
    },
    {
     "data": {
      "application/vnd.jupyter.widget-view+json": {
       "model_id": "ca6616d1f6d24d619916107abf9e7fec",
       "version_major": 2,
       "version_minor": 0
      },
      "text/plain": [
       "HBox(children=(FloatProgress(value=0.0, max=23.0), HTML(value='')))"
      ]
     },
     "metadata": {},
     "output_type": "display_data"
    },
    {
     "name": "stdout",
     "output_type": "stream",
     "text": [
      "\n",
      "当前章节\t一拳超人漫畫_第115話_一拳超人漫畫在線閱讀</漫畫名></章節顯示名></漫畫名>  下载完毕\n",
      "当前章节\t  下载开始\n",
      "comics/onepuch_man/第114話/19.jpg\n"
     ]
    },
    {
     "data": {
      "application/vnd.jupyter.widget-view+json": {
       "model_id": "ad58dd57de4f44198e1f6f1bbe3571a6",
       "version_major": 2,
       "version_minor": 0
      },
      "text/plain": [
       "HBox(children=(FloatProgress(value=0.0, max=19.0), HTML(value='')))"
      ]
     },
     "metadata": {},
     "output_type": "display_data"
    },
    {
     "name": "stdout",
     "output_type": "stream",
     "text": [
      "\n",
      "当前章节\t一拳超人漫畫_第114話_一拳超人漫畫在線閱讀</漫畫名></章節顯示名></漫畫名>  下载完毕\n",
      "当前章节\t  下载开始\n",
      "comics/onepuch_man/第113話/11.jpg\n"
     ]
    },
    {
     "data": {
      "application/vnd.jupyter.widget-view+json": {
       "model_id": "2753b4fabe56419f9d505fb6032a238f",
       "version_major": 2,
       "version_minor": 0
      },
      "text/plain": [
       "HBox(children=(FloatProgress(value=0.0, max=11.0), HTML(value='')))"
      ]
     },
     "metadata": {},
     "output_type": "display_data"
    },
    {
     "name": "stdout",
     "output_type": "stream",
     "text": [
      "\n",
      "当前章节\t一拳超人漫畫_第113話_一拳超人漫畫在線閱讀</漫畫名></章節顯示名></漫畫名>  下载完毕\n",
      "当前章节\t  下载开始\n",
      "comics/onepuch_man/YJ特別番外短篇/17.jpg\n"
     ]
    },
    {
     "data": {
      "application/vnd.jupyter.widget-view+json": {
       "model_id": "aa2a0400aedb4077bc08e364e506004b",
       "version_major": 2,
       "version_minor": 0
      },
      "text/plain": [
       "HBox(children=(FloatProgress(value=0.0, max=17.0), HTML(value='')))"
      ]
     },
     "metadata": {},
     "output_type": "display_data"
    },
    {
     "name": "stdout",
     "output_type": "stream",
     "text": [
      "\n",
      "当前章节\t一拳超人漫畫_YJ特別番外短篇_一拳超人漫畫在線閱讀</漫畫名></章節顯示名></漫畫名>  下载完毕\n",
      "当前章节\t  下载开始\n",
      "comics/onepuch_man/第112話/33.jpg\n"
     ]
    },
    {
     "data": {
      "application/vnd.jupyter.widget-view+json": {
       "model_id": "b07f82d9d2eb473780ad221af8714a49",
       "version_major": 2,
       "version_minor": 0
      },
      "text/plain": [
       "HBox(children=(FloatProgress(value=0.0, max=33.0), HTML(value='')))"
      ]
     },
     "metadata": {},
     "output_type": "display_data"
    },
    {
     "name": "stdout",
     "output_type": "stream",
     "text": [
      "\n",
      "当前章节\t一拳超人漫畫_第112話_一拳超人漫畫在線閱讀</漫畫名></章節顯示名></漫畫名>  下载完毕\n",
      "当前章节\t  下载开始\n",
      "comics/onepuch_man/ JUMP40周年紀念/0.jpg\n"
     ]
    },
    {
     "data": {
      "application/vnd.jupyter.widget-view+json": {
       "model_id": "d918f24d40f647dba1966b6dcbee1081",
       "version_major": 2,
       "version_minor": 0
      },
      "text/plain": [
       "HBox(children=(FloatProgress(value=1.0, bar_style='info', max=1.0), HTML(value='')))"
      ]
     },
     "metadata": {},
     "output_type": "display_data"
    },
    {
     "name": "stdout",
     "output_type": "stream",
     "text": [
      "\n",
      "当前章节\t一拳超人漫畫_ JUMP40周年紀念_一拳超人漫畫在線閱讀</漫畫名></章節顯示名></漫畫名>  下载完毕\n",
      "当前章节\t  下载开始\n",
      "comics/onepuch_man/賞櫻集合繪/0.jpg\n"
     ]
    },
    {
     "data": {
      "application/vnd.jupyter.widget-view+json": {
       "model_id": "a1f4ce2523414e778ef20200b4955d76",
       "version_major": 2,
       "version_minor": 0
      },
      "text/plain": [
       "HBox(children=(FloatProgress(value=1.0, bar_style='info', max=1.0), HTML(value='')))"
      ]
     },
     "metadata": {},
     "output_type": "display_data"
    },
    {
     "name": "stdout",
     "output_type": "stream",
     "text": [
      "\n",
      "当前章节\t一拳超人漫畫_賞櫻集合繪_一拳超人漫畫在線閱讀</漫畫名></章節顯示名></漫畫名>  下载完毕\n",
      "当前章节\t  下载开始\n",
      "comics/onepuch_man/第111話/34.jpg\n"
     ]
    },
    {
     "data": {
      "application/vnd.jupyter.widget-view+json": {
       "model_id": "c87e6c2c2eba4e13a7c1d96d0bcda534",
       "version_major": 2,
       "version_minor": 0
      },
      "text/plain": [
       "HBox(children=(FloatProgress(value=0.0, max=34.0), HTML(value='')))"
      ]
     },
     "metadata": {},
     "output_type": "display_data"
    },
    {
     "name": "stdout",
     "output_type": "stream",
     "text": [
      "\n",
      "当前章节\t一拳超人漫畫_第111話_一拳超人漫畫在線閱讀</漫畫名></章節顯示名></漫畫名>  下载完毕\n",
      "当前章节\t  下载开始\n",
      "comics/onepuch_man/第110話/25.jpg\n"
     ]
    },
    {
     "data": {
      "application/vnd.jupyter.widget-view+json": {
       "model_id": "a8a5b425a1bb4dc9858982d32085be8a",
       "version_major": 2,
       "version_minor": 0
      },
      "text/plain": [
       "HBox(children=(FloatProgress(value=0.0, max=25.0), HTML(value='')))"
      ]
     },
     "metadata": {},
     "output_type": "display_data"
    },
    {
     "name": "stdout",
     "output_type": "stream",
     "text": [
      "\n",
      "当前章节\t一拳超人漫畫_第110話_一拳超人漫畫在線閱讀</漫畫名></章節顯示名></漫畫名>  下载完毕\n",
      "当前章节\t  下载开始\n",
      "comics/onepuch_man/第109話/42.jpg\n"
     ]
    },
    {
     "data": {
      "application/vnd.jupyter.widget-view+json": {
       "model_id": "4cea307d68de4e43bcc50d3838593d48",
       "version_major": 2,
       "version_minor": 0
      },
      "text/plain": [
       "HBox(children=(FloatProgress(value=0.0, max=42.0), HTML(value='')))"
      ]
     },
     "metadata": {},
     "output_type": "display_data"
    },
    {
     "name": "stdout",
     "output_type": "stream",
     "text": [
      "\n",
      "当前章节\t一拳超人漫畫_第109話_一拳超人漫畫在線閱讀</漫畫名></章節顯示名></漫畫名>  下载完毕\n",
      "当前章节\t  下载开始\n",
      "comics/onepuch_man/第108話/32.jpg\n"
     ]
    },
    {
     "data": {
      "application/vnd.jupyter.widget-view+json": {
       "model_id": "045a60e53f204372ba7032e7cff63b4b",
       "version_major": 2,
       "version_minor": 0
      },
      "text/plain": [
       "HBox(children=(FloatProgress(value=0.0, max=32.0), HTML(value='')))"
      ]
     },
     "metadata": {},
     "output_type": "display_data"
    },
    {
     "name": "stdout",
     "output_type": "stream",
     "text": [
      "\n",
      "当前章节\t一拳超人漫畫_第108話_一拳超人漫畫在線閱讀</漫畫名></章節顯示名></漫畫名>  下载完毕\n",
      "当前章节\t  下载开始\n",
      "comics/onepuch_man/圣誕特別篇/6.jpg\n"
     ]
    },
    {
     "data": {
      "application/vnd.jupyter.widget-view+json": {
       "model_id": "a51762e283044e0eb662edc0ccac94cc",
       "version_major": 2,
       "version_minor": 0
      },
      "text/plain": [
       "HBox(children=(FloatProgress(value=0.0, max=6.0), HTML(value='')))"
      ]
     },
     "metadata": {},
     "output_type": "display_data"
    },
    {
     "name": "stdout",
     "output_type": "stream",
     "text": [
      "\n",
      "当前章节\t一拳超人漫畫_圣誕特別篇_一拳超人漫畫在線閱讀</漫畫名></章節顯示名></漫畫名>  下载完毕\n",
      "当前章节\t  下载开始\n",
      "comics/onepuch_man/第107話/20.jpg\n"
     ]
    },
    {
     "data": {
      "application/vnd.jupyter.widget-view+json": {
       "model_id": "bae154f2ca554f83ab09b3cb236c14a9",
       "version_major": 2,
       "version_minor": 0
      },
      "text/plain": [
       "HBox(children=(FloatProgress(value=0.0, max=20.0), HTML(value='')))"
      ]
     },
     "metadata": {},
     "output_type": "display_data"
    },
    {
     "name": "stdout",
     "output_type": "stream",
     "text": [
      "\n",
      "当前章节\t一拳超人漫畫_第107話_一拳超人漫畫在線閱讀</漫畫名></章節顯示名></漫畫名>  下载完毕\n",
      "当前章节\t  下载开始\n",
      "comics/onepuch_man/第106話/41.jpg\n"
     ]
    },
    {
     "data": {
      "application/vnd.jupyter.widget-view+json": {
       "model_id": "d83879623cbe4b05a1b8cb7e3c52b8b0",
       "version_major": 2,
       "version_minor": 0
      },
      "text/plain": [
       "HBox(children=(FloatProgress(value=0.0, max=41.0), HTML(value='')))"
      ]
     },
     "metadata": {},
     "output_type": "display_data"
    },
    {
     "name": "stdout",
     "output_type": "stream",
     "text": [
      "\n",
      "当前章节\t一拳超人漫畫_第106話_一拳超人漫畫在線閱讀</漫畫名></章節顯示名></漫畫名>  下载完毕\n",
      "当前章节\t  下载开始\n",
      "comics/onepuch_man/YJ特別出張短篇/17.jpg\n"
     ]
    },
    {
     "data": {
      "application/vnd.jupyter.widget-view+json": {
       "model_id": "b9ea9ac794ac4362b2084a3c8cd82bad",
       "version_major": 2,
       "version_minor": 0
      },
      "text/plain": [
       "HBox(children=(FloatProgress(value=0.0, max=17.0), HTML(value='')))"
      ]
     },
     "metadata": {},
     "output_type": "display_data"
    },
    {
     "name": "stdout",
     "output_type": "stream",
     "text": [
      "\n",
      "当前章节\t一拳超人漫畫_YJ特別出張短篇_一拳超人漫畫在線閱讀</漫畫名></章節顯示名></漫畫名>  下载完毕\n",
      "当前章节\t  下载开始\n",
      "comics/onepuch_man/第105話/25.jpg\n"
     ]
    },
    {
     "data": {
      "application/vnd.jupyter.widget-view+json": {
       "model_id": "ab3cf2d542df48a6b0e8f42cdc5801af",
       "version_major": 2,
       "version_minor": 0
      },
      "text/plain": [
       "HBox(children=(FloatProgress(value=0.0, max=25.0), HTML(value='')))"
      ]
     },
     "metadata": {},
     "output_type": "display_data"
    },
    {
     "name": "stdout",
     "output_type": "stream",
     "text": [
      "\n",
      "当前章节\t一拳超人漫畫_第105話_一拳超人漫畫在線閱讀</漫畫名></章節顯示名></漫畫名>  下载完毕\n",
      "当前章节\t  下载开始\n",
      "comics/onepuch_man/第104話/15.jpg\n"
     ]
    },
    {
     "data": {
      "application/vnd.jupyter.widget-view+json": {
       "model_id": "95e94117bc9e41cbb9a09b70809405d0",
       "version_major": 2,
       "version_minor": 0
      },
      "text/plain": [
       "HBox(children=(FloatProgress(value=0.0, max=15.0), HTML(value='')))"
      ]
     },
     "metadata": {},
     "output_type": "display_data"
    },
    {
     "name": "stdout",
     "output_type": "stream",
     "text": [
      "\n",
      "当前章节\t一拳超人漫畫_第104話_一拳超人漫畫在線閱讀</漫畫名></章節顯示名></漫畫名>  下载完毕\n",
      "当前章节\t  下载开始\n",
      "comics/onepuch_man/第103話/30.jpg\n"
     ]
    },
    {
     "data": {
      "application/vnd.jupyter.widget-view+json": {
       "model_id": "df05d34f2a114b40b5b9a65e9f63ca64",
       "version_major": 2,
       "version_minor": 0
      },
      "text/plain": [
       "HBox(children=(FloatProgress(value=0.0, max=30.0), HTML(value='')))"
      ]
     },
     "metadata": {},
     "output_type": "display_data"
    },
    {
     "name": "stdout",
     "output_type": "stream",
     "text": [
      "\n",
      "当前章节\t一拳超人漫畫_第103話_一拳超人漫畫在線閱讀</漫畫名></章節顯示名></漫畫名>  下载完毕\n",
      "当前章节\t  下载开始\n",
      "comics/onepuch_man/第102話/25.jpg\n"
     ]
    },
    {
     "data": {
      "application/vnd.jupyter.widget-view+json": {
       "model_id": "8955f587caf140b28160f1a7b5c123cd",
       "version_major": 2,
       "version_minor": 0
      },
      "text/plain": [
       "HBox(children=(FloatProgress(value=0.0, max=25.0), HTML(value='')))"
      ]
     },
     "metadata": {},
     "output_type": "display_data"
    },
    {
     "name": "stdout",
     "output_type": "stream",
     "text": [
      "\n",
      "当前章节\t一拳超人漫畫_第102話_一拳超人漫畫在線閱讀</漫畫名></章節顯示名></漫畫名>  下载完毕\n",
      "当前章节\t  下载开始\n",
      "comics/onepuch_man/第101話/12.jpg\n"
     ]
    },
    {
     "data": {
      "application/vnd.jupyter.widget-view+json": {
       "model_id": "48cc4539435e4651a5be20765e6b93af",
       "version_major": 2,
       "version_minor": 0
      },
      "text/plain": [
       "HBox(children=(FloatProgress(value=0.0, max=12.0), HTML(value='')))"
      ]
     },
     "metadata": {},
     "output_type": "display_data"
    },
    {
     "name": "stdout",
     "output_type": "stream",
     "text": [
      "\n",
      "当前章节\t一拳超人漫畫_第101話_一拳超人漫畫在線閱讀</漫畫名></章節顯示名></漫畫名>  下载完毕\n",
      "当前章节\t  下载开始\n",
      "comics/onepuch_man/第100話/12.jpg\n"
     ]
    },
    {
     "data": {
      "application/vnd.jupyter.widget-view+json": {
       "model_id": "87f9747de009413d82799f186f6d0df9",
       "version_major": 2,
       "version_minor": 0
      },
      "text/plain": [
       "HBox(children=(FloatProgress(value=0.0, max=12.0), HTML(value='')))"
      ]
     },
     "metadata": {},
     "output_type": "display_data"
    },
    {
     "name": "stdout",
     "output_type": "stream",
     "text": [
      "\n",
      "当前章节\t一拳超人漫畫_第100話_一拳超人漫畫在線閱讀</漫畫名></章節顯示名></漫畫名>  下载完毕\n",
      "当前章节\t  下载开始\n",
      "comics/onepuch_man/第99話/22.jpg\n"
     ]
    },
    {
     "data": {
      "application/vnd.jupyter.widget-view+json": {
       "model_id": "7957abf1d74547cfa418c5748129cb04",
       "version_major": 2,
       "version_minor": 0
      },
      "text/plain": [
       "HBox(children=(FloatProgress(value=0.0, max=22.0), HTML(value='')))"
      ]
     },
     "metadata": {},
     "output_type": "display_data"
    },
    {
     "name": "stdout",
     "output_type": "stream",
     "text": [
      "\n",
      "当前章节\t一拳超人漫畫_第99話_一拳超人漫畫在線閱讀</漫畫名></章節顯示名></漫畫名>  下载完毕\n",
      "当前章节\t  下载开始\n",
      "comics/onepuch_man/第98話/14.jpg\n"
     ]
    },
    {
     "data": {
      "application/vnd.jupyter.widget-view+json": {
       "model_id": "d4a07ac77e004a36a3b0964bb1a39eed",
       "version_major": 2,
       "version_minor": 0
      },
      "text/plain": [
       "HBox(children=(FloatProgress(value=0.0, max=14.0), HTML(value='')))"
      ]
     },
     "metadata": {},
     "output_type": "display_data"
    },
    {
     "name": "stdout",
     "output_type": "stream",
     "text": [
      "\n",
      "当前章节\t一拳超人漫畫_第98話_一拳超人漫畫在線閱讀</漫畫名></章節顯示名></漫畫名>  下载完毕\n",
      "当前章节\t  下载开始\n",
      "comics/onepuch_man/第97話/23.jpg\n"
     ]
    },
    {
     "data": {
      "application/vnd.jupyter.widget-view+json": {
       "model_id": "d8794b4dbac24157b38ed76d63bbe99a",
       "version_major": 2,
       "version_minor": 0
      },
      "text/plain": [
       "HBox(children=(FloatProgress(value=0.0, max=23.0), HTML(value='')))"
      ]
     },
     "metadata": {},
     "output_type": "display_data"
    },
    {
     "name": "stdout",
     "output_type": "stream",
     "text": [
      "\n",
      "当前章节\t一拳超人漫畫_第97話_一拳超人漫畫在線閱讀</漫畫名></章節顯示名></漫畫名>  下载完毕\n",
      "当前章节\t  下载开始\n",
      "comics/onepuch_man/第三次人氣投票/13.jpg\n"
     ]
    },
    {
     "data": {
      "application/vnd.jupyter.widget-view+json": {
       "model_id": "4fc4e82e2ca14119af9870b0631310d8",
       "version_major": 2,
       "version_minor": 0
      },
      "text/plain": [
       "HBox(children=(FloatProgress(value=0.0, max=13.0), HTML(value='')))"
      ]
     },
     "metadata": {},
     "output_type": "display_data"
    },
    {
     "name": "stdout",
     "output_type": "stream",
     "text": [
      "\n",
      "当前章节\t一拳超人漫畫_第三次人氣投票_一拳超人漫畫在線閱讀</漫畫名></章節顯示名></漫畫名>  下载完毕\n",
      "当前章节\t  下载开始\n",
      "comics/onepuch_man/第96話/14.jpg\n"
     ]
    },
    {
     "data": {
      "application/vnd.jupyter.widget-view+json": {
       "model_id": "0aaa93353e484f2da491f54b14b8c421",
       "version_major": 2,
       "version_minor": 0
      },
      "text/plain": [
       "HBox(children=(FloatProgress(value=0.0, max=14.0), HTML(value='')))"
      ]
     },
     "metadata": {},
     "output_type": "display_data"
    },
    {
     "name": "stdout",
     "output_type": "stream",
     "text": [
      "\n",
      "当前章节\t一拳超人漫畫_第96話_一拳超人漫畫在線閱讀</漫畫名></章節顯示名></漫畫名>  下载完毕\n",
      "当前章节\t  下载开始\n",
      "comics/onepuch_man/第95話/14.jpg\n"
     ]
    },
    {
     "data": {
      "application/vnd.jupyter.widget-view+json": {
       "model_id": "1f283270038340be9694567eb7a39c57",
       "version_major": 2,
       "version_minor": 0
      },
      "text/plain": [
       "HBox(children=(FloatProgress(value=0.0, max=14.0), HTML(value='')))"
      ]
     },
     "metadata": {},
     "output_type": "display_data"
    },
    {
     "name": "stdout",
     "output_type": "stream",
     "text": [
      "\n",
      "当前章节\t一拳超人漫畫_第95話_一拳超人漫畫在線閱讀</漫畫名></章節顯示名></漫畫名>  下载完毕\n",
      "当前章节\t  下载开始\n",
      "comics/onepuch_man/第94話/9.jpg\n"
     ]
    },
    {
     "data": {
      "application/vnd.jupyter.widget-view+json": {
       "model_id": "edfcce3a586f43b2892de95498a1784f",
       "version_major": 2,
       "version_minor": 0
      },
      "text/plain": [
       "HBox(children=(FloatProgress(value=0.0, max=9.0), HTML(value='')))"
      ]
     },
     "metadata": {},
     "output_type": "display_data"
    },
    {
     "name": "stdout",
     "output_type": "stream",
     "text": [
      "\n",
      "当前章节\t一拳超人漫畫_第94話_一拳超人漫畫在線閱讀</漫畫名></章節顯示名></漫畫名>  下载完毕\n",
      "当前章节\t  下载开始\n",
      "comics/onepuch_man/首頁圖/115.jpg\n"
     ]
    },
    {
     "data": {
      "application/vnd.jupyter.widget-view+json": {
       "model_id": "33f96558b36f480ba31410b8284338e4",
       "version_major": 2,
       "version_minor": 0
      },
      "text/plain": [
       "HBox(children=(FloatProgress(value=0.0, max=115.0), HTML(value='')))"
      ]
     },
     "metadata": {},
     "output_type": "display_data"
    },
    {
     "name": "stdout",
     "output_type": "stream",
     "text": [
      "\n",
      "当前章节\t一拳超人漫畫_首頁圖_一拳超人漫畫在線閱讀</漫畫名></章節顯示名></漫畫名>  下载完毕\n",
      "当前章节\t  下载开始\n",
      "comics/onepuch_man/YJ特別短篇/31.jpg\n"
     ]
    },
    {
     "data": {
      "application/vnd.jupyter.widget-view+json": {
       "model_id": "9d565c0d0baf4383b4a7d80bd6283311",
       "version_major": 2,
       "version_minor": 0
      },
      "text/plain": [
       "HBox(children=(FloatProgress(value=0.0, max=31.0), HTML(value='')))"
      ]
     },
     "metadata": {},
     "output_type": "display_data"
    }
   ],
   "source": [
    "bad_case = [] #存储失败的链接，之后再尝试\n",
    "#browser = webdriver.Chrome(executable_path='/Users/james/chromedriver')\n",
    "for url in tqdm(comic_list):\n",
    "    browser = webdriver.PhantomJS()\n",
    "    try:\n",
    "        print('当前章节\\t{}  下载开始'.format(browser.title))\n",
    "        browser.get(url)\n",
    "        browser.implicitly_wait(3)\n",
    "\n",
    "        # 创建章节目录\n",
    "        dirname = basedir + browser.title.split('_')[1]\n",
    "        mkdir(dirname)\n",
    "        tmppagelen = len(browser.find_elements_by_class_name('chapterpage'))\n",
    "        if not os.path.exists(dirname + '/' + str(tmppagelen) + '.jpg'):\n",
    "            print (dirname + '/' + str(tmppagelen) + '.jpg')\n",
    "            for i in tqdm(range(tmppagelen)):\n",
    "                #print (page.get_attribute(\"href\"))\n",
    "                browser.get(browser.find_elements_by_class_name('chapterpage')[i].get_attribute(\"href\"))\n",
    "                browser.implicitly_wait(3)\n",
    "                pic_url  = browser.find_element_by_id('cp_image').get_attribute('src')\n",
    "                #pic_url = browser.find_element_by_id('curPic').get_attribute('src')\n",
    "                filename = dirname + '/' + str(i+1) + '.jpg'\n",
    "                #print (filename)\n",
    "                SavePic(filename, pic_url)\n",
    "                # 点击下一页的按钮，加载下一张图\n",
    "                #count +=1\n",
    "\n",
    "            print('当前章节\\t{}  下载完毕'.format(browser.title))\n",
    "        else:\n",
    "            print('当前章节\\t{}  之前已经下载'.format(browser.title))\n",
    "    except:\n",
    "        print('当前章节\\t{}  下载出错'.format(browser.title)) \n",
    "        bad_case.append(url)\n",
    "    browser.quit()\n",
    "    \n",
    "print('所有章节下载完毕')"
   ]
  },
  {
   "cell_type": "code",
   "execution_count": null,
   "metadata": {},
   "outputs": [],
   "source": [
    "#循环处理所有bad case直到全部下载\n",
    "while len(bad_case)>0:\n",
    "    browser = webdriver.PhantomJS()\n",
    "    #browser = webdriver.Chrome(executable_path='/Users/james/chromedriver')\n",
    "    for url in tqdm(comic_list):\n",
    "        try:\n",
    "            print('当前章节\\t{}  下载开始'.format(browser.title))\n",
    "            browser.get(url)\n",
    "            browser.implicitly_wait(3)\n",
    "\n",
    "            # 创建章节目录\n",
    "            dirname = basedir + browser.title.split('_')[1]\n",
    "            mkdir(dirname)\n",
    "            tmppagelen = len(browser.find_elements_by_class_name('chapterpage'))\n",
    "            if not os.path.exists(dirname + '/' + str(tmppagelen) + '.jpg'):\n",
    "                print (dirname + '/' + str(tmppagelen) + '.jpg')\n",
    "                for i in tqdm(range(tmppagelen)):\n",
    "                    #print (page.get_attribute(\"href\"))\n",
    "                    browser.get(browser.find_elements_by_class_name('chapterpage')[i].get_attribute(\"href\"))\n",
    "                    browser.implicitly_wait(3)\n",
    "                    pic_url  = browser.find_element_by_id('cp_image').get_attribute('src')\n",
    "                    #pic_url = browser.find_element_by_id('curPic').get_attribute('src')\n",
    "                    filename = dirname + '/' + str(i+1) + '.jpg'\n",
    "                    print (filename)\n",
    "                    SavePic(filename, pic_url)\n",
    "                    # 点击下一页的按钮，加载下一张图\n",
    "                    #count +=1\n",
    "\n",
    "                print('当前章节\\t{}  下载完毕'.format(browser.title))\n",
    "            else:\n",
    "                print('当前章节\\t{}  之前已经下载'.format(browser.title))\n",
    "        except:\n",
    "            print('当前章节\\t{}  下载出错'.format(browser.title)) \n",
    "            bad_case.remove(url)\n",
    "\n",
    "    browser.quit()\n",
    "    print('所有章节下载完毕')"
   ]
  },
  {
   "cell_type": "code",
   "execution_count": null,
   "metadata": {
    "scrolled": true
   },
   "outputs": [],
   "source": [
    "import zipfile\n",
    "\n",
    "def zipdir(path, ziph):\n",
    "    # ziph is zipfile handle\n",
    "    for root, dirs, files in os.walk(path):\n",
    "        for file in files:\n",
    "            print (os.path.join(root, file+'.zip'))\n",
    "            ziph.write(os.path.join(root, file))\n",
    "for i in tqdm(os.listdir(basedir)):\n",
    "    zipf = zipfile.ZipFile(basedir+i+'.zip', 'w', zipfile.ZIP_DEFLATED)\n",
    "    zipdir(basedir+i, zipf)\n",
    "    \n",
    "if not os.path.exists('comics/cbr/'+basedir.split('/')[-2]+'/'):\n",
    "    os.makedirs('comics/cbr/'+basedir.split('/')[-2]+'/')\n",
    "import shutil\n",
    "for i in tqdm(os.listdir(basedir)):\n",
    "    if i[-3:] =='zip':\n",
    "        print (i)\n",
    "        shutil.move(basedir+i,'comics/cbr/'+basedir.split('/')[-2]+'/'+i[:-3]+'cbr')"
   ]
  },
  {
   "cell_type": "code",
   "execution_count": null,
   "metadata": {},
   "outputs": [],
   "source": []
  }
 ],
 "metadata": {
  "kernelspec": {
   "display_name": "Python 3",
   "language": "python",
   "name": "python3"
  },
  "language_info": {
   "codemirror_mode": {
    "name": "ipython",
    "version": 3
   },
   "file_extension": ".py",
   "mimetype": "text/x-python",
   "name": "python",
   "nbconvert_exporter": "python",
   "pygments_lexer": "ipython3",
   "version": "3.8.5"
  },
  "toc": {
   "base_numbering": 1,
   "nav_menu": {},
   "number_sections": true,
   "sideBar": true,
   "skip_h1_title": false,
   "title_cell": "Table of Contents",
   "title_sidebar": "Contents",
   "toc_cell": false,
   "toc_position": {},
   "toc_section_display": true,
   "toc_window_display": false
  }
 },
 "nbformat": 4,
 "nbformat_minor": 4
}
