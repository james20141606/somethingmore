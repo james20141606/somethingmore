{
 "cells": [
  {
   "cell_type": "code",
   "execution_count": 1,
   "metadata": {},
   "outputs": [],
   "source": [
    "import gc, argparse, sys, os, errno\n",
    "import os\n",
    "from tqdm.notebook import tqdm\n",
    "\n",
    "import warnings\n",
    "warnings.filterwarnings('ignore')"
   ]
  },
  {
   "cell_type": "code",
   "execution_count": 2,
   "metadata": {},
   "outputs": [],
   "source": [
    "from selenium import webdriver\n",
    "import requests"
   ]
  },
  {
   "cell_type": "code",
   "execution_count": 3,
   "metadata": {},
   "outputs": [],
   "source": [
    "def mkdir(path):\n",
    "    '''\n",
    "    防止目录存在\n",
    "    '''\n",
    "    if not os.path.exists(path):\n",
    "        os.makedirs(path)\n",
    "\n",
    "\n",
    "def SavePic(filename, url):\n",
    "    '''\n",
    "    通过requests库\n",
    "    将抓取到的图片保存到本地\n",
    "    '''\n",
    "    content = requests.get(url).content\n",
    "    with open(filename, 'wb') as f:\n",
    "        f.write(content)"
   ]
  },
  {
   "cell_type": "markdown",
   "metadata": {},
   "source": [
    "SavePic( 'comic_crawl/test/test.png','http://www.xmanhua.com/m130497/#ipg5' )\n",
    "browser.title.split('_')[]\n",
    "browser.find_element_by_id('cp_image').get_attribute('src')\n",
    "len(browser.find_elements_by_class_name('chapterpage'))\n",
    "browser.find_elements_by_class_name('chapterpage')[2].get_attribute(\"href\")\n",
    "SavePic('comic_crawl/test/周刊174/1.jpg', browser.find_element_by_id('cp_image').get_attribute('src'))"
   ]
  },
  {
   "cell_type": "code",
   "execution_count": 4,
   "metadata": {},
   "outputs": [],
   "source": [
    "basedir = 'comics/huiye/'\n",
    "comic_url = 'http://xmanhua.com/60xm/'\n"
   ]
  },
  {
   "cell_type": "code",
   "execution_count": 7,
   "metadata": {},
   "outputs": [],
   "source": [
    "mkdir(basedir)\n",
    "browser = webdriver.PhantomJS()\n",
    "browser.get(comic_url)\n",
    "browser.implicitly_wait(3)"
   ]
  },
  {
   "cell_type": "code",
   "execution_count": 8,
   "metadata": {},
   "outputs": [],
   "source": [
    "comic_list = []\n",
    "for i in range(len(browser.find_elements_by_class_name('detail-list-form-item'))):\n",
    "    comic_list.append(browser.find_elements_by_class_name('detail-list-form-item')[i].get_attribute(\"href\"))"
   ]
  },
  {
   "cell_type": "code",
   "execution_count": null,
   "metadata": {},
   "outputs": [
    {
     "data": {
      "application/vnd.jupyter.widget-view+json": {
       "model_id": "4ab5c96dc76a4e618adc9dabfaa9e594",
       "version_major": 2,
       "version_minor": 0
      },
      "text/plain": [
       "HBox(children=(FloatProgress(value=0.0, max=217.0), HTML(value='')))"
      ]
     },
     "metadata": {},
     "output_type": "display_data"
    },
    {
     "data": {
      "application/vnd.jupyter.widget-view+json": {
       "model_id": "f17fdcd15ae74db89763cd730461e4dc",
       "version_major": 2,
       "version_minor": 0
      },
      "text/plain": [
       "HBox(children=(FloatProgress(value=0.0, max=20.0), HTML(value='')))"
      ]
     },
     "metadata": {},
     "output_type": "display_data"
    },
    {
     "name": "stdout",
     "output_type": "stream",
     "text": [
      "\n",
      "当前章节\t輝夜大小姐想讓我告白 ~天才們的戀愛頭腦戰~漫畫_周刊185_輝夜大小姐想讓我告白 ~天才們的戀愛頭腦戰~漫畫在線閱讀</漫畫名></章節顯示名></漫畫名>  下载完毕\n"
     ]
    },
    {
     "data": {
      "application/vnd.jupyter.widget-view+json": {
       "model_id": "14d1c463f8aa476388fe517102e110d6",
       "version_major": 2,
       "version_minor": 0
      },
      "text/plain": [
       "HBox(children=(FloatProgress(value=0.0, max=21.0), HTML(value='')))"
      ]
     },
     "metadata": {},
     "output_type": "display_data"
    },
    {
     "name": "stdout",
     "output_type": "stream",
     "text": [
      "\n",
      "当前章节\t輝夜大小姐想讓我告白 ~天才們的戀愛頭腦戰~漫畫_周刊184_輝夜大小姐想讓我告白 ~天才們的戀愛頭腦戰~漫畫在線閱讀</漫畫名></章節顯示名></漫畫名>  下载完毕\n"
     ]
    },
    {
     "data": {
      "application/vnd.jupyter.widget-view+json": {
       "model_id": "def728bc0a054b398206982cbb97cf75",
       "version_major": 2,
       "version_minor": 0
      },
      "text/plain": [
       "HBox(children=(FloatProgress(value=0.0, max=20.0), HTML(value='')))"
      ]
     },
     "metadata": {},
     "output_type": "display_data"
    },
    {
     "name": "stdout",
     "output_type": "stream",
     "text": [
      "\n",
      "当前章节\t輝夜大小姐想讓我告白 ~天才們的戀愛頭腦戰~漫畫_周刊183_輝夜大小姐想讓我告白 ~天才們的戀愛頭腦戰~漫畫在線閱讀</漫畫名></章節顯示名></漫畫名>  下载完毕\n"
     ]
    },
    {
     "data": {
      "application/vnd.jupyter.widget-view+json": {
       "model_id": "d28fa29278e84f838019fc4b043aa5a2",
       "version_major": 2,
       "version_minor": 0
      },
      "text/plain": [
       "HBox(children=(FloatProgress(value=0.0, max=20.0), HTML(value='')))"
      ]
     },
     "metadata": {},
     "output_type": "display_data"
    },
    {
     "name": "stdout",
     "output_type": "stream",
     "text": [
      "\n",
      "当前章节\t輝夜大小姐想讓我告白 ~天才們的戀愛頭腦戰~漫畫_周刊182_輝夜大小姐想讓我告白 ~天才們的戀愛頭腦戰~漫畫在線閱讀</漫畫名></章節顯示名></漫畫名>  下载完毕\n"
     ]
    },
    {
     "data": {
      "application/vnd.jupyter.widget-view+json": {
       "model_id": "b8b8beb3b09c4ee09d65c770a3401a80",
       "version_major": 2,
       "version_minor": 0
      },
      "text/plain": [
       "HBox(children=(FloatProgress(value=0.0, max=23.0), HTML(value='')))"
      ]
     },
     "metadata": {},
     "output_type": "display_data"
    },
    {
     "name": "stdout",
     "output_type": "stream",
     "text": [
      "\n",
      "当前章节\t輝夜大小姐想讓我告白 ~天才們的戀愛頭腦戰~漫畫_彩色版05話_輝夜大小姐想讓我告白 ~天才們的戀愛頭腦戰~漫畫在線閱讀</漫畫名></章節顯示名></漫畫名>  下载完毕\n"
     ]
    },
    {
     "data": {
      "application/vnd.jupyter.widget-view+json": {
       "model_id": "586a1d171fb24cfea59ebb5c2032b9bd",
       "version_major": 2,
       "version_minor": 0
      },
      "text/plain": [
       "HBox(children=(FloatProgress(value=0.0, max=19.0), HTML(value='')))"
      ]
     },
     "metadata": {},
     "output_type": "display_data"
    },
    {
     "name": "stdout",
     "output_type": "stream",
     "text": [
      "\n",
      "当前章节\t輝夜大小姐想讓我告白 ~天才們的戀愛頭腦戰~漫畫_周刊181_輝夜大小姐想讓我告白 ~天才們的戀愛頭腦戰~漫畫在線閱讀</漫畫名></章節顯示名></漫畫名>  下载完毕\n"
     ]
    },
    {
     "data": {
      "application/vnd.jupyter.widget-view+json": {
       "model_id": "dce33a4262464c7c88158297b96fc832",
       "version_major": 2,
       "version_minor": 0
      },
      "text/plain": [
       "HBox(children=(FloatProgress(value=0.0, max=19.0), HTML(value='')))"
      ]
     },
     "metadata": {},
     "output_type": "display_data"
    },
    {
     "name": "stdout",
     "output_type": "stream",
     "text": [
      "\n",
      "当前章节\t輝夜大小姐想讓我告白 ~天才們的戀愛頭腦戰~漫畫_周刊180_輝夜大小姐想讓我告白 ~天才們的戀愛頭腦戰~漫畫在線閱讀</漫畫名></章節顯示名></漫畫名>  下载完毕\n"
     ]
    },
    {
     "data": {
      "application/vnd.jupyter.widget-view+json": {
       "model_id": "ee6beb3c89764958977e5d0964e7e1c8",
       "version_major": 2,
       "version_minor": 0
      },
      "text/plain": [
       "HBox(children=(FloatProgress(value=0.0, max=19.0), HTML(value='')))"
      ]
     },
     "metadata": {},
     "output_type": "display_data"
    },
    {
     "name": "stdout",
     "output_type": "stream",
     "text": [
      "\n",
      "当前章节\t輝夜大小姐想讓我告白 ~天才們的戀愛頭腦戰~漫畫_周刊179_輝夜大小姐想讓我告白 ~天才們的戀愛頭腦戰~漫畫在線閱讀</漫畫名></章節顯示名></漫畫名>  下载完毕\n"
     ]
    },
    {
     "data": {
      "application/vnd.jupyter.widget-view+json": {
       "model_id": "16116f5143e7492fbb18765942911e19",
       "version_major": 2,
       "version_minor": 0
      },
      "text/plain": [
       "HBox(children=(FloatProgress(value=0.0, max=20.0), HTML(value='')))"
      ]
     },
     "metadata": {},
     "output_type": "display_data"
    },
    {
     "name": "stdout",
     "output_type": "stream",
     "text": [
      "\n",
      "当前章节\t輝夜大小姐想讓我告白 ~天才們的戀愛頭腦戰~漫畫_周刊178_輝夜大小姐想讓我告白 ~天才們的戀愛頭腦戰~漫畫在線閱讀</漫畫名></章節顯示名></漫畫名>  下载完毕\n"
     ]
    },
    {
     "data": {
      "application/vnd.jupyter.widget-view+json": {
       "model_id": "edda038e3fd348e1a406b1ecdb8ab4d7",
       "version_major": 2,
       "version_minor": 0
      },
      "text/plain": [
       "HBox(children=(FloatProgress(value=0.0, max=19.0), HTML(value='')))"
      ]
     },
     "metadata": {},
     "output_type": "display_data"
    },
    {
     "name": "stdout",
     "output_type": "stream",
     "text": [
      "\n",
      "当前章节\t輝夜大小姐想讓我告白 ~天才們的戀愛頭腦戰~漫畫_周刊177_輝夜大小姐想讓我告白 ~天才們的戀愛頭腦戰~漫畫在線閱讀</漫畫名></章節顯示名></漫畫名>  下载完毕\n"
     ]
    },
    {
     "data": {
      "application/vnd.jupyter.widget-view+json": {
       "model_id": "4544df289a734b53a751930684644daf",
       "version_major": 2,
       "version_minor": 0
      },
      "text/plain": [
       "HBox(children=(FloatProgress(value=0.0, max=19.0), HTML(value='')))"
      ]
     },
     "metadata": {},
     "output_type": "display_data"
    },
    {
     "name": "stdout",
     "output_type": "stream",
     "text": [
      "\n",
      "当前章节\t輝夜大小姐想讓我告白 ~天才們的戀愛頭腦戰~漫畫_周刊176_輝夜大小姐想讓我告白 ~天才們的戀愛頭腦戰~漫畫在線閱讀</漫畫名></章節顯示名></漫畫名>  下载完毕\n"
     ]
    },
    {
     "data": {
      "application/vnd.jupyter.widget-view+json": {
       "model_id": "027ba5a36a4c484c96696b69126d4190",
       "version_major": 2,
       "version_minor": 0
      },
      "text/plain": [
       "HBox(children=(FloatProgress(value=0.0, max=22.0), HTML(value='')))"
      ]
     },
     "metadata": {},
     "output_type": "display_data"
    },
    {
     "name": "stdout",
     "output_type": "stream",
     "text": [
      "\n",
      "当前章节\t輝夜大小姐想讓我告白 ~天才們的戀愛頭腦戰~漫畫_周刊175_輝夜大小姐想讓我告白 ~天才們的戀愛頭腦戰~漫畫在線閱讀</漫畫名></章節顯示名></漫畫名>  下载完毕\n"
     ]
    },
    {
     "data": {
      "application/vnd.jupyter.widget-view+json": {
       "model_id": "b4359f8333794103b62cd6153ddb73f8",
       "version_major": 2,
       "version_minor": 0
      },
      "text/plain": [
       "HBox(children=(FloatProgress(value=0.0, max=18.0), HTML(value='')))"
      ]
     },
     "metadata": {},
     "output_type": "display_data"
    },
    {
     "name": "stdout",
     "output_type": "stream",
     "text": [
      "\n",
      "当前章节\t輝夜大小姐想讓我告白 ~天才們的戀愛頭腦戰~漫畫_周刊174_輝夜大小姐想讓我告白 ~天才們的戀愛頭腦戰~漫畫在線閱讀</漫畫名></章節顯示名></漫畫名>  下载完毕\n"
     ]
    },
    {
     "data": {
      "application/vnd.jupyter.widget-view+json": {
       "model_id": "c3901ae0529f4ac1a93dffeb2dd222b9",
       "version_major": 2,
       "version_minor": 0
      },
      "text/plain": [
       "HBox(children=(FloatProgress(value=0.0, max=19.0), HTML(value='')))"
      ]
     },
     "metadata": {},
     "output_type": "display_data"
    },
    {
     "name": "stdout",
     "output_type": "stream",
     "text": [
      "\n",
      "当前章节\t輝夜大小姐想讓我告白 ~天才們的戀愛頭腦戰~漫畫_周刊173_輝夜大小姐想讓我告白 ~天才們的戀愛頭腦戰~漫畫在線閱讀</漫畫名></章節顯示名></漫畫名>  下载完毕\n"
     ]
    },
    {
     "data": {
      "application/vnd.jupyter.widget-view+json": {
       "model_id": "f49768d34a3c4452a98c579990efb95b",
       "version_major": 2,
       "version_minor": 0
      },
      "text/plain": [
       "HBox(children=(FloatProgress(value=0.0, max=23.0), HTML(value='')))"
      ]
     },
     "metadata": {},
     "output_type": "display_data"
    },
    {
     "name": "stdout",
     "output_type": "stream",
     "text": [
      "\n",
      "当前章节\t輝夜大小姐想讓我告白 ~天才們的戀愛頭腦戰~漫畫_彩色版04話_輝夜大小姐想讓我告白 ~天才們的戀愛頭腦戰~漫畫在線閱讀</漫畫名></章節顯示名></漫畫名>  下载完毕\n"
     ]
    },
    {
     "data": {
      "application/vnd.jupyter.widget-view+json": {
       "model_id": "bdec970277764fd1b5f670f69db345fe",
       "version_major": 2,
       "version_minor": 0
      },
      "text/plain": [
       "HBox(children=(FloatProgress(value=0.0, max=20.0), HTML(value='')))"
      ]
     },
     "metadata": {},
     "output_type": "display_data"
    },
    {
     "name": "stdout",
     "output_type": "stream",
     "text": [
      "\n",
      "当前章节\t輝夜大小姐想讓我告白 ~天才們的戀愛頭腦戰~漫畫_彩色版03話_輝夜大小姐想讓我告白 ~天才們的戀愛頭腦戰~漫畫在線閱讀</漫畫名></章節顯示名></漫畫名>  下载完毕\n"
     ]
    },
    {
     "data": {
      "application/vnd.jupyter.widget-view+json": {
       "model_id": "f43d1d2958fd473d947d3dc24abf1d0a",
       "version_major": 2,
       "version_minor": 0
      },
      "text/plain": [
       "HBox(children=(FloatProgress(value=0.0, max=20.0), HTML(value='')))"
      ]
     },
     "metadata": {},
     "output_type": "display_data"
    },
    {
     "name": "stdout",
     "output_type": "stream",
     "text": [
      "\n",
      "当前章节\t輝夜大小姐想讓我告白 ~天才們的戀愛頭腦戰~漫畫_周刊172_輝夜大小姐想讓我告白 ~天才們的戀愛頭腦戰~漫畫在線閱讀</漫畫名></章節顯示名></漫畫名>  下载完毕\n"
     ]
    },
    {
     "data": {
      "application/vnd.jupyter.widget-view+json": {
       "model_id": "ffcbfe0fb30f4d9e98d5a927bc6e400f",
       "version_major": 2,
       "version_minor": 0
      },
      "text/plain": [
       "HBox(children=(FloatProgress(value=0.0, max=18.0), HTML(value='')))"
      ]
     },
     "metadata": {},
     "output_type": "display_data"
    },
    {
     "name": "stdout",
     "output_type": "stream",
     "text": [
      "\n",
      "当前章节\t輝夜大小姐想讓我告白 ~天才們的戀愛頭腦戰~漫畫_周刊171_輝夜大小姐想讓我告白 ~天才們的戀愛頭腦戰~漫畫在線閱讀</漫畫名></章節顯示名></漫畫名>  下载完毕\n"
     ]
    },
    {
     "data": {
      "application/vnd.jupyter.widget-view+json": {
       "model_id": "ff88c34b967e416e9d61c1e140d9e8c3",
       "version_major": 2,
       "version_minor": 0
      },
      "text/plain": [
       "HBox(children=(FloatProgress(value=0.0, max=18.0), HTML(value='')))"
      ]
     },
     "metadata": {},
     "output_type": "display_data"
    },
    {
     "name": "stdout",
     "output_type": "stream",
     "text": [
      "\n",
      "当前章节\t輝夜大小姐想讓我告白 ~天才們的戀愛頭腦戰~漫畫_周刊170_輝夜大小姐想讓我告白 ~天才們的戀愛頭腦戰~漫畫在線閱讀</漫畫名></章節顯示名></漫畫名>  下载完毕\n"
     ]
    },
    {
     "data": {
      "application/vnd.jupyter.widget-view+json": {
       "model_id": "fec238564171412592f74690834e9d9f",
       "version_major": 2,
       "version_minor": 0
      },
      "text/plain": [
       "HBox(children=(FloatProgress(value=0.0, max=18.0), HTML(value='')))"
      ]
     },
     "metadata": {},
     "output_type": "display_data"
    },
    {
     "name": "stdout",
     "output_type": "stream",
     "text": [
      "\n",
      "当前章节\t輝夜大小姐想讓我告白 ~天才們的戀愛頭腦戰~漫畫_周刊169_輝夜大小姐想讓我告白 ~天才們的戀愛頭腦戰~漫畫在線閱讀</漫畫名></章節顯示名></漫畫名>  下载完毕\n"
     ]
    },
    {
     "data": {
      "application/vnd.jupyter.widget-view+json": {
       "model_id": "3f957782929e4547a6d2c94becf44fc7",
       "version_major": 2,
       "version_minor": 0
      },
      "text/plain": [
       "HBox(children=(FloatProgress(value=0.0, max=18.0), HTML(value='')))"
      ]
     },
     "metadata": {},
     "output_type": "display_data"
    },
    {
     "name": "stdout",
     "output_type": "stream",
     "text": [
      "\n",
      "当前章节\t輝夜大小姐想讓我告白 ~天才們的戀愛頭腦戰~漫畫_周刊168_輝夜大小姐想讓我告白 ~天才們的戀愛頭腦戰~漫畫在線閱讀</漫畫名></章節顯示名></漫畫名>  下载完毕\n"
     ]
    },
    {
     "data": {
      "application/vnd.jupyter.widget-view+json": {
       "model_id": "8023f983fd6b4049a035d5f1db1e5649",
       "version_major": 2,
       "version_minor": 0
      },
      "text/plain": [
       "HBox(children=(FloatProgress(value=0.0, max=19.0), HTML(value='')))"
      ]
     },
     "metadata": {},
     "output_type": "display_data"
    },
    {
     "name": "stdout",
     "output_type": "stream",
     "text": [
      "\n",
      "当前章节\t輝夜大小姐想讓我告白 ~天才們的戀愛頭腦戰~漫畫_周刊167話_輝夜大小姐想讓我告白 ~天才們的戀愛頭腦戰~漫畫在線閱讀</漫畫名></章節顯示名></漫畫名>  下载完毕\n"
     ]
    },
    {
     "data": {
      "application/vnd.jupyter.widget-view+json": {
       "model_id": "32526b2c08a2428c9fcec4c8c7fdaf69",
       "version_major": 2,
       "version_minor": 0
      },
      "text/plain": [
       "HBox(children=(FloatProgress(value=0.0, max=18.0), HTML(value='')))"
      ]
     },
     "metadata": {},
     "output_type": "display_data"
    },
    {
     "name": "stdout",
     "output_type": "stream",
     "text": [
      "\n",
      "当前章节\t輝夜大小姐想讓我告白 ~天才們的戀愛頭腦戰~漫畫_周刊166話_輝夜大小姐想讓我告白 ~天才們的戀愛頭腦戰~漫畫在線閱讀</漫畫名></章節顯示名></漫畫名>  下载完毕\n"
     ]
    },
    {
     "data": {
      "application/vnd.jupyter.widget-view+json": {
       "model_id": "1109988f0f024137a89d0612e2c3226f",
       "version_major": 2,
       "version_minor": 0
      },
      "text/plain": [
       "HBox(children=(FloatProgress(value=0.0, max=20.0), HTML(value='')))"
      ]
     },
     "metadata": {},
     "output_type": "display_data"
    },
    {
     "name": "stdout",
     "output_type": "stream",
     "text": [
      "\n",
      "当前章节\t輝夜大小姐想讓我告白 ~天才們的戀愛頭腦戰~漫畫_周刊165_輝夜大小姐想讓我告白 ~天才們的戀愛頭腦戰~漫畫在線閱讀</漫畫名></章節顯示名></漫畫名>  下载完毕\n"
     ]
    },
    {
     "data": {
      "application/vnd.jupyter.widget-view+json": {
       "model_id": "aa84e61ad7874327a49ef74c3a30df7d",
       "version_major": 2,
       "version_minor": 0
      },
      "text/plain": [
       "HBox(children=(FloatProgress(value=0.0, max=22.0), HTML(value='')))"
      ]
     },
     "metadata": {},
     "output_type": "display_data"
    },
    {
     "name": "stdout",
     "output_type": "stream",
     "text": [
      "\n",
      "当前章节\t輝夜大小姐想讓我告白 ~天才們的戀愛頭腦戰~漫畫_彩色版02話_輝夜大小姐想讓我告白 ~天才們的戀愛頭腦戰~漫畫在線閱讀</漫畫名></章節顯示名></漫畫名>  下载完毕\n"
     ]
    },
    {
     "data": {
      "application/vnd.jupyter.widget-view+json": {
       "model_id": "3d6651042b9c429d88c15e83a4ed28a0",
       "version_major": 2,
       "version_minor": 0
      },
      "text/plain": [
       "HBox(children=(FloatProgress(value=0.0, max=7.0), HTML(value='')))"
      ]
     },
     "metadata": {},
     "output_type": "display_data"
    },
    {
     "name": "stdout",
     "output_type": "stream",
     "text": [
      "\n",
      "当前章节\t輝夜大小姐想讓我告白 ~天才們的戀愛頭腦戰~漫畫_番外篇_輝夜大小姐想讓我告白 ~天才們的戀愛頭腦戰~漫畫在線閱讀</漫畫名></章節顯示名></漫畫名>  下载完毕\n"
     ]
    },
    {
     "data": {
      "application/vnd.jupyter.widget-view+json": {
       "model_id": "4ddb29cb556f42d7805c33bbc3be7e68",
       "version_major": 2,
       "version_minor": 0
      },
      "text/plain": [
       "HBox(children=(FloatProgress(value=0.0, max=19.0), HTML(value='')))"
      ]
     },
     "metadata": {},
     "output_type": "display_data"
    },
    {
     "name": "stdout",
     "output_type": "stream",
     "text": [
      "\n",
      "当前章节\t輝夜大小姐想讓我告白 ~天才們的戀愛頭腦戰~漫畫_周刊163_輝夜大小姐想讓我告白 ~天才們的戀愛頭腦戰~漫畫在線閱讀</漫畫名></章節顯示名></漫畫名>  下载完毕\n"
     ]
    },
    {
     "data": {
      "application/vnd.jupyter.widget-view+json": {
       "model_id": "5e3866f321ec496b9813c81252728882",
       "version_major": 2,
       "version_minor": 0
      },
      "text/plain": [
       "HBox(children=(FloatProgress(value=0.0, max=19.0), HTML(value='')))"
      ]
     },
     "metadata": {},
     "output_type": "display_data"
    },
    {
     "name": "stdout",
     "output_type": "stream",
     "text": [
      "\n",
      "当前章节\t輝夜大小姐想讓我告白 ~天才們的戀愛頭腦戰~漫畫_周刊162_輝夜大小姐想讓我告白 ~天才們的戀愛頭腦戰~漫畫在線閱讀</漫畫名></章節顯示名></漫畫名>  下载完毕\n"
     ]
    },
    {
     "data": {
      "application/vnd.jupyter.widget-view+json": {
       "model_id": "71947d9089ea480aab2d9867887bfbd7",
       "version_major": 2,
       "version_minor": 0
      },
      "text/plain": [
       "HBox(children=(FloatProgress(value=0.0, max=21.0), HTML(value='')))"
      ]
     },
     "metadata": {},
     "output_type": "display_data"
    },
    {
     "name": "stdout",
     "output_type": "stream",
     "text": [
      "\n",
      "当前章节\t輝夜大小姐想讓我告白 ~天才們的戀愛頭腦戰~漫畫_周刊161_輝夜大小姐想讓我告白 ~天才們的戀愛頭腦戰~漫畫在線閱讀</漫畫名></章節顯示名></漫畫名>  下载完毕\n"
     ]
    },
    {
     "data": {
      "application/vnd.jupyter.widget-view+json": {
       "model_id": "d4754297a7d74615a8a4720ba3811a4f",
       "version_major": 2,
       "version_minor": 0
      },
      "text/plain": [
       "HBox(children=(FloatProgress(value=0.0, max=20.0), HTML(value='')))"
      ]
     },
     "metadata": {},
     "output_type": "display_data"
    },
    {
     "name": "stdout",
     "output_type": "stream",
     "text": [
      "\n",
      "当前章节\t輝夜大小姐想讓我告白 ~天才們的戀愛頭腦戰~漫畫_周刊160_輝夜大小姐想讓我告白 ~天才們的戀愛頭腦戰~漫畫在線閱讀</漫畫名></章節顯示名></漫畫名>  下载完毕\n"
     ]
    },
    {
     "data": {
      "application/vnd.jupyter.widget-view+json": {
       "model_id": "1863f452fc8f438ebadaa2fdb889ff77",
       "version_major": 2,
       "version_minor": 0
      },
      "text/plain": [
       "HBox(children=(FloatProgress(value=0.0, max=20.0), HTML(value='')))"
      ]
     },
     "metadata": {},
     "output_type": "display_data"
    },
    {
     "name": "stdout",
     "output_type": "stream",
     "text": [
      "\n",
      "当前章节\t輝夜大小姐想讓我告白 ~天才們的戀愛頭腦戰~漫畫_周刊159_輝夜大小姐想讓我告白 ~天才們的戀愛頭腦戰~漫畫在線閱讀</漫畫名></章節顯示名></漫畫名>  下载完毕\n"
     ]
    },
    {
     "data": {
      "application/vnd.jupyter.widget-view+json": {
       "model_id": "387089bb5c194a4f8f1d8f17b5b5a79b",
       "version_major": 2,
       "version_minor": 0
      },
      "text/plain": [
       "HBox(children=(FloatProgress(value=0.0, max=21.0), HTML(value='')))"
      ]
     },
     "metadata": {},
     "output_type": "display_data"
    },
    {
     "name": "stdout",
     "output_type": "stream",
     "text": [
      "\n",
      "当前章节\t輝夜大小姐想讓我告白 ~天才們的戀愛頭腦戰~漫畫_周刊158_輝夜大小姐想讓我告白 ~天才們的戀愛頭腦戰~漫畫在線閱讀</漫畫名></章節顯示名></漫畫名>  下载完毕\n"
     ]
    },
    {
     "data": {
      "application/vnd.jupyter.widget-view+json": {
       "model_id": "3440157145cd417c8783fe7e970c7a83",
       "version_major": 2,
       "version_minor": 0
      },
      "text/plain": [
       "HBox(children=(FloatProgress(value=0.0, max=19.0), HTML(value='')))"
      ]
     },
     "metadata": {},
     "output_type": "display_data"
    },
    {
     "name": "stdout",
     "output_type": "stream",
     "text": [
      "\n",
      "当前章节\t輝夜大小姐想讓我告白 ~天才們的戀愛頭腦戰~漫畫_周刊157_輝夜大小姐想讓我告白 ~天才們的戀愛頭腦戰~漫畫在線閱讀</漫畫名></章節顯示名></漫畫名>  下载完毕\n"
     ]
    },
    {
     "data": {
      "application/vnd.jupyter.widget-view+json": {
       "model_id": "b8c5cadd2216409d962d15fcd53bd4c5",
       "version_major": 2,
       "version_minor": 0
      },
      "text/plain": [
       "HBox(children=(FloatProgress(value=0.0, max=18.0), HTML(value='')))"
      ]
     },
     "metadata": {},
     "output_type": "display_data"
    },
    {
     "name": "stdout",
     "output_type": "stream",
     "text": [
      "\n",
      "当前章节\t輝夜大小姐想讓我告白 ~天才們的戀愛頭腦戰~漫畫_周刊156_輝夜大小姐想讓我告白 ~天才們的戀愛頭腦戰~漫畫在線閱讀</漫畫名></章節顯示名></漫畫名>  下载完毕\n"
     ]
    },
    {
     "data": {
      "application/vnd.jupyter.widget-view+json": {
       "model_id": "438590c2bddc4db098f82b6283b7173d",
       "version_major": 2,
       "version_minor": 0
      },
      "text/plain": [
       "HBox(children=(FloatProgress(value=0.0, max=20.0), HTML(value='')))"
      ]
     },
     "metadata": {},
     "output_type": "display_data"
    },
    {
     "name": "stdout",
     "output_type": "stream",
     "text": [
      "\n",
      "当前章节\t輝夜大小姐想讓我告白 ~天才們的戀愛頭腦戰~漫畫_周刊155_輝夜大小姐想讓我告白 ~天才們的戀愛頭腦戰~漫畫在線閱讀</漫畫名></章節顯示名></漫畫名>  下载完毕\n"
     ]
    },
    {
     "data": {
      "application/vnd.jupyter.widget-view+json": {
       "model_id": "e0651a612b654f8b9694feaabab195da",
       "version_major": 2,
       "version_minor": 0
      },
      "text/plain": [
       "HBox(children=(FloatProgress(value=0.0, max=25.0), HTML(value='')))"
      ]
     },
     "metadata": {},
     "output_type": "display_data"
    },
    {
     "name": "stdout",
     "output_type": "stream",
     "text": [
      "\n",
      "当前章节\t輝夜大小姐想讓我告白 ~天才們的戀愛頭腦戰~漫畫_彩色版01話_輝夜大小姐想讓我告白 ~天才們的戀愛頭腦戰~漫畫在線閱讀</漫畫名></章節顯示名></漫畫名>  下载完毕\n"
     ]
    },
    {
     "data": {
      "application/vnd.jupyter.widget-view+json": {
       "model_id": "3278f78404834cf49e2bbc49816dbd3b",
       "version_major": 2,
       "version_minor": 0
      },
      "text/plain": [
       "HBox(children=(FloatProgress(value=0.0, max=21.0), HTML(value='')))"
      ]
     },
     "metadata": {},
     "output_type": "display_data"
    },
    {
     "name": "stdout",
     "output_type": "stream",
     "text": [
      "\n",
      "当前章节\t輝夜大小姐想讓我告白 ~天才們的戀愛頭腦戰~漫畫_周刊154_輝夜大小姐想讓我告白 ~天才們的戀愛頭腦戰~漫畫在線閱讀</漫畫名></章節顯示名></漫畫名>  下载完毕\n"
     ]
    },
    {
     "data": {
      "application/vnd.jupyter.widget-view+json": {
       "model_id": "4d79e17c7ae2412c895ab3dd953a86eb",
       "version_major": 2,
       "version_minor": 0
      },
      "text/plain": [
       "HBox(children=(FloatProgress(value=0.0, max=19.0), HTML(value='')))"
      ]
     },
     "metadata": {},
     "output_type": "display_data"
    },
    {
     "name": "stdout",
     "output_type": "stream",
     "text": [
      "\n",
      "当前章节\t輝夜大小姐想讓我告白 ~天才們的戀愛頭腦戰~漫畫_周刊153_輝夜大小姐想讓我告白 ~天才們的戀愛頭腦戰~漫畫在線閱讀</漫畫名></章節顯示名></漫畫名>  下载完毕\n"
     ]
    },
    {
     "data": {
      "application/vnd.jupyter.widget-view+json": {
       "model_id": "260ceaf9061b49ec83d908cff1cacd68",
       "version_major": 2,
       "version_minor": 0
      },
      "text/plain": [
       "HBox(children=(FloatProgress(value=0.0, max=19.0), HTML(value='')))"
      ]
     },
     "metadata": {},
     "output_type": "display_data"
    },
    {
     "name": "stdout",
     "output_type": "stream",
     "text": [
      "\n",
      "当前章节\t輝夜大小姐想讓我告白 ~天才們的戀愛頭腦戰~漫畫_周刊152_輝夜大小姐想讓我告白 ~天才們的戀愛頭腦戰~漫畫在線閱讀</漫畫名></章節顯示名></漫畫名>  下载完毕\n"
     ]
    },
    {
     "data": {
      "application/vnd.jupyter.widget-view+json": {
       "model_id": "79c4f3dc968b4d02916d44cf63272357",
       "version_major": 2,
       "version_minor": 0
      },
      "text/plain": [
       "HBox(children=(FloatProgress(value=0.0, max=19.0), HTML(value='')))"
      ]
     },
     "metadata": {},
     "output_type": "display_data"
    },
    {
     "name": "stdout",
     "output_type": "stream",
     "text": [
      "\n",
      "当前章节\t輝夜大小姐想讓我告白 ~天才們的戀愛頭腦戰~漫畫_周刊151_輝夜大小姐想讓我告白 ~天才們的戀愛頭腦戰~漫畫在線閱讀</漫畫名></章節顯示名></漫畫名>  下载完毕\n"
     ]
    },
    {
     "data": {
      "application/vnd.jupyter.widget-view+json": {
       "model_id": "7b2fa9d00f394cf584f9ce58d5ea75a9",
       "version_major": 2,
       "version_minor": 0
      },
      "text/plain": [
       "HBox(children=(FloatProgress(value=0.0, max=18.0), HTML(value='')))"
      ]
     },
     "metadata": {},
     "output_type": "display_data"
    },
    {
     "name": "stdout",
     "output_type": "stream",
     "text": [
      "\n",
      "当前章节\t輝夜大小姐想讓我告白 ~天才們的戀愛頭腦戰~漫畫_周刊150_輝夜大小姐想讓我告白 ~天才們的戀愛頭腦戰~漫畫在線閱讀</漫畫名></章節顯示名></漫畫名>  下载完毕\n"
     ]
    },
    {
     "data": {
      "application/vnd.jupyter.widget-view+json": {
       "model_id": "50cc9d6113014df6ad0908d5aebc47aa",
       "version_major": 2,
       "version_minor": 0
      },
      "text/plain": [
       "HBox(children=(FloatProgress(value=0.0, max=18.0), HTML(value='')))"
      ]
     },
     "metadata": {},
     "output_type": "display_data"
    },
    {
     "name": "stdout",
     "output_type": "stream",
     "text": [
      "\n",
      "当前章节\t輝夜大小姐想讓我告白 ~天才們的戀愛頭腦戰~漫畫_周刊149_輝夜大小姐想讓我告白 ~天才們的戀愛頭腦戰~漫畫在線閱讀</漫畫名></章節顯示名></漫畫名>  下载完毕\n"
     ]
    },
    {
     "data": {
      "application/vnd.jupyter.widget-view+json": {
       "model_id": "906af5ea9775444a964c83f1bef69534",
       "version_major": 2,
       "version_minor": 0
      },
      "text/plain": [
       "HBox(children=(FloatProgress(value=0.0, max=18.0), HTML(value='')))"
      ]
     },
     "metadata": {},
     "output_type": "display_data"
    },
    {
     "name": "stdout",
     "output_type": "stream",
     "text": [
      "\n",
      "当前章节\t輝夜大小姐想讓我告白 ~天才們的戀愛頭腦戰~漫畫_周刊148_輝夜大小姐想讓我告白 ~天才們的戀愛頭腦戰~漫畫在線閱讀</漫畫名></章節顯示名></漫畫名>  下载完毕\n"
     ]
    },
    {
     "data": {
      "application/vnd.jupyter.widget-view+json": {
       "model_id": "3b5386e8ae8948329a4eb41272e05141",
       "version_major": 2,
       "version_minor": 0
      },
      "text/plain": [
       "HBox(children=(FloatProgress(value=0.0, max=19.0), HTML(value='')))"
      ]
     },
     "metadata": {},
     "output_type": "display_data"
    },
    {
     "name": "stdout",
     "output_type": "stream",
     "text": [
      "\n",
      "当前章节\t輝夜大小姐想讓我告白 ~天才們的戀愛頭腦戰~漫畫_周刊147_輝夜大小姐想讓我告白 ~天才們的戀愛頭腦戰~漫畫在線閱讀</漫畫名></章節顯示名></漫畫名>  下载完毕\n"
     ]
    },
    {
     "data": {
      "application/vnd.jupyter.widget-view+json": {
       "model_id": "0f987b9fd3d24adfb65449c6fb3d7e5f",
       "version_major": 2,
       "version_minor": 0
      },
      "text/plain": [
       "HBox(children=(FloatProgress(value=0.0, max=18.0), HTML(value='')))"
      ]
     },
     "metadata": {},
     "output_type": "display_data"
    },
    {
     "name": "stdout",
     "output_type": "stream",
     "text": [
      "\n",
      "当前章节\t輝夜大小姐想讓我告白 ~天才們的戀愛頭腦戰~漫畫_周刊146_輝夜大小姐想讓我告白 ~天才們的戀愛頭腦戰~漫畫在線閱讀</漫畫名></章節顯示名></漫畫名>  下载完毕\n"
     ]
    },
    {
     "data": {
      "application/vnd.jupyter.widget-view+json": {
       "model_id": "f812cd8870b04389b3ae3976114790c4",
       "version_major": 2,
       "version_minor": 0
      },
      "text/plain": [
       "HBox(children=(FloatProgress(value=0.0, max=19.0), HTML(value='')))"
      ]
     },
     "metadata": {},
     "output_type": "display_data"
    },
    {
     "name": "stdout",
     "output_type": "stream",
     "text": [
      "\n",
      "当前章节\t輝夜大小姐想讓我告白 ~天才們的戀愛頭腦戰~漫畫_周刊145_輝夜大小姐想讓我告白 ~天才們的戀愛頭腦戰~漫畫在線閱讀</漫畫名></章節顯示名></漫畫名>  下载完毕\n"
     ]
    },
    {
     "data": {
      "application/vnd.jupyter.widget-view+json": {
       "model_id": "283b961da7ea415eb1bd49f6df4cb9e2",
       "version_major": 2,
       "version_minor": 0
      },
      "text/plain": [
       "HBox(children=(FloatProgress(value=0.0, max=27.0), HTML(value='')))"
      ]
     },
     "metadata": {},
     "output_type": "display_data"
    },
    {
     "name": "stdout",
     "output_type": "stream",
     "text": [
      "\n",
      "当前章节\t輝夜大小姐想讓我告白 ~天才們的戀愛頭腦戰~漫畫_周刊144_輝夜大小姐想讓我告白 ~天才們的戀愛頭腦戰~漫畫在線閱讀</漫畫名></章節顯示名></漫畫名>  下载完毕\n"
     ]
    },
    {
     "data": {
      "application/vnd.jupyter.widget-view+json": {
       "model_id": "0fa51cc969624985bbf2ba522cd1ef8c",
       "version_major": 2,
       "version_minor": 0
      },
      "text/plain": [
       "HBox(children=(FloatProgress(value=0.0, max=18.0), HTML(value='')))"
      ]
     },
     "metadata": {},
     "output_type": "display_data"
    },
    {
     "name": "stdout",
     "output_type": "stream",
     "text": [
      "\n",
      "当前章节\t輝夜大小姐想讓我告白 ~天才們的戀愛頭腦戰~漫畫_周刊143_輝夜大小姐想讓我告白 ~天才們的戀愛頭腦戰~漫畫在線閱讀</漫畫名></章節顯示名></漫畫名>  下载完毕\n"
     ]
    },
    {
     "data": {
      "application/vnd.jupyter.widget-view+json": {
       "model_id": "e9911ca859a945ceaf1dda9dbf495c8c",
       "version_major": 2,
       "version_minor": 0
      },
      "text/plain": [
       "HBox(children=(FloatProgress(value=0.0, max=18.0), HTML(value='')))"
      ]
     },
     "metadata": {},
     "output_type": "display_data"
    },
    {
     "name": "stdout",
     "output_type": "stream",
     "text": [
      "\n",
      "当前章节\t輝夜大小姐想讓我告白 ~天才們的戀愛頭腦戰~漫畫_周刊142_輝夜大小姐想讓我告白 ~天才們的戀愛頭腦戰~漫畫在線閱讀</漫畫名></章節顯示名></漫畫名>  下载完毕\n"
     ]
    },
    {
     "data": {
      "application/vnd.jupyter.widget-view+json": {
       "model_id": "d57c99e3ca424e918871fe96bf676c36",
       "version_major": 2,
       "version_minor": 0
      },
      "text/plain": [
       "HBox(children=(FloatProgress(value=0.0, max=18.0), HTML(value='')))"
      ]
     },
     "metadata": {},
     "output_type": "display_data"
    },
    {
     "name": "stdout",
     "output_type": "stream",
     "text": [
      "\n",
      "当前章节\t輝夜大小姐想讓我告白 ~天才們的戀愛頭腦戰~漫畫_周刊141_輝夜大小姐想讓我告白 ~天才們的戀愛頭腦戰~漫畫在線閱讀</漫畫名></章節顯示名></漫畫名>  下载完毕\n"
     ]
    },
    {
     "data": {
      "application/vnd.jupyter.widget-view+json": {
       "model_id": "4f6601fce16046ae83e7147080be30b2",
       "version_major": 2,
       "version_minor": 0
      },
      "text/plain": [
       "HBox(children=(FloatProgress(value=0.0, max=21.0), HTML(value='')))"
      ]
     },
     "metadata": {},
     "output_type": "display_data"
    },
    {
     "name": "stdout",
     "output_type": "stream",
     "text": [
      "\n",
      "当前章节\t輝夜大小姐想讓我告白 ~天才們的戀愛頭腦戰~漫畫_周刊140_輝夜大小姐想讓我告白 ~天才們的戀愛頭腦戰~漫畫在線閱讀</漫畫名></章節顯示名></漫畫名>  下载完毕\n"
     ]
    },
    {
     "data": {
      "application/vnd.jupyter.widget-view+json": {
       "model_id": "2d4ad7de4fcc4cb886ef2021795f9596",
       "version_major": 2,
       "version_minor": 0
      },
      "text/plain": [
       "HBox(children=(FloatProgress(value=0.0, max=21.0), HTML(value='')))"
      ]
     },
     "metadata": {},
     "output_type": "display_data"
    },
    {
     "name": "stdout",
     "output_type": "stream",
     "text": [
      "\n",
      "当前章节\t輝夜大小姐想讓我告白 ~天才們的戀愛頭腦戰~漫畫_周刊139_輝夜大小姐想讓我告白 ~天才們的戀愛頭腦戰~漫畫在線閱讀</漫畫名></章節顯示名></漫畫名>  下载完毕\n"
     ]
    },
    {
     "data": {
      "application/vnd.jupyter.widget-view+json": {
       "model_id": "a97df70be2f94c2cb31e8ff8e995d25f",
       "version_major": 2,
       "version_minor": 0
      },
      "text/plain": [
       "HBox(children=(FloatProgress(value=0.0, max=22.0), HTML(value='')))"
      ]
     },
     "metadata": {},
     "output_type": "display_data"
    },
    {
     "name": "stdout",
     "output_type": "stream",
     "text": [
      "\n",
      "当前章节\t輝夜大小姐想讓我告白 ~天才們的戀愛頭腦戰~漫畫_周刊138_輝夜大小姐想讓我告白 ~天才們的戀愛頭腦戰~漫畫在線閱讀</漫畫名></章節顯示名></漫畫名>  下载完毕\n"
     ]
    },
    {
     "data": {
      "application/vnd.jupyter.widget-view+json": {
       "model_id": "5b609aa6d0f341f19cb6853adfbae74d",
       "version_major": 2,
       "version_minor": 0
      },
      "text/plain": [
       "HBox(children=(FloatProgress(value=0.0, max=19.0), HTML(value='')))"
      ]
     },
     "metadata": {},
     "output_type": "display_data"
    },
    {
     "name": "stdout",
     "output_type": "stream",
     "text": [
      "\n",
      "当前章节\t輝夜大小姐想讓我告白 ~天才們的戀愛頭腦戰~漫畫_周刊137_輝夜大小姐想讓我告白 ~天才們的戀愛頭腦戰~漫畫在線閱讀</漫畫名></章節顯示名></漫畫名>  下载完毕\n"
     ]
    },
    {
     "data": {
      "application/vnd.jupyter.widget-view+json": {
       "model_id": "9f55208874c54b458656732acf1e86d3",
       "version_major": 2,
       "version_minor": 0
      },
      "text/plain": [
       "HBox(children=(FloatProgress(value=0.0, max=20.0), HTML(value='')))"
      ]
     },
     "metadata": {},
     "output_type": "display_data"
    },
    {
     "name": "stdout",
     "output_type": "stream",
     "text": [
      "\n",
      "当前章节\t輝夜大小姐想讓我告白 ~天才們的戀愛頭腦戰~漫畫_周刊136_輝夜大小姐想讓我告白 ~天才們的戀愛頭腦戰~漫畫在線閱讀</漫畫名></章節顯示名></漫畫名>  下载完毕\n"
     ]
    },
    {
     "data": {
      "application/vnd.jupyter.widget-view+json": {
       "model_id": "b8892cb404f840d094453d5309ad25a9",
       "version_major": 2,
       "version_minor": 0
      },
      "text/plain": [
       "HBox(children=(FloatProgress(value=0.0, max=19.0), HTML(value='')))"
      ]
     },
     "metadata": {},
     "output_type": "display_data"
    },
    {
     "name": "stdout",
     "output_type": "stream",
     "text": [
      "\n",
      "当前章节\t輝夜大小姐想讓我告白 ~天才們的戀愛頭腦戰~漫畫_周刊135_輝夜大小姐想讓我告白 ~天才們的戀愛頭腦戰~漫畫在線閱讀</漫畫名></章節顯示名></漫畫名>  下载完毕\n"
     ]
    },
    {
     "data": {
      "application/vnd.jupyter.widget-view+json": {
       "model_id": "1520ab23620c46b1b5b60c1833494401",
       "version_major": 2,
       "version_minor": 0
      },
      "text/plain": [
       "HBox(children=(FloatProgress(value=0.0, max=18.0), HTML(value='')))"
      ]
     },
     "metadata": {},
     "output_type": "display_data"
    },
    {
     "name": "stdout",
     "output_type": "stream",
     "text": [
      "\n",
      "当前章节\t輝夜大小姐想讓我告白 ~天才們的戀愛頭腦戰~漫畫_周刊134_輝夜大小姐想讓我告白 ~天才們的戀愛頭腦戰~漫畫在線閱讀</漫畫名></章節顯示名></漫畫名>  下载完毕\n"
     ]
    },
    {
     "data": {
      "application/vnd.jupyter.widget-view+json": {
       "model_id": "689e0dc5b34b44c7be573bb921457f6b",
       "version_major": 2,
       "version_minor": 0
      },
      "text/plain": [
       "HBox(children=(FloatProgress(value=0.0, max=19.0), HTML(value='')))"
      ]
     },
     "metadata": {},
     "output_type": "display_data"
    },
    {
     "name": "stdout",
     "output_type": "stream",
     "text": [
      "\n",
      "当前章节\t輝夜大小姐想讓我告白 ~天才們的戀愛頭腦戰~漫畫_周刊133_輝夜大小姐想讓我告白 ~天才們的戀愛頭腦戰~漫畫在線閱讀</漫畫名></章節顯示名></漫畫名>  下载完毕\n"
     ]
    },
    {
     "data": {
      "application/vnd.jupyter.widget-view+json": {
       "model_id": "4206e2573ee54e30a0005caf82ce9a1d",
       "version_major": 2,
       "version_minor": 0
      },
      "text/plain": [
       "HBox(children=(FloatProgress(value=0.0, max=21.0), HTML(value='')))"
      ]
     },
     "metadata": {},
     "output_type": "display_data"
    },
    {
     "name": "stdout",
     "output_type": "stream",
     "text": [
      "\n",
      "当前章节\t輝夜大小姐想讓我告白 ~天才們的戀愛頭腦戰~漫畫_周刊132_輝夜大小姐想讓我告白 ~天才們的戀愛頭腦戰~漫畫在線閱讀</漫畫名></章節顯示名></漫畫名>  下载完毕\n"
     ]
    },
    {
     "data": {
      "application/vnd.jupyter.widget-view+json": {
       "model_id": "cda43b89b97e4e959e398a856ab4f331",
       "version_major": 2,
       "version_minor": 0
      },
      "text/plain": [
       "HBox(children=(FloatProgress(value=0.0, max=19.0), HTML(value='')))"
      ]
     },
     "metadata": {},
     "output_type": "display_data"
    },
    {
     "name": "stdout",
     "output_type": "stream",
     "text": [
      "\n",
      "当前章节\t輝夜大小姐想讓我告白 ~天才們的戀愛頭腦戰~漫畫_周刊131_輝夜大小姐想讓我告白 ~天才們的戀愛頭腦戰~漫畫在線閱讀</漫畫名></章節顯示名></漫畫名>  下载完毕\n"
     ]
    },
    {
     "data": {
      "application/vnd.jupyter.widget-view+json": {
       "model_id": "81c8036df7df45718c288932bf244d34",
       "version_major": 2,
       "version_minor": 0
      },
      "text/plain": [
       "HBox(children=(FloatProgress(value=0.0, max=20.0), HTML(value='')))"
      ]
     },
     "metadata": {},
     "output_type": "display_data"
    },
    {
     "name": "stdout",
     "output_type": "stream",
     "text": [
      "\n",
      "当前章节\t輝夜大小姐想讓我告白 ~天才們的戀愛頭腦戰~漫畫_周刊130_輝夜大小姐想讓我告白 ~天才們的戀愛頭腦戰~漫畫在線閱讀</漫畫名></章節顯示名></漫畫名>  下载完毕\n"
     ]
    },
    {
     "data": {
      "application/vnd.jupyter.widget-view+json": {
       "model_id": "197cef36b8064445a3928ce1802f1e8e",
       "version_major": 2,
       "version_minor": 0
      },
      "text/plain": [
       "HBox(children=(FloatProgress(value=0.0, max=19.0), HTML(value='')))"
      ]
     },
     "metadata": {},
     "output_type": "display_data"
    },
    {
     "name": "stdout",
     "output_type": "stream",
     "text": [
      "\n",
      "当前章节\t輝夜大小姐想讓我告白 ~天才們的戀愛頭腦戰~漫畫_周刊129_輝夜大小姐想讓我告白 ~天才們的戀愛頭腦戰~漫畫在線閱讀</漫畫名></章節顯示名></漫畫名>  下载完毕\n"
     ]
    },
    {
     "data": {
      "application/vnd.jupyter.widget-view+json": {
       "model_id": "5e73bbdffc464f58ba5f9a55c5b11987",
       "version_major": 2,
       "version_minor": 0
      },
      "text/plain": [
       "HBox(children=(FloatProgress(value=0.0, max=19.0), HTML(value='')))"
      ]
     },
     "metadata": {},
     "output_type": "display_data"
    },
    {
     "name": "stdout",
     "output_type": "stream",
     "text": [
      "\n",
      "当前章节\t輝夜大小姐想讓我告白 ~天才們的戀愛頭腦戰~漫畫_周刊128_輝夜大小姐想讓我告白 ~天才們的戀愛頭腦戰~漫畫在線閱讀</漫畫名></章節顯示名></漫畫名>  下载完毕\n"
     ]
    },
    {
     "data": {
      "application/vnd.jupyter.widget-view+json": {
       "model_id": "1f9f206a4f984f0ba4f69757285d0751",
       "version_major": 2,
       "version_minor": 0
      },
      "text/plain": [
       "HBox(children=(FloatProgress(value=0.0, max=19.0), HTML(value='')))"
      ]
     },
     "metadata": {},
     "output_type": "display_data"
    },
    {
     "name": "stdout",
     "output_type": "stream",
     "text": [
      "\n",
      "当前章节\t輝夜大小姐想讓我告白 ~天才們的戀愛頭腦戰~漫畫_周刊127_輝夜大小姐想讓我告白 ~天才們的戀愛頭腦戰~漫畫在線閱讀</漫畫名></章節顯示名></漫畫名>  下载完毕\n"
     ]
    },
    {
     "data": {
      "application/vnd.jupyter.widget-view+json": {
       "model_id": "12d480177ab14e5b89657f1da67243db",
       "version_major": 2,
       "version_minor": 0
      },
      "text/plain": [
       "HBox(children=(FloatProgress(value=0.0, max=22.0), HTML(value='')))"
      ]
     },
     "metadata": {},
     "output_type": "display_data"
    },
    {
     "name": "stdout",
     "output_type": "stream",
     "text": [
      "\n",
      "当前章节\t輝夜大小姐想讓我告白 ~天才們的戀愛頭腦戰~漫畫_周刊126_輝夜大小姐想讓我告白 ~天才們的戀愛頭腦戰~漫畫在線閱讀</漫畫名></章節顯示名></漫畫名>  下载完毕\n"
     ]
    },
    {
     "data": {
      "application/vnd.jupyter.widget-view+json": {
       "model_id": "a30a30f4e5014589bec82fb6cb8c7c30",
       "version_major": 2,
       "version_minor": 0
      },
      "text/plain": [
       "HBox(children=(FloatProgress(value=0.0, max=20.0), HTML(value='')))"
      ]
     },
     "metadata": {},
     "output_type": "display_data"
    },
    {
     "name": "stdout",
     "output_type": "stream",
     "text": [
      "\n",
      "当前章节\t輝夜大小姐想讓我告白 ~天才們的戀愛頭腦戰~漫畫_周刊125_輝夜大小姐想讓我告白 ~天才們的戀愛頭腦戰~漫畫在線閱讀</漫畫名></章節顯示名></漫畫名>  下载完毕\n"
     ]
    },
    {
     "data": {
      "application/vnd.jupyter.widget-view+json": {
       "model_id": "661358cff5334341adbc33da06e013e9",
       "version_major": 2,
       "version_minor": 0
      },
      "text/plain": [
       "HBox(children=(FloatProgress(value=0.0, max=19.0), HTML(value='')))"
      ]
     },
     "metadata": {},
     "output_type": "display_data"
    },
    {
     "name": "stdout",
     "output_type": "stream",
     "text": [
      "\n",
      "当前章节\t輝夜大小姐想讓我告白 ~天才們的戀愛頭腦戰~漫畫_周刊124_輝夜大小姐想讓我告白 ~天才們的戀愛頭腦戰~漫畫在線閱讀</漫畫名></章節顯示名></漫畫名>  下载完毕\n"
     ]
    },
    {
     "data": {
      "application/vnd.jupyter.widget-view+json": {
       "model_id": "be019743e70b40efb080a640344bc553",
       "version_major": 2,
       "version_minor": 0
      },
      "text/plain": [
       "HBox(children=(FloatProgress(value=0.0, max=19.0), HTML(value='')))"
      ]
     },
     "metadata": {},
     "output_type": "display_data"
    },
    {
     "name": "stdout",
     "output_type": "stream",
     "text": [
      "\n",
      "当前章节\t輝夜大小姐想讓我告白 ~天才們的戀愛頭腦戰~漫畫_周刊123_輝夜大小姐想讓我告白 ~天才們的戀愛頭腦戰~漫畫在線閱讀</漫畫名></章節顯示名></漫畫名>  下载完毕\n"
     ]
    },
    {
     "data": {
      "application/vnd.jupyter.widget-view+json": {
       "model_id": "55de566d944c423bb841bdb36299cbb6",
       "version_major": 2,
       "version_minor": 0
      },
      "text/plain": [
       "HBox(children=(FloatProgress(value=0.0, max=21.0), HTML(value='')))"
      ]
     },
     "metadata": {},
     "output_type": "display_data"
    },
    {
     "name": "stdout",
     "output_type": "stream",
     "text": [
      "\n",
      "当前章节\t輝夜大小姐想讓我告白 ~天才們的戀愛頭腦戰~漫畫_周刊122_輝夜大小姐想讓我告白 ~天才們的戀愛頭腦戰~漫畫在線閱讀</漫畫名></章節顯示名></漫畫名>  下载完毕\n"
     ]
    },
    {
     "data": {
      "application/vnd.jupyter.widget-view+json": {
       "model_id": "5096177773b1475e8e31035897513dda",
       "version_major": 2,
       "version_minor": 0
      },
      "text/plain": [
       "HBox(children=(FloatProgress(value=0.0, max=19.0), HTML(value='')))"
      ]
     },
     "metadata": {},
     "output_type": "display_data"
    },
    {
     "name": "stdout",
     "output_type": "stream",
     "text": [
      "\n",
      "当前章节\t輝夜大小姐想讓我告白 ~天才們的戀愛頭腦戰~漫畫_周刊121話_輝夜大小姐想讓我告白 ~天才們的戀愛頭腦戰~漫畫在線閱讀</漫畫名></章節顯示名></漫畫名>  下载完毕\n"
     ]
    },
    {
     "data": {
      "application/vnd.jupyter.widget-view+json": {
       "model_id": "8dc1b0a871db4dccaf94b3e3b866ccbe",
       "version_major": 2,
       "version_minor": 0
      },
      "text/plain": [
       "HBox(children=(FloatProgress(value=0.0, max=37.0), HTML(value='')))"
      ]
     },
     "metadata": {},
     "output_type": "display_data"
    },
    {
     "name": "stdout",
     "output_type": "stream",
     "text": [
      "\n",
      "当前章节\t輝夜大小姐想讓我告白 ~天才們的戀愛頭腦戰~漫畫_周刊120話_輝夜大小姐想讓我告白 ~天才們的戀愛頭腦戰~漫畫在線閱讀</漫畫名></章節顯示名></漫畫名>  下载完毕\n"
     ]
    },
    {
     "data": {
      "application/vnd.jupyter.widget-view+json": {
       "model_id": "87cd1dab48df4fb196626db517953730",
       "version_major": 2,
       "version_minor": 0
      },
      "text/plain": [
       "HBox(children=(FloatProgress(value=0.0, max=19.0), HTML(value='')))"
      ]
     },
     "metadata": {},
     "output_type": "display_data"
    },
    {
     "name": "stdout",
     "output_type": "stream",
     "text": [
      "\n",
      "当前章节\t輝夜大小姐想讓我告白 ~天才們的戀愛頭腦戰~漫畫_周刊119話_輝夜大小姐想讓我告白 ~天才們的戀愛頭腦戰~漫畫在線閱讀</漫畫名></章節顯示名></漫畫名>  下载完毕\n"
     ]
    },
    {
     "data": {
      "application/vnd.jupyter.widget-view+json": {
       "model_id": "3f1411dee3874dd3b6e80ee241b05eeb",
       "version_major": 2,
       "version_minor": 0
      },
      "text/plain": [
       "HBox(children=(FloatProgress(value=0.0, max=19.0), HTML(value='')))"
      ]
     },
     "metadata": {},
     "output_type": "display_data"
    },
    {
     "name": "stdout",
     "output_type": "stream",
     "text": [
      "\n",
      "当前章节\t輝夜大小姐想讓我告白 ~天才們的戀愛頭腦戰~漫畫_周刊118_輝夜大小姐想讓我告白 ~天才們的戀愛頭腦戰~漫畫在線閱讀</漫畫名></章節顯示名></漫畫名>  下载完毕\n"
     ]
    },
    {
     "data": {
      "application/vnd.jupyter.widget-view+json": {
       "model_id": "19eac30b404f4094b702f2154e38b8cf",
       "version_major": 2,
       "version_minor": 0
      },
      "text/plain": [
       "HBox(children=(FloatProgress(value=0.0, max=19.0), HTML(value='')))"
      ]
     },
     "metadata": {},
     "output_type": "display_data"
    },
    {
     "name": "stdout",
     "output_type": "stream",
     "text": [
      "\n",
      "当前章节\t輝夜大小姐想讓我告白 ~天才們的戀愛頭腦戰~漫畫_周刊117話_輝夜大小姐想讓我告白 ~天才們的戀愛頭腦戰~漫畫在線閱讀</漫畫名></章節顯示名></漫畫名>  下载完毕\n"
     ]
    },
    {
     "data": {
      "application/vnd.jupyter.widget-view+json": {
       "model_id": "ce577e0295bb4fb69926dedcb7e07cba",
       "version_major": 2,
       "version_minor": 0
      },
      "text/plain": [
       "HBox(children=(FloatProgress(value=0.0, max=19.0), HTML(value='')))"
      ]
     },
     "metadata": {},
     "output_type": "display_data"
    },
    {
     "name": "stdout",
     "output_type": "stream",
     "text": [
      "\n",
      "当前章节\t輝夜大小姐想讓我告白 ~天才們的戀愛頭腦戰~漫畫_周刊116話_輝夜大小姐想讓我告白 ~天才們的戀愛頭腦戰~漫畫在線閱讀</漫畫名></章節顯示名></漫畫名>  下载完毕\n"
     ]
    },
    {
     "data": {
      "application/vnd.jupyter.widget-view+json": {
       "model_id": "68d009253bcf4db299e1f953577fda40",
       "version_major": 2,
       "version_minor": 0
      },
      "text/plain": [
       "HBox(children=(FloatProgress(value=0.0, max=19.0), HTML(value='')))"
      ]
     },
     "metadata": {},
     "output_type": "display_data"
    }
   ],
   "source": [
    "browser = webdriver.PhantomJS()\n",
    "#browser = webdriver.Chrome(executable_path='/Users/james/chromedriver')\n",
    "for url in tqdm(comic_list):\n",
    "    try:\n",
    "        print('当前章节\\t{}  下载开始'.format(browser.title))\n",
    "        browser.get(url)\n",
    "        browser.implicitly_wait(3)\n",
    "\n",
    "        # 创建章节目录\n",
    "        dirname = basedir + '/' + browser.title.split('_')[1]\n",
    "        mkdir(dirname)\n",
    "\n",
    "        for i in tqdm(range(len(browser.find_elements_by_class_name('chapterpage')))):\n",
    "            #print (page.get_attribute(\"href\"))\n",
    "            browser.get(browser.find_elements_by_class_name('chapterpage')[i].get_attribute(\"href\"))\n",
    "            browser.implicitly_wait(3)\n",
    "            pic_url  = browser.find_element_by_id('cp_image').get_attribute('src')\n",
    "            #pic_url = browser.find_element_by_id('curPic').get_attribute('src')\n",
    "            filename = dirname + '/' + str(i+1) + '.jpg'\n",
    "            SavePic(filename, pic_url)\n",
    "            # 点击下一页的按钮，加载下一张图\n",
    "            #count +=1\n",
    "\n",
    "        print('当前章节\\t{}  下载完毕'.format(browser.title))\n",
    "    except:\n",
    "        print('当前章节\\t{}  下载出错'.format(browser.title)) \n",
    "\n",
    "browser.quit()\n",
    "print('所有章节下载完毕')"
   ]
  },
  {
   "cell_type": "code",
   "execution_count": 11,
   "metadata": {
    "scrolled": true
   },
   "outputs": [
    {
     "data": {
      "text/plain": [
       "['周刊107話',\n",
       " '周刊132',\n",
       " '彩色版04話',\n",
       " '周刊119話',\n",
       " '周刊118',\n",
       " '周刊120話',\n",
       " '周刊183',\n",
       " '周刊149',\n",
       " '周刊127',\n",
       " '周刊179',\n",
       " '周刊135',\n",
       " '彩色版03話',\n",
       " '周刊184',\n",
       " '周刊134',\n",
       " 'YJ GOLD Vol.2 特別篇',\n",
       " '周刊181',\n",
       " '周刊174',\n",
       " '周刊121話',\n",
       " '周刊173',\n",
       " '周刊166話',\n",
       " '周刊123',\n",
       " '周刊145',\n",
       " '周刊136',\n",
       " '彩色版02話',\n",
       " '周刊162',\n",
       " '周刊124',\n",
       " '周刊114話',\n",
       " '周刊153',\n",
       " '周刊111話 ',\n",
       " '周刊152',\n",
       " '周刊169',\n",
       " '周刊150',\n",
       " '周刊170',\n",
       " '周刊163',\n",
       " '彩色版01話',\n",
       " '周刊168',\n",
       " '周刊172',\n",
       " '周刊171',\n",
       " '周刊109話 ',\n",
       " '周刊117話',\n",
       " '周刊141',\n",
       " '周刊148',\n",
       " '周刊176',\n",
       " '周刊106話',\n",
       " '周刊版103話',\n",
       " '周刊113',\n",
       " '周刊158',\n",
       " '周刊版104話',\n",
       " '周刊182',\n",
       " '周刊139',\n",
       " '周刊155',\n",
       " '周刊115話',\n",
       " '周刊版101話',\n",
       " '周刊159',\n",
       " '周刊112',\n",
       " '周刊146',\n",
       " '周刊157',\n",
       " '周刊185',\n",
       " '周刊125',\n",
       " '周刊178',\n",
       " '周刊165',\n",
       " '周刊156',\n",
       " '周刊144',\n",
       " '周刊161',\n",
       " '周刊138',\n",
       " '周刊151',\n",
       " '番外篇',\n",
       " '周刊128',\n",
       " '周刊版102話',\n",
       " '周刊129',\n",
       " '周刊133',\n",
       " '周刊110話 ',\n",
       " '周刊147',\n",
       " '周刊167話',\n",
       " '周刊108話',\n",
       " '周刊130',\n",
       " '周刊116話',\n",
       " '周刊154',\n",
       " '周刊180',\n",
       " '周刊126',\n",
       " '周刊175',\n",
       " '周刊142',\n",
       " '周刊140',\n",
       " '周刊137',\n",
       " '彩色版05話',\n",
       " '周刊143',\n",
       " '周刊177',\n",
       " '周刊131',\n",
       " '周刊版105話',\n",
       " '周刊160',\n",
       " '周刊122']"
      ]
     },
     "execution_count": 11,
     "metadata": {},
     "output_type": "execute_result"
    }
   ],
   "source": []
  },
  {
   "cell_type": "code",
   "execution_count": 13,
   "metadata": {},
   "outputs": [],
   "source": [
    "import zipfile\n",
    "\n",
    "def zipdir(path, ziph):\n",
    "    # ziph is zipfile handle\n",
    "    for root, dirs, files in os.walk(path):\n",
    "        for file in files:\n",
    "            ziph.write(os.path.join(root, file+'.zip'))\n",
    "\n",
    "zipf = zipfile.ZipFile('Python.zip', 'w', zipfile.ZIP_DEFLATED)\n",
    "for i in os.listdir(basedir):\n",
    "    zipdir(basedir+i, zipf)"
   ]
  },
  {
   "cell_type": "code",
   "execution_count": null,
   "metadata": {},
   "outputs": [],
   "source": []
  }
 ],
 "metadata": {
  "kernelspec": {
   "display_name": "Python 3",
   "language": "python",
   "name": "python3"
  },
  "language_info": {
   "codemirror_mode": {
    "name": "ipython",
    "version": 3
   },
   "file_extension": ".py",
   "mimetype": "text/x-python",
   "name": "python",
   "nbconvert_exporter": "python",
   "pygments_lexer": "ipython3",
   "version": "3.7.6"
  },
  "toc": {
   "base_numbering": 1,
   "nav_menu": {},
   "number_sections": true,
   "sideBar": true,
   "skip_h1_title": false,
   "title_cell": "Table of Contents",
   "title_sidebar": "Contents",
   "toc_cell": false,
   "toc_position": {},
   "toc_section_display": true,
   "toc_window_display": false
  }
 },
 "nbformat": 4,
 "nbformat_minor": 4
}
