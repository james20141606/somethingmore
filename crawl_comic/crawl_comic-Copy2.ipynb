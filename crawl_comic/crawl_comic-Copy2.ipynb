{
 "cells": [
  {
   "cell_type": "code",
   "execution_count": 1,
   "metadata": {},
   "outputs": [],
   "source": [
    "import gc, argparse, sys, os, errno\n",
    "import os\n",
    "from tqdm.notebook import tqdm\n",
    "\n",
    "import warnings\n",
    "warnings.filterwarnings('ignore')"
   ]
  },
  {
   "cell_type": "code",
   "execution_count": 2,
   "metadata": {},
   "outputs": [],
   "source": [
    "from selenium import webdriver\n",
    "import requests"
   ]
  },
  {
   "cell_type": "code",
   "execution_count": 3,
   "metadata": {},
   "outputs": [],
   "source": [
    "def mkdir(path):\n",
    "    '''\n",
    "    防止目录存在\n",
    "    '''\n",
    "    if not os.path.exists(path):\n",
    "        os.makedirs(path)\n",
    "\n",
    "\n",
    "def SavePic(filename, url):\n",
    "    '''\n",
    "    通过requests库\n",
    "    将抓取到的图片保存到本地\n",
    "    '''\n",
    "    content = requests.get(url).content\n",
    "    with open(filename, 'wb') as f:\n",
    "        f.write(content)"
   ]
  },
  {
   "cell_type": "markdown",
   "metadata": {},
   "source": [
    "SavePic( 'comic_crawl/test/test.png','http://www.xmanhua.com/m130497/#ipg5' )\n",
    "browser.title.split('_')[]\n",
    "browser.find_element_by_id('cp_image').get_attribute('src')\n",
    "len(browser.find_elements_by_class_name('chapterpage'))\n",
    "browser.find_elements_by_class_name('chapterpage')[2].get_attribute(\"href\")\n",
    "SavePic('comic_crawl/test/周刊174/1.jpg', browser.find_element_by_id('cp_image').get_attribute('src'))"
   ]
  },
  {
   "cell_type": "code",
   "execution_count": 4,
   "metadata": {},
   "outputs": [],
   "source": [
    "basedir = 'comics/huiye/'\n",
    "comic_url = 'http://xmanhua.com/60xm/'\n"
   ]
  },
  {
   "cell_type": "code",
   "execution_count": 7,
   "metadata": {},
   "outputs": [],
   "source": [
    "mkdir(basedir)\n",
    "browser = webdriver.PhantomJS()\n",
    "browser.get(comic_url)\n",
    "browser.implicitly_wait(3)"
   ]
  },
  {
   "cell_type": "code",
   "execution_count": 8,
   "metadata": {},
   "outputs": [],
   "source": [
    "comic_list = []\n",
    "for i in range(len(browser.find_elements_by_class_name('detail-list-form-item'))):\n",
    "    comic_list.append(browser.find_elements_by_class_name('detail-list-form-item')[i].get_attribute(\"href\"))"
   ]
  },
  {
   "cell_type": "code",
   "execution_count": null,
   "metadata": {},
   "outputs": [
    {
     "data": {
      "application/vnd.jupyter.widget-view+json": {
       "model_id": "4ab5c96dc76a4e618adc9dabfaa9e594",
       "version_major": 2,
       "version_minor": 0
      },
      "text/plain": [
       "HBox(children=(FloatProgress(value=0.0, max=217.0), HTML(value='')))"
      ]
     },
     "metadata": {},
     "output_type": "display_data"
    },
    {
     "data": {
      "application/vnd.jupyter.widget-view+json": {
       "model_id": "f17fdcd15ae74db89763cd730461e4dc",
       "version_major": 2,
       "version_minor": 0
      },
      "text/plain": [
       "HBox(children=(FloatProgress(value=0.0, max=20.0), HTML(value='')))"
      ]
     },
     "metadata": {},
     "output_type": "display_data"
    },
    {
     "name": "stdout",
     "output_type": "stream",
     "text": [
      "\n",
      "当前章节\t輝夜大小姐想讓我告白 ~天才們的戀愛頭腦戰~漫畫_周刊185_輝夜大小姐想讓我告白 ~天才們的戀愛頭腦戰~漫畫在線閱讀</漫畫名></章節顯示名></漫畫名>  下载完毕\n"
     ]
    },
    {
     "data": {
      "application/vnd.jupyter.widget-view+json": {
       "model_id": "14d1c463f8aa476388fe517102e110d6",
       "version_major": 2,
       "version_minor": 0
      },
      "text/plain": [
       "HBox(children=(FloatProgress(value=0.0, max=21.0), HTML(value='')))"
      ]
     },
     "metadata": {},
     "output_type": "display_data"
    },
    {
     "name": "stdout",
     "output_type": "stream",
     "text": [
      "\n",
      "当前章节\t輝夜大小姐想讓我告白 ~天才們的戀愛頭腦戰~漫畫_周刊184_輝夜大小姐想讓我告白 ~天才們的戀愛頭腦戰~漫畫在線閱讀</漫畫名></章節顯示名></漫畫名>  下载完毕\n"
     ]
    },
    {
     "data": {
      "application/vnd.jupyter.widget-view+json": {
       "model_id": "def728bc0a054b398206982cbb97cf75",
       "version_major": 2,
       "version_minor": 0
      },
      "text/plain": [
       "HBox(children=(FloatProgress(value=0.0, max=20.0), HTML(value='')))"
      ]
     },
     "metadata": {},
     "output_type": "display_data"
    },
    {
     "name": "stdout",
     "output_type": "stream",
     "text": [
      "\n",
      "当前章节\t輝夜大小姐想讓我告白 ~天才們的戀愛頭腦戰~漫畫_周刊183_輝夜大小姐想讓我告白 ~天才們的戀愛頭腦戰~漫畫在線閱讀</漫畫名></章節顯示名></漫畫名>  下载完毕\n"
     ]
    },
    {
     "data": {
      "application/vnd.jupyter.widget-view+json": {
       "model_id": "d28fa29278e84f838019fc4b043aa5a2",
       "version_major": 2,
       "version_minor": 0
      },
      "text/plain": [
       "HBox(children=(FloatProgress(value=0.0, max=20.0), HTML(value='')))"
      ]
     },
     "metadata": {},
     "output_type": "display_data"
    },
    {
     "name": "stdout",
     "output_type": "stream",
     "text": [
      "\n",
      "当前章节\t輝夜大小姐想讓我告白 ~天才們的戀愛頭腦戰~漫畫_周刊182_輝夜大小姐想讓我告白 ~天才們的戀愛頭腦戰~漫畫在線閱讀</漫畫名></章節顯示名></漫畫名>  下载完毕\n"
     ]
    },
    {
     "data": {
      "application/vnd.jupyter.widget-view+json": {
       "model_id": "b8b8beb3b09c4ee09d65c770a3401a80",
       "version_major": 2,
       "version_minor": 0
      },
      "text/plain": [
       "HBox(children=(FloatProgress(value=0.0, max=23.0), HTML(value='')))"
      ]
     },
     "metadata": {},
     "output_type": "display_data"
    },
    {
     "name": "stdout",
     "output_type": "stream",
     "text": [
      "\n",
      "当前章节\t輝夜大小姐想讓我告白 ~天才們的戀愛頭腦戰~漫畫_彩色版05話_輝夜大小姐想讓我告白 ~天才們的戀愛頭腦戰~漫畫在線閱讀</漫畫名></章節顯示名></漫畫名>  下载完毕\n"
     ]
    },
    {
     "data": {
      "application/vnd.jupyter.widget-view+json": {
       "model_id": "586a1d171fb24cfea59ebb5c2032b9bd",
       "version_major": 2,
       "version_minor": 0
      },
      "text/plain": [
       "HBox(children=(FloatProgress(value=0.0, max=19.0), HTML(value='')))"
      ]
     },
     "metadata": {},
     "output_type": "display_data"
    },
    {
     "name": "stdout",
     "output_type": "stream",
     "text": [
      "\n",
      "当前章节\t輝夜大小姐想讓我告白 ~天才們的戀愛頭腦戰~漫畫_周刊181_輝夜大小姐想讓我告白 ~天才們的戀愛頭腦戰~漫畫在線閱讀</漫畫名></章節顯示名></漫畫名>  下载完毕\n"
     ]
    },
    {
     "data": {
      "application/vnd.jupyter.widget-view+json": {
       "model_id": "dce33a4262464c7c88158297b96fc832",
       "version_major": 2,
       "version_minor": 0
      },
      "text/plain": [
       "HBox(children=(FloatProgress(value=0.0, max=19.0), HTML(value='')))"
      ]
     },
     "metadata": {},
     "output_type": "display_data"
    },
    {
     "name": "stdout",
     "output_type": "stream",
     "text": [
      "\n",
      "当前章节\t輝夜大小姐想讓我告白 ~天才們的戀愛頭腦戰~漫畫_周刊180_輝夜大小姐想讓我告白 ~天才們的戀愛頭腦戰~漫畫在線閱讀</漫畫名></章節顯示名></漫畫名>  下载完毕\n"
     ]
    },
    {
     "data": {
      "application/vnd.jupyter.widget-view+json": {
       "model_id": "ee6beb3c89764958977e5d0964e7e1c8",
       "version_major": 2,
       "version_minor": 0
      },
      "text/plain": [
       "HBox(children=(FloatProgress(value=0.0, max=19.0), HTML(value='')))"
      ]
     },
     "metadata": {},
     "output_type": "display_data"
    },
    {
     "name": "stdout",
     "output_type": "stream",
     "text": [
      "\n",
      "当前章节\t輝夜大小姐想讓我告白 ~天才們的戀愛頭腦戰~漫畫_周刊179_輝夜大小姐想讓我告白 ~天才們的戀愛頭腦戰~漫畫在線閱讀</漫畫名></章節顯示名></漫畫名>  下载完毕\n"
     ]
    },
    {
     "data": {
      "application/vnd.jupyter.widget-view+json": {
       "model_id": "16116f5143e7492fbb18765942911e19",
       "version_major": 2,
       "version_minor": 0
      },
      "text/plain": [
       "HBox(children=(FloatProgress(value=0.0, max=20.0), HTML(value='')))"
      ]
     },
     "metadata": {},
     "output_type": "display_data"
    },
    {
     "name": "stdout",
     "output_type": "stream",
     "text": [
      "\n",
      "当前章节\t輝夜大小姐想讓我告白 ~天才們的戀愛頭腦戰~漫畫_周刊178_輝夜大小姐想讓我告白 ~天才們的戀愛頭腦戰~漫畫在線閱讀</漫畫名></章節顯示名></漫畫名>  下载完毕\n"
     ]
    },
    {
     "data": {
      "application/vnd.jupyter.widget-view+json": {
       "model_id": "edda038e3fd348e1a406b1ecdb8ab4d7",
       "version_major": 2,
       "version_minor": 0
      },
      "text/plain": [
       "HBox(children=(FloatProgress(value=0.0, max=19.0), HTML(value='')))"
      ]
     },
     "metadata": {},
     "output_type": "display_data"
    },
    {
     "name": "stdout",
     "output_type": "stream",
     "text": [
      "\n",
      "当前章节\t輝夜大小姐想讓我告白 ~天才們的戀愛頭腦戰~漫畫_周刊177_輝夜大小姐想讓我告白 ~天才們的戀愛頭腦戰~漫畫在線閱讀</漫畫名></章節顯示名></漫畫名>  下载完毕\n"
     ]
    },
    {
     "data": {
      "application/vnd.jupyter.widget-view+json": {
       "model_id": "4544df289a734b53a751930684644daf",
       "version_major": 2,
       "version_minor": 0
      },
      "text/plain": [
       "HBox(children=(FloatProgress(value=0.0, max=19.0), HTML(value='')))"
      ]
     },
     "metadata": {},
     "output_type": "display_data"
    },
    {
     "name": "stdout",
     "output_type": "stream",
     "text": [
      "\n",
      "当前章节\t輝夜大小姐想讓我告白 ~天才們的戀愛頭腦戰~漫畫_周刊176_輝夜大小姐想讓我告白 ~天才們的戀愛頭腦戰~漫畫在線閱讀</漫畫名></章節顯示名></漫畫名>  下载完毕\n"
     ]
    },
    {
     "data": {
      "application/vnd.jupyter.widget-view+json": {
       "model_id": "027ba5a36a4c484c96696b69126d4190",
       "version_major": 2,
       "version_minor": 0
      },
      "text/plain": [
       "HBox(children=(FloatProgress(value=0.0, max=22.0), HTML(value='')))"
      ]
     },
     "metadata": {},
     "output_type": "display_data"
    },
    {
     "name": "stdout",
     "output_type": "stream",
     "text": [
      "\n",
      "当前章节\t輝夜大小姐想讓我告白 ~天才們的戀愛頭腦戰~漫畫_周刊175_輝夜大小姐想讓我告白 ~天才們的戀愛頭腦戰~漫畫在線閱讀</漫畫名></章節顯示名></漫畫名>  下载完毕\n"
     ]
    },
    {
     "data": {
      "application/vnd.jupyter.widget-view+json": {
       "model_id": "b4359f8333794103b62cd6153ddb73f8",
       "version_major": 2,
       "version_minor": 0
      },
      "text/plain": [
       "HBox(children=(FloatProgress(value=0.0, max=18.0), HTML(value='')))"
      ]
     },
     "metadata": {},
     "output_type": "display_data"
    },
    {
     "name": "stdout",
     "output_type": "stream",
     "text": [
      "\n",
      "当前章节\t輝夜大小姐想讓我告白 ~天才們的戀愛頭腦戰~漫畫_周刊174_輝夜大小姐想讓我告白 ~天才們的戀愛頭腦戰~漫畫在線閱讀</漫畫名></章節顯示名></漫畫名>  下载完毕\n"
     ]
    },
    {
     "data": {
      "application/vnd.jupyter.widget-view+json": {
       "model_id": "c3901ae0529f4ac1a93dffeb2dd222b9",
       "version_major": 2,
       "version_minor": 0
      },
      "text/plain": [
       "HBox(children=(FloatProgress(value=0.0, max=19.0), HTML(value='')))"
      ]
     },
     "metadata": {},
     "output_type": "display_data"
    },
    {
     "name": "stdout",
     "output_type": "stream",
     "text": [
      "\n",
      "当前章节\t輝夜大小姐想讓我告白 ~天才們的戀愛頭腦戰~漫畫_周刊173_輝夜大小姐想讓我告白 ~天才們的戀愛頭腦戰~漫畫在線閱讀</漫畫名></章節顯示名></漫畫名>  下载完毕\n"
     ]
    },
    {
     "data": {
      "application/vnd.jupyter.widget-view+json": {
       "model_id": "f49768d34a3c4452a98c579990efb95b",
       "version_major": 2,
       "version_minor": 0
      },
      "text/plain": [
       "HBox(children=(FloatProgress(value=0.0, max=23.0), HTML(value='')))"
      ]
     },
     "metadata": {},
     "output_type": "display_data"
    },
    {
     "name": "stdout",
     "output_type": "stream",
     "text": [
      "\n",
      "当前章节\t輝夜大小姐想讓我告白 ~天才們的戀愛頭腦戰~漫畫_彩色版04話_輝夜大小姐想讓我告白 ~天才們的戀愛頭腦戰~漫畫在線閱讀</漫畫名></章節顯示名></漫畫名>  下载完毕\n"
     ]
    },
    {
     "data": {
      "application/vnd.jupyter.widget-view+json": {
       "model_id": "bdec970277764fd1b5f670f69db345fe",
       "version_major": 2,
       "version_minor": 0
      },
      "text/plain": [
       "HBox(children=(FloatProgress(value=0.0, max=20.0), HTML(value='')))"
      ]
     },
     "metadata": {},
     "output_type": "display_data"
    },
    {
     "name": "stdout",
     "output_type": "stream",
     "text": [
      "\n",
      "当前章节\t輝夜大小姐想讓我告白 ~天才們的戀愛頭腦戰~漫畫_彩色版03話_輝夜大小姐想讓我告白 ~天才們的戀愛頭腦戰~漫畫在線閱讀</漫畫名></章節顯示名></漫畫名>  下载完毕\n"
     ]
    },
    {
     "data": {
      "application/vnd.jupyter.widget-view+json": {
       "model_id": "f43d1d2958fd473d947d3dc24abf1d0a",
       "version_major": 2,
       "version_minor": 0
      },
      "text/plain": [
       "HBox(children=(FloatProgress(value=0.0, max=20.0), HTML(value='')))"
      ]
     },
     "metadata": {},
     "output_type": "display_data"
    },
    {
     "name": "stdout",
     "output_type": "stream",
     "text": [
      "\n",
      "当前章节\t輝夜大小姐想讓我告白 ~天才們的戀愛頭腦戰~漫畫_周刊172_輝夜大小姐想讓我告白 ~天才們的戀愛頭腦戰~漫畫在線閱讀</漫畫名></章節顯示名></漫畫名>  下载完毕\n"
     ]
    },
    {
     "data": {
      "application/vnd.jupyter.widget-view+json": {
       "model_id": "ffcbfe0fb30f4d9e98d5a927bc6e400f",
       "version_major": 2,
       "version_minor": 0
      },
      "text/plain": [
       "HBox(children=(FloatProgress(value=0.0, max=18.0), HTML(value='')))"
      ]
     },
     "metadata": {},
     "output_type": "display_data"
    },
    {
     "name": "stdout",
     "output_type": "stream",
     "text": [
      "\n",
      "当前章节\t輝夜大小姐想讓我告白 ~天才們的戀愛頭腦戰~漫畫_周刊171_輝夜大小姐想讓我告白 ~天才們的戀愛頭腦戰~漫畫在線閱讀</漫畫名></章節顯示名></漫畫名>  下载完毕\n"
     ]
    },
    {
     "data": {
      "application/vnd.jupyter.widget-view+json": {
       "model_id": "ff88c34b967e416e9d61c1e140d9e8c3",
       "version_major": 2,
       "version_minor": 0
      },
      "text/plain": [
       "HBox(children=(FloatProgress(value=0.0, max=18.0), HTML(value='')))"
      ]
     },
     "metadata": {},
     "output_type": "display_data"
    },
    {
     "name": "stdout",
     "output_type": "stream",
     "text": [
      "\n",
      "当前章节\t輝夜大小姐想讓我告白 ~天才們的戀愛頭腦戰~漫畫_周刊170_輝夜大小姐想讓我告白 ~天才們的戀愛頭腦戰~漫畫在線閱讀</漫畫名></章節顯示名></漫畫名>  下载完毕\n"
     ]
    },
    {
     "data": {
      "application/vnd.jupyter.widget-view+json": {
       "model_id": "fec238564171412592f74690834e9d9f",
       "version_major": 2,
       "version_minor": 0
      },
      "text/plain": [
       "HBox(children=(FloatProgress(value=0.0, max=18.0), HTML(value='')))"
      ]
     },
     "metadata": {},
     "output_type": "display_data"
    },
    {
     "name": "stdout",
     "output_type": "stream",
     "text": [
      "\n",
      "当前章节\t輝夜大小姐想讓我告白 ~天才們的戀愛頭腦戰~漫畫_周刊169_輝夜大小姐想讓我告白 ~天才們的戀愛頭腦戰~漫畫在線閱讀</漫畫名></章節顯示名></漫畫名>  下载完毕\n"
     ]
    },
    {
     "data": {
      "application/vnd.jupyter.widget-view+json": {
       "model_id": "3f957782929e4547a6d2c94becf44fc7",
       "version_major": 2,
       "version_minor": 0
      },
      "text/plain": [
       "HBox(children=(FloatProgress(value=0.0, max=18.0), HTML(value='')))"
      ]
     },
     "metadata": {},
     "output_type": "display_data"
    },
    {
     "name": "stdout",
     "output_type": "stream",
     "text": [
      "\n",
      "当前章节\t輝夜大小姐想讓我告白 ~天才們的戀愛頭腦戰~漫畫_周刊168_輝夜大小姐想讓我告白 ~天才們的戀愛頭腦戰~漫畫在線閱讀</漫畫名></章節顯示名></漫畫名>  下载完毕\n"
     ]
    },
    {
     "data": {
      "application/vnd.jupyter.widget-view+json": {
       "model_id": "8023f983fd6b4049a035d5f1db1e5649",
       "version_major": 2,
       "version_minor": 0
      },
      "text/plain": [
       "HBox(children=(FloatProgress(value=0.0, max=19.0), HTML(value='')))"
      ]
     },
     "metadata": {},
     "output_type": "display_data"
    },
    {
     "name": "stdout",
     "output_type": "stream",
     "text": [
      "\n",
      "当前章节\t輝夜大小姐想讓我告白 ~天才們的戀愛頭腦戰~漫畫_周刊167話_輝夜大小姐想讓我告白 ~天才們的戀愛頭腦戰~漫畫在線閱讀</漫畫名></章節顯示名></漫畫名>  下载完毕\n"
     ]
    },
    {
     "data": {
      "application/vnd.jupyter.widget-view+json": {
       "model_id": "32526b2c08a2428c9fcec4c8c7fdaf69",
       "version_major": 2,
       "version_minor": 0
      },
      "text/plain": [
       "HBox(children=(FloatProgress(value=0.0, max=18.0), HTML(value='')))"
      ]
     },
     "metadata": {},
     "output_type": "display_data"
    },
    {
     "name": "stdout",
     "output_type": "stream",
     "text": [
      "\n",
      "当前章节\t輝夜大小姐想讓我告白 ~天才們的戀愛頭腦戰~漫畫_周刊166話_輝夜大小姐想讓我告白 ~天才們的戀愛頭腦戰~漫畫在線閱讀</漫畫名></章節顯示名></漫畫名>  下载完毕\n"
     ]
    },
    {
     "data": {
      "application/vnd.jupyter.widget-view+json": {
       "model_id": "1109988f0f024137a89d0612e2c3226f",
       "version_major": 2,
       "version_minor": 0
      },
      "text/plain": [
       "HBox(children=(FloatProgress(value=0.0, max=20.0), HTML(value='')))"
      ]
     },
     "metadata": {},
     "output_type": "display_data"
    },
    {
     "name": "stdout",
     "output_type": "stream",
     "text": [
      "\n",
      "当前章节\t輝夜大小姐想讓我告白 ~天才們的戀愛頭腦戰~漫畫_周刊165_輝夜大小姐想讓我告白 ~天才們的戀愛頭腦戰~漫畫在線閱讀</漫畫名></章節顯示名></漫畫名>  下载完毕\n"
     ]
    },
    {
     "data": {
      "application/vnd.jupyter.widget-view+json": {
       "model_id": "aa84e61ad7874327a49ef74c3a30df7d",
       "version_major": 2,
       "version_minor": 0
      },
      "text/plain": [
       "HBox(children=(FloatProgress(value=0.0, max=22.0), HTML(value='')))"
      ]
     },
     "metadata": {},
     "output_type": "display_data"
    },
    {
     "name": "stdout",
     "output_type": "stream",
     "text": [
      "\n",
      "当前章节\t輝夜大小姐想讓我告白 ~天才們的戀愛頭腦戰~漫畫_彩色版02話_輝夜大小姐想讓我告白 ~天才們的戀愛頭腦戰~漫畫在線閱讀</漫畫名></章節顯示名></漫畫名>  下载完毕\n"
     ]
    },
    {
     "data": {
      "application/vnd.jupyter.widget-view+json": {
       "model_id": "3d6651042b9c429d88c15e83a4ed28a0",
       "version_major": 2,
       "version_minor": 0
      },
      "text/plain": [
       "HBox(children=(FloatProgress(value=0.0, max=7.0), HTML(value='')))"
      ]
     },
     "metadata": {},
     "output_type": "display_data"
    },
    {
     "name": "stdout",
     "output_type": "stream",
     "text": [
      "\n",
      "当前章节\t輝夜大小姐想讓我告白 ~天才們的戀愛頭腦戰~漫畫_番外篇_輝夜大小姐想讓我告白 ~天才們的戀愛頭腦戰~漫畫在線閱讀</漫畫名></章節顯示名></漫畫名>  下载完毕\n"
     ]
    },
    {
     "data": {
      "application/vnd.jupyter.widget-view+json": {
       "model_id": "4ddb29cb556f42d7805c33bbc3be7e68",
       "version_major": 2,
       "version_minor": 0
      },
      "text/plain": [
       "HBox(children=(FloatProgress(value=0.0, max=19.0), HTML(value='')))"
      ]
     },
     "metadata": {},
     "output_type": "display_data"
    },
    {
     "name": "stdout",
     "output_type": "stream",
     "text": [
      "\n",
      "当前章节\t輝夜大小姐想讓我告白 ~天才們的戀愛頭腦戰~漫畫_周刊163_輝夜大小姐想讓我告白 ~天才們的戀愛頭腦戰~漫畫在線閱讀</漫畫名></章節顯示名></漫畫名>  下载完毕\n"
     ]
    },
    {
     "data": {
      "application/vnd.jupyter.widget-view+json": {
       "model_id": "5e3866f321ec496b9813c81252728882",
       "version_major": 2,
       "version_minor": 0
      },
      "text/plain": [
       "HBox(children=(FloatProgress(value=0.0, max=19.0), HTML(value='')))"
      ]
     },
     "metadata": {},
     "output_type": "display_data"
    },
    {
     "name": "stdout",
     "output_type": "stream",
     "text": [
      "\n",
      "当前章节\t輝夜大小姐想讓我告白 ~天才們的戀愛頭腦戰~漫畫_周刊162_輝夜大小姐想讓我告白 ~天才們的戀愛頭腦戰~漫畫在線閱讀</漫畫名></章節顯示名></漫畫名>  下载完毕\n"
     ]
    },
    {
     "data": {
      "application/vnd.jupyter.widget-view+json": {
       "model_id": "71947d9089ea480aab2d9867887bfbd7",
       "version_major": 2,
       "version_minor": 0
      },
      "text/plain": [
       "HBox(children=(FloatProgress(value=0.0, max=21.0), HTML(value='')))"
      ]
     },
     "metadata": {},
     "output_type": "display_data"
    },
    {
     "name": "stdout",
     "output_type": "stream",
     "text": [
      "\n",
      "当前章节\t輝夜大小姐想讓我告白 ~天才們的戀愛頭腦戰~漫畫_周刊161_輝夜大小姐想讓我告白 ~天才們的戀愛頭腦戰~漫畫在線閱讀</漫畫名></章節顯示名></漫畫名>  下载完毕\n"
     ]
    },
    {
     "data": {
      "application/vnd.jupyter.widget-view+json": {
       "model_id": "d4754297a7d74615a8a4720ba3811a4f",
       "version_major": 2,
       "version_minor": 0
      },
      "text/plain": [
       "HBox(children=(FloatProgress(value=0.0, max=20.0), HTML(value='')))"
      ]
     },
     "metadata": {},
     "output_type": "display_data"
    },
    {
     "name": "stdout",
     "output_type": "stream",
     "text": [
      "\n",
      "当前章节\t輝夜大小姐想讓我告白 ~天才們的戀愛頭腦戰~漫畫_周刊160_輝夜大小姐想讓我告白 ~天才們的戀愛頭腦戰~漫畫在線閱讀</漫畫名></章節顯示名></漫畫名>  下载完毕\n"
     ]
    },
    {
     "data": {
      "application/vnd.jupyter.widget-view+json": {
       "model_id": "1863f452fc8f438ebadaa2fdb889ff77",
       "version_major": 2,
       "version_minor": 0
      },
      "text/plain": [
       "HBox(children=(FloatProgress(value=0.0, max=20.0), HTML(value='')))"
      ]
     },
     "metadata": {},
     "output_type": "display_data"
    },
    {
     "name": "stdout",
     "output_type": "stream",
     "text": [
      "\n",
      "当前章节\t輝夜大小姐想讓我告白 ~天才們的戀愛頭腦戰~漫畫_周刊159_輝夜大小姐想讓我告白 ~天才們的戀愛頭腦戰~漫畫在線閱讀</漫畫名></章節顯示名></漫畫名>  下载完毕\n"
     ]
    },
    {
     "data": {
      "application/vnd.jupyter.widget-view+json": {
       "model_id": "387089bb5c194a4f8f1d8f17b5b5a79b",
       "version_major": 2,
       "version_minor": 0
      },
      "text/plain": [
       "HBox(children=(FloatProgress(value=0.0, max=21.0), HTML(value='')))"
      ]
     },
     "metadata": {},
     "output_type": "display_data"
    },
    {
     "name": "stdout",
     "output_type": "stream",
     "text": [
      "\n",
      "当前章节\t輝夜大小姐想讓我告白 ~天才們的戀愛頭腦戰~漫畫_周刊158_輝夜大小姐想讓我告白 ~天才們的戀愛頭腦戰~漫畫在線閱讀</漫畫名></章節顯示名></漫畫名>  下载完毕\n"
     ]
    },
    {
     "data": {
      "application/vnd.jupyter.widget-view+json": {
       "model_id": "3440157145cd417c8783fe7e970c7a83",
       "version_major": 2,
       "version_minor": 0
      },
      "text/plain": [
       "HBox(children=(FloatProgress(value=0.0, max=19.0), HTML(value='')))"
      ]
     },
     "metadata": {},
     "output_type": "display_data"
    },
    {
     "name": "stdout",
     "output_type": "stream",
     "text": [
      "\n",
      "当前章节\t輝夜大小姐想讓我告白 ~天才們的戀愛頭腦戰~漫畫_周刊157_輝夜大小姐想讓我告白 ~天才們的戀愛頭腦戰~漫畫在線閱讀</漫畫名></章節顯示名></漫畫名>  下载完毕\n"
     ]
    },
    {
     "data": {
      "application/vnd.jupyter.widget-view+json": {
       "model_id": "b8c5cadd2216409d962d15fcd53bd4c5",
       "version_major": 2,
       "version_minor": 0
      },
      "text/plain": [
       "HBox(children=(FloatProgress(value=0.0, max=18.0), HTML(value='')))"
      ]
     },
     "metadata": {},
     "output_type": "display_data"
    },
    {
     "name": "stdout",
     "output_type": "stream",
     "text": [
      "\n",
      "当前章节\t輝夜大小姐想讓我告白 ~天才們的戀愛頭腦戰~漫畫_周刊156_輝夜大小姐想讓我告白 ~天才們的戀愛頭腦戰~漫畫在線閱讀</漫畫名></章節顯示名></漫畫名>  下载完毕\n"
     ]
    },
    {
     "data": {
      "application/vnd.jupyter.widget-view+json": {
       "model_id": "438590c2bddc4db098f82b6283b7173d",
       "version_major": 2,
       "version_minor": 0
      },
      "text/plain": [
       "HBox(children=(FloatProgress(value=0.0, max=20.0), HTML(value='')))"
      ]
     },
     "metadata": {},
     "output_type": "display_data"
    },
    {
     "name": "stdout",
     "output_type": "stream",
     "text": [
      "\n",
      "当前章节\t輝夜大小姐想讓我告白 ~天才們的戀愛頭腦戰~漫畫_周刊155_輝夜大小姐想讓我告白 ~天才們的戀愛頭腦戰~漫畫在線閱讀</漫畫名></章節顯示名></漫畫名>  下载完毕\n"
     ]
    },
    {
     "data": {
      "application/vnd.jupyter.widget-view+json": {
       "model_id": "e0651a612b654f8b9694feaabab195da",
       "version_major": 2,
       "version_minor": 0
      },
      "text/plain": [
       "HBox(children=(FloatProgress(value=0.0, max=25.0), HTML(value='')))"
      ]
     },
     "metadata": {},
     "output_type": "display_data"
    },
    {
     "name": "stdout",
     "output_type": "stream",
     "text": [
      "\n",
      "当前章节\t輝夜大小姐想讓我告白 ~天才們的戀愛頭腦戰~漫畫_彩色版01話_輝夜大小姐想讓我告白 ~天才們的戀愛頭腦戰~漫畫在線閱讀</漫畫名></章節顯示名></漫畫名>  下载完毕\n"
     ]
    },
    {
     "data": {
      "application/vnd.jupyter.widget-view+json": {
       "model_id": "3278f78404834cf49e2bbc49816dbd3b",
       "version_major": 2,
       "version_minor": 0
      },
      "text/plain": [
       "HBox(children=(FloatProgress(value=0.0, max=21.0), HTML(value='')))"
      ]
     },
     "metadata": {},
     "output_type": "display_data"
    },
    {
     "name": "stdout",
     "output_type": "stream",
     "text": [
      "\n",
      "当前章节\t輝夜大小姐想讓我告白 ~天才們的戀愛頭腦戰~漫畫_周刊154_輝夜大小姐想讓我告白 ~天才們的戀愛頭腦戰~漫畫在線閱讀</漫畫名></章節顯示名></漫畫名>  下载完毕\n"
     ]
    },
    {
     "data": {
      "application/vnd.jupyter.widget-view+json": {
       "model_id": "4d79e17c7ae2412c895ab3dd953a86eb",
       "version_major": 2,
       "version_minor": 0
      },
      "text/plain": [
       "HBox(children=(FloatProgress(value=0.0, max=19.0), HTML(value='')))"
      ]
     },
     "metadata": {},
     "output_type": "display_data"
    },
    {
     "name": "stdout",
     "output_type": "stream",
     "text": [
      "\n",
      "当前章节\t輝夜大小姐想讓我告白 ~天才們的戀愛頭腦戰~漫畫_周刊153_輝夜大小姐想讓我告白 ~天才們的戀愛頭腦戰~漫畫在線閱讀</漫畫名></章節顯示名></漫畫名>  下载完毕\n"
     ]
    },
    {
     "data": {
      "application/vnd.jupyter.widget-view+json": {
       "model_id": "260ceaf9061b49ec83d908cff1cacd68",
       "version_major": 2,
       "version_minor": 0
      },
      "text/plain": [
       "HBox(children=(FloatProgress(value=0.0, max=19.0), HTML(value='')))"
      ]
     },
     "metadata": {},
     "output_type": "display_data"
    },
    {
     "name": "stdout",
     "output_type": "stream",
     "text": [
      "\n",
      "当前章节\t輝夜大小姐想讓我告白 ~天才們的戀愛頭腦戰~漫畫_周刊152_輝夜大小姐想讓我告白 ~天才們的戀愛頭腦戰~漫畫在線閱讀</漫畫名></章節顯示名></漫畫名>  下载完毕\n"
     ]
    },
    {
     "data": {
      "application/vnd.jupyter.widget-view+json": {
       "model_id": "79c4f3dc968b4d02916d44cf63272357",
       "version_major": 2,
       "version_minor": 0
      },
      "text/plain": [
       "HBox(children=(FloatProgress(value=0.0, max=19.0), HTML(value='')))"
      ]
     },
     "metadata": {},
     "output_type": "display_data"
    },
    {
     "name": "stdout",
     "output_type": "stream",
     "text": [
      "\n",
      "当前章节\t輝夜大小姐想讓我告白 ~天才們的戀愛頭腦戰~漫畫_周刊151_輝夜大小姐想讓我告白 ~天才們的戀愛頭腦戰~漫畫在線閱讀</漫畫名></章節顯示名></漫畫名>  下载完毕\n"
     ]
    },
    {
     "data": {
      "application/vnd.jupyter.widget-view+json": {
       "model_id": "7b2fa9d00f394cf584f9ce58d5ea75a9",
       "version_major": 2,
       "version_minor": 0
      },
      "text/plain": [
       "HBox(children=(FloatProgress(value=0.0, max=18.0), HTML(value='')))"
      ]
     },
     "metadata": {},
     "output_type": "display_data"
    },
    {
     "name": "stdout",
     "output_type": "stream",
     "text": [
      "\n",
      "当前章节\t輝夜大小姐想讓我告白 ~天才們的戀愛頭腦戰~漫畫_周刊150_輝夜大小姐想讓我告白 ~天才們的戀愛頭腦戰~漫畫在線閱讀</漫畫名></章節顯示名></漫畫名>  下载完毕\n"
     ]
    },
    {
     "data": {
      "application/vnd.jupyter.widget-view+json": {
       "model_id": "50cc9d6113014df6ad0908d5aebc47aa",
       "version_major": 2,
       "version_minor": 0
      },
      "text/plain": [
       "HBox(children=(FloatProgress(value=0.0, max=18.0), HTML(value='')))"
      ]
     },
     "metadata": {},
     "output_type": "display_data"
    },
    {
     "name": "stdout",
     "output_type": "stream",
     "text": [
      "\n",
      "当前章节\t輝夜大小姐想讓我告白 ~天才們的戀愛頭腦戰~漫畫_周刊149_輝夜大小姐想讓我告白 ~天才們的戀愛頭腦戰~漫畫在線閱讀</漫畫名></章節顯示名></漫畫名>  下载完毕\n"
     ]
    },
    {
     "data": {
      "application/vnd.jupyter.widget-view+json": {
       "model_id": "906af5ea9775444a964c83f1bef69534",
       "version_major": 2,
       "version_minor": 0
      },
      "text/plain": [
       "HBox(children=(FloatProgress(value=0.0, max=18.0), HTML(value='')))"
      ]
     },
     "metadata": {},
     "output_type": "display_data"
    },
    {
     "name": "stdout",
     "output_type": "stream",
     "text": [
      "\n",
      "当前章节\t輝夜大小姐想讓我告白 ~天才們的戀愛頭腦戰~漫畫_周刊148_輝夜大小姐想讓我告白 ~天才們的戀愛頭腦戰~漫畫在線閱讀</漫畫名></章節顯示名></漫畫名>  下载完毕\n"
     ]
    },
    {
     "data": {
      "application/vnd.jupyter.widget-view+json": {
       "model_id": "3b5386e8ae8948329a4eb41272e05141",
       "version_major": 2,
       "version_minor": 0
      },
      "text/plain": [
       "HBox(children=(FloatProgress(value=0.0, max=19.0), HTML(value='')))"
      ]
     },
     "metadata": {},
     "output_type": "display_data"
    },
    {
     "name": "stdout",
     "output_type": "stream",
     "text": [
      "\n",
      "当前章节\t輝夜大小姐想讓我告白 ~天才們的戀愛頭腦戰~漫畫_周刊147_輝夜大小姐想讓我告白 ~天才們的戀愛頭腦戰~漫畫在線閱讀</漫畫名></章節顯示名></漫畫名>  下载完毕\n"
     ]
    },
    {
     "data": {
      "application/vnd.jupyter.widget-view+json": {
       "model_id": "0f987b9fd3d24adfb65449c6fb3d7e5f",
       "version_major": 2,
       "version_minor": 0
      },
      "text/plain": [
       "HBox(children=(FloatProgress(value=0.0, max=18.0), HTML(value='')))"
      ]
     },
     "metadata": {},
     "output_type": "display_data"
    },
    {
     "name": "stdout",
     "output_type": "stream",
     "text": [
      "\n",
      "当前章节\t輝夜大小姐想讓我告白 ~天才們的戀愛頭腦戰~漫畫_周刊146_輝夜大小姐想讓我告白 ~天才們的戀愛頭腦戰~漫畫在線閱讀</漫畫名></章節顯示名></漫畫名>  下载完毕\n"
     ]
    },
    {
     "data": {
      "application/vnd.jupyter.widget-view+json": {
       "model_id": "f812cd8870b04389b3ae3976114790c4",
       "version_major": 2,
       "version_minor": 0
      },
      "text/plain": [
       "HBox(children=(FloatProgress(value=0.0, max=19.0), HTML(value='')))"
      ]
     },
     "metadata": {},
     "output_type": "display_data"
    },
    {
     "name": "stdout",
     "output_type": "stream",
     "text": [
      "\n",
      "当前章节\t輝夜大小姐想讓我告白 ~天才們的戀愛頭腦戰~漫畫_周刊145_輝夜大小姐想讓我告白 ~天才們的戀愛頭腦戰~漫畫在線閱讀</漫畫名></章節顯示名></漫畫名>  下载完毕\n"
     ]
    },
    {
     "data": {
      "application/vnd.jupyter.widget-view+json": {
       "model_id": "283b961da7ea415eb1bd49f6df4cb9e2",
       "version_major": 2,
       "version_minor": 0
      },
      "text/plain": [
       "HBox(children=(FloatProgress(value=0.0, max=27.0), HTML(value='')))"
      ]
     },
     "metadata": {},
     "output_type": "display_data"
    },
    {
     "name": "stdout",
     "output_type": "stream",
     "text": [
      "\n",
      "当前章节\t輝夜大小姐想讓我告白 ~天才們的戀愛頭腦戰~漫畫_周刊144_輝夜大小姐想讓我告白 ~天才們的戀愛頭腦戰~漫畫在線閱讀</漫畫名></章節顯示名></漫畫名>  下载完毕\n"
     ]
    },
    {
     "data": {
      "application/vnd.jupyter.widget-view+json": {
       "model_id": "0fa51cc969624985bbf2ba522cd1ef8c",
       "version_major": 2,
       "version_minor": 0
      },
      "text/plain": [
       "HBox(children=(FloatProgress(value=0.0, max=18.0), HTML(value='')))"
      ]
     },
     "metadata": {},
     "output_type": "display_data"
    },
    {
     "name": "stdout",
     "output_type": "stream",
     "text": [
      "\n",
      "当前章节\t輝夜大小姐想讓我告白 ~天才們的戀愛頭腦戰~漫畫_周刊143_輝夜大小姐想讓我告白 ~天才們的戀愛頭腦戰~漫畫在線閱讀</漫畫名></章節顯示名></漫畫名>  下载完毕\n"
     ]
    },
    {
     "data": {
      "application/vnd.jupyter.widget-view+json": {
       "model_id": "e9911ca859a945ceaf1dda9dbf495c8c",
       "version_major": 2,
       "version_minor": 0
      },
      "text/plain": [
       "HBox(children=(FloatProgress(value=0.0, max=18.0), HTML(value='')))"
      ]
     },
     "metadata": {},
     "output_type": "display_data"
    },
    {
     "name": "stdout",
     "output_type": "stream",
     "text": [
      "\n",
      "当前章节\t輝夜大小姐想讓我告白 ~天才們的戀愛頭腦戰~漫畫_周刊142_輝夜大小姐想讓我告白 ~天才們的戀愛頭腦戰~漫畫在線閱讀</漫畫名></章節顯示名></漫畫名>  下载完毕\n"
     ]
    },
    {
     "data": {
      "application/vnd.jupyter.widget-view+json": {
       "model_id": "d57c99e3ca424e918871fe96bf676c36",
       "version_major": 2,
       "version_minor": 0
      },
      "text/plain": [
       "HBox(children=(FloatProgress(value=0.0, max=18.0), HTML(value='')))"
      ]
     },
     "metadata": {},
     "output_type": "display_data"
    },
    {
     "name": "stdout",
     "output_type": "stream",
     "text": [
      "\n",
      "当前章节\t輝夜大小姐想讓我告白 ~天才們的戀愛頭腦戰~漫畫_周刊141_輝夜大小姐想讓我告白 ~天才們的戀愛頭腦戰~漫畫在線閱讀</漫畫名></章節顯示名></漫畫名>  下载完毕\n"
     ]
    },
    {
     "data": {
      "application/vnd.jupyter.widget-view+json": {
       "model_id": "4f6601fce16046ae83e7147080be30b2",
       "version_major": 2,
       "version_minor": 0
      },
      "text/plain": [
       "HBox(children=(FloatProgress(value=0.0, max=21.0), HTML(value='')))"
      ]
     },
     "metadata": {},
     "output_type": "display_data"
    },
    {
     "name": "stdout",
     "output_type": "stream",
     "text": [
      "\n",
      "当前章节\t輝夜大小姐想讓我告白 ~天才們的戀愛頭腦戰~漫畫_周刊140_輝夜大小姐想讓我告白 ~天才們的戀愛頭腦戰~漫畫在線閱讀</漫畫名></章節顯示名></漫畫名>  下载完毕\n"
     ]
    },
    {
     "data": {
      "application/vnd.jupyter.widget-view+json": {
       "model_id": "2d4ad7de4fcc4cb886ef2021795f9596",
       "version_major": 2,
       "version_minor": 0
      },
      "text/plain": [
       "HBox(children=(FloatProgress(value=0.0, max=21.0), HTML(value='')))"
      ]
     },
     "metadata": {},
     "output_type": "display_data"
    },
    {
     "name": "stdout",
     "output_type": "stream",
     "text": [
      "\n",
      "当前章节\t輝夜大小姐想讓我告白 ~天才們的戀愛頭腦戰~漫畫_周刊139_輝夜大小姐想讓我告白 ~天才們的戀愛頭腦戰~漫畫在線閱讀</漫畫名></章節顯示名></漫畫名>  下载完毕\n"
     ]
    },
    {
     "data": {
      "application/vnd.jupyter.widget-view+json": {
       "model_id": "a97df70be2f94c2cb31e8ff8e995d25f",
       "version_major": 2,
       "version_minor": 0
      },
      "text/plain": [
       "HBox(children=(FloatProgress(value=0.0, max=22.0), HTML(value='')))"
      ]
     },
     "metadata": {},
     "output_type": "display_data"
    },
    {
     "name": "stdout",
     "output_type": "stream",
     "text": [
      "\n",
      "当前章节\t輝夜大小姐想讓我告白 ~天才們的戀愛頭腦戰~漫畫_周刊138_輝夜大小姐想讓我告白 ~天才們的戀愛頭腦戰~漫畫在線閱讀</漫畫名></章節顯示名></漫畫名>  下载完毕\n"
     ]
    },
    {
     "data": {
      "application/vnd.jupyter.widget-view+json": {
       "model_id": "5b609aa6d0f341f19cb6853adfbae74d",
       "version_major": 2,
       "version_minor": 0
      },
      "text/plain": [
       "HBox(children=(FloatProgress(value=0.0, max=19.0), HTML(value='')))"
      ]
     },
     "metadata": {},
     "output_type": "display_data"
    },
    {
     "name": "stdout",
     "output_type": "stream",
     "text": [
      "\n",
      "当前章节\t輝夜大小姐想讓我告白 ~天才們的戀愛頭腦戰~漫畫_周刊137_輝夜大小姐想讓我告白 ~天才們的戀愛頭腦戰~漫畫在線閱讀</漫畫名></章節顯示名></漫畫名>  下载完毕\n"
     ]
    },
    {
     "data": {
      "application/vnd.jupyter.widget-view+json": {
       "model_id": "9f55208874c54b458656732acf1e86d3",
       "version_major": 2,
       "version_minor": 0
      },
      "text/plain": [
       "HBox(children=(FloatProgress(value=0.0, max=20.0), HTML(value='')))"
      ]
     },
     "metadata": {},
     "output_type": "display_data"
    },
    {
     "name": "stdout",
     "output_type": "stream",
     "text": [
      "\n",
      "当前章节\t輝夜大小姐想讓我告白 ~天才們的戀愛頭腦戰~漫畫_周刊136_輝夜大小姐想讓我告白 ~天才們的戀愛頭腦戰~漫畫在線閱讀</漫畫名></章節顯示名></漫畫名>  下载完毕\n"
     ]
    },
    {
     "data": {
      "application/vnd.jupyter.widget-view+json": {
       "model_id": "b8892cb404f840d094453d5309ad25a9",
       "version_major": 2,
       "version_minor": 0
      },
      "text/plain": [
       "HBox(children=(FloatProgress(value=0.0, max=19.0), HTML(value='')))"
      ]
     },
     "metadata": {},
     "output_type": "display_data"
    },
    {
     "name": "stdout",
     "output_type": "stream",
     "text": [
      "\n",
      "当前章节\t輝夜大小姐想讓我告白 ~天才們的戀愛頭腦戰~漫畫_周刊135_輝夜大小姐想讓我告白 ~天才們的戀愛頭腦戰~漫畫在線閱讀</漫畫名></章節顯示名></漫畫名>  下载完毕\n"
     ]
    },
    {
     "data": {
      "application/vnd.jupyter.widget-view+json": {
       "model_id": "1520ab23620c46b1b5b60c1833494401",
       "version_major": 2,
       "version_minor": 0
      },
      "text/plain": [
       "HBox(children=(FloatProgress(value=0.0, max=18.0), HTML(value='')))"
      ]
     },
     "metadata": {},
     "output_type": "display_data"
    },
    {
     "name": "stdout",
     "output_type": "stream",
     "text": [
      "\n",
      "当前章节\t輝夜大小姐想讓我告白 ~天才們的戀愛頭腦戰~漫畫_周刊134_輝夜大小姐想讓我告白 ~天才們的戀愛頭腦戰~漫畫在線閱讀</漫畫名></章節顯示名></漫畫名>  下载完毕\n"
     ]
    },
    {
     "data": {
      "application/vnd.jupyter.widget-view+json": {
       "model_id": "689e0dc5b34b44c7be573bb921457f6b",
       "version_major": 2,
       "version_minor": 0
      },
      "text/plain": [
       "HBox(children=(FloatProgress(value=0.0, max=19.0), HTML(value='')))"
      ]
     },
     "metadata": {},
     "output_type": "display_data"
    },
    {
     "name": "stdout",
     "output_type": "stream",
     "text": [
      "\n",
      "当前章节\t輝夜大小姐想讓我告白 ~天才們的戀愛頭腦戰~漫畫_周刊133_輝夜大小姐想讓我告白 ~天才們的戀愛頭腦戰~漫畫在線閱讀</漫畫名></章節顯示名></漫畫名>  下载完毕\n"
     ]
    },
    {
     "data": {
      "application/vnd.jupyter.widget-view+json": {
       "model_id": "4206e2573ee54e30a0005caf82ce9a1d",
       "version_major": 2,
       "version_minor": 0
      },
      "text/plain": [
       "HBox(children=(FloatProgress(value=0.0, max=21.0), HTML(value='')))"
      ]
     },
     "metadata": {},
     "output_type": "display_data"
    },
    {
     "name": "stdout",
     "output_type": "stream",
     "text": [
      "\n",
      "当前章节\t輝夜大小姐想讓我告白 ~天才們的戀愛頭腦戰~漫畫_周刊132_輝夜大小姐想讓我告白 ~天才們的戀愛頭腦戰~漫畫在線閱讀</漫畫名></章節顯示名></漫畫名>  下载完毕\n"
     ]
    },
    {
     "data": {
      "application/vnd.jupyter.widget-view+json": {
       "model_id": "cda43b89b97e4e959e398a856ab4f331",
       "version_major": 2,
       "version_minor": 0
      },
      "text/plain": [
       "HBox(children=(FloatProgress(value=0.0, max=19.0), HTML(value='')))"
      ]
     },
     "metadata": {},
     "output_type": "display_data"
    },
    {
     "name": "stdout",
     "output_type": "stream",
     "text": [
      "\n",
      "当前章节\t輝夜大小姐想讓我告白 ~天才們的戀愛頭腦戰~漫畫_周刊131_輝夜大小姐想讓我告白 ~天才們的戀愛頭腦戰~漫畫在線閱讀</漫畫名></章節顯示名></漫畫名>  下载完毕\n"
     ]
    },
    {
     "data": {
      "application/vnd.jupyter.widget-view+json": {
       "model_id": "81c8036df7df45718c288932bf244d34",
       "version_major": 2,
       "version_minor": 0
      },
      "text/plain": [
       "HBox(children=(FloatProgress(value=0.0, max=20.0), HTML(value='')))"
      ]
     },
     "metadata": {},
     "output_type": "display_data"
    },
    {
     "name": "stdout",
     "output_type": "stream",
     "text": [
      "\n",
      "当前章节\t輝夜大小姐想讓我告白 ~天才們的戀愛頭腦戰~漫畫_周刊130_輝夜大小姐想讓我告白 ~天才們的戀愛頭腦戰~漫畫在線閱讀</漫畫名></章節顯示名></漫畫名>  下载完毕\n"
     ]
    },
    {
     "data": {
      "application/vnd.jupyter.widget-view+json": {
       "model_id": "197cef36b8064445a3928ce1802f1e8e",
       "version_major": 2,
       "version_minor": 0
      },
      "text/plain": [
       "HBox(children=(FloatProgress(value=0.0, max=19.0), HTML(value='')))"
      ]
     },
     "metadata": {},
     "output_type": "display_data"
    },
    {
     "name": "stdout",
     "output_type": "stream",
     "text": [
      "\n",
      "当前章节\t輝夜大小姐想讓我告白 ~天才們的戀愛頭腦戰~漫畫_周刊129_輝夜大小姐想讓我告白 ~天才們的戀愛頭腦戰~漫畫在線閱讀</漫畫名></章節顯示名></漫畫名>  下载完毕\n"
     ]
    },
    {
     "data": {
      "application/vnd.jupyter.widget-view+json": {
       "model_id": "5e73bbdffc464f58ba5f9a55c5b11987",
       "version_major": 2,
       "version_minor": 0
      },
      "text/plain": [
       "HBox(children=(FloatProgress(value=0.0, max=19.0), HTML(value='')))"
      ]
     },
     "metadata": {},
     "output_type": "display_data"
    },
    {
     "name": "stdout",
     "output_type": "stream",
     "text": [
      "\n",
      "当前章节\t輝夜大小姐想讓我告白 ~天才們的戀愛頭腦戰~漫畫_周刊128_輝夜大小姐想讓我告白 ~天才們的戀愛頭腦戰~漫畫在線閱讀</漫畫名></章節顯示名></漫畫名>  下载完毕\n"
     ]
    },
    {
     "data": {
      "application/vnd.jupyter.widget-view+json": {
       "model_id": "1f9f206a4f984f0ba4f69757285d0751",
       "version_major": 2,
       "version_minor": 0
      },
      "text/plain": [
       "HBox(children=(FloatProgress(value=0.0, max=19.0), HTML(value='')))"
      ]
     },
     "metadata": {},
     "output_type": "display_data"
    },
    {
     "name": "stdout",
     "output_type": "stream",
     "text": [
      "\n",
      "当前章节\t輝夜大小姐想讓我告白 ~天才們的戀愛頭腦戰~漫畫_周刊127_輝夜大小姐想讓我告白 ~天才們的戀愛頭腦戰~漫畫在線閱讀</漫畫名></章節顯示名></漫畫名>  下载完毕\n"
     ]
    },
    {
     "data": {
      "application/vnd.jupyter.widget-view+json": {
       "model_id": "12d480177ab14e5b89657f1da67243db",
       "version_major": 2,
       "version_minor": 0
      },
      "text/plain": [
       "HBox(children=(FloatProgress(value=0.0, max=22.0), HTML(value='')))"
      ]
     },
     "metadata": {},
     "output_type": "display_data"
    },
    {
     "name": "stdout",
     "output_type": "stream",
     "text": [
      "\n",
      "当前章节\t輝夜大小姐想讓我告白 ~天才們的戀愛頭腦戰~漫畫_周刊126_輝夜大小姐想讓我告白 ~天才們的戀愛頭腦戰~漫畫在線閱讀</漫畫名></章節顯示名></漫畫名>  下载完毕\n"
     ]
    },
    {
     "data": {
      "application/vnd.jupyter.widget-view+json": {
       "model_id": "a30a30f4e5014589bec82fb6cb8c7c30",
       "version_major": 2,
       "version_minor": 0
      },
      "text/plain": [
       "HBox(children=(FloatProgress(value=0.0, max=20.0), HTML(value='')))"
      ]
     },
     "metadata": {},
     "output_type": "display_data"
    },
    {
     "name": "stdout",
     "output_type": "stream",
     "text": [
      "\n",
      "当前章节\t輝夜大小姐想讓我告白 ~天才們的戀愛頭腦戰~漫畫_周刊125_輝夜大小姐想讓我告白 ~天才們的戀愛頭腦戰~漫畫在線閱讀</漫畫名></章節顯示名></漫畫名>  下载完毕\n"
     ]
    },
    {
     "data": {
      "application/vnd.jupyter.widget-view+json": {
       "model_id": "661358cff5334341adbc33da06e013e9",
       "version_major": 2,
       "version_minor": 0
      },
      "text/plain": [
       "HBox(children=(FloatProgress(value=0.0, max=19.0), HTML(value='')))"
      ]
     },
     "metadata": {},
     "output_type": "display_data"
    },
    {
     "name": "stdout",
     "output_type": "stream",
     "text": [
      "\n",
      "当前章节\t輝夜大小姐想讓我告白 ~天才們的戀愛頭腦戰~漫畫_周刊124_輝夜大小姐想讓我告白 ~天才們的戀愛頭腦戰~漫畫在線閱讀</漫畫名></章節顯示名></漫畫名>  下载完毕\n"
     ]
    },
    {
     "data": {
      "application/vnd.jupyter.widget-view+json": {
       "model_id": "be019743e70b40efb080a640344bc553",
       "version_major": 2,
       "version_minor": 0
      },
      "text/plain": [
       "HBox(children=(FloatProgress(value=0.0, max=19.0), HTML(value='')))"
      ]
     },
     "metadata": {},
     "output_type": "display_data"
    },
    {
     "name": "stdout",
     "output_type": "stream",
     "text": [
      "\n",
      "当前章节\t輝夜大小姐想讓我告白 ~天才們的戀愛頭腦戰~漫畫_周刊123_輝夜大小姐想讓我告白 ~天才們的戀愛頭腦戰~漫畫在線閱讀</漫畫名></章節顯示名></漫畫名>  下载完毕\n"
     ]
    },
    {
     "data": {
      "application/vnd.jupyter.widget-view+json": {
       "model_id": "55de566d944c423bb841bdb36299cbb6",
       "version_major": 2,
       "version_minor": 0
      },
      "text/plain": [
       "HBox(children=(FloatProgress(value=0.0, max=21.0), HTML(value='')))"
      ]
     },
     "metadata": {},
     "output_type": "display_data"
    },
    {
     "name": "stdout",
     "output_type": "stream",
     "text": [
      "\n",
      "当前章节\t輝夜大小姐想讓我告白 ~天才們的戀愛頭腦戰~漫畫_周刊122_輝夜大小姐想讓我告白 ~天才們的戀愛頭腦戰~漫畫在線閱讀</漫畫名></章節顯示名></漫畫名>  下载完毕\n"
     ]
    },
    {
     "data": {
      "application/vnd.jupyter.widget-view+json": {
       "model_id": "5096177773b1475e8e31035897513dda",
       "version_major": 2,
       "version_minor": 0
      },
      "text/plain": [
       "HBox(children=(FloatProgress(value=0.0, max=19.0), HTML(value='')))"
      ]
     },
     "metadata": {},
     "output_type": "display_data"
    },
    {
     "name": "stdout",
     "output_type": "stream",
     "text": [
      "\n",
      "当前章节\t輝夜大小姐想讓我告白 ~天才們的戀愛頭腦戰~漫畫_周刊121話_輝夜大小姐想讓我告白 ~天才們的戀愛頭腦戰~漫畫在線閱讀</漫畫名></章節顯示名></漫畫名>  下载完毕\n"
     ]
    },
    {
     "data": {
      "application/vnd.jupyter.widget-view+json": {
       "model_id": "8dc1b0a871db4dccaf94b3e3b866ccbe",
       "version_major": 2,
       "version_minor": 0
      },
      "text/plain": [
       "HBox(children=(FloatProgress(value=0.0, max=37.0), HTML(value='')))"
      ]
     },
     "metadata": {},
     "output_type": "display_data"
    },
    {
     "name": "stdout",
     "output_type": "stream",
     "text": [
      "\n",
      "当前章节\t輝夜大小姐想讓我告白 ~天才們的戀愛頭腦戰~漫畫_周刊120話_輝夜大小姐想讓我告白 ~天才們的戀愛頭腦戰~漫畫在線閱讀</漫畫名></章節顯示名></漫畫名>  下载完毕\n"
     ]
    },
    {
     "data": {
      "application/vnd.jupyter.widget-view+json": {
       "model_id": "87cd1dab48df4fb196626db517953730",
       "version_major": 2,
       "version_minor": 0
      },
      "text/plain": [
       "HBox(children=(FloatProgress(value=0.0, max=19.0), HTML(value='')))"
      ]
     },
     "metadata": {},
     "output_type": "display_data"
    },
    {
     "name": "stdout",
     "output_type": "stream",
     "text": [
      "\n",
      "当前章节\t輝夜大小姐想讓我告白 ~天才們的戀愛頭腦戰~漫畫_周刊119話_輝夜大小姐想讓我告白 ~天才們的戀愛頭腦戰~漫畫在線閱讀</漫畫名></章節顯示名></漫畫名>  下载完毕\n"
     ]
    },
    {
     "data": {
      "application/vnd.jupyter.widget-view+json": {
       "model_id": "3f1411dee3874dd3b6e80ee241b05eeb",
       "version_major": 2,
       "version_minor": 0
      },
      "text/plain": [
       "HBox(children=(FloatProgress(value=0.0, max=19.0), HTML(value='')))"
      ]
     },
     "metadata": {},
     "output_type": "display_data"
    },
    {
     "name": "stdout",
     "output_type": "stream",
     "text": [
      "\n",
      "当前章节\t輝夜大小姐想讓我告白 ~天才們的戀愛頭腦戰~漫畫_周刊118_輝夜大小姐想讓我告白 ~天才們的戀愛頭腦戰~漫畫在線閱讀</漫畫名></章節顯示名></漫畫名>  下载完毕\n"
     ]
    },
    {
     "data": {
      "application/vnd.jupyter.widget-view+json": {
       "model_id": "19eac30b404f4094b702f2154e38b8cf",
       "version_major": 2,
       "version_minor": 0
      },
      "text/plain": [
       "HBox(children=(FloatProgress(value=0.0, max=19.0), HTML(value='')))"
      ]
     },
     "metadata": {},
     "output_type": "display_data"
    },
    {
     "name": "stdout",
     "output_type": "stream",
     "text": [
      "\n",
      "当前章节\t輝夜大小姐想讓我告白 ~天才們的戀愛頭腦戰~漫畫_周刊117話_輝夜大小姐想讓我告白 ~天才們的戀愛頭腦戰~漫畫在線閱讀</漫畫名></章節顯示名></漫畫名>  下载完毕\n"
     ]
    },
    {
     "data": {
      "application/vnd.jupyter.widget-view+json": {
       "model_id": "ce577e0295bb4fb69926dedcb7e07cba",
       "version_major": 2,
       "version_minor": 0
      },
      "text/plain": [
       "HBox(children=(FloatProgress(value=0.0, max=19.0), HTML(value='')))"
      ]
     },
     "metadata": {},
     "output_type": "display_data"
    },
    {
     "name": "stdout",
     "output_type": "stream",
     "text": [
      "\n",
      "当前章节\t輝夜大小姐想讓我告白 ~天才們的戀愛頭腦戰~漫畫_周刊116話_輝夜大小姐想讓我告白 ~天才們的戀愛頭腦戰~漫畫在線閱讀</漫畫名></章節顯示名></漫畫名>  下载完毕\n"
     ]
    },
    {
     "data": {
      "application/vnd.jupyter.widget-view+json": {
       "model_id": "68d009253bcf4db299e1f953577fda40",
       "version_major": 2,
       "version_minor": 0
      },
      "text/plain": [
       "HBox(children=(FloatProgress(value=0.0, max=19.0), HTML(value='')))"
      ]
     },
     "metadata": {},
     "output_type": "display_data"
    }
   ],
   "source": [
    "browser = webdriver.PhantomJS()\n",
    "#browser = webdriver.Chrome(executable_path='/Users/james/chromedriver')\n",
    "for url in tqdm(comic_list):\n",
    "    try:\n",
    "        print('当前章节\\t{}  下载开始'.format(browser.title))\n",
    "        browser.get(url)\n",
    "        browser.implicitly_wait(3)\n",
    "\n",
    "        # 创建章节目录\n",
    "        dirname = basedir + '/' + browser.title.split('_')[1]\n",
    "        mkdir(dirname)\n",
    "\n",
    "        for i in tqdm(range(len(browser.find_elements_by_class_name('chapterpage')))):\n",
    "            #print (page.get_attribute(\"href\"))\n",
    "            browser.get(browser.find_elements_by_class_name('chapterpage')[i].get_attribute(\"href\"))\n",
    "            browser.implicitly_wait(3)\n",
    "            pic_url  = browser.find_element_by_id('cp_image').get_attribute('src')\n",
    "            #pic_url = browser.find_element_by_id('curPic').get_attribute('src')\n",
    "            filename = dirname + '/' + str(i+1) + '.jpg'\n",
    "            SavePic(filename, pic_url)\n",
    "            # 点击下一页的按钮，加载下一张图\n",
    "            #count +=1\n",
    "\n",
    "        print('当前章节\\t{}  下载完毕'.format(browser.title))\n",
    "    except:\n",
    "        print('当前章节\\t{}  下载出错'.format(browser.title)) \n",
    "\n",
    "browser.quit()\n",
    "print('所有章节下载完毕')"
   ]
  },
  {
   "cell_type": "code",
   "execution_count": 16,
   "metadata": {},
   "outputs": [
    {
     "name": "stdout",
     "output_type": "stream",
     "text": [
      "comics/huiye/周刊版97話/16.jpg.zip\n",
      "comics/huiye/周刊版97話/13.jpg.zip\n",
      "comics/huiye/周刊版97話/5.jpg.zip\n",
      "comics/huiye/周刊版97話/8.jpg.zip\n",
      "comics/huiye/周刊版97話/18.jpg.zip\n",
      "comics/huiye/周刊版97話/11.jpg.zip\n",
      "comics/huiye/周刊版97話/3.jpg.zip\n",
      "comics/huiye/周刊版97話/2.jpg.zip\n",
      "comics/huiye/周刊版97話/15.jpg.zip\n",
      "comics/huiye/周刊版97話/6.jpg.zip\n",
      "comics/huiye/周刊版97話/7.jpg.zip\n",
      "comics/huiye/周刊版97話/12.jpg.zip\n",
      "comics/huiye/周刊版97話/19.jpg.zip\n",
      "comics/huiye/周刊版97話/4.jpg.zip\n",
      "comics/huiye/周刊版97話/10.jpg.zip\n",
      "comics/huiye/周刊版97話/14.jpg.zip\n",
      "comics/huiye/周刊版97話/9.jpg.zip\n",
      "comics/huiye/周刊版97話/1.jpg.zip\n",
      "comics/huiye/周刊版97話/17.jpg.zip\n",
      "comics/huiye/周刊107話/16.jpg.zip\n",
      "comics/huiye/周刊107話/13.jpg.zip\n",
      "comics/huiye/周刊107話/5.jpg.zip\n",
      "comics/huiye/周刊107話/8.jpg.zip\n",
      "comics/huiye/周刊107話/18.jpg.zip\n",
      "comics/huiye/周刊107話/11.jpg.zip\n",
      "comics/huiye/周刊107話/3.jpg.zip\n",
      "comics/huiye/周刊107話/2.jpg.zip\n",
      "comics/huiye/周刊107話/15.jpg.zip\n",
      "comics/huiye/周刊107話/6.jpg.zip\n",
      "comics/huiye/周刊107話/7.jpg.zip\n",
      "comics/huiye/周刊107話/12.jpg.zip\n",
      "comics/huiye/周刊107話/19.jpg.zip\n",
      "comics/huiye/周刊107話/4.jpg.zip\n",
      "comics/huiye/周刊107話/10.jpg.zip\n",
      "comics/huiye/周刊107話/14.jpg.zip\n",
      "comics/huiye/周刊107話/9.jpg.zip\n",
      "comics/huiye/周刊107話/1.jpg.zip\n",
      "comics/huiye/周刊107話/17.jpg.zip\n",
      "comics/huiye/周刊132/16.jpg.zip\n",
      "comics/huiye/周刊132/13.jpg.zip\n",
      "comics/huiye/周刊132/5.jpg.zip\n",
      "comics/huiye/周刊132/20.jpg.zip\n",
      "comics/huiye/周刊132/21.jpg.zip\n",
      "comics/huiye/周刊132/8.jpg.zip\n",
      "comics/huiye/周刊132/18.jpg.zip\n",
      "comics/huiye/周刊132/11.jpg.zip\n",
      "comics/huiye/周刊132/3.jpg.zip\n",
      "comics/huiye/周刊132/2.jpg.zip\n",
      "comics/huiye/周刊132/15.jpg.zip\n",
      "comics/huiye/周刊132/6.jpg.zip\n",
      "comics/huiye/周刊132/7.jpg.zip\n",
      "comics/huiye/周刊132/12.jpg.zip\n",
      "comics/huiye/周刊132/19.jpg.zip\n",
      "comics/huiye/周刊132/4.jpg.zip\n",
      "comics/huiye/周刊132/10.jpg.zip\n",
      "comics/huiye/周刊132/14.jpg.zip\n",
      "comics/huiye/周刊132/9.jpg.zip\n",
      "comics/huiye/周刊132/1.jpg.zip\n",
      "comics/huiye/周刊132/17.jpg.zip\n",
      "comics/huiye/彩色版04話/16.jpg.zip\n",
      "comics/huiye/彩色版04話/13.jpg.zip\n",
      "comics/huiye/彩色版04話/5.jpg.zip\n",
      "comics/huiye/彩色版04話/20.jpg.zip\n",
      "comics/huiye/彩色版04話/21.jpg.zip\n",
      "comics/huiye/彩色版04話/22.jpg.zip\n",
      "comics/huiye/彩色版04話/8.jpg.zip\n",
      "comics/huiye/彩色版04話/23.jpg.zip\n",
      "comics/huiye/彩色版04話/18.jpg.zip\n",
      "comics/huiye/彩色版04話/11.jpg.zip\n",
      "comics/huiye/彩色版04話/3.jpg.zip\n",
      "comics/huiye/彩色版04話/2.jpg.zip\n",
      "comics/huiye/彩色版04話/15.jpg.zip\n",
      "comics/huiye/彩色版04話/6.jpg.zip\n",
      "comics/huiye/彩色版04話/7.jpg.zip\n",
      "comics/huiye/彩色版04話/12.jpg.zip\n",
      "comics/huiye/彩色版04話/19.jpg.zip\n",
      "comics/huiye/彩色版04話/4.jpg.zip\n",
      "comics/huiye/彩色版04話/10.jpg.zip\n",
      "comics/huiye/彩色版04話/14.jpg.zip\n",
      "comics/huiye/彩色版04話/9.jpg.zip\n",
      "comics/huiye/彩色版04話/1.jpg.zip\n",
      "comics/huiye/彩色版04話/17.jpg.zip\n",
      "comics/huiye/周刊119話/16.jpg.zip\n",
      "comics/huiye/周刊119話/13.jpg.zip\n",
      "comics/huiye/周刊119話/5.jpg.zip\n",
      "comics/huiye/周刊119話/8.jpg.zip\n",
      "comics/huiye/周刊119話/18.jpg.zip\n",
      "comics/huiye/周刊119話/11.jpg.zip\n",
      "comics/huiye/周刊119話/3.jpg.zip\n",
      "comics/huiye/周刊119話/2.jpg.zip\n",
      "comics/huiye/周刊119話/15.jpg.zip\n",
      "comics/huiye/周刊119話/6.jpg.zip\n",
      "comics/huiye/周刊119話/7.jpg.zip\n",
      "comics/huiye/周刊119話/12.jpg.zip\n",
      "comics/huiye/周刊119話/19.jpg.zip\n",
      "comics/huiye/周刊119話/4.jpg.zip\n",
      "comics/huiye/周刊119話/10.jpg.zip\n",
      "comics/huiye/周刊119話/14.jpg.zip\n",
      "comics/huiye/周刊119話/9.jpg.zip\n",
      "comics/huiye/周刊119話/1.jpg.zip\n",
      "comics/huiye/周刊119話/17.jpg.zip\n",
      "comics/huiye/周刊118/16.jpg.zip\n",
      "comics/huiye/周刊118/13.jpg.zip\n",
      "comics/huiye/周刊118/5.jpg.zip\n",
      "comics/huiye/周刊118/8.jpg.zip\n",
      "comics/huiye/周刊118/18.jpg.zip\n",
      "comics/huiye/周刊118/11.jpg.zip\n",
      "comics/huiye/周刊118/3.jpg.zip\n",
      "comics/huiye/周刊118/2.jpg.zip\n",
      "comics/huiye/周刊118/15.jpg.zip\n",
      "comics/huiye/周刊118/6.jpg.zip\n",
      "comics/huiye/周刊118/7.jpg.zip\n",
      "comics/huiye/周刊118/12.jpg.zip\n",
      "comics/huiye/周刊118/19.jpg.zip\n",
      "comics/huiye/周刊118/4.jpg.zip\n",
      "comics/huiye/周刊118/10.jpg.zip\n",
      "comics/huiye/周刊118/14.jpg.zip\n",
      "comics/huiye/周刊118/9.jpg.zip\n",
      "comics/huiye/周刊118/1.jpg.zip\n",
      "comics/huiye/周刊118/17.jpg.zip\n",
      "comics/huiye/周刊120話/16.jpg.zip\n",
      "comics/huiye/周刊120話/13.jpg.zip\n",
      "comics/huiye/周刊120話/5.jpg.zip\n",
      "comics/huiye/周刊120話/36.jpg.zip\n",
      "comics/huiye/周刊120話/20.jpg.zip\n",
      "comics/huiye/周刊120話/21.jpg.zip\n",
      "comics/huiye/周刊120話/22.jpg.zip\n",
      "comics/huiye/周刊120話/8.jpg.zip\n",
      "comics/huiye/周刊120話/23.jpg.zip\n",
      "comics/huiye/周刊120話/27.jpg.zip\n",
      "comics/huiye/周刊120話/18.jpg.zip\n",
      "comics/huiye/周刊120話/11.jpg.zip\n",
      "comics/huiye/周刊120話/25.jpg.zip\n",
      "comics/huiye/周刊120話/35.jpg.zip\n",
      "comics/huiye/周刊120話/28.jpg.zip\n",
      "comics/huiye/周刊120話/3.jpg.zip\n",
      "comics/huiye/周刊120話/30.jpg.zip\n",
      "comics/huiye/周刊120話/31.jpg.zip\n",
      "comics/huiye/周刊120話/37.jpg.zip\n",
      "comics/huiye/周刊120話/2.jpg.zip\n",
      "comics/huiye/周刊120話/15.jpg.zip\n",
      "comics/huiye/周刊120話/34.jpg.zip\n",
      "comics/huiye/周刊120話/32.jpg.zip\n",
      "comics/huiye/周刊120話/6.jpg.zip\n",
      "comics/huiye/周刊120話/26.jpg.zip\n",
      "comics/huiye/周刊120話/7.jpg.zip\n",
      "comics/huiye/周刊120話/12.jpg.zip\n",
      "comics/huiye/周刊120話/19.jpg.zip\n",
      "comics/huiye/周刊120話/29.jpg.zip\n",
      "comics/huiye/周刊120話/24.jpg.zip\n",
      "comics/huiye/周刊120話/4.jpg.zip\n",
      "comics/huiye/周刊120話/10.jpg.zip\n",
      "comics/huiye/周刊120話/14.jpg.zip\n",
      "comics/huiye/周刊120話/9.jpg.zip\n",
      "comics/huiye/周刊120話/1.jpg.zip\n",
      "comics/huiye/周刊120話/33.jpg.zip\n",
      "comics/huiye/周刊120話/17.jpg.zip\n",
      "comics/huiye/周刊183/16.jpg.zip\n",
      "comics/huiye/周刊183/13.jpg.zip\n",
      "comics/huiye/周刊183/5.jpg.zip\n",
      "comics/huiye/周刊183/20.jpg.zip\n",
      "comics/huiye/周刊183/8.jpg.zip\n",
      "comics/huiye/周刊183/18.jpg.zip\n",
      "comics/huiye/周刊183/11.jpg.zip\n",
      "comics/huiye/周刊183/3.jpg.zip\n",
      "comics/huiye/周刊183/2.jpg.zip\n",
      "comics/huiye/周刊183/15.jpg.zip\n",
      "comics/huiye/周刊183/6.jpg.zip\n",
      "comics/huiye/周刊183/7.jpg.zip\n",
      "comics/huiye/周刊183/12.jpg.zip\n",
      "comics/huiye/周刊183/19.jpg.zip\n",
      "comics/huiye/周刊183/4.jpg.zip\n",
      "comics/huiye/周刊183/10.jpg.zip\n",
      "comics/huiye/周刊183/14.jpg.zip\n",
      "comics/huiye/周刊183/9.jpg.zip\n",
      "comics/huiye/周刊183/1.jpg.zip\n",
      "comics/huiye/周刊183/17.jpg.zip\n",
      "comics/huiye/周刊149/16.jpg.zip\n",
      "comics/huiye/周刊149/13.jpg.zip\n",
      "comics/huiye/周刊149/5.jpg.zip\n",
      "comics/huiye/周刊149/8.jpg.zip\n",
      "comics/huiye/周刊149/18.jpg.zip\n",
      "comics/huiye/周刊149/11.jpg.zip\n",
      "comics/huiye/周刊149/3.jpg.zip\n",
      "comics/huiye/周刊149/2.jpg.zip\n",
      "comics/huiye/周刊149/15.jpg.zip\n",
      "comics/huiye/周刊149/6.jpg.zip\n",
      "comics/huiye/周刊149/7.jpg.zip\n",
      "comics/huiye/周刊149/12.jpg.zip\n",
      "comics/huiye/周刊149/4.jpg.zip\n",
      "comics/huiye/周刊149/10.jpg.zip\n",
      "comics/huiye/周刊149/14.jpg.zip\n",
      "comics/huiye/周刊149/9.jpg.zip\n",
      "comics/huiye/周刊149/1.jpg.zip\n",
      "comics/huiye/周刊149/17.jpg.zip\n",
      "comics/huiye/周刊版98話/16.jpg.zip\n",
      "comics/huiye/周刊版98話/13.jpg.zip\n",
      "comics/huiye/周刊版98話/5.jpg.zip\n",
      "comics/huiye/周刊版98話/8.jpg.zip\n",
      "comics/huiye/周刊版98話/18.jpg.zip\n",
      "comics/huiye/周刊版98話/11.jpg.zip\n",
      "comics/huiye/周刊版98話/3.jpg.zip\n",
      "comics/huiye/周刊版98話/2.jpg.zip\n",
      "comics/huiye/周刊版98話/15.jpg.zip\n",
      "comics/huiye/周刊版98話/6.jpg.zip\n",
      "comics/huiye/周刊版98話/7.jpg.zip\n",
      "comics/huiye/周刊版98話/12.jpg.zip\n",
      "comics/huiye/周刊版98話/19.jpg.zip\n",
      "comics/huiye/周刊版98話/4.jpg.zip\n",
      "comics/huiye/周刊版98話/10.jpg.zip\n",
      "comics/huiye/周刊版98話/14.jpg.zip\n",
      "comics/huiye/周刊版98話/9.jpg.zip\n",
      "comics/huiye/周刊版98話/1.jpg.zip\n",
      "comics/huiye/周刊版98話/17.jpg.zip\n",
      "comics/huiye/周刊版80話/3.jpg.zip\n",
      "comics/huiye/周刊版80話/2.jpg.zip\n",
      "comics/huiye/周刊版80話/4.jpg.zip\n",
      "comics/huiye/周刊版80話/1.jpg.zip\n",
      "comics/huiye/周刊127/16.jpg.zip\n",
      "comics/huiye/周刊127/13.jpg.zip\n",
      "comics/huiye/周刊127/5.jpg.zip\n",
      "comics/huiye/周刊127/8.jpg.zip\n",
      "comics/huiye/周刊127/18.jpg.zip\n",
      "comics/huiye/周刊127/11.jpg.zip\n",
      "comics/huiye/周刊127/3.jpg.zip\n",
      "comics/huiye/周刊127/2.jpg.zip\n",
      "comics/huiye/周刊127/15.jpg.zip\n",
      "comics/huiye/周刊127/6.jpg.zip\n",
      "comics/huiye/周刊127/7.jpg.zip\n",
      "comics/huiye/周刊127/12.jpg.zip\n",
      "comics/huiye/周刊127/19.jpg.zip\n",
      "comics/huiye/周刊127/4.jpg.zip\n",
      "comics/huiye/周刊127/10.jpg.zip\n",
      "comics/huiye/周刊127/14.jpg.zip\n",
      "comics/huiye/周刊127/9.jpg.zip\n",
      "comics/huiye/周刊127/1.jpg.zip\n",
      "comics/huiye/周刊127/17.jpg.zip\n",
      "comics/huiye/周刊179/16.jpg.zip\n",
      "comics/huiye/周刊179/13.jpg.zip\n",
      "comics/huiye/周刊179/5.jpg.zip\n",
      "comics/huiye/周刊179/8.jpg.zip\n",
      "comics/huiye/周刊179/18.jpg.zip\n",
      "comics/huiye/周刊179/11.jpg.zip\n",
      "comics/huiye/周刊179/3.jpg.zip\n",
      "comics/huiye/周刊179/2.jpg.zip\n",
      "comics/huiye/周刊179/15.jpg.zip\n",
      "comics/huiye/周刊179/6.jpg.zip\n",
      "comics/huiye/周刊179/7.jpg.zip\n",
      "comics/huiye/周刊179/12.jpg.zip\n",
      "comics/huiye/周刊179/19.jpg.zip\n",
      "comics/huiye/周刊179/4.jpg.zip\n",
      "comics/huiye/周刊179/10.jpg.zip\n",
      "comics/huiye/周刊179/14.jpg.zip\n",
      "comics/huiye/周刊179/9.jpg.zip\n",
      "comics/huiye/周刊179/1.jpg.zip\n",
      "comics/huiye/周刊179/17.jpg.zip\n",
      "comics/huiye/周刊135/16.jpg.zip\n",
      "comics/huiye/周刊135/13.jpg.zip\n",
      "comics/huiye/周刊135/5.jpg.zip\n",
      "comics/huiye/周刊135/8.jpg.zip\n",
      "comics/huiye/周刊135/18.jpg.zip\n",
      "comics/huiye/周刊135/11.jpg.zip\n",
      "comics/huiye/周刊135/3.jpg.zip\n",
      "comics/huiye/周刊135/2.jpg.zip\n",
      "comics/huiye/周刊135/15.jpg.zip\n",
      "comics/huiye/周刊135/6.jpg.zip\n",
      "comics/huiye/周刊135/7.jpg.zip\n",
      "comics/huiye/周刊135/12.jpg.zip\n",
      "comics/huiye/周刊135/19.jpg.zip\n",
      "comics/huiye/周刊135/4.jpg.zip\n",
      "comics/huiye/周刊135/10.jpg.zip\n",
      "comics/huiye/周刊135/14.jpg.zip\n",
      "comics/huiye/周刊135/9.jpg.zip\n",
      "comics/huiye/周刊135/1.jpg.zip\n",
      "comics/huiye/周刊135/17.jpg.zip\n",
      "comics/huiye/彩色版03話/16.jpg.zip\n",
      "comics/huiye/彩色版03話/13.jpg.zip\n",
      "comics/huiye/彩色版03話/5.jpg.zip\n",
      "comics/huiye/彩色版03話/20.jpg.zip\n"
     ]
    },
    {
     "name": "stdout",
     "output_type": "stream",
     "text": [
      "comics/huiye/彩色版03話/8.jpg.zip\n",
      "comics/huiye/彩色版03話/18.jpg.zip\n",
      "comics/huiye/彩色版03話/11.jpg.zip\n",
      "comics/huiye/彩色版03話/3.jpg.zip\n",
      "comics/huiye/彩色版03話/2.jpg.zip\n",
      "comics/huiye/彩色版03話/15.jpg.zip\n",
      "comics/huiye/彩色版03話/6.jpg.zip\n",
      "comics/huiye/彩色版03話/7.jpg.zip\n",
      "comics/huiye/彩色版03話/12.jpg.zip\n",
      "comics/huiye/彩色版03話/19.jpg.zip\n",
      "comics/huiye/彩色版03話/4.jpg.zip\n",
      "comics/huiye/彩色版03話/10.jpg.zip\n",
      "comics/huiye/彩色版03話/14.jpg.zip\n",
      "comics/huiye/彩色版03話/9.jpg.zip\n",
      "comics/huiye/彩色版03話/1.jpg.zip\n",
      "comics/huiye/彩色版03話/17.jpg.zip\n",
      "comics/huiye/周刊184/16.jpg.zip\n",
      "comics/huiye/周刊184/13.jpg.zip\n",
      "comics/huiye/周刊184/5.jpg.zip\n",
      "comics/huiye/周刊184/20.jpg.zip\n",
      "comics/huiye/周刊184/21.jpg.zip\n",
      "comics/huiye/周刊184/8.jpg.zip\n",
      "comics/huiye/周刊184/18.jpg.zip\n",
      "comics/huiye/周刊184/11.jpg.zip\n",
      "comics/huiye/周刊184/3.jpg.zip\n",
      "comics/huiye/周刊184/2.jpg.zip\n",
      "comics/huiye/周刊184/15.jpg.zip\n",
      "comics/huiye/周刊184/6.jpg.zip\n",
      "comics/huiye/周刊184/7.jpg.zip\n",
      "comics/huiye/周刊184/12.jpg.zip\n",
      "comics/huiye/周刊184/19.jpg.zip\n",
      "comics/huiye/周刊184/4.jpg.zip\n",
      "comics/huiye/周刊184/10.jpg.zip\n",
      "comics/huiye/周刊184/14.jpg.zip\n",
      "comics/huiye/周刊184/9.jpg.zip\n",
      "comics/huiye/周刊184/1.jpg.zip\n",
      "comics/huiye/周刊184/17.jpg.zip\n",
      "comics/huiye/周刊134/16.jpg.zip\n",
      "comics/huiye/周刊134/13.jpg.zip\n",
      "comics/huiye/周刊134/5.jpg.zip\n",
      "comics/huiye/周刊134/8.jpg.zip\n",
      "comics/huiye/周刊134/18.jpg.zip\n",
      "comics/huiye/周刊134/11.jpg.zip\n",
      "comics/huiye/周刊134/3.jpg.zip\n",
      "comics/huiye/周刊134/2.jpg.zip\n",
      "comics/huiye/周刊134/15.jpg.zip\n",
      "comics/huiye/周刊134/6.jpg.zip\n",
      "comics/huiye/周刊134/7.jpg.zip\n",
      "comics/huiye/周刊134/12.jpg.zip\n",
      "comics/huiye/周刊134/4.jpg.zip\n",
      "comics/huiye/周刊134/10.jpg.zip\n",
      "comics/huiye/周刊134/14.jpg.zip\n",
      "comics/huiye/周刊134/9.jpg.zip\n",
      "comics/huiye/周刊134/1.jpg.zip\n",
      "comics/huiye/周刊134/17.jpg.zip\n",
      "comics/huiye/YJ GOLD Vol.2 特別篇/5.jpg.zip\n",
      "comics/huiye/YJ GOLD Vol.2 特別篇/8.jpg.zip\n",
      "comics/huiye/YJ GOLD Vol.2 特別篇/3.jpg.zip\n",
      "comics/huiye/YJ GOLD Vol.2 特別篇/2.jpg.zip\n",
      "comics/huiye/YJ GOLD Vol.2 特別篇/6.jpg.zip\n",
      "comics/huiye/YJ GOLD Vol.2 特別篇/7.jpg.zip\n",
      "comics/huiye/YJ GOLD Vol.2 特別篇/4.jpg.zip\n",
      "comics/huiye/YJ GOLD Vol.2 特別篇/10.jpg.zip\n",
      "comics/huiye/YJ GOLD Vol.2 特別篇/9.jpg.zip\n",
      "comics/huiye/YJ GOLD Vol.2 特別篇/1.jpg.zip\n",
      "comics/huiye/周刊181/16.jpg.zip\n",
      "comics/huiye/周刊181/13.jpg.zip\n",
      "comics/huiye/周刊181/5.jpg.zip\n",
      "comics/huiye/周刊181/8.jpg.zip\n",
      "comics/huiye/周刊181/18.jpg.zip\n",
      "comics/huiye/周刊181/11.jpg.zip\n",
      "comics/huiye/周刊181/3.jpg.zip\n",
      "comics/huiye/周刊181/2.jpg.zip\n",
      "comics/huiye/周刊181/15.jpg.zip\n",
      "comics/huiye/周刊181/6.jpg.zip\n",
      "comics/huiye/周刊181/7.jpg.zip\n",
      "comics/huiye/周刊181/12.jpg.zip\n",
      "comics/huiye/周刊181/19.jpg.zip\n",
      "comics/huiye/周刊181/4.jpg.zip\n",
      "comics/huiye/周刊181/10.jpg.zip\n",
      "comics/huiye/周刊181/14.jpg.zip\n",
      "comics/huiye/周刊181/9.jpg.zip\n",
      "comics/huiye/周刊181/1.jpg.zip\n",
      "comics/huiye/周刊181/17.jpg.zip\n",
      "comics/huiye/周刊174/16.jpg.zip\n",
      "comics/huiye/周刊174/13.jpg.zip\n",
      "comics/huiye/周刊174/5.jpg.zip\n",
      "comics/huiye/周刊174/8.jpg.zip\n",
      "comics/huiye/周刊174/18.jpg.zip\n",
      "comics/huiye/周刊174/11.jpg.zip\n",
      "comics/huiye/周刊174/3.jpg.zip\n",
      "comics/huiye/周刊174/2.jpg.zip\n",
      "comics/huiye/周刊174/15.jpg.zip\n",
      "comics/huiye/周刊174/6.jpg.zip\n",
      "comics/huiye/周刊174/7.jpg.zip\n",
      "comics/huiye/周刊174/12.jpg.zip\n",
      "comics/huiye/周刊174/4.jpg.zip\n",
      "comics/huiye/周刊174/10.jpg.zip\n",
      "comics/huiye/周刊174/14.jpg.zip\n",
      "comics/huiye/周刊174/9.jpg.zip\n",
      "comics/huiye/周刊174/1.jpg.zip\n",
      "comics/huiye/周刊174/17.jpg.zip\n",
      "comics/huiye/周刊121話/16.jpg.zip\n",
      "comics/huiye/周刊121話/13.jpg.zip\n",
      "comics/huiye/周刊121話/5.jpg.zip\n",
      "comics/huiye/周刊121話/8.jpg.zip\n",
      "comics/huiye/周刊121話/18.jpg.zip\n",
      "comics/huiye/周刊121話/11.jpg.zip\n",
      "comics/huiye/周刊121話/3.jpg.zip\n",
      "comics/huiye/周刊121話/2.jpg.zip\n",
      "comics/huiye/周刊121話/15.jpg.zip\n",
      "comics/huiye/周刊121話/6.jpg.zip\n",
      "comics/huiye/周刊121話/7.jpg.zip\n",
      "comics/huiye/周刊121話/12.jpg.zip\n",
      "comics/huiye/周刊121話/19.jpg.zip\n",
      "comics/huiye/周刊121話/4.jpg.zip\n",
      "comics/huiye/周刊121話/10.jpg.zip\n",
      "comics/huiye/周刊121話/14.jpg.zip\n",
      "comics/huiye/周刊121話/9.jpg.zip\n",
      "comics/huiye/周刊121話/1.jpg.zip\n",
      "comics/huiye/周刊121話/17.jpg.zip\n",
      "comics/huiye/周刊173/16.jpg.zip\n",
      "comics/huiye/周刊173/13.jpg.zip\n",
      "comics/huiye/周刊173/5.jpg.zip\n",
      "comics/huiye/周刊173/8.jpg.zip\n",
      "comics/huiye/周刊173/18.jpg.zip\n",
      "comics/huiye/周刊173/11.jpg.zip\n",
      "comics/huiye/周刊173/3.jpg.zip\n",
      "comics/huiye/周刊173/2.jpg.zip\n",
      "comics/huiye/周刊173/15.jpg.zip\n",
      "comics/huiye/周刊173/6.jpg.zip\n",
      "comics/huiye/周刊173/7.jpg.zip\n",
      "comics/huiye/周刊173/12.jpg.zip\n",
      "comics/huiye/周刊173/19.jpg.zip\n",
      "comics/huiye/周刊173/4.jpg.zip\n",
      "comics/huiye/周刊173/10.jpg.zip\n",
      "comics/huiye/周刊173/14.jpg.zip\n",
      "comics/huiye/周刊173/9.jpg.zip\n",
      "comics/huiye/周刊173/1.jpg.zip\n",
      "comics/huiye/周刊173/17.jpg.zip\n",
      "comics/huiye/周刊166話/16.jpg.zip\n",
      "comics/huiye/周刊166話/13.jpg.zip\n",
      "comics/huiye/周刊166話/5.jpg.zip\n",
      "comics/huiye/周刊166話/8.jpg.zip\n",
      "comics/huiye/周刊166話/18.jpg.zip\n",
      "comics/huiye/周刊166話/11.jpg.zip\n",
      "comics/huiye/周刊166話/3.jpg.zip\n",
      "comics/huiye/周刊166話/2.jpg.zip\n",
      "comics/huiye/周刊166話/15.jpg.zip\n",
      "comics/huiye/周刊166話/6.jpg.zip\n",
      "comics/huiye/周刊166話/7.jpg.zip\n",
      "comics/huiye/周刊166話/12.jpg.zip\n",
      "comics/huiye/周刊166話/4.jpg.zip\n",
      "comics/huiye/周刊166話/10.jpg.zip\n",
      "comics/huiye/周刊166話/14.jpg.zip\n",
      "comics/huiye/周刊166話/9.jpg.zip\n",
      "comics/huiye/周刊166話/1.jpg.zip\n",
      "comics/huiye/周刊166話/17.jpg.zip\n",
      "comics/huiye/周刊123/16.jpg.zip\n",
      "comics/huiye/周刊123/13.jpg.zip\n",
      "comics/huiye/周刊123/5.jpg.zip\n",
      "comics/huiye/周刊123/8.jpg.zip\n",
      "comics/huiye/周刊123/18.jpg.zip\n",
      "comics/huiye/周刊123/11.jpg.zip\n",
      "comics/huiye/周刊123/3.jpg.zip\n",
      "comics/huiye/周刊123/2.jpg.zip\n",
      "comics/huiye/周刊123/15.jpg.zip\n",
      "comics/huiye/周刊123/6.jpg.zip\n",
      "comics/huiye/周刊123/7.jpg.zip\n",
      "comics/huiye/周刊123/12.jpg.zip\n",
      "comics/huiye/周刊123/19.jpg.zip\n",
      "comics/huiye/周刊123/4.jpg.zip\n",
      "comics/huiye/周刊123/10.jpg.zip\n",
      "comics/huiye/周刊123/14.jpg.zip\n",
      "comics/huiye/周刊123/9.jpg.zip\n",
      "comics/huiye/周刊123/1.jpg.zip\n",
      "comics/huiye/周刊123/17.jpg.zip\n",
      "comics/huiye/周刊145/16.jpg.zip\n",
      "comics/huiye/周刊145/13.jpg.zip\n",
      "comics/huiye/周刊145/5.jpg.zip\n",
      "comics/huiye/周刊145/8.jpg.zip\n",
      "comics/huiye/周刊145/18.jpg.zip\n",
      "comics/huiye/周刊145/11.jpg.zip\n",
      "comics/huiye/周刊145/3.jpg.zip\n",
      "comics/huiye/周刊145/2.jpg.zip\n",
      "comics/huiye/周刊145/15.jpg.zip\n",
      "comics/huiye/周刊145/6.jpg.zip\n",
      "comics/huiye/周刊145/7.jpg.zip\n",
      "comics/huiye/周刊145/12.jpg.zip\n",
      "comics/huiye/周刊145/19.jpg.zip\n",
      "comics/huiye/周刊145/4.jpg.zip\n",
      "comics/huiye/周刊145/10.jpg.zip\n",
      "comics/huiye/周刊145/14.jpg.zip\n",
      "comics/huiye/周刊145/9.jpg.zip\n",
      "comics/huiye/周刊145/1.jpg.zip\n",
      "comics/huiye/周刊145/17.jpg.zip\n",
      "comics/huiye/周刊136/16.jpg.zip\n",
      "comics/huiye/周刊136/13.jpg.zip\n",
      "comics/huiye/周刊136/5.jpg.zip\n",
      "comics/huiye/周刊136/20.jpg.zip\n",
      "comics/huiye/周刊136/8.jpg.zip\n",
      "comics/huiye/周刊136/18.jpg.zip\n",
      "comics/huiye/周刊136/11.jpg.zip\n",
      "comics/huiye/周刊136/3.jpg.zip\n",
      "comics/huiye/周刊136/2.jpg.zip\n",
      "comics/huiye/周刊136/15.jpg.zip\n",
      "comics/huiye/周刊136/6.jpg.zip\n",
      "comics/huiye/周刊136/7.jpg.zip\n",
      "comics/huiye/周刊136/12.jpg.zip\n",
      "comics/huiye/周刊136/19.jpg.zip\n",
      "comics/huiye/周刊136/4.jpg.zip\n",
      "comics/huiye/周刊136/10.jpg.zip\n",
      "comics/huiye/周刊136/14.jpg.zip\n",
      "comics/huiye/周刊136/9.jpg.zip\n",
      "comics/huiye/周刊136/1.jpg.zip\n",
      "comics/huiye/周刊136/17.jpg.zip\n",
      "comics/huiye/彩色版02話/16.jpg.zip\n",
      "comics/huiye/彩色版02話/13.jpg.zip\n",
      "comics/huiye/彩色版02話/5.jpg.zip\n",
      "comics/huiye/彩色版02話/20.jpg.zip\n",
      "comics/huiye/彩色版02話/21.jpg.zip\n",
      "comics/huiye/彩色版02話/22.jpg.zip\n",
      "comics/huiye/彩色版02話/8.jpg.zip\n",
      "comics/huiye/彩色版02話/18.jpg.zip\n",
      "comics/huiye/彩色版02話/11.jpg.zip\n",
      "comics/huiye/彩色版02話/3.jpg.zip\n",
      "comics/huiye/彩色版02話/2.jpg.zip\n",
      "comics/huiye/彩色版02話/15.jpg.zip\n",
      "comics/huiye/彩色版02話/6.jpg.zip\n",
      "comics/huiye/彩色版02話/7.jpg.zip\n",
      "comics/huiye/彩色版02話/12.jpg.zip\n",
      "comics/huiye/彩色版02話/19.jpg.zip\n",
      "comics/huiye/彩色版02話/4.jpg.zip\n",
      "comics/huiye/彩色版02話/10.jpg.zip\n",
      "comics/huiye/彩色版02話/14.jpg.zip\n",
      "comics/huiye/彩色版02話/9.jpg.zip\n",
      "comics/huiye/彩色版02話/1.jpg.zip\n",
      "comics/huiye/彩色版02話/17.jpg.zip\n",
      "comics/huiye/周刊162/16.jpg.zip\n",
      "comics/huiye/周刊162/13.jpg.zip\n",
      "comics/huiye/周刊162/5.jpg.zip\n",
      "comics/huiye/周刊162/8.jpg.zip\n",
      "comics/huiye/周刊162/18.jpg.zip\n",
      "comics/huiye/周刊162/11.jpg.zip\n",
      "comics/huiye/周刊162/3.jpg.zip\n",
      "comics/huiye/周刊162/2.jpg.zip\n",
      "comics/huiye/周刊162/15.jpg.zip\n",
      "comics/huiye/周刊162/6.jpg.zip\n",
      "comics/huiye/周刊162/7.jpg.zip\n",
      "comics/huiye/周刊162/12.jpg.zip\n",
      "comics/huiye/周刊162/19.jpg.zip\n",
      "comics/huiye/周刊162/4.jpg.zip\n",
      "comics/huiye/周刊162/10.jpg.zip\n",
      "comics/huiye/周刊162/14.jpg.zip\n",
      "comics/huiye/周刊162/9.jpg.zip\n",
      "comics/huiye/周刊162/1.jpg.zip\n",
      "comics/huiye/周刊162/17.jpg.zip\n",
      "comics/huiye/周刊124/16.jpg.zip\n",
      "comics/huiye/周刊124/13.jpg.zip\n",
      "comics/huiye/周刊124/5.jpg.zip\n",
      "comics/huiye/周刊124/8.jpg.zip\n",
      "comics/huiye/周刊124/18.jpg.zip\n",
      "comics/huiye/周刊124/11.jpg.zip\n",
      "comics/huiye/周刊124/3.jpg.zip\n",
      "comics/huiye/周刊124/2.jpg.zip\n",
      "comics/huiye/周刊124/15.jpg.zip\n",
      "comics/huiye/周刊124/6.jpg.zip\n",
      "comics/huiye/周刊124/7.jpg.zip\n",
      "comics/huiye/周刊124/12.jpg.zip\n",
      "comics/huiye/周刊124/19.jpg.zip\n",
      "comics/huiye/周刊124/4.jpg.zip\n",
      "comics/huiye/周刊124/10.jpg.zip\n",
      "comics/huiye/周刊124/14.jpg.zip\n",
      "comics/huiye/周刊124/9.jpg.zip\n",
      "comics/huiye/周刊124/1.jpg.zip\n",
      "comics/huiye/周刊124/17.jpg.zip\n",
      "comics/huiye/周刊114話/16.jpg.zip\n",
      "comics/huiye/周刊114話/13.jpg.zip\n"
     ]
    },
    {
     "name": "stdout",
     "output_type": "stream",
     "text": [
      "comics/huiye/周刊114話/5.jpg.zip\n",
      "comics/huiye/周刊114話/8.jpg.zip\n",
      "comics/huiye/周刊114話/18.jpg.zip\n",
      "comics/huiye/周刊114話/11.jpg.zip\n",
      "comics/huiye/周刊114話/3.jpg.zip\n",
      "comics/huiye/周刊114話/2.jpg.zip\n",
      "comics/huiye/周刊114話/15.jpg.zip\n",
      "comics/huiye/周刊114話/6.jpg.zip\n",
      "comics/huiye/周刊114話/7.jpg.zip\n",
      "comics/huiye/周刊114話/12.jpg.zip\n",
      "comics/huiye/周刊114話/19.jpg.zip\n",
      "comics/huiye/周刊114話/4.jpg.zip\n",
      "comics/huiye/周刊114話/10.jpg.zip\n",
      "comics/huiye/周刊114話/14.jpg.zip\n",
      "comics/huiye/周刊114話/9.jpg.zip\n",
      "comics/huiye/周刊114話/1.jpg.zip\n",
      "comics/huiye/周刊114話/17.jpg.zip\n",
      "comics/huiye/周刊版86話/16.jpg.zip\n",
      "comics/huiye/周刊版86話/13.jpg.zip\n",
      "comics/huiye/周刊版86話/5.jpg.zip\n",
      "comics/huiye/周刊版86話/8.jpg.zip\n",
      "comics/huiye/周刊版86話/18.jpg.zip\n",
      "comics/huiye/周刊版86話/11.jpg.zip\n",
      "comics/huiye/周刊版86話/3.jpg.zip\n",
      "comics/huiye/周刊版86話/2.jpg.zip\n",
      "comics/huiye/周刊版86話/15.jpg.zip\n",
      "comics/huiye/周刊版86話/6.jpg.zip\n",
      "comics/huiye/周刊版86話/7.jpg.zip\n",
      "comics/huiye/周刊版86話/12.jpg.zip\n",
      "comics/huiye/周刊版86話/19.jpg.zip\n",
      "comics/huiye/周刊版86話/4.jpg.zip\n",
      "comics/huiye/周刊版86話/10.jpg.zip\n",
      "comics/huiye/周刊版86話/14.jpg.zip\n",
      "comics/huiye/周刊版86話/9.jpg.zip\n",
      "comics/huiye/周刊版86話/1.jpg.zip\n",
      "comics/huiye/周刊版86話/17.jpg.zip\n",
      "comics/huiye/周刊153/16.jpg.zip\n",
      "comics/huiye/周刊153/13.jpg.zip\n",
      "comics/huiye/周刊153/5.jpg.zip\n",
      "comics/huiye/周刊153/8.jpg.zip\n",
      "comics/huiye/周刊153/18.jpg.zip\n",
      "comics/huiye/周刊153/11.jpg.zip\n",
      "comics/huiye/周刊153/3.jpg.zip\n",
      "comics/huiye/周刊153/2.jpg.zip\n",
      "comics/huiye/周刊153/15.jpg.zip\n",
      "comics/huiye/周刊153/6.jpg.zip\n",
      "comics/huiye/周刊153/7.jpg.zip\n",
      "comics/huiye/周刊153/12.jpg.zip\n",
      "comics/huiye/周刊153/19.jpg.zip\n",
      "comics/huiye/周刊153/4.jpg.zip\n",
      "comics/huiye/周刊153/10.jpg.zip\n",
      "comics/huiye/周刊153/14.jpg.zip\n",
      "comics/huiye/周刊153/9.jpg.zip\n",
      "comics/huiye/周刊153/1.jpg.zip\n",
      "comics/huiye/周刊153/17.jpg.zip\n",
      "comics/huiye/周刊111話 /16.jpg.zip\n",
      "comics/huiye/周刊111話 /13.jpg.zip\n",
      "comics/huiye/周刊111話 /5.jpg.zip\n",
      "comics/huiye/周刊111話 /20.jpg.zip\n",
      "comics/huiye/周刊111話 /8.jpg.zip\n",
      "comics/huiye/周刊111話 /18.jpg.zip\n",
      "comics/huiye/周刊111話 /11.jpg.zip\n",
      "comics/huiye/周刊111話 /3.jpg.zip\n",
      "comics/huiye/周刊111話 /2.jpg.zip\n",
      "comics/huiye/周刊111話 /15.jpg.zip\n",
      "comics/huiye/周刊111話 /6.jpg.zip\n",
      "comics/huiye/周刊111話 /7.jpg.zip\n",
      "comics/huiye/周刊111話 /12.jpg.zip\n",
      "comics/huiye/周刊111話 /19.jpg.zip\n",
      "comics/huiye/周刊111話 /4.jpg.zip\n",
      "comics/huiye/周刊111話 /10.jpg.zip\n",
      "comics/huiye/周刊111話 /14.jpg.zip\n",
      "comics/huiye/周刊111話 /9.jpg.zip\n",
      "comics/huiye/周刊111話 /1.jpg.zip\n",
      "comics/huiye/周刊111話 /17.jpg.zip\n",
      "comics/huiye/周刊152/16.jpg.zip\n",
      "comics/huiye/周刊152/13.jpg.zip\n",
      "comics/huiye/周刊152/5.jpg.zip\n",
      "comics/huiye/周刊152/8.jpg.zip\n",
      "comics/huiye/周刊152/18.jpg.zip\n",
      "comics/huiye/周刊152/11.jpg.zip\n",
      "comics/huiye/周刊152/3.jpg.zip\n",
      "comics/huiye/周刊152/2.jpg.zip\n",
      "comics/huiye/周刊152/15.jpg.zip\n",
      "comics/huiye/周刊152/6.jpg.zip\n",
      "comics/huiye/周刊152/7.jpg.zip\n",
      "comics/huiye/周刊152/12.jpg.zip\n",
      "comics/huiye/周刊152/19.jpg.zip\n",
      "comics/huiye/周刊152/4.jpg.zip\n",
      "comics/huiye/周刊152/10.jpg.zip\n",
      "comics/huiye/周刊152/14.jpg.zip\n",
      "comics/huiye/周刊152/9.jpg.zip\n",
      "comics/huiye/周刊152/1.jpg.zip\n",
      "comics/huiye/周刊152/17.jpg.zip\n",
      "comics/huiye/周刊169/16.jpg.zip\n",
      "comics/huiye/周刊169/13.jpg.zip\n",
      "comics/huiye/周刊169/5.jpg.zip\n",
      "comics/huiye/周刊169/8.jpg.zip\n",
      "comics/huiye/周刊169/18.jpg.zip\n",
      "comics/huiye/周刊169/11.jpg.zip\n",
      "comics/huiye/周刊169/3.jpg.zip\n",
      "comics/huiye/周刊169/2.jpg.zip\n",
      "comics/huiye/周刊169/15.jpg.zip\n",
      "comics/huiye/周刊169/6.jpg.zip\n",
      "comics/huiye/周刊169/7.jpg.zip\n",
      "comics/huiye/周刊169/12.jpg.zip\n",
      "comics/huiye/周刊169/4.jpg.zip\n",
      "comics/huiye/周刊169/10.jpg.zip\n",
      "comics/huiye/周刊169/14.jpg.zip\n",
      "comics/huiye/周刊169/9.jpg.zip\n",
      "comics/huiye/周刊169/1.jpg.zip\n",
      "comics/huiye/周刊169/17.jpg.zip\n",
      "comics/huiye/周刊150/16.jpg.zip\n",
      "comics/huiye/周刊150/13.jpg.zip\n",
      "comics/huiye/周刊150/5.jpg.zip\n",
      "comics/huiye/周刊150/8.jpg.zip\n",
      "comics/huiye/周刊150/18.jpg.zip\n",
      "comics/huiye/周刊150/11.jpg.zip\n",
      "comics/huiye/周刊150/3.jpg.zip\n",
      "comics/huiye/周刊150/2.jpg.zip\n",
      "comics/huiye/周刊150/15.jpg.zip\n",
      "comics/huiye/周刊150/6.jpg.zip\n",
      "comics/huiye/周刊150/7.jpg.zip\n",
      "comics/huiye/周刊150/12.jpg.zip\n",
      "comics/huiye/周刊150/4.jpg.zip\n",
      "comics/huiye/周刊150/10.jpg.zip\n",
      "comics/huiye/周刊150/14.jpg.zip\n",
      "comics/huiye/周刊150/9.jpg.zip\n",
      "comics/huiye/周刊150/1.jpg.zip\n",
      "comics/huiye/周刊150/17.jpg.zip\n",
      "comics/huiye/周刊170/16.jpg.zip\n",
      "comics/huiye/周刊170/13.jpg.zip\n",
      "comics/huiye/周刊170/5.jpg.zip\n",
      "comics/huiye/周刊170/8.jpg.zip\n",
      "comics/huiye/周刊170/18.jpg.zip\n",
      "comics/huiye/周刊170/11.jpg.zip\n",
      "comics/huiye/周刊170/3.jpg.zip\n",
      "comics/huiye/周刊170/2.jpg.zip\n",
      "comics/huiye/周刊170/15.jpg.zip\n",
      "comics/huiye/周刊170/6.jpg.zip\n",
      "comics/huiye/周刊170/7.jpg.zip\n",
      "comics/huiye/周刊170/12.jpg.zip\n",
      "comics/huiye/周刊170/4.jpg.zip\n",
      "comics/huiye/周刊170/10.jpg.zip\n",
      "comics/huiye/周刊170/14.jpg.zip\n",
      "comics/huiye/周刊170/9.jpg.zip\n",
      "comics/huiye/周刊170/1.jpg.zip\n",
      "comics/huiye/周刊170/17.jpg.zip\n",
      "comics/huiye/周刊163/16.jpg.zip\n",
      "comics/huiye/周刊163/13.jpg.zip\n",
      "comics/huiye/周刊163/5.jpg.zip\n",
      "comics/huiye/周刊163/8.jpg.zip\n",
      "comics/huiye/周刊163/18.jpg.zip\n",
      "comics/huiye/周刊163/11.jpg.zip\n",
      "comics/huiye/周刊163/3.jpg.zip\n",
      "comics/huiye/周刊163/2.jpg.zip\n",
      "comics/huiye/周刊163/15.jpg.zip\n",
      "comics/huiye/周刊163/6.jpg.zip\n",
      "comics/huiye/周刊163/7.jpg.zip\n",
      "comics/huiye/周刊163/12.jpg.zip\n",
      "comics/huiye/周刊163/19.jpg.zip\n",
      "comics/huiye/周刊163/4.jpg.zip\n",
      "comics/huiye/周刊163/10.jpg.zip\n",
      "comics/huiye/周刊163/14.jpg.zip\n",
      "comics/huiye/周刊163/9.jpg.zip\n",
      "comics/huiye/周刊163/1.jpg.zip\n",
      "comics/huiye/周刊163/17.jpg.zip\n",
      "comics/huiye/彩色版01話/16.jpg.zip\n",
      "comics/huiye/彩色版01話/13.jpg.zip\n",
      "comics/huiye/彩色版01話/5.jpg.zip\n",
      "comics/huiye/彩色版01話/20.jpg.zip\n",
      "comics/huiye/彩色版01話/21.jpg.zip\n",
      "comics/huiye/彩色版01話/22.jpg.zip\n",
      "comics/huiye/彩色版01話/8.jpg.zip\n",
      "comics/huiye/彩色版01話/23.jpg.zip\n",
      "comics/huiye/彩色版01話/18.jpg.zip\n",
      "comics/huiye/彩色版01話/11.jpg.zip\n",
      "comics/huiye/彩色版01話/25.jpg.zip\n",
      "comics/huiye/彩色版01話/3.jpg.zip\n",
      "comics/huiye/彩色版01話/2.jpg.zip\n",
      "comics/huiye/彩色版01話/15.jpg.zip\n",
      "comics/huiye/彩色版01話/6.jpg.zip\n",
      "comics/huiye/彩色版01話/7.jpg.zip\n",
      "comics/huiye/彩色版01話/12.jpg.zip\n",
      "comics/huiye/彩色版01話/19.jpg.zip\n",
      "comics/huiye/彩色版01話/24.jpg.zip\n",
      "comics/huiye/彩色版01話/4.jpg.zip\n",
      "comics/huiye/彩色版01話/10.jpg.zip\n",
      "comics/huiye/彩色版01話/14.jpg.zip\n",
      "comics/huiye/彩色版01話/9.jpg.zip\n",
      "comics/huiye/彩色版01話/1.jpg.zip\n",
      "comics/huiye/彩色版01話/17.jpg.zip\n",
      "comics/huiye/周刊168/16.jpg.zip\n",
      "comics/huiye/周刊168/13.jpg.zip\n",
      "comics/huiye/周刊168/5.jpg.zip\n",
      "comics/huiye/周刊168/8.jpg.zip\n",
      "comics/huiye/周刊168/18.jpg.zip\n",
      "comics/huiye/周刊168/11.jpg.zip\n",
      "comics/huiye/周刊168/3.jpg.zip\n",
      "comics/huiye/周刊168/2.jpg.zip\n",
      "comics/huiye/周刊168/15.jpg.zip\n",
      "comics/huiye/周刊168/6.jpg.zip\n",
      "comics/huiye/周刊168/7.jpg.zip\n",
      "comics/huiye/周刊168/12.jpg.zip\n",
      "comics/huiye/周刊168/4.jpg.zip\n",
      "comics/huiye/周刊168/10.jpg.zip\n",
      "comics/huiye/周刊168/14.jpg.zip\n",
      "comics/huiye/周刊168/9.jpg.zip\n",
      "comics/huiye/周刊168/1.jpg.zip\n",
      "comics/huiye/周刊168/17.jpg.zip\n",
      "comics/huiye/周刊版84話/16.jpg.zip\n",
      "comics/huiye/周刊版84話/13.jpg.zip\n",
      "comics/huiye/周刊版84話/5.jpg.zip\n",
      "comics/huiye/周刊版84話/8.jpg.zip\n",
      "comics/huiye/周刊版84話/18.jpg.zip\n",
      "comics/huiye/周刊版84話/11.jpg.zip\n",
      "comics/huiye/周刊版84話/3.jpg.zip\n",
      "comics/huiye/周刊版84話/2.jpg.zip\n",
      "comics/huiye/周刊版84話/15.jpg.zip\n",
      "comics/huiye/周刊版84話/6.jpg.zip\n",
      "comics/huiye/周刊版84話/7.jpg.zip\n",
      "comics/huiye/周刊版84話/12.jpg.zip\n",
      "comics/huiye/周刊版84話/19.jpg.zip\n",
      "comics/huiye/周刊版84話/4.jpg.zip\n",
      "comics/huiye/周刊版84話/10.jpg.zip\n",
      "comics/huiye/周刊版84話/14.jpg.zip\n",
      "comics/huiye/周刊版84話/9.jpg.zip\n",
      "comics/huiye/周刊版84話/1.jpg.zip\n",
      "comics/huiye/周刊版84話/17.jpg.zip\n",
      "comics/huiye/周刊172/16.jpg.zip\n",
      "comics/huiye/周刊172/13.jpg.zip\n",
      "comics/huiye/周刊172/5.jpg.zip\n",
      "comics/huiye/周刊172/20.jpg.zip\n",
      "comics/huiye/周刊172/8.jpg.zip\n",
      "comics/huiye/周刊172/18.jpg.zip\n",
      "comics/huiye/周刊172/11.jpg.zip\n",
      "comics/huiye/周刊172/3.jpg.zip\n",
      "comics/huiye/周刊172/2.jpg.zip\n",
      "comics/huiye/周刊172/15.jpg.zip\n",
      "comics/huiye/周刊172/6.jpg.zip\n",
      "comics/huiye/周刊172/7.jpg.zip\n",
      "comics/huiye/周刊172/12.jpg.zip\n",
      "comics/huiye/周刊172/19.jpg.zip\n",
      "comics/huiye/周刊172/4.jpg.zip\n",
      "comics/huiye/周刊172/10.jpg.zip\n",
      "comics/huiye/周刊172/14.jpg.zip\n",
      "comics/huiye/周刊172/9.jpg.zip\n",
      "comics/huiye/周刊172/1.jpg.zip\n",
      "comics/huiye/周刊172/17.jpg.zip\n",
      "comics/huiye/周刊171/16.jpg.zip\n",
      "comics/huiye/周刊171/13.jpg.zip\n",
      "comics/huiye/周刊171/5.jpg.zip\n",
      "comics/huiye/周刊171/8.jpg.zip\n",
      "comics/huiye/周刊171/18.jpg.zip\n",
      "comics/huiye/周刊171/11.jpg.zip\n",
      "comics/huiye/周刊171/3.jpg.zip\n",
      "comics/huiye/周刊171/2.jpg.zip\n",
      "comics/huiye/周刊171/15.jpg.zip\n",
      "comics/huiye/周刊171/6.jpg.zip\n",
      "comics/huiye/周刊171/7.jpg.zip\n",
      "comics/huiye/周刊171/12.jpg.zip\n",
      "comics/huiye/周刊171/4.jpg.zip\n",
      "comics/huiye/周刊171/10.jpg.zip\n",
      "comics/huiye/周刊171/14.jpg.zip\n",
      "comics/huiye/周刊171/9.jpg.zip\n",
      "comics/huiye/周刊171/1.jpg.zip\n",
      "comics/huiye/周刊171/17.jpg.zip\n",
      "comics/huiye/周刊109話 /16.jpg.zip\n",
      "comics/huiye/周刊109話 /13.jpg.zip\n",
      "comics/huiye/周刊109話 /5.jpg.zip\n",
      "comics/huiye/周刊109話 /8.jpg.zip\n",
      "comics/huiye/周刊109話 /18.jpg.zip\n",
      "comics/huiye/周刊109話 /11.jpg.zip\n",
      "comics/huiye/周刊109話 /3.jpg.zip\n",
      "comics/huiye/周刊109話 /2.jpg.zip\n",
      "comics/huiye/周刊109話 /15.jpg.zip\n",
      "comics/huiye/周刊109話 /6.jpg.zip\n",
      "comics/huiye/周刊109話 /7.jpg.zip\n",
      "comics/huiye/周刊109話 /12.jpg.zip\n",
      "comics/huiye/周刊109話 /19.jpg.zip\n",
      "comics/huiye/周刊109話 /4.jpg.zip\n",
      "comics/huiye/周刊109話 /10.jpg.zip\n",
      "comics/huiye/周刊109話 /14.jpg.zip\n",
      "comics/huiye/周刊109話 /9.jpg.zip\n",
      "comics/huiye/周刊109話 /1.jpg.zip\n",
      "comics/huiye/周刊109話 /17.jpg.zip\n",
      "comics/huiye/周刊版89話 /16.jpg.zip\n",
      "comics/huiye/周刊版89話 /13.jpg.zip\n",
      "comics/huiye/周刊版89話 /5.jpg.zip\n",
      "comics/huiye/周刊版89話 /8.jpg.zip\n",
      "comics/huiye/周刊版89話 /18.jpg.zip\n",
      "comics/huiye/周刊版89話 /11.jpg.zip\n",
      "comics/huiye/周刊版89話 /3.jpg.zip\n"
     ]
    },
    {
     "name": "stdout",
     "output_type": "stream",
     "text": [
      "comics/huiye/周刊版89話 /2.jpg.zip\n",
      "comics/huiye/周刊版89話 /15.jpg.zip\n",
      "comics/huiye/周刊版89話 /6.jpg.zip\n",
      "comics/huiye/周刊版89話 /7.jpg.zip\n",
      "comics/huiye/周刊版89話 /12.jpg.zip\n",
      "comics/huiye/周刊版89話 /19.jpg.zip\n",
      "comics/huiye/周刊版89話 /4.jpg.zip\n",
      "comics/huiye/周刊版89話 /10.jpg.zip\n",
      "comics/huiye/周刊版89話 /14.jpg.zip\n",
      "comics/huiye/周刊版89話 /9.jpg.zip\n",
      "comics/huiye/周刊版89話 /1.jpg.zip\n",
      "comics/huiye/周刊版89話 /17.jpg.zip\n",
      "comics/huiye/周刊117話/16.jpg.zip\n",
      "comics/huiye/周刊117話/13.jpg.zip\n",
      "comics/huiye/周刊117話/5.jpg.zip\n",
      "comics/huiye/周刊117話/8.jpg.zip\n",
      "comics/huiye/周刊117話/18.jpg.zip\n",
      "comics/huiye/周刊117話/11.jpg.zip\n",
      "comics/huiye/周刊117話/3.jpg.zip\n",
      "comics/huiye/周刊117話/2.jpg.zip\n",
      "comics/huiye/周刊117話/15.jpg.zip\n",
      "comics/huiye/周刊117話/6.jpg.zip\n",
      "comics/huiye/周刊117話/7.jpg.zip\n",
      "comics/huiye/周刊117話/12.jpg.zip\n",
      "comics/huiye/周刊117話/19.jpg.zip\n",
      "comics/huiye/周刊117話/4.jpg.zip\n",
      "comics/huiye/周刊117話/10.jpg.zip\n",
      "comics/huiye/周刊117話/14.jpg.zip\n",
      "comics/huiye/周刊117話/9.jpg.zip\n",
      "comics/huiye/周刊117話/1.jpg.zip\n",
      "comics/huiye/周刊117話/17.jpg.zip\n",
      "comics/huiye/周刊141/16.jpg.zip\n",
      "comics/huiye/周刊141/13.jpg.zip\n",
      "comics/huiye/周刊141/5.jpg.zip\n",
      "comics/huiye/周刊141/8.jpg.zip\n",
      "comics/huiye/周刊141/18.jpg.zip\n",
      "comics/huiye/周刊141/11.jpg.zip\n",
      "comics/huiye/周刊141/3.jpg.zip\n",
      "comics/huiye/周刊141/2.jpg.zip\n",
      "comics/huiye/周刊141/15.jpg.zip\n",
      "comics/huiye/周刊141/6.jpg.zip\n",
      "comics/huiye/周刊141/7.jpg.zip\n",
      "comics/huiye/周刊141/12.jpg.zip\n",
      "comics/huiye/周刊141/4.jpg.zip\n",
      "comics/huiye/周刊141/10.jpg.zip\n",
      "comics/huiye/周刊141/14.jpg.zip\n",
      "comics/huiye/周刊141/9.jpg.zip\n",
      "comics/huiye/周刊141/1.jpg.zip\n",
      "comics/huiye/周刊141/17.jpg.zip\n",
      "comics/huiye/周刊148/16.jpg.zip\n",
      "comics/huiye/周刊148/13.jpg.zip\n",
      "comics/huiye/周刊148/5.jpg.zip\n",
      "comics/huiye/周刊148/8.jpg.zip\n",
      "comics/huiye/周刊148/18.jpg.zip\n",
      "comics/huiye/周刊148/11.jpg.zip\n",
      "comics/huiye/周刊148/3.jpg.zip\n",
      "comics/huiye/周刊148/2.jpg.zip\n",
      "comics/huiye/周刊148/15.jpg.zip\n",
      "comics/huiye/周刊148/6.jpg.zip\n",
      "comics/huiye/周刊148/7.jpg.zip\n",
      "comics/huiye/周刊148/12.jpg.zip\n",
      "comics/huiye/周刊148/4.jpg.zip\n",
      "comics/huiye/周刊148/10.jpg.zip\n",
      "comics/huiye/周刊148/14.jpg.zip\n",
      "comics/huiye/周刊148/9.jpg.zip\n",
      "comics/huiye/周刊148/1.jpg.zip\n",
      "comics/huiye/周刊148/17.jpg.zip\n",
      "comics/huiye/周刊176/16.jpg.zip\n",
      "comics/huiye/周刊176/13.jpg.zip\n",
      "comics/huiye/周刊176/5.jpg.zip\n",
      "comics/huiye/周刊176/8.jpg.zip\n",
      "comics/huiye/周刊176/18.jpg.zip\n",
      "comics/huiye/周刊176/11.jpg.zip\n",
      "comics/huiye/周刊176/3.jpg.zip\n",
      "comics/huiye/周刊176/2.jpg.zip\n",
      "comics/huiye/周刊176/15.jpg.zip\n",
      "comics/huiye/周刊176/6.jpg.zip\n",
      "comics/huiye/周刊176/7.jpg.zip\n",
      "comics/huiye/周刊176/12.jpg.zip\n",
      "comics/huiye/周刊176/19.jpg.zip\n",
      "comics/huiye/周刊176/4.jpg.zip\n",
      "comics/huiye/周刊176/10.jpg.zip\n",
      "comics/huiye/周刊176/14.jpg.zip\n",
      "comics/huiye/周刊176/9.jpg.zip\n",
      "comics/huiye/周刊176/1.jpg.zip\n",
      "comics/huiye/周刊176/17.jpg.zip\n",
      "comics/huiye/周刊106話/16.jpg.zip\n",
      "comics/huiye/周刊106話/13.jpg.zip\n",
      "comics/huiye/周刊106話/5.jpg.zip\n",
      "comics/huiye/周刊106話/8.jpg.zip\n",
      "comics/huiye/周刊106話/18.jpg.zip\n",
      "comics/huiye/周刊106話/11.jpg.zip\n",
      "comics/huiye/周刊106話/3.jpg.zip\n",
      "comics/huiye/周刊106話/2.jpg.zip\n",
      "comics/huiye/周刊106話/15.jpg.zip\n",
      "comics/huiye/周刊106話/6.jpg.zip\n",
      "comics/huiye/周刊106話/7.jpg.zip\n",
      "comics/huiye/周刊106話/12.jpg.zip\n",
      "comics/huiye/周刊106話/19.jpg.zip\n",
      "comics/huiye/周刊106話/4.jpg.zip\n",
      "comics/huiye/周刊106話/10.jpg.zip\n",
      "comics/huiye/周刊106話/14.jpg.zip\n",
      "comics/huiye/周刊106話/9.jpg.zip\n",
      "comics/huiye/周刊106話/1.jpg.zip\n",
      "comics/huiye/周刊106話/17.jpg.zip\n",
      "comics/huiye/周刊版103話/16.jpg.zip\n",
      "comics/huiye/周刊版103話/13.jpg.zip\n",
      "comics/huiye/周刊版103話/5.jpg.zip\n",
      "comics/huiye/周刊版103話/8.jpg.zip\n",
      "comics/huiye/周刊版103話/18.jpg.zip\n",
      "comics/huiye/周刊版103話/11.jpg.zip\n",
      "comics/huiye/周刊版103話/3.jpg.zip\n",
      "comics/huiye/周刊版103話/2.jpg.zip\n",
      "comics/huiye/周刊版103話/15.jpg.zip\n",
      "comics/huiye/周刊版103話/6.jpg.zip\n",
      "comics/huiye/周刊版103話/7.jpg.zip\n",
      "comics/huiye/周刊版103話/12.jpg.zip\n",
      "comics/huiye/周刊版103話/19.jpg.zip\n",
      "comics/huiye/周刊版103話/4.jpg.zip\n",
      "comics/huiye/周刊版103話/10.jpg.zip\n",
      "comics/huiye/周刊版103話/14.jpg.zip\n",
      "comics/huiye/周刊版103話/9.jpg.zip\n",
      "comics/huiye/周刊版103話/1.jpg.zip\n",
      "comics/huiye/周刊版103話/17.jpg.zip\n",
      "comics/huiye/周刊113/16.jpg.zip\n",
      "comics/huiye/周刊113/13.jpg.zip\n",
      "comics/huiye/周刊113/5.jpg.zip\n",
      "comics/huiye/周刊113/8.jpg.zip\n",
      "comics/huiye/周刊113/18.jpg.zip\n",
      "comics/huiye/周刊113/11.jpg.zip\n",
      "comics/huiye/周刊113/3.jpg.zip\n",
      "comics/huiye/周刊113/2.jpg.zip\n",
      "comics/huiye/周刊113/15.jpg.zip\n",
      "comics/huiye/周刊113/6.jpg.zip\n",
      "comics/huiye/周刊113/7.jpg.zip\n",
      "comics/huiye/周刊113/12.jpg.zip\n",
      "comics/huiye/周刊113/19.jpg.zip\n",
      "comics/huiye/周刊113/4.jpg.zip\n",
      "comics/huiye/周刊113/10.jpg.zip\n",
      "comics/huiye/周刊113/14.jpg.zip\n",
      "comics/huiye/周刊113/9.jpg.zip\n",
      "comics/huiye/周刊113/1.jpg.zip\n",
      "comics/huiye/周刊113/17.jpg.zip\n",
      "comics/huiye/周刊158/16.jpg.zip\n",
      "comics/huiye/周刊158/13.jpg.zip\n",
      "comics/huiye/周刊158/5.jpg.zip\n",
      "comics/huiye/周刊158/20.jpg.zip\n",
      "comics/huiye/周刊158/21.jpg.zip\n",
      "comics/huiye/周刊158/8.jpg.zip\n",
      "comics/huiye/周刊158/18.jpg.zip\n",
      "comics/huiye/周刊158/11.jpg.zip\n",
      "comics/huiye/周刊158/3.jpg.zip\n",
      "comics/huiye/周刊158/2.jpg.zip\n",
      "comics/huiye/周刊158/15.jpg.zip\n",
      "comics/huiye/周刊158/6.jpg.zip\n",
      "comics/huiye/周刊158/7.jpg.zip\n",
      "comics/huiye/周刊158/12.jpg.zip\n",
      "comics/huiye/周刊158/19.jpg.zip\n",
      "comics/huiye/周刊158/4.jpg.zip\n",
      "comics/huiye/周刊158/10.jpg.zip\n",
      "comics/huiye/周刊158/14.jpg.zip\n",
      "comics/huiye/周刊158/9.jpg.zip\n",
      "comics/huiye/周刊158/1.jpg.zip\n",
      "comics/huiye/周刊158/17.jpg.zip\n",
      "comics/huiye/周刊版104話/16.jpg.zip\n",
      "comics/huiye/周刊版104話/13.jpg.zip\n",
      "comics/huiye/周刊版104話/5.jpg.zip\n",
      "comics/huiye/周刊版104話/8.jpg.zip\n",
      "comics/huiye/周刊版104話/18.jpg.zip\n",
      "comics/huiye/周刊版104話/11.jpg.zip\n",
      "comics/huiye/周刊版104話/3.jpg.zip\n",
      "comics/huiye/周刊版104話/2.jpg.zip\n",
      "comics/huiye/周刊版104話/15.jpg.zip\n",
      "comics/huiye/周刊版104話/6.jpg.zip\n",
      "comics/huiye/周刊版104話/7.jpg.zip\n",
      "comics/huiye/周刊版104話/12.jpg.zip\n",
      "comics/huiye/周刊版104話/19.jpg.zip\n",
      "comics/huiye/周刊版104話/4.jpg.zip\n",
      "comics/huiye/周刊版104話/10.jpg.zip\n",
      "comics/huiye/周刊版104話/14.jpg.zip\n",
      "comics/huiye/周刊版104話/9.jpg.zip\n",
      "comics/huiye/周刊版104話/1.jpg.zip\n",
      "comics/huiye/周刊版104話/17.jpg.zip\n",
      "comics/huiye/周刊182/16.jpg.zip\n",
      "comics/huiye/周刊182/13.jpg.zip\n",
      "comics/huiye/周刊182/5.jpg.zip\n",
      "comics/huiye/周刊182/20.jpg.zip\n",
      "comics/huiye/周刊182/8.jpg.zip\n",
      "comics/huiye/周刊182/18.jpg.zip\n",
      "comics/huiye/周刊182/11.jpg.zip\n",
      "comics/huiye/周刊182/3.jpg.zip\n",
      "comics/huiye/周刊182/2.jpg.zip\n",
      "comics/huiye/周刊182/15.jpg.zip\n",
      "comics/huiye/周刊182/6.jpg.zip\n",
      "comics/huiye/周刊182/7.jpg.zip\n",
      "comics/huiye/周刊182/12.jpg.zip\n",
      "comics/huiye/周刊182/19.jpg.zip\n",
      "comics/huiye/周刊182/4.jpg.zip\n",
      "comics/huiye/周刊182/10.jpg.zip\n",
      "comics/huiye/周刊182/14.jpg.zip\n",
      "comics/huiye/周刊182/9.jpg.zip\n",
      "comics/huiye/周刊182/1.jpg.zip\n",
      "comics/huiye/周刊182/17.jpg.zip\n",
      "comics/huiye/周刊版100話/16.jpg.zip\n",
      "comics/huiye/周刊版100話/13.jpg.zip\n",
      "comics/huiye/周刊版100話/5.jpg.zip\n",
      "comics/huiye/周刊版100話/20.jpg.zip\n",
      "comics/huiye/周刊版100話/21.jpg.zip\n",
      "comics/huiye/周刊版100話/22.jpg.zip\n",
      "comics/huiye/周刊版100話/8.jpg.zip\n",
      "comics/huiye/周刊版100話/18.jpg.zip\n",
      "comics/huiye/周刊版100話/11.jpg.zip\n",
      "comics/huiye/周刊版100話/3.jpg.zip\n",
      "comics/huiye/周刊版100話/2.jpg.zip\n",
      "comics/huiye/周刊版100話/15.jpg.zip\n",
      "comics/huiye/周刊版100話/6.jpg.zip\n",
      "comics/huiye/周刊版100話/7.jpg.zip\n",
      "comics/huiye/周刊版100話/12.jpg.zip\n",
      "comics/huiye/周刊版100話/19.jpg.zip\n",
      "comics/huiye/周刊版100話/4.jpg.zip\n",
      "comics/huiye/周刊版100話/10.jpg.zip\n",
      "comics/huiye/周刊版100話/14.jpg.zip\n",
      "comics/huiye/周刊版100話/9.jpg.zip\n",
      "comics/huiye/周刊版100話/1.jpg.zip\n",
      "comics/huiye/周刊版100話/17.jpg.zip\n",
      "comics/huiye/周刊139/16.jpg.zip\n",
      "comics/huiye/周刊139/13.jpg.zip\n",
      "comics/huiye/周刊139/5.jpg.zip\n",
      "comics/huiye/周刊139/20.jpg.zip\n",
      "comics/huiye/周刊139/21.jpg.zip\n",
      "comics/huiye/周刊139/8.jpg.zip\n",
      "comics/huiye/周刊139/18.jpg.zip\n",
      "comics/huiye/周刊139/11.jpg.zip\n",
      "comics/huiye/周刊139/3.jpg.zip\n",
      "comics/huiye/周刊139/2.jpg.zip\n",
      "comics/huiye/周刊139/15.jpg.zip\n",
      "comics/huiye/周刊139/6.jpg.zip\n",
      "comics/huiye/周刊139/7.jpg.zip\n",
      "comics/huiye/周刊139/12.jpg.zip\n",
      "comics/huiye/周刊139/19.jpg.zip\n",
      "comics/huiye/周刊139/4.jpg.zip\n",
      "comics/huiye/周刊139/10.jpg.zip\n",
      "comics/huiye/周刊139/14.jpg.zip\n",
      "comics/huiye/周刊139/9.jpg.zip\n",
      "comics/huiye/周刊139/1.jpg.zip\n",
      "comics/huiye/周刊139/17.jpg.zip\n",
      "comics/huiye/周刊版83話/16.jpg.zip\n",
      "comics/huiye/周刊版83話/13.jpg.zip\n",
      "comics/huiye/周刊版83話/5.jpg.zip\n",
      "comics/huiye/周刊版83話/20.jpg.zip\n",
      "comics/huiye/周刊版83話/8.jpg.zip\n",
      "comics/huiye/周刊版83話/18.jpg.zip\n",
      "comics/huiye/周刊版83話/11.jpg.zip\n",
      "comics/huiye/周刊版83話/3.jpg.zip\n",
      "comics/huiye/周刊版83話/2.jpg.zip\n",
      "comics/huiye/周刊版83話/15.jpg.zip\n",
      "comics/huiye/周刊版83話/6.jpg.zip\n",
      "comics/huiye/周刊版83話/7.jpg.zip\n",
      "comics/huiye/周刊版83話/12.jpg.zip\n",
      "comics/huiye/周刊版83話/19.jpg.zip\n",
      "comics/huiye/周刊版83話/4.jpg.zip\n",
      "comics/huiye/周刊版83話/10.jpg.zip\n",
      "comics/huiye/周刊版83話/14.jpg.zip\n",
      "comics/huiye/周刊版83話/9.jpg.zip\n",
      "comics/huiye/周刊版83話/1.jpg.zip\n",
      "comics/huiye/周刊版83話/17.jpg.zip\n",
      "comics/huiye/周刊版88話/16.jpg.zip\n",
      "comics/huiye/周刊版88話/13.jpg.zip\n",
      "comics/huiye/周刊版88話/5.jpg.zip\n",
      "comics/huiye/周刊版88話/8.jpg.zip\n",
      "comics/huiye/周刊版88話/18.jpg.zip\n",
      "comics/huiye/周刊版88話/11.jpg.zip\n",
      "comics/huiye/周刊版88話/3.jpg.zip\n",
      "comics/huiye/周刊版88話/2.jpg.zip\n",
      "comics/huiye/周刊版88話/15.jpg.zip\n",
      "comics/huiye/周刊版88話/6.jpg.zip\n",
      "comics/huiye/周刊版88話/7.jpg.zip\n",
      "comics/huiye/周刊版88話/12.jpg.zip\n"
     ]
    },
    {
     "name": "stdout",
     "output_type": "stream",
     "text": [
      "comics/huiye/周刊版88話/19.jpg.zip\n",
      "comics/huiye/周刊版88話/4.jpg.zip\n",
      "comics/huiye/周刊版88話/10.jpg.zip\n",
      "comics/huiye/周刊版88話/14.jpg.zip\n",
      "comics/huiye/周刊版88話/9.jpg.zip\n",
      "comics/huiye/周刊版88話/1.jpg.zip\n",
      "comics/huiye/周刊版88話/17.jpg.zip\n",
      "comics/huiye/周刊155/16.jpg.zip\n",
      "comics/huiye/周刊155/13.jpg.zip\n",
      "comics/huiye/周刊155/5.jpg.zip\n",
      "comics/huiye/周刊155/20.jpg.zip\n",
      "comics/huiye/周刊155/8.jpg.zip\n",
      "comics/huiye/周刊155/18.jpg.zip\n",
      "comics/huiye/周刊155/11.jpg.zip\n",
      "comics/huiye/周刊155/3.jpg.zip\n",
      "comics/huiye/周刊155/2.jpg.zip\n",
      "comics/huiye/周刊155/15.jpg.zip\n",
      "comics/huiye/周刊155/6.jpg.zip\n",
      "comics/huiye/周刊155/7.jpg.zip\n",
      "comics/huiye/周刊155/12.jpg.zip\n",
      "comics/huiye/周刊155/19.jpg.zip\n",
      "comics/huiye/周刊155/4.jpg.zip\n",
      "comics/huiye/周刊155/10.jpg.zip\n",
      "comics/huiye/周刊155/14.jpg.zip\n",
      "comics/huiye/周刊155/9.jpg.zip\n",
      "comics/huiye/周刊155/1.jpg.zip\n",
      "comics/huiye/周刊155/17.jpg.zip\n",
      "comics/huiye/周刊115話/16.jpg.zip\n",
      "comics/huiye/周刊115話/13.jpg.zip\n",
      "comics/huiye/周刊115話/5.jpg.zip\n",
      "comics/huiye/周刊115話/8.jpg.zip\n",
      "comics/huiye/周刊115話/18.jpg.zip\n",
      "comics/huiye/周刊115話/11.jpg.zip\n",
      "comics/huiye/周刊115話/3.jpg.zip\n",
      "comics/huiye/周刊115話/2.jpg.zip\n",
      "comics/huiye/周刊115話/15.jpg.zip\n",
      "comics/huiye/周刊115話/6.jpg.zip\n",
      "comics/huiye/周刊115話/7.jpg.zip\n",
      "comics/huiye/周刊115話/12.jpg.zip\n",
      "comics/huiye/周刊115話/19.jpg.zip\n",
      "comics/huiye/周刊115話/4.jpg.zip\n",
      "comics/huiye/周刊115話/10.jpg.zip\n",
      "comics/huiye/周刊115話/14.jpg.zip\n",
      "comics/huiye/周刊115話/9.jpg.zip\n",
      "comics/huiye/周刊115話/1.jpg.zip\n",
      "comics/huiye/周刊115話/17.jpg.zip\n",
      "comics/huiye/周刊版101話/16.jpg.zip\n",
      "comics/huiye/周刊版101話/13.jpg.zip\n",
      "comics/huiye/周刊版101話/5.jpg.zip\n",
      "comics/huiye/周刊版101話/20.jpg.zip\n",
      "comics/huiye/周刊版101話/8.jpg.zip\n",
      "comics/huiye/周刊版101話/18.jpg.zip\n",
      "comics/huiye/周刊版101話/11.jpg.zip\n",
      "comics/huiye/周刊版101話/3.jpg.zip\n",
      "comics/huiye/周刊版101話/2.jpg.zip\n",
      "comics/huiye/周刊版101話/15.jpg.zip\n",
      "comics/huiye/周刊版101話/6.jpg.zip\n",
      "comics/huiye/周刊版101話/7.jpg.zip\n",
      "comics/huiye/周刊版101話/12.jpg.zip\n",
      "comics/huiye/周刊版101話/19.jpg.zip\n",
      "comics/huiye/周刊版101話/4.jpg.zip\n",
      "comics/huiye/周刊版101話/10.jpg.zip\n",
      "comics/huiye/周刊版101話/14.jpg.zip\n",
      "comics/huiye/周刊版101話/9.jpg.zip\n",
      "comics/huiye/周刊版101話/1.jpg.zip\n",
      "comics/huiye/周刊版101話/17.jpg.zip\n",
      "comics/huiye/周刊159/16.jpg.zip\n",
      "comics/huiye/周刊159/13.jpg.zip\n",
      "comics/huiye/周刊159/5.jpg.zip\n",
      "comics/huiye/周刊159/20.jpg.zip\n",
      "comics/huiye/周刊159/8.jpg.zip\n",
      "comics/huiye/周刊159/18.jpg.zip\n",
      "comics/huiye/周刊159/11.jpg.zip\n",
      "comics/huiye/周刊159/3.jpg.zip\n",
      "comics/huiye/周刊159/2.jpg.zip\n",
      "comics/huiye/周刊159/15.jpg.zip\n",
      "comics/huiye/周刊159/6.jpg.zip\n",
      "comics/huiye/周刊159/7.jpg.zip\n",
      "comics/huiye/周刊159/12.jpg.zip\n",
      "comics/huiye/周刊159/19.jpg.zip\n",
      "comics/huiye/周刊159/4.jpg.zip\n",
      "comics/huiye/周刊159/10.jpg.zip\n",
      "comics/huiye/周刊159/14.jpg.zip\n",
      "comics/huiye/周刊159/9.jpg.zip\n",
      "comics/huiye/周刊159/1.jpg.zip\n",
      "comics/huiye/周刊159/17.jpg.zip\n",
      "comics/huiye/周刊112/16.jpg.zip\n",
      "comics/huiye/周刊112/13.jpg.zip\n",
      "comics/huiye/周刊112/5.jpg.zip\n",
      "comics/huiye/周刊112/8.jpg.zip\n",
      "comics/huiye/周刊112/18.jpg.zip\n",
      "comics/huiye/周刊112/11.jpg.zip\n",
      "comics/huiye/周刊112/3.jpg.zip\n",
      "comics/huiye/周刊112/2.jpg.zip\n",
      "comics/huiye/周刊112/15.jpg.zip\n",
      "comics/huiye/周刊112/6.jpg.zip\n",
      "comics/huiye/周刊112/7.jpg.zip\n",
      "comics/huiye/周刊112/12.jpg.zip\n",
      "comics/huiye/周刊112/19.jpg.zip\n",
      "comics/huiye/周刊112/4.jpg.zip\n",
      "comics/huiye/周刊112/10.jpg.zip\n",
      "comics/huiye/周刊112/14.jpg.zip\n",
      "comics/huiye/周刊112/9.jpg.zip\n",
      "comics/huiye/周刊112/1.jpg.zip\n",
      "comics/huiye/周刊112/17.jpg.zip\n",
      "comics/huiye/周刊146/16.jpg.zip\n",
      "comics/huiye/周刊146/13.jpg.zip\n",
      "comics/huiye/周刊146/5.jpg.zip\n",
      "comics/huiye/周刊146/8.jpg.zip\n",
      "comics/huiye/周刊146/18.jpg.zip\n",
      "comics/huiye/周刊146/11.jpg.zip\n",
      "comics/huiye/周刊146/3.jpg.zip\n",
      "comics/huiye/周刊146/2.jpg.zip\n",
      "comics/huiye/周刊146/15.jpg.zip\n",
      "comics/huiye/周刊146/6.jpg.zip\n",
      "comics/huiye/周刊146/7.jpg.zip\n",
      "comics/huiye/周刊146/12.jpg.zip\n",
      "comics/huiye/周刊146/4.jpg.zip\n",
      "comics/huiye/周刊146/10.jpg.zip\n",
      "comics/huiye/周刊146/14.jpg.zip\n",
      "comics/huiye/周刊146/9.jpg.zip\n",
      "comics/huiye/周刊146/1.jpg.zip\n",
      "comics/huiye/周刊146/17.jpg.zip\n",
      "comics/huiye/周刊版99.5話/5.jpg.zip\n",
      "comics/huiye/周刊版99.5話/8.jpg.zip\n",
      "comics/huiye/周刊版99.5話/3.jpg.zip\n",
      "comics/huiye/周刊版99.5話/2.jpg.zip\n",
      "comics/huiye/周刊版99.5話/6.jpg.zip\n",
      "comics/huiye/周刊版99.5話/7.jpg.zip\n",
      "comics/huiye/周刊版99.5話/4.jpg.zip\n",
      "comics/huiye/周刊版99.5話/9.jpg.zip\n",
      "comics/huiye/周刊版99.5話/1.jpg.zip\n",
      "comics/huiye/周刊版91話 /16.jpg.zip\n",
      "comics/huiye/周刊版91話 /13.jpg.zip\n",
      "comics/huiye/周刊版91話 /5.jpg.zip\n",
      "comics/huiye/周刊版91話 /8.jpg.zip\n",
      "comics/huiye/周刊版91話 /18.jpg.zip\n",
      "comics/huiye/周刊版91話 /11.jpg.zip\n",
      "comics/huiye/周刊版91話 /3.jpg.zip\n",
      "comics/huiye/周刊版91話 /2.jpg.zip\n",
      "comics/huiye/周刊版91話 /15.jpg.zip\n",
      "comics/huiye/周刊版91話 /6.jpg.zip\n",
      "comics/huiye/周刊版91話 /7.jpg.zip\n",
      "comics/huiye/周刊版91話 /12.jpg.zip\n",
      "comics/huiye/周刊版91話 /19.jpg.zip\n",
      "comics/huiye/周刊版91話 /4.jpg.zip\n",
      "comics/huiye/周刊版91話 /10.jpg.zip\n",
      "comics/huiye/周刊版91話 /14.jpg.zip\n",
      "comics/huiye/周刊版91話 /9.jpg.zip\n",
      "comics/huiye/周刊版91話 /1.jpg.zip\n",
      "comics/huiye/周刊版91話 /17.jpg.zip\n",
      "comics/huiye/周刊157/16.jpg.zip\n",
      "comics/huiye/周刊157/13.jpg.zip\n",
      "comics/huiye/周刊157/5.jpg.zip\n",
      "comics/huiye/周刊157/8.jpg.zip\n",
      "comics/huiye/周刊157/18.jpg.zip\n",
      "comics/huiye/周刊157/11.jpg.zip\n",
      "comics/huiye/周刊157/3.jpg.zip\n",
      "comics/huiye/周刊157/2.jpg.zip\n",
      "comics/huiye/周刊157/15.jpg.zip\n",
      "comics/huiye/周刊157/6.jpg.zip\n",
      "comics/huiye/周刊157/7.jpg.zip\n",
      "comics/huiye/周刊157/12.jpg.zip\n",
      "comics/huiye/周刊157/19.jpg.zip\n",
      "comics/huiye/周刊157/4.jpg.zip\n",
      "comics/huiye/周刊157/10.jpg.zip\n",
      "comics/huiye/周刊157/14.jpg.zip\n",
      "comics/huiye/周刊157/9.jpg.zip\n",
      "comics/huiye/周刊157/1.jpg.zip\n",
      "comics/huiye/周刊157/17.jpg.zip\n",
      "comics/huiye/周刊版94話 /16.jpg.zip\n",
      "comics/huiye/周刊版94話 /13.jpg.zip\n",
      "comics/huiye/周刊版94話 /5.jpg.zip\n",
      "comics/huiye/周刊版94話 /8.jpg.zip\n",
      "comics/huiye/周刊版94話 /18.jpg.zip\n",
      "comics/huiye/周刊版94話 /11.jpg.zip\n",
      "comics/huiye/周刊版94話 /3.jpg.zip\n",
      "comics/huiye/周刊版94話 /2.jpg.zip\n",
      "comics/huiye/周刊版94話 /15.jpg.zip\n",
      "comics/huiye/周刊版94話 /6.jpg.zip\n",
      "comics/huiye/周刊版94話 /7.jpg.zip\n",
      "comics/huiye/周刊版94話 /12.jpg.zip\n",
      "comics/huiye/周刊版94話 /19.jpg.zip\n",
      "comics/huiye/周刊版94話 /4.jpg.zip\n",
      "comics/huiye/周刊版94話 /10.jpg.zip\n",
      "comics/huiye/周刊版94話 /14.jpg.zip\n",
      "comics/huiye/周刊版94話 /9.jpg.zip\n",
      "comics/huiye/周刊版94話 /1.jpg.zip\n",
      "comics/huiye/周刊版94話 /17.jpg.zip\n",
      "comics/huiye/周刊185/16.jpg.zip\n",
      "comics/huiye/周刊185/13.jpg.zip\n",
      "comics/huiye/周刊185/5.jpg.zip\n",
      "comics/huiye/周刊185/20.jpg.zip\n",
      "comics/huiye/周刊185/8.jpg.zip\n",
      "comics/huiye/周刊185/18.jpg.zip\n",
      "comics/huiye/周刊185/11.jpg.zip\n",
      "comics/huiye/周刊185/3.jpg.zip\n",
      "comics/huiye/周刊185/2.jpg.zip\n",
      "comics/huiye/周刊185/15.jpg.zip\n",
      "comics/huiye/周刊185/6.jpg.zip\n",
      "comics/huiye/周刊185/7.jpg.zip\n",
      "comics/huiye/周刊185/12.jpg.zip\n",
      "comics/huiye/周刊185/19.jpg.zip\n",
      "comics/huiye/周刊185/4.jpg.zip\n",
      "comics/huiye/周刊185/10.jpg.zip\n",
      "comics/huiye/周刊185/14.jpg.zip\n",
      "comics/huiye/周刊185/9.jpg.zip\n",
      "comics/huiye/周刊185/1.jpg.zip\n",
      "comics/huiye/周刊185/17.jpg.zip\n",
      "comics/huiye/周刊125/16.jpg.zip\n",
      "comics/huiye/周刊125/13.jpg.zip\n",
      "comics/huiye/周刊125/5.jpg.zip\n",
      "comics/huiye/周刊125/20.jpg.zip\n",
      "comics/huiye/周刊125/8.jpg.zip\n",
      "comics/huiye/周刊125/18.jpg.zip\n",
      "comics/huiye/周刊125/11.jpg.zip\n",
      "comics/huiye/周刊125/3.jpg.zip\n",
      "comics/huiye/周刊125/2.jpg.zip\n",
      "comics/huiye/周刊125/15.jpg.zip\n",
      "comics/huiye/周刊125/6.jpg.zip\n",
      "comics/huiye/周刊125/7.jpg.zip\n",
      "comics/huiye/周刊125/12.jpg.zip\n",
      "comics/huiye/周刊125/19.jpg.zip\n",
      "comics/huiye/周刊125/4.jpg.zip\n",
      "comics/huiye/周刊125/10.jpg.zip\n",
      "comics/huiye/周刊125/14.jpg.zip\n",
      "comics/huiye/周刊125/9.jpg.zip\n",
      "comics/huiye/周刊125/1.jpg.zip\n",
      "comics/huiye/周刊125/17.jpg.zip\n",
      "comics/huiye/周刊178/16.jpg.zip\n",
      "comics/huiye/周刊178/13.jpg.zip\n",
      "comics/huiye/周刊178/5.jpg.zip\n",
      "comics/huiye/周刊178/20.jpg.zip\n",
      "comics/huiye/周刊178/8.jpg.zip\n",
      "comics/huiye/周刊178/18.jpg.zip\n",
      "comics/huiye/周刊178/11.jpg.zip\n",
      "comics/huiye/周刊178/3.jpg.zip\n",
      "comics/huiye/周刊178/2.jpg.zip\n",
      "comics/huiye/周刊178/15.jpg.zip\n",
      "comics/huiye/周刊178/6.jpg.zip\n",
      "comics/huiye/周刊178/7.jpg.zip\n",
      "comics/huiye/周刊178/12.jpg.zip\n",
      "comics/huiye/周刊178/19.jpg.zip\n",
      "comics/huiye/周刊178/4.jpg.zip\n",
      "comics/huiye/周刊178/10.jpg.zip\n",
      "comics/huiye/周刊178/14.jpg.zip\n",
      "comics/huiye/周刊178/9.jpg.zip\n",
      "comics/huiye/周刊178/1.jpg.zip\n",
      "comics/huiye/周刊178/17.jpg.zip\n",
      "comics/huiye/周刊165/16.jpg.zip\n",
      "comics/huiye/周刊165/13.jpg.zip\n",
      "comics/huiye/周刊165/5.jpg.zip\n",
      "comics/huiye/周刊165/20.jpg.zip\n",
      "comics/huiye/周刊165/8.jpg.zip\n",
      "comics/huiye/周刊165/18.jpg.zip\n",
      "comics/huiye/周刊165/11.jpg.zip\n",
      "comics/huiye/周刊165/3.jpg.zip\n",
      "comics/huiye/周刊165/2.jpg.zip\n",
      "comics/huiye/周刊165/15.jpg.zip\n",
      "comics/huiye/周刊165/6.jpg.zip\n",
      "comics/huiye/周刊165/7.jpg.zip\n",
      "comics/huiye/周刊165/12.jpg.zip\n",
      "comics/huiye/周刊165/19.jpg.zip\n",
      "comics/huiye/周刊165/4.jpg.zip\n",
      "comics/huiye/周刊165/10.jpg.zip\n",
      "comics/huiye/周刊165/14.jpg.zip\n",
      "comics/huiye/周刊165/9.jpg.zip\n",
      "comics/huiye/周刊165/1.jpg.zip\n",
      "comics/huiye/周刊165/17.jpg.zip\n",
      "comics/huiye/周刊版87話/16.jpg.zip\n",
      "comics/huiye/周刊版87話/13.jpg.zip\n",
      "comics/huiye/周刊版87話/5.jpg.zip\n",
      "comics/huiye/周刊版87話/8.jpg.zip\n",
      "comics/huiye/周刊版87話/18.jpg.zip\n",
      "comics/huiye/周刊版87話/11.jpg.zip\n",
      "comics/huiye/周刊版87話/3.jpg.zip\n",
      "comics/huiye/周刊版87話/2.jpg.zip\n",
      "comics/huiye/周刊版87話/15.jpg.zip\n",
      "comics/huiye/周刊版87話/6.jpg.zip\n",
      "comics/huiye/周刊版87話/7.jpg.zip\n",
      "comics/huiye/周刊版87話/12.jpg.zip\n",
      "comics/huiye/周刊版87話/19.jpg.zip\n",
      "comics/huiye/周刊版87話/4.jpg.zip\n",
      "comics/huiye/周刊版87話/10.jpg.zip\n"
     ]
    },
    {
     "name": "stdout",
     "output_type": "stream",
     "text": [
      "comics/huiye/周刊版87話/14.jpg.zip\n",
      "comics/huiye/周刊版87話/9.jpg.zip\n",
      "comics/huiye/周刊版87話/1.jpg.zip\n",
      "comics/huiye/周刊版87話/17.jpg.zip\n",
      "comics/huiye/周刊156/16.jpg.zip\n",
      "comics/huiye/周刊156/13.jpg.zip\n",
      "comics/huiye/周刊156/5.jpg.zip\n",
      "comics/huiye/周刊156/8.jpg.zip\n",
      "comics/huiye/周刊156/18.jpg.zip\n",
      "comics/huiye/周刊156/11.jpg.zip\n",
      "comics/huiye/周刊156/3.jpg.zip\n",
      "comics/huiye/周刊156/2.jpg.zip\n",
      "comics/huiye/周刊156/15.jpg.zip\n",
      "comics/huiye/周刊156/6.jpg.zip\n",
      "comics/huiye/周刊156/7.jpg.zip\n",
      "comics/huiye/周刊156/12.jpg.zip\n",
      "comics/huiye/周刊156/4.jpg.zip\n",
      "comics/huiye/周刊156/10.jpg.zip\n",
      "comics/huiye/周刊156/14.jpg.zip\n",
      "comics/huiye/周刊156/9.jpg.zip\n",
      "comics/huiye/周刊156/1.jpg.zip\n",
      "comics/huiye/周刊156/17.jpg.zip\n",
      "comics/huiye/周刊144/16.jpg.zip\n",
      "comics/huiye/周刊144/13.jpg.zip\n",
      "comics/huiye/周刊144/5.jpg.zip\n",
      "comics/huiye/周刊144/20.jpg.zip\n",
      "comics/huiye/周刊144/21.jpg.zip\n",
      "comics/huiye/周刊144/22.jpg.zip\n",
      "comics/huiye/周刊144/8.jpg.zip\n",
      "comics/huiye/周刊144/23.jpg.zip\n",
      "comics/huiye/周刊144/27.jpg.zip\n",
      "comics/huiye/周刊144/18.jpg.zip\n",
      "comics/huiye/周刊144/11.jpg.zip\n",
      "comics/huiye/周刊144/25.jpg.zip\n",
      "comics/huiye/周刊144/3.jpg.zip\n",
      "comics/huiye/周刊144/2.jpg.zip\n",
      "comics/huiye/周刊144/15.jpg.zip\n",
      "comics/huiye/周刊144/6.jpg.zip\n",
      "comics/huiye/周刊144/26.jpg.zip\n",
      "comics/huiye/周刊144/7.jpg.zip\n",
      "comics/huiye/周刊144/12.jpg.zip\n",
      "comics/huiye/周刊144/19.jpg.zip\n",
      "comics/huiye/周刊144/24.jpg.zip\n",
      "comics/huiye/周刊144/4.jpg.zip\n",
      "comics/huiye/周刊144/10.jpg.zip\n",
      "comics/huiye/周刊144/14.jpg.zip\n",
      "comics/huiye/周刊144/9.jpg.zip\n",
      "comics/huiye/周刊144/1.jpg.zip\n",
      "comics/huiye/周刊144/17.jpg.zip\n",
      "comics/huiye/周刊版85話/16.jpg.zip\n",
      "comics/huiye/周刊版85話/13.jpg.zip\n",
      "comics/huiye/周刊版85話/5.jpg.zip\n",
      "comics/huiye/周刊版85話/8.jpg.zip\n",
      "comics/huiye/周刊版85話/18.jpg.zip\n",
      "comics/huiye/周刊版85話/11.jpg.zip\n",
      "comics/huiye/周刊版85話/3.jpg.zip\n",
      "comics/huiye/周刊版85話/2.jpg.zip\n",
      "comics/huiye/周刊版85話/15.jpg.zip\n",
      "comics/huiye/周刊版85話/6.jpg.zip\n",
      "comics/huiye/周刊版85話/7.jpg.zip\n",
      "comics/huiye/周刊版85話/12.jpg.zip\n",
      "comics/huiye/周刊版85話/19.jpg.zip\n",
      "comics/huiye/周刊版85話/4.jpg.zip\n",
      "comics/huiye/周刊版85話/10.jpg.zip\n",
      "comics/huiye/周刊版85話/14.jpg.zip\n",
      "comics/huiye/周刊版85話/9.jpg.zip\n",
      "comics/huiye/周刊版85話/1.jpg.zip\n",
      "comics/huiye/周刊版85話/17.jpg.zip\n",
      "comics/huiye/周刊版81話/16.jpg.zip\n",
      "comics/huiye/周刊版81話/13.jpg.zip\n",
      "comics/huiye/周刊版81話/5.jpg.zip\n",
      "comics/huiye/周刊版81話/8.jpg.zip\n",
      "comics/huiye/周刊版81話/18.jpg.zip\n",
      "comics/huiye/周刊版81話/11.jpg.zip\n",
      "comics/huiye/周刊版81話/3.jpg.zip\n",
      "comics/huiye/周刊版81話/2.jpg.zip\n",
      "comics/huiye/周刊版81話/15.jpg.zip\n",
      "comics/huiye/周刊版81話/6.jpg.zip\n",
      "comics/huiye/周刊版81話/7.jpg.zip\n",
      "comics/huiye/周刊版81話/12.jpg.zip\n",
      "comics/huiye/周刊版81話/19.jpg.zip\n",
      "comics/huiye/周刊版81話/4.jpg.zip\n",
      "comics/huiye/周刊版81話/10.jpg.zip\n",
      "comics/huiye/周刊版81話/14.jpg.zip\n",
      "comics/huiye/周刊版81話/9.jpg.zip\n",
      "comics/huiye/周刊版81話/1.jpg.zip\n",
      "comics/huiye/周刊版81話/17.jpg.zip\n",
      "comics/huiye/周刊161/16.jpg.zip\n",
      "comics/huiye/周刊161/13.jpg.zip\n",
      "comics/huiye/周刊161/5.jpg.zip\n",
      "comics/huiye/周刊161/20.jpg.zip\n",
      "comics/huiye/周刊161/21.jpg.zip\n",
      "comics/huiye/周刊161/8.jpg.zip\n",
      "comics/huiye/周刊161/18.jpg.zip\n",
      "comics/huiye/周刊161/11.jpg.zip\n",
      "comics/huiye/周刊161/3.jpg.zip\n",
      "comics/huiye/周刊161/2.jpg.zip\n",
      "comics/huiye/周刊161/15.jpg.zip\n",
      "comics/huiye/周刊161/6.jpg.zip\n",
      "comics/huiye/周刊161/7.jpg.zip\n",
      "comics/huiye/周刊161/12.jpg.zip\n",
      "comics/huiye/周刊161/19.jpg.zip\n",
      "comics/huiye/周刊161/4.jpg.zip\n",
      "comics/huiye/周刊161/10.jpg.zip\n",
      "comics/huiye/周刊161/14.jpg.zip\n",
      "comics/huiye/周刊161/9.jpg.zip\n",
      "comics/huiye/周刊161/1.jpg.zip\n",
      "comics/huiye/周刊161/17.jpg.zip\n",
      "comics/huiye/周刊138/16.jpg.zip\n",
      "comics/huiye/周刊138/13.jpg.zip\n",
      "comics/huiye/周刊138/5.jpg.zip\n",
      "comics/huiye/周刊138/20.jpg.zip\n",
      "comics/huiye/周刊138/21.jpg.zip\n",
      "comics/huiye/周刊138/22.jpg.zip\n",
      "comics/huiye/周刊138/8.jpg.zip\n",
      "comics/huiye/周刊138/18.jpg.zip\n",
      "comics/huiye/周刊138/11.jpg.zip\n",
      "comics/huiye/周刊138/3.jpg.zip\n",
      "comics/huiye/周刊138/2.jpg.zip\n",
      "comics/huiye/周刊138/15.jpg.zip\n",
      "comics/huiye/周刊138/6.jpg.zip\n",
      "comics/huiye/周刊138/7.jpg.zip\n",
      "comics/huiye/周刊138/12.jpg.zip\n",
      "comics/huiye/周刊138/19.jpg.zip\n",
      "comics/huiye/周刊138/4.jpg.zip\n",
      "comics/huiye/周刊138/10.jpg.zip\n",
      "comics/huiye/周刊138/14.jpg.zip\n",
      "comics/huiye/周刊138/9.jpg.zip\n",
      "comics/huiye/周刊138/1.jpg.zip\n",
      "comics/huiye/周刊138/17.jpg.zip\n",
      "comics/huiye/周刊151/16.jpg.zip\n",
      "comics/huiye/周刊151/13.jpg.zip\n",
      "comics/huiye/周刊151/5.jpg.zip\n",
      "comics/huiye/周刊151/8.jpg.zip\n",
      "comics/huiye/周刊151/18.jpg.zip\n",
      "comics/huiye/周刊151/11.jpg.zip\n",
      "comics/huiye/周刊151/3.jpg.zip\n",
      "comics/huiye/周刊151/2.jpg.zip\n",
      "comics/huiye/周刊151/15.jpg.zip\n",
      "comics/huiye/周刊151/6.jpg.zip\n",
      "comics/huiye/周刊151/7.jpg.zip\n",
      "comics/huiye/周刊151/12.jpg.zip\n",
      "comics/huiye/周刊151/19.jpg.zip\n",
      "comics/huiye/周刊151/4.jpg.zip\n",
      "comics/huiye/周刊151/10.jpg.zip\n",
      "comics/huiye/周刊151/14.jpg.zip\n",
      "comics/huiye/周刊151/9.jpg.zip\n",
      "comics/huiye/周刊151/1.jpg.zip\n",
      "comics/huiye/周刊151/17.jpg.zip\n",
      "comics/huiye/番外篇/5.jpg.zip\n",
      "comics/huiye/番外篇/3.jpg.zip\n",
      "comics/huiye/番外篇/2.jpg.zip\n",
      "comics/huiye/番外篇/6.jpg.zip\n",
      "comics/huiye/番外篇/7.jpg.zip\n",
      "comics/huiye/番外篇/4.jpg.zip\n",
      "comics/huiye/番外篇/1.jpg.zip\n",
      "comics/huiye/周刊128/16.jpg.zip\n",
      "comics/huiye/周刊128/13.jpg.zip\n",
      "comics/huiye/周刊128/5.jpg.zip\n",
      "comics/huiye/周刊128/8.jpg.zip\n",
      "comics/huiye/周刊128/18.jpg.zip\n",
      "comics/huiye/周刊128/11.jpg.zip\n",
      "comics/huiye/周刊128/3.jpg.zip\n",
      "comics/huiye/周刊128/2.jpg.zip\n",
      "comics/huiye/周刊128/15.jpg.zip\n",
      "comics/huiye/周刊128/6.jpg.zip\n",
      "comics/huiye/周刊128/7.jpg.zip\n",
      "comics/huiye/周刊128/12.jpg.zip\n",
      "comics/huiye/周刊128/19.jpg.zip\n",
      "comics/huiye/周刊128/4.jpg.zip\n",
      "comics/huiye/周刊128/10.jpg.zip\n",
      "comics/huiye/周刊128/14.jpg.zip\n",
      "comics/huiye/周刊128/9.jpg.zip\n",
      "comics/huiye/周刊128/1.jpg.zip\n",
      "comics/huiye/周刊128/17.jpg.zip\n",
      "comics/huiye/周刊版102話/16.jpg.zip\n",
      "comics/huiye/周刊版102話/13.jpg.zip\n",
      "comics/huiye/周刊版102話/5.jpg.zip\n",
      "comics/huiye/周刊版102話/8.jpg.zip\n",
      "comics/huiye/周刊版102話/18.jpg.zip\n",
      "comics/huiye/周刊版102話/11.jpg.zip\n",
      "comics/huiye/周刊版102話/3.jpg.zip\n",
      "comics/huiye/周刊版102話/2.jpg.zip\n",
      "comics/huiye/周刊版102話/15.jpg.zip\n",
      "comics/huiye/周刊版102話/6.jpg.zip\n",
      "comics/huiye/周刊版102話/7.jpg.zip\n",
      "comics/huiye/周刊版102話/12.jpg.zip\n",
      "comics/huiye/周刊版102話/19.jpg.zip\n",
      "comics/huiye/周刊版102話/4.jpg.zip\n",
      "comics/huiye/周刊版102話/10.jpg.zip\n",
      "comics/huiye/周刊版102話/14.jpg.zip\n",
      "comics/huiye/周刊版102話/9.jpg.zip\n",
      "comics/huiye/周刊版102話/1.jpg.zip\n",
      "comics/huiye/周刊版102話/17.jpg.zip\n",
      "comics/huiye/周刊129/16.jpg.zip\n",
      "comics/huiye/周刊129/13.jpg.zip\n",
      "comics/huiye/周刊129/5.jpg.zip\n",
      "comics/huiye/周刊129/8.jpg.zip\n",
      "comics/huiye/周刊129/18.jpg.zip\n",
      "comics/huiye/周刊129/11.jpg.zip\n",
      "comics/huiye/周刊129/3.jpg.zip\n",
      "comics/huiye/周刊129/2.jpg.zip\n",
      "comics/huiye/周刊129/15.jpg.zip\n",
      "comics/huiye/周刊129/6.jpg.zip\n",
      "comics/huiye/周刊129/7.jpg.zip\n",
      "comics/huiye/周刊129/12.jpg.zip\n",
      "comics/huiye/周刊129/19.jpg.zip\n",
      "comics/huiye/周刊129/4.jpg.zip\n",
      "comics/huiye/周刊129/10.jpg.zip\n",
      "comics/huiye/周刊129/14.jpg.zip\n",
      "comics/huiye/周刊129/9.jpg.zip\n",
      "comics/huiye/周刊129/1.jpg.zip\n",
      "comics/huiye/周刊129/17.jpg.zip\n",
      "comics/huiye/周刊133/16.jpg.zip\n",
      "comics/huiye/周刊133/13.jpg.zip\n",
      "comics/huiye/周刊133/5.jpg.zip\n",
      "comics/huiye/周刊133/8.jpg.zip\n",
      "comics/huiye/周刊133/18.jpg.zip\n",
      "comics/huiye/周刊133/11.jpg.zip\n",
      "comics/huiye/周刊133/3.jpg.zip\n",
      "comics/huiye/周刊133/2.jpg.zip\n",
      "comics/huiye/周刊133/15.jpg.zip\n",
      "comics/huiye/周刊133/6.jpg.zip\n",
      "comics/huiye/周刊133/7.jpg.zip\n",
      "comics/huiye/周刊133/12.jpg.zip\n",
      "comics/huiye/周刊133/19.jpg.zip\n",
      "comics/huiye/周刊133/4.jpg.zip\n",
      "comics/huiye/周刊133/10.jpg.zip\n",
      "comics/huiye/周刊133/14.jpg.zip\n",
      "comics/huiye/周刊133/9.jpg.zip\n",
      "comics/huiye/周刊133/1.jpg.zip\n",
      "comics/huiye/周刊133/17.jpg.zip\n",
      "comics/huiye/周刊版92話 /16.jpg.zip\n",
      "comics/huiye/周刊版92話 /13.jpg.zip\n",
      "comics/huiye/周刊版92話 /5.jpg.zip\n",
      "comics/huiye/周刊版92話 /20.jpg.zip\n",
      "comics/huiye/周刊版92話 /21.jpg.zip\n",
      "comics/huiye/周刊版92話 /22.jpg.zip\n",
      "comics/huiye/周刊版92話 /8.jpg.zip\n",
      "comics/huiye/周刊版92話 /18.jpg.zip\n",
      "comics/huiye/周刊版92話 /11.jpg.zip\n",
      "comics/huiye/周刊版92話 /3.jpg.zip\n",
      "comics/huiye/周刊版92話 /2.jpg.zip\n",
      "comics/huiye/周刊版92話 /15.jpg.zip\n",
      "comics/huiye/周刊版92話 /6.jpg.zip\n",
      "comics/huiye/周刊版92話 /7.jpg.zip\n",
      "comics/huiye/周刊版92話 /12.jpg.zip\n",
      "comics/huiye/周刊版92話 /19.jpg.zip\n",
      "comics/huiye/周刊版92話 /4.jpg.zip\n",
      "comics/huiye/周刊版92話 /10.jpg.zip\n",
      "comics/huiye/周刊版92話 /14.jpg.zip\n",
      "comics/huiye/周刊版92話 /9.jpg.zip\n",
      "comics/huiye/周刊版92話 /1.jpg.zip\n",
      "comics/huiye/周刊版92話 /17.jpg.zip\n",
      "comics/huiye/周刊版93話 /16.jpg.zip\n",
      "comics/huiye/周刊版93話 /13.jpg.zip\n",
      "comics/huiye/周刊版93話 /5.jpg.zip\n",
      "comics/huiye/周刊版93話 /8.jpg.zip\n",
      "comics/huiye/周刊版93話 /18.jpg.zip\n",
      "comics/huiye/周刊版93話 /11.jpg.zip\n",
      "comics/huiye/周刊版93話 /3.jpg.zip\n",
      "comics/huiye/周刊版93話 /2.jpg.zip\n",
      "comics/huiye/周刊版93話 /15.jpg.zip\n",
      "comics/huiye/周刊版93話 /6.jpg.zip\n",
      "comics/huiye/周刊版93話 /7.jpg.zip\n",
      "comics/huiye/周刊版93話 /12.jpg.zip\n",
      "comics/huiye/周刊版93話 /19.jpg.zip\n",
      "comics/huiye/周刊版93話 /4.jpg.zip\n",
      "comics/huiye/周刊版93話 /10.jpg.zip\n",
      "comics/huiye/周刊版93話 /14.jpg.zip\n",
      "comics/huiye/周刊版93話 /9.jpg.zip\n",
      "comics/huiye/周刊版93話 /1.jpg.zip\n",
      "comics/huiye/周刊版93話 /17.jpg.zip\n",
      "comics/huiye/周刊版95話/16.jpg.zip\n",
      "comics/huiye/周刊版95話/13.jpg.zip\n",
      "comics/huiye/周刊版95話/5.jpg.zip\n",
      "comics/huiye/周刊版95話/20.jpg.zip\n",
      "comics/huiye/周刊版95話/8.jpg.zip\n",
      "comics/huiye/周刊版95話/18.jpg.zip\n",
      "comics/huiye/周刊版95話/11.jpg.zip\n",
      "comics/huiye/周刊版95話/3.jpg.zip\n",
      "comics/huiye/周刊版95話/2.jpg.zip\n",
      "comics/huiye/周刊版95話/15.jpg.zip\n",
      "comics/huiye/周刊版95話/6.jpg.zip\n",
      "comics/huiye/周刊版95話/7.jpg.zip\n",
      "comics/huiye/周刊版95話/12.jpg.zip\n",
      "comics/huiye/周刊版95話/19.jpg.zip\n",
      "comics/huiye/周刊版95話/4.jpg.zip\n",
      "comics/huiye/周刊版95話/10.jpg.zip\n",
      "comics/huiye/周刊版95話/14.jpg.zip\n",
      "comics/huiye/周刊版95話/9.jpg.zip\n"
     ]
    },
    {
     "name": "stdout",
     "output_type": "stream",
     "text": [
      "comics/huiye/周刊版95話/1.jpg.zip\n",
      "comics/huiye/周刊版95話/17.jpg.zip\n",
      "comics/huiye/周刊110話 /16.jpg.zip\n",
      "comics/huiye/周刊110話 /13.jpg.zip\n",
      "comics/huiye/周刊110話 /5.jpg.zip\n",
      "comics/huiye/周刊110話 /8.jpg.zip\n",
      "comics/huiye/周刊110話 /18.jpg.zip\n",
      "comics/huiye/周刊110話 /11.jpg.zip\n",
      "comics/huiye/周刊110話 /3.jpg.zip\n",
      "comics/huiye/周刊110話 /2.jpg.zip\n",
      "comics/huiye/周刊110話 /15.jpg.zip\n",
      "comics/huiye/周刊110話 /6.jpg.zip\n",
      "comics/huiye/周刊110話 /7.jpg.zip\n",
      "comics/huiye/周刊110話 /12.jpg.zip\n",
      "comics/huiye/周刊110話 /19.jpg.zip\n",
      "comics/huiye/周刊110話 /4.jpg.zip\n",
      "comics/huiye/周刊110話 /10.jpg.zip\n",
      "comics/huiye/周刊110話 /14.jpg.zip\n",
      "comics/huiye/周刊110話 /9.jpg.zip\n",
      "comics/huiye/周刊110話 /1.jpg.zip\n",
      "comics/huiye/周刊110話 /17.jpg.zip\n",
      "comics/huiye/周刊版82話/16.jpg.zip\n",
      "comics/huiye/周刊版82話/13.jpg.zip\n",
      "comics/huiye/周刊版82話/5.jpg.zip\n",
      "comics/huiye/周刊版82話/8.jpg.zip\n",
      "comics/huiye/周刊版82話/18.jpg.zip\n",
      "comics/huiye/周刊版82話/11.jpg.zip\n",
      "comics/huiye/周刊版82話/3.jpg.zip\n",
      "comics/huiye/周刊版82話/2.jpg.zip\n",
      "comics/huiye/周刊版82話/15.jpg.zip\n",
      "comics/huiye/周刊版82話/6.jpg.zip\n",
      "comics/huiye/周刊版82話/7.jpg.zip\n",
      "comics/huiye/周刊版82話/12.jpg.zip\n",
      "comics/huiye/周刊版82話/19.jpg.zip\n",
      "comics/huiye/周刊版82話/4.jpg.zip\n",
      "comics/huiye/周刊版82話/10.jpg.zip\n",
      "comics/huiye/周刊版82話/14.jpg.zip\n",
      "comics/huiye/周刊版82話/9.jpg.zip\n",
      "comics/huiye/周刊版82話/1.jpg.zip\n",
      "comics/huiye/周刊版82話/17.jpg.zip\n",
      "comics/huiye/周刊版99話/16.jpg.zip\n",
      "comics/huiye/周刊版99話/13.jpg.zip\n",
      "comics/huiye/周刊版99話/5.jpg.zip\n",
      "comics/huiye/周刊版99話/8.jpg.zip\n",
      "comics/huiye/周刊版99話/18.jpg.zip\n",
      "comics/huiye/周刊版99話/11.jpg.zip\n",
      "comics/huiye/周刊版99話/3.jpg.zip\n",
      "comics/huiye/周刊版99話/2.jpg.zip\n",
      "comics/huiye/周刊版99話/15.jpg.zip\n",
      "comics/huiye/周刊版99話/6.jpg.zip\n",
      "comics/huiye/周刊版99話/7.jpg.zip\n",
      "comics/huiye/周刊版99話/12.jpg.zip\n",
      "comics/huiye/周刊版99話/19.jpg.zip\n",
      "comics/huiye/周刊版99話/4.jpg.zip\n",
      "comics/huiye/周刊版99話/10.jpg.zip\n",
      "comics/huiye/周刊版99話/14.jpg.zip\n",
      "comics/huiye/周刊版99話/9.jpg.zip\n",
      "comics/huiye/周刊版99話/1.jpg.zip\n",
      "comics/huiye/周刊版99話/17.jpg.zip\n",
      "comics/huiye/周刊147/16.jpg.zip\n",
      "comics/huiye/周刊147/13.jpg.zip\n",
      "comics/huiye/周刊147/5.jpg.zip\n",
      "comics/huiye/周刊147/8.jpg.zip\n",
      "comics/huiye/周刊147/18.jpg.zip\n",
      "comics/huiye/周刊147/11.jpg.zip\n",
      "comics/huiye/周刊147/3.jpg.zip\n",
      "comics/huiye/周刊147/2.jpg.zip\n",
      "comics/huiye/周刊147/15.jpg.zip\n",
      "comics/huiye/周刊147/6.jpg.zip\n",
      "comics/huiye/周刊147/7.jpg.zip\n",
      "comics/huiye/周刊147/12.jpg.zip\n",
      "comics/huiye/周刊147/19.jpg.zip\n",
      "comics/huiye/周刊147/4.jpg.zip\n",
      "comics/huiye/周刊147/10.jpg.zip\n",
      "comics/huiye/周刊147/14.jpg.zip\n",
      "comics/huiye/周刊147/9.jpg.zip\n",
      "comics/huiye/周刊147/1.jpg.zip\n",
      "comics/huiye/周刊147/17.jpg.zip\n",
      "comics/huiye/周刊167話/16.jpg.zip\n",
      "comics/huiye/周刊167話/13.jpg.zip\n",
      "comics/huiye/周刊167話/5.jpg.zip\n",
      "comics/huiye/周刊167話/8.jpg.zip\n",
      "comics/huiye/周刊167話/18.jpg.zip\n",
      "comics/huiye/周刊167話/11.jpg.zip\n",
      "comics/huiye/周刊167話/3.jpg.zip\n",
      "comics/huiye/周刊167話/2.jpg.zip\n",
      "comics/huiye/周刊167話/15.jpg.zip\n",
      "comics/huiye/周刊167話/6.jpg.zip\n",
      "comics/huiye/周刊167話/7.jpg.zip\n",
      "comics/huiye/周刊167話/12.jpg.zip\n",
      "comics/huiye/周刊167話/19.jpg.zip\n",
      "comics/huiye/周刊167話/4.jpg.zip\n",
      "comics/huiye/周刊167話/10.jpg.zip\n",
      "comics/huiye/周刊167話/14.jpg.zip\n",
      "comics/huiye/周刊167話/9.jpg.zip\n",
      "comics/huiye/周刊167話/1.jpg.zip\n",
      "comics/huiye/周刊167話/17.jpg.zip\n",
      "comics/huiye/周刊108話/16.jpg.zip\n",
      "comics/huiye/周刊108話/13.jpg.zip\n",
      "comics/huiye/周刊108話/5.jpg.zip\n",
      "comics/huiye/周刊108話/8.jpg.zip\n",
      "comics/huiye/周刊108話/18.jpg.zip\n",
      "comics/huiye/周刊108話/11.jpg.zip\n",
      "comics/huiye/周刊108話/3.jpg.zip\n",
      "comics/huiye/周刊108話/2.jpg.zip\n",
      "comics/huiye/周刊108話/15.jpg.zip\n",
      "comics/huiye/周刊108話/6.jpg.zip\n",
      "comics/huiye/周刊108話/7.jpg.zip\n",
      "comics/huiye/周刊108話/12.jpg.zip\n",
      "comics/huiye/周刊108話/19.jpg.zip\n",
      "comics/huiye/周刊108話/4.jpg.zip\n",
      "comics/huiye/周刊108話/10.jpg.zip\n",
      "comics/huiye/周刊108話/14.jpg.zip\n",
      "comics/huiye/周刊108話/9.jpg.zip\n",
      "comics/huiye/周刊108話/1.jpg.zip\n",
      "comics/huiye/周刊108話/17.jpg.zip\n",
      "comics/huiye/周刊130/16.jpg.zip\n",
      "comics/huiye/周刊130/13.jpg.zip\n",
      "comics/huiye/周刊130/5.jpg.zip\n",
      "comics/huiye/周刊130/20.jpg.zip\n",
      "comics/huiye/周刊130/8.jpg.zip\n",
      "comics/huiye/周刊130/18.jpg.zip\n",
      "comics/huiye/周刊130/11.jpg.zip\n",
      "comics/huiye/周刊130/3.jpg.zip\n",
      "comics/huiye/周刊130/2.jpg.zip\n",
      "comics/huiye/周刊130/15.jpg.zip\n",
      "comics/huiye/周刊130/6.jpg.zip\n",
      "comics/huiye/周刊130/7.jpg.zip\n",
      "comics/huiye/周刊130/12.jpg.zip\n",
      "comics/huiye/周刊130/19.jpg.zip\n",
      "comics/huiye/周刊130/4.jpg.zip\n",
      "comics/huiye/周刊130/10.jpg.zip\n",
      "comics/huiye/周刊130/14.jpg.zip\n",
      "comics/huiye/周刊130/9.jpg.zip\n",
      "comics/huiye/周刊130/1.jpg.zip\n",
      "comics/huiye/周刊130/17.jpg.zip\n",
      "comics/huiye/周刊116話/16.jpg.zip\n",
      "comics/huiye/周刊116話/13.jpg.zip\n",
      "comics/huiye/周刊116話/5.jpg.zip\n",
      "comics/huiye/周刊116話/8.jpg.zip\n",
      "comics/huiye/周刊116話/18.jpg.zip\n",
      "comics/huiye/周刊116話/11.jpg.zip\n",
      "comics/huiye/周刊116話/3.jpg.zip\n",
      "comics/huiye/周刊116話/2.jpg.zip\n",
      "comics/huiye/周刊116話/15.jpg.zip\n",
      "comics/huiye/周刊116話/6.jpg.zip\n",
      "comics/huiye/周刊116話/7.jpg.zip\n",
      "comics/huiye/周刊116話/12.jpg.zip\n",
      "comics/huiye/周刊116話/19.jpg.zip\n",
      "comics/huiye/周刊116話/4.jpg.zip\n",
      "comics/huiye/周刊116話/10.jpg.zip\n",
      "comics/huiye/周刊116話/14.jpg.zip\n",
      "comics/huiye/周刊116話/9.jpg.zip\n",
      "comics/huiye/周刊116話/1.jpg.zip\n",
      "comics/huiye/周刊116話/17.jpg.zip\n",
      "comics/huiye/周刊154/16.jpg.zip\n",
      "comics/huiye/周刊154/13.jpg.zip\n",
      "comics/huiye/周刊154/5.jpg.zip\n",
      "comics/huiye/周刊154/20.jpg.zip\n",
      "comics/huiye/周刊154/21.jpg.zip\n",
      "comics/huiye/周刊154/8.jpg.zip\n",
      "comics/huiye/周刊154/18.jpg.zip\n",
      "comics/huiye/周刊154/11.jpg.zip\n",
      "comics/huiye/周刊154/3.jpg.zip\n",
      "comics/huiye/周刊154/2.jpg.zip\n",
      "comics/huiye/周刊154/15.jpg.zip\n",
      "comics/huiye/周刊154/6.jpg.zip\n",
      "comics/huiye/周刊154/7.jpg.zip\n",
      "comics/huiye/周刊154/12.jpg.zip\n",
      "comics/huiye/周刊154/19.jpg.zip\n",
      "comics/huiye/周刊154/4.jpg.zip\n",
      "comics/huiye/周刊154/10.jpg.zip\n",
      "comics/huiye/周刊154/14.jpg.zip\n",
      "comics/huiye/周刊154/9.jpg.zip\n",
      "comics/huiye/周刊154/1.jpg.zip\n",
      "comics/huiye/周刊154/17.jpg.zip\n",
      "comics/huiye/周刊180/16.jpg.zip\n",
      "comics/huiye/周刊180/13.jpg.zip\n",
      "comics/huiye/周刊180/5.jpg.zip\n",
      "comics/huiye/周刊180/8.jpg.zip\n",
      "comics/huiye/周刊180/18.jpg.zip\n",
      "comics/huiye/周刊180/11.jpg.zip\n",
      "comics/huiye/周刊180/3.jpg.zip\n",
      "comics/huiye/周刊180/2.jpg.zip\n",
      "comics/huiye/周刊180/15.jpg.zip\n",
      "comics/huiye/周刊180/6.jpg.zip\n",
      "comics/huiye/周刊180/7.jpg.zip\n",
      "comics/huiye/周刊180/12.jpg.zip\n",
      "comics/huiye/周刊180/19.jpg.zip\n",
      "comics/huiye/周刊180/4.jpg.zip\n",
      "comics/huiye/周刊180/10.jpg.zip\n",
      "comics/huiye/周刊180/14.jpg.zip\n",
      "comics/huiye/周刊180/9.jpg.zip\n",
      "comics/huiye/周刊180/1.jpg.zip\n",
      "comics/huiye/周刊180/17.jpg.zip\n",
      "comics/huiye/周刊126/16.jpg.zip\n",
      "comics/huiye/周刊126/13.jpg.zip\n",
      "comics/huiye/周刊126/5.jpg.zip\n",
      "comics/huiye/周刊126/20.jpg.zip\n",
      "comics/huiye/周刊126/21.jpg.zip\n",
      "comics/huiye/周刊126/22.jpg.zip\n",
      "comics/huiye/周刊126/8.jpg.zip\n",
      "comics/huiye/周刊126/18.jpg.zip\n",
      "comics/huiye/周刊126/11.jpg.zip\n",
      "comics/huiye/周刊126/3.jpg.zip\n",
      "comics/huiye/周刊126/2.jpg.zip\n",
      "comics/huiye/周刊126/15.jpg.zip\n",
      "comics/huiye/周刊126/6.jpg.zip\n",
      "comics/huiye/周刊126/7.jpg.zip\n",
      "comics/huiye/周刊126/12.jpg.zip\n",
      "comics/huiye/周刊126/19.jpg.zip\n",
      "comics/huiye/周刊126/4.jpg.zip\n",
      "comics/huiye/周刊126/10.jpg.zip\n",
      "comics/huiye/周刊126/14.jpg.zip\n",
      "comics/huiye/周刊126/9.jpg.zip\n",
      "comics/huiye/周刊126/1.jpg.zip\n",
      "comics/huiye/周刊126/17.jpg.zip\n",
      "comics/huiye/周刊175/16.jpg.zip\n",
      "comics/huiye/周刊175/13.jpg.zip\n",
      "comics/huiye/周刊175/5.jpg.zip\n",
      "comics/huiye/周刊175/20.jpg.zip\n",
      "comics/huiye/周刊175/21.jpg.zip\n",
      "comics/huiye/周刊175/22.jpg.zip\n",
      "comics/huiye/周刊175/8.jpg.zip\n",
      "comics/huiye/周刊175/18.jpg.zip\n",
      "comics/huiye/周刊175/11.jpg.zip\n",
      "comics/huiye/周刊175/3.jpg.zip\n",
      "comics/huiye/周刊175/2.jpg.zip\n",
      "comics/huiye/周刊175/15.jpg.zip\n",
      "comics/huiye/周刊175/6.jpg.zip\n",
      "comics/huiye/周刊175/7.jpg.zip\n",
      "comics/huiye/周刊175/12.jpg.zip\n",
      "comics/huiye/周刊175/19.jpg.zip\n",
      "comics/huiye/周刊175/4.jpg.zip\n",
      "comics/huiye/周刊175/10.jpg.zip\n",
      "comics/huiye/周刊175/14.jpg.zip\n",
      "comics/huiye/周刊175/9.jpg.zip\n",
      "comics/huiye/周刊175/1.jpg.zip\n",
      "comics/huiye/周刊175/17.jpg.zip\n",
      "comics/huiye/周刊版90話 /16.jpg.zip\n",
      "comics/huiye/周刊版90話 /13.jpg.zip\n",
      "comics/huiye/周刊版90話 /5.jpg.zip\n",
      "comics/huiye/周刊版90話 /20.jpg.zip\n",
      "comics/huiye/周刊版90話 /8.jpg.zip\n",
      "comics/huiye/周刊版90話 /18.jpg.zip\n",
      "comics/huiye/周刊版90話 /11.jpg.zip\n",
      "comics/huiye/周刊版90話 /3.jpg.zip\n",
      "comics/huiye/周刊版90話 /2.jpg.zip\n",
      "comics/huiye/周刊版90話 /15.jpg.zip\n",
      "comics/huiye/周刊版90話 /6.jpg.zip\n",
      "comics/huiye/周刊版90話 /7.jpg.zip\n",
      "comics/huiye/周刊版90話 /12.jpg.zip\n",
      "comics/huiye/周刊版90話 /19.jpg.zip\n",
      "comics/huiye/周刊版90話 /4.jpg.zip\n",
      "comics/huiye/周刊版90話 /10.jpg.zip\n",
      "comics/huiye/周刊版90話 /14.jpg.zip\n",
      "comics/huiye/周刊版90話 /9.jpg.zip\n",
      "comics/huiye/周刊版90話 /1.jpg.zip\n",
      "comics/huiye/周刊版90話 /17.jpg.zip\n",
      "comics/huiye/周刊142/16.jpg.zip\n",
      "comics/huiye/周刊142/13.jpg.zip\n",
      "comics/huiye/周刊142/5.jpg.zip\n",
      "comics/huiye/周刊142/8.jpg.zip\n",
      "comics/huiye/周刊142/18.jpg.zip\n",
      "comics/huiye/周刊142/11.jpg.zip\n",
      "comics/huiye/周刊142/3.jpg.zip\n",
      "comics/huiye/周刊142/2.jpg.zip\n",
      "comics/huiye/周刊142/15.jpg.zip\n",
      "comics/huiye/周刊142/6.jpg.zip\n",
      "comics/huiye/周刊142/7.jpg.zip\n",
      "comics/huiye/周刊142/12.jpg.zip\n",
      "comics/huiye/周刊142/4.jpg.zip\n",
      "comics/huiye/周刊142/10.jpg.zip\n",
      "comics/huiye/周刊142/14.jpg.zip\n",
      "comics/huiye/周刊142/9.jpg.zip\n",
      "comics/huiye/周刊142/1.jpg.zip\n",
      "comics/huiye/周刊142/17.jpg.zip\n",
      "comics/huiye/周刊140/16.jpg.zip\n"
     ]
    },
    {
     "name": "stdout",
     "output_type": "stream",
     "text": [
      "comics/huiye/周刊140/13.jpg.zip\n",
      "comics/huiye/周刊140/5.jpg.zip\n",
      "comics/huiye/周刊140/20.jpg.zip\n",
      "comics/huiye/周刊140/21.jpg.zip\n",
      "comics/huiye/周刊140/8.jpg.zip\n",
      "comics/huiye/周刊140/18.jpg.zip\n",
      "comics/huiye/周刊140/11.jpg.zip\n",
      "comics/huiye/周刊140/3.jpg.zip\n",
      "comics/huiye/周刊140/2.jpg.zip\n",
      "comics/huiye/周刊140/15.jpg.zip\n",
      "comics/huiye/周刊140/6.jpg.zip\n",
      "comics/huiye/周刊140/7.jpg.zip\n",
      "comics/huiye/周刊140/12.jpg.zip\n",
      "comics/huiye/周刊140/19.jpg.zip\n",
      "comics/huiye/周刊140/4.jpg.zip\n",
      "comics/huiye/周刊140/10.jpg.zip\n",
      "comics/huiye/周刊140/14.jpg.zip\n",
      "comics/huiye/周刊140/9.jpg.zip\n",
      "comics/huiye/周刊140/1.jpg.zip\n",
      "comics/huiye/周刊140/17.jpg.zip\n",
      "comics/huiye/周刊137/16.jpg.zip\n",
      "comics/huiye/周刊137/13.jpg.zip\n",
      "comics/huiye/周刊137/5.jpg.zip\n",
      "comics/huiye/周刊137/8.jpg.zip\n",
      "comics/huiye/周刊137/18.jpg.zip\n",
      "comics/huiye/周刊137/11.jpg.zip\n",
      "comics/huiye/周刊137/3.jpg.zip\n",
      "comics/huiye/周刊137/2.jpg.zip\n",
      "comics/huiye/周刊137/15.jpg.zip\n",
      "comics/huiye/周刊137/6.jpg.zip\n",
      "comics/huiye/周刊137/7.jpg.zip\n",
      "comics/huiye/周刊137/12.jpg.zip\n",
      "comics/huiye/周刊137/19.jpg.zip\n",
      "comics/huiye/周刊137/4.jpg.zip\n",
      "comics/huiye/周刊137/10.jpg.zip\n",
      "comics/huiye/周刊137/14.jpg.zip\n",
      "comics/huiye/周刊137/9.jpg.zip\n",
      "comics/huiye/周刊137/1.jpg.zip\n",
      "comics/huiye/周刊137/17.jpg.zip\n",
      "comics/huiye/彩色版05話/16.jpg.zip\n",
      "comics/huiye/彩色版05話/13.jpg.zip\n",
      "comics/huiye/彩色版05話/5.jpg.zip\n",
      "comics/huiye/彩色版05話/20.jpg.zip\n",
      "comics/huiye/彩色版05話/21.jpg.zip\n",
      "comics/huiye/彩色版05話/22.jpg.zip\n",
      "comics/huiye/彩色版05話/8.jpg.zip\n",
      "comics/huiye/彩色版05話/23.jpg.zip\n",
      "comics/huiye/彩色版05話/18.jpg.zip\n",
      "comics/huiye/彩色版05話/11.jpg.zip\n",
      "comics/huiye/彩色版05話/3.jpg.zip\n",
      "comics/huiye/彩色版05話/2.jpg.zip\n",
      "comics/huiye/彩色版05話/15.jpg.zip\n",
      "comics/huiye/彩色版05話/6.jpg.zip\n",
      "comics/huiye/彩色版05話/7.jpg.zip\n",
      "comics/huiye/彩色版05話/12.jpg.zip\n",
      "comics/huiye/彩色版05話/19.jpg.zip\n",
      "comics/huiye/彩色版05話/4.jpg.zip\n",
      "comics/huiye/彩色版05話/10.jpg.zip\n",
      "comics/huiye/彩色版05話/14.jpg.zip\n",
      "comics/huiye/彩色版05話/9.jpg.zip\n",
      "comics/huiye/彩色版05話/1.jpg.zip\n",
      "comics/huiye/彩色版05話/17.jpg.zip\n",
      "comics/huiye/周刊143/16.jpg.zip\n",
      "comics/huiye/周刊143/13.jpg.zip\n",
      "comics/huiye/周刊143/5.jpg.zip\n",
      "comics/huiye/周刊143/8.jpg.zip\n",
      "comics/huiye/周刊143/18.jpg.zip\n",
      "comics/huiye/周刊143/11.jpg.zip\n",
      "comics/huiye/周刊143/3.jpg.zip\n",
      "comics/huiye/周刊143/2.jpg.zip\n",
      "comics/huiye/周刊143/15.jpg.zip\n",
      "comics/huiye/周刊143/6.jpg.zip\n",
      "comics/huiye/周刊143/7.jpg.zip\n",
      "comics/huiye/周刊143/12.jpg.zip\n",
      "comics/huiye/周刊143/4.jpg.zip\n",
      "comics/huiye/周刊143/10.jpg.zip\n",
      "comics/huiye/周刊143/14.jpg.zip\n",
      "comics/huiye/周刊143/9.jpg.zip\n",
      "comics/huiye/周刊143/1.jpg.zip\n",
      "comics/huiye/周刊143/17.jpg.zip\n",
      "comics/huiye/周刊177/16.jpg.zip\n",
      "comics/huiye/周刊177/13.jpg.zip\n",
      "comics/huiye/周刊177/5.jpg.zip\n",
      "comics/huiye/周刊177/8.jpg.zip\n",
      "comics/huiye/周刊177/18.jpg.zip\n",
      "comics/huiye/周刊177/11.jpg.zip\n",
      "comics/huiye/周刊177/3.jpg.zip\n",
      "comics/huiye/周刊177/2.jpg.zip\n",
      "comics/huiye/周刊177/15.jpg.zip\n",
      "comics/huiye/周刊177/6.jpg.zip\n",
      "comics/huiye/周刊177/7.jpg.zip\n",
      "comics/huiye/周刊177/12.jpg.zip\n",
      "comics/huiye/周刊177/19.jpg.zip\n",
      "comics/huiye/周刊177/4.jpg.zip\n",
      "comics/huiye/周刊177/10.jpg.zip\n",
      "comics/huiye/周刊177/14.jpg.zip\n",
      "comics/huiye/周刊177/9.jpg.zip\n",
      "comics/huiye/周刊177/1.jpg.zip\n",
      "comics/huiye/周刊177/17.jpg.zip\n",
      "comics/huiye/周刊131/16.jpg.zip\n",
      "comics/huiye/周刊131/13.jpg.zip\n",
      "comics/huiye/周刊131/5.jpg.zip\n",
      "comics/huiye/周刊131/8.jpg.zip\n",
      "comics/huiye/周刊131/18.jpg.zip\n",
      "comics/huiye/周刊131/11.jpg.zip\n",
      "comics/huiye/周刊131/3.jpg.zip\n",
      "comics/huiye/周刊131/2.jpg.zip\n",
      "comics/huiye/周刊131/15.jpg.zip\n",
      "comics/huiye/周刊131/6.jpg.zip\n",
      "comics/huiye/周刊131/7.jpg.zip\n",
      "comics/huiye/周刊131/12.jpg.zip\n",
      "comics/huiye/周刊131/19.jpg.zip\n",
      "comics/huiye/周刊131/4.jpg.zip\n",
      "comics/huiye/周刊131/10.jpg.zip\n",
      "comics/huiye/周刊131/14.jpg.zip\n",
      "comics/huiye/周刊131/9.jpg.zip\n",
      "comics/huiye/周刊131/1.jpg.zip\n",
      "comics/huiye/周刊131/17.jpg.zip\n",
      "comics/huiye/周刊版105話/16.jpg.zip\n",
      "comics/huiye/周刊版105話/13.jpg.zip\n",
      "comics/huiye/周刊版105話/5.jpg.zip\n",
      "comics/huiye/周刊版105話/8.jpg.zip\n",
      "comics/huiye/周刊版105話/18.jpg.zip\n",
      "comics/huiye/周刊版105話/11.jpg.zip\n",
      "comics/huiye/周刊版105話/3.jpg.zip\n",
      "comics/huiye/周刊版105話/2.jpg.zip\n",
      "comics/huiye/周刊版105話/15.jpg.zip\n",
      "comics/huiye/周刊版105話/6.jpg.zip\n",
      "comics/huiye/周刊版105話/7.jpg.zip\n",
      "comics/huiye/周刊版105話/12.jpg.zip\n",
      "comics/huiye/周刊版105話/19.jpg.zip\n",
      "comics/huiye/周刊版105話/4.jpg.zip\n",
      "comics/huiye/周刊版105話/10.jpg.zip\n",
      "comics/huiye/周刊版105話/14.jpg.zip\n",
      "comics/huiye/周刊版105話/9.jpg.zip\n",
      "comics/huiye/周刊版105話/1.jpg.zip\n",
      "comics/huiye/周刊版105話/17.jpg.zip\n",
      "comics/huiye/周刊版96話/16.jpg.zip\n",
      "comics/huiye/周刊版96話/13.jpg.zip\n",
      "comics/huiye/周刊版96話/5.jpg.zip\n",
      "comics/huiye/周刊版96話/8.jpg.zip\n",
      "comics/huiye/周刊版96話/18.jpg.zip\n",
      "comics/huiye/周刊版96話/11.jpg.zip\n",
      "comics/huiye/周刊版96話/3.jpg.zip\n",
      "comics/huiye/周刊版96話/2.jpg.zip\n",
      "comics/huiye/周刊版96話/15.jpg.zip\n",
      "comics/huiye/周刊版96話/6.jpg.zip\n",
      "comics/huiye/周刊版96話/7.jpg.zip\n",
      "comics/huiye/周刊版96話/12.jpg.zip\n",
      "comics/huiye/周刊版96話/19.jpg.zip\n",
      "comics/huiye/周刊版96話/4.jpg.zip\n",
      "comics/huiye/周刊版96話/10.jpg.zip\n",
      "comics/huiye/周刊版96話/14.jpg.zip\n",
      "comics/huiye/周刊版96話/9.jpg.zip\n",
      "comics/huiye/周刊版96話/1.jpg.zip\n",
      "comics/huiye/周刊版96話/17.jpg.zip\n",
      "comics/huiye/周刊160/16.jpg.zip\n",
      "comics/huiye/周刊160/13.jpg.zip\n",
      "comics/huiye/周刊160/5.jpg.zip\n",
      "comics/huiye/周刊160/20.jpg.zip\n",
      "comics/huiye/周刊160/8.jpg.zip\n",
      "comics/huiye/周刊160/18.jpg.zip\n",
      "comics/huiye/周刊160/11.jpg.zip\n",
      "comics/huiye/周刊160/3.jpg.zip\n",
      "comics/huiye/周刊160/2.jpg.zip\n",
      "comics/huiye/周刊160/15.jpg.zip\n",
      "comics/huiye/周刊160/6.jpg.zip\n",
      "comics/huiye/周刊160/7.jpg.zip\n",
      "comics/huiye/周刊160/12.jpg.zip\n",
      "comics/huiye/周刊160/19.jpg.zip\n",
      "comics/huiye/周刊160/4.jpg.zip\n",
      "comics/huiye/周刊160/10.jpg.zip\n",
      "comics/huiye/周刊160/14.jpg.zip\n",
      "comics/huiye/周刊160/9.jpg.zip\n",
      "comics/huiye/周刊160/1.jpg.zip\n",
      "comics/huiye/周刊160/17.jpg.zip\n",
      "comics/huiye/周刊122/16.jpg.zip\n",
      "comics/huiye/周刊122/13.jpg.zip\n",
      "comics/huiye/周刊122/5.jpg.zip\n",
      "comics/huiye/周刊122/20.jpg.zip\n",
      "comics/huiye/周刊122/21.jpg.zip\n",
      "comics/huiye/周刊122/8.jpg.zip\n",
      "comics/huiye/周刊122/18.jpg.zip\n",
      "comics/huiye/周刊122/11.jpg.zip\n",
      "comics/huiye/周刊122/3.jpg.zip\n",
      "comics/huiye/周刊122/2.jpg.zip\n",
      "comics/huiye/周刊122/15.jpg.zip\n",
      "comics/huiye/周刊122/6.jpg.zip\n",
      "comics/huiye/周刊122/7.jpg.zip\n",
      "comics/huiye/周刊122/12.jpg.zip\n",
      "comics/huiye/周刊122/19.jpg.zip\n",
      "comics/huiye/周刊122/4.jpg.zip\n",
      "comics/huiye/周刊122/10.jpg.zip\n",
      "comics/huiye/周刊122/14.jpg.zip\n",
      "comics/huiye/周刊122/9.jpg.zip\n",
      "comics/huiye/周刊122/1.jpg.zip\n",
      "comics/huiye/周刊122/17.jpg.zip\n"
     ]
    }
   ],
   "source": [
    "import zipfile\n",
    "\n",
    "def zipdir(path, ziph):\n",
    "    # ziph is zipfile handle\n",
    "    for root, dirs, files in os.walk(path):\n",
    "        for file in files:\n",
    "            print (os.path.join(root, file+'.zip'))\n",
    "            ziph.write(os.path.join(root, file))\n",
    "for i in tqdm(os.listdir(basedir)):\n",
    "    zipf = zipfile.ZipFile(basedir+i+'.zip', 'w', zipfile.ZIP_DEFLATED)\n",
    "    zipdir(basedir+i, zipf)"
   ]
  },
  {
   "cell_type": "code",
   "execution_count": 17,
   "metadata": {},
   "outputs": [
    {
     "data": {
      "application/vnd.jupyter.widget-view+json": {
       "model_id": "d3a06c7ad303457996b5acc3a0ffa412",
       "version_major": 2,
       "version_minor": 0
      },
      "text/plain": [
       "HBox(children=(FloatProgress(value=0.0, max=238.0), HTML(value='')))"
      ]
     },
     "metadata": {},
     "output_type": "display_data"
    },
    {
     "name": "stdout",
     "output_type": "stream",
     "text": [
      "周刊138.zip\n",
      "周刊112.zip\n",
      "周刊117話.zip\n",
      "周刊165.zip\n",
      "周刊160.zip\n",
      "周刊179.zip\n",
      "周刊152.zip\n",
      "周刊137.zip\n",
      "周刊版103話.zip\n",
      "周刊141.zip\n",
      "周刊176.zip\n",
      "周刊185.zip\n",
      "周刊167話.zip\n",
      "彩色版02話.zip\n",
      "周刊175.zip\n",
      "彩色版04話.zip\n",
      "周刊109話 .zip\n",
      "周刊159.zip\n",
      "周刊版91話 .zip\n",
      "周刊107話.zip\n",
      "周刊155.zip\n",
      "周刊106話.zip\n",
      "周刊181.zip\n",
      "周刊版87話.zip\n",
      "周刊版89話 .zip\n",
      "周刊版105話.zip\n",
      "周刊版97話.zip\n",
      "周刊版104話.zip\n",
      "周刊183.zip\n",
      "周刊182.zip\n",
      "周刊版100話.zip\n",
      "周刊128.zip\n",
      "周刊111話 .zip\n",
      "周刊123.zip\n",
      "周刊114話.zip\n",
      "周刊版83話.zip\n",
      "周刊129.zip\n",
      "周刊版88話.zip\n",
      "周刊120話.zip\n",
      "周刊版92話 .zip\n",
      "周刊116話.zip\n",
      "周刊154.zip\n",
      "周刊版80話.zip\n",
      "周刊版98話.zip\n",
      "彩色版01話.zip\n",
      "周刊127.zip\n",
      "周刊136.zip\n",
      "周刊版101話.zip\n",
      "周刊149.zip\n",
      "周刊151.zip\n",
      "彩色版03話.zip\n",
      "周刊113.zip\n",
      "周刊130.zip\n",
      "周刊174.zip\n",
      "周刊158.zip\n",
      "周刊163.zip\n",
      "周刊125.zip\n",
      "周刊184.zip\n",
      "動畫化決定.zip\n",
      "周刊178.zip\n",
      "周刊171.zip\n",
      "周刊版84話.zip\n",
      "周刊版85話.zip\n",
      "周刊108話.zip\n",
      "周刊版99.5話.zip\n",
      "周刊146.zip\n",
      "周刊版95話.zip\n",
      "周刊132.zip\n",
      "周刊153.zip\n",
      "周刊版99話.zip\n",
      "周刊173.zip\n",
      "周刊版93話 .zip\n",
      "周刊144.zip\n",
      "周刊版102話.zip\n",
      "周刊131.zip\n",
      "周刊版96話.zip\n",
      "周刊118.zip\n",
      "周刊115話.zip\n",
      "周刊147.zip\n",
      "周刊148.zip\n",
      "周刊170.zip\n",
      "周刊版81話.zip\n",
      "周刊142.zip\n",
      "周刊169.zip\n",
      "周刊162.zip\n",
      "周刊150.zip\n",
      "周刊110話 .zip\n",
      "周刊180.zip\n",
      "周刊版82話.zip\n",
      "周刊157.zip\n",
      "周刊134.zip\n",
      "周刊版90話 .zip\n",
      "周刊168.zip\n",
      "周刊145.zip\n",
      "周刊121話.zip\n",
      "周刊143.zip\n",
      "周刊133.zip\n",
      "番外篇.zip\n",
      "周刊135.zip\n",
      "周刊119話.zip\n",
      "周刊140.zip\n",
      "周刊版86話.zip\n",
      "周刊126.zip\n",
      "周刊122.zip\n",
      "周刊版94話 .zip\n",
      "周刊156.zip\n",
      "周刊161.zip\n",
      "周刊166話.zip\n",
      "彩色版05話.zip\n",
      "周刊172.zip\n",
      "周刊177.zip\n",
      "周刊124.zip\n",
      "YJ GOLD Vol.2 特別篇.zip\n",
      "周刊139.zip\n",
      "\n"
     ]
    }
   ],
   "source": [
    "os.mkdir(basedir+'cbr/')\n",
    "import shutil\n",
    "for i in tqdm(os.listdir(basedir)):\n",
    "    if i[-3:] =='zip':\n",
    "        print (i)\n",
    "        shutil.copy(basedir+i,basedir+'cbr/'+i[:-3]+'.cb')"
   ]
  },
  {
   "cell_type": "code",
   "execution_count": null,
   "metadata": {},
   "outputs": [],
   "source": []
  }
 ],
 "metadata": {
  "kernelspec": {
   "display_name": "Python 3",
   "language": "python",
   "name": "python3"
  },
  "language_info": {
   "codemirror_mode": {
    "name": "ipython",
    "version": 3
   },
   "file_extension": ".py",
   "mimetype": "text/x-python",
   "name": "python",
   "nbconvert_exporter": "python",
   "pygments_lexer": "ipython3",
   "version": "3.7.6"
  },
  "toc": {
   "base_numbering": 1,
   "nav_menu": {},
   "number_sections": true,
   "sideBar": true,
   "skip_h1_title": false,
   "title_cell": "Table of Contents",
   "title_sidebar": "Contents",
   "toc_cell": false,
   "toc_position": {},
   "toc_section_display": true,
   "toc_window_display": false
  }
 },
 "nbformat": 4,
 "nbformat_minor": 4
}
