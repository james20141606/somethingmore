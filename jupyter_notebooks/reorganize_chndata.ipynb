{
 "cells": [
  {
   "cell_type": "code",
   "execution_count": 20,
   "metadata": {},
   "outputs": [],
   "source": [
    "import pandas as pd\n",
    "import h5py\n",
    "import os\n",
    "from tqdm import tqdm_notebook as tqdm"
   ]
  },
  {
   "cell_type": "code",
   "execution_count": 2,
   "metadata": {},
   "outputs": [
    {
     "name": "stdout",
     "output_type": "stream",
     "text": [
      "/Share/home/chenxupeng/projects/economics\n"
     ]
    }
   ],
   "source": [
    "cd /Share/home/chenxupeng/projects/economics/"
   ]
  },
  {
   "cell_type": "code",
   "execution_count": 3,
   "metadata": {},
   "outputs": [],
   "source": [
    "countrys = np.array(['AUS', 'AUT', 'BEL', 'BGR', 'BRA', 'CAN', 'CHN', 'CYP', 'CZE',\n",
    "       'DEU', 'DNK', 'ESP','EST', 'FIN', 'FRA', 'GBR', 'GRC', 'HUN', 'IDN',\n",
    "       'IND', 'IRL', 'ITA', 'JPN', 'KOR', 'LTU', 'LUX', 'LVA', 'MEX',\n",
    "       'MLT', 'NLD', 'POL', 'PRT', 'ROM', 'RUS', 'SVK', 'SVN', 'SWE',\n",
    "       'TUR', 'TWN', 'USA', 'RoW'])\n",
    "indexnames = ['L3_1_DVA_FIN','L3_4_RDV','L3_6_FVA_INT','L3_2_DVA_INT',\n",
    "              'L3_5_FVA_FIN','L3_7_DDC','L3_3_DVA_INTrex','L3_5_MVA','L3_8_FDC']\n",
    "years = np.arange(1995,2012).astype('str')"
   ]
  },
  {
   "cell_type": "markdown",
   "metadata": {},
   "source": [
    "2*17*9*41*(35*35)\n",
    "to chn\n",
    "    year\n",
    "        coutry\n",
    "            index\n",
    "chn to \n",
    "    year\n",
    "        coutry\n",
    "            index"
   ]
  },
  {
   "cell_type": "code",
   "execution_count": 43,
   "metadata": {},
   "outputs": [],
   "source": [
    "def get_data(indexname,year,country,option):\n",
    "    '''\n",
    "    index \n",
    "    year \n",
    "    country you want like USA\n",
    "    option :tochn or chnto\n",
    "    2*17*9*41\n",
    "    '''\n",
    "    if option == 'tochn':\n",
    "        if os.path.exists('out/'+year+'/'+year+'_'+indexname+'_tochn.csv'):\n",
    "            data = pd.read_csv('out/'+year+'/'+year+'_'+indexname+'_tochn.csv')\n",
    "            ind =np.where(country==countrys)[0][0]\n",
    "            dat = np.array(data.iloc[:,35*ind+1:35*(ind+1)+1])\n",
    "            return True,dat, 'year: '+year+', indicator: '+indexname  +', country: '+country+' '+option,opt+'/'+year+'/'+country+'/'+index\n",
    "        else:\n",
    "            #print 'no such file: '+ 'out/'+year+'/'+year+'_'+indexname+'_tochn.csv'\n",
    "            return False,'no such file: '+ 'out/'+year+'/'+year+'_'+indexname+'_chnto.csv'\n",
    "    elif option =='chnto':\n",
    "        if os.path.exists('out/'+year+'/'+year+'_'+indexname+'_chnto.csv'):\n",
    "            data = pd.read_csv('out/'+year+'/'+year+'_'+indexname+'_chnto.csv')\n",
    "            ind =np.where(country==countrys)[0][0]\n",
    "            dat = np.array(data.iloc[:,35*ind+1:35*(ind+1)+1])\n",
    "            return True,dat, 'year: '+year+', indicator: '+indexname  +', country: '+country+' '+option,opt+'/'+year+'/'+country+'/'+index\n",
    "        else:\n",
    "            #print 'no such file: '+ 'out/'+year+'/'+year+'_'+indexname+'_chnto.csv'\n",
    "            return False,'no such file: '+ 'out/'+year+'/'+year+'_'+indexname+'_chnto.csv'"
   ]
  },
  {
   "cell_type": "code",
   "execution_count": 36,
   "metadata": {},
   "outputs": [
    {
     "data": {
      "text/plain": [
       "False"
      ]
     },
     "execution_count": 36,
     "metadata": {},
     "output_type": "execute_result"
    }
   ],
   "source": [
    "get_data(index,year,country,'tochn')[0]"
   ]
  },
  {
   "cell_type": "code",
   "execution_count": 42,
   "metadata": {},
   "outputs": [
    {
     "data": {
      "text/plain": [
       "array([[  1.90905557e+01,   1.19430321e-02,   2.01757813e+00, ...,\n",
       "          5.30062508e-05,   2.35545039e-03,   0.00000000e+00],\n",
       "       [  4.23728728e-01,   1.30431714e+01,   1.19100297e-01, ...,\n",
       "          5.30282035e-05,   4.29320213e-03,   0.00000000e+00],\n",
       "       [  8.71521431e-01,   8.16226639e-03,   4.30778097e+00, ...,\n",
       "          9.38582866e-05,   2.27704653e-03,   0.00000000e+00],\n",
       "       ..., \n",
       "       [  2.88496708e-03,   1.36754166e-03,   1.26546907e-03, ...,\n",
       "          9.79827926e-03,   1.36560684e-03,   0.00000000e+00],\n",
       "       [  2.23636839e-01,   1.43070819e-01,   1.47391827e-01, ...,\n",
       "          1.81869451e-04,   8.68167898e-01,   0.00000000e+00],\n",
       "       [  6.24949282e-03,   2.60943685e-03,   3.28098742e-03, ...,\n",
       "          3.72204796e-06,   7.11690072e-04,   0.00000000e+00]])"
      ]
     },
     "execution_count": 42,
     "metadata": {},
     "output_type": "execute_result"
    }
   ],
   "source": [
    "get_data('L3_4_RDV','1997','USA','tochn')[0]"
   ]
  },
  {
   "cell_type": "code",
   "execution_count": null,
   "metadata": {},
   "outputs": [],
   "source": [
    "with h5py.File('wholedata') as f:\n",
    "    for opt in tqdm(['tochn','chnto']):\n",
    "        for year in tqdm(years):\n",
    "            for country in tqdm(countrys):\n",
    "                for index in indexnames:\n",
    "                    if get_data(index,year,country,'tochn')[0]:\n",
    "                        f.create_dataset(get_data(index,year,country,'tochn')[3],data=get_data(index,year,country,'tochn')[1])\n",
    "                    else:\n",
    "                        get_data(index,year,country,'tochn')[1]"
   ]
  },
  {
   "cell_type": "code",
   "execution_count": null,
   "metadata": {},
   "outputs": [],
   "source": []
  }
 ],
 "metadata": {
  "anaconda-cloud": {},
  "kernelspec": {
   "display_name": "Python [conda root]",
   "language": "python",
   "name": "conda-root-py"
  }
 },
 "nbformat": 4,
 "nbformat_minor": 2
}
