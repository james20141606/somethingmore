{
 "cells": [
  {
   "cell_type": "markdown",
   "metadata": {},
   "source": [
    "<h1 align=\"center\">Tutorial for Box-X</h1>\n",
    "<div align=\"center\">\n",
    "  Tool-box for Efficient Build and Debug in Python. Especially for <strong>Scientific Computing</strong> and <strong>Computer Vision</strong>.\n",
    "</div>\n",
    "\n",
    "----\n",
    "We use [Binder](https://mybinder.org) to run this notebooks in an executable interactive online environment. That mean you can **run those cells rightnow** in your browser without download repository.\n",
    "\n",
    "\n",
    "This tutorial is divided into 2 parts by wether the tool is general:\n",
    "1. [**General Python Tool**](#1.-General-Python-Tool). The tools could be used anywhere in Python\n",
    "2. [**Scientific Computing and Computer Vision Tool**](#2.-Scientific-Computing-and-Computer-Vision-Tool). Those tools only be useful in Scientific Computing and Computer Vision field\n",
    "\n",
    "\n",
    "*P.S. This notebook compatible with Python 2/3*"
   ]
  },
  {
   "cell_type": "markdown",
   "metadata": {},
   "source": [
    "<p><!-- START <code>./other/generate_table_of_contents_for_ipynb.py</code> generated TOC please keep comment here to allow auto update -->\n",
    "<!-- DON'T EDIT THIS SECTION, INSTEAD RE-RUN <code>./other/generate_table_of_contents_for_ipynb.py</code> TO UPDATE --></p>\n",
    "\n",
    "<h2>Table of Contents</h2>\n",
    "\n",
    "<ul>\n",
    "<li><a href=\"#1.-General-Python-Tool\">1. General Python Tool</a>\n",
    "<ul>\n",
    "<li><a href=\"#▶-p-is-a-better-way-to-do-print\">▶ <code>p</code> is a better way to do <code>print</code></a></li>\n",
    "<li><a href=\"#▶-g-and-gg-could-transport-variable-to-Python-interactive-console\">▶ <code>g</code> and <code>gg</code> could transport variable to Python interactive console</a></li>\n",
    "<li><a href=\"#▶-Summary-for-debug-tools\">▶ Summary for debug tools</a></li>\n",
    "<li><a href=\"#▶-timeit-is-convenient-timing-tool-\">▶ <code>timeit</code> is convenient timing tool </a></li>\n",
    "<li><a href=\"#▶-mapmt-is-Multi-Threading-version-of-map\">▶ <code>mapmt</code> is Multi Threading version of <code>map</code></a></li>\n",
    "<li><a href=\"#▶-mapmp-is-Multi-Process-version-of-map\">▶ <code>mapmp</code> is Multi Process version of <code>map</code></a></li>\n",
    "<li><a href=\"#▶-x_-to-quick-build-function-without-lambda-x:\">▶ <code>x_</code> to quick build function without <code>lambda x:</code></a></li>\n",
    "<li><a href=\"#▶-mf-to-quick-add-magic-method-to-function\">▶ <code>mf</code> to quick add magic method to function</a></li>\n",
    "<li><a href=\"#▶-tree-to-visualization-complex-struct-in-tree-format\">▶ <code>tree</code> to visualization complex struct in tree format</a></li>\n",
    "<li><a href=\"#▶-dira(x)-to-show-x's-all-attribute\">▶ <code>dira(x)</code> to show <code>x</code>'s all attribute</a></li>\n",
    "<li><a href=\"#▶-what-to-know-&quot;What's-this?&quot;\">▶ <code>what</code> to know &quot;What's this?&quot;</a></li>\n",
    "<li><a href=\"#▶-logc-to-pretty-print-expression-by-show-every-variable's-value-in-expression\">▶ <code>logc</code> to pretty print expression by show every variable's value in expression</a></li>\n",
    "<li><a href=\"#▶-heatmap-to-show-the-time-heat-map-of-your-code\">▶ <code>heatmap</code> to show the time heat map of your code</a></li>\n",
    "<li><a href=\"#▶-performance-could-statistic-function-calls-and-visualize-code-performance\">▶ <code>performance</code> could statistic function calls and visualize code performance</a></li>\n",
    "<li><a href=\"#▶-dicto-is-a-convenient-version-of-dict\">▶ <code>dicto</code> is a convenient version of <code>dict</code></a></li>\n",
    "<li><a href=\"#▶-ll-is-a-convenient-tool-for-list\">▶ <code>ll</code> is a convenient tool for <code>list</code></a></li>\n",
    "<li><a href=\"#▶-sysi-include-many-infomation-about-operating-environment\">▶ <code>sysi</code> include many infomation about operating environment</a></li>\n",
    "</ul></li>\n",
    "<li><a href=\"#2.-Scientific-Computing-and-Computer-Vision-Tool\">2. Scientific Computing and Computer Vision Tool</a>\n",
    "<ul>\n",
    "<li><a href=\"#▶-loga-for-visualization-matrix-and-tensor\">▶ <code>loga</code> for visualization matrix and tensor</a></li>\n",
    "<li><a href=\"#▶-tree-to-visualization-complex-struct-for-Scientific-Computing\">▶ <code>tree</code> to visualization complex struct for Scientific Computing</a></li>\n",
    "<li><a href=\"#▶-show-is-easy-to-do-imshow,-even-images-are-in-complex-struct\">▶ <code>show</code> is easy to do <code>imshow</code>, even images are in complex struct</a></li>\n",
    "<li><a href=\"#▶-npa-transform-other-array-like-object-to-numpy-in-one-way\">▶ <code>npa</code> transform other array-like object to numpy in one way</a></li>\n",
    "</ul></li>\n",
    "</ul>"
   ]
  },
  {
   "cell_type": "markdown",
   "metadata": {},
   "source": [
    "## 1. General Python Tool"
   ]
  },
  {
   "cell_type": "markdown",
   "metadata": {},
   "source": [
    "### ▶ `p` is a better way to do `print`\n",
    "----\n",
    "#### 1. `p/x` will `print(x)` and return `x`"
   ]
  },
  {
   "cell_type": "code",
   "execution_count": 1,
   "metadata": {},
   "outputs": [
    {
     "name": "stdout",
     "output_type": "stream",
     "text": [
      "p/x will print(x) and return x\n"
     ]
    },
    {
     "data": {
      "text/plain": [
       "'p/x will print(x) and return x'"
      ]
     },
     "execution_count": 1,
     "metadata": {},
     "output_type": "execute_result"
    }
   ],
   "source": [
    "from boxx import p \n",
    "\n",
    "s = 'p/x will print(x) and return x'\n",
    "p/s"
   ]
  },
  {
   "cell_type": "code",
   "execution_count": 2,
   "metadata": {},
   "outputs": [
    {
     "name": "stdout",
     "output_type": "stream",
     "text": [
      "the output of randint(0, 3) is :\n",
      "1\n"
     ]
    },
    {
     "data": {
      "text/plain": [
       "'B'"
      ]
     },
     "execution_count": 2,
     "metadata": {},
     "output_type": "execute_result"
    }
   ],
   "source": [
    "from boxx import p \n",
    "from random import randint\n",
    "\n",
    "s = 'ABCD'\n",
    "print('the output of randint(0, 3) is :')\n",
    "\n",
    "sample = s[p/randint(0, 3)]\n",
    "\n",
    "sample"
   ]
  },
  {
   "cell_type": "markdown",
   "metadata": {},
   "source": [
    "As you see, `p/x` is easy to print value in expression while debugging.   \n",
    "\n",
    "💡 **Note:**   \n",
    "\n",
    "`p/randint(0, 3)` print the value of `randint(0, 3)` and return the value itself, which won't influences the program.\n",
    "\n",
    "---\n",
    "↓ Use pow operator for highest evaluation order. "
   ]
  },
  {
   "cell_type": "code",
   "execution_count": 3,
   "metadata": {},
   "outputs": [
    {
     "name": "stdout",
     "output_type": "stream",
     "text": [
      "2\n"
     ]
    },
    {
     "data": {
      "text/plain": [
       "20"
      ]
     },
     "execution_count": 3,
     "metadata": {},
     "output_type": "execute_result"
    }
   ],
   "source": [
    "# try run this cell online\n",
    "from boxx import p \n",
    "from random import randint \n",
    "tenx = 10 * p**randint(0,9) \n",
    "tenx"
   ]
  },
  {
   "cell_type": "markdown",
   "metadata": {},
   "source": [
    "#### 2. `p()`  to pretty print all variables  in function or module with thier name"
   ]
  },
  {
   "cell_type": "code",
   "execution_count": 4,
   "metadata": {},
   "outputs": [
    {
     "name": "stdout",
     "output_type": "stream",
     "text": [
      "\n",
      "\u001b[36mFile: \"\u001b[32m<ipython-input-4-ed27d16b8559>\u001b[0m\", line \u001b[32m3\u001b[0m, in \u001b[35mf\u001b[0m\u001b[0m\n",
      "\u001b[36mStacks: \u001b[0m\u001b[31mf <-\u001b[36mipython-input\u001b[0m\u001b[0m\n",
      "\u001b[36mLocals: \u001b[0m\n",
      "└── /: \u001b[36mdict  2\u001b[0m\n",
      "    ├── arg: \u001b[31m517\u001b[0m\n",
      "    └── l: \u001b[36mlist  2\u001b[0m\n",
      "        ├── 0: \u001b[31m1\u001b[0m\n",
      "        └── 1: \u001b[31m2\u001b[0m\n"
     ]
    }
   ],
   "source": [
    "from boxx import p \n",
    "\n",
    "def f(arg=517):\n",
    "    l = [1, 2]\n",
    "    p()\n",
    "f()"
   ]
  },
  {
   "cell_type": "markdown",
   "metadata": {},
   "source": [
    "`p()` will pretty print all variables in `locals()` and some infomation about the frame.    \n",
    "\n",
    "BTW, `import boxx.p` has the same effect."
   ]
  },
  {
   "cell_type": "markdown",
   "metadata": {},
   "source": [
    "#### 3. `with p:` will pretty print mulit variables under \"with statement\"\n",
    "Only interested variables are printed which is under \"with statement\""
   ]
  },
  {
   "cell_type": "code",
   "execution_count": 5,
   "metadata": {
    "scrolled": false
   },
   "outputs": [
    {
     "name": "stdout",
     "output_type": "stream",
     "text": [
      "\n",
      "\u001b[36mwithprint from \u001b[36mFile: \"\u001b[32m<ipython-input-5-cdc830ddfc96>\u001b[0m\", line \u001b[32m3\u001b[0m, in \u001b[35mf\u001b[0m\u001b[0m\u001b[0m\n",
      "\u001b[36mAll Vars's Values :\u001b[0m\n",
      "└── /: \u001b[36mdict  2\u001b[0m\n",
      "    ├── a: \u001b[31m4\u001b[0m\n",
      "    └── l: \u001b[36mlist  2\u001b[0m\n",
      "        ├── 0: \u001b[31m4\u001b[0m\n",
      "        └── 1: \u001b[31m8\u001b[0m\n"
     ]
    }
   ],
   "source": [
    "from boxx import p\n",
    "from random import randint\n",
    "def f():\n",
    "    other_vars = \"No need to pay attention\"\n",
    "    with p:\n",
    "        a = randint(1, 9)\n",
    "        l = [a, a*2]\n",
    "    others = \"No need to pay attention\"\n",
    "f()"
   ]
  },
  {
   "cell_type": "markdown",
   "metadata": {},
   "source": [
    "### ▶ `g` and `gg` could transport variable to Python interactive console\n",
    "----\n",
    "#### 1. Use `g.name=x` or `g.name/x` to transport variable that in function or module to console.\n",
    "The meaning of `g`,`gg` are \"to Global\", \"to Global and log\""
   ]
  },
  {
   "cell_type": "code",
   "execution_count": 6,
   "metadata": {},
   "outputs": [
    {
     "data": {
      "text/plain": [
       "[1, 2]"
      ]
     },
     "execution_count": 6,
     "metadata": {},
     "output_type": "execute_result"
    }
   ],
   "source": [
    "from boxx import g\n",
    "\n",
    "def f():\n",
    "    listt = [1,2]\n",
    "    g.l = listt # `listt` is transported to console as `l`\n",
    "f()\n",
    "\n",
    "l"
   ]
  },
  {
   "cell_type": "markdown",
   "metadata": {},
   "source": [
    "`g.l = listt` create new var `l` In Python interactive console and transport `listt` assign to `l`.   \n",
    "\n",
    "💡 **Note:** if variable name exists in console before, the variable's value will be covered by new value. \n",
    "\n",
    "---\n",
    "`gg` is same usage as `g`, but `gg` will print the transported variable.    \n",
    "Use `g.name/x` to convenient transport value in expression."
   ]
  },
  {
   "cell_type": "code",
   "execution_count": 7,
   "metadata": {},
   "outputs": [
    {
     "name": "stdout",
     "output_type": "stream",
     "text": [
      "\u001b[31mgg.l:\"\u001b[0m[1, 2]\u001b[31m\"\u001b[0m\n"
     ]
    },
    {
     "data": {
      "text/plain": [
       "([1, 2], [1, 2], [1, 2], True, True)"
      ]
     },
     "execution_count": 7,
     "metadata": {},
     "output_type": "execute_result"
    }
   ],
   "source": [
    "from boxx import g, gg\n",
    "\n",
    "def f():\n",
    "    listt = [1,2]\n",
    "    gg.l = listt\n",
    "    return g.by_div/listt\n",
    "\n",
    "listt = f()\n",
    "\n",
    "# l, by_div are transported to console\n",
    "(listt, l, by_div, l is listt, by_div is listt)"
   ]
  },
  {
   "cell_type": "markdown",
   "metadata": {},
   "source": [
    "💡 **Note:**\n",
    " * In Python interactive console, variable `l`, `by_div` are created.\n",
    "\n",
    " * All of they are `listt` has the same `id`."
   ]
  },
  {
   "cell_type": "markdown",
   "metadata": {},
   "source": [
    "#### 2. `g()` to transport all variables that in the function to Python interactive console\n",
    "`g()` in a function ,can transport all variables that in the function (or module) to console. It's a useful tool for debugging."
   ]
  },
  {
   "cell_type": "code",
   "execution_count": 8,
   "metadata": {},
   "outputs": [
    {
     "data": {
      "text/plain": [
       "(517, [1, 2])"
      ]
     },
     "execution_count": 8,
     "metadata": {},
     "output_type": "execute_result"
    }
   ],
   "source": [
    "from boxx import g\n",
    "def f(arg=517):\n",
    "    l = [1, 2]\n",
    "    g()\n",
    "f()\n",
    "\n",
    "# transport all variables in function to console \n",
    "arg, l"
   ]
  },
  {
   "cell_type": "markdown",
   "metadata": {},
   "source": [
    "💡 **Note:**\n",
    "\n",
    " * `g()` only transport the `locals()` to console, the `globals()` will save to `boxx.p`\n",
    " \n",
    " * `gg()` is a print version of `g`, `gg()` will pretty print all variable with thier name and some infomation about the frame.\n",
    "\n",
    " * `import boxx.g` is convenient way to use `g()` instead of `from boxx import g;g()`(`import boxx.gg` is avaliable too)"
   ]
  },
  {
   "cell_type": "code",
   "execution_count": 9,
   "metadata": {},
   "outputs": [
    {
     "name": "stdout",
     "output_type": "stream",
     "text": [
      "\n",
      "\u001b[36mFile: \"\u001b[32m<ipython-input-9-d581854709cb>\u001b[0m\", line \u001b[32m3\u001b[0m, in \u001b[35mf\u001b[0m\u001b[0m\n",
      "\u001b[36mStacks: \u001b[0m\u001b[31mf <-\u001b[36mipython-input\u001b[0m\u001b[0m\n",
      "\u001b[36mLocals: \u001b[0m\n",
      "└── /: \u001b[36mdict  2\u001b[0m\n",
      "    ├── arg: \u001b[36mlist  3\u001b[0m\n",
      "    │   ├── 0: \u001b[31m5\u001b[0m\n",
      "    │   ├── 1: \u001b[31m1\u001b[0m\n",
      "    │   └── 2: \u001b[31m7\u001b[0m\n",
      "    └── a: \u001b[31m2\u001b[0m\n",
      "\n",
      "\u001b[36m\n",
      "Vars add to Console Frame: \u001b[0m\n",
      "└── \u001b[35ma\u001b[0m\n",
      "\u001b[31m\n",
      "Vars that replaced in Console Frame: \u001b[0m\n",
      "└── \u001b[35marg\u001b[0m\n"
     ]
    },
    {
     "data": {
      "text/plain": [
       "(2, [5, 1, 7], True)"
      ]
     },
     "execution_count": 9,
     "metadata": {},
     "output_type": "execute_result"
    }
   ],
   "source": [
    "# try run this cell online\n",
    "\n",
    "def f(arg):\n",
    "    a = 2\n",
    "    import boxx.gg\n",
    "    \n",
    "inp = [5 ,1 , 7]\n",
    "f(inp)\n",
    "\n",
    "# gg will pretty print all variables in f\n",
    "# and `a` and `arg` are transported to console \n",
    "a, arg, arg is inp"
   ]
  },
  {
   "cell_type": "markdown",
   "metadata": {},
   "source": [
    "#### 3. `with g:` will transport mulit variables under \"with statement\"\n",
    "`with g` will transport the interested variables to Python interactive console under \"with statement\"(`with gg:` is avaliable too)"
   ]
  },
  {
   "cell_type": "code",
   "execution_count": 10,
   "metadata": {
    "scrolled": false
   },
   "outputs": [
    {
     "name": "stdout",
     "output_type": "stream",
     "text": [
      "In console: 2 [2, 4] False\n"
     ]
    }
   ],
   "source": [
    "from boxx import g\n",
    "from random import randint\n",
    "def f():\n",
    "    other_vars = \"No need to pay attention\"\n",
    "    with g:  # only transport a, l\n",
    "        a = randint(1, 9)\n",
    "        l = [a, a*2]\n",
    "    others = \"No need to pay attention\"\n",
    "f()\n",
    "\n",
    "print('In console:',a , l, 'others' in locals())"
   ]
  },
  {
   "cell_type": "markdown",
   "metadata": {},
   "source": [
    "💡 **Note:**   \n",
    "\n",
    "1 . `with p`, `with g`, `with gg` only act on assignment variables under \"with statement\".     \n",
    "\n",
    "2 . If variable's name exists in `locals()` before and `id(variable)` not change ,variable may not be detected \n",
    "Especially following cases：\n",
    "    1. var is int and < 256\n",
    "    2. `id(var)` not change"
   ]
  },
  {
   "cell_type": "markdown",
   "metadata": {},
   "source": [
    "### ▶ Summary for debug tools\n",
    "---\n",
    "\n",
    "<center>\n",
    "<h4>\n",
    "    <code>boxx</code> debug tool matrix\n",
    "</h4>\n",
    "</center>\n",
    "\n",
    "| How many vars \\ Operation | print | transport | print & transport |\n",
    "| :---- | :---- | :---- | :---- |\n",
    "| Single variable | `p/x` | `g.name/x` | `gg.name/x`|\n",
    "|Multi variables | `with p:` | `with g:` | `with gg:` |\n",
    "|All `locals()`| `p()` | `g()` | `gg()` |\n",
    "|All `locals()`\\_2 | `import boxx.p` | `import boxx.g` | `import boxx.gg` |    \n",
    "\n",
    "  💡 **Note:**   \n",
    "  * **transport** mean \"transport variable to Python interactive console\"\n",
    "  * **All `locals()`** mean operation will act on all variables in the function or module\n",
    "  * **All `locals()`\\_2 :** when `boxx` are not imported, `import boxx.{operation}` is a convenient way to execution operation "
   ]
  },
  {
   "cell_type": "markdown",
   "metadata": {},
   "source": [
    "### ▶ `timeit` is convenient timing tool "
   ]
  },
  {
   "cell_type": "code",
   "execution_count": 11,
   "metadata": {
    "scrolled": true
   },
   "outputs": [
    {
     "name": "stdout",
     "output_type": "stream",
     "text": [
      "\u001b[36m\"timeit\" spend time: 0.011127\u001b[0m\n",
      "\u001b[36m\"sleep\" spend time: 0.1000519\u001b[0m\n"
     ]
    }
   ],
   "source": [
    "from boxx import timeit\n",
    "from time import sleep\n",
    "\n",
    "with timeit():\n",
    "    sleep(0.01) # simulation timing code\n",
    "\n",
    "with timeit(name='sleep'):\n",
    "    sleep(0.1) # simulation timing code"
   ]
  },
  {
   "cell_type": "markdown",
   "metadata": {},
   "source": [
    "`timeit` will timing code block under \"with statement\" and print spend time in blue color."
   ]
  },
  {
   "cell_type": "markdown",
   "metadata": {},
   "source": [
    "### ▶ `mapmt` is Multi Threading version of `map`\n",
    "`mapmt` is the meaning of \"MAP for Multi Threading\", has almost same usage as `map`"
   ]
  },
  {
   "cell_type": "code",
   "execution_count": 12,
   "metadata": {},
   "outputs": [
    {
     "name": "stdout",
     "output_type": "stream",
     "text": [
      "\u001b[36m\"map\" spend time: 1.026533\u001b[0m\n",
      "\u001b[36m\"mapmt\" spend time: 0.209651\u001b[0m\n"
     ]
    },
    {
     "data": {
      "text/plain": [
       "True"
      ]
     },
     "execution_count": 12,
     "metadata": {},
     "output_type": "execute_result"
    }
   ],
   "source": [
    "from boxx import mapmt, timeit\n",
    "from time import sleep\n",
    "\n",
    "def io_block(x): # simulation io block\n",
    "    sleep(0.1)\n",
    "    return x\n",
    "xs = range(10)\n",
    "\n",
    "with timeit('map'):\n",
    "    resoult_1 = list(map(io_block, xs))\n",
    "with timeit('mapmt'):\n",
    "    resoult_2 = mapmt(io_block, xs, pool=10)\n",
    "    # pool=10 mean 10 threadings\n",
    "\n",
    "resoult_1 == resoult_2"
   ]
  },
  {
   "cell_type": "markdown",
   "metadata": {},
   "source": [
    "### ▶ `mapmp` is Multi Process version of `map`\n",
    "`mapmp` is the meaning of \"MAP for Multi Process\", has the same usage as `map` and `mapmt` but faster."
   ]
  },
  {
   "cell_type": "code",
   "execution_count": 13,
   "metadata": {},
   "outputs": [
    {
     "name": "stdout",
     "output_type": "stream",
     "text": [
      "\u001b[36m\"map\" spend time: 2.879656\u001b[0m\n",
      "\u001b[36m\"mapmp\" spend time: 0.9643528\u001b[0m\n"
     ]
    }
   ],
   "source": [
    "from boxx import mapmp, timeit\n",
    "def bad_fibonacci(x): # simulation Complex calculations\n",
    "    return x<=1 or x*bad_fibonacci(x-1)\n",
    "\n",
    "xs = [800]*10000\n",
    "\n",
    "if __name__ == '__main__':\n",
    "    with timeit('map'):\n",
    "        resoult_1 = list(map(bad_fibonacci, xs))\n",
    "\n",
    "    with timeit('mapmp'):\n",
    "        resoult_2 = mapmp(bad_fibonacci, xs)\n",
    "    \n",
    "    resoult_1 == resoult_2\n",
    "    # the time printed below is run on a Intel i5 CPU on Ubuntu"
   ]
  },
  {
   "cell_type": "markdown",
   "metadata": {},
   "source": [
    "💡 **Note:**   \n",
    "\n",
    "`mapmp` and `mapmt` has same usage, they both support two parameters\n",
    "\n",
    "**pool** : int, default None   \n",
    ">    the number of Process or Threading, the default is the number of CPUs in the system   \n",
    "\n",
    "**printfreq** : int or float, default None   \n",
    ">    the meaning of `print frequent`, auto print program progress in `mapmt` and `mapmp`   \n",
    ">    if `printfreq < 1` then `printfreq = len(iterables[0])*printfreq`\n",
    "\n",
    "* It's better to run multi process under `if __name__ == '__main__':`, [see multiprocessing programming guidelines](https://docs.python.org/3/library/multiprocessing.html#multiprocessing-programming)\n",
    "\n",
    "* `multiprocessing` may not work on Windows\n",
    "\n",
    "* If you speed up the `numpy` program, note that in the MKL version of `numpy`, multiple processes will be slower. You can run `boxx.testNumpyMultiprocessing()` to test how friendly the current environment is to a multi-process `numpy`.\n",
    "\n",
    "---\n",
    "\n",
    "In multi process programs, display processing progress is troublesome.   \n",
    "**printfreq** parameter in `mapmp` can handle this problem"
   ]
  },
  {
   "cell_type": "code",
   "execution_count": 14,
   "metadata": {},
   "outputs": [
    {
     "name": "stdout",
     "output_type": "stream",
     "text": [
      "0/100(  0.00) time: 5.38826e-5, args[0]: 0\n",
      "20/100( 20.00) time: 4.91142e-5, args[0]: 20\n",
      "40/100( 40.00) time: 6.19888e-6, args[0]: 40\n",
      "60/100( 60.00) time: 6.91414e-6, args[0]: 60\n",
      "80/100( 80.00) time: 6.19888e-6, args[0]: 80\n"
     ]
    },
    {
     "data": {
      "text/plain": [
       "[0,\n",
       " 2,\n",
       " 4,\n",
       " 6,\n",
       " 8,\n",
       " 10,\n",
       " 12,\n",
       " 14,\n",
       " 16,\n",
       " 18,\n",
       " 20,\n",
       " 22,\n",
       " 24,\n",
       " 26,\n",
       " 28,\n",
       " 30,\n",
       " 32,\n",
       " 34,\n",
       " 36,\n",
       " 38,\n",
       " 40,\n",
       " 42,\n",
       " 44,\n",
       " 46,\n",
       " 48,\n",
       " 50,\n",
       " 52,\n",
       " 54,\n",
       " 56,\n",
       " 58,\n",
       " 60,\n",
       " 62,\n",
       " 64,\n",
       " 66,\n",
       " 68,\n",
       " 70,\n",
       " 72,\n",
       " 74,\n",
       " 76,\n",
       " 78,\n",
       " 80,\n",
       " 82,\n",
       " 84,\n",
       " 86,\n",
       " 88,\n",
       " 90,\n",
       " 92,\n",
       " 94,\n",
       " 96,\n",
       " 98,\n",
       " 100,\n",
       " 102,\n",
       " 104,\n",
       " 106,\n",
       " 108,\n",
       " 110,\n",
       " 112,\n",
       " 114,\n",
       " 116,\n",
       " 118,\n",
       " 120,\n",
       " 122,\n",
       " 124,\n",
       " 126,\n",
       " 128,\n",
       " 130,\n",
       " 132,\n",
       " 134,\n",
       " 136,\n",
       " 138,\n",
       " 140,\n",
       " 142,\n",
       " 144,\n",
       " 146,\n",
       " 148,\n",
       " 150,\n",
       " 152,\n",
       " 154,\n",
       " 156,\n",
       " 158,\n",
       " 160,\n",
       " 162,\n",
       " 164,\n",
       " 166,\n",
       " 168,\n",
       " 170,\n",
       " 172,\n",
       " 174,\n",
       " 176,\n",
       " 178,\n",
       " 180,\n",
       " 182,\n",
       " 184,\n",
       " 186,\n",
       " 188,\n",
       " 190,\n",
       " 192,\n",
       " 194,\n",
       " 196,\n",
       " 198]"
      ]
     },
     "execution_count": 14,
     "metadata": {},
     "output_type": "execute_result"
    }
   ],
   "source": [
    "# try run this cell\n",
    "from boxx import mapmp\n",
    "from operator import add\n",
    "\n",
    "xs = list(range(100))\n",
    "double_xs = mapmp(add, xs, xs, pool=2, printfreq=.2)\n",
    "\n",
    "double_xs"
   ]
  },
  {
   "cell_type": "markdown",
   "metadata": {},
   "source": [
    "### ▶ `x_` to quick build function without `lambda x:`"
   ]
  },
  {
   "cell_type": "code",
   "execution_count": 15,
   "metadata": {},
   "outputs": [
    {
     "data": {
      "text/plain": [
       "(1, 4, 9)"
      ]
     },
     "execution_count": 15,
     "metadata": {},
     "output_type": "execute_result"
    }
   ],
   "source": [
    "from boxx import x_\n",
    "f = x_**2\n",
    "\n",
    "f(1), f(2), f(3)"
   ]
  },
  {
   "cell_type": "markdown",
   "metadata": {},
   "source": [
    "`x_` often used with map, reduce, filter     "
   ]
  },
  {
   "cell_type": "code",
   "execution_count": 16,
   "metadata": {},
   "outputs": [
    {
     "data": {
      "text/plain": [
       "[1, 1, 4, 27, 256]"
      ]
     },
     "execution_count": 16,
     "metadata": {},
     "output_type": "execute_result"
    }
   ],
   "source": [
    "# try run this cell\n",
    "xs = range(5)\n",
    "powx = map(x_**x_, xs, xs)\n",
    "list(powx)"
   ]
  },
  {
   "cell_type": "markdown",
   "metadata": {},
   "source": [
    "### ▶ `mf` to quick add magic method to function\n",
    "`mf` is the meaning of \"Magic Method\", to wrap the function that often used while debugging."
   ]
  },
  {
   "cell_type": "code",
   "execution_count": 17,
   "metadata": {},
   "outputs": [
    {
     "name": "stdout",
     "output_type": "stream",
     "text": [
      "- : [5, 1, 7]\n",
      "* : [5, 1, 7]\n",
      "**: [5, 1, 7]\n",
      "/ : (5, 1, 7)\n"
     ]
    }
   ],
   "source": [
    "from boxx import mf\n",
    "\n",
    "l = mf(list)\n",
    "tuplee = (5, 1, 7)\n",
    "print('- :', l-tuplee)\n",
    "print('* :', l*tuplee)\n",
    "print('**:', l**tuplee)\n",
    "print('/ :', l/tuplee)"
   ]
  },
  {
   "cell_type": "markdown",
   "metadata": {},
   "source": [
    "💡 **Note:**   \n",
    "\n",
    " * when `-`, `*`, `**` as magic method: do `f(x)` and return `f(x)`\n",
    "\n",
    " * when `/` as magic metho: do `f(x)` but return `x`\n",
    "\n",
    " * **Functions that wraps by `mf` in `boxx`**:  `stdout`, `log`, `logc`, `printt`, `pblue`, `pred`, `pdanger`, `perr`, `pinfo`, `typestr`, `getfathers`, `getfather`, `nextiter`, `mf`, `plot`, `show`, `showb`, `shows`, `loga`, `tree`, `treem`, `treea`, `dira`, `what`, `wtf`, `tprgb`, `torgb`, `normalizing`, `norma`, `npa`, `histEqualize`, `boolToIndex`"
   ]
  },
  {
   "cell_type": "markdown",
   "metadata": {},
   "source": [
    "### ▶ `tree` to visualization complex struct in tree format"
   ]
  },
  {
   "cell_type": "code",
   "execution_count": 18,
   "metadata": {
    "scrolled": true
   },
   "outputs": [
    {
     "name": "stdout",
     "output_type": "stream",
     "text": [
      "└── /: \u001b[36mdict  2\u001b[0m\n",
      "    ├── key: \u001b[36mlist  3\u001b[0m\n",
      "    │   ├── 0: \u001b[31m0\u001b[0m\n",
      "    │   ├── 1: \u001b[31mstr\u001b[0m\n",
      "    │   └── 2: \u001b[36mtuple 2\u001b[0m\n",
      "    │       ├── 0: \u001b[31min_tuple\u001b[0m\n",
      "    │       └── 1: \u001b[31mNone\u001b[0m\n",
      "    └── tree: \u001b[31mFunAddMagicMethod(<function tree at 0x122a...\u001b[0m\n"
     ]
    }
   ],
   "source": [
    "from boxx import tree\n",
    "\n",
    "complex_struct = dict(key=[0, 'str', ('in_tuple', None)], tree=tree)\n",
    "\n",
    "tree(complex_struct)"
   ]
  },
  {
   "cell_type": "markdown",
   "metadata": {},
   "source": [
    "Like `tree` command in shell, `boxx.tree` could visualization any struct in  tree format.   \n",
    "\n",
    "Support types include `list`, `tuple`, `dict`, `numpy`, `torch.tensor`， `mxnet.ndarray`, `PIL.Image`.etc"
   ]
  },
  {
   "cell_type": "markdown",
   "metadata": {},
   "source": [
    "### ▶ `dira(x)` to show `x`'s all attribute\n",
    "`dira(x)` is the meaning of \"dir Attribute\".   "
   ]
  },
  {
   "cell_type": "code",
   "execution_count": 19,
   "metadata": {
    "scrolled": true
   },
   "outputs": [
    {
     "name": "stdout",
     "output_type": "stream",
     "text": [
      "\u001b[36mClasses: \n",
      "\u001b[0m└── \u001b[31mType\u001b[0m of \u001b[35mLookupError\u001b[0m <-\u001b[35mException\u001b[0m <-\u001b[35mBaseException\u001b[0m <-\u001b[35mobject\u001b[0m\n",
      "\u001b[36mAttrs: \u001b[0m\n",
      "└── \u001b[31mtype\u001b[0m: \u001b[36m31 attrs, \u001b[30mBase class for lookup errors.\u001b[0m\u001b[0m\n",
      "    ├── \u001b[31m__cause__\u001b[0m: \u001b[36m<attribute '__cause__' of 'BaseException' objects>\u001b[0m\n",
      "    ├── \u001b[31m__class__\u001b[0m: \u001b[36m<class 'type'>\u001b[0m\n",
      "    ├── \u001b[31m__context__\u001b[0m: \u001b[36m<attribute '__context__' of 'BaseException' obj...\u001b[0m\n",
      "    ├── \u001b[31m__delattr__\u001b[0m: \u001b[36m<slot wrapper '__delattr__' of 'BaseException' ...\u001b[0m\n",
      "    ├── \u001b[31m__dict__\u001b[0m: \u001b[36mmappingproxy  3\u001b[0m\n",
      "    ├── \u001b[31m__dir__\u001b[0m: \u001b[36m<method '__dir__' of 'object' objects>\u001b[0m\n",
      "    ├── \u001b[31m__doc__\u001b[0m: \u001b[36mBase class for lookup errors.\u001b[0m\n",
      "    ├── \u001b[31m__eq__\u001b[0m: \u001b[36m<slot wrapper '__eq__' of 'object' objects>\u001b[0m\n",
      "    ├── \u001b[31m__format__\u001b[0m: \u001b[36m<method '__format__' of 'object' objects>\u001b[0m\n",
      "    ├── \u001b[31m__ge__\u001b[0m: \u001b[36m<slot wrapper '__ge__' of 'object' objects>\u001b[0m\n",
      "    ├── \u001b[31m__getattribute__\u001b[0m: \u001b[36m<slot wrapper '__getattribute__' of 'BaseExcept...\u001b[0m\n",
      "    ├── \u001b[31m__gt__\u001b[0m: \u001b[36m<slot wrapper '__gt__' of 'object' objects>\u001b[0m\n",
      "    ├── \u001b[31m__hash__\u001b[0m: \u001b[36m<slot wrapper '__hash__' of 'object' objects>\u001b[0m\n",
      "    ├── \u001b[31m__init__\u001b[0m: \u001b[36m<slot wrapper '__init__' of 'LookupError' objects>\u001b[0m\n",
      "    ├── \u001b[31m__init_subclass__\u001b[0m: \u001b[36mbuiltin-method : \u001b[30mThis method is called whe...\u001b[0m\n",
      "    ├── \u001b[31m__le__\u001b[0m: \u001b[36m<slot wrapper '__le__' of 'object' objects>\u001b[0m\n",
      "    ├── \u001b[31m__lt__\u001b[0m: \u001b[36m<slot wrapper '__lt__' of 'object' objects>\u001b[0m\n",
      "    ├── \u001b[31m__ne__\u001b[0m: \u001b[36m<slot wrapper '__ne__' of 'object' objects>\u001b[0m\n",
      "    ├── \u001b[31m__new__\u001b[0m: \u001b[36mbuiltin-method : \u001b[30mCreate and return a new o...\u001b[0m\n",
      "    ├── \u001b[31m__reduce__\u001b[0m: \u001b[36m<method '__reduce__' of 'BaseException' objects>\u001b[0m\n",
      "    ├── \u001b[31m__reduce_ex__\u001b[0m: \u001b[36m<method '__reduce_ex__' of 'object' objects>\u001b[0m\n",
      "    ├── \u001b[31m__repr__\u001b[0m: \u001b[36m<slot wrapper '__repr__' of 'BaseException' obj...\u001b[0m\n",
      "    ├── \u001b[31m__setattr__\u001b[0m: \u001b[36m<slot wrapper '__setattr__' of 'BaseException' ...\u001b[0m\n",
      "    ├── \u001b[31m__setstate__\u001b[0m: \u001b[36m<method '__setstate__' of 'BaseException' objects>\u001b[0m\n",
      "    ├── \u001b[31m__sizeof__\u001b[0m: \u001b[36m<method '__sizeof__' of 'object' objects>\u001b[0m\n",
      "    ├── \u001b[31m__str__\u001b[0m: \u001b[36m<slot wrapper '__str__' of 'BaseException' obje...\u001b[0m\n",
      "    ├── \u001b[31m__subclasshook__\u001b[0m: \u001b[36mbuiltin-method : \u001b[30mAbstract classes can over...\u001b[0m\n",
      "    ├── \u001b[31m__suppress_context__\u001b[0m: \u001b[36m<member '__suppress_context__' of 'BaseExceptio...\u001b[0m\n",
      "    ├── \u001b[31m__traceback__\u001b[0m: \u001b[36m<attribute '__traceback__' of 'BaseException' o...\u001b[0m\n",
      "    ├── \u001b[31margs\u001b[0m: \u001b[36m<attribute 'args' of 'BaseException' objects>\u001b[0m\n",
      "    └── \u001b[31mwith_traceback\u001b[0m: \u001b[36m<method 'with_traceback' of 'BaseException' obj...\u001b[0m\n"
     ]
    }
   ],
   "source": [
    "from boxx import dira\n",
    "\n",
    "dira(LookupError)"
   ]
  },
  {
   "cell_type": "markdown",
   "metadata": {},
   "source": [
    "`dira(x)` will pretty print `x`'s all attribute in tree format.    \n",
    "And `dira(x)` will print `x`'s Father Classes too."
   ]
  },
  {
   "cell_type": "markdown",
   "metadata": {},
   "source": [
    "### ▶ `what` to know \"What's this?\""
   ]
  },
  {
   "cell_type": "code",
   "execution_count": 20,
   "metadata": {
    "scrolled": false
   },
   "outputs": [
    {
     "name": "stdout",
     "output_type": "stream",
     "text": [
      "----------\u001b[36mend of what(\u001b[0m\u001b[35m\"<module 'boxx.ylsys' from '...\"\u001b[0m\u001b[36m)\u001b[0m----------\n",
      "\u001b[36mAttrs: \u001b[0m\n",
      "└── \u001b[31mmodule\u001b[0m: \u001b[36m31 attrs, \u001b[30mA module provide system info and Python...\u001b[0m\n",
      "    ├── \u001b[31mPythonInfo\u001b[0m: \u001b[36m<class 'boxx.ylsys.PythonInfo'>\u001b[0m\n",
      "    ├── \u001b[31mSystemInfo\u001b[0m: \u001b[36m<class 'boxx.ylsys.SystemInfo'>\u001b[0m\n",
      "    ├── \u001b[31m__TmpboxxWithCall\u001b[0m: \u001b[36m<class 'boxx.ylsys.__TmpboxxWithCall'>\u001b[0m\n",
      "    ├── \u001b[31m__builtins__\u001b[0m: \u001b[36m\u001b[36m【builtins-dict 154 omitted】\u001b[0m\u001b[0m\n",
      "    ├── \u001b[31m__cached__\u001b[0m: \u001b[36m/Users/james/anaconda3/lib/python3.7/site-packa...\u001b[0m\n",
      "    ├── \u001b[31m__doc__\u001b[0m: \u001b[36m↳A module provide system info and Python Info f...\u001b[0m\n",
      "    ├── \u001b[31m__file__\u001b[0m: \u001b[36m/Users/james/anaconda3/lib/python3.7/site-packa...\u001b[0m\n",
      "    ├── \u001b[31m__loader__\u001b[0m: \u001b[36m<_frozen_importlib_external.SourceFileLoader ob...\u001b[0m\n",
      "    ├── \u001b[31m__module\u001b[0m: \u001b[36m<module 'multiprocessing' from '/Users/james/an...\u001b[0m\n",
      "    ├── \u001b[31m__name__\u001b[0m: \u001b[36mboxx.ylsys\u001b[0m\n",
      "    ├── \u001b[31m__package__\u001b[0m: \u001b[36mboxx\u001b[0m\n",
      "    ├── \u001b[31m__spec__\u001b[0m: \u001b[36mModuleSpec(name='boxx.ylsys', loader=<_frozen_i...\u001b[0m\n",
      "    ├── \u001b[31mcloud\u001b[0m: \u001b[36mFalse\u001b[0m\n",
      "    ├── \u001b[31mcpun\u001b[0m: \u001b[36m8\u001b[0m\n",
      "    ├── \u001b[31mcuda\u001b[0m: \u001b[36mFalse\u001b[0m\n",
      "    ├── \u001b[31menviron\u001b[0m: \u001b[36menviron({'TERM_SESSION_ID': 'w0t2p0:2C0576F3-A3...\u001b[0m\n",
      "    ├── \u001b[31mhomeYl\u001b[0m: \u001b[36m/Users/james/\u001b[0m\n",
      "    ├── \u001b[31mjupyterNotebookOrQtConsole\u001b[0m: \u001b[36m<function jupyterNotebookOrQtConsole at 0x10492...\u001b[0m\n",
      "    ├── \u001b[31mlinuxYl\u001b[0m: \u001b[36mFalse\u001b[0m\n",
      "    ├── \u001b[31mos\u001b[0m: \u001b[36m<module 'os' from '/Users/james/anaconda3/lib/p...\u001b[0m\n",
      "    ├── \u001b[31mosxYl\u001b[0m: \u001b[36mTrue\u001b[0m\n",
      "    ├── \u001b[31mpy2\u001b[0m: \u001b[36mFalse\u001b[0m\n",
      "    ├── \u001b[31mpy3\u001b[0m: \u001b[36mTrue\u001b[0m\n",
      "    ├── \u001b[31mpyi\u001b[0m: \u001b[36m└── \u001b[31mboxx.ylsys.PythonInfo\u001b[0m: \u001b[36m12 att...\u001b[0m\n",
      "    ├── \u001b[31mpyv\u001b[0m: \u001b[36m3\u001b[0m\n",
      "    ├── \u001b[31msys\u001b[0m: \u001b[36m<module 'sys' (built-in)>\u001b[0m\n",
      "    ├── \u001b[31msysi\u001b[0m: \u001b[36m└── \u001b[31mboxx.ylsys.SystemInfo\u001b[0m: \u001b[36m12 att...\u001b[0m\n",
      "    ├── \u001b[31mtmpYl\u001b[0m: \u001b[36m/tmp/\u001b[0m\n",
      "    ├── \u001b[31mtmpboxx\u001b[0m: \u001b[36m/tmp/boxxTmp/\u001b[0m\n",
      "    ├── \u001b[31musecuda\u001b[0m: \u001b[36mauto\u001b[0m\n",
      "    └── \u001b[31mwinYl\u001b[0m: \u001b[36mFalse\u001b[0m\n",
      "\n",
      "\n",
      "\u001b[36mDocument: \n",
      "\u001b[0m└── \n",
      "     A module provide system info and Python Info for boxx\n",
      "     \n",
      "     @author: yanglei\n",
      "     \n",
      "\n",
      "\u001b[36mClasses: \n",
      "\u001b[0m└── \u001b[31mInstance\u001b[0m of \u001b[35mmodule\u001b[0m <-\u001b[35mobject\u001b[0m\n",
      "\n",
      "\u001b[36mTo Str: \n",
      "\u001b[0m└── \"<module 'boxx.ylsys' from '/Users/james/anaconda3/lib/python3.7/site-packages/boxx/ylsys.py'>\"\n",
      "\n"
     ]
    }
   ],
   "source": [
    "from boxx import what\n",
    "\n",
    "from boxx import ylsys\n",
    "what(ylsys)"
   ]
  },
  {
   "cell_type": "markdown",
   "metadata": {},
   "source": [
    "`what(x)` will show \"what is `x`?\" by pretty print it's **Document**, **Father Classes**, **Inner Struct** and **Attributes**. It is a supplement of `help(x)`\n",
    "\n",
    "💡 **Note:** \n",
    "\n",
    "`boxx.what` is a useful tool when learn a new module or package.It reduce the time to check the API document.\n",
    "\n",
    "`wtf` is the short of `what`, use `wtf-x` for convenience."
   ]
  },
  {
   "cell_type": "code",
   "execution_count": 21,
   "metadata": {},
   "outputs": [
    {
     "name": "stdout",
     "output_type": "stream",
     "text": [
      "----------\u001b[36mend of what(\u001b[0m\u001b[35m\"defaultdict(<function <lamb...\"\u001b[0m\u001b[36m)\u001b[0m----------\n",
      "\u001b[36mAttrs: \u001b[0m\n",
      "└── \u001b[31mcollections.defaultdict\u001b[0m: \u001b[36m43 attrs, \u001b[30mdefaultdict(default_factory[, ...]) -->...\u001b[0m\n",
      "    ├── \u001b[31m__class__\u001b[0m: \u001b[36m<class 'collections.defaultdict'>\u001b[0m\n",
      "    ├── \u001b[31m__contains__\u001b[0m: \u001b[36mbuiltin-method : \u001b[30mTrue if the dictionary ha...\u001b[0m\n",
      "    ├── \u001b[31m__copy__\u001b[0m: \u001b[36mbuiltin-method : \u001b[30mD.copy() -> a shallow cop...\u001b[0m\n",
      "    ├── \u001b[31m__delattr__\u001b[0m: \u001b[36mmethod-wrapper : \u001b[30mImplement delattr(self, n...\u001b[0m\n",
      "    ├── \u001b[31m__delitem__\u001b[0m: \u001b[36mmethod-wrapper : \u001b[30mDelete self[key].\u001b[0m\u001b[0m\n",
      "    ├── \u001b[31m__dir__\u001b[0m: \u001b[36mbuiltin-method : \u001b[30mDefault dir() implementat...\u001b[0m\n",
      "    ├── \u001b[31m__doc__\u001b[0m: \u001b[36mdefaultdict(default_factory[, ...]) --> dict wi...\u001b[0m\n",
      "    ├── \u001b[31m__eq__\u001b[0m: \u001b[36mmethod-wrapper : \u001b[30mReturn self==value.\u001b[0m\u001b[0m\n",
      "    ├── \u001b[31m__format__\u001b[0m: \u001b[36mbuiltin-method : \u001b[30mDefault object formatter....\u001b[0m\n",
      "    ├── \u001b[31m__ge__\u001b[0m: \u001b[36mmethod-wrapper : \u001b[30mReturn self>=value.\u001b[0m\u001b[0m\n",
      "    ├── \u001b[31m__getattribute__\u001b[0m: \u001b[36mmethod-wrapper : \u001b[30mReturn getattr(self, name...\u001b[0m\n",
      "    ├── \u001b[31m__getitem__\u001b[0m: \u001b[36mbuiltin-method : \u001b[30mx.__getitem__(y) <==> x[y...\u001b[0m\n",
      "    ├── \u001b[31m__gt__\u001b[0m: \u001b[36mmethod-wrapper : \u001b[30mReturn self>value.\u001b[0m\u001b[0m\n",
      "    ├── \u001b[31m__hash__\u001b[0m: \u001b[36mNone\u001b[0m\n",
      "    ├── \u001b[31m__init__\u001b[0m: \u001b[36mmethod-wrapper : \u001b[30mInitialize self.  See hel...\u001b[0m\n",
      "    ├── \u001b[31m__init_subclass__\u001b[0m: \u001b[36mbuiltin-method : \u001b[30mThis method is called whe...\u001b[0m\n",
      "    ├── \u001b[31m__iter__\u001b[0m: \u001b[36mmethod-wrapper : \u001b[30mImplement iter(self).\u001b[0m\u001b[0m\n",
      "    ├── \u001b[31m__le__\u001b[0m: \u001b[36mmethod-wrapper : \u001b[30mReturn self<=value.\u001b[0m\u001b[0m\n",
      "    ├── \u001b[31m__len__\u001b[0m: \u001b[36mmethod-wrapper : \u001b[30mReturn len(self).\u001b[0m\u001b[0m\n",
      "    ├── \u001b[31m__lt__\u001b[0m: \u001b[36mmethod-wrapper : \u001b[30mReturn self<value.\u001b[0m\u001b[0m\n",
      "    ├── \u001b[31m__missing__\u001b[0m: \u001b[36mbuiltin-method : \u001b[30m__missing__(key) # Called...\u001b[0m\n",
      "    ├── \u001b[31m__ne__\u001b[0m: \u001b[36mmethod-wrapper : \u001b[30mReturn self!=value.\u001b[0m\u001b[0m\n",
      "    ├── \u001b[31m__new__\u001b[0m: \u001b[36mbuiltin-method : \u001b[30mCreate and return a new o...\u001b[0m\n",
      "    ├── \u001b[31m__reduce__\u001b[0m: \u001b[36mbuiltin-method : \u001b[30mReturn state information ...\u001b[0m\n",
      "    ├── \u001b[31m__reduce_ex__\u001b[0m: \u001b[36mbuiltin-method : \u001b[30mHelper for pickle.\u001b[0m\u001b[0m\n",
      "    ├── \u001b[31m__repr__\u001b[0m: \u001b[36mmethod-wrapper : \u001b[30mReturn repr(self).\u001b[0m\u001b[0m\n",
      "    ├── \u001b[31m__setattr__\u001b[0m: \u001b[36mmethod-wrapper : \u001b[30mImplement setattr(self, n...\u001b[0m\n",
      "    ├── \u001b[31m__setitem__\u001b[0m: \u001b[36mmethod-wrapper : \u001b[30mSet self[key] to value.\u001b[0m\u001b[0m\n",
      "    ├── \u001b[31m__sizeof__\u001b[0m: \u001b[36mbuiltin-method : \u001b[30mD.__sizeof__() -> size of...\u001b[0m\n",
      "    ├── \u001b[31m__str__\u001b[0m: \u001b[36mmethod-wrapper : \u001b[30mReturn str(self).\u001b[0m\u001b[0m\n",
      "    ├── \u001b[31m__subclasshook__\u001b[0m: \u001b[36mbuiltin-method : \u001b[30mAbstract classes can over...\u001b[0m\n",
      "    ├── \u001b[31mclear\u001b[0m: \u001b[36mbuiltin-method : \u001b[30mD.clear() -> None.  Remov...\u001b[0m\n",
      "    ├── \u001b[31mcopy\u001b[0m: \u001b[36mbuiltin-method : \u001b[30mD.copy() -> a shallow cop...\u001b[0m\n",
      "    ├── \u001b[31mdefault_factory\u001b[0m: \u001b[36m<function <lambda> at 0x122c4e378>\u001b[0m\n",
      "    ├── \u001b[31mfromkeys\u001b[0m: \u001b[36mbuiltin-method : \u001b[30mCreate a new dictionary w...\u001b[0m\n",
      "    ├── \u001b[31mget\u001b[0m: \u001b[36mbuiltin-method : \u001b[30mReturn the value for key ...\u001b[0m\n",
      "    ├── \u001b[31mitems\u001b[0m: \u001b[36mbuiltin-method : \u001b[30mD.items() -> a set-like o...\u001b[0m\n",
      "    ├── \u001b[31mkeys\u001b[0m: \u001b[36mbuiltin-method : \u001b[30mD.keys() -> a set-like ob...\u001b[0m\n",
      "    ├── \u001b[31mpop\u001b[0m: \u001b[36mbuiltin-method : \u001b[30mD.pop(k[,d]) -> v, remove...\u001b[0m\n",
      "    ├── \u001b[31mpopitem\u001b[0m: \u001b[36mbuiltin-method : \u001b[30mD.popitem() -> (k, v), re...\u001b[0m\n",
      "    ├── \u001b[31msetdefault\u001b[0m: \u001b[36mbuiltin-method : \u001b[30mInsert key with a value o...\u001b[0m\n",
      "    ├── \u001b[31mupdate\u001b[0m: \u001b[36mbuiltin-method : \u001b[30mD.update([E, ]**F) -> Non...\u001b[0m\n",
      "    └── \u001b[31mvalues\u001b[0m: \u001b[36mbuiltin-method : \u001b[30mD.values() -> an object p...\u001b[0m\n",
      "\n",
      "\n",
      "\u001b[36mDocument: \n",
      "\u001b[0m└── defaultdict(default_factory[, ...]) --> dict with default factory\n",
      "     \n",
      "     The default factory is called without arguments to produce\n",
      "     a new value when a key is not present, in __getitem__ only.\n",
      "     A defaultdict compares equal to a dict with the same items.\n",
      "     All remaining arguments are treated the same as if they were\n",
      "     passed to the dict constructor, including keyword arguments.\n",
      "     \n",
      "\n",
      "\u001b[36mInner Struct:\n",
      "\u001b[0m└── /: \u001b[36mdefaultDict  1\u001b[0m\n",
      "    └── Starman: \u001b[31mBowie\u001b[0m\n",
      "\n",
      "\n",
      "\u001b[36mClasses: \n",
      "\u001b[0m└── \u001b[31mInstance\u001b[0m of \u001b[35mcollections.defaultdict\u001b[0m <-\u001b[35mdict\u001b[0m <-\u001b[35mobject\u001b[0m\n",
      "\n",
      "\u001b[36mTo Str: \n",
      "\u001b[0m└── \"defaultdict(<function <lambda> at 0x122c4e378>, {'Starman': 'Bowie'})\"\n",
      "\n"
     ]
    }
   ],
   "source": [
    "# try run this cell\n",
    "from collections import defaultdict\n",
    "from boxx import wtf\n",
    "\n",
    "ddict = defaultdict(lambda x:'boxx', Starman='Bowie')\n",
    "wtf-ddict"
   ]
  },
  {
   "cell_type": "markdown",
   "metadata": {},
   "source": [
    "### ▶ `logc` to pretty print expression by show every variable's value in expression\n",
    "`logc` is the meaning of \"Log Code\""
   ]
  },
  {
   "cell_type": "code",
   "execution_count": 22,
   "metadata": {
    "scrolled": false
   },
   "outputs": [
    {
     "name": "stdout",
     "output_type": "stream",
     "text": [
      "Code: \u001b[36m mean  \u001b[0m = (\u001b[36m  a   \u001b[0m + \u001b[36m   b   \u001b[0m) / 2\n",
      "  └── \u001b[31m0.58802\u001b[0m = (\u001b[31m0.9917\u001b[0m + \u001b[31m0.18433\u001b[0m) / 2\n"
     ]
    }
   ],
   "source": [
    "from random import random\n",
    "from boxx import logc\n",
    "a = random()\n",
    "b = random()\n",
    "logc(\"mean = (a + b) / 2\", exe=True) # exe=True mean exec(code)"
   ]
  },
  {
   "cell_type": "markdown",
   "metadata": {},
   "source": [
    "### ▶ `heatmap` to show the time heat map of your code"
   ]
  },
  {
   "cell_type": "code",
   "execution_count": 24,
   "metadata": {
    "scrolled": false
   },
   "outputs": [
    {
     "data": {
      "image/png": "[encoded data removed]",
      "text/plain": [
       "<Figure size 387x576 with 2 Axes>"
      ]
     },
     "metadata": {
      "needs_background": "light"
     },
     "output_type": "display_data"
    }
   ],
   "source": [
    "%matplotlib inline\n",
    "from boxx import heatmap\n",
    "\n",
    "heatmap('./yllab.py')"
   ]
  },
  {
   "cell_type": "markdown",
   "metadata": {},
   "source": [
    "`heatmap` also support python code string."
   ]
  },
  {
   "cell_type": "code",
   "execution_count": 25,
   "metadata": {},
   "outputs": [
    {
     "data": {
      "image/png": "[encoded data removed]",
      "text/plain": [
       "<Figure size 513x144 with 2 Axes>"
      ]
     },
     "metadata": {
      "needs_background": "light"
     },
     "output_type": "display_data"
    }
   ],
   "source": [
    "%matplotlib inline\n",
    "from boxx import heatmap\n",
    "\n",
    "code = '''\n",
    "def bad_fibonacci(x): # simulation Complex calculations\n",
    "    if x<=1 :\n",
    "        return 1\n",
    "    return x*bad_fibonacci(x-1)\n",
    "bad_fibonacci(3)\n",
    "'''\n",
    "heatmap(code)"
   ]
  },
  {
   "cell_type": "markdown",
   "metadata": {},
   "source": [
    "### ▶ `performance` could statistic function calls and visualize code performance"
   ]
  },
  {
   "cell_type": "code",
   "execution_count": 26,
   "metadata": {
    "scrolled": false
   },
   "outputs": [],
   "source": [
    "from boxx import performance\n",
    "\n",
    "performance('./yllab.py') \n",
    "# broswer will open a web page to visualization code perfomance if possible"
   ]
  },
  {
   "cell_type": "markdown",
   "metadata": {},
   "source": [
    "💡 **Note:** if you are runing this Notebook on [Binder](https://mybinder.org/v2/gh/DIYer22/boxx/master?filepath=tutorial_for_boxx.ipynb), Browser won't open the web page. Please see demo here [performance demo.gif](https://raw.githubusercontent.com/DIYer22/boxx/master/other/gif/performance.gif)\n",
    "\n",
    "---\n",
    "\n",
    "`performance` also support python code string."
   ]
  },
  {
   "cell_type": "code",
   "execution_count": 27,
   "metadata": {},
   "outputs": [],
   "source": [
    "code = '''\n",
    "def bad_fibonacci(x): # simulation Complex calculations\n",
    "    if x<=1 :\n",
    "        return 1\n",
    "    return x*bad_fibonacci(x-1)\n",
    "bad_fibonacci(5)\n",
    "'''\n",
    "performance(code) \n",
    "# broswer will open a web page to visualization code perfomance if possible"
   ]
  },
  {
   "cell_type": "markdown",
   "metadata": {},
   "source": [
    "### ▶ `dicto` is a convenient version of `dict`\n",
    "`dicto` is the meaning of \"dict that like Object\""
   ]
  },
  {
   "cell_type": "code",
   "execution_count": 28,
   "metadata": {
    "scrolled": false
   },
   "outputs": [
    {
     "name": "stdout",
     "output_type": "stream",
     "text": [
      "22\n"
     ]
    },
    {
     "data": {
      "text/plain": [
       "{'a': 22, 'b': 517}"
      ]
     },
     "execution_count": 28,
     "metadata": {},
     "output_type": "execute_result"
    }
   ],
   "source": [
    "from boxx import dicto\n",
    "d = {'a':22}\n",
    "\n",
    "dd = dicto(d)\n",
    "print(dd.a)\n",
    "\n",
    "dd.b = 517\n",
    "dd"
   ]
  },
  {
   "cell_type": "markdown",
   "metadata": {},
   "source": [
    "💡 **Note:**  `dicto` is sub-class of `dict` that is easy to use, allows to get and set `dict` values as attributes.  \n",
    "\n",
    "BTW, `boxx.cf` is a `dicto` instance that could save your global config, and it could be used at all your `.py` files by `from boxx import cf` "
   ]
  },
  {
   "cell_type": "markdown",
   "metadata": {},
   "source": [
    "### ▶ `ll` is a convenient tool for `list`\n",
    "`ll` is the meaning of \"List tooL\""
   ]
  },
  {
   "cell_type": "code",
   "execution_count": 29,
   "metadata": {
    "scrolled": false
   },
   "outputs": [
    {
     "name": "stdout",
     "output_type": "stream",
     "text": [
      "[0, 1, 2, 3, 4]\n",
      "[(0,), (1,)]\n"
     ]
    },
    {
     "data": {
      "text/plain": [
       "[0, 1]"
      ]
     },
     "execution_count": 29,
     "metadata": {},
     "output_type": "execute_result"
    }
   ],
   "source": [
    "from boxx import ll\n",
    "\n",
    "print(ll * 5) # instead of list(range(5))\n",
    "\n",
    "print(ll/zip([0, 1])) # quick way to do `list(x)` when x iterable\n",
    "\n",
    "ll # BTW, ll self is a list "
   ]
  },
  {
   "cell_type": "markdown",
   "metadata": {},
   "source": [
    "### ▶ `sysi` include many infomation about operating environment"
   ]
  },
  {
   "cell_type": "code",
   "execution_count": 30,
   "metadata": {
    "scrolled": true
   },
   "outputs": [
    {
     "name": "stdout",
     "output_type": "stream",
     "text": [
      "\u001b[36mClasses: \n",
      "\u001b[0m└── \u001b[31mInstance\u001b[0m of \u001b[35mboxx.ylsys.SystemInfo\u001b[0m <-\u001b[35mobject\u001b[0m\n",
      "\u001b[36mAttrs: \u001b[0m\n",
      "Filter by pattern: \"\u001b[31m^[^_]\u001b[0m\"\n",
      "└── \u001b[31mboxx.ylsys.SystemInfo\u001b[0m: \u001b[36m12 attrs, \u001b[30msys info\u001b[0m\u001b[0m\n",
      "    ├── \u001b[31mcpun\u001b[0m: \u001b[36m8\u001b[0m\n",
      "    ├── \u001b[31mcuda\u001b[0m: \u001b[36mFalse\u001b[0m\n",
      "    ├── \u001b[31mdisplay\u001b[0m: \u001b[36mTrue\u001b[0m\n",
      "    ├── \u001b[31mgui\u001b[0m: \u001b[36mTrue\u001b[0m\n",
      "    ├── \u001b[31mhost\u001b[0m: \u001b[36ms-MacBook-Pro.fios-router.home\u001b[0m\n",
      "    ├── \u001b[31mlinux\u001b[0m: \u001b[36mFalse\u001b[0m\n",
      "    ├── \u001b[31mos\u001b[0m: \u001b[36mdarwin\u001b[0m\n",
      "    ├── \u001b[31mosx\u001b[0m: \u001b[36mTrue\u001b[0m\n",
      "    ├── \u001b[31mpyv\u001b[0m: \u001b[36m3\u001b[0m\n",
      "    ├── \u001b[31mtmp\u001b[0m: \u001b[36m/tmp/\u001b[0m\n",
      "    ├── \u001b[31muser\u001b[0m: \u001b[36mjames\u001b[0m\n",
      "    └── \u001b[31mwin\u001b[0m: \u001b[36mFalse\u001b[0m\n"
     ]
    }
   ],
   "source": [
    "from boxx import dira, sysi\n",
    "\n",
    "dira(sysi, pattern='^[^_]')"
   ]
  },
  {
   "cell_type": "markdown",
   "metadata": {},
   "source": [
    "Use `sysi.cpun`, `sysi.user`, `sysi.host` to let code know wether the environment is local or remote."
   ]
  },
  {
   "cell_type": "markdown",
   "metadata": {},
   "source": [
    "## 2. Scientific Computing and Computer Vision Tool\n",
    "\n",
    "The tools introduced in [**General Python Tool**](#1.-General-Python-Tool) are also useful in Scientific Computing and Computer Vision(SC&CV) field. \n",
    "\n",
    "In this section we will introduce tools that only uesed in SC&CV field.\n",
    "\n",
    "BTW. Those tools support many array-like types include `numpy`, `torch.tensor`， `mxnet.ndarray`, `PIL.Image`.etc   "
   ]
  },
  {
   "cell_type": "markdown",
   "metadata": {},
   "source": [
    "### ▶ `loga` for visualization matrix and tensor\n",
    "`loga` is the meaning of \"log array\""
   ]
  },
  {
   "cell_type": "code",
   "execution_count": 31,
   "metadata": {},
   "outputs": [
    {
     "name": "stdout",
     "output_type": "stream",
     "text": [
      "shape:\u001b[31m(5, 3, 244, 244)\u001b[0m type:(\u001b[31mfloat64\u001b[0m of \u001b[31mnumpy.ndarray\u001b[0m) max: \u001b[31m4.4433\u001b[0m, min: \u001b[31m-4.5908\u001b[0m, mean: \u001b[31m5.145e-4\u001b[0m\n"
     ]
    },
    {
     "data": {
      "image/png": "[encoded data removed]",
      "text/plain": [
       "<Figure size 432x288 with 1 Axes>"
      ]
     },
     "metadata": {
      "needs_background": "light"
     },
     "output_type": "display_data"
    }
   ],
   "source": [
    "%matplotlib inline\n",
    "import numpy as np\n",
    "array = np.random.normal(size=(5,3, 244, 244))\n",
    "\n",
    "from boxx import loga\n",
    "loga(array)"
   ]
  },
  {
   "cell_type": "markdown",
   "metadata": {},
   "source": [
    "💡 **Note:**\n",
    "\n",
    "* `loga` analysis the `numpy.ndarray` by it's shape, max, min, mean, and distribute.  \n",
    "\n",
    "* `loga` support other array-like types include list, `numpy`, `torch.tensor`, `mxnet.ndarray`, `PIL.Image`.etc\n",
    "\n",
    "* `loga` will tell you how many `nan`, `inf` in the array if array include `nan`, `inf`:"
   ]
  },
  {
   "cell_type": "code",
   "execution_count": 32,
   "metadata": {
    "scrolled": true
   },
   "outputs": [
    {
     "name": "stderr",
     "output_type": "stream",
     "text": [
      "/Users/james/anaconda3/lib/python3.7/site-packages/numpy/core/_methods.py:75: RuntimeWarning: invalid value encountered in reduce\n",
      "  ret = umr_sum(arr, axis, dtype, out, keepdims)\n"
     ]
    },
    {
     "name": "stdout",
     "output_type": "stream",
     "text": [
      "shape:\u001b[31m(5, 3, 244, 244)\u001b[0m type:(\u001b[31mfloat64\u001b[0m of \u001b[31mnumpy.ndarray\u001b[0m) max: \u001b[31mnan\u001b[0m, min: \u001b[31mnan\u001b[0m, mean: \u001b[31mnan\u001b[0m\u001b[31m\n",
      "\n",
      "Notice: \u001b[0m\u001b[35m\"nan\":36600 (4.10%), \u001b[0m\u001b[35m\"inf\":70200 (7.86%), \u001b[0m finite max: 4.4433, finite min: -4.5908, finite mean: -1.33e-4\n"
     ]
    },
    {
     "data": {
      "image/png": "[encoded data removed]",
      "text/plain": [
       "<Figure size 432x288 with 1 Axes>"
      ]
     },
     "metadata": {
      "needs_background": "light"
     },
     "output_type": "display_data"
    }
   ],
   "source": [
    "array[...,:10] = np.inf\n",
    "array[...,-10:] = -np.inf\n",
    "array[...,:10,:] = np.nan\n",
    "loga(array)"
   ]
  },
  {
   "cell_type": "markdown",
   "metadata": {},
   "source": [
    "### ▶ `tree` to visualization complex struct for Scientific Computing"
   ]
  },
  {
   "cell_type": "code",
   "execution_count": 33,
   "metadata": {
    "scrolled": true
   },
   "outputs": [
    {
     "ename": "FileNotFoundError",
     "evalue": "[Errno 2] No such file or directory: 'test/imgForTest/Lenna.jpg'",
     "output_type": "error",
     "traceback": [
      "\u001b[0;31m---------------------------------------------------------------------------\u001b[0m",
      "\u001b[0;31mFileNotFoundError\u001b[0m                         Traceback (most recent call last)",
      "\u001b[0;32m<ipython-input-33-a184d7cc25f0>\u001b[0m in \u001b[0;36m<module>\u001b[0;34m\u001b[0m\n\u001b[1;32m      4\u001b[0m \u001b[0mimage_path\u001b[0m \u001b[0;34m=\u001b[0m \u001b[0;34m'test/imgForTest/img.jpg'\u001b[0m\u001b[0;34m\u001b[0m\u001b[0;34m\u001b[0m\u001b[0m\n\u001b[1;32m      5\u001b[0m \u001b[0mground_truth_path\u001b[0m \u001b[0;34m=\u001b[0m \u001b[0;34m'test/imgForTest/gt_seg.png'\u001b[0m\u001b[0;34m\u001b[0m\u001b[0;34m\u001b[0m\u001b[0m\n\u001b[0;32m----> 6\u001b[0;31m \u001b[0mLenna\u001b[0m \u001b[0;34m=\u001b[0m \u001b[0mimread\u001b[0m\u001b[0;34m(\u001b[0m\u001b[0;34m'test/imgForTest/Lenna.jpg'\u001b[0m\u001b[0;34m)\u001b[0m\u001b[0;34m\u001b[0m\u001b[0;34m\u001b[0m\u001b[0m\n\u001b[0m\u001b[1;32m      7\u001b[0m \u001b[0;34m\u001b[0m\u001b[0m\n\u001b[1;32m      8\u001b[0m \u001b[0mimage\u001b[0m \u001b[0;34m=\u001b[0m \u001b[0mimread\u001b[0m\u001b[0;34m(\u001b[0m\u001b[0mimage_path\u001b[0m\u001b[0;34m)\u001b[0m\u001b[0;34m\u001b[0m\u001b[0;34m\u001b[0m\u001b[0m\n",
      "\u001b[0;32m~/anaconda3/lib/python3.7/site-packages/skimage/io/_io.py\u001b[0m in \u001b[0;36mimread\u001b[0;34m(fname, as_gray, plugin, flatten, **plugin_args)\u001b[0m\n\u001b[1;32m     60\u001b[0m \u001b[0;34m\u001b[0m\u001b[0m\n\u001b[1;32m     61\u001b[0m     \u001b[0;32mwith\u001b[0m \u001b[0mfile_or_url_context\u001b[0m\u001b[0;34m(\u001b[0m\u001b[0mfname\u001b[0m\u001b[0;34m)\u001b[0m \u001b[0;32mas\u001b[0m \u001b[0mfname\u001b[0m\u001b[0;34m:\u001b[0m\u001b[0;34m\u001b[0m\u001b[0;34m\u001b[0m\u001b[0m\n\u001b[0;32m---> 62\u001b[0;31m         \u001b[0mimg\u001b[0m \u001b[0;34m=\u001b[0m \u001b[0mcall_plugin\u001b[0m\u001b[0;34m(\u001b[0m\u001b[0;34m'imread'\u001b[0m\u001b[0;34m,\u001b[0m \u001b[0mfname\u001b[0m\u001b[0;34m,\u001b[0m \u001b[0mplugin\u001b[0m\u001b[0;34m=\u001b[0m\u001b[0mplugin\u001b[0m\u001b[0;34m,\u001b[0m \u001b[0;34m**\u001b[0m\u001b[0mplugin_args\u001b[0m\u001b[0;34m)\u001b[0m\u001b[0;34m\u001b[0m\u001b[0;34m\u001b[0m\u001b[0m\n\u001b[0m\u001b[1;32m     63\u001b[0m \u001b[0;34m\u001b[0m\u001b[0m\n\u001b[1;32m     64\u001b[0m     \u001b[0;32mif\u001b[0m \u001b[0;32mnot\u001b[0m \u001b[0mhasattr\u001b[0m\u001b[0;34m(\u001b[0m\u001b[0mimg\u001b[0m\u001b[0;34m,\u001b[0m \u001b[0;34m'ndim'\u001b[0m\u001b[0;34m)\u001b[0m\u001b[0;34m:\u001b[0m\u001b[0;34m\u001b[0m\u001b[0;34m\u001b[0m\u001b[0m\n",
      "\u001b[0;32m~/anaconda3/lib/python3.7/site-packages/skimage/io/manage_plugins.py\u001b[0m in \u001b[0;36mcall_plugin\u001b[0;34m(kind, *args, **kwargs)\u001b[0m\n\u001b[1;32m    212\u001b[0m                                (plugin, kind))\n\u001b[1;32m    213\u001b[0m \u001b[0;34m\u001b[0m\u001b[0m\n\u001b[0;32m--> 214\u001b[0;31m     \u001b[0;32mreturn\u001b[0m \u001b[0mfunc\u001b[0m\u001b[0;34m(\u001b[0m\u001b[0;34m*\u001b[0m\u001b[0margs\u001b[0m\u001b[0;34m,\u001b[0m \u001b[0;34m**\u001b[0m\u001b[0mkwargs\u001b[0m\u001b[0;34m)\u001b[0m\u001b[0;34m\u001b[0m\u001b[0;34m\u001b[0m\u001b[0m\n\u001b[0m\u001b[1;32m    215\u001b[0m \u001b[0;34m\u001b[0m\u001b[0m\n\u001b[1;32m    216\u001b[0m \u001b[0;34m\u001b[0m\u001b[0m\n",
      "\u001b[0;32m~/anaconda3/lib/python3.7/site-packages/skimage/io/_plugins/pil_plugin.py\u001b[0m in \u001b[0;36mimread\u001b[0;34m(fname, dtype, img_num, **kwargs)\u001b[0m\n\u001b[1;32m     33\u001b[0m     \"\"\"\n\u001b[1;32m     34\u001b[0m     \u001b[0;32mif\u001b[0m \u001b[0misinstance\u001b[0m\u001b[0;34m(\u001b[0m\u001b[0mfname\u001b[0m\u001b[0;34m,\u001b[0m \u001b[0mstring_types\u001b[0m\u001b[0;34m)\u001b[0m\u001b[0;34m:\u001b[0m\u001b[0;34m\u001b[0m\u001b[0;34m\u001b[0m\u001b[0m\n\u001b[0;32m---> 35\u001b[0;31m         \u001b[0;32mwith\u001b[0m \u001b[0mopen\u001b[0m\u001b[0;34m(\u001b[0m\u001b[0mfname\u001b[0m\u001b[0;34m,\u001b[0m \u001b[0;34m'rb'\u001b[0m\u001b[0;34m)\u001b[0m \u001b[0;32mas\u001b[0m \u001b[0mf\u001b[0m\u001b[0;34m:\u001b[0m\u001b[0;34m\u001b[0m\u001b[0;34m\u001b[0m\u001b[0m\n\u001b[0m\u001b[1;32m     36\u001b[0m             \u001b[0mim\u001b[0m \u001b[0;34m=\u001b[0m \u001b[0mImage\u001b[0m\u001b[0;34m.\u001b[0m\u001b[0mopen\u001b[0m\u001b[0;34m(\u001b[0m\u001b[0mf\u001b[0m\u001b[0;34m)\u001b[0m\u001b[0;34m\u001b[0m\u001b[0;34m\u001b[0m\u001b[0m\n\u001b[1;32m     37\u001b[0m             \u001b[0;32mreturn\u001b[0m \u001b[0mpil_to_ndarray\u001b[0m\u001b[0;34m(\u001b[0m\u001b[0mim\u001b[0m\u001b[0;34m,\u001b[0m \u001b[0mdtype\u001b[0m\u001b[0;34m=\u001b[0m\u001b[0mdtype\u001b[0m\u001b[0;34m,\u001b[0m \u001b[0mimg_num\u001b[0m\u001b[0;34m=\u001b[0m\u001b[0mimg_num\u001b[0m\u001b[0;34m)\u001b[0m\u001b[0;34m\u001b[0m\u001b[0;34m\u001b[0m\u001b[0m\n",
      "\u001b[0;31mFileNotFoundError\u001b[0m: [Errno 2] No such file or directory: 'test/imgForTest/Lenna.jpg'"
     ]
    }
   ],
   "source": [
    "# prepare images\n",
    "import numpy as np\n",
    "from skimage.io import imread\n",
    "image_path = 'test/imgForTest/img.jpg'\n",
    "ground_truth_path = 'test/imgForTest/gt_seg.png'\n",
    "Lenna = imread('test/imgForTest/Lenna.jpg')\n",
    "\n",
    "image = imread(image_path)\n",
    "ground_truth = imread(ground_truth_path)\n",
    "\n",
    "# complex struct\n",
    "batch = dict(\n",
    "    path=(image_path, ground_truth_path),\n",
    "    img=image, \n",
    "    gt=ground_truth, \n",
    "    listt=[\n",
    "        np.append(image, ground_truth[..., None], -1),\n",
    "        np.array([Lenna, Lenna]),\n",
    "    ],\n",
    ")\n",
    "\n",
    "from boxx import  tree\n",
    "print('visualization the struct:')\n",
    "tree(batch)"
   ]
  },
  {
   "cell_type": "markdown",
   "metadata": {},
   "source": [
    "Like `tree` command in shell, `boxx.tree` could visualization  complex struct (like `a batch of data`) in tree format.   \n",
    "💡 **Note:**\n",
    "\n",
    " * Support types include `list`, `tuple`, `dict`, `numpy`, `torch.tensor`， `mxnet.ndarray`, `PIL.Image`.etc   \n",
    "\n",
    " * Support sample a batch from `torch.Dataset`, `torch.DataLoader`. then visualization the batch's struct."
   ]
  },
  {
   "cell_type": "markdown",
   "metadata": {},
   "source": [
    "### ▶ `show` is easy to do `imshow`, even images are in complex struct"
   ]
  },
  {
   "cell_type": "code",
   "execution_count": null,
   "metadata": {},
   "outputs": [],
   "source": [
    "%matplotlib inline\n",
    "from skimage.io import imread\n",
    "Lenna = imread('test/imgForTest/Lenna.jpg')\n",
    "\n",
    "from boxx import show\n",
    "show(Lenna)"
   ]
  },
  {
   "cell_type": "markdown",
   "metadata": {},
   "source": [
    "↓ `show` could find every image in complex struct and `plt.imshow` they."
   ]
  },
  {
   "cell_type": "code",
   "execution_count": null,
   "metadata": {},
   "outputs": [],
   "source": [
    "%matplotlib inline\n",
    "# prepare images\n",
    "import numpy as np\n",
    "from skimage.io import imread\n",
    "image_path = 'test/imgForTest/img.jpg'\n",
    "ground_truth_path = 'test/imgForTest/gt_seg.png'\n",
    "Lenna = imread('test/imgForTest/Lenna.jpg')\n",
    "\n",
    "image = imread(image_path)\n",
    "ground_truth = imread(ground_truth_path)\n",
    "\n",
    "# complex struct\n",
    "batch = dict(\n",
    "    path=(image_path, ground_truth_path),\n",
    "    img=image, \n",
    "    gt=ground_truth, \n",
    "    listt=[\n",
    "        np.append(image, ground_truth[..., None], -1),\n",
    "        np.array([Lenna, Lenna]),\n",
    "    ],\n",
    ")\n",
    "\n",
    "from boxx import show, tree\n",
    "print('the struct of batch:')\n",
    "tree(batch)\n",
    "print('show all images in batch:')\n",
    "show(batch)"
   ]
  },
  {
   "cell_type": "markdown",
   "metadata": {},
   "source": [
    "💡 **Note:**\n",
    "\n",
    " * Support image types include `numpy`, `torch.tensor`， `mxnet.ndarray`, `PIL.Image`.etc   \n",
    "\n",
    " * And Support sample a batch from `torch.Dataset`, `torch.DataLoader`, then `plt.imshow` the batch."
   ]
  },
  {
   "cell_type": "markdown",
   "metadata": {},
   "source": [
    "### ▶ `npa` transform other array-like object to numpy in one way\n",
    "`npa` is the meaning of \"numpy.array\", use magic method to quick transform other numpy like object to numpy, suport `torch.tensor`, `mxnet.ndarray`, `PIL.Image`, `list`, `tuple` .etc"
   ]
  },
  {
   "cell_type": "code",
   "execution_count": null,
   "metadata": {},
   "outputs": [],
   "source": [
    "from boxx import npa\n",
    "\n",
    "print(npa-range(3))\n",
    "\n",
    "import numpy as np\n",
    "r = npa-range(3)\n",
    "npa**[r, r]"
   ]
  }
 ],
 "metadata": {
  "kernelspec": {
   "display_name": "Python 3",
   "language": "python",
   "name": "python3"
  },
  "language_info": {
   "codemirror_mode": {
    "name": "ipython",
    "version": 3
   },
   "file_extension": ".py",
   "mimetype": "text/x-python",
   "name": "python",
   "nbconvert_exporter": "python",
   "pygments_lexer": "ipython3",
   "version": "3.7.3"
  },
  "toc": {
   "base_numbering": 1,
   "nav_menu": {},
   "number_sections": true,
   "sideBar": true,
   "skip_h1_title": false,
   "title_cell": "Table of Contents",
   "title_sidebar": "Contents",
   "toc_cell": false,
   "toc_position": {},
   "toc_section_display": true,
   "toc_window_display": false
  }
 },
 "nbformat": 4,
 "nbformat_minor": 2
}
