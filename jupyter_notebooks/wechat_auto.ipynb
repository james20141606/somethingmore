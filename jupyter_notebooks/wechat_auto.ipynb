{
 "cells": [
  {
   "cell_type": "code",
   "execution_count": 1,
   "metadata": {},
   "outputs": [
    {
     "name": "stdout",
     "output_type": "stream",
     "text": [
      "█\r"
     ]
    },
    {
     "name": "stderr",
     "output_type": "stream",
     "text": [
      "Getting uuid of QR code.\n",
      "Downloading QR code.\n",
      "Please scan the QR code to log in.\n",
      "Please press confirm on your phone.\n",
      "Loading the contact, this may take a little while.\n",
      "Login successfully as 陈旭鹏\n",
      "Start auto replying.\n",
      "LOG OUT!\n"
     ]
    }
   ],
   "source": [
    "import itchat\n",
    "import requests\n",
    "import time\n",
    "import random\n",
    "from itchat.content import *\n",
    "\n",
    "\n",
    "# 用于记录回复过的好友\n",
    "replied = []\n",
    "\n",
    "\n",
    "# 获取新年祝福语\n",
    "def GetRandomGreeting():\n",
    "\tres = requests.get(\"http://www.xjihe.com/api/life/greetings?festival=新年&page=10\", headers = {'apiKey':'sQS2ylErlfm9Ao2oNPqw6TqMYbJjbs4g'})\n",
    "\tresults = res.json()['result']\n",
    "\treturn results[random.randrange(len(results))]['words']\n",
    "\n",
    "\n",
    "# 发送新年祝福语\n",
    "def SendGreeting(msg):\n",
    "    global replied\n",
    "    friend = itchat.search_friends(userName=msg['FromUserName'])\n",
    "    print (friend,friend['RemarkName'])\n",
    "\n",
    "    if friend['RemarkName']:\n",
    "        itchat.send(('陈旭鹏祝您新的一年身体健康，笑口常开，万事胜意，幸福快乐~'), msg['FromUserName'])\n",
    "    else:\n",
    "        itchat.send(('陈旭鹏祝您新的一年身体健康，笑口常开，万事胜意，幸福快乐~'), msg['FromUserName'])\n",
    "    replied.append(msg['FromUserName'])\n",
    "\n",
    "\n",
    "# 文本消息\n",
    "@itchat.msg_register([itchat.content.TEXT])\n",
    "def text_reply(msg):\n",
    "    if '新年' in msg['Text']:#: and msg['FromUserName'] not in replied:\n",
    "        SendGreeting(msg)\n",
    "    friend = itchat.search_friends(userName=msg['FromUserName'])\n",
    "    if friend['NickName'] =='陈旭鹏':\n",
    "        itchat.send(('我就测试一下不说话'), msg['FromUserName'])\n",
    "    if friend['NickName'] =='孟孟':\n",
    "        #itchat.send(('朵宝我喜欢你'), msg['FromUserName'])\n",
    "        if '喜欢' in msg['Text']:\n",
    "            itchat.send(('喜欢朵宝'), msg['FromUserName'])\n",
    "        if '爱你' in msg['Text']:\n",
    "            itchat.send(('朵宝我爱你'), msg['FromUserName'])\n",
    "        if '最可爱' in msg['Text']:\n",
    "            itchat.send(('我的朵宝最可爱~'), msg['FromUserName'])\n",
    "        if '瘦' in msg['Text']:\n",
    "            itchat.send(('自己找个镜子照照吧~~'), msg['FromUserName'])\n",
    "        if '我最美' in msg['Text']:\n",
    "            itchat.send(('我这就去淘宝给你买个镜子'), msg['FromUserName'])\n",
    "        if '机器人' in msg['Text']:\n",
    "            itchat.send(('我不是机器人，我是高级的人工智能生命体'), msg['FromUserName'])\n",
    "        if '呆呆' in msg['Text']:\n",
    "            itchat.send(('嗯嗯'), msg['FromUserName'])\n",
    "        if '在吗' in msg['Text']:\n",
    "            itchat.send(('我在呢'), msg['FromUserName'])\n",
    "        if '人呢' in msg['Text']:\n",
    "            itchat.send(('突然出现~'), msg['FromUserName'])\n",
    "        if '胖' in msg['Text']:\n",
    "            itchat.send(('朵宝小瘦墩'), msg['FromUserName'])\n",
    "        if '在哪' in msg['Text']:\n",
    "            itchat.send(('我在朵宝心里'), msg['FromUserName'])\n",
    "        if '晚安' in msg['Text']:\n",
    "            itchat.send(('晚安爱你么么哒~'), msg['FromUserName'])\n",
    "        if '早安' in msg['Text']:\n",
    "            itchat.send(('早~'), msg['FromUserName'])\n",
    "        if '嘿嘿' in msg['Text']:\n",
    "            itchat.send(('我是一头小猪猪我每天嘿嘿嘿~'), msg['FromUserName'])\n",
    "        if '呆呆我好爱你' in msg['Text']:\n",
    "            itchat.send(('你触发了我的神秘机关，我会告诉你一个秘密'), msg['FromUserName'])\n",
    "        if '什么秘密' in msg['Text']:\n",
    "            itchat.send(('这个秘密关乎着地球的未来，亿万人的生命，和宇宙的安危'), msg['FromUserName'])\n",
    "        if '怎么解密' in msg['Text']:\n",
    "            itchat.send(('你需要在七日内从陈旭鹏手中拿到传说中的神器三叉戟，才有拯救人类的希望'), msg['FromUserName'])\n",
    "        \n",
    "\"\"\"\n",
    "# 其他消息\n",
    "@itchat.msg_register([itchat.content.PICTURE, itchat.content.RECORDING, itchat.content.VIDEO, itchat.content.SHARING])\n",
    "def others_reply(msg):\n",
    "\tif msg['FromUserName'] not in replied:\n",
    "\t\tSendGreeting(msg)\n",
    "\"\"\"\n",
    "\n",
    "\n",
    "if __name__ == '__main__':\n",
    "\n",
    "\titchat.auto_login()\n",
    "\titchat.run()"
   ]
  },
  {
   "cell_type": "code",
   "execution_count": 1,
   "metadata": {},
   "outputs": [
    {
     "name": "stdout",
     "output_type": "stream",
     "text": [
      "█\r"
     ]
    },
    {
     "name": "stderr",
     "output_type": "stream",
     "text": [
      "Getting uuid of QR code.\n",
      "Downloading QR code.\n",
      "Please scan the QR code to log in.\n",
      "Please press confirm on your phone.\n",
      "Loading the contact, this may take a little while.\n",
      "Login successfully as 陈旭鹏\n",
      "Start auto replying.\n",
      "Bye~\n"
     ]
    },
    {
     "data": {
      "application/vnd.jupyter.widget-view+json": {
       "model_id": "a39ea9f6cc684129b121d0106d3baaaa",
       "version_major": 2,
       "version_minor": 0
      },
      "text/plain": [
       "HBox(children=(IntProgress(value=0, max=1000), HTML(value='')))"
      ]
     },
     "metadata": {},
     "output_type": "display_data"
    },
    {
     "name": "stdout",
     "output_type": "stream",
     "text": [
      "\n"
     ]
    },
    {
     "ename": "KeyboardInterrupt",
     "evalue": "",
     "output_type": "error",
     "traceback": [
      "\u001b[0;31m---------------------------------------------------------------------------\u001b[0m",
      "\u001b[0;31mKeyboardInterrupt\u001b[0m                         Traceback (most recent call last)",
      "\u001b[0;32m<ipython-input-1-4f6c13b53b66>\u001b[0m in \u001b[0;36m<module>\u001b[0;34m()\u001b[0m\n\u001b[1;32m     14\u001b[0m \u001b[0;34m\u001b[0m\u001b[0m\n\u001b[1;32m     15\u001b[0m \u001b[0;32mfor\u001b[0m \u001b[0mi\u001b[0m \u001b[0;32min\u001b[0m \u001b[0mtqdm\u001b[0m\u001b[0;34m(\u001b[0m\u001b[0mrange\u001b[0m\u001b[0;34m(\u001b[0m\u001b[0;36m1000\u001b[0m\u001b[0;34m)\u001b[0m\u001b[0;34m)\u001b[0m\u001b[0;34m:\u001b[0m\u001b[0;34m\u001b[0m\u001b[0m\n\u001b[0;32m---> 16\u001b[0;31m     \u001b[0mtime\u001b[0m\u001b[0;34m.\u001b[0m\u001b[0msleep\u001b[0m\u001b[0;34m(\u001b[0m\u001b[0;36m5\u001b[0m\u001b[0;34m)\u001b[0m\u001b[0;34m\u001b[0m\u001b[0m\n\u001b[0m\u001b[1;32m     17\u001b[0m     \u001b[0mb\u001b[0m \u001b[0;34m=\u001b[0m \u001b[0mrandom\u001b[0m\u001b[0;34m.\u001b[0m\u001b[0mrandint\u001b[0m\u001b[0;34m(\u001b[0m\u001b[0;36m0\u001b[0m\u001b[0;34m,\u001b[0m\u001b[0;36m10\u001b[0m\u001b[0;34m)\u001b[0m\u001b[0;34m\u001b[0m\u001b[0m\n\u001b[1;32m     18\u001b[0m     \u001b[0;32mif\u001b[0m \u001b[0mb\u001b[0m \u001b[0;34m==\u001b[0m\u001b[0;36m5\u001b[0m\u001b[0;34m:\u001b[0m\u001b[0;34m\u001b[0m\u001b[0m\n",
      "\u001b[0;31mKeyboardInterrupt\u001b[0m: "
     ]
    }
   ],
   "source": [
    "import itchat\n",
    "import requests\n",
    "import time\n",
    "import random\n",
    "from tqdm import tqdm_notebook as tqdm\n",
    "from itchat.content import *\n",
    "from IPython.display import Image\n",
    "\n",
    "\n",
    "itchat.auto_login()\n",
    "\n",
    "\n",
    "itchat.run()\n",
    "\n",
    "for i in tqdm(range(1000)):\n",
    "    time.sleep(5)\n",
    "    b = random.randint(0,10)\n",
    "    if b ==5:\n",
    "        itchat.send(('random number is', b), msg['FromUserName'])"
   ]
  },
  {
   "cell_type": "code",
   "execution_count": null,
   "metadata": {},
   "outputs": [],
   "source": []
  }
 ],
 "metadata": {
  "kernelspec": {
   "display_name": "Python 3",
   "language": "python",
   "name": "python3"
  },
  "language_info": {
   "codemirror_mode": {
    "name": "ipython",
    "version": 2
   },
   "file_extension": ".py",
   "mimetype": "text/x-python",
   "name": "python",
   "nbconvert_exporter": "python",
   "pygments_lexer": "ipython2",
   "version": "2.7.15"
  },
  "toc": {
   "base_numbering": 1,
   "nav_menu": {},
   "number_sections": true,
   "sideBar": true,
   "skip_h1_title": false,
   "title_cell": "Table of Contents",
   "title_sidebar": "Contents",
   "toc_cell": false,
   "toc_position": {},
   "toc_section_display": true,
   "toc_window_display": false
  }
 },
 "nbformat": 4,
 "nbformat_minor": 2
}
