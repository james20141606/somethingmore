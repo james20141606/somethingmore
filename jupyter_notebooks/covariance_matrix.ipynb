{
 "cells": [
  {
   "cell_type": "code",
   "execution_count": 1,
   "metadata": {},
   "outputs": [
    {
     "name": "stdout",
     "output_type": "stream",
     "text": [
      "Populating the interactive namespace from numpy and matplotlib\n"
     ]
    }
   ],
   "source": [
    "%pylab inline"
   ]
  },
  {
   "cell_type": "code",
   "execution_count": 3,
   "metadata": {},
   "outputs": [
    {
     "data": {
      "text/plain": [
       "array([[-1.38720252,  0.6112495 , -0.20616469,  0.53407545,  0.19832155],\n",
       "       [ 0.42419555, -0.1326137 , -1.70921632,  0.85446296, -1.47398005],\n",
       "       [-1.0692226 , -1.42848107, -0.32102274, -0.40194117, -1.08707484],\n",
       "       [ 1.01245628, -1.01275532,  0.71027166,  1.75953038,  0.47046431],\n",
       "       [-2.28392874, -2.72786238,  1.24803326,  1.13616526,  1.13312436],\n",
       "       [ 1.24248176,  0.71365167,  0.6335789 ,  1.03692199,  2.06811938],\n",
       "       [ 0.50828857, -0.08387518,  1.66847675, -0.48150462,  0.54211228],\n",
       "       [ 0.88464152, -0.3367569 , -0.34552752, -1.38596147, -1.36779786],\n",
       "       [ 1.02451014, -0.35566746, -0.29258111, -0.51681638,  1.44207712],\n",
       "       [ 0.76413686,  0.69571829,  1.77621944,  0.04184676,  0.26516562]])"
      ]
     },
     "execution_count": 3,
     "metadata": {},
     "output_type": "execute_result"
    }
   ],
   "source": [
    "X = np.random.normal(size=(10, 5))\n",
    "X"
   ]
  },
  {
   "cell_type": "code",
   "execution_count": 26,
   "metadata": {},
   "outputs": [
    {
     "data": {
      "text/plain": [
       "array([[ 1.50906921,  0.77733613, -0.0215819 , -0.19230929,  0.13556371],\n",
       "       [ 0.77733613,  1.16585509, -0.05702417, -0.17649142,  0.0837239 ],\n",
       "       [-0.0215819 , -0.05702417,  1.18604122,  0.10771161,  0.73551235],\n",
       "       [-0.19230929, -0.17649142,  0.10771161,  0.93294814,  0.43101442],\n",
       "       [ 0.13556371,  0.0837239 ,  0.73551235,  0.43101442,  1.44565762]])"
      ]
     },
     "execution_count": 26,
     "metadata": {},
     "output_type": "execute_result"
    }
   ],
   "source": [
    "# unbiased covariance matrix\n",
    "np.cov(X, rowvar=False)"
   ]
  },
  {
   "cell_type": "code",
   "execution_count": 28,
   "metadata": {},
   "outputs": [
    {
     "data": {
      "text/plain": [
       "array([[ 1.35816229,  0.69960251, -0.01942371, -0.17307836,  0.12200733],\n",
       "       [ 0.69960251,  1.04926959, -0.05132175, -0.15884228,  0.07535151],\n",
       "       [-0.01942371, -0.05132175,  1.0674371 ,  0.09694045,  0.66196111],\n",
       "       [-0.17307836, -0.15884228,  0.09694045,  0.83965333,  0.38791298],\n",
       "       [ 0.12200733,  0.07535151,  0.66196111,  0.38791298,  1.30109185]])"
      ]
     },
     "execution_count": 28,
     "metadata": {},
     "output_type": "execute_result"
    }
   ],
   "source": [
    "# biased covariance matrix\n",
    "np.cov(X, rowvar=False, bias=True)"
   ]
  },
  {
   "cell_type": "code",
   "execution_count": 24,
   "metadata": {},
   "outputs": [
    {
     "data": {
      "text/plain": [
       "array([ 1.35816229,  1.04926959,  1.0674371 ,  0.83965333,  1.30109185])"
      ]
     },
     "execution_count": 24,
     "metadata": {},
     "output_type": "execute_result"
    }
   ],
   "source": [
    "# biased variance\n",
    "np.std(X, axis=0)**2"
   ]
  },
  {
   "cell_type": "code",
   "execution_count": 25,
   "metadata": {},
   "outputs": [
    {
     "data": {
      "text/plain": [
       "array([ 1.50906921,  1.16585509,  1.18604122,  0.93294814,  1.44565762])"
      ]
     },
     "execution_count": 25,
     "metadata": {},
     "output_type": "execute_result"
    }
   ],
   "source": [
    "# biased variance\n",
    "np.std(X, axis=0)**2*X.shape[0]/(X.shape[0] - 1)"
   ]
  },
  {
   "cell_type": "code",
   "execution_count": 22,
   "metadata": {},
   "outputs": [
    {
     "data": {
      "text/plain": [
       "array([[ 1.35816229,  0.69960251, -0.01942371, -0.17307836,  0.12200733],\n",
       "       [ 0.69960251,  1.04926959, -0.05132175, -0.15884228,  0.07535151],\n",
       "       [-0.01942371, -0.05132175,  1.0674371 ,  0.09694045,  0.66196111],\n",
       "       [-0.17307836, -0.15884228,  0.09694045,  0.83965333,  0.38791298],\n",
       "       [ 0.12200733,  0.07535151,  0.66196111,  0.38791298,  1.30109185]])"
      ]
     },
     "execution_count": 22,
     "metadata": {},
     "output_type": "execute_result"
    }
   ],
   "source": [
    "# biased covariance matrix\n",
    "X_c = X - np.mean(X, axis=0, keepdims=True)\n",
    "np.dot(X_c.T, X_c)/X.shape[0]"
   ]
  },
  {
   "cell_type": "code",
   "execution_count": 23,
   "metadata": {},
   "outputs": [
    {
     "data": {
      "text/plain": [
       "array([[ 1.50906921,  0.77733613, -0.0215819 , -0.19230929,  0.13556371],\n",
       "       [ 0.77733613,  1.16585509, -0.05702417, -0.17649142,  0.0837239 ],\n",
       "       [-0.0215819 , -0.05702417,  1.18604122,  0.10771161,  0.73551235],\n",
       "       [-0.19230929, -0.17649142,  0.10771161,  0.93294814,  0.43101442],\n",
       "       [ 0.13556371,  0.0837239 ,  0.73551235,  0.43101442,  1.44565762]])"
      ]
     },
     "execution_count": 23,
     "metadata": {},
     "output_type": "execute_result"
    }
   ],
   "source": [
    "# unbiased covariance matrix\n",
    "X_c = X - np.mean(X, axis=0, keepdims=True)\n",
    "np.dot(X_c.T, X_c)/(X.shape[0] - 1)"
   ]
  },
  {
   "cell_type": "code",
   "execution_count": null,
   "metadata": {
    "collapsed": true
   },
   "outputs": [],
   "source": []
  }
 ],
 "metadata": {
  "kernelspec": {
   "display_name": "Python [default]",
   "language": "python",
   "name": "python2"
  },
  "language_info": {
   "codemirror_mode": {
    "name": "ipython",
    "version": 2
   },
   "file_extension": ".py",
   "mimetype": "text/x-python",
   "name": "python",
   "nbconvert_exporter": "python",
   "pygments_lexer": "ipython2",
   "version": "2.7.13"
  }
 },
 "nbformat": 4,
 "nbformat_minor": 2
}
