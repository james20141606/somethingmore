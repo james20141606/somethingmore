{
 "cells": [
  {
   "cell_type": "code",
   "execution_count": 1,
   "metadata": {},
   "outputs": [
    {
     "name": "stdout",
     "output_type": "stream",
     "text": [
      "Populating the interactive namespace from numpy and matplotlib\n"
     ]
    }
   ],
   "source": [
    "import numpy as np\n",
    "import pandas as pd\n",
    "%pylab inline"
   ]
  },
  {
   "cell_type": "code",
   "execution_count": 75,
   "metadata": {},
   "outputs": [],
   "source": [
    "table = pd.read_excel('check.xlsx',delimiter=\"\\t\")"
   ]
  },
  {
   "cell_type": "code",
   "execution_count": 76,
   "metadata": {},
   "outputs": [
    {
     "data": {
      "text/html": [
       "<div>\n",
       "<style>\n",
       "    .dataframe thead tr:only-child th {\n",
       "        text-align: right;\n",
       "    }\n",
       "\n",
       "    .dataframe thead th {\n",
       "        text-align: left;\n",
       "    }\n",
       "\n",
       "    .dataframe tbody tr th {\n",
       "        vertical-align: top;\n",
       "    }\n",
       "</style>\n",
       "<table border=\"1\" class=\"dataframe\">\n",
       "  <thead>\n",
       "    <tr style=\"text-align: right;\">\n",
       "      <th></th>\n",
       "      <th>1.1日</th>\n",
       "      <th>1.2日</th>\n",
       "      <th>1.3日</th>\n",
       "      <th>1.4日</th>\n",
       "      <th>1.5日</th>\n",
       "      <th>1.6日</th>\n",
       "      <th>1.7日</th>\n",
       "      <th>1.8日</th>\n",
       "      <th>1.9日</th>\n",
       "      <th>1.10日</th>\n",
       "      <th>...</th>\n",
       "      <th>1.26日</th>\n",
       "      <th>1.27日</th>\n",
       "      <th>1.28日</th>\n",
       "      <th>1.29日</th>\n",
       "      <th>1.30日</th>\n",
       "      <th>1.31日</th>\n",
       "      <th>2.1日</th>\n",
       "      <th>2.2日</th>\n",
       "      <th>2.3日</th>\n",
       "      <th>2.4日</th>\n",
       "    </tr>\n",
       "  </thead>\n",
       "  <tbody>\n",
       "    <tr>\n",
       "      <th>到达时间</th>\n",
       "      <td>NaN</td>\n",
       "      <td>A</td>\n",
       "      <td>C</td>\n",
       "      <td>C</td>\n",
       "      <td>B</td>\n",
       "      <td>E</td>\n",
       "      <td>E</td>\n",
       "      <td>B</td>\n",
       "      <td>C</td>\n",
       "      <td>NaN</td>\n",
       "      <td>...</td>\n",
       "      <td>D</td>\n",
       "      <td>NaN</td>\n",
       "      <td>E</td>\n",
       "      <td>D</td>\n",
       "      <td>C</td>\n",
       "      <td>C</td>\n",
       "      <td>C</td>\n",
       "      <td>B</td>\n",
       "      <td>E</td>\n",
       "      <td>E</td>\n",
       "    </tr>\n",
       "    <tr>\n",
       "      <th>离开时间</th>\n",
       "      <td>NaN</td>\n",
       "      <td>10</td>\n",
       "      <td>9</td>\n",
       "      <td>8</td>\n",
       "      <td>10</td>\n",
       "      <td>6</td>\n",
       "      <td>6</td>\n",
       "      <td>7</td>\n",
       "      <td>10</td>\n",
       "      <td>NaN</td>\n",
       "      <td>...</td>\n",
       "      <td>5</td>\n",
       "      <td>NaN</td>\n",
       "      <td>5</td>\n",
       "      <td>9</td>\n",
       "      <td>8</td>\n",
       "      <td>10</td>\n",
       "      <td>8</td>\n",
       "      <td>3</td>\n",
       "      <td>8</td>\n",
       "      <td>7</td>\n",
       "    </tr>\n",
       "    <tr>\n",
       "      <th>NaN</th>\n",
       "      <td>NaN</td>\n",
       "      <td>NaN</td>\n",
       "      <td>NaN</td>\n",
       "      <td>NaN</td>\n",
       "      <td>NaN</td>\n",
       "      <td>NaN</td>\n",
       "      <td>NaN</td>\n",
       "      <td>NaN</td>\n",
       "      <td>NaN</td>\n",
       "      <td>NaN</td>\n",
       "      <td>...</td>\n",
       "      <td>NaN</td>\n",
       "      <td>NaN</td>\n",
       "      <td>NaN</td>\n",
       "      <td>NaN</td>\n",
       "      <td>NaN</td>\n",
       "      <td>NaN</td>\n",
       "      <td>NaN</td>\n",
       "      <td>NaN</td>\n",
       "      <td>NaN</td>\n",
       "      <td>NaN</td>\n",
       "    </tr>\n",
       "    <tr>\n",
       "      <th>到达时间</th>\n",
       "      <td>D</td>\n",
       "      <td>B</td>\n",
       "      <td>A</td>\n",
       "      <td>A</td>\n",
       "      <td>B</td>\n",
       "      <td>NaN</td>\n",
       "      <td>C</td>\n",
       "      <td>C</td>\n",
       "      <td>B</td>\n",
       "      <td>B</td>\n",
       "      <td>...</td>\n",
       "      <td>B</td>\n",
       "      <td>NaN</td>\n",
       "      <td>B</td>\n",
       "      <td>A</td>\n",
       "      <td>B</td>\n",
       "      <td>B</td>\n",
       "      <td>B</td>\n",
       "      <td>B</td>\n",
       "      <td>B</td>\n",
       "      <td>B</td>\n",
       "    </tr>\n",
       "    <tr>\n",
       "      <th>离开时间</th>\n",
       "      <td>10</td>\n",
       "      <td>10</td>\n",
       "      <td>10</td>\n",
       "      <td>10</td>\n",
       "      <td>10</td>\n",
       "      <td>NaN</td>\n",
       "      <td>10</td>\n",
       "      <td>7</td>\n",
       "      <td>10</td>\n",
       "      <td>10</td>\n",
       "      <td>...</td>\n",
       "      <td>NaN</td>\n",
       "      <td>NaN</td>\n",
       "      <td>NaN</td>\n",
       "      <td>10</td>\n",
       "      <td>NaN</td>\n",
       "      <td>10</td>\n",
       "      <td>8</td>\n",
       "      <td>7</td>\n",
       "      <td>NaN</td>\n",
       "      <td>NaN</td>\n",
       "    </tr>\n",
       "  </tbody>\n",
       "</table>\n",
       "<p>5 rows × 35 columns</p>\n",
       "</div>"
      ],
      "text/plain": [
       "     1.1日 1.2日 1.3日 1.4日 1.5日 1.6日 1.7日 1.8日 1.9日 1.10日 ...  1.26日 1.27日  \\\n",
       "到达时间  NaN    A    C    C    B    E    E    B    C   NaN ...      D   NaN   \n",
       "离开时间  NaN   10    9    8   10    6    6    7   10   NaN ...      5   NaN   \n",
       "NaN   NaN  NaN  NaN  NaN  NaN  NaN  NaN  NaN  NaN   NaN ...    NaN   NaN   \n",
       "到达时间    D    B    A    A    B  NaN    C    C    B     B ...      B   NaN   \n",
       "离开时间   10   10   10   10   10  NaN   10    7   10    10 ...    NaN   NaN   \n",
       "\n",
       "     1.28日 1.29日 1.30日 1.31日 2.1日 2.2日 2.3日 2.4日  \n",
       "到达时间     E     D     C     C    C    B    E    E  \n",
       "离开时间     5     9     8    10    8    3    8    7  \n",
       "NaN    NaN   NaN   NaN   NaN  NaN  NaN  NaN  NaN  \n",
       "到达时间     B     A     B     B    B    B    B    B  \n",
       "离开时间   NaN    10   NaN    10    8    7  NaN  NaN  \n",
       "\n",
       "[5 rows x 35 columns]"
      ]
     },
     "execution_count": 76,
     "metadata": {},
     "output_type": "execute_result"
    }
   ],
   "source": [
    "table.head()"
   ]
  },
  {
   "cell_type": "code",
   "execution_count": 77,
   "metadata": {},
   "outputs": [
    {
     "data": {
      "text/plain": [
       "array([['nan', 'A', 'C', ..., 'B', 'E', 'E'],\n",
       "       ['nan', '10', '9', ..., '3', '8', '7'],\n",
       "       ['nan', 'nan', 'nan', ..., 'nan', 'nan', 'nan'],\n",
       "       ..., \n",
       "       ['nan', 'nan', 'nan', ..., 'nan', 'nan', 'nan'],\n",
       "       ['nan', 'nan', 'nan', ..., 'B', 'nan', 'nan'],\n",
       "       ['nan', 'nan', 'nan', ..., 'nan', 'nan', 'nan']],\n",
       "      dtype='|S3')"
      ]
     },
     "execution_count": 77,
     "metadata": {},
     "output_type": "execute_result"
    }
   ],
   "source": [
    "table_arr = np.array(table).astype('S')\n",
    "table_arr"
   ]
  },
  {
   "cell_type": "code",
   "execution_count": 13,
   "metadata": {},
   "outputs": [
    {
     "data": {
      "text/plain": [
       "array([[ True, False, False, ..., False, False, False],\n",
       "       [ True, False, False, ..., False, False, False],\n",
       "       [ True,  True,  True, ...,  True,  True,  True],\n",
       "       ..., \n",
       "       [ True,  True,  True, ...,  True,  True,  True],\n",
       "       [ True,  True,  True, ..., False,  True,  True],\n",
       "       [ True,  True,  True, ...,  True,  True,  True]], dtype=bool)"
      ]
     },
     "execution_count": 13,
     "metadata": {},
     "output_type": "execute_result"
    }
   ],
   "source": [
    "table_arr =='nan'"
   ]
  },
  {
   "cell_type": "code",
   "execution_count": 201,
   "metadata": {
    "collapsed": true
   },
   "outputs": [],
   "source": [
    "name_list = ['徐知彧','朱昱敏','曹静怡','徐港','史斌斌','李洋','王思琦','谈畅','胡博钦','陈旭鹏','陈欣铎','王承浩','邢耀光','史真'\n",
    "             '杜超','胡文奇','李慧一']"
   ]
  },
  {
   "cell_type": "code",
   "execution_count": 15,
   "metadata": {
    "collapsed": true
   },
   "outputs": [],
   "source": [
    "time_list = np.array([8.15,8.45,9.15,9.45,10.5,17.45,18.15,18.45,19.15,19.45,20.15,20.45,21.15,21.45,22.5])"
   ]
  },
  {
   "cell_type": "code",
   "execution_count": 16,
   "metadata": {
    "collapsed": true
   },
   "outputs": [],
   "source": [
    "time_str = np.array(['8:00-8:30','8:30-9:00','9:00-9:30','9:30-10:00','10:00-','17:30-18:00','18:00-18:30','18:30-19:00',\n",
    "            '19:00-19:30','19:30-20:00','20:00-20:30','20:30-21:00','21:00-21:30','21:30-22:00','22:00-'])"
   ]
  },
  {
   "cell_type": "code",
   "execution_count": 17,
   "metadata": {},
   "outputs": [],
   "source": [
    "alphabet = np.array(['A','B','C','D','E','1','2','3','4','5','6','7','8','9','10'])"
   ]
  },
  {
   "cell_type": "code",
   "execution_count": 18,
   "metadata": {
    "collapsed": true
   },
   "outputs": [],
   "source": [
    "name_list = []"
   ]
  },
  {
   "cell_type": "code",
   "execution_count": 59,
   "metadata": {},
   "outputs": [
    {
     "data": {
      "text/plain": [
       "'8:00-8:30'"
      ]
     },
     "execution_count": 59,
     "metadata": {},
     "output_type": "execute_result"
    }
   ],
   "source": [
    "time_str[np.where(alphabet ==table_arr[0,1])[0][0]]"
   ]
  },
  {
   "cell_type": "code",
   "execution_count": 147,
   "metadata": {},
   "outputs": [],
   "source": [
    "def update_table(table):\n",
    "    shape0,shape1 = table.shape\n",
    "    str_table = np.repeat('nan',shape0*shape1).reshape(shape0,shape1).astype('S11')\n",
    "    float_table = np.repeat(np.nan,shape0*shape1).reshape(shape0,shape1)\n",
    "    for i in range(shape0):\n",
    "        for j in range(shape1):\n",
    "            if table[i,j] !='nan':\n",
    "                str_table[i,j] = time_str[np.where(alphabet ==table[i,j])[0][0]]\n",
    "                float_table[i,j] = time_list[np.where(alphabet ==table[i,j])[0][0]]\n",
    "    return str_table,float_table"
   ]
  },
  {
   "cell_type": "code",
   "execution_count": 148,
   "metadata": {},
   "outputs": [],
   "source": [
    "str_table,float_table = update_table(table_arr)"
   ]
  },
  {
   "cell_type": "code",
   "execution_count": 68,
   "metadata": {},
   "outputs": [
    {
     "data": {
      "text/plain": [
       "array([['nan', '8:00-8:30', '9:00-9:30', ..., '8:30-9:00', '10:00-',\n",
       "        '10:00-'],\n",
       "       ['nan', '22:00-', '21:30-22:00', ..., '18:30-19:00', '21:00-21:30',\n",
       "        '20:30-21:00'],\n",
       "       ['nan', 'nan', 'nan', ..., 'nan', 'nan', 'nan'],\n",
       "       ..., \n",
       "       ['nan', 'nan', 'nan', ..., 'nan', 'nan', 'nan'],\n",
       "       ['nan', 'nan', 'nan', ..., '8:30-9:00', 'nan', 'nan'],\n",
       "       ['nan', 'nan', 'nan', ..., 'nan', 'nan', 'nan']],\n",
       "      dtype='|S11')"
      ]
     },
     "execution_count": 68,
     "metadata": {},
     "output_type": "execute_result"
    }
   ],
   "source": [
    "str_table"
   ]
  },
  {
   "cell_type": "code",
   "execution_count": 149,
   "metadata": {},
   "outputs": [
    {
     "data": {
      "text/plain": [
       "array([[   nan,   8.15,   9.15, ...,   8.45,  10.5 ,  10.5 ],\n",
       "       [   nan,  22.5 ,  21.45, ...,  18.45,  21.15,  20.45],\n",
       "       [   nan,    nan,    nan, ...,    nan,    nan,    nan],\n",
       "       ..., \n",
       "       [   nan,    nan,    nan, ...,    nan,    nan,    nan],\n",
       "       [   nan,    nan,    nan, ...,   8.45,    nan,    nan],\n",
       "       [   nan,    nan,    nan, ...,    nan,    nan,    nan]])"
      ]
     },
     "execution_count": 149,
     "metadata": {},
     "output_type": "execute_result"
    }
   ],
   "source": [
    "float_table"
   ]
  },
  {
   "cell_type": "code",
   "execution_count": 159,
   "metadata": {},
   "outputs": [
    {
     "data": {
      "text/plain": [
       "nan"
      ]
     },
     "execution_count": 159,
     "metadata": {},
     "output_type": "execute_result"
    }
   ],
   "source": [
    "np.array([np.nan])[0]"
   ]
  },
  {
   "cell_type": "code",
   "execution_count": 168,
   "metadata": {},
   "outputs": [
    {
     "data": {
      "text/plain": [
       "array([[   nan,   8.15,   9.15,   9.15,   8.45,  10.5 ,  10.5 ,   8.45,\n",
       "          9.15,    nan,   9.45,   9.45,    nan,  10.5 ,   9.15,   9.15,\n",
       "          9.15,   9.15,   9.15,   9.45,   9.45,   9.15,   8.45,   9.15,\n",
       "           nan,   9.45,    nan,  10.5 ,   9.45,   9.15,   9.15,   9.15,\n",
       "          8.45,  10.5 ,  10.5 ],\n",
       "       [   nan,  22.5 ,  21.45,  21.15,  22.5 ,  20.15,  20.15,  20.45,\n",
       "         22.5 ,    nan,  22.5 ,  22.5 ,    nan,  18.45,  22.5 ,    nan,\n",
       "         22.5 ,  21.15,  22.5 ,  20.15,  21.45,  22.5 ,  21.45,  21.45,\n",
       "           nan,  19.45,    nan,  19.45,  21.45,  21.15,  22.5 ,  21.15,\n",
       "         18.45,  21.15,  20.45]])"
      ]
     },
     "execution_count": 168,
     "metadata": {},
     "output_type": "execute_result"
    }
   ],
   "source": [
    "float_table[:2,:]"
   ]
  },
  {
   "cell_type": "code",
   "execution_count": 169,
   "metadata": {},
   "outputs": [
    {
     "data": {
      "text/plain": [
       "True"
      ]
     },
     "execution_count": 169,
     "metadata": {},
     "output_type": "execute_result"
    }
   ],
   "source": [
    "str(float_table[0,0]) =='nan'"
   ]
  },
  {
   "cell_type": "code",
   "execution_count": 193,
   "metadata": {},
   "outputs": [],
   "source": [
    "def count_time(row):\n",
    "    '''\n",
    "    input two rows from one person\n",
    "    row\n",
    "    '''\n",
    "    list = []\n",
    "    for i in range(35):\n",
    "        if (str(row[0][i])!='nan') and (str(row[1][i]) !='nan'):\n",
    "            list.append(float(row[1][i])-float(row[0][i]))\n",
    "    return list"
   ]
  },
  {
   "cell_type": "code",
   "execution_count": 196,
   "metadata": {
    "collapsed": true
   },
   "outputs": [],
   "source": [
    "list_per = []\n",
    "for i in range(16):\n",
    "    list_per.append(sum(count_time(float_table[3*i:3*i+2,:]))/len(count_time(float_table[3*i:3*i+2,:])))"
   ]
  },
  {
   "cell_type": "code",
   "execution_count": 200,
   "metadata": {},
   "outputs": [],
   "source": [
    "list_per.append(9)"
   ]
  },
  {
   "cell_type": "code",
   "execution_count": null,
   "metadata": {
    "collapsed": true
   },
   "outputs": [],
   "source": [
    "name_list = ['徐知彧','朱昱敏','曹静怡','徐港','史斌斌','李洋','王思琦','谈畅','胡博钦','陈旭鹏','陈欣铎','王承浩','邢耀光','史真'\n",
    "             '杜超','胡文奇','李慧一']"
   ]
  },
  {
   "cell_type": "code",
   "execution_count": 235,
   "metadata": {},
   "outputs": [],
   "source": [
    "name_list =['XU Zhiyu','Zhu Yumin','Cao Jingyi','Xu Gang','Shi Binbin','Li Yang','Wang Siqi','Tan Chang','Hu Boqin',\n",
    "            'Chen Xupeng','Chen Xinduo','Wang Chenghao','Xing Yaoguang','Shi Zhen','Du Chao','Hu Wenqi','Li Huiyi']"
   ]
  },
  {
   "cell_type": "code",
   "execution_count": 268,
   "metadata": {},
   "outputs": [],
   "source": [
    "aaa =a.astype('S4')"
   ]
  },
  {
   "cell_type": "code",
   "execution_count": 275,
   "metadata": {},
   "outputs": [],
   "source": [
    "aaa = aaa.astype('float')"
   ]
  },
  {
   "cell_type": "code",
   "execution_count": 276,
   "metadata": {},
   "outputs": [
    {
     "data": {
      "image/png": "[encoded data removed]",
      "text/plain": [
       "<matplotlib.figure.Figure at 0x111655e10>"
      ]
     },
     "metadata": {},
     "output_type": "display_data"
    }
   ],
   "source": [
    "size = 17\n",
    "x = np.arange(size)\n",
    "a = np.array(list_per)\n",
    "plt.style.use('ggplot')\n",
    "total_width, n = 0.8, 1\n",
    "width = total_width\n",
    "plt.figure(figsize=(25,5))\n",
    "z = x -0.2\n",
    "plt.bar( x,a,  width=width,color ='skyblue' , label='average_time',align=\"center\")\n",
    "LABELS = name_list\n",
    "plt.xticks(x, LABELS)\n",
    "for aa,bb in zip(z, aaa):\n",
    "    plt.text(aa, bb, bb,)\n",
    "\n",
    "plt.legend()\n",
    "plt.show()"
   ]
  },
  {
   "cell_type": "code",
   "execution_count": 51,
   "metadata": {},
   "outputs": [
    {
     "data": {
      "text/html": [
       "<div>\n",
       "<style>\n",
       "    .dataframe thead tr:only-child th {\n",
       "        text-align: right;\n",
       "    }\n",
       "\n",
       "    .dataframe thead th {\n",
       "        text-align: left;\n",
       "    }\n",
       "\n",
       "    .dataframe tbody tr th {\n",
       "        vertical-align: top;\n",
       "    }\n",
       "</style>\n",
       "<table border=\"1\" class=\"dataframe\">\n",
       "  <thead>\n",
       "    <tr style=\"text-align: right;\">\n",
       "      <th></th>\n",
       "      <th></th>\n",
       "      <th>Yesterday</th>\n",
       "      <th>Yesterday-1</th>\n",
       "      <th>Yesterday-7</th>\n",
       "      <th>Thirty day average</th>\n",
       "    </tr>\n",
       "    <tr>\n",
       "      <th>People</th>\n",
       "      <th>Time</th>\n",
       "      <th></th>\n",
       "      <th></th>\n",
       "      <th></th>\n",
       "      <th></th>\n",
       "    </tr>\n",
       "  </thead>\n",
       "  <tbody>\n",
       "    <tr>\n",
       "      <th rowspan=\"2\" valign=\"top\">Zara</th>\n",
       "      <th>Arrive</th>\n",
       "      <td>-</td>\n",
       "      <td>-</td>\n",
       "      <td>-</td>\n",
       "      <td>-</td>\n",
       "    </tr>\n",
       "    <tr>\n",
       "      <th>Left</th>\n",
       "      <td>-</td>\n",
       "      <td>-</td>\n",
       "      <td>-</td>\n",
       "      <td>-</td>\n",
       "    </tr>\n",
       "    <tr>\n",
       "      <th rowspan=\"2\" valign=\"top\">LV</th>\n",
       "      <th>Arrive</th>\n",
       "      <td>-</td>\n",
       "      <td>-</td>\n",
       "      <td>-</td>\n",
       "      <td>-</td>\n",
       "    </tr>\n",
       "    <tr>\n",
       "      <th>Left</th>\n",
       "      <td>-</td>\n",
       "      <td>-</td>\n",
       "      <td>-</td>\n",
       "      <td>-</td>\n",
       "    </tr>\n",
       "    <tr>\n",
       "      <th rowspan=\"2\" valign=\"top\">Roots</th>\n",
       "      <th>Arrive</th>\n",
       "      <td>-</td>\n",
       "      <td>-</td>\n",
       "      <td>-</td>\n",
       "      <td>-</td>\n",
       "    </tr>\n",
       "    <tr>\n",
       "      <th>Left</th>\n",
       "      <td>-</td>\n",
       "      <td>-</td>\n",
       "      <td>-</td>\n",
       "      <td>-</td>\n",
       "    </tr>\n",
       "  </tbody>\n",
       "</table>\n",
       "</div>"
      ],
      "text/plain": [
       "              Yesterday Yesterday-1 Yesterday-7 Thirty day average\n",
       "People Time                                                       \n",
       "Zara   Arrive         -           -           -                  -\n",
       "       Left           -           -           -                  -\n",
       "LV     Arrive         -           -           -                  -\n",
       "       Left           -           -           -                  -\n",
       "Roots  Arrive         -           -           -                  -\n",
       "       Left           -           -           -                  -"
      ]
     },
     "execution_count": 51,
     "metadata": {},
     "output_type": "execute_result"
    }
   ],
   "source": [
    "idx = pd.MultiIndex.from_product([['Zara', 'LV', 'Roots'],\n",
    "                                  ['Arrive', 'Left']],\n",
    "                                 names=['People', 'Time'])\n",
    "col = ['Yesterday', 'Yesterday-1', 'Yesterday-7', 'Thirty day average']\n",
    "\n",
    "df = pd.DataFrame('-', idx, col)\n",
    "df"
   ]
  },
  {
   "cell_type": "code",
   "execution_count": 30,
   "metadata": {},
   "outputs": [
    {
     "data": {
      "image/png": "[encoded data removed]",
      "text/plain": [
       "<matplotlib.figure.Figure at 0x113d92690>"
      ]
     },
     "metadata": {},
     "output_type": "display_data"
    }
   ],
   "source": [
    "#'b', 'g', 'r', 'c', 'm', 'y', 'k', 'w'\n",
    "size = 5\n",
    "x = np.arange(size)\n",
    "a = np.array(a_[:5])\n",
    "b = np.array(b_[:5])\n",
    "c = np.array(c_[:5])\n",
    "plt.style.use('ggplot')\n",
    "total_width, n = 0.8, 3\n",
    "width = total_width / n\n",
    "x = x - (total_width - width) / 2\n",
    "plt.figure(figsize=(15,8))\n",
    "plt.bar(x, a,  width=width,color ='g' , label='A')\n",
    "plt.bar(x + width, b, width=width,color ='r', label='B')\n",
    "plt.bar(x + 2 * width, c, width=width, color ='c',label='C')\n",
    "LABELS = name_list\n",
    "plt.xticks(x + width, LABELS)\n",
    "\n",
    "plt.legend()\n",
    "plt.show()"
   ]
  },
  {
   "cell_type": "code",
   "execution_count": null,
   "metadata": {
    "collapsed": true
   },
   "outputs": [],
   "source": []
  }
 ],
 "metadata": {
  "kernelspec": {
   "display_name": "Python 2",
   "language": "python",
   "name": "python2"
  },
  "language_info": {
   "codemirror_mode": {
    "name": "ipython",
    "version": 2
   },
   "file_extension": ".py",
   "mimetype": "text/x-python",
   "name": "python",
   "nbconvert_exporter": "python",
   "pygments_lexer": "ipython2",
   "version": "2.7.14"
  }
 },
 "nbformat": 4,
 "nbformat_minor": 2
}
