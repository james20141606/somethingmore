{
 "cells": [
  {
   "cell_type": "code",
   "execution_count": 1,
   "metadata": {},
   "outputs": [
    {
     "name": "stdout",
     "output_type": "stream",
     "text": [
      "Populating the interactive namespace from numpy and matplotlib\n"
     ]
    }
   ],
   "source": [
    "import gc, argparse, sys, os, errno\n",
    "%pylab inline\n",
    "import numpy as np\n",
    "import pandas as pd\n",
    "import matplotlib.pyplot as plt\n",
    "import seaborn as sns\n",
    "import os\n",
    "from tqdm import tqdm_notebook as tqdm\n",
    "import scipy\n",
    "import sklearn\n",
    "from scipy.stats import pearsonr\n",
    "import warnings\n",
    "warnings.filterwarnings('ignore')\n",
    "import cv2\n",
    "from bokeh.palettes import Category20c"
   ]
  },
  {
   "cell_type": "code",
   "execution_count": 2,
   "metadata": {},
   "outputs": [
    {
     "name": "stdout",
     "output_type": "stream",
     "text": [
      "/Users/james/Desktop/四春/A2数据挖掘中的统计方法/数据挖掘final_project\n"
     ]
    }
   ],
   "source": [
    "cd .."
   ]
  },
  {
   "cell_type": "code",
   "execution_count": 65,
   "metadata": {
    "scrolled": true
   },
   "outputs": [],
   "source": [
    "des_arr = np.loadtxt('data/descriptors_num.txt',dtype='str')\n",
    "sample_info = pd.DataFrame(np.concatenate((np.array([i.split('/')[0] for i in des_arr[:,0] ]).reshape(-1,1),\n",
    "                                         des_arr ),axis=1))\n",
    "sample_info['imgname'] = np.array([i.split('/')[1].split('.')[0] for i in sample_info.iloc[:,1]])\n",
    "sample_info.columns = ['old_class','index','descriptor_num','imgind']\n",
    "sample_info = sample_info.set_index('index')"
   ]
  },
  {
   "cell_type": "code",
   "execution_count": null,
   "metadata": {},
   "outputs": [],
   "source": []
  },
  {
   "cell_type": "code",
   "execution_count": 14,
   "metadata": {},
   "outputs": [
    {
     "name": "stdout",
     "output_type": "stream",
     "text": [
      "\u001b[31mmyclass_bamboos.csv\u001b[m\u001b[m*      \u001b[31mmyclass_glasses.csv\u001b[m\u001b[m*      \u001b[31mmyclass_religion.csv\u001b[m\u001b[m*\r\n",
      "\u001b[31mmyclass_bronzes.csv\u001b[m\u001b[m*      \u001b[31mmyclass_handwritings.csv\u001b[m\u001b[m* \u001b[31mmyclass_sculptures.csv\u001b[m\u001b[m*\r\n",
      "\u001b[31mmyclass_ceramics.csv\u001b[m\u001b[m*     \u001b[31mmyclass_impress.csv\u001b[m\u001b[m*      \u001b[31mmyclass_seals.csv\u001b[m\u001b[m*\r\n",
      "\u001b[31mmyclass_clocks.csv\u001b[m\u001b[m*       \u001b[31mmyclass_instruments.csv\u001b[m\u001b[m*  \u001b[31mmyclass_studies.csv\u001b[m\u001b[m*\r\n",
      "\u001b[31mmyclass_embroiders.csv\u001b[m\u001b[m*   \u001b[31mmyclass_jades.csv\u001b[m\u001b[m*        \u001b[31mmyclass_tinwares.csv\u001b[m\u001b[m*\r\n",
      "\u001b[31mmyclass_enamels.csv\u001b[m\u001b[m*      \u001b[31mmyclass_jewels.csv\u001b[m\u001b[m*       \u001b[31mmyclass_utensils.csv\u001b[m\u001b[m*\r\n",
      "\u001b[31mmyclass_foreign.csv\u001b[m\u001b[m*      \u001b[31mmyclass_lacquerwares.csv\u001b[m\u001b[m* \u001b[31mmyclass_weapons.csv\u001b[m\u001b[m*\r\n",
      "\u001b[31mmyclass_gears.csv\u001b[m\u001b[m*        \u001b[31mmyclass_paintings.csv\u001b[m\u001b[m*\r\n"
     ]
    }
   ],
   "source": [
    "ls data/new_category_sum/  #new category"
   ]
  },
  {
   "cell_type": "code",
   "execution_count": 53,
   "metadata": {},
   "outputs": [],
   "source": [
    "categories_all = np.array([ i.split('_')[1].split('.')[0] for i in os.listdir('data/new_category_sum/') ])"
   ]
  },
  {
   "cell_type": "code",
   "execution_count": 54,
   "metadata": {},
   "outputs": [
    {
     "data": {
      "text/plain": [
       "array(['bamboos', 'religion', 'seals', 'handwritings', 'paintings',\n",
       "       'weapons', 'sculptures', 'instruments', 'jades', 'jewels', 'gears',\n",
       "       'impress', 'embroiders', 'studies', 'foreign', 'clocks', 'bronzes',\n",
       "       'tinwares', 'glasses', 'lacquerwares', 'enamels', 'utensils',\n",
       "       'ceramics'], dtype='<U12')"
      ]
     },
     "execution_count": 54,
     "metadata": {},
     "output_type": "execute_result"
    }
   ],
   "source": [
    "categories_all"
   ]
  },
  {
   "cell_type": "code",
   "execution_count": 127,
   "metadata": {},
   "outputs": [],
   "source": [
    "tmp_tables = {}\n",
    "for class_name in categories_all:\n",
    "    tmp_table = pd.read_csv('data/new_category_sum/myclass_'+class_name+'.csv',encoding = \"gbk\",index_col=0)\n",
    "    tmp_table['index'] = np.array([class_name+'/'+str(i)+'.jpg' for i in tmp_table.index])\n",
    "\n",
    "    tmp_table.columns = ['chn_name','new_class','index']\n",
    "    tmp_table = tmp_table.set_index('index')\n",
    "    tmp_tables[class_name] = tmp_table"
   ]
  },
  {
   "cell_type": "code",
   "execution_count": 128,
   "metadata": {},
   "outputs": [],
   "source": [
    "new_table_info = pd.concat(tmp_tables.values(),axis=0)\n",
    "#new_table_info[np.isin(new_table_info.new_class ,np.array(['镜', '尺', '器', '型']))]['new_class']= 11\n",
    "#new_table_info[np.isin(new_table_info.new_class ,np.array([111]))]['new_class']= 11"
   ]
  },
  {
   "cell_type": "code",
   "execution_count": 131,
   "metadata": {},
   "outputs": [],
   "source": [
    "whole_table  = pd.concat((sample_info,new_table_info.loc[sample_info.index]),axis=1)\n",
    "\n",
    "classes, counts = np.unique(np.array(whole_table.old_class), return_counts=True)\n",
    "classes = np.argmax(np.array(whole_table.old_class).reshape((-1, 1)) == classes.reshape((1, -1)), axis=1)\n",
    "counts = np.take(counts, classes)\n",
    "whole_table['old_class_num'] = classes"
   ]
  },
  {
   "cell_type": "code",
   "execution_count": 132,
   "metadata": {},
   "outputs": [],
   "source": [
    "whole_table.to_csv('data/whole_sample_info.csv')"
   ]
  },
  {
   "cell_type": "code",
   "execution_count": 133,
   "metadata": {},
   "outputs": [
    {
     "data": {
      "text/plain": [
       "array([ 1,  2,  3,  4,  5,  6,  7,  8,  9, 10, 11, 12, 13, 14, 15])"
      ]
     },
     "execution_count": 133,
     "metadata": {},
     "output_type": "execute_result"
    }
   ],
   "source": [
    "np.unique(whole_table['new_class'])"
   ]
  },
  {
   "cell_type": "code",
   "execution_count": null,
   "metadata": {},
   "outputs": [],
   "source": []
  },
  {
   "cell_type": "code",
   "execution_count": 64,
   "metadata": {},
   "outputs": [],
   "source": [
    "#pd.read_excel('data/table/dat_'+class_name+'.xlsx',encoding = \"gbk\",index_col=0)"
   ]
  },
  {
   "cell_type": "code",
   "execution_count": null,
   "metadata": {},
   "outputs": [],
   "source": []
  }
 ],
 "metadata": {
  "kernelspec": {
   "display_name": "Python 3",
   "language": "python",
   "name": "python3"
  },
  "language_info": {
   "codemirror_mode": {
    "name": "ipython",
    "version": 3
   },
   "file_extension": ".py",
   "mimetype": "text/x-python",
   "name": "python",
   "nbconvert_exporter": "python",
   "pygments_lexer": "ipython3",
   "version": "3.6.8"
  },
  "toc": {
   "base_numbering": 1,
   "nav_menu": {},
   "number_sections": true,
   "sideBar": true,
   "skip_h1_title": false,
   "title_cell": "Table of Contents",
   "title_sidebar": "Contents",
   "toc_cell": false,
   "toc_position": {},
   "toc_section_display": true,
   "toc_window_display": false
  }
 },
 "nbformat": 4,
 "nbformat_minor": 2
}
