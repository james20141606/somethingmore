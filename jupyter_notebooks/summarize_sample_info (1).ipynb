{
 "cells": [
  {
   "cell_type": "code",
   "execution_count": 2,
   "metadata": {},
   "outputs": [
    {
     "name": "stdout",
     "output_type": "stream",
     "text": [
      "Populating the interactive namespace from numpy and matplotlib\n"
     ]
    }
   ],
   "source": [
    "import gc, argparse, sys, os, errno\n",
    "%pylab inline\n",
    "import numpy as np\n",
    "import pandas as pd\n",
    "import matplotlib.pyplot as plt\n",
    "import seaborn as sns\n",
    "import os\n",
    "from tqdm import tqdm_notebook as tqdm\n",
    "import scipy\n",
    "import sklearn\n",
    "from scipy.stats import pearsonr\n",
    "import warnings\n",
    "warnings.filterwarnings('ignore')\n",
    "from bokeh.palettes import Category20c"
   ]
  },
  {
   "cell_type": "code",
   "execution_count": 3,
   "metadata": {},
   "outputs": [
    {
     "name": "stdout",
     "output_type": "stream",
     "text": [
      "/home/chenxupeng/projects/arts_collection\n"
     ]
    }
   ],
   "source": [
    "cd .."
   ]
  },
  {
   "cell_type": "code",
   "execution_count": 5,
   "metadata": {
    "scrolled": true
   },
   "outputs": [],
   "source": [
    "des_arr = np.loadtxt('data/descriptors_num.txt',dtype='str')\n",
    "sample_info = pd.DataFrame(np.concatenate((np.array([i.split('/')[0] for i in des_arr[:,0] ]).reshape(-1,1),\n",
    "                                         des_arr ),axis=1))\n",
    "sample_info['imgname'] = np.array([i.split('/')[1].split('.')[0] for i in sample_info.iloc[:,1]])\n",
    "sample_info.columns = ['old_class','index','descriptor_num','imgind']\n",
    "sample_info = sample_info.set_index('index')"
   ]
  },
  {
   "cell_type": "code",
   "execution_count": null,
   "metadata": {},
   "outputs": [],
   "source": []
  },
  {
   "cell_type": "code",
   "execution_count": 6,
   "metadata": {},
   "outputs": [
    {
     "name": "stdout",
     "output_type": "stream",
     "text": [
      "\u001b[0m\u001b[01;32mmyclass_bamboos.csv\u001b[0m*     \u001b[01;32mmyclass_glasses.csv\u001b[0m*       \u001b[01;32mmyclass_religion.csv\u001b[0m*\r\n",
      "\u001b[01;32mmyclass_bronzes.csv\u001b[0m*     \u001b[01;32mmyclass_handwritings.csv\u001b[0m*  \u001b[01;32mmyclass_sculptures.csv\u001b[0m*\r\n",
      "\u001b[01;32mmyclass_ceramics.csv\u001b[0m*    \u001b[01;32mmyclass_impress.csv\u001b[0m*       \u001b[01;32mmyclass_seals.csv\u001b[0m*\r\n",
      "\u001b[01;32mmyclass_clocks.csv\u001b[0m*      \u001b[01;32mmyclass_instruments.csv\u001b[0m*   \u001b[01;32mmyclass_studies.csv\u001b[0m*\r\n",
      "\u001b[01;32mmyclass_embroiders.csv\u001b[0m*  \u001b[01;32mmyclass_jades.csv\u001b[0m*         \u001b[01;32mmyclass_tinwares.csv\u001b[0m*\r\n",
      "\u001b[01;32mmyclass_enamels.csv\u001b[0m*     \u001b[01;32mmyclass_jewels.csv\u001b[0m*        \u001b[01;32mmyclass_utensils.csv\u001b[0m*\r\n",
      "\u001b[01;32mmyclass_foreign.csv\u001b[0m*     \u001b[01;32mmyclass_lacquerwares.csv\u001b[0m*  \u001b[01;32mmyclass_weapons.csv\u001b[0m*\r\n",
      "\u001b[01;32mmyclass_gears.csv\u001b[0m*       \u001b[01;32mmyclass_paintings.csv\u001b[0m*\r\n"
     ]
    }
   ],
   "source": [
    "ls data/new_category_sum/  #new category"
   ]
  },
  {
   "cell_type": "code",
   "execution_count": 7,
   "metadata": {},
   "outputs": [],
   "source": [
    "categories_all = np.array([ i.split('_')[1].split('.')[0] for i in os.listdir('data/new_category_sum/') ])"
   ]
  },
  {
   "cell_type": "code",
   "execution_count": 8,
   "metadata": {},
   "outputs": [
    {
     "data": {
      "text/plain": [
       "array(['bamboos', 'religion', 'seals', 'handwritings', 'paintings',\n",
       "       'weapons', 'sculptures', 'instruments', 'jades', 'jewels', 'gears',\n",
       "       'impress', 'embroiders', 'studies', 'foreign', 'clocks', 'bronzes',\n",
       "       'tinwares', 'glasses', 'lacquerwares', 'enamels', 'utensils',\n",
       "       'ceramics'], dtype='<U12')"
      ]
     },
     "execution_count": 8,
     "metadata": {},
     "output_type": "execute_result"
    }
   ],
   "source": [
    "categories_all"
   ]
  },
  {
   "cell_type": "code",
   "execution_count": 9,
   "metadata": {},
   "outputs": [],
   "source": [
    "tmp_tables = {}\n",
    "for class_name in categories_all:\n",
    "    tmp_table = pd.read_csv('data/new_category_sum/myclass_'+class_name+'.csv',encoding = \"gbk\",index_col=0)\n",
    "    tmp_table['index'] = np.array([class_name+'/'+str(i)+'.jpg' for i in tmp_table.index])\n",
    "\n",
    "    tmp_table.columns = ['chn_name','new_class','index']\n",
    "    tmp_table = tmp_table.set_index('index')\n",
    "    tmp_tables[class_name] = tmp_table"
   ]
  },
  {
   "cell_type": "code",
   "execution_count": 10,
   "metadata": {},
   "outputs": [],
   "source": [
    "new_table_info = pd.concat(tmp_tables.values(),axis=0)\n",
    "#new_table_info[np.isin(new_table_info.new_class ,np.array(['镜', '尺', '器', '型']))]['new_class']= 11\n",
    "#new_table_info[np.isin(new_table_info.new_class ,np.array([111]))]['new_class']= 11"
   ]
  },
  {
   "cell_type": "code",
   "execution_count": 11,
   "metadata": {},
   "outputs": [],
   "source": [
    "whole_table  = pd.concat((sample_info,new_table_info.loc[sample_info.index]),axis=1)\n",
    "\n",
    "classes, counts = np.unique(np.array(whole_table.old_class), return_counts=True)\n",
    "classes = np.argmax(np.array(whole_table.old_class).reshape((-1, 1)) == classes.reshape((1, -1)), axis=1)\n",
    "counts = np.take(counts, classes)\n",
    "whole_table['old_class_num'] = classes"
   ]
  },
  {
   "cell_type": "code",
   "execution_count": 12,
   "metadata": {},
   "outputs": [],
   "source": [
    "whole_table.to_csv('data/whole_sample_info.csv')"
   ]
  },
  {
   "cell_type": "code",
   "execution_count": 13,
   "metadata": {},
   "outputs": [
    {
     "data": {
      "text/plain": [
       "array([ 1,  2,  3,  4,  5,  6,  7,  8,  9, 10, 11, 12, 13, 14, 15])"
      ]
     },
     "execution_count": 13,
     "metadata": {},
     "output_type": "execute_result"
    }
   ],
   "source": [
    "np.unique(whole_table['new_class'])"
   ]
  },
  {
   "cell_type": "code",
   "execution_count": 21,
   "metadata": {},
   "outputs": [
    {
     "data": {
      "text/html": [
       "<div>\n",
       "<style scoped>\n",
       "    .dataframe tbody tr th:only-of-type {\n",
       "        vertical-align: middle;\n",
       "    }\n",
       "\n",
       "    .dataframe tbody tr th {\n",
       "        vertical-align: top;\n",
       "    }\n",
       "\n",
       "    .dataframe thead th {\n",
       "        text-align: right;\n",
       "    }\n",
       "</style>\n",
       "<table border=\"1\" class=\"dataframe\">\n",
       "  <thead>\n",
       "    <tr style=\"text-align: right;\">\n",
       "      <th></th>\n",
       "      <th>old_class</th>\n",
       "      <th>descriptor_num</th>\n",
       "      <th>imgind</th>\n",
       "      <th>chn_name</th>\n",
       "      <th>new_class</th>\n",
       "      <th>old_class_num</th>\n",
       "    </tr>\n",
       "    <tr>\n",
       "      <th>index</th>\n",
       "      <th></th>\n",
       "      <th></th>\n",
       "      <th></th>\n",
       "      <th></th>\n",
       "      <th></th>\n",
       "      <th></th>\n",
       "    </tr>\n",
       "  </thead>\n",
       "  <tbody>\n",
       "    <tr>\n",
       "      <th>ceramics/63.jpg</th>\n",
       "      <td>ceramics</td>\n",
       "      <td>1912</td>\n",
       "      <td>63</td>\n",
       "      <td>青釉堆塑谷仓罐</td>\n",
       "      <td>3</td>\n",
       "      <td>2</td>\n",
       "    </tr>\n",
       "    <tr>\n",
       "      <th>ceramics/823.jpg</th>\n",
       "      <td>ceramics</td>\n",
       "      <td>946</td>\n",
       "      <td>823</td>\n",
       "      <td>宜兴窑紫砂花口花盆</td>\n",
       "      <td>1</td>\n",
       "      <td>2</td>\n",
       "    </tr>\n",
       "    <tr>\n",
       "      <th>ceramics/189.jpg</th>\n",
       "      <td>ceramics</td>\n",
       "      <td>540</td>\n",
       "      <td>189</td>\n",
       "      <td>定窑白釉双系罐</td>\n",
       "      <td>3</td>\n",
       "      <td>2</td>\n",
       "    </tr>\n",
       "    <tr>\n",
       "      <th>ceramics/77.jpg</th>\n",
       "      <td>ceramics</td>\n",
       "      <td>340</td>\n",
       "      <td>77</td>\n",
       "      <td>青釉唾壶</td>\n",
       "      <td>4</td>\n",
       "      <td>2</td>\n",
       "    </tr>\n",
       "    <tr>\n",
       "      <th>ceramics/837.jpg</th>\n",
       "      <td>ceramics</td>\n",
       "      <td>116</td>\n",
       "      <td>837</td>\n",
       "      <td>仿定窑白釉三牺尊</td>\n",
       "      <td>4</td>\n",
       "      <td>2</td>\n",
       "    </tr>\n",
       "  </tbody>\n",
       "</table>\n",
       "</div>"
      ],
      "text/plain": [
       "                 old_class descriptor_num imgind   chn_name  new_class  \\\n",
       "index                                                                    \n",
       "ceramics/63.jpg   ceramics           1912     63    青釉堆塑谷仓罐          3   \n",
       "ceramics/823.jpg  ceramics            946    823  宜兴窑紫砂花口花盆          1   \n",
       "ceramics/189.jpg  ceramics            540    189    定窑白釉双系罐          3   \n",
       "ceramics/77.jpg   ceramics            340     77       青釉唾壶          4   \n",
       "ceramics/837.jpg  ceramics            116    837   仿定窑白釉三牺尊          4   \n",
       "\n",
       "                  old_class_num  \n",
       "index                            \n",
       "ceramics/63.jpg               2  \n",
       "ceramics/823.jpg              2  \n",
       "ceramics/189.jpg              2  \n",
       "ceramics/77.jpg               2  \n",
       "ceramics/837.jpg              2  "
      ]
     },
     "execution_count": 21,
     "metadata": {},
     "output_type": "execute_result"
    }
   ],
   "source": [
    "whole_table.head()"
   ]
  },
  {
   "cell_type": "code",
   "execution_count": 33,
   "metadata": {},
   "outputs": [
    {
     "ename": "FileExistsError",
     "evalue": "[Errno 17] File exists: 'data/category_new/1'",
     "output_type": "error",
     "traceback": [
      "\u001b[0;31m---------------------------------------------------------------------------\u001b[0m",
      "\u001b[0;31mFileExistsError\u001b[0m                           Traceback (most recent call last)",
      "\u001b[0;32m<ipython-input-33-2f7165c4cc25>\u001b[0m in \u001b[0;36m<module>\u001b[0;34m()\u001b[0m\n\u001b[1;32m      1\u001b[0m \u001b[0;32mfor\u001b[0m \u001b[0mi\u001b[0m \u001b[0;32min\u001b[0m \u001b[0mnp\u001b[0m\u001b[0;34m.\u001b[0m\u001b[0munique\u001b[0m\u001b[0;34m(\u001b[0m\u001b[0mwhole_table\u001b[0m\u001b[0;34m.\u001b[0m\u001b[0mnew_class\u001b[0m\u001b[0;34m)\u001b[0m\u001b[0;34m:\u001b[0m\u001b[0;34m\u001b[0m\u001b[0m\n\u001b[0;32m----> 2\u001b[0;31m     \u001b[0mos\u001b[0m\u001b[0;34m.\u001b[0m\u001b[0mmakedirs\u001b[0m\u001b[0;34m(\u001b[0m\u001b[0;34m'data/category_new/'\u001b[0m\u001b[0;34m+\u001b[0m\u001b[0mstr\u001b[0m\u001b[0;34m(\u001b[0m\u001b[0mi\u001b[0m\u001b[0;34m)\u001b[0m\u001b[0;34m)\u001b[0m\u001b[0;34m\u001b[0m\u001b[0m\n\u001b[0m\u001b[1;32m      3\u001b[0m \u001b[0;32mfor\u001b[0m \u001b[0mi\u001b[0m \u001b[0;32min\u001b[0m \u001b[0mnp\u001b[0m\u001b[0;34m.\u001b[0m\u001b[0munique\u001b[0m\u001b[0;34m(\u001b[0m\u001b[0mwhole_table\u001b[0m\u001b[0;34m.\u001b[0m\u001b[0mnew_class\u001b[0m\u001b[0;34m)\u001b[0m\u001b[0;34m:\u001b[0m\u001b[0;34m\u001b[0m\u001b[0m\n\u001b[1;32m      4\u001b[0m     \u001b[0mos\u001b[0m\u001b[0;34m.\u001b[0m\u001b[0mmakedirs\u001b[0m\u001b[0;34m(\u001b[0m\u001b[0;34m'data/test_new/'\u001b[0m\u001b[0;34m+\u001b[0m\u001b[0mstr\u001b[0m\u001b[0;34m(\u001b[0m\u001b[0mi\u001b[0m\u001b[0;34m)\u001b[0m\u001b[0;34m)\u001b[0m\u001b[0;34m\u001b[0m\u001b[0m\n",
      "\u001b[0;32m~/anaconda3/lib/python3.6/os.py\u001b[0m in \u001b[0;36mmakedirs\u001b[0;34m(name, mode, exist_ok)\u001b[0m\n\u001b[1;32m    218\u001b[0m             \u001b[0;32mreturn\u001b[0m\u001b[0;34m\u001b[0m\u001b[0m\n\u001b[1;32m    219\u001b[0m     \u001b[0;32mtry\u001b[0m\u001b[0;34m:\u001b[0m\u001b[0;34m\u001b[0m\u001b[0m\n\u001b[0;32m--> 220\u001b[0;31m         \u001b[0mmkdir\u001b[0m\u001b[0;34m(\u001b[0m\u001b[0mname\u001b[0m\u001b[0;34m,\u001b[0m \u001b[0mmode\u001b[0m\u001b[0;34m)\u001b[0m\u001b[0;34m\u001b[0m\u001b[0m\n\u001b[0m\u001b[1;32m    221\u001b[0m     \u001b[0;32mexcept\u001b[0m \u001b[0mOSError\u001b[0m\u001b[0;34m:\u001b[0m\u001b[0;34m\u001b[0m\u001b[0m\n\u001b[1;32m    222\u001b[0m         \u001b[0;31m# Cannot rely on checking for EEXIST, since the operating system\u001b[0m\u001b[0;34m\u001b[0m\u001b[0;34m\u001b[0m\u001b[0m\n",
      "\u001b[0;31mFileExistsError\u001b[0m: [Errno 17] File exists: 'data/category_new/1'"
     ]
    }
   ],
   "source": [
    "for i in np.unique(whole_table.new_class):\n",
    "    os.makedirs('data/category_new/'+str(i))\n",
    "for i in np.unique(whole_table.new_class):\n",
    "    os.makedirs('data/test_new/'+str(i))"
   ]
  },
  {
   "cell_type": "code",
   "execution_count": 64,
   "metadata": {},
   "outputs": [],
   "source": [
    "#pd.read_excel('data/table/dat_'+class_name+'.xlsx',encoding = \"gbk\",index_col=0)"
   ]
  },
  {
   "cell_type": "markdown",
   "metadata": {},
   "source": [
    "## split new class train and test\n",
    "根据新的分类，首先建立`data/category_new`，根据sample info对应copy到对应的文件夹下，注意最后的文件名是旧类的名字"
   ]
  },
  {
   "cell_type": "code",
   "execution_count": 40,
   "metadata": {},
   "outputs": [],
   "source": [
    "from shutil import copyfile\n",
    "import shutil\n",
    "#copyfile(src, dst)"
   ]
  },
  {
   "cell_type": "code",
   "execution_count": 23,
   "metadata": {},
   "outputs": [
    {
     "name": "stdout",
     "output_type": "stream",
     "text": [
      "\u001b[0m\u001b[01;35mdata/category/ceramics/63.jpg\u001b[0m\r\n"
     ]
    }
   ],
   "source": [
    "ls data/category/ceramics/63.jpg"
   ]
  },
  {
   "cell_type": "code",
   "execution_count": 25,
   "metadata": {},
   "outputs": [
    {
     "name": "stdout",
     "output_type": "stream",
     "text": [
      "\u001b[0m\u001b[01;35mdata/category/ceramics/63.jpg\u001b[0m\r\n"
     ]
    }
   ],
   "source": [
    "ls data/category/ceramics/63.jpg"
   ]
  },
  {
   "cell_type": "code",
   "execution_count": 42,
   "metadata": {},
   "outputs": [
    {
     "data": {
      "application/vnd.jupyter.widget-view+json": {
       "model_id": "b0b3b9f1b97f4e8490ce42d8badb3cad",
       "version_major": 2,
       "version_minor": 0
      },
      "text/html": [
       "<p>Failed to display Jupyter Widget of type <code>HBox</code>.</p>\n",
       "<p>\n",
       "  If you're reading this message in the Jupyter Notebook or JupyterLab Notebook, it may mean\n",
       "  that the widgets JavaScript is still loading. If this message persists, it\n",
       "  likely means that the widgets JavaScript library is either not installed or\n",
       "  not enabled. See the <a href=\"https://ipywidgets.readthedocs.io/en/stable/user_install.html\">Jupyter\n",
       "  Widgets Documentation</a> for setup instructions.\n",
       "</p>\n",
       "<p>\n",
       "  If you're reading this message in another frontend (for example, a static\n",
       "  rendering on GitHub or <a href=\"https://nbviewer.jupyter.org/\">NBViewer</a>),\n",
       "  it may mean that your frontend doesn't currently support widgets.\n",
       "</p>\n"
      ],
      "text/plain": [
       "HBox(children=(IntProgress(value=0, max=6516), HTML(value='')))"
      ]
     },
     "metadata": {},
     "output_type": "display_data"
    },
    {
     "name": "stdout",
     "output_type": "stream",
     "text": [
      "\n"
     ]
    }
   ],
   "source": [
    "indexs = whole_table.index\n",
    "classss = whole_table.new_class\n",
    "for i in tqdm(range(whole_table.shape[0])):\n",
    "    tmpind = indexs[i]\n",
    "    copyfile('data/category/'+tmpind,'data/category_new/'+str(classss[i])+'/'+tmpind.split('/')[0]+'.'+tmpind.split('/')[1])\n",
    "    "
   ]
  },
  {
   "cell_type": "code",
   "execution_count": 34,
   "metadata": {
    "scrolled": true
   },
   "outputs": [
    {
     "name": "stdout",
     "output_type": "stream",
     "text": [
      "\u001b[0m\u001b[01;35mbamboos.110.jpg\u001b[0m    \u001b[01;35mceramics.1364.jpg\u001b[0m  \u001b[01;35mceramics.382.jpg\u001b[0m  \u001b[01;35mceramics.810.jpg\u001b[0m\r\n",
      "\u001b[01;35mbamboos.134.jpg\u001b[0m    \u001b[01;35mceramics.1365.jpg\u001b[0m  \u001b[01;35mceramics.391.jpg\u001b[0m  \u001b[01;35mceramics.811.jpg\u001b[0m\r\n",
      "\u001b[01;35mbamboos.144.jpg\u001b[0m    \u001b[01;35mceramics.1366.jpg\u001b[0m  \u001b[01;35mceramics.392.jpg\u001b[0m  \u001b[01;35mceramics.822.jpg\u001b[0m\r\n",
      "\u001b[01;35mbamboos.182.jpg\u001b[0m    \u001b[01;35mceramics.1367.jpg\u001b[0m  \u001b[01;35mceramics.393.jpg\u001b[0m  \u001b[01;35mceramics.823.jpg\u001b[0m\r\n",
      "\u001b[01;35mbamboos.200.jpg\u001b[0m    \u001b[01;35mceramics.1369.jpg\u001b[0m  \u001b[01;35mceramics.394.jpg\u001b[0m  \u001b[01;35mceramics.824.jpg\u001b[0m\r\n",
      "\u001b[01;35mbamboos.202.jpg\u001b[0m    \u001b[01;35mceramics.1372.jpg\u001b[0m  \u001b[01;35mceramics.414.jpg\u001b[0m  \u001b[01;35mceramics.840.jpg\u001b[0m\r\n",
      "\u001b[01;35mbamboos.211.jpg\u001b[0m    \u001b[01;35mceramics.1373.jpg\u001b[0m  \u001b[01;35mceramics.420.jpg\u001b[0m  \u001b[01;35mceramics.841.jpg\u001b[0m\r\n",
      "\u001b[01;35mbamboos.222.jpg\u001b[0m    \u001b[01;35mceramics.1386.jpg\u001b[0m  \u001b[01;35mceramics.421.jpg\u001b[0m  \u001b[01;35mceramics.842.jpg\u001b[0m\r\n",
      "\u001b[01;35mbamboos.250.jpg\u001b[0m    \u001b[01;35mceramics.1387.jpg\u001b[0m  \u001b[01;35mceramics.423.jpg\u001b[0m  \u001b[01;35mceramics.843.jpg\u001b[0m\r\n",
      "\u001b[01;35mbamboos.255.jpg\u001b[0m    \u001b[01;35mceramics.1389.jpg\u001b[0m  \u001b[01;35mceramics.424.jpg\u001b[0m  \u001b[01;35mceramics.844.jpg\u001b[0m\r\n",
      "\u001b[01;35mbamboos.282.jpg\u001b[0m    \u001b[01;35mceramics.140.jpg\u001b[0m   \u001b[01;35mceramics.425.jpg\u001b[0m  \u001b[01;35mceramics.846.jpg\u001b[0m\r\n",
      "\u001b[01;35mbamboos.287.jpg\u001b[0m    \u001b[01;35mceramics.144.jpg\u001b[0m   \u001b[01;35mceramics.426.jpg\u001b[0m  \u001b[01;35mceramics.856.jpg\u001b[0m\r\n",
      "\u001b[01;35mbamboos.69.jpg\u001b[0m     \u001b[01;35mceramics.149.jpg\u001b[0m   \u001b[01;35mceramics.432.jpg\u001b[0m  \u001b[01;35mceramics.873.jpg\u001b[0m\r\n",
      "\u001b[01;35mbamboos.76.jpg\u001b[0m     \u001b[01;35mceramics.156.jpg\u001b[0m   \u001b[01;35mceramics.439.jpg\u001b[0m  \u001b[01;35mceramics.880.jpg\u001b[0m\r\n",
      "\u001b[01;35mbamboos.90.jpg\u001b[0m     \u001b[01;35mceramics.16.jpg\u001b[0m    \u001b[01;35mceramics.440.jpg\u001b[0m  \u001b[01;35mceramics.883.jpg\u001b[0m\r\n",
      "\u001b[01;35mbronzes.125.jpg\u001b[0m    \u001b[01;35mceramics.177.jpg\u001b[0m   \u001b[01;35mceramics.441.jpg\u001b[0m  \u001b[01;35mceramics.890.jpg\u001b[0m\r\n",
      "\u001b[01;35mbronzes.132.jpg\u001b[0m    \u001b[01;35mceramics.183.jpg\u001b[0m   \u001b[01;35mceramics.445.jpg\u001b[0m  \u001b[01;35mceramics.893.jpg\u001b[0m\r\n",
      "\u001b[01;35mbronzes.133.jpg\u001b[0m    \u001b[01;35mceramics.184.jpg\u001b[0m   \u001b[01;35mceramics.453.jpg\u001b[0m  \u001b[01;35mceramics.897.jpg\u001b[0m\r\n",
      "\u001b[01;35mbronzes.135.jpg\u001b[0m    \u001b[01;35mceramics.185.jpg\u001b[0m   \u001b[01;35mceramics.454.jpg\u001b[0m  \u001b[01;35mceramics.909.jpg\u001b[0m\r\n",
      "\u001b[01;35mbronzes.136.jpg\u001b[0m    \u001b[01;35mceramics.187.jpg\u001b[0m   \u001b[01;35mceramics.455.jpg\u001b[0m  \u001b[01;35mceramics.911.jpg\u001b[0m\r\n",
      "\u001b[01;35mbronzes.141.jpg\u001b[0m    \u001b[01;35mceramics.1.jpg\u001b[0m     \u001b[01;35mceramics.456.jpg\u001b[0m  \u001b[01;35mceramics.918.jpg\u001b[0m\r\n",
      "\u001b[01;35mbronzes.158.jpg\u001b[0m    \u001b[01;35mceramics.201.jpg\u001b[0m   \u001b[01;35mceramics.45.jpg\u001b[0m   \u001b[01;35mceramics.919.jpg\u001b[0m\r\n",
      "\u001b[01;35mbronzes.186.jpg\u001b[0m    \u001b[01;35mceramics.212.jpg\u001b[0m   \u001b[01;35mceramics.460.jpg\u001b[0m  \u001b[01;35mceramics.920.jpg\u001b[0m\r\n",
      "\u001b[01;35mbronzes.209.jpg\u001b[0m    \u001b[01;35mceramics.216.jpg\u001b[0m   \u001b[01;35mceramics.463.jpg\u001b[0m  \u001b[01;35mceramics.921.jpg\u001b[0m\r\n",
      "\u001b[01;35mbronzes.224.jpg\u001b[0m    \u001b[01;35mceramics.225.jpg\u001b[0m   \u001b[01;35mceramics.464.jpg\u001b[0m  \u001b[01;35mceramics.930.jpg\u001b[0m\r\n",
      "\u001b[01;35mbronzes.53.jpg\u001b[0m     \u001b[01;35mceramics.227.jpg\u001b[0m   \u001b[01;35mceramics.471.jpg\u001b[0m  \u001b[01;35mceramics.948.jpg\u001b[0m\r\n",
      "\u001b[01;35mceramics.1011.jpg\u001b[0m  \u001b[01;35mceramics.228.jpg\u001b[0m   \u001b[01;35mceramics.48.jpg\u001b[0m   \u001b[01;35mceramics.950.jpg\u001b[0m\r\n",
      "\u001b[01;35mceramics.1015.jpg\u001b[0m  \u001b[01;35mceramics.22.jpg\u001b[0m    \u001b[01;35mceramics.494.jpg\u001b[0m  \u001b[01;35mceramics.952.jpg\u001b[0m\r\n",
      "\u001b[01;35mceramics.1016.jpg\u001b[0m  \u001b[01;35mceramics.231.jpg\u001b[0m   \u001b[01;35mceramics.49.jpg\u001b[0m   \u001b[01;35mceramics.954.jpg\u001b[0m\r\n",
      "\u001b[01;35mceramics.1023.jpg\u001b[0m  \u001b[01;35mceramics.235.jpg\u001b[0m   \u001b[01;35mceramics.503.jpg\u001b[0m  \u001b[01;35mceramics.963.jpg\u001b[0m\r\n",
      "\u001b[01;35mceramics.1027.jpg\u001b[0m  \u001b[01;35mceramics.237.jpg\u001b[0m   \u001b[01;35mceramics.509.jpg\u001b[0m  \u001b[01;35mceramics.964.jpg\u001b[0m\r\n",
      "\u001b[01;35mceramics.1028.jpg\u001b[0m  \u001b[01;35mceramics.238.jpg\u001b[0m   \u001b[01;35mceramics.511.jpg\u001b[0m  \u001b[01;35mceramics.969.jpg\u001b[0m\r\n",
      "\u001b[01;35mceramics.1031.jpg\u001b[0m  \u001b[01;35mceramics.241.jpg\u001b[0m   \u001b[01;35mceramics.529.jpg\u001b[0m  \u001b[01;35mceramics.970.jpg\u001b[0m\r\n",
      "\u001b[01;35mceramics.1032.jpg\u001b[0m  \u001b[01;35mceramics.246.jpg\u001b[0m   \u001b[01;35mceramics.535.jpg\u001b[0m  \u001b[01;35mceramics.988.jpg\u001b[0m\r\n",
      "\u001b[01;35mceramics.1035.jpg\u001b[0m  \u001b[01;35mceramics.247.jpg\u001b[0m   \u001b[01;35mceramics.537.jpg\u001b[0m  \u001b[01;35mceramics.989.jpg\u001b[0m\r\n",
      "\u001b[01;35mceramics.1037.jpg\u001b[0m  \u001b[01;35mceramics.250.jpg\u001b[0m   \u001b[01;35mceramics.540.jpg\u001b[0m  \u001b[01;35mceramics.998.jpg\u001b[0m\r\n",
      "\u001b[01;35mceramics.1044.jpg\u001b[0m  \u001b[01;35mceramics.251.jpg\u001b[0m   \u001b[01;35mceramics.543.jpg\u001b[0m  \u001b[01;35mceramics.9.jpg\u001b[0m\r\n",
      "\u001b[01;35mceramics.1045.jpg\u001b[0m  \u001b[01;35mceramics.252.jpg\u001b[0m   \u001b[01;35mceramics.546.jpg\u001b[0m  \u001b[01;35menamels.107.jpg\u001b[0m\r\n",
      "\u001b[01;35mceramics.1073.jpg\u001b[0m  \u001b[01;35mceramics.254.jpg\u001b[0m   \u001b[01;35mceramics.553.jpg\u001b[0m  \u001b[01;35menamels.109.jpg\u001b[0m\r\n",
      "\u001b[01;35mceramics.1074.jpg\u001b[0m  \u001b[01;35mceramics.255.jpg\u001b[0m   \u001b[01;35mceramics.558.jpg\u001b[0m  \u001b[01;35menamels.115.jpg\u001b[0m\r\n",
      "\u001b[01;35mceramics.1076.jpg\u001b[0m  \u001b[01;35mceramics.258.jpg\u001b[0m   \u001b[01;35mceramics.559.jpg\u001b[0m  \u001b[01;35menamels.121.jpg\u001b[0m\r\n",
      "\u001b[01;35mceramics.1087.jpg\u001b[0m  \u001b[01;35mceramics.260.jpg\u001b[0m   \u001b[01;35mceramics.561.jpg\u001b[0m  \u001b[01;35menamels.15.jpg\u001b[0m\r\n",
      "\u001b[01;35mceramics.1092.jpg\u001b[0m  \u001b[01;35mceramics.264.jpg\u001b[0m   \u001b[01;35mceramics.563.jpg\u001b[0m  \u001b[01;35menamels.24.jpg\u001b[0m\r\n",
      "\u001b[01;35mceramics.1094.jpg\u001b[0m  \u001b[01;35mceramics.265.jpg\u001b[0m   \u001b[01;35mceramics.565.jpg\u001b[0m  \u001b[01;35menamels.39.jpg\u001b[0m\r\n",
      "\u001b[01;35mceramics.10.jpg\u001b[0m    \u001b[01;35mceramics.266.jpg\u001b[0m   \u001b[01;35mceramics.569.jpg\u001b[0m  \u001b[01;35menamels.43.jpg\u001b[0m\r\n",
      "\u001b[01;35mceramics.1136.jpg\u001b[0m  \u001b[01;35mceramics.273.jpg\u001b[0m   \u001b[01;35mceramics.576.jpg\u001b[0m  \u001b[01;35menamels.44.jpg\u001b[0m\r\n",
      "\u001b[01;35mceramics.1149.jpg\u001b[0m  \u001b[01;35mceramics.278.jpg\u001b[0m   \u001b[01;35mceramics.579.jpg\u001b[0m  \u001b[01;35menamels.47.jpg\u001b[0m\r\n",
      "\u001b[01;35mceramics.1155.jpg\u001b[0m  \u001b[01;35mceramics.280.jpg\u001b[0m   \u001b[01;35mceramics.57.jpg\u001b[0m   \u001b[01;35menamels.51.jpg\u001b[0m\r\n",
      "\u001b[01;35mceramics.1156.jpg\u001b[0m  \u001b[01;35mceramics.283.jpg\u001b[0m   \u001b[01;35mceramics.586.jpg\u001b[0m  \u001b[01;35menamels.53.jpg\u001b[0m\r\n",
      "\u001b[01;35mceramics.1157.jpg\u001b[0m  \u001b[01;35mceramics.284.jpg\u001b[0m   \u001b[01;35mceramics.589.jpg\u001b[0m  \u001b[01;35menamels.59.jpg\u001b[0m\r\n",
      "\u001b[01;35mceramics.1205.jpg\u001b[0m  \u001b[01;35mceramics.286.jpg\u001b[0m   \u001b[01;35mceramics.58.jpg\u001b[0m   \u001b[01;35menamels.64.jpg\u001b[0m\r\n",
      "\u001b[01;35mceramics.1207.jpg\u001b[0m  \u001b[01;35mceramics.287.jpg\u001b[0m   \u001b[01;35mceramics.596.jpg\u001b[0m  \u001b[01;35menamels.71.jpg\u001b[0m\r\n",
      "\u001b[01;35mceramics.1216.jpg\u001b[0m  \u001b[01;35mceramics.288.jpg\u001b[0m   \u001b[01;35mceramics.600.jpg\u001b[0m  \u001b[01;35menamels.72.jpg\u001b[0m\r\n",
      "\u001b[01;35mceramics.1222.jpg\u001b[0m  \u001b[01;35mceramics.290.jpg\u001b[0m   \u001b[01;35mceramics.603.jpg\u001b[0m  \u001b[01;35menamels.74.jpg\u001b[0m\r\n",
      "\u001b[01;35mceramics.1225.jpg\u001b[0m  \u001b[01;35mceramics.295.jpg\u001b[0m   \u001b[01;35mceramics.604.jpg\u001b[0m  \u001b[01;35menamels.96.jpg\u001b[0m\r\n",
      "\u001b[01;35mceramics.1227.jpg\u001b[0m  \u001b[01;35mceramics.298.jpg\u001b[0m   \u001b[01;35mceramics.608.jpg\u001b[0m  \u001b[01;35menamels.97.jpg\u001b[0m\r\n",
      "\u001b[01;35mceramics.1235.jpg\u001b[0m  \u001b[01;35mceramics.2.jpg\u001b[0m     \u001b[01;35mceramics.609.jpg\u001b[0m  \u001b[01;35menamels.98.jpg\u001b[0m\r\n",
      "\u001b[01;35mceramics.1242.jpg\u001b[0m  \u001b[01;35mceramics.300.jpg\u001b[0m   \u001b[01;35mceramics.616.jpg\u001b[0m  \u001b[01;35mglasses.10.jpg\u001b[0m\r\n",
      "\u001b[01;35mceramics.1243.jpg\u001b[0m  \u001b[01;35mceramics.309.jpg\u001b[0m   \u001b[01;35mceramics.617.jpg\u001b[0m  \u001b[01;35mglasses.13.jpg\u001b[0m\r\n",
      "\u001b[01;35mceramics.1244.jpg\u001b[0m  \u001b[01;35mceramics.30.jpg\u001b[0m    \u001b[01;35mceramics.619.jpg\u001b[0m  \u001b[01;35mglasses.17.jpg\u001b[0m\r\n",
      "\u001b[01;35mceramics.1249.jpg\u001b[0m  \u001b[01;35mceramics.310.jpg\u001b[0m   \u001b[01;35mceramics.620.jpg\u001b[0m  \u001b[01;35mglasses.24.jpg\u001b[0m\r\n",
      "\u001b[01;35mceramics.1251.jpg\u001b[0m  \u001b[01;35mceramics.315.jpg\u001b[0m   \u001b[01;35mceramics.624.jpg\u001b[0m  \u001b[01;35mglasses.2.jpg\u001b[0m\r\n",
      "\u001b[01;35mceramics.1253.jpg\u001b[0m  \u001b[01;35mceramics.317.jpg\u001b[0m   \u001b[01;35mceramics.628.jpg\u001b[0m  \u001b[01;35mglasses.32.jpg\u001b[0m\r\n",
      "\u001b[01;35mceramics.1257.jpg\u001b[0m  \u001b[01;35mceramics.319.jpg\u001b[0m   \u001b[01;35mceramics.631.jpg\u001b[0m  \u001b[01;35mjades.123.jpg\u001b[0m\r\n",
      "\u001b[01;35mceramics.1258.jpg\u001b[0m  \u001b[01;35mceramics.320.jpg\u001b[0m   \u001b[01;35mceramics.634.jpg\u001b[0m  \u001b[01;35mjades.136.jpg\u001b[0m\r\n",
      "\u001b[01;35mceramics.1259.jpg\u001b[0m  \u001b[01;35mceramics.321.jpg\u001b[0m   \u001b[01;35mceramics.639.jpg\u001b[0m  \u001b[01;35mjades.260.jpg\u001b[0m\r\n",
      "\u001b[01;35mceramics.1264.jpg\u001b[0m  \u001b[01;35mceramics.322.jpg\u001b[0m   \u001b[01;35mceramics.641.jpg\u001b[0m  \u001b[01;35mjades.264.jpg\u001b[0m\r\n",
      "\u001b[01;35mceramics.1274.jpg\u001b[0m  \u001b[01;35mceramics.323.jpg\u001b[0m   \u001b[01;35mceramics.643.jpg\u001b[0m  \u001b[01;35mjades.292.jpg\u001b[0m\r\n",
      "\u001b[01;35mceramics.1277.jpg\u001b[0m  \u001b[01;35mceramics.324.jpg\u001b[0m   \u001b[01;35mceramics.649.jpg\u001b[0m  \u001b[01;35mjades.325.jpg\u001b[0m\r\n",
      "\u001b[01;35mceramics.1281.jpg\u001b[0m  \u001b[01;35mceramics.325.jpg\u001b[0m   \u001b[01;35mceramics.662.jpg\u001b[0m  \u001b[01;35mjades.328.jpg\u001b[0m\r\n",
      "\u001b[01;35mceramics.1291.jpg\u001b[0m  \u001b[01;35mceramics.326.jpg\u001b[0m   \u001b[01;35mceramics.66.jpg\u001b[0m   \u001b[01;35mjades.335.jpg\u001b[0m\r\n",
      "\u001b[01;35mceramics.1292.jpg\u001b[0m  \u001b[01;35mceramics.327.jpg\u001b[0m   \u001b[01;35mceramics.675.jpg\u001b[0m  \u001b[01;35mjades.345.jpg\u001b[0m\r\n",
      "\u001b[01;35mceramics.1296.jpg\u001b[0m  \u001b[01;35mceramics.332.jpg\u001b[0m   \u001b[01;35mceramics.679.jpg\u001b[0m  \u001b[01;35mjades.360.jpg\u001b[0m\r\n",
      "\u001b[01;35mceramics.1298.jpg\u001b[0m  \u001b[01;35mceramics.333.jpg\u001b[0m   \u001b[01;35mceramics.686.jpg\u001b[0m  \u001b[01;35mjades.367.jpg\u001b[0m\r\n",
      "\u001b[01;35mceramics.129.jpg\u001b[0m   \u001b[01;35mceramics.334.jpg\u001b[0m   \u001b[01;35mceramics.691.jpg\u001b[0m  \u001b[01;35mjades.371.jpg\u001b[0m\r\n",
      "\u001b[01;35mceramics.12.jpg\u001b[0m    \u001b[01;35mceramics.335.jpg\u001b[0m   \u001b[01;35mceramics.699.jpg\u001b[0m  \u001b[01;35mjades.378.jpg\u001b[0m\r\n",
      "\u001b[01;35mceramics.1301.jpg\u001b[0m  \u001b[01;35mceramics.336.jpg\u001b[0m   \u001b[01;35mceramics.69.jpg\u001b[0m   \u001b[01;35mjades.379.jpg\u001b[0m\r\n",
      "\u001b[01;35mceramics.1304.jpg\u001b[0m  \u001b[01;35mceramics.337.jpg\u001b[0m   \u001b[01;35mceramics.700.jpg\u001b[0m  \u001b[01;35mjades.380.jpg\u001b[0m\r\n",
      "\u001b[01;35mceramics.1309.jpg\u001b[0m  \u001b[01;35mceramics.338.jpg\u001b[0m   \u001b[01;35mceramics.701.jpg\u001b[0m  \u001b[01;35mjades.388.jpg\u001b[0m\r\n",
      "\u001b[01;35mceramics.1310.jpg\u001b[0m  \u001b[01;35mceramics.339.jpg\u001b[0m   \u001b[01;35mceramics.702.jpg\u001b[0m  \u001b[01;35mjades.413.jpg\u001b[0m\r\n",
      "\u001b[01;35mceramics.1311.jpg\u001b[0m  \u001b[01;35mceramics.340.jpg\u001b[0m   \u001b[01;35mceramics.703.jpg\u001b[0m  \u001b[01;35mjades.417.jpg\u001b[0m\r\n",
      "\u001b[01;35mceramics.1313.jpg\u001b[0m  \u001b[01;35mceramics.341.jpg\u001b[0m   \u001b[01;35mceramics.707.jpg\u001b[0m  \u001b[01;35mjades.423.jpg\u001b[0m\r\n",
      "\u001b[01;35mceramics.1315.jpg\u001b[0m  \u001b[01;35mceramics.352.jpg\u001b[0m   \u001b[01;35mceramics.709.jpg\u001b[0m  \u001b[01;35mjades.430.jpg\u001b[0m\r\n",
      "\u001b[01;35mceramics.1320.jpg\u001b[0m  \u001b[01;35mceramics.353.jpg\u001b[0m   \u001b[01;35mceramics.711.jpg\u001b[0m  \u001b[01;35mjades.443.jpg\u001b[0m\r\n",
      "\u001b[01;35mceramics.1321.jpg\u001b[0m  \u001b[01;35mceramics.354.jpg\u001b[0m   \u001b[01;35mceramics.728.jpg\u001b[0m  \u001b[01;35mjades.463.jpg\u001b[0m\r\n",
      "\u001b[01;35mceramics.1322.jpg\u001b[0m  \u001b[01;35mceramics.355.jpg\u001b[0m   \u001b[01;35mceramics.734.jpg\u001b[0m  \u001b[01;35mjades.464.jpg\u001b[0m\r\n",
      "\u001b[01;35mceramics.1324.jpg\u001b[0m  \u001b[01;35mceramics.356.jpg\u001b[0m   \u001b[01;35mceramics.746.jpg\u001b[0m  \u001b[01;35mjades.485.jpg\u001b[0m\r\n",
      "\u001b[01;35mceramics.1326.jpg\u001b[0m  \u001b[01;35mceramics.357.jpg\u001b[0m   \u001b[01;35mceramics.747.jpg\u001b[0m  \u001b[01;35mlacquerwares.109.jpg\u001b[0m\r\n",
      "\u001b[01;35mceramics.1327.jpg\u001b[0m  \u001b[01;35mceramics.364.jpg\u001b[0m   \u001b[01;35mceramics.756.jpg\u001b[0m  \u001b[01;35mlacquerwares.130.jpg\u001b[0m\r\n",
      "\u001b[01;35mceramics.132.jpg\u001b[0m   \u001b[01;35mceramics.368.jpg\u001b[0m   \u001b[01;35mceramics.776.jpg\u001b[0m  \u001b[01;35mlacquerwares.145.jpg\u001b[0m\r\n",
      "\u001b[01;35mceramics.1333.jpg\u001b[0m  \u001b[01;35mceramics.369.jpg\u001b[0m   \u001b[01;35mceramics.779.jpg\u001b[0m  \u001b[01;35mlacquerwares.148.jpg\u001b[0m\r\n",
      "\u001b[01;35mceramics.1337.jpg\u001b[0m  \u001b[01;35mceramics.371.jpg\u001b[0m   \u001b[01;35mceramics.780.jpg\u001b[0m  \u001b[01;35mlacquerwares.26.jpg\u001b[0m\r\n",
      "\u001b[01;35mceramics.1338.jpg\u001b[0m  \u001b[01;35mceramics.374.jpg\u001b[0m   \u001b[01;35mceramics.781.jpg\u001b[0m  \u001b[01;35mlacquerwares.38.jpg\u001b[0m\r\n",
      "\u001b[01;35mceramics.1340.jpg\u001b[0m  \u001b[01;35mceramics.377.jpg\u001b[0m   \u001b[01;35mceramics.782.jpg\u001b[0m  \u001b[01;35mlacquerwares.50.jpg\u001b[0m\r\n",
      "\u001b[01;35mceramics.1344.jpg\u001b[0m  \u001b[01;35mceramics.378.jpg\u001b[0m   \u001b[01;35mceramics.784.jpg\u001b[0m  \u001b[01;35mlacquerwares.8.jpg\u001b[0m\r\n",
      "\u001b[01;35mceramics.1350.jpg\u001b[0m  \u001b[01;35mceramics.380.jpg\u001b[0m   \u001b[01;35mceramics.787.jpg\u001b[0m  \u001b[01;35mlacquerwares.95.jpg\u001b[0m\r\n",
      "\u001b[01;35mceramics.1362.jpg\u001b[0m  \u001b[01;35mceramics.381.jpg\u001b[0m   \u001b[01;35mceramics.800.jpg\u001b[0m  \u001b[01;35mlacquerwares.97.jpg\u001b[0m\r\n"
     ]
    }
   ],
   "source": [
    "ls data/category_new/1"
   ]
  },
  {
   "cell_type": "code",
   "execution_count": 41,
   "metadata": {},
   "outputs": [],
   "source": [
    "for i in os.listdir('data/category_new/'):\n",
    "    tmpfile = os.listdir('data/category_new/'+i)\n",
    "    tmplen = len(tmpfile)\n",
    "    test_ind = np.random.choice(range(tmplen), \n",
    "                           int(0.2*tmplen), replace=False)\n",
    "    for j in np.array(tmpfile)[test_ind]:\n",
    "        shutil.move('data/category_new/'+i+'/'+j,'data/test_new/'+i+'/'+j)"
   ]
  },
  {
   "cell_type": "code",
   "execution_count": 16,
   "metadata": {
    "deletable": false,
    "editable": false,
    "run_control": {
     "frozen": true
    }
   },
   "outputs": [
    {
     "ename": "FileNotFoundError",
     "evalue": "[Errno 2] No such file or directory: 'data/train/'",
     "output_type": "error",
     "traceback": [
      "\u001b[0;31m---------------------------------------------------------------------------\u001b[0m",
      "\u001b[0;31mFileNotFoundError\u001b[0m                         Traceback (most recent call last)",
      "\u001b[0;32m<ipython-input-16-855da1ad89ec>\u001b[0m in \u001b[0;36m<module>\u001b[0;34m()\u001b[0m\n\u001b[1;32m      1\u001b[0m test_ind = np.random.choice(range(image_size_df.shape[0]), \n\u001b[1;32m      2\u001b[0m                            int(0.2*image_size_df.shape[0]), replace=False)\n\u001b[0;32m----> 3\u001b[0;31m \u001b[0;32mfor\u001b[0m \u001b[0mi\u001b[0m \u001b[0;32min\u001b[0m \u001b[0mos\u001b[0m\u001b[0;34m.\u001b[0m\u001b[0mlistdir\u001b[0m\u001b[0;34m(\u001b[0m\u001b[0;34m'data/train/'\u001b[0m\u001b[0;34m)\u001b[0m\u001b[0;34m:\u001b[0m\u001b[0;34m\u001b[0m\u001b[0m\n\u001b[0m\u001b[1;32m      4\u001b[0m     \u001b[0mos\u001b[0m\u001b[0;34m.\u001b[0m\u001b[0mmakedirs\u001b[0m\u001b[0;34m(\u001b[0m\u001b[0;34m'data/test/'\u001b[0m\u001b[0;34m+\u001b[0m\u001b[0mi\u001b[0m\u001b[0;34m)\u001b[0m\u001b[0;34m\u001b[0m\u001b[0m\n\u001b[1;32m      5\u001b[0m     \u001b[0mtmp_select_df\u001b[0m \u001b[0;34m=\u001b[0m \u001b[0mimage_size_df\u001b[0m\u001b[0;34m.\u001b[0m\u001b[0miloc\u001b[0m\u001b[0;34m[\u001b[0m\u001b[0mtest_ind\u001b[0m\u001b[0;34m]\u001b[0m\u001b[0;34m\u001b[0m\u001b[0m\n",
      "\u001b[0;31mFileNotFoundError\u001b[0m: [Errno 2] No such file or directory: 'data/train/'"
     ]
    }
   ],
   "source": [
    "test_ind = np.random.choice(range(whole_table.shape[0]), \n",
    "                           int(0.2*whole_table.shape[0]), replace=False)\n",
    "for i in os.listdir('data/train/'):\n",
    "    os.makedirs('data/test/'+i)\n",
    "    tmp_select_df = image_size_df.iloc[test_ind]\n",
    "for i in range(tmp_select_df.shape[0]):\n",
    "    shutil.move('data/train/'+tmp_select_df.iloc[i]['category']\n",
    "                +'/'+tmp_select_df.iloc[i]['img_name'],'data/test/'+tmp_select_df.iloc[i]['category']\n",
    "                +'/'+tmp_select_df.iloc[i]['img_name'])"
   ]
  },
  {
   "cell_type": "code",
   "execution_count": null,
   "metadata": {},
   "outputs": [],
   "source": []
  },
  {
   "cell_type": "code",
   "execution_count": null,
   "metadata": {},
   "outputs": [],
   "source": []
  }
 ],
 "metadata": {
  "kernelspec": {
   "display_name": "Python 3",
   "language": "python",
   "name": "python3"
  },
  "language_info": {
   "codemirror_mode": {
    "name": "ipython",
    "version": 3
   },
   "file_extension": ".py",
   "mimetype": "text/x-python",
   "name": "python",
   "nbconvert_exporter": "python",
   "pygments_lexer": "ipython3",
   "version": "3.6.4"
  },
  "toc": {
   "base_numbering": 1,
   "nav_menu": {},
   "number_sections": true,
   "sideBar": true,
   "skip_h1_title": false,
   "title_cell": "Table of Contents",
   "title_sidebar": "Contents",
   "toc_cell": false,
   "toc_position": {},
   "toc_section_display": true,
   "toc_window_display": false
  }
 },
 "nbformat": 4,
 "nbformat_minor": 2
}
