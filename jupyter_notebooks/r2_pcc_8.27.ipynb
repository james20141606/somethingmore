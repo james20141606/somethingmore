{
 "cells": [
  {
   "cell_type": "code",
   "execution_count": 1,
   "metadata": {
    "collapsed": true
   },
   "outputs": [],
   "source": [
    "import pickle\n",
    "import pandas as pd\n",
    "for x in ('0','1','2','3','4','5','6','7','8','9'):\n",
    "    with open('/Users/james/parent_cv/'+x+'/r2_pcc_dict.txt','rb') as fi:\n",
    "        d = pickle.load(fi)\n",
    "\n",
    "    c = {}\n",
    "    traits = ['trait1','trait2','trait3']\n",
    "    keys = ['r2_test','r2_train','pcc_test','pcc_train']\n",
    "    models = ['lr','xgbr','ridge','kr','knr','rfr']\n",
    "\n",
    "    for trait in traits:\n",
    "        c[trait] = {}\n",
    "    for key in keys:\n",
    "        for trait in traits:\n",
    "            c[trait][key] = {}\n",
    "    for model in models:\n",
    "        for trait in traits:\n",
    "            for key in keys:\n",
    "                if key in ['pcc_test_fm','pcc_test_f','pcc_test_m','pcc_test','pcc_train']:\n",
    "                    c[trait][key][model] = d[model][trait][key][0]\n",
    "                else:\n",
    "                    c[trait][key][model] = d[model][trait][key]\n",
    "\n",
    "    m = pd.DataFrame.from_dict({(i,j): c[i][j] \n",
    "                           for i in c.keys() \n",
    "                           for j in c[i].keys()},\n",
    "                       orient='index')\n",
    "    m.to_csv('/Users/james/parent_cv/'+x+'.csv')"
   ]
  },
  {
   "cell_type": "code",
   "execution_count": null,
   "metadata": {
    "collapsed": true
   },
   "outputs": [],
   "source": []
  }
 ],
 "metadata": {
  "kernelspec": {
   "display_name": "Python 2",
   "language": "python",
   "name": "python2"
  },
  "language_info": {
   "codemirror_mode": {
    "name": "ipython",
    "version": 2
   },
   "file_extension": ".py",
   "mimetype": "text/x-python",
   "name": "python",
   "nbconvert_exporter": "python",
   "pygments_lexer": "ipython2",
   "version": "2.7.13"
  }
 },
 "nbformat": 4,
 "nbformat_minor": 2
}
