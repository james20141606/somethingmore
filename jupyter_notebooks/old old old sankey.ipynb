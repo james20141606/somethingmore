{
    "nbformat_minor": 2, 
    "nbformat": 4, 
    "cells": [
        {
            "source": [
                "# Plotly - Sankey Diagrams"
            ], 
            "cell_type": "markdown", 
            "metadata": {}
        }, 
        {
            "source": [
                "import json, urllib\n", 
                "import plotly.plotly as py\n", 
                "import pandas as pd\n", 
                "import numpy as np"
            ], 
            "cell_type": "code", 
            "metadata": {
                "collapsed": true
            }, 
            "execution_count": 1, 
            "outputs": []
        }, 
        {
            "source": [
                "refugee_df = pd.read_csv('refugee-movement.csv')"
            ], 
            "cell_type": "code", 
            "metadata": {
                "collapsed": false
            }, 
            "execution_count": 2, 
            "outputs": []
        }, 
        {
            "source": [
                "refugee_df.head()"
            ], 
            "cell_type": "code", 
            "metadata": {
                "collapsed": false
            }, 
            "execution_count": 3, 
            "outputs": [
                {
                    "output_type": "execute_result", 
                    "data": {
                        "text/plain": [
                            "   Source  Target  Value    Color              Node, Label\n", 
                            "0       0      14    548  #262C46         People from Iran\n", 
                            "1       0      15    167  #262C46  People from Afghanistan\n", 
                            "2       1      14    135  #262C46     People from Pakistan\n", 
                            "3       1      15     37  #262C46         People from Iraq\n", 
                            "4       2      14    105  #262C46   People from Bangladesh"
                        ], 
                        "text/html": [
                            "<div>\n", 
                            "<table border=\"1\" class=\"dataframe\">\n", 
                            "  <thead>\n", 
                            "    <tr style=\"text-align: right;\">\n", 
                            "      <th></th>\n", 
                            "      <th>Source</th>\n", 
                            "      <th>Target</th>\n", 
                            "      <th>Value</th>\n", 
                            "      <th>Color</th>\n", 
                            "      <th>Node, Label</th>\n", 
                            "    </tr>\n", 
                            "  </thead>\n", 
                            "  <tbody>\n", 
                            "    <tr>\n", 
                            "      <th>0</th>\n", 
                            "      <td>0</td>\n", 
                            "      <td>14</td>\n", 
                            "      <td>548</td>\n", 
                            "      <td>#262C46</td>\n", 
                            "      <td>People from Iran</td>\n", 
                            "    </tr>\n", 
                            "    <tr>\n", 
                            "      <th>1</th>\n", 
                            "      <td>0</td>\n", 
                            "      <td>15</td>\n", 
                            "      <td>167</td>\n", 
                            "      <td>#262C46</td>\n", 
                            "      <td>People from Afghanistan</td>\n", 
                            "    </tr>\n", 
                            "    <tr>\n", 
                            "      <th>2</th>\n", 
                            "      <td>1</td>\n", 
                            "      <td>14</td>\n", 
                            "      <td>135</td>\n", 
                            "      <td>#262C46</td>\n", 
                            "      <td>People from Pakistan</td>\n", 
                            "    </tr>\n", 
                            "    <tr>\n", 
                            "      <th>3</th>\n", 
                            "      <td>1</td>\n", 
                            "      <td>15</td>\n", 
                            "      <td>37</td>\n", 
                            "      <td>#262C46</td>\n", 
                            "      <td>People from Iraq</td>\n", 
                            "    </tr>\n", 
                            "    <tr>\n", 
                            "      <th>4</th>\n", 
                            "      <td>2</td>\n", 
                            "      <td>14</td>\n", 
                            "      <td>105</td>\n", 
                            "      <td>#262C46</td>\n", 
                            "      <td>People from Bangladesh</td>\n", 
                            "    </tr>\n", 
                            "  </tbody>\n", 
                            "</table>\n", 
                            "</div>"
                        ]
                    }, 
                    "execution_count": 3, 
                    "metadata": {}
                }
            ]
        }, 
        {
            "source": [
                "data_trace = dict(\n", 
                "    type='sankey',\n", 
                "    domain = dict(\n", 
                "      x =  [0,1],\n", 
                "      y =  [0,1]\n", 
                "    ),\n", 
                "    orientation = \"h\",\n", 
                "    valueformat = \".0f\",\n", 
                "    node = dict(\n", 
                "      pad = 10,\n", 
                "      thickness = 30,\n", 
                "      line = dict(\n", 
                "        color = \"black\",\n", 
                "        width = 0.5\n", 
                "      ),\n", 
                "      label =  refugee_df['Node, Label'].dropna(axis=0, how='any'),\n", 
                "      color = refugee_df['Color']\n", 
                "    ),\n", 
                "    link = dict(\n", 
                "      source = refugee_df['Source'].dropna(axis=0, how='any'),\n", 
                "      target = refugee_df['Target'].dropna(axis=0, how='any'),\n", 
                "      value = refugee_df['Value'].dropna(axis=0, how='any'),\n", 
                "  )\n", 
                ")\n", 
                "\n", 
                "layout =  dict(\n", 
                "    title = \"Refugee movement through Manus and Nauru, via <a href='http://www.bryanbrussee.com/sankey.html'>Bryan Brussee</a>\",\n", 
                "    height = 772,\n", 
                "    width = 950,\n", 
                "    font = dict(\n", 
                "      size = 10\n", 
                "    ),    \n", 
                ")\n", 
                "\n", 
                "\n", 
                "fig = dict(data=[data_trace], layout=layout)\n", 
                "py.iplot(fig, validate=False)"
            ], 
            "cell_type": "code", 
            "metadata": {
                "collapsed": false
            }, 
            "execution_count": 12, 
            "outputs": [
                {
                    "output_type": "execute_result", 
                    "data": {
                        "text/plain": [
                            "<plotly.tools.PlotlyDisplay object>"
                        ], 
                        "text/html": [
                            "<iframe id=\"igraph\" scrolling=\"no\" style=\"border:none;\" seamless=\"seamless\" src=\"https://plot.ly/~alishobeiri/1579.embed\" height=\"772px\" width=\"100%\"></iframe>"
                        ]
                    }, 
                    "execution_count": 12, 
                    "metadata": {}
                }
            ]
        }, 
        {
            "source": [
                "scottish_df = pd.read_csv('scottish-votes.csv')"
            ], 
            "cell_type": "code", 
            "metadata": {
                "collapsed": true
            }, 
            "execution_count": 5, 
            "outputs": []
        }, 
        {
            "source": [
                "scottish_df.head()"
            ], 
            "cell_type": "code", 
            "metadata": {
                "collapsed": false
            }, 
            "execution_count": 6, 
            "outputs": [
                {
                    "output_type": "execute_result", 
                    "data": {
                        "text/plain": [
                            "   Source  Target  Value    Color  \\\n", 
                            "0       0       5     20  #F27420   \n", 
                            "1       0       6      3  #4994CE   \n", 
                            "2       0       7      5  #FABC13   \n", 
                            "3       1       5     14  #7FC241   \n", 
                            "4       1       6      1  #D3D3D3   \n", 
                            "\n", 
                            "                                   Node, Label                Link Color  \n", 
                            "0                               Remain+No – 28  rgba(253, 227, 212, 0.5)  \n", 
                            "1                                Leave+No – 16     rgba(242, 116, 32, 1)  \n", 
                            "2                              Remain+Yes – 21  rgba(253, 227, 212, 0.5)  \n", 
                            "3                               Leave+Yes – 14  rgba(219, 233, 246, 0.5)  \n", 
                            "4  Didn’t vote in at least one referendum – 21     rgba(73, 148, 206, 1)  "
                        ], 
                        "text/html": [
                            "<div>\n", 
                            "<table border=\"1\" class=\"dataframe\">\n", 
                            "  <thead>\n", 
                            "    <tr style=\"text-align: right;\">\n", 
                            "      <th></th>\n", 
                            "      <th>Source</th>\n", 
                            "      <th>Target</th>\n", 
                            "      <th>Value</th>\n", 
                            "      <th>Color</th>\n", 
                            "      <th>Node, Label</th>\n", 
                            "      <th>Link Color</th>\n", 
                            "    </tr>\n", 
                            "  </thead>\n", 
                            "  <tbody>\n", 
                            "    <tr>\n", 
                            "      <th>0</th>\n", 
                            "      <td>0</td>\n", 
                            "      <td>5</td>\n", 
                            "      <td>20</td>\n", 
                            "      <td>#F27420</td>\n", 
                            "      <td>Remain+No – 28</td>\n", 
                            "      <td>rgba(253, 227, 212, 0.5)</td>\n", 
                            "    </tr>\n", 
                            "    <tr>\n", 
                            "      <th>1</th>\n", 
                            "      <td>0</td>\n", 
                            "      <td>6</td>\n", 
                            "      <td>3</td>\n", 
                            "      <td>#4994CE</td>\n", 
                            "      <td>Leave+No – 16</td>\n", 
                            "      <td>rgba(242, 116, 32, 1)</td>\n", 
                            "    </tr>\n", 
                            "    <tr>\n", 
                            "      <th>2</th>\n", 
                            "      <td>0</td>\n", 
                            "      <td>7</td>\n", 
                            "      <td>5</td>\n", 
                            "      <td>#FABC13</td>\n", 
                            "      <td>Remain+Yes – 21</td>\n", 
                            "      <td>rgba(253, 227, 212, 0.5)</td>\n", 
                            "    </tr>\n", 
                            "    <tr>\n", 
                            "      <th>3</th>\n", 
                            "      <td>1</td>\n", 
                            "      <td>5</td>\n", 
                            "      <td>14</td>\n", 
                            "      <td>#7FC241</td>\n", 
                            "      <td>Leave+Yes – 14</td>\n", 
                            "      <td>rgba(219, 233, 246, 0.5)</td>\n", 
                            "    </tr>\n", 
                            "    <tr>\n", 
                            "      <th>4</th>\n", 
                            "      <td>1</td>\n", 
                            "      <td>6</td>\n", 
                            "      <td>1</td>\n", 
                            "      <td>#D3D3D3</td>\n", 
                            "      <td>Didn’t vote in at least one referendum – 21</td>\n", 
                            "      <td>rgba(73, 148, 206, 1)</td>\n", 
                            "    </tr>\n", 
                            "  </tbody>\n", 
                            "</table>\n", 
                            "</div>"
                        ]
                    }, 
                    "execution_count": 6, 
                    "metadata": {}
                }
            ]
        }, 
        {
            "source": [
                "data_trace = dict(\n", 
                "    type='sankey',\n", 
                "    domain = dict(\n", 
                "      x =  [0,1],\n", 
                "      y =  [0,1]\n", 
                "    ),\n", 
                "    orientation = \"h\",\n", 
                "    valueformat = \".0f\",\n", 
                "    node = dict(\n", 
                "      pad = 10,\n", 
                "      thickness = 30,\n", 
                "      line = dict(\n", 
                "        color = \"black\",\n", 
                "        width = 0\n", 
                "      ),\n", 
                "      label =  scottish_df['Node, Label'].dropna(axis=0, how='any'),\n", 
                "      color = scottish_df['Color']\n", 
                "    ),\n", 
                "    link = dict(\n", 
                "      source = scottish_df['Source'].dropna(axis=0, how='any'),\n", 
                "      target = scottish_df['Target'].dropna(axis=0, how='any'),\n", 
                "      value = scottish_df['Value'].dropna(axis=0, how='any'),\n", 
                "      color = scottish_df['Link Color'].dropna(axis=0, how='any'),\n", 
                "  )\n", 
                ")\n", 
                "\n", 
                "layout =  dict(\n", 
                "    title = \"Scottish Referendum Voters who now want Independence\",\n", 
                "    height = 772,\n", 
                "    font = dict(\n", 
                "      size = 10\n", 
                "    ),    \n", 
                ")\n", 
                "\n", 
                "fig = dict(data=[data_trace], layout=layout)\n", 
                "py.iplot(fig, validate=False)"
            ], 
            "cell_type": "code", 
            "metadata": {
                "collapsed": false
            }, 
            "execution_count": 7, 
            "outputs": [
                {
                    "output_type": "execute_result", 
                    "data": {
                        "text/plain": [
                            "<plotly.tools.PlotlyDisplay object>"
                        ], 
                        "text/html": [
                            "<iframe id=\"igraph\" scrolling=\"no\" style=\"border:none;\" seamless=\"seamless\" src=\"https://plot.ly/~alishobeiri/1573.embed\" height=\"772px\" width=\"100%\"></iframe>"
                        ]
                    }, 
                    "execution_count": 7, 
                    "metadata": {}
                }
            ]
        }, 
        {
            "source": [
                "data_trace['orientation'] = 'v'\n", 
                "py.iplot([data_trace], layout=layout)"
            ], 
            "cell_type": "code", 
            "metadata": {
                "collapsed": false
            }, 
            "execution_count": 8, 
            "outputs": [
                {
                    "output_type": "execute_result", 
                    "data": {
                        "text/plain": [
                            "<plotly.tools.PlotlyDisplay object>"
                        ], 
                        "text/html": [
                            "<iframe id=\"igraph\" scrolling=\"no\" style=\"border:none;\" seamless=\"seamless\" src=\"https://plot.ly/~alishobeiri/1575.embed\" height=\"525px\" width=\"100%\"></iframe>"
                        ]
                    }, 
                    "execution_count": 8, 
                    "metadata": {}
                }
            ]
        }, 
        {
            "source": [
                "url = 'https://raw.githubusercontent.com/plotly/plotly.js/master/test/image/mocks/sankey_energy.json'\n", 
                "response = urllib.urlopen(url)\n", 
                "energy_data = json.loads(response.read())"
            ], 
            "cell_type": "code", 
            "metadata": {
                "collapsed": false
            }, 
            "execution_count": 9, 
            "outputs": []
        }, 
        {
            "source": [
                "data_trace = dict(\n", 
                "    type='sankey',\n", 
                "    width = 1118,\n", 
                "    height = 2500,\n", 
                "    domain = dict(\n", 
                "      x =  [0,1],\n", 
                "      y =  [0,1]\n", 
                "    ),\n", 
                "    orientation = \"h\",\n", 
                "    valueformat = \".0f\",\n", 
                "    valuesuffix = \"TWh\",\n", 
                "    node = dict(\n", 
                "      pad = 10,\n", 
                "      thickness = 15,\n", 
                "      line = dict(\n", 
                "        color = \"black\",\n", 
                "        width = 0.5\n", 
                "      ),\n", 
                "      label =  energy_data['data'][0]['node']['label'],\n", 
                "      color =  energy_data['data'][0]['node']['color']\n", 
                "    ),\n", 
                "    link = dict(\n", 
                "      source =  energy_data['data'][0]['link']['source'],\n", 
                "      target =  energy_data['data'][0]['link']['target'],\n", 
                "      value =  energy_data['data'][0]['link']['value'],\n", 
                "      label =  energy_data['data'][0]['link']['label']\n", 
                "  ))\n", 
                "\n", 
                "layout =  dict(\n", 
                "    title = \"Energy forecast for 2050<br>Source: Department of Energy & Climate Change, Tom Counsell via <a href='https://bost.ocks.org/mike/sankey/'>Mike Bostock</a>\",\n", 
                "    font = dict(\n", 
                "      size = 10\n", 
                "    ),\n", 
                "    height=750,\n", 
                "    updatemenus= [\n", 
                "            dict(\n", 
                "                y=1,\n", 
                "                buttons=[\n", 
                "                    dict(\n", 
                "                        label='Light',\n", 
                "                        method='relayout',\n", 
                "                        args=['paper_bgcolor', 'white']\n", 
                "                    ),\n", 
                "                    dict(\n", 
                "                        label='Dark',\n", 
                "                        method='relayout',\n", 
                "                        args=['paper_bgcolor', 'black']\n", 
                "                    )\n", 
                "                ]\n", 
                "            \n", 
                "            ),\n", 
                "            dict(\n", 
                "                y=0.9,\n", 
                "                buttons=[\n", 
                "                    dict(\n", 
                "                        label='Thick',\n", 
                "                        method='restyle',\n", 
                "                        args=['node.thickness', 15]\n", 
                "                    ),\n", 
                "                    dict(\n", 
                "                        label='Thin',\n", 
                "                        method='restyle',\n", 
                "                        args=['node.thickness', 8]\n", 
                "                    )      \n", 
                "                ]\n", 
                "            ),\n", 
                "            dict(\n", 
                "                y=0.8,\n", 
                "                buttons=[\n", 
                "                    dict(\n", 
                "                        label='Small gap',\n", 
                "                        method='restyle',\n", 
                "                        args=['node.pad', 15]\n", 
                "                    ),\n", 
                "                    dict(\n", 
                "                        label='Large gap',\n", 
                "                        method='restyle',\n", 
                "                        args=['node.pad', 20]\n", 
                "                    )\n", 
                "                ]\n", 
                "            ),\n", 
                "            dict(\n", 
                "                y=0.7,\n", 
                "                buttons=[\n", 
                "                    dict(\n", 
                "                        label='Snap',\n", 
                "                        method='restyle',\n", 
                "                        args=['arrangement', 'snap']\n", 
                "                    ),\n", 
                "                    dict(\n", 
                "                        label='Perpendicular',\n", 
                "                        method='restyle',\n", 
                "                        args=['arrangement', 'perpendicular']\n", 
                "                    ),\n", 
                "                    dict(\n", 
                "                        label='Freeform',\n", 
                "                        method='restyle',\n", 
                "                        args=['arrangement', 'freeform']\n", 
                "                    ),\n", 
                "                    dict(\n", 
                "                        label='Fixed',\n", 
                "                        method='restyle',\n", 
                "                        args=['arrangement', 'fixed']\n", 
                "                    )       \n", 
                "                ]\n", 
                "            ),\n", 
                "            dict(\n", 
                "                y=0.6,\n", 
                "                buttons=[             \n", 
                "                    dict(\n", 
                "                        label='Horizontal',\n", 
                "                        method='restyle',\n", 
                "                        args=['orientation', 'h']\n", 
                "                    ),\n", 
                "                    dict(\n", 
                "                        label='Vertical',\n", 
                "                        method='restyle',\n", 
                "                        args=['orientation', 'v']\n", 
                "                    )\n", 
                "                ]\n", 
                "            \n", 
                "            )\n", 
                "        ]\n", 
                ")\n", 
                "\n", 
                "fig = dict(data=[data_trace], layout=layout)\n", 
                "py.iplot(fig, validate=False)"
            ], 
            "cell_type": "code", 
            "metadata": {
                "scrolled": false, 
                "collapsed": false
            }, 
            "execution_count": 10, 
            "outputs": [
                {
                    "output_type": "execute_result", 
                    "data": {
                        "text/plain": [
                            "<plotly.tools.PlotlyDisplay object>"
                        ], 
                        "text/html": [
                            "<iframe id=\"igraph\" scrolling=\"no\" style=\"border:none;\" seamless=\"seamless\" src=\"https://plot.ly/~alishobeiri/1577.embed\" height=\"750px\" width=\"100%\"></iframe>"
                        ]
                    }, 
                    "execution_count": 10, 
                    "metadata": {}
                }
            ]
        }, 
        {
            "source": [
                "url = 'https://rawgit.com/monfera/plotly-webgl-parcoords/sankey-example-01/drones.json'\n", 
                "response = urllib.urlopen(url)\n", 
                "data = json.loads(response.read())"
            ], 
            "cell_type": "code", 
            "metadata": {
                "collapsed": true
            }, 
            "execution_count": 13, 
            "outputs": []
        }, 
        {
            "source": [
                "label = []\n", 
                "for x in data['data'][0]['nodes']:\n", 
                "    label.append(x['label'])\n", 
                "    \n", 
                "    \n", 
                "linkSource = []\n", 
                "linkValue = []    \n", 
                "linkTarget = []\n", 
                "linkLabel = []\n", 
                "for x in data['data'][0]['links']:\n", 
                "    linkLabel.append(x['label'])\n", 
                "    linkSource.append(x['source'])\n", 
                "    linkValue.append(x['value'])\n", 
                "    linkTarget.append(x['target'])  "
            ], 
            "cell_type": "code", 
            "metadata": {
                "collapsed": true
            }, 
            "execution_count": 14, 
            "outputs": []
        }, 
        {
            "source": [
                "data_trace = dict(\n", 
                "    type='sankey',\n", 
                "    domain = dict(\n", 
                "      x =  [0,1],\n", 
                "      y =  [0,1]\n", 
                "    ),\n", 
                "    orientation = \"h\",\n", 
                "    valueformat = \".0f\",\n", 
                "    node = dict(\n", 
                "      pad = 5,\n", 
                "      thickness = 30,\n", 
                "      line = dict(\n", 
                "        color = \"black\",\n", 
                "        width = 0.5\n", 
                "      ),\n", 
                "      label =  label\n", 
                "    ),\n", 
                "    link = dict(\n", 
                "      source = linkSource,\n", 
                "      target = linkTarget,\n", 
                "      value = linkValue,\n", 
                "      label =  linkLabel\n", 
                "  )\n", 
                ")\n", 
                "\n", 
                "layout =  dict(\n", 
                "    title = \"Wapo example\",\n", 
                "    height = 1250,\n", 
                "    width = 1000,\n", 
                "    font = dict(\n", 
                "      size = 10\n", 
                "    ),    \n", 
                ")\n", 
                "\n", 
                "\n", 
                "fig = dict(data=[data_trace], layout=layout)\n", 
                "py.iplot(fig)"
            ], 
            "cell_type": "code", 
            "metadata": {
                "collapsed": false
            }, 
            "execution_count": 15, 
            "outputs": [
                {
                    "output_type": "execute_result", 
                    "data": {
                        "text/plain": [
                            "<plotly.tools.PlotlyDisplay object>"
                        ], 
                        "text/html": [
                            "<iframe id=\"igraph\" scrolling=\"no\" style=\"border:none;\" seamless=\"seamless\" src=\"https://plot.ly/~alishobeiri/1589.embed\" height=\"1250px\" width=\"1000px\"></iframe>"
                        ]
                    }, 
                    "execution_count": 15, 
                    "metadata": {}
                }
            ]
        }
    ], 
    "metadata": {
        "kernelspec": {
            "display_name": "Python 2", 
            "name": "python2", 
            "language": "python"
        }, 
        "language_info": {
            "mimetype": "text/x-python", 
            "nbconvert_exporter": "python", 
            "name": "python", 
            "pygments_lexer": "ipython2", 
            "version": "2.7.13", 
            "file_extension": ".py", 
            "codemirror_mode": {
                "version": 2, 
                "name": "ipython"
            }
        }
    }
}