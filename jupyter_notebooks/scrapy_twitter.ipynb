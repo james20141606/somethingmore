{
 "cells": [
  {
   "cell_type": "code",
   "execution_count": 2,
   "metadata": {},
   "outputs": [],
   "source": [
    "import tweepy"
   ]
  },
  {
   "cell_type": "markdown",
   "metadata": {},
   "source": [
    "https://apps.twitter.com/app/13719423/keys  <br>\n",
    "http://www.itran.cc/2017/06/15/twitter-data-mining-using-python/ <br>\n",
    "http://www.itran.cc/2017/06/15/twitter-data-mining-using-python/"
   ]
  },
  {
   "cell_type": "code",
   "execution_count": 4,
   "metadata": {},
   "outputs": [
    {
     "name": "stdout",
     "output_type": "stream",
     "text": [
      "Tiger Woods broke down after routinely pushing his body past its limits. \"Thank God there’s modern science to fix u… https://t.co/ZPls4jgtpK\n",
      "RT @SherylNYT: How do you put out a yearbook when 17 of your classmates have been murdered? Must-read from @PatriciaMazzei @SamuelHodgson o…\n",
      "Once you immerse yourself in the tasty, convenient world of sheet-pan suppers, you won’t want to stop https://t.co/MAZML2vaN3\n",
      "50 years ago in Indianapolis, Robert F. Kennedy told a tearful crowd that the Rev. Dr. Martin Luther King Jr. had b… https://t.co/bb4RGPDsvv\n",
      "RT @nytimesbooks: Rather than honor people for wealth or celebrity, Robert Reich says, we should honor those who show real virtue https://t…\n",
      "Mark Zuckerberg will testify before Congress next week on Facebook’s handling of sensitive user data https://t.co/fTXm4VvOAb\n",
      "RT @nytimesworld: The snow monkeys of Japan like a nice warm bath. Scientists wanted to find out the real reason they sought out the hot sp…\n",
      "Evan Rachel Wood on Dolores, her character on “Westworld”:  “Her journey mirrored so much of what I had been throug… https://t.co/3ZW00871u8\n",
      "RT @rachelswarns: What was Dr. King's message to America in the days before his death?  Join our live chat at 12:30pmET today with civil ri…\n",
      "Thousands of Google workers are urging their CEO to drop a Pentagon project, showing Silicon Valley’s discomfort at… https://t.co/v3so8mzy9f\n",
      "RT @PatriciaMazzei: THREAD: Some thoughts on what it was like to report on the Parkland students reworking their yearbook after the Feb. 14…\n",
      "The Trump administration is on the cusp of a trade war with China, one that threatens broad swaths of the U.S. econ… https://t.co/PmHxcnJ8lg\n",
      "\"It’s not just the physical requirements but the mental requirements. I could not imagine doing my job with million… https://t.co/UgLiTi0txX\n",
      "Last year, Alexis married Serena Williams, the greatest tennis player of all time, who he says has “a work ethic on… https://t.co/0hXQcDSgdW\n",
      "Reddit co-founder Alexis Ohanian: \"The key is how do we create opportunities for these conversations to actually ch… https://t.co/jMg685GnfY\n",
      "Depending on your perspective, Reddit represents either the best of the web, or the worst https://t.co/jjFnfp0hLQ\n",
      "Breaking News: The White House said that the U.S. is committed to fighting ISIS in Syria, a day after President Tru… https://t.co/rgU6wd87CR\n",
      "RT @NYTNational: What are teachers asking for? Why is this happening now? Our education reporter @DanaGoldstein answers your questions abou…\n",
      "They insisted on preserving a record of the days that came before: Football games. Club activities. The Sadie Hawki… https://t.co/LEmFsuqp8a\n",
      "RT @NYTArchives: Fifty years ago today, the Rev. Martin Luther King Jr. was assassinated in Memphis. https://t.co/nxNeIxyUpV https://t.co/N…\n"
     ]
    }
   ],
   "source": [
    "#填写twitter提供的开发Key和secret\n",
    "consumer_key = 'kaFo5gLtx3KiUJO7ZEjVDbSb5'\n",
    "consumer_secret = 'OW7Ab1BqaFwBFY98IwesOEzdjXz7Nvx8NDXhemtA22wKVt9miM'\n",
    "access_token = '857083088559525888-35Ycl5LYlDkHDv2TBDhMuST6t5xfThK'\n",
    "access_token_secret = 'hHCdBhznV48aWZg1OoFpWy8PV4S48140D1IqL6FiToJjh'\n",
    "\n",
    "#提交你的Key和secret\n",
    "auth = tweepy.OAuthHandler(consumer_key, consumer_secret)\n",
    "auth.set_access_token(access_token, access_token_secret)\n",
    "\n",
    "#获取类似于内容句柄的东西\n",
    "api = tweepy.API(auth)\n",
    "\n",
    "# 待拉取微博的用户\n",
    "name = \"nytimes\"  \n",
    "# 待拉取的微博数量\n",
    "tweetCount = 20\n",
    "\n",
    "# 使用上面的参数，调用user_timeline函数\n",
    "results = api.user_timeline(id=name, count=tweetCount)\n",
    "\n",
    "# 遍历所拉取的全部微博\n",
    "for tweet in results:  \n",
    "   # 打印存在微博对象中的text字段\n",
    "    print tweet.text"
   ]
  },
  {
   "cell_type": "markdown",
   "metadata": {},
   "source": [
    "关键字"
   ]
  },
  {
   "cell_type": "code",
   "execution_count": 5,
   "metadata": {},
   "outputs": [
    {
     "name": "stdout",
     "output_type": "stream",
     "text": [
      "hongkong_agent Tweeted: Ashurst Hong Kong, IPN Chennai team up again on $737m Korean car part makers&amp;#039; investment in AP - Legally India https://t.co/0ETOvy3jV4\n",
      "hongkong_agent Tweeted: Ashurst Hong Kong, IPN Chennai team up again on $737m Korean car part makers&amp;#039; investment in AP - Legally India https://t.co/zFbfcROtO4\n",
      "mckennarific Tweeted: RT @OfficialKRU: Wide Open Cathay Pacific/HSBC Hong Kong Sevens Set for Kick-off https://t.co/Fm4q7YLVJC https://t.co/g52PkRJGD4\n",
      "cosmlx Tweeted: RT @EXOGlobal: [VIDEO] 180404 [MLB] EXO in HONG KONG TIMES SQUARE with #MLBCREW\n",
      "https://t.co/FrqIqwl8F0\n",
      "\n",
      "#PremiosMTVMiaw #MTVBRKPOPEXO @wea…\n",
      "conspiracystory Tweeted: RT @Travelsvibe: Looking down on Hong Kong 😮😍 https://t.co/3PxI1joGiw\n",
      "SOM_Design Tweeted: RT @MoA_News: How can we preserve the less tangible qualities of a place? Writing for #SOMThinkers, Christopher DeWolf takes a multi-sensor…\n",
      "my_life_0t9 Tweeted: RT @knockknock0408: [MLB] EXO in HONG KONG TIMES SQUARE with #MLBCREW\n",
      "https://t.co/9Pu23LthWT https://t.co/Do5ljYDidU\n",
      "CValencianaTB Tweeted: RT @elPachinko: La espectacular Bank of China Tower de Hong Kong https://t.co/UnccUF1J2x #Viajes #Turismo https://t.co/klepzfIMYr\n",
      "nieecolee Tweeted: booking a one way to hong kong. probably never coming back tbh\n",
      "leezumi_B_EXO Tweeted: RT @EXOGlobal: [OFFICIAL] 180404 mlbkorea Instagram Update: \" ::MLBXEXO @ Times Square Hong Kong:: \"\n",
      "https://t.co/mbSRb4Hmri\n",
      "\n",
      "#PremiosMTVMi…\n",
      "ksmBakheet Tweeted: RT @itstravellover: Looking down on Hong Kong 😮😍 https://t.co/cYEQb8fv0u\n",
      "kyungsthetic1 Tweeted: RT @isuhoranghaeyou: RT IF YOU SEE WHERE YOU ARE LIVING!\n",
      "\n",
      "SOUTH KOREA\n",
      "PHILIPPINES\n",
      "CHINA\n",
      "THAILAND\n",
      "JAPAN\n",
      "USA\n",
      "DUBAI\n",
      "MEXICO\n",
      "TAIWAN\n",
      "SINGAPORE\n",
      "IN…\n",
      "bahman_vip Tweeted: #Travel Awesome Hong Kong, Larn Into The Dragon! https://t.co/2tfWEPwRkn #HongKong https://t.co/M5blV10Iv1\n",
      "jomin96 Tweeted: RT @asianworldff: The movie from Sergei Bodrov (one of our 2017 Jury Members) will expand its audiences to Asian with the launch of Goldfin…\n",
      "DavinciQuincy Tweeted: RT @ynakamura56: More weird crypto shit from Japan: a Hong Kong wine importer just bought 20% of second-tier Japanese bitcoin exchange BITp…\n"
     ]
    }
   ],
   "source": [
    "api = tweepy.API(auth)\n",
    "\n",
    "# 你想查找的关键字\n",
    "query = \"Hong Kong\"  \n",
    "# 语言代码（遵循ISO 639-1标准）\n",
    "language = \"en\"  #可以把语言改成其他的，比如中文\n",
    "\n",
    "# 使用上面的参数，调用user_timeline函数\n",
    "results = api.search(q=query, lang=language)\n",
    "\n",
    "# 遍历所拉取的全部微博\n",
    "for tweet in results:  \n",
    "   # 打印存在微博对象中的text字段\n",
    "   print tweet.user.screen_name,\"Tweeted:\",tweet.text"
   ]
  },
  {
   "cell_type": "markdown",
   "metadata": {},
   "source": [
    "## To do\n",
    "频率限制  https://blog.csdn.net/rubinorth/article/details/52494833 <br>\n",
    "tweepy更多用法 \n",
    "http://docs.tweepy.org/en/v3.5.0/api.html"
   ]
  },
  {
   "cell_type": "code",
   "execution_count": null,
   "metadata": {
    "collapsed": true
   },
   "outputs": [],
   "source": []
  }
 ],
 "metadata": {
  "kernelspec": {
   "display_name": "Python 2",
   "language": "python",
   "name": "python2"
  },
  "language_info": {
   "codemirror_mode": {
    "name": "ipython",
    "version": 2
   },
   "file_extension": ".py",
   "mimetype": "text/x-python",
   "name": "python",
   "nbconvert_exporter": "python",
   "pygments_lexer": "ipython2",
   "version": "2.7.14"
  }
 },
 "nbformat": 4,
 "nbformat_minor": 2
}
