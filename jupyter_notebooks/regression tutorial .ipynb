{
 "cells": [
  {
   "cell_type": "code",
   "execution_count": 1,
   "metadata": {
    "collapsed": true
   },
   "outputs": [],
   "source": [
    "import numpy as np\n",
    "import pandas as pd"
   ]
  },
  {
   "cell_type": "code",
   "execution_count": 102,
   "metadata": {
    "collapsed": true
   },
   "outputs": [],
   "source": [
    "table = pd.read_excel('/Users/james/Desktop/spot.xlsx')"
   ]
  },
  {
   "cell_type": "code",
   "execution_count": 108,
   "metadata": {},
   "outputs": [
    {
     "data": {
      "text/plain": [
       "pandas.core.frame.DataFrame"
      ]
     },
     "execution_count": 108,
     "metadata": {},
     "output_type": "execute_result"
    }
   ],
   "source": [
    "type(table)"
   ]
  },
  {
   "cell_type": "code",
   "execution_count": 109,
   "metadata": {
    "collapsed": true
   },
   "outputs": [],
   "source": [
    "table_ = np.asarray(table)"
   ]
  },
  {
   "cell_type": "code",
   "execution_count": 110,
   "metadata": {},
   "outputs": [
    {
     "data": {
      "text/plain": [
       "numpy.ndarray"
      ]
     },
     "execution_count": 110,
     "metadata": {},
     "output_type": "execute_result"
    }
   ],
   "source": [
    "type(table_)"
   ]
  },
  {
   "cell_type": "code",
   "execution_count": 117,
   "metadata": {
    "collapsed": true
   },
   "outputs": [],
   "source": [
    "table_ = np.delete(table_,(0,7),axis=1)[:11,:]"
   ]
  },
  {
   "cell_type": "code",
   "execution_count": null,
   "metadata": {
    "collapsed": true
   },
   "outputs": [],
   "source": []
  },
  {
   "cell_type": "code",
   "execution_count": 118,
   "metadata": {
    "collapsed": true
   },
   "outputs": [],
   "source": [
    "a = np.array([0,0,1])\n",
    "b = np.array([0,1,0])\n",
    "c = np.array([1,0,0])"
   ]
  },
  {
   "cell_type": "code",
   "execution_count": 119,
   "metadata": {
    "collapsed": true
   },
   "outputs": [],
   "source": [
    "a = np.array([0,0,1])\n",
    "b = np.array([0,1,0])\n",
    "c = np.array([1,0,0])\n",
    "m = np.array([])\n",
    "for i in range(table_.shape[0]):\n",
    "    if table_[i:i+1,6:7] == 'scene':\n",
    "        m = np.concatenate((m, a), axis=0)\n",
    "    elif table_[i:i+1,6:7] == 'culture':\n",
    "        m = np.concatenate((m, b), axis=0)\n",
    "    elif  table_[i:i+1,6:7] == 'folk':\n",
    "        m = np.concatenate((m, c), axis=0)"
   ]
  },
  {
   "cell_type": "code",
   "execution_count": 122,
   "metadata": {},
   "outputs": [
    {
     "data": {
      "text/plain": [
       "array([ 0.,  0.,  1.,  0.,  0.,  1.,  0.,  1.,  0.,  0.,  0.,  1.,  1.,\n",
       "        0.,  0.,  0.,  0.,  1.,  1.,  0.,  0.,  0.,  0.,  1.,  0.,  0.,\n",
       "        1.,  1.,  0.,  0.,  1.,  0.,  0.])"
      ]
     },
     "execution_count": 122,
     "metadata": {},
     "output_type": "execute_result"
    }
   ],
   "source": [
    "m"
   ]
  },
  {
   "cell_type": "code",
   "execution_count": 128,
   "metadata": {
    "collapsed": true
   },
   "outputs": [],
   "source": [
    "m = m.reshape(-1,3)"
   ]
  },
  {
   "cell_type": "code",
   "execution_count": 129,
   "metadata": {},
   "outputs": [
    {
     "data": {
      "text/plain": [
       "array([[ 0.,  0.,  1.],\n",
       "       [ 0.,  0.,  1.],\n",
       "       [ 0.,  1.,  0.],\n",
       "       [ 0.,  0.,  1.],\n",
       "       [ 1.,  0.,  0.],\n",
       "       [ 0.,  0.,  1.],\n",
       "       [ 1.,  0.,  0.],\n",
       "       [ 0.,  0.,  1.],\n",
       "       [ 0.,  0.,  1.],\n",
       "       [ 1.,  0.,  0.],\n",
       "       [ 1.,  0.,  0.]])"
      ]
     },
     "execution_count": 129,
     "metadata": {},
     "output_type": "execute_result"
    }
   ],
   "source": [
    "m"
   ]
  },
  {
   "cell_type": "code",
   "execution_count": 130,
   "metadata": {},
   "outputs": [
    {
     "data": {
      "text/plain": [
       "(11, 9)"
      ]
     },
     "execution_count": 130,
     "metadata": {},
     "output_type": "execute_result"
    }
   ],
   "source": [
    "table_.shape"
   ]
  },
  {
   "cell_type": "code",
   "execution_count": 131,
   "metadata": {
    "collapsed": true
   },
   "outputs": [],
   "source": [
    "table_ = np.concatenate((table_[:,:6],m),axis = 1).astype(float)"
   ]
  },
  {
   "cell_type": "code",
   "execution_count": 132,
   "metadata": {},
   "outputs": [
    {
     "data": {
      "text/plain": [
       "array([[  1.30000000e+02,   3.00000000e+02,   7.00000000e+00,\n",
       "          5.00000000e+00,   2.42000000e+02,   3.70000000e+05,\n",
       "          0.00000000e+00,   0.00000000e+00,   1.00000000e+00],\n",
       "       [  3.40000000e+02,   5.00000000e+02,   6.00000000e+00,\n",
       "          5.00000000e+00,   2.00000000e-01,   5.00000000e+05,\n",
       "          0.00000000e+00,   0.00000000e+00,   1.00000000e+00],\n",
       "       [  1.50000000e+02,   4.00000000e+02,   5.50000000e+00,\n",
       "          5.00000000e+00,   5.20000000e-01,   4.26000000e+05,\n",
       "          0.00000000e+00,   1.00000000e+00,   0.00000000e+00],\n",
       "       [  1.60000000e+02,   4.00000000e+02,   5.00000000e+00,\n",
       "          5.00000000e+00,   4.46000000e+02,   1.00000000e+05,\n",
       "          0.00000000e+00,   0.00000000e+00,   1.00000000e+00],\n",
       "       [  1.38000000e+02,   2.00000000e+02,   3.50000000e+00,\n",
       "          5.00000000e+00,   3.15000000e+00,   1.06300000e+05,\n",
       "          1.00000000e+00,   0.00000000e+00,   0.00000000e+00],\n",
       "       [  1.50000000e+02,   3.00000000e+02,   4.00000000e+00,\n",
       "          5.00000000e+00,   1.70000000e-01,   1.00000000e+05,\n",
       "          0.00000000e+00,   0.00000000e+00,   1.00000000e+00],\n",
       "       [  1.60000000e+02,   2.50000000e+02,   1.00000000e+00,\n",
       "          5.00000000e+00,   2.00000000e+00,   4.36700000e+05,\n",
       "          1.00000000e+00,   0.00000000e+00,   0.00000000e+00],\n",
       "       [  4.50000000e+01,   1.50000000e+02,   5.50000000e+00,\n",
       "          5.00000000e+00,   3.10000000e+00,   6.00000000e+05,\n",
       "          0.00000000e+00,   0.00000000e+00,   1.00000000e+00],\n",
       "       [  1.50000000e+02,   2.00000000e+02,   1.50000000e+00,\n",
       "          5.00000000e+00,   1.48000000e+02,   7.45600000e+05,\n",
       "          0.00000000e+00,   0.00000000e+00,   1.00000000e+00],\n",
       "       [  9.80000000e+01,   1.80000000e+02,   1.00000000e+00,\n",
       "          5.00000000e+00,   1.62800000e+01,   1.88000000e+05,\n",
       "          1.00000000e+00,   0.00000000e+00,   0.00000000e+00],\n",
       "       [  0.00000000e+00,   3.00000000e+02,   1.50000000e+00,\n",
       "          5.00000000e+00,   1.00000000e+01,   1.62000000e+06,\n",
       "          1.00000000e+00,   0.00000000e+00,   0.00000000e+00]])"
      ]
     },
     "execution_count": 132,
     "metadata": {},
     "output_type": "execute_result"
    }
   ],
   "source": [
    "table_"
   ]
  },
  {
   "cell_type": "code",
   "execution_count": 12,
   "metadata": {
    "collapsed": true
   },
   "outputs": [],
   "source": [
    "price = table_[:,0:1]\n",
    "cost = table_[:,1:2]\n",
    "feature = table_[:,2:]"
   ]
  },
  {
   "cell_type": "code",
   "execution_count": 13,
   "metadata": {
    "collapsed": true
   },
   "outputs": [],
   "source": [
    "# keep in mind that your dataset is too small for some powerful regression method, but you \n",
    "# can just have a try"
   ]
  },
  {
   "cell_type": "code",
   "execution_count": 14,
   "metadata": {
    "collapsed": true
   },
   "outputs": [],
   "source": [
    "#linear regression\n",
    "from sklearn.linear_model import LinearRegression\n",
    "line = LinearRegression()"
   ]
  },
  {
   "cell_type": "code",
   "execution_count": 133,
   "metadata": {},
   "outputs": [
    {
     "data": {
      "text/plain": [
       "sklearn.linear_model.base.LinearRegression"
      ]
     },
     "execution_count": 133,
     "metadata": {},
     "output_type": "execute_result"
    }
   ],
   "source": [
    "type(line)"
   ]
  },
  {
   "cell_type": "code",
   "execution_count": 136,
   "metadata": {},
   "outputs": [
    {
     "data": {
      "text/plain": [
       "(9, 7)"
      ]
     },
     "execution_count": 136,
     "metadata": {},
     "output_type": "execute_result"
    }
   ],
   "source": [
    "feature[:9,:].shape"
   ]
  },
  {
   "cell_type": "code",
   "execution_count": 137,
   "metadata": {},
   "outputs": [
    {
     "data": {
      "text/plain": [
       "array([[ 140.02549283]])"
      ]
     },
     "execution_count": 137,
     "metadata": {},
     "output_type": "execute_result"
    }
   ],
   "source": [
    "line.fit(feature[:9,:],price[:9])\n",
    "line.predict(feature[9:10,:])"
   ]
  },
  {
   "cell_type": "code",
   "execution_count": 138,
   "metadata": {},
   "outputs": [
    {
     "data": {
      "text/plain": [
       "array([[  7.46447135e+00,  -1.10896190e-10,  -7.35108848e-02,\n",
       "          6.19926792e-06,   6.55248810e+00,  -1.59824901e+01,\n",
       "          9.43000197e+00]])"
      ]
     },
     "execution_count": 138,
     "metadata": {},
     "output_type": "execute_result"
    }
   ],
   "source": [
    "line.coef_"
   ]
  },
  {
   "cell_type": "code",
   "execution_count": 141,
   "metadata": {
    "collapsed": true
   },
   "outputs": [],
   "source": [
    "line.fit(feature[:5,:],price[:5])\n",
    "predict = line.predict(feature[5:10,:])"
   ]
  },
  {
   "cell_type": "code",
   "execution_count": 142,
   "metadata": {},
   "outputs": [
    {
     "name": "stdout",
     "output_type": "stream",
     "text": [
      "Populating the interactive namespace from numpy and matplotlib\n"
     ]
    }
   ],
   "source": [
    "%pylab inline"
   ]
  },
  {
   "cell_type": "code",
   "execution_count": 143,
   "metadata": {},
   "outputs": [
    {
     "data": {
      "text/plain": [
       "<matplotlib.lines.Line2D at 0x114e14a10>"
      ]
     },
     "execution_count": 143,
     "metadata": {},
     "output_type": "execute_result"
    },
    {
     "data": {
      "image/png": "[encoded data removed]",
      "text/plain": [
       "<matplotlib.figure.Figure at 0x1149f9390>"
      ]
     },
     "metadata": {},
     "output_type": "display_data"
    }
   ],
   "source": [
    "fig, ax = subplots(figsize=(5, 5))\n",
    "ax.scatter(predict, price[5:10], marker = '.', color = 'b')\n",
    "ax.set_xlim(left=0, right=2000)\n",
    "ax.set_ylim(bottom=0, top=2000)\n",
    "line1 = [(0, 0), (2000, 2000)]\n",
    "(line1_xs, line1_ys) = zip(*line1)\n",
    "ax.add_line(Line2D(line1_xs, line1_ys, linewidth=1, color='blue'))"
   ]
  },
  {
   "cell_type": "code",
   "execution_count": 144,
   "metadata": {},
   "outputs": [
    {
     "data": {
      "text/plain": [
       "(array([ 0.22328117]), array([ 0.71808976]))"
      ]
     },
     "execution_count": 144,
     "metadata": {},
     "output_type": "execute_result"
    }
   ],
   "source": [
    "from sklearn.metrics import r2_score\n",
    "from scipy.stats.stats import pearsonr\n",
    "r2 = r2_score(predict, price[5:10])\n",
    "pcc = pearsonr(predict, price[5:10])\n",
    "pcc"
   ]
  },
  {
   "cell_type": "code",
   "execution_count": 17,
   "metadata": {},
   "outputs": [
    {
     "data": {
      "text/plain": [
       "'\\nthe common indicator to test the model is r^2 and pcc, usage:\\nfrom sklearn.metrics import r2_score\\nfrom scipy.stats.stats import pearsonr\\nr2 = r2_score(y_test, predict)\\npcc = pearsonr(y_test, prdict)\\n'"
      ]
     },
     "execution_count": 17,
     "metadata": {},
     "output_type": "execute_result"
    }
   ],
   "source": [
    "#NOTE: cross validation is needed for testing overfitting\n",
    "'''\n",
    "the common indicator to test the model is r^2 and pcc, usage:\n",
    "from sklearn.metrics import r2_score\n",
    "from scipy.stats.stats import pearsonr\n",
    "r2 = r2_score(y_test, predict)\n",
    "pcc = pearsonr(y_test, prdict)\n",
    "'''"
   ]
  },
  {
   "cell_type": "code",
   "execution_count": 37,
   "metadata": {},
   "outputs": [
    {
     "data": {
      "text/plain": [
       "\"\\nsome more models:\\nfor novice there is no need to spend time on optimizing parameters. also the dataset is too \\nsmall to try, but if you want a try, sklearn's grid search, random search and another package\\ncalled hyperopt is fine.\\n\\n1 Ridge\\nfrom sklearn.linear_model import Ridge\\nrid = Ridge(alpha = 0.1)\\nrid.fit(X_train,y_train)\\nrid.predict(X_test)\\n2 Kernel ridge\\nfrom sklearn.kernel_ridge import KernelRidge\\nkr = KernelRidge(alpha = 10**(-4), kernel = 'polynomial',degree = 3 )\\nkr.fit(X_train,y_train)\\nkrpre = kr.predict(X_test)\\n3 SVM regression\\n#it's used for little dataset but the samples you collected may be too small for it\\nfrom sklearn.svm import SVR\\nreg = SVR()\\nreg.fit(X_train,y_train)\\nregpre = reg.predict(X_test)\\n4 Random forest\\n# may not be suitible, you can reduce the estimator and max depth\\nreg = RandomForestRegressor(n_estimators=10, criterion='mse', max_depth=None)\\nreg.fit(X_train,y_train)\\nregpre = reg.predict(X_test)\\n5 KNN\\n# it's fast and little like k-means\\nfrom sklearn import neighbors\\nreg = neighbors.KNeighborsRegressor(n_neighbors=4)\\nreg.fit(X_train,y_train)\\n6 Xgboost\\n# you need to install the package xgboost to use the popular machine learning package, for \\nusers who is used to sklearn, xgboost has the api to use sklearn method.\\nimport xgboost\\nimport sklearn\\nfrom xgboost.sklearn import XGBRegressor\\nreg = XGBRegressor()\\nreg.fit(X_train,y_train)\\nregpre = reg.predict(X_test)\\n7 Gaussian process regression\\n#very powerful but may not be suitable\\nfrom sklearn.gaussian_process import GaussianProcessRegressor\\nfrom sklearn.gaussian_process.kernels import DotProduct\\nkernel = 1.0 * DotProduct(sigma_0=1.0)**4\\nreg = GaussianProcessRegressor(kernel = kernel)\\nreg.fit(X_train,y_train)\\nregpre = reg.predict(X_test)\\n\""
      ]
     },
     "execution_count": 37,
     "metadata": {},
     "output_type": "execute_result"
    }
   ],
   "source": [
    "'''\n",
    "some more models:\n",
    "for novice there is no need to spend time on optimizing parameters. also the dataset is too \n",
    "small to try, but if you want a try, sklearn's grid search, random search and another package\n",
    "called hyperopt is fine.\n",
    "\n",
    "1 Ridge\n",
    "from sklearn.linear_model import Ridge\n",
    "rid = Ridge(alpha = 0.1)\n",
    "rid.fit(X_train,y_train)\n",
    "rid.predict(X_test)\n",
    "2 Kernel ridge\n",
    "from sklearn.kernel_ridge import KernelRidge\n",
    "kr = KernelRidge(alpha = 10**(-4), kernel = 'polynomial',degree = 3 )\n",
    "kr.fit(X_train,y_train)\n",
    "krpre = kr.predict(X_test)\n",
    "3 SVM regression\n",
    "#it's used for little dataset but the samples you collected may be too small for it\n",
    "from sklearn.svm import SVR\n",
    "reg = SVR()\n",
    "reg.fit(X_train,y_train)\n",
    "regpre = reg.predict(X_test)\n",
    "4 Random forest\n",
    "# may not be suitible, you can reduce the estimator and max depth\n",
    "reg = RandomForestRegressor(n_estimators=10, criterion='mse', max_depth=None)\n",
    "reg.fit(X_train,y_train)\n",
    "regpre = reg.predict(X_test)\n",
    "5 KNN\n",
    "# it's fast and little like k-means\n",
    "from sklearn import neighbors\n",
    "reg = neighbors.KNeighborsRegressor(n_neighbors=4)\n",
    "reg.fit(X_train,y_train)\n",
    "6 Xgboost\n",
    "# you need to install the package xgboost to use the popular machine learning package, for \n",
    "users who is used to sklearn, xgboost has the api to use sklearn method.\n",
    "import xgboost\n",
    "import sklearn\n",
    "from xgboost.sklearn import XGBRegressor\n",
    "reg = XGBRegressor()\n",
    "reg.fit(X_train,y_train)\n",
    "regpre = reg.predict(X_test)\n",
    "7 Gaussian process regression\n",
    "#very powerful but may not be suitable\n",
    "from sklearn.gaussian_process import GaussianProcessRegressor\n",
    "from sklearn.gaussian_process.kernels import DotProduct\n",
    "kernel = 1.0 * DotProduct(sigma_0=1.0)**4\n",
    "reg = GaussianProcessRegressor(kernel = kernel)\n",
    "reg.fit(X_train,y_train)\n",
    "regpre = reg.predict(X_test)\n",
    "'''"
   ]
  },
  {
   "cell_type": "code",
   "execution_count": 145,
   "metadata": {
    "collapsed": true
   },
   "outputs": [],
   "source": [
    "from sklearn.svm import SVR\n",
    "reg = SVR()\n",
    "reg.fit(feature[:5,:],price[:5])\n",
    "predict = reg.predict(feature[5:10,:])"
   ]
  },
  {
   "cell_type": "code",
   "execution_count": 146,
   "metadata": {},
   "outputs": [
    {
     "data": {
      "text/plain": [
       "array([[150],\n",
       "       [160],\n",
       "       [ 45],\n",
       "       [150],\n",
       "       [ 98]])"
      ]
     },
     "execution_count": 146,
     "metadata": {},
     "output_type": "execute_result"
    }
   ],
   "source": [
    "price[5:10]"
   ]
  },
  {
   "cell_type": "code",
   "execution_count": 148,
   "metadata": {},
   "outputs": [
    {
     "data": {
      "text/plain": [
       "(nan, 1.0)"
      ]
     },
     "execution_count": 148,
     "metadata": {},
     "output_type": "execute_result"
    }
   ],
   "source": [
    "r2 = r2_score(predict, price[5:10].flatten())\n",
    "pcc = pearsonr(predict, price[5:10].flatten())\n",
    "pcc"
   ]
  },
  {
   "cell_type": "code",
   "execution_count": 149,
   "metadata": {},
   "outputs": [
    {
     "data": {
      "text/plain": [
       "<matplotlib.lines.Line2D at 0x11549c850>"
      ]
     },
     "execution_count": 149,
     "metadata": {},
     "output_type": "execute_result"
    },
    {
     "data": {
      "image/png": "[encoded data removed]",
      "text/plain": [
       "<matplotlib.figure.Figure at 0x114df6350>"
      ]
     },
     "metadata": {},
     "output_type": "display_data"
    }
   ],
   "source": [
    "fig, ax = subplots(figsize=(5, 5))\n",
    "ax.scatter(predict, price[5:10], marker = '.', color = 'b')\n",
    "ax.set_xlim(left=0, right=2000)\n",
    "ax.set_ylim(bottom=0, top=2000)\n",
    "line1 = [(0, 0), (2000, 2000)]\n",
    "(line1_xs, line1_ys) = zip(*line1)\n",
    "ax.add_line(Line2D(line1_xs, line1_ys, linewidth=1, color='blue'))"
   ]
  },
  {
   "cell_type": "code",
   "execution_count": 58,
   "metadata": {
    "collapsed": true
   },
   "outputs": [],
   "source": [
    "#use boston dataset"
   ]
  },
  {
   "cell_type": "code",
   "execution_count": 150,
   "metadata": {
    "collapsed": true
   },
   "outputs": [],
   "source": [
    "import sklearn\n",
    "from sklearn.datasets import load_boston"
   ]
  },
  {
   "cell_type": "code",
   "execution_count": 151,
   "metadata": {
    "collapsed": true
   },
   "outputs": [],
   "source": [
    "data, target = load_boston(return_X_y = True)"
   ]
  },
  {
   "cell_type": "code",
   "execution_count": 176,
   "metadata": {},
   "outputs": [
    {
     "data": {
      "text/plain": [
       "array([[  6.32000000e-03,   1.80000000e+01,   2.31000000e+00, ...,\n",
       "          1.53000000e+01,   3.96900000e+02,   4.98000000e+00],\n",
       "       [  2.73100000e-02,   0.00000000e+00,   7.07000000e+00, ...,\n",
       "          1.78000000e+01,   3.96900000e+02,   9.14000000e+00],\n",
       "       [  2.72900000e-02,   0.00000000e+00,   7.07000000e+00, ...,\n",
       "          1.78000000e+01,   3.92830000e+02,   4.03000000e+00],\n",
       "       ..., \n",
       "       [  6.07600000e-02,   0.00000000e+00,   1.19300000e+01, ...,\n",
       "          2.10000000e+01,   3.96900000e+02,   5.64000000e+00],\n",
       "       [  1.09590000e-01,   0.00000000e+00,   1.19300000e+01, ...,\n",
       "          2.10000000e+01,   3.93450000e+02,   6.48000000e+00],\n",
       "       [  4.74100000e-02,   0.00000000e+00,   1.19300000e+01, ...,\n",
       "          2.10000000e+01,   3.96900000e+02,   7.88000000e+00]])"
      ]
     },
     "execution_count": 176,
     "metadata": {},
     "output_type": "execute_result"
    }
   ],
   "source": [
    "data"
   ]
  },
  {
   "cell_type": "code",
   "execution_count": 71,
   "metadata": {},
   "outputs": [
    {
     "data": {
      "text/plain": [
       "(506, 13)"
      ]
     },
     "execution_count": 71,
     "metadata": {},
     "output_type": "execute_result"
    }
   ],
   "source": [
    "data.shape"
   ]
  },
  {
   "cell_type": "code",
   "execution_count": 156,
   "metadata": {},
   "outputs": [
    {
     "data": {
      "text/plain": [
       "(506,)"
      ]
     },
     "execution_count": 156,
     "metadata": {},
     "output_type": "execute_result"
    }
   ],
   "source": [
    "target.shape"
   ]
  },
  {
   "cell_type": "code",
   "execution_count": 157,
   "metadata": {
    "collapsed": true
   },
   "outputs": [],
   "source": [
    "X_train = np.nan_to_num(data[:450,:])\n",
    "X_test = np.nan_to_num(data[450:,:])\n",
    "y_train = np.nan_to_num(target[:450])\n",
    "y_test = np.nan_to_num(target[450:])"
   ]
  },
  {
   "cell_type": "code",
   "execution_count": null,
   "metadata": {
    "collapsed": true
   },
   "outputs": [],
   "source": []
  },
  {
   "cell_type": "code",
   "execution_count": 171,
   "metadata": {
    "collapsed": true
   },
   "outputs": [],
   "source": [
    "from sklearn.linear_model import LinearRegression\n",
    "reg= LinearRegression()\n",
    "reg.fit(X_train,y_train)\n",
    "regpre = reg.predict(X_test)"
   ]
  },
  {
   "cell_type": "code",
   "execution_count": 172,
   "metadata": {},
   "outputs": [
    {
     "data": {
      "text/plain": [
       "array([ 13.4,  15.2,  16.1,  17.8,  14.9,  14.1,  12.7,  13.5,  14.9,\n",
       "        20. ,  16.4,  17.7,  19.5,  20.2,  21.4,  19.9,  19. ,  19.1,\n",
       "        19.1,  20.1,  19.9,  19.6,  23.2,  29.8,  13.8,  13.3,  16.7,\n",
       "        12. ,  14.6,  21.4,  23. ,  23.7,  25. ,  21.8,  20.6,  21.2,\n",
       "        19.1,  20.6,  15.2,   7. ,   8.1,  13.6,  20.1,  21.8,  24.5,\n",
       "        23.1,  19.7,  18.3,  21.2,  17.5,  16.8,  22.4,  20.6,  23.9,\n",
       "        22. ,  11.9])"
      ]
     },
     "execution_count": 172,
     "metadata": {},
     "output_type": "execute_result"
    }
   ],
   "source": [
    "y_test"
   ]
  },
  {
   "cell_type": "code",
   "execution_count": 173,
   "metadata": {},
   "outputs": [
    {
     "data": {
      "text/plain": [
       "array([ 16.87708355,  20.00176976,  19.09748901,  23.20814177,\n",
       "        15.61732627,  16.11179904,  12.89417524,  13.05769132,\n",
       "        17.60907268,  19.02500872,  19.56228736,  20.75692019,\n",
       "        20.32067933,  23.17521618,  20.6775203 ,  17.98688017,\n",
       "        14.59451645,  17.25588675,  17.1412805 ,  18.69010269,\n",
       "        20.59541332,  23.55096067,  22.86961063,  26.03505314,\n",
       "        16.7222898 ,  16.34436421,  20.9957601 ,  11.65982909,\n",
       "        19.64392745,  22.32837322,  23.86060017,  27.72484729,\n",
       "        29.27880958,  21.24184418,  19.55375857,  22.57034245,\n",
       "        20.10253864,  21.55409226,  10.87766787,   7.10159655,\n",
       "         2.33531983,  12.90212573,  15.07241997,  20.2917649 ,\n",
       "        20.14470152,  16.16731348,  13.60687933,  18.92620832,\n",
       "        21.08772713,  18.21418431,  20.37011473,  23.66966908,\n",
       "        22.54010176,  28.11813701,  26.57112983,  22.58745107])"
      ]
     },
     "execution_count": 173,
     "metadata": {},
     "output_type": "execute_result"
    }
   ],
   "source": [
    "regpre"
   ]
  },
  {
   "cell_type": "code",
   "execution_count": 174,
   "metadata": {},
   "outputs": [
    {
     "data": {
      "text/plain": [
       "<matplotlib.lines.Line2D at 0x1151c60d0>"
      ]
     },
     "execution_count": 174,
     "metadata": {},
     "output_type": "execute_result"
    },
    {
     "data": {
      "image/png": "[encoded data removed]",
      "text/plain": [
       "<matplotlib.figure.Figure at 0x11533ff10>"
      ]
     },
     "metadata": {},
     "output_type": "display_data"
    }
   ],
   "source": [
    "fig, ax = subplots(figsize=(5, 5))\n",
    "ax.scatter(y_test, regpre, marker = '.', color = 'b')\n",
    "ax.set_xlim(left=0, right=50)\n",
    "ax.set_ylim(bottom=0, top=50)\n",
    "line1 = [(0, 0), (50, 50)]\n",
    "(line1_xs, line1_ys) = zip(*line1)\n",
    "ax.add_line(Line2D(line1_xs, line1_ys, linewidth=1, color='blue'))"
   ]
  },
  {
   "cell_type": "code",
   "execution_count": 175,
   "metadata": {},
   "outputs": [
    {
     "data": {
      "text/plain": [
       "(0.74863242259924867, 3.271780198594948e-11)"
      ]
     },
     "execution_count": 175,
     "metadata": {},
     "output_type": "execute_result"
    }
   ],
   "source": [
    "r2 = r2_score(regpre, y_test)\n",
    "pcc = pearsonr(regpre, y_test)\n",
    "pcc"
   ]
  },
  {
   "cell_type": "code",
   "execution_count": null,
   "metadata": {
    "collapsed": true
   },
   "outputs": [],
   "source": []
  }
 ],
 "metadata": {
  "kernelspec": {
   "display_name": "Python 2",
   "language": "python",
   "name": "python2"
  },
  "language_info": {
   "codemirror_mode": {
    "name": "ipython",
    "version": 2
   },
   "file_extension": ".py",
   "mimetype": "text/x-python",
   "name": "python",
   "nbconvert_exporter": "python",
   "pygments_lexer": "ipython2",
   "version": "2.7.13"
  }
 },
 "nbformat": 4,
 "nbformat_minor": 2
}
