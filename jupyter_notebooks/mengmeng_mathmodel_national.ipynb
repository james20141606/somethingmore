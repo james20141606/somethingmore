{
 "cells": [
  {
   "cell_type": "code",
   "execution_count": 2,
   "metadata": {},
   "outputs": [],
   "source": [
    "import numpy as np\n",
    "import pandas as pd\n",
    "import sklearn"
   ]
  },
  {
   "cell_type": "code",
   "execution_count": 3,
   "metadata": {
    "collapsed": true
   },
   "outputs": [],
   "source": [
    "from sklearn.linear_model import LogisticRegression"
   ]
  },
  {
   "cell_type": "code",
   "execution_count": 4,
   "metadata": {
    "collapsed": true
   },
   "outputs": [],
   "source": [
    "lg = LogisticRegression()"
   ]
  },
  {
   "cell_type": "code",
   "execution_count": 5,
   "metadata": {
    "collapsed": true
   },
   "outputs": [],
   "source": [
    "table1 = pd.read_excel('/Users/james/Desktop/B/附件一：已结束项目任务数据.xls')"
   ]
  },
  {
   "cell_type": "code",
   "execution_count": 6,
   "metadata": {},
   "outputs": [
    {
     "data": {
      "text/html": [
       "<div>\n",
       "<style>\n",
       "    .dataframe thead tr:only-child th {\n",
       "        text-align: right;\n",
       "    }\n",
       "\n",
       "    .dataframe thead th {\n",
       "        text-align: left;\n",
       "    }\n",
       "\n",
       "    .dataframe tbody tr th {\n",
       "        vertical-align: top;\n",
       "    }\n",
       "</style>\n",
       "<table border=\"1\" class=\"dataframe\">\n",
       "  <thead>\n",
       "    <tr style=\"text-align: right;\">\n",
       "      <th></th>\n",
       "      <th>任务号码</th>\n",
       "      <th>任务gps 纬度</th>\n",
       "      <th>任务gps经度</th>\n",
       "      <th>任务标价</th>\n",
       "      <th>任务执行情况</th>\n",
       "    </tr>\n",
       "  </thead>\n",
       "  <tbody>\n",
       "    <tr>\n",
       "      <th>0</th>\n",
       "      <td>A0001</td>\n",
       "      <td>22.566142</td>\n",
       "      <td>113.980837</td>\n",
       "      <td>66.0</td>\n",
       "      <td>0</td>\n",
       "    </tr>\n",
       "    <tr>\n",
       "      <th>1</th>\n",
       "      <td>A0002</td>\n",
       "      <td>22.686205</td>\n",
       "      <td>113.940525</td>\n",
       "      <td>65.5</td>\n",
       "      <td>0</td>\n",
       "    </tr>\n",
       "    <tr>\n",
       "      <th>2</th>\n",
       "      <td>A0003</td>\n",
       "      <td>22.576512</td>\n",
       "      <td>113.957198</td>\n",
       "      <td>65.5</td>\n",
       "      <td>1</td>\n",
       "    </tr>\n",
       "    <tr>\n",
       "      <th>3</th>\n",
       "      <td>A0004</td>\n",
       "      <td>22.564841</td>\n",
       "      <td>114.244571</td>\n",
       "      <td>75.0</td>\n",
       "      <td>0</td>\n",
       "    </tr>\n",
       "    <tr>\n",
       "      <th>4</th>\n",
       "      <td>A0005</td>\n",
       "      <td>22.558888</td>\n",
       "      <td>113.950723</td>\n",
       "      <td>65.5</td>\n",
       "      <td>0</td>\n",
       "    </tr>\n",
       "    <tr>\n",
       "      <th>5</th>\n",
       "      <td>A0006</td>\n",
       "      <td>22.558999</td>\n",
       "      <td>114.241317</td>\n",
       "      <td>75.0</td>\n",
       "      <td>0</td>\n",
       "    </tr>\n",
       "    <tr>\n",
       "      <th>6</th>\n",
       "      <td>A0007</td>\n",
       "      <td>22.549004</td>\n",
       "      <td>113.972260</td>\n",
       "      <td>65.5</td>\n",
       "      <td>1</td>\n",
       "    </tr>\n",
       "    <tr>\n",
       "      <th>7</th>\n",
       "      <td>A0008</td>\n",
       "      <td>22.562774</td>\n",
       "      <td>113.956574</td>\n",
       "      <td>65.5</td>\n",
       "      <td>0</td>\n",
       "    </tr>\n",
       "    <tr>\n",
       "      <th>8</th>\n",
       "      <td>A0009</td>\n",
       "      <td>22.500012</td>\n",
       "      <td>113.895661</td>\n",
       "      <td>66.0</td>\n",
       "      <td>0</td>\n",
       "    </tr>\n",
       "    <tr>\n",
       "      <th>9</th>\n",
       "      <td>A0010</td>\n",
       "      <td>22.543786</td>\n",
       "      <td>113.923978</td>\n",
       "      <td>66.0</td>\n",
       "      <td>1</td>\n",
       "    </tr>\n",
       "    <tr>\n",
       "      <th>10</th>\n",
       "      <td>A0011</td>\n",
       "      <td>22.524864</td>\n",
       "      <td>113.930860</td>\n",
       "      <td>65.5</td>\n",
       "      <td>0</td>\n",
       "    </tr>\n",
       "    <tr>\n",
       "      <th>11</th>\n",
       "      <td>A0012</td>\n",
       "      <td>22.519087</td>\n",
       "      <td>113.935844</td>\n",
       "      <td>65.5</td>\n",
       "      <td>0</td>\n",
       "    </tr>\n",
       "    <tr>\n",
       "      <th>12</th>\n",
       "      <td>A0013</td>\n",
       "      <td>22.547972</td>\n",
       "      <td>113.977909</td>\n",
       "      <td>65.5</td>\n",
       "      <td>1</td>\n",
       "    </tr>\n",
       "    <tr>\n",
       "      <th>13</th>\n",
       "      <td>A0014</td>\n",
       "      <td>22.506169</td>\n",
       "      <td>113.931428</td>\n",
       "      <td>66.0</td>\n",
       "      <td>1</td>\n",
       "    </tr>\n",
       "    <tr>\n",
       "      <th>14</th>\n",
       "      <td>A0015</td>\n",
       "      <td>22.499626</td>\n",
       "      <td>113.936514</td>\n",
       "      <td>66.0</td>\n",
       "      <td>1</td>\n",
       "    </tr>\n",
       "    <tr>\n",
       "      <th>15</th>\n",
       "      <td>A0016</td>\n",
       "      <td>22.540321</td>\n",
       "      <td>113.923646</td>\n",
       "      <td>66.0</td>\n",
       "      <td>1</td>\n",
       "    </tr>\n",
       "    <tr>\n",
       "      <th>16</th>\n",
       "      <td>A0017</td>\n",
       "      <td>22.524554</td>\n",
       "      <td>113.924732</td>\n",
       "      <td>65.5</td>\n",
       "      <td>1</td>\n",
       "    </tr>\n",
       "    <tr>\n",
       "      <th>17</th>\n",
       "      <td>A0018</td>\n",
       "      <td>22.498190</td>\n",
       "      <td>113.898482</td>\n",
       "      <td>66.0</td>\n",
       "      <td>0</td>\n",
       "    </tr>\n",
       "    <tr>\n",
       "      <th>18</th>\n",
       "      <td>A0019</td>\n",
       "      <td>22.546039</td>\n",
       "      <td>113.974968</td>\n",
       "      <td>65.5</td>\n",
       "      <td>1</td>\n",
       "    </tr>\n",
       "    <tr>\n",
       "      <th>19</th>\n",
       "      <td>A0020</td>\n",
       "      <td>22.497729</td>\n",
       "      <td>113.937338</td>\n",
       "      <td>66.0</td>\n",
       "      <td>1</td>\n",
       "    </tr>\n",
       "    <tr>\n",
       "      <th>20</th>\n",
       "      <td>A0021</td>\n",
       "      <td>22.494162</td>\n",
       "      <td>113.927139</td>\n",
       "      <td>66.0</td>\n",
       "      <td>1</td>\n",
       "    </tr>\n",
       "    <tr>\n",
       "      <th>21</th>\n",
       "      <td>A0022</td>\n",
       "      <td>22.515920</td>\n",
       "      <td>113.935677</td>\n",
       "      <td>65.0</td>\n",
       "      <td>1</td>\n",
       "    </tr>\n",
       "    <tr>\n",
       "      <th>22</th>\n",
       "      <td>A0023</td>\n",
       "      <td>22.515786</td>\n",
       "      <td>113.942056</td>\n",
       "      <td>65.5</td>\n",
       "      <td>0</td>\n",
       "    </tr>\n",
       "    <tr>\n",
       "      <th>23</th>\n",
       "      <td>A0024</td>\n",
       "      <td>22.542210</td>\n",
       "      <td>114.019649</td>\n",
       "      <td>66.5</td>\n",
       "      <td>0</td>\n",
       "    </tr>\n",
       "    <tr>\n",
       "      <th>24</th>\n",
       "      <td>A0025</td>\n",
       "      <td>22.544590</td>\n",
       "      <td>113.998660</td>\n",
       "      <td>67.5</td>\n",
       "      <td>0</td>\n",
       "    </tr>\n",
       "    <tr>\n",
       "      <th>25</th>\n",
       "      <td>A0026</td>\n",
       "      <td>22.493083</td>\n",
       "      <td>113.935839</td>\n",
       "      <td>66.0</td>\n",
       "      <td>1</td>\n",
       "    </tr>\n",
       "    <tr>\n",
       "      <th>26</th>\n",
       "      <td>A0027</td>\n",
       "      <td>22.524889</td>\n",
       "      <td>113.919143</td>\n",
       "      <td>65.5</td>\n",
       "      <td>1</td>\n",
       "    </tr>\n",
       "    <tr>\n",
       "      <th>27</th>\n",
       "      <td>A0028</td>\n",
       "      <td>22.548086</td>\n",
       "      <td>113.945312</td>\n",
       "      <td>66.5</td>\n",
       "      <td>1</td>\n",
       "    </tr>\n",
       "    <tr>\n",
       "      <th>28</th>\n",
       "      <td>A0029</td>\n",
       "      <td>22.564707</td>\n",
       "      <td>113.982009</td>\n",
       "      <td>66.0</td>\n",
       "      <td>0</td>\n",
       "    </tr>\n",
       "    <tr>\n",
       "      <th>29</th>\n",
       "      <td>A0030</td>\n",
       "      <td>22.581934</td>\n",
       "      <td>114.156395</td>\n",
       "      <td>68.0</td>\n",
       "      <td>0</td>\n",
       "    </tr>\n",
       "    <tr>\n",
       "      <th>...</th>\n",
       "      <td>...</td>\n",
       "      <td>...</td>\n",
       "      <td>...</td>\n",
       "      <td>...</td>\n",
       "      <td>...</td>\n",
       "    </tr>\n",
       "    <tr>\n",
       "      <th>805</th>\n",
       "      <td>A0806</td>\n",
       "      <td>23.114653</td>\n",
       "      <td>113.836965</td>\n",
       "      <td>72.0</td>\n",
       "      <td>1</td>\n",
       "    </tr>\n",
       "    <tr>\n",
       "      <th>806</th>\n",
       "      <td>A0807</td>\n",
       "      <td>23.039098</td>\n",
       "      <td>113.773178</td>\n",
       "      <td>65.5</td>\n",
       "      <td>1</td>\n",
       "    </tr>\n",
       "    <tr>\n",
       "      <th>807</th>\n",
       "      <td>A0808</td>\n",
       "      <td>22.846704</td>\n",
       "      <td>114.159286</td>\n",
       "      <td>85.0</td>\n",
       "      <td>1</td>\n",
       "    </tr>\n",
       "    <tr>\n",
       "      <th>808</th>\n",
       "      <td>A0809</td>\n",
       "      <td>23.115268</td>\n",
       "      <td>113.116940</td>\n",
       "      <td>85.0</td>\n",
       "      <td>1</td>\n",
       "    </tr>\n",
       "    <tr>\n",
       "      <th>809</th>\n",
       "      <td>A0810</td>\n",
       "      <td>22.864030</td>\n",
       "      <td>113.139840</td>\n",
       "      <td>72.0</td>\n",
       "      <td>1</td>\n",
       "    </tr>\n",
       "    <tr>\n",
       "      <th>810</th>\n",
       "      <td>A0811</td>\n",
       "      <td>22.966296</td>\n",
       "      <td>113.090603</td>\n",
       "      <td>72.0</td>\n",
       "      <td>0</td>\n",
       "    </tr>\n",
       "    <tr>\n",
       "      <th>811</th>\n",
       "      <td>A0812</td>\n",
       "      <td>22.964118</td>\n",
       "      <td>113.089719</td>\n",
       "      <td>72.0</td>\n",
       "      <td>0</td>\n",
       "    </tr>\n",
       "    <tr>\n",
       "      <th>812</th>\n",
       "      <td>A0813</td>\n",
       "      <td>22.958815</td>\n",
       "      <td>113.089964</td>\n",
       "      <td>72.0</td>\n",
       "      <td>0</td>\n",
       "    </tr>\n",
       "    <tr>\n",
       "      <th>813</th>\n",
       "      <td>A0814</td>\n",
       "      <td>22.889674</td>\n",
       "      <td>113.081987</td>\n",
       "      <td>74.0</td>\n",
       "      <td>0</td>\n",
       "    </tr>\n",
       "    <tr>\n",
       "      <th>814</th>\n",
       "      <td>A0815</td>\n",
       "      <td>23.112752</td>\n",
       "      <td>113.125391</td>\n",
       "      <td>80.0</td>\n",
       "      <td>1</td>\n",
       "    </tr>\n",
       "    <tr>\n",
       "      <th>815</th>\n",
       "      <td>A0816</td>\n",
       "      <td>22.964207</td>\n",
       "      <td>113.095786</td>\n",
       "      <td>72.0</td>\n",
       "      <td>0</td>\n",
       "    </tr>\n",
       "    <tr>\n",
       "      <th>816</th>\n",
       "      <td>A0817</td>\n",
       "      <td>22.960500</td>\n",
       "      <td>113.107184</td>\n",
       "      <td>72.0</td>\n",
       "      <td>0</td>\n",
       "    </tr>\n",
       "    <tr>\n",
       "      <th>817</th>\n",
       "      <td>A0818</td>\n",
       "      <td>23.063679</td>\n",
       "      <td>113.057074</td>\n",
       "      <td>72.0</td>\n",
       "      <td>0</td>\n",
       "    </tr>\n",
       "    <tr>\n",
       "      <th>818</th>\n",
       "      <td>A0819</td>\n",
       "      <td>22.965321</td>\n",
       "      <td>113.092568</td>\n",
       "      <td>72.0</td>\n",
       "      <td>0</td>\n",
       "    </tr>\n",
       "    <tr>\n",
       "      <th>819</th>\n",
       "      <td>A0820</td>\n",
       "      <td>23.009589</td>\n",
       "      <td>113.085642</td>\n",
       "      <td>72.0</td>\n",
       "      <td>0</td>\n",
       "    </tr>\n",
       "    <tr>\n",
       "      <th>820</th>\n",
       "      <td>A0821</td>\n",
       "      <td>22.789821</td>\n",
       "      <td>113.164104</td>\n",
       "      <td>74.0</td>\n",
       "      <td>0</td>\n",
       "    </tr>\n",
       "    <tr>\n",
       "      <th>821</th>\n",
       "      <td>A0822</td>\n",
       "      <td>23.041819</td>\n",
       "      <td>113.088398</td>\n",
       "      <td>72.0</td>\n",
       "      <td>0</td>\n",
       "    </tr>\n",
       "    <tr>\n",
       "      <th>822</th>\n",
       "      <td>A0823</td>\n",
       "      <td>22.968179</td>\n",
       "      <td>113.097867</td>\n",
       "      <td>72.0</td>\n",
       "      <td>0</td>\n",
       "    </tr>\n",
       "    <tr>\n",
       "      <th>823</th>\n",
       "      <td>A0824</td>\n",
       "      <td>22.994567</td>\n",
       "      <td>113.140926</td>\n",
       "      <td>72.0</td>\n",
       "      <td>0</td>\n",
       "    </tr>\n",
       "    <tr>\n",
       "      <th>824</th>\n",
       "      <td>A0825</td>\n",
       "      <td>22.978882</td>\n",
       "      <td>113.016651</td>\n",
       "      <td>72.0</td>\n",
       "      <td>0</td>\n",
       "    </tr>\n",
       "    <tr>\n",
       "      <th>825</th>\n",
       "      <td>A0826</td>\n",
       "      <td>22.945638</td>\n",
       "      <td>113.090041</td>\n",
       "      <td>72.0</td>\n",
       "      <td>0</td>\n",
       "    </tr>\n",
       "    <tr>\n",
       "      <th>826</th>\n",
       "      <td>A0827</td>\n",
       "      <td>23.066672</td>\n",
       "      <td>113.154870</td>\n",
       "      <td>65.5</td>\n",
       "      <td>1</td>\n",
       "    </tr>\n",
       "    <tr>\n",
       "      <th>827</th>\n",
       "      <td>A0828</td>\n",
       "      <td>23.012808</td>\n",
       "      <td>113.760312</td>\n",
       "      <td>66.0</td>\n",
       "      <td>1</td>\n",
       "    </tr>\n",
       "    <tr>\n",
       "      <th>828</th>\n",
       "      <td>A0829</td>\n",
       "      <td>23.179030</td>\n",
       "      <td>112.876192</td>\n",
       "      <td>80.0</td>\n",
       "      <td>1</td>\n",
       "    </tr>\n",
       "    <tr>\n",
       "      <th>829</th>\n",
       "      <td>A0830</td>\n",
       "      <td>23.123411</td>\n",
       "      <td>113.151775</td>\n",
       "      <td>85.0</td>\n",
       "      <td>1</td>\n",
       "    </tr>\n",
       "    <tr>\n",
       "      <th>830</th>\n",
       "      <td>A0831</td>\n",
       "      <td>23.044062</td>\n",
       "      <td>113.125784</td>\n",
       "      <td>65.5</td>\n",
       "      <td>0</td>\n",
       "    </tr>\n",
       "    <tr>\n",
       "      <th>831</th>\n",
       "      <td>A0832</td>\n",
       "      <td>22.833262</td>\n",
       "      <td>113.280152</td>\n",
       "      <td>72.0</td>\n",
       "      <td>1</td>\n",
       "    </tr>\n",
       "    <tr>\n",
       "      <th>832</th>\n",
       "      <td>A0833</td>\n",
       "      <td>22.814676</td>\n",
       "      <td>113.827731</td>\n",
       "      <td>85.0</td>\n",
       "      <td>1</td>\n",
       "    </tr>\n",
       "    <tr>\n",
       "      <th>833</th>\n",
       "      <td>A0834</td>\n",
       "      <td>23.063674</td>\n",
       "      <td>113.771188</td>\n",
       "      <td>65.5</td>\n",
       "      <td>1</td>\n",
       "    </tr>\n",
       "    <tr>\n",
       "      <th>834</th>\n",
       "      <td>A0835</td>\n",
       "      <td>23.123294</td>\n",
       "      <td>113.110382</td>\n",
       "      <td>85.0</td>\n",
       "      <td>1</td>\n",
       "    </tr>\n",
       "  </tbody>\n",
       "</table>\n",
       "<p>835 rows × 5 columns</p>\n",
       "</div>"
      ],
      "text/plain": [
       "      任务号码   任务gps 纬度     任务gps经度  任务标价  任务执行情况\n",
       "0    A0001  22.566142  113.980837  66.0       0\n",
       "1    A0002  22.686205  113.940525  65.5       0\n",
       "2    A0003  22.576512  113.957198  65.5       1\n",
       "3    A0004  22.564841  114.244571  75.0       0\n",
       "4    A0005  22.558888  113.950723  65.5       0\n",
       "5    A0006  22.558999  114.241317  75.0       0\n",
       "6    A0007  22.549004  113.972260  65.5       1\n",
       "7    A0008  22.562774  113.956574  65.5       0\n",
       "8    A0009  22.500012  113.895661  66.0       0\n",
       "9    A0010  22.543786  113.923978  66.0       1\n",
       "10   A0011  22.524864  113.930860  65.5       0\n",
       "11   A0012  22.519087  113.935844  65.5       0\n",
       "12   A0013  22.547972  113.977909  65.5       1\n",
       "13   A0014  22.506169  113.931428  66.0       1\n",
       "14   A0015  22.499626  113.936514  66.0       1\n",
       "15   A0016  22.540321  113.923646  66.0       1\n",
       "16   A0017  22.524554  113.924732  65.5       1\n",
       "17   A0018  22.498190  113.898482  66.0       0\n",
       "18   A0019  22.546039  113.974968  65.5       1\n",
       "19   A0020  22.497729  113.937338  66.0       1\n",
       "20   A0021  22.494162  113.927139  66.0       1\n",
       "21   A0022  22.515920  113.935677  65.0       1\n",
       "22   A0023  22.515786  113.942056  65.5       0\n",
       "23   A0024  22.542210  114.019649  66.5       0\n",
       "24   A0025  22.544590  113.998660  67.5       0\n",
       "25   A0026  22.493083  113.935839  66.0       1\n",
       "26   A0027  22.524889  113.919143  65.5       1\n",
       "27   A0028  22.548086  113.945312  66.5       1\n",
       "28   A0029  22.564707  113.982009  66.0       0\n",
       "29   A0030  22.581934  114.156395  68.0       0\n",
       "..     ...        ...         ...   ...     ...\n",
       "805  A0806  23.114653  113.836965  72.0       1\n",
       "806  A0807  23.039098  113.773178  65.5       1\n",
       "807  A0808  22.846704  114.159286  85.0       1\n",
       "808  A0809  23.115268  113.116940  85.0       1\n",
       "809  A0810  22.864030  113.139840  72.0       1\n",
       "810  A0811  22.966296  113.090603  72.0       0\n",
       "811  A0812  22.964118  113.089719  72.0       0\n",
       "812  A0813  22.958815  113.089964  72.0       0\n",
       "813  A0814  22.889674  113.081987  74.0       0\n",
       "814  A0815  23.112752  113.125391  80.0       1\n",
       "815  A0816  22.964207  113.095786  72.0       0\n",
       "816  A0817  22.960500  113.107184  72.0       0\n",
       "817  A0818  23.063679  113.057074  72.0       0\n",
       "818  A0819  22.965321  113.092568  72.0       0\n",
       "819  A0820  23.009589  113.085642  72.0       0\n",
       "820  A0821  22.789821  113.164104  74.0       0\n",
       "821  A0822  23.041819  113.088398  72.0       0\n",
       "822  A0823  22.968179  113.097867  72.0       0\n",
       "823  A0824  22.994567  113.140926  72.0       0\n",
       "824  A0825  22.978882  113.016651  72.0       0\n",
       "825  A0826  22.945638  113.090041  72.0       0\n",
       "826  A0827  23.066672  113.154870  65.5       1\n",
       "827  A0828  23.012808  113.760312  66.0       1\n",
       "828  A0829  23.179030  112.876192  80.0       1\n",
       "829  A0830  23.123411  113.151775  85.0       1\n",
       "830  A0831  23.044062  113.125784  65.5       0\n",
       "831  A0832  22.833262  113.280152  72.0       1\n",
       "832  A0833  22.814676  113.827731  85.0       1\n",
       "833  A0834  23.063674  113.771188  65.5       1\n",
       "834  A0835  23.123294  113.110382  85.0       1\n",
       "\n",
       "[835 rows x 5 columns]"
      ]
     },
     "execution_count": 6,
     "metadata": {},
     "output_type": "execute_result"
    }
   ],
   "source": [
    "table1"
   ]
  },
  {
   "cell_type": "code",
   "execution_count": 8,
   "metadata": {},
   "outputs": [],
   "source": [
    "table = np.asarray(table1)"
   ]
  },
  {
   "cell_type": "code",
   "execution_count": 15,
   "metadata": {},
   "outputs": [],
   "source": [
    "lati = table[:,1:2]\n",
    "long = table[:,2:3]\n",
    "price = table[:,3:4]\n",
    "work = table[:,4:5].astype(int)"
   ]
  },
  {
   "cell_type": "code",
   "execution_count": 16,
   "metadata": {},
   "outputs": [
    {
     "data": {
      "text/plain": [
       "(835, 3)"
      ]
     },
     "execution_count": 16,
     "metadata": {},
     "output_type": "execute_result"
    }
   ],
   "source": [
    "feature = table[:,1:4].astype(int)\n",
    "feature.shape"
   ]
  },
  {
   "cell_type": "code",
   "execution_count": 17,
   "metadata": {},
   "outputs": [
    {
     "data": {
      "text/plain": [
       "LogisticRegression(C=1.0, class_weight=None, dual=False, fit_intercept=True,\n",
       "          intercept_scaling=1, max_iter=100, multi_class='ovr', n_jobs=1,\n",
       "          penalty='l2', random_state=None, solver='liblinear', tol=0.0001,\n",
       "          verbose=0, warm_start=False)"
      ]
     },
     "execution_count": 17,
     "metadata": {},
     "output_type": "execute_result"
    }
   ],
   "source": [
    "lg.fit(feature,work)"
   ]
  },
  {
   "cell_type": "code",
   "execution_count": 42,
   "metadata": {},
   "outputs": [],
   "source": [
    "a= np.arange(835)\n",
    "np.random.shuffle(a)"
   ]
  },
  {
   "cell_type": "code",
   "execution_count": 43,
   "metadata": {},
   "outputs": [],
   "source": [
    "test_index = {}\n",
    "for i in range(9):\n",
    "    test_index[i] = a[83*i:83*(i+1)]\n",
    "test_index[9] = a[83*9:]"
   ]
  },
  {
   "cell_type": "code",
   "execution_count": null,
   "metadata": {},
   "outputs": [],
   "source": []
  },
  {
   "cell_type": "code",
   "execution_count": 53,
   "metadata": {},
   "outputs": [],
   "source": [
    "train_index = {}\n",
    "for i in range(10):\n",
    "    train_index[i] = np.setxor1d(a, test_index[i])"
   ]
  },
  {
   "cell_type": "code",
   "execution_count": 54,
   "metadata": {},
   "outputs": [
    {
     "data": {
      "text/plain": [
       "array([[ 22, 113,  66],\n",
       "       [ 22, 113,  65],\n",
       "       [ 22, 113,  65],\n",
       "       ..., \n",
       "       [ 22, 113,  85],\n",
       "       [ 23, 113,  65],\n",
       "       [ 23, 113,  85]])"
      ]
     },
     "execution_count": 54,
     "metadata": {},
     "output_type": "execute_result"
    }
   ],
   "source": [
    "feature[train_index[0]]"
   ]
  },
  {
   "cell_type": "code",
   "execution_count": 60,
   "metadata": {},
   "outputs": [],
   "source": [
    "training_set = {}\n",
    "test_set = {}\n",
    "training_label = {}\n",
    "test_label = {}\n",
    "for i in range(10):\n",
    "    training_set[i] = feature[train_index[i]]\n",
    "    test_set[i] = feature[test_index[i]]\n",
    "    training_label[i] = work[train_index[i]]\n",
    "    test_label[i] = work[test_index[i]]"
   ]
  },
  {
   "cell_type": "code",
   "execution_count": 109,
   "metadata": {},
   "outputs": [
    {
     "name": "stdout",
     "output_type": "stream",
     "text": [
      "0.674698795181\n",
      "0.626506024096\n",
      "0.638554216867\n",
      "0.710843373494\n",
      "0.614457831325\n",
      "0.66265060241\n",
      "0.674698795181\n",
      "0.578313253012\n",
      "0.602409638554\n",
      "0.704545454545\n",
      "average:0.648768\n"
     ]
    }
   ],
   "source": [
    "predict = {}\n",
    "accuracy = {}\n",
    "sum = 0\n",
    "for i in range(10):\n",
    "    lg.fit(training_set[i],training_label[i])\n",
    "    predict[i] = lg.predict(test_set[i])\n",
    "    accuracy[i] = lg.score(test_set[i],test_label[i])\n",
    "    sum = sum + accuracy[i]\n",
    "    print accuracy[i]\n",
    "print 'average:%f' %(sum/10)"
   ]
  },
  {
   "cell_type": "code",
   "execution_count": 66,
   "metadata": {},
   "outputs": [],
   "source": [
    "import matplotlib as plt\n",
    "from matplotlib import pyplot as plt"
   ]
  },
  {
   "cell_type": "code",
   "execution_count": 116,
   "metadata": {},
   "outputs": [
    {
     "data": {
      "text/plain": [
       "<mpl_toolkits.mplot3d.art3d.Path3DCollection at 0x11a571750>"
      ]
     },
     "execution_count": 116,
     "metadata": {},
     "output_type": "execute_result"
    },
    {
     "data": {
      "image/png": "[encoded data removed]",
      "text/plain": [
       "<matplotlib.figure.Figure at 0x11a5de150>"
      ]
     },
     "metadata": {},
     "output_type": "display_data"
    }
   ],
   "source": [
    "from mpl_toolkits.mplot3d import Axes3D\n",
    "\n",
    "fig = plt.figure()\n",
    "ax = fig.add_subplot(111, projection='3d')\n",
    "\n",
    "xs = lati[same]\n",
    "ys = long[same]\n",
    "zs = price[same]\n",
    "ax.scatter(xs, ys, zs, c='r', marker='o')\n",
    "xs = lati[diff]\n",
    "ys = long[diff]\n",
    "zs = price[diff]\n",
    "ax.scatter(xs, ys, zs, c='b', marker='^')"
   ]
  },
  {
   "cell_type": "code",
   "execution_count": null,
   "metadata": {
    "collapsed": true
   },
   "outputs": [],
   "source": [
    "plt.scatter(price[same], long[same], c=\"g\", alpha=0.5)"
   ]
  },
  {
   "cell_type": "code",
   "execution_count": 78,
   "metadata": {},
   "outputs": [
    {
     "data": {
      "text/plain": [
       "array([1, 0, 1, 0, 1, 1, 0, 0, 0, 0, 0, 0, 0, 0, 0, 0, 1, 0, 0, 0, 1, 1, 1,\n",
       "       0, 0, 1, 1, 0, 1, 0, 1, 0, 1, 0, 1, 1, 1, 0, 0, 0, 1, 1, 0, 1, 1, 0,\n",
       "       0, 0, 0, 0, 1, 0, 0, 0, 0, 1, 0, 1, 0, 1, 0, 0, 0, 0, 0, 0, 0, 0, 1,\n",
       "       0, 1, 0, 0, 1, 0, 0, 1, 1, 0, 0, 1, 0, 1])"
      ]
     },
     "execution_count": 78,
     "metadata": {},
     "output_type": "execute_result"
    }
   ],
   "source": [
    "abs(predict[1] - test_label[1].ravel())"
   ]
  },
  {
   "cell_type": "code",
   "execution_count": 89,
   "metadata": {},
   "outputs": [],
   "source": [
    "diff = np.where(abs(predict[1] - test_label[1].ravel()))\n",
    "same = np.setxor1d(np.arange(predict[1].shape[0]) ,diff)"
   ]
  },
  {
   "cell_type": "code",
   "execution_count": 90,
   "metadata": {},
   "outputs": [
    {
     "data": {
      "text/plain": [
       "array([ 1,  3,  6,  7,  8,  9, 10, 11, 12, 13, 14, 15, 17, 18, 19, 23, 24,\n",
       "       27, 29, 31, 33, 37, 38, 39, 42, 45, 46, 47, 48, 49, 51, 52, 53, 54,\n",
       "       56, 58, 60, 61, 62, 63, 64, 65, 66, 67, 69, 71, 72, 74, 75, 78, 79,\n",
       "       81])"
      ]
     },
     "execution_count": 90,
     "metadata": {},
     "output_type": "execute_result"
    }
   ],
   "source": [
    "same"
   ]
  },
  {
   "cell_type": "code",
   "execution_count": 91,
   "metadata": {},
   "outputs": [
    {
     "data": {
      "text/plain": [
       "(array([ 0,  2,  4,  5, 16, 20, 21, 22, 25, 26, 28, 30, 32, 34, 35, 36, 40,\n",
       "        41, 43, 44, 50, 55, 57, 59, 68, 70, 73, 76, 77, 80, 82]),)"
      ]
     },
     "execution_count": 91,
     "metadata": {},
     "output_type": "execute_result"
    }
   ],
   "source": [
    "diff"
   ]
  },
  {
   "cell_type": "code",
   "execution_count": 117,
   "metadata": {},
   "outputs": [
    {
     "data": {
      "text/plain": [
       "<mpl_toolkits.mplot3d.art3d.Path3DCollection at 0x11a749490>"
      ]
     },
     "execution_count": 117,
     "metadata": {},
     "output_type": "execute_result"
    },
    {
     "data": {
      "image/png": "[encoded data removed]",
      "text/plain": [
       "<matplotlib.figure.Figure at 0x11a609310>"
      ]
     },
     "metadata": {},
     "output_type": "display_data"
    }
   ],
   "source": [
    "from mpl_toolkits.mplot3d import Axes3D\n",
    "\n",
    "fig = plt.figure()\n",
    "ax = fig.add_subplot(111, projection='3d')\n",
    "\n",
    "xs = lati\n",
    "ys = long\n",
    "zs = price\n",
    "ax.scatter(xs, ys, zs, c='r', marker='o')"
   ]
  },
  {
   "cell_type": "code",
   "execution_count": 122,
   "metadata": {
    "collapsed": true
   },
   "outputs": [],
   "source": [
    "distance = pd.read_table('/Users/james/Desktop/distance.csv',delimiter='\\t')"
   ]
  },
  {
   "cell_type": "code",
   "execution_count": null,
   "metadata": {},
   "outputs": [],
   "source": [
    "tab = pd.read_tabel('')"
   ]
  },
  {
   "cell_type": "code",
   "execution_count": 124,
   "metadata": {},
   "outputs": [
    {
     "ename": "ImportError",
     "evalue": "No module named xgboost",
     "output_type": "error",
     "traceback": [
      "\u001b[0;31m---------------------------------------------------------------------------\u001b[0m",
      "\u001b[0;31mImportError\u001b[0m                               Traceback (most recent call last)",
      "\u001b[0;32m<ipython-input-124-745aa3a2d734>\u001b[0m in \u001b[0;36m<module>\u001b[0;34m()\u001b[0m\n\u001b[0;32m----> 1\u001b[0;31m \u001b[0;32mimport\u001b[0m \u001b[0mxgboost\u001b[0m \u001b[0;32mas\u001b[0m \u001b[0mxgb\u001b[0m\u001b[0;34m\u001b[0m\u001b[0m\n\u001b[0m",
      "\u001b[0;31mImportError\u001b[0m: No module named xgboost"
     ]
    }
   ],
   "source": [
    "import xgboost as xgb"
   ]
  },
  {
   "cell_type": "code",
   "execution_count": 125,
   "metadata": {
    "collapsed": true
   },
   "outputs": [],
   "source": [
    "import sklearn\n",
    "from sklearn.metrics import r2_score\n",
    "from scipy.stats.stats import pearsonr"
   ]
  },
  {
   "cell_type": "code",
   "execution_count": 126,
   "metadata": {},
   "outputs": [
    {
     "ename": "ImportError",
     "evalue": "No module named xgboost",
     "output_type": "error",
     "traceback": [
      "\u001b[0;31m---------------------------------------------------------------------------\u001b[0m",
      "\u001b[0;31mImportError\u001b[0m                               Traceback (most recent call last)",
      "\u001b[0;32m<ipython-input-126-8c505048da27>\u001b[0m in \u001b[0;36m<module>\u001b[0;34m()\u001b[0m\n\u001b[0;32m----> 1\u001b[0;31m \u001b[0;32mimport\u001b[0m \u001b[0mxgboost\u001b[0m\u001b[0;34m\u001b[0m\u001b[0m\n\u001b[0m\u001b[1;32m      2\u001b[0m \u001b[0;32mfrom\u001b[0m \u001b[0mxgboost\u001b[0m\u001b[0;34m.\u001b[0m\u001b[0msklearn\u001b[0m \u001b[0;32mimport\u001b[0m \u001b[0mXGBRegressor\u001b[0m\u001b[0;34m\u001b[0m\u001b[0m\n\u001b[1;32m      3\u001b[0m \u001b[0mreg\u001b[0m \u001b[0;34m=\u001b[0m \u001b[0mXGBRegressor\u001b[0m\u001b[0;34m(\u001b[0m\u001b[0;34m)\u001b[0m\u001b[0;34m\u001b[0m\u001b[0m\n\u001b[1;32m      4\u001b[0m \u001b[0mreg\u001b[0m\u001b[0;34m.\u001b[0m\u001b[0mfit\u001b[0m\u001b[0;34m(\u001b[0m\u001b[0mX_train\u001b[0m\u001b[0;34m,\u001b[0m\u001b[0my_train\u001b[0m\u001b[0;34m)\u001b[0m\u001b[0;34m\u001b[0m\u001b[0m\n\u001b[1;32m      5\u001b[0m \u001b[0mregpre\u001b[0m \u001b[0;34m=\u001b[0m \u001b[0mreg\u001b[0m\u001b[0;34m.\u001b[0m\u001b[0mpredict\u001b[0m\u001b[0;34m(\u001b[0m\u001b[0mX_test\u001b[0m\u001b[0;34m)\u001b[0m\u001b[0;34m\u001b[0m\u001b[0m\n",
      "\u001b[0;31mImportError\u001b[0m: No module named xgboost"
     ]
    }
   ],
   "source": [
    "import xgboost\n",
    "from xgboost.sklearn import XGBRegressor\n",
    "reg = XGBRegressor()\n",
    "reg.fit(X_train,y_train)\n",
    "regpre = reg.predict(X_test)"
   ]
  },
  {
   "cell_type": "code",
   "execution_count": null,
   "metadata": {
    "collapsed": true
   },
   "outputs": [],
   "source": [
    "from sklearn.linear_model import Ridge\n",
    "reg = Ridge(kernel = 'linear')\n",
    "ridpre = rid.predict(X_test)"
   ]
  },
  {
   "cell_type": "code",
   "execution_count": null,
   "metadata": {
    "collapsed": true
   },
   "outputs": [],
   "source": [
    "from sklearn.kernel_ridge import KernelRidge\n",
    "for i in range(0,5):\n",
    "    reg_i = KernelRidge(alpha = 10**(-i),kernel = 'polynomial',degree = 3)\n",
    "    reg_i.fit(X_train,y_train)\n",
    "    regpre_i = reg_i.predict(X_test)\n",
    "    r2_i = r2_score(y_test, regpre_i)\n",
    "    pcc_i = pearsonr(y_test, regpre_i)\n",
    "    regpre1_i = reg_i.predict(X_train)\n",
    "    r21_i = r2_score(y_train, regpre1_i)\n",
    "    pcc1_i = pearsonr(y_train, regpre1_i)\n",
    "    print(r2_i,pcc_i,r21_i,pcc1_i)"
   ]
  },
  {
   "cell_type": "code",
   "execution_count": null,
   "metadata": {
    "collapsed": true
   },
   "outputs": [],
   "source": [
    "from sklearn import neighbors\n",
    "reg = neighbors.KNeighborsRegressor(n_neighbors=4)\n",
    "reg.fit(X_train,y_train)\n",
    "regpre = reg.predict(X_test)"
   ]
  },
  {
   "cell_type": "code",
   "execution_count": null,
   "metadata": {
    "collapsed": true
   },
   "outputs": [],
   "source": [
    "reg = RandomForestRegressor(n_estimators=10, criterion='mse', max_depth=None)\n",
    "reg.fit(X_train,y_train)\n",
    "regpre = reg.predict(X_test)"
   ]
  },
  {
   "cell_type": "code",
   "execution_count": null,
   "metadata": {
    "collapsed": true
   },
   "outputs": [],
   "source": [
    "from sklearn.gaussian_process import GaussianProcessRegressor\n",
    "from sklearn.gaussian_process.kernels import DotProduct\n",
    "kernel = 1.0 * DotProduct(sigma_0=1.0)**4\n",
    "reg = GaussianProcessRegressor(kernel = kernel)\n",
    "reg.fit(X_train,y_train)\n",
    "regpre = reg.predict(X_test)"
   ]
  }
 ],
 "metadata": {
  "kernelspec": {
   "display_name": "Python 3",
   "language": "python",
   "name": "python3"
  },
  "language_info": {
   "codemirror_mode": {
    "name": "ipython",
    "version": 3
   },
   "file_extension": ".py",
   "mimetype": "text/x-python",
   "name": "python",
   "nbconvert_exporter": "python",
   "pygments_lexer": "ipython3",
   "version": "3.7.3"
  },
  "toc": {
   "base_numbering": 1,
   "nav_menu": {},
   "number_sections": true,
   "sideBar": true,
   "skip_h1_title": false,
   "title_cell": "Table of Contents",
   "title_sidebar": "Contents",
   "toc_cell": false,
   "toc_position": {},
   "toc_section_display": true,
   "toc_window_display": false
  }
 },
 "nbformat": 4,
 "nbformat_minor": 2
}
