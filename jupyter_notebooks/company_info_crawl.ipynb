{
 "cells": [
  {
   "cell_type": "code",
   "execution_count": 40,
   "metadata": {},
   "outputs": [],
   "source": [
    "import requests\n",
    "import re\n",
    "from xml.dom import minidom\n",
    "from io import StringIO\n",
    "from bs4 import BeautifulSoup\n",
    "import numpy as np"
   ]
  },
  {
   "cell_type": "code",
   "execution_count": 47,
   "metadata": {},
   "outputs": [],
   "source": [
    "def convert_string_to_money(string):\n",
    "    if string[-1] =='M':\n",
    "        return float(string[:-1])*10e6\n",
    "    elif string[-1]=='B':\n",
    "        return float(string[:-1])*10e9\n",
    "    else:\n",
    "        print ('Do not know how to convert ',string)"
   ]
  },
  {
   "cell_type": "markdown",
   "metadata": {},
   "source": [
    "## info in https://www.crunchbase.com/"
   ]
  },
  {
   "cell_type": "markdown",
   "metadata": {},
   "source": [
    "## info in www.owler.com"
   ]
  },
  {
   "cell_type": "code",
   "execution_count": 6,
   "metadata": {},
   "outputs": [],
   "source": [
    "sess = requests.Session()\n",
    "cookie_string = '''vid=rBEAAlx3/TavdgBFD0weAg==; _ga=GA1.2.1920520798.1551367486; _gid=GA1.2.1286598662.1551367486; D_IID=17663BA9-2CC9-3338-BA20-99E3E53D3C37; D_UID=06420E6A-F63F-3453-8586-536DCB76C943; D_ZID=4FF367A3-37AC-3134-8CF0-EAA3833B3154; D_ZUID=01BA398E-21FF-30B3-AFBC-669A6E8EC229; D_HID=A5A78D32-5811-3456-B812-454855F7143F; D_SID=166.111.156.12:Xf4UWCgWFOXsZESbvf8o+T2ckgiclUsgQNu24uDk0aI; __qca=P0-1364539395-1551367487292; C_EXP=f; NC_VARNISH=true; fts=sNkSEdxpNsq0jvM_UIaWkA; OWLER_WEBID=5c781dfcb3465316f212ae18; cpviewed=111436%2C111436%2C111436; _litra_ses.9b9e=*; OWLER_PC=sb7sYWNyPeOR6Jr7IJZPO0wEJ_f3tJVFa1YKtnyv5xfxLcoGF7O7BaX7-1B-5N2nX1C8k-W4fbExTyuogUWd-SmebHKpO-AQB_YZQcUCVTqtUeLrow_ZrSAAS4s6lwuzeuF79OLQ2oKbEYS1EO9eZw; _litra_id.9b9e=a-016x--b621c0ed-2f28-40fc-987d-1dcf8cdbce78.1551367479.2.1551432675.1551375878.f8859fe9-af39-40de-b5d7-aaa86a430a78; amplitude_id_e102edba5e9caea6b89e3c04fac87a4dowler.com=eyJkZXZpY2VJZCI6IjNkOGU1MGU2LThhODYtNDRkNy04MmFmLTgzMDRlZGE3MzI2ZlIiLCJ1c2VySWQiOiI1NjIwMzc1Iiwib3B0T3V0IjpmYWxzZSwic2Vzc2lvbklkIjoxNTUxNDMyNjM4ODk5LCJsYXN0RXZlbnRUaW1lIjoxNTUxNDMyNjc3NTAzLCJldmVudElkIjozNCwiaWRlbnRpZnlJZCI6MjMsInNlcXVlbmNlTnVtYmVyIjo1N30=; li_c='''\n",
    "cookies = {(s.split('=')[0]):(s.split('=')[1]) for s in cookie_string.split('; ')}"
   ]
  },
  {
   "cell_type": "code",
   "execution_count": 7,
   "metadata": {},
   "outputs": [],
   "source": [
    "r = sess.get(url='https://www.owler.com/company/5000fish',\n",
    "         cookies=cookies, \n",
    "         headers={\n",
    "    'User-Agent': 'Mozilla/5.0 (Windows NT 10.0; WOW64) AppleWebKit/537.36 (KHTML, like Gecko) Chrome/55.0.2883.87 Safari/537.36'\n",
    "})\n",
    "soup = BeautifulSoup(r.text, 'html.parser')"
   ]
  },
  {
   "cell_type": "markdown",
   "metadata": {},
   "source": [
    "##### annual revenue"
   ]
  },
  {
   "cell_type": "code",
   "execution_count": 54,
   "metadata": {},
   "outputs": [
    {
     "data": {
      "text/plain": [
       "1.0"
      ]
     },
     "execution_count": 54,
     "metadata": {},
     "output_type": "execute_result"
    }
   ],
   "source": [
    "annual_revenue_string = soup.find_all('p', attrs={'class': 'block stat-value styled-text black'})[0].text\n",
    "if annual_revenue_string[:4]=='$ < ':\n",
    "    annual_revenue_float = convert_string_to_money(annual_revenue_string[4:])\n",
    "else:\n",
    "    annual_revenue_float = convert_string_to_money(annual_revenue_string)\n",
    "annual_revenue_float/10e6"
   ]
  },
  {
   "cell_type": "markdown",
   "metadata": {},
   "source": [
    "##### competitor count"
   ]
  },
  {
   "cell_type": "code",
   "execution_count": 50,
   "metadata": {},
   "outputs": [
    {
     "data": {
      "text/plain": [
       "10"
      ]
     },
     "execution_count": 50,
     "metadata": {},
     "output_type": "execute_result"
    }
   ],
   "source": [
    "#print(soup.find_all('span', attrs={'class': 'rank styled-text'}))\n",
    "len(soup.find_all('span', attrs={'class': 'rank styled-text'}))"
   ]
  },
  {
   "cell_type": "markdown",
   "metadata": {},
   "source": [
    "#####  competitors' revenue"
   ]
  },
  {
   "cell_type": "code",
   "execution_count": 51,
   "metadata": {},
   "outputs": [],
   "source": [
    "tmp_revenue_list = soup.find_all('div', attrs={'class': 'table-col revenue'})[1:]\n",
    "competitors_revenue = []\n",
    "for x in tmp_revenue_list:\n",
    "    competitors_revenue.append(re.findall(\".*>(.*)<.*\",str(x))[0][1:])"
   ]
  },
  {
   "cell_type": "code",
   "execution_count": 52,
   "metadata": {},
   "outputs": [],
   "source": [
    "competitors_revenue_float=[]\n",
    "for i in competitors_revenue[1:]: #skip the searched company\n",
    "    if i[:6] ==' &lt; ':\n",
    "        competitors_revenue_float.append(convert_string_to_money(i[6:]))\n",
    "    else:\n",
    "        competitors_revenue_float.append(convert_string_to_money(i))"
   ]
  },
  {
   "cell_type": "code",
   "execution_count": 57,
   "metadata": {},
   "outputs": [
    {
     "data": {
      "text/plain": [
       "2243.8"
      ]
     },
     "execution_count": 57,
     "metadata": {},
     "output_type": "execute_result"
    }
   ],
   "source": [
    "np.array(competitors_revenue_float).sum()/10e6"
   ]
  },
  {
   "cell_type": "markdown",
   "metadata": {},
   "source": [
    "##### HHI"
   ]
  },
  {
   "cell_type": "code",
   "execution_count": 43,
   "metadata": {},
   "outputs": [
    {
     "data": {
      "text/plain": [
       "0.3827828875830853"
      ]
     },
     "execution_count": 43,
     "metadata": {},
     "output_type": "execute_result"
    }
   ],
   "source": [
    "(np.array(competitors_revenue_float)**2).sum()/((np.array(competitors_revenue_float).sum())**2)"
   ]
  },
  {
   "cell_type": "markdown",
   "metadata": {},
   "source": [
    "## problems to solve  \n",
    "- [x]convert string to float\n",
    "- [ ]company and url mismatch\n",
    "- [ ]missing value: if a competitor company does not have revenue data, decrease one competitor num"
   ]
  },
  {
   "cell_type": "code",
   "execution_count": null,
   "metadata": {},
   "outputs": [],
   "source": []
  }
 ],
 "metadata": {
  "hide_input": false,
  "kernelspec": {
   "display_name": "Python 3",
   "language": "python",
   "name": "python3"
  },
  "language_info": {
   "codemirror_mode": {
    "name": "ipython",
    "version": 3
   },
   "file_extension": ".py",
   "mimetype": "text/x-python",
   "name": "python",
   "nbconvert_exporter": "python",
   "pygments_lexer": "ipython3",
   "version": "3.6.7"
  },
  "toc": {
   "base_numbering": 1,
   "nav_menu": {},
   "number_sections": true,
   "sideBar": true,
   "skip_h1_title": false,
   "title_cell": "Table of Contents",
   "title_sidebar": "Contents",
   "toc_cell": false,
   "toc_position": {},
   "toc_section_display": true,
   "toc_window_display": false
  }
 },
 "nbformat": 4,
 "nbformat_minor": 2
}
