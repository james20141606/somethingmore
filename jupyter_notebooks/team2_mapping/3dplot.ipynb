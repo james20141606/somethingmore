{
 "cells": [
  {
   "cell_type": "code",
   "execution_count": 2,
   "metadata": {},
   "outputs": [
    {
     "name": "stdout",
     "output_type": "stream",
     "text": [
      "Populating the interactive namespace from numpy and matplotlib\n"
     ]
    },
    {
     "name": "stderr",
     "output_type": "stream",
     "text": [
      "/Users/james/anaconda2/lib/python2.7/site-packages/IPython/core/magics/pylab.py:161: UserWarning:\n",
      "\n",
      "pylab import has clobbered these variables: ['rc']\n",
      "`%matplotlib` prevents importing * from pylab and numpy\n",
      "\n",
      "/Users/james/anaconda2/lib/python2.7/site-packages/h5py/__init__.py:36: FutureWarning:\n",
      "\n",
      "Conversion of the second argument of issubdtype from `float` to `np.floating` is deprecated. In future, it will be treated as `np.float64 == np.dtype(float).type`.\n",
      "\n"
     ]
    }
   ],
   "source": [
    "import matplotlib.animation as animation\n",
    "from matplotlib import rc\n",
    "from IPython.display import HTML, Image\n",
    "rc('animation', html='html5')\n",
    "import plotly\n",
    "import plotly.offline as off\n",
    "import plotly.plotly as py\n",
    "import plotly.graph_objs as go\n",
    "from ipywidgets import interact, FloatSlider, RadioButtons,Dropdown,SelectMultiple,FloatRangeSlider\n",
    "tableau20 = [(31, 119, 180), (174, 199, 232), (255, 127, 14), (255, 187, 120),  \n",
    "             (44, 160, 44), (152, 223, 138), (214, 39, 40), (255, 152, 150),  \n",
    "             (148, 103, 189), (197, 176, 213), (140, 86, 75), (196, 156, 148),  \n",
    "             (227, 119, 194), (247, 182, 210), (127, 127, 127), (199, 199, 199),  \n",
    "             (188, 189, 34), (219, 219, 141), (23, 190, 207), (158, 218, 229)] \n",
    "styles = [\"white\",\"dark\",'whitegrid',\"darkgrid\"]\n",
    "contexts = ['paper','talk','poster','notebook']\n",
    "import gc, argparse, sys, os, errno\n",
    "%pylab inline\n",
    "import numpy as np\n",
    "import pandas as pd\n",
    "import matplotlib.pyplot as plt\n",
    "plt.style.use('ggplot')\n",
    "import seaborn as sns\n",
    "import h5py\n",
    "import os\n",
    "import scipy\n",
    "import sklearn\n",
    "from scipy.stats import pearsonr\n",
    "import warnings\n",
    "warnings.filterwarnings('ignore')\n",
    "from ipywidgets import interact, FloatSlider,IntSlider, RadioButtons,Dropdown,Tab,Text"
   ]
  },
  {
   "cell_type": "code",
   "execution_count": 3,
   "metadata": {},
   "outputs": [
    {
     "data": {
      "text/plain": [
       "u'/Users/james/jupyter_notebooks/team2_mapping'"
      ]
     },
     "execution_count": 3,
     "metadata": {},
     "output_type": "execute_result"
    }
   ],
   "source": [
    "pwd"
   ]
  },
  {
   "cell_type": "code",
   "execution_count": 4,
   "metadata": {},
   "outputs": [
    {
     "name": "stdout",
     "output_type": "stream",
     "text": [
      "/Users/james/jupyter_notebooks\n"
     ]
    }
   ],
   "source": [
    "cd /Users/james/jupyter_notebooks/"
   ]
  },
  {
   "cell_type": "markdown",
   "metadata": {},
   "source": [
    "## 3D"
   ]
  },
  {
   "cell_type": "markdown",
   "metadata": {},
   "source": [
    "pd.read_table('hcc_lulab.lengthN.stat.tsv.tmp.re.per').head()"
   ]
  },
  {
   "cell_type": "markdown",
   "metadata": {},
   "source": [
    "pd.read_table('table/per/4_len_summary.per')"
   ]
  },
  {
   "cell_type": "markdown",
   "metadata": {
    "deletable": false,
    "editable": false,
    "run_control": {
     "frozen": true
    }
   },
   "source": [
    "miRNA, piRNA, Y_RNA,srpRNA,tRNA,snoRNA,snRNA,vaultRNA, lncRNA,mRNA,tucpRNA  .iloc[:,np.array([0,1,2,3,6,5,4,8,7,10,9])]"
   ]
  },
  {
   "cell_type": "code",
   "execution_count": 4,
   "metadata": {},
   "outputs": [],
   "source": [
    "from mpl_toolkits.mplot3d import Axes3D\n",
    "import matplotlib.pyplot as plt\n",
    "import numpy as np\n",
    "\n",
    "\n",
    "def plot_3d(rnaname,count_,num,dataname,width,height,azim,elev,contextind,styind):\n",
    "    '''\n",
    "    count_ 长度种类  num rna数量\n",
    "    '''\n",
    "    sns.set_context(contexts[int(contextind)])\n",
    "    sns.set_style(styles[int(styind)])\n",
    "    if dataname =='4_len':\n",
    "        lengthdat = np.array(pd.read_table('table/per/4_len_summary.per').iloc[:,1:]).T\n",
    "    elif dataname =='final':\n",
    "        lengthdat = np.array(pd.read_table('hcc_lulab.lengthN.stat.tsv.tmp.re.per')).T\n",
    "    fig = plt.figure(figsize=(width,height))\n",
    "    ax1 = fig.gca(projection=\"3d\")\n",
    "\n",
    "    xpos = np.repeat(np.arange(1,count_+1),num).reshape(count_,-1).T.ravel()\n",
    "    ypos = np.repeat(range(num),count_).ravel()\n",
    "    num_elements = len(xpos)\n",
    "    zpos = np.zeros(count_*num)\n",
    "    dx = np.ones(count_*num)/5\n",
    "    dy = np.ones(count_*num)/5\n",
    "    dz = lengthdat.ravel()\n",
    "\n",
    "    for i in range(num):\n",
    "        ax1.bar3d(xpos[count_*i:count_*(i+1)], ypos[count_*i:count_*(i+1)], zpos[count_*i:count_*(i+1)],\n",
    "                  dx[count_*i:count_*(i+1)], dy[count_*i:count_*(i+1)],dz[count_*i:count_*(i+1)], color=(np.array(tableau20)/float(256))[:num][i],alpha=0.9)\n",
    "    plt.xticks(range(count_), [str(i+16) for i in range(count_)], color='red')\n",
    "    #for i in range(9):\n",
    "    ax1.set_yticks(range(num))\n",
    "    if rnaname=='9kind':\n",
    "        rnanames = ['miRNA', u'piRNA', u'Y_RNA', u'snRNA', u'snoRNA', u'srpRNA', u'tRNA',\n",
    "       u'lncRNA', u'mRNA']\n",
    "    if rnaname=='11kind':\n",
    "        rnanames =  [u'miRNA', u'piRNA', u'Y_RNA', u'srpRNA', u'snRNA', u'snoRNA', u'tRNA',\n",
    "       u'lncRNA', u'vaultRNA', u'tucpRNA', u'mRNA']\n",
    "    ax1.set_yticklabels(rnanames, color='blue')\n",
    "    for color,tick in zip((np.array(tableau20)/float(256))[:num],ax1.yaxis.get_major_ticks()):\n",
    "        tick.label1.set_color(color)\n",
    "    ax1.view_init(azim=azim,elev=elev)  # 50 20\n",
    "    ax1.set_title('width,height,azim,elev: ' + str(width)+\"   \"+str(height)+\"   \"+str(azim)+\"   \"+str(elev),fontsize=30)\n",
    "    #ax1.bar3d(xpos[3:], ypos[3:], zpos[3:], dx[3:], dy[3:], dz[3:], color='b')\n",
    "    #print ('azim: '+str(azim))\n",
    "    fig.tight_layout()\n",
    "    plt.show()\n",
    "    #fig.savefig('images/length/lengthdistribution_'+str(t))"
   ]
  },
  {
   "cell_type": "code",
   "execution_count": 5,
   "metadata": {},
   "outputs": [
    {
     "data": {
      "application/vnd.jupyter.widget-view+json": {
       "model_id": "1f192cfe6a154cc1b7aa0f441cdff225",
       "version_major": 2,
       "version_minor": 0
      },
      "text/html": [
       "<p>Failed to display Jupyter Widget of type <code>interactive</code>.</p>\n",
       "<p>\n",
       "  If you're reading this message in the Jupyter Notebook or JupyterLab Notebook, it may mean\n",
       "  that the widgets JavaScript is still loading. If this message persists, it\n",
       "  likely means that the widgets JavaScript library is either not installed or\n",
       "  not enabled. See the <a href=\"https://ipywidgets.readthedocs.io/en/stable/user_install.html\">Jupyter\n",
       "  Widgets Documentation</a> for setup instructions.\n",
       "</p>\n",
       "<p>\n",
       "  If you're reading this message in another frontend (for example, a static\n",
       "  rendering on GitHub or <a href=\"https://nbviewer.jupyter.org/\">NBViewer</a>),\n",
       "  it may mean that your frontend doesn't currently support widgets.\n",
       "</p>\n"
      ],
      "text/plain": [
       "interactive(children=(Dropdown(description=u'rnaname', options=('11kind',), value='11kind'), IntSlider(value=34, description=u'count_', max=40, min=30), IntSlider(value=11, description=u'num', max=15, min=7), Dropdown(description=u'dataname', options=('final',), value='final'), FloatSlider(value=25.0, description=u'width', max=40.0, min=4.0, step=1.0), FloatSlider(value=16.0, description=u'height', max=30.0, min=4.0, step=1.0), FloatSlider(value=45.0, description=u'azim', max=180.0, step=2.0), FloatSlider(value=32.0, description=u'elev', max=180.0, step=1.0), FloatSlider(value=2.0, description=u'contextind', max=3.0, step=1.0), FloatSlider(value=0.0, description=u'styind', max=2.0, step=1.0), Output()), _dom_classes=('widget-interact',))"
      ]
     },
     "metadata": {},
     "output_type": "display_data"
    },
    {
     "data": {
      "text/plain": [
       "<function __main__.plot_3d>"
      ]
     },
     "execution_count": 5,
     "metadata": {},
     "output_type": "execute_result"
    }
   ],
   "source": [
    "interact(plot_3d,\n",
    "         rnaname =Dropdown(options=['11kind']),\n",
    "         dataname = Dropdown(options=['final']),\n",
    "    styind=FloatSlider(min=0,max=2,step=1),\n",
    "         count_=IntSlider(min=30,max=40,step=1,value=34),\n",
    "    num=IntSlider(min=7,max=15,step=1,value=11),\n",
    "    contextind=FloatSlider(min=0,max=3,step=1,value=2),\n",
    "    width =FloatSlider(min=4,max=40,step=1,value=25),\n",
    "    height= FloatSlider(min=4,max=30,step=1,value=16),\n",
    "    azim= FloatSlider(min=0,max=180,step=2,value=45),\n",
    "    elev= FloatSlider(min=0,max=180,step=1,value=32))"
   ]
  }
 ],
 "metadata": {
  "kernelspec": {
   "display_name": "Python 2",
   "language": "python",
   "name": "python2"
  },
  "language_info": {
   "codemirror_mode": {
    "name": "ipython",
    "version": 2
   },
   "file_extension": ".py",
   "mimetype": "text/x-python",
   "name": "python",
   "nbconvert_exporter": "python",
   "pygments_lexer": "ipython2",
   "version": "2.7.14"
  },
  "toc": {
   "base_numbering": 1,
   "nav_menu": {},
   "number_sections": true,
   "sideBar": true,
   "skip_h1_title": false,
   "title_cell": "Table of Contents",
   "title_sidebar": "Contents",
   "toc_cell": false,
   "toc_position": {
    "height": "calc(100% - 180px)",
    "left": "10px",
    "top": "150px",
    "width": "182px"
   },
   "toc_section_display": true,
   "toc_window_display": false
  }
 },
 "nbformat": 4,
 "nbformat_minor": 2
}
