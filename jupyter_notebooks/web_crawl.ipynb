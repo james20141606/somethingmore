{
 "cells": [
  {
   "cell_type": "code",
   "execution_count": 2,
   "metadata": {},
   "outputs": [
    {
     "ename": "ModuleNotFoundError",
     "evalue": "No module named 'urllib2'",
     "output_type": "error",
     "traceback": [
      "\u001b[0;31m---------------------------------------------------------------------------\u001b[0m",
      "\u001b[0;31mModuleNotFoundError\u001b[0m                       Traceback (most recent call last)",
      "\u001b[0;32m<ipython-input-2-470bbb67f825>\u001b[0m in \u001b[0;36m<module>\u001b[0;34m()\u001b[0m\n\u001b[0;32m----> 1\u001b[0;31m \u001b[0;32mimport\u001b[0m \u001b[0murllib2\u001b[0m\u001b[0;34m\u001b[0m\u001b[0;34m\u001b[0m\u001b[0m\n\u001b[0m\u001b[1;32m      2\u001b[0m \u001b[0murl\u001b[0m \u001b[0;34m=\u001b[0m \u001b[0;34mr'https://www.owler.com/company/apple'\u001b[0m\u001b[0;34m\u001b[0m\u001b[0;34m\u001b[0m\u001b[0m\n\u001b[1;32m      3\u001b[0m \u001b[0;31m#url = r'http://zhihu.com'\u001b[0m\u001b[0;34m\u001b[0m\u001b[0;34m\u001b[0m\u001b[0;34m\u001b[0m\u001b[0m\n\u001b[1;32m      4\u001b[0m headers ={'User-Agent':'Mozilla/5.0 (Windows NT 10.0; WOW64) AppleWebKit/537.36 (KHTML, like Gecko) Chrome/55.0.2883.87 Safari/537.36',\n\u001b[1;32m      5\u001b[0m          'token':'5c781084b3465316f2129d0e'}\n",
      "\u001b[0;31mModuleNotFoundError\u001b[0m: No module named 'urllib2'"
     ]
    }
   ],
   "source": [
    "import urllib2\n",
    "url = r'https://www.owler.com/company/apple'\n",
    "#url = r'http://zhihu.com'\n",
    "headers ={'User-Agent':'Mozilla/5.0 (Windows NT 10.0; WOW64) AppleWebKit/537.36 (KHTML, like Gecko) Chrome/55.0.2883.87 Safari/537.36',\n",
    "         'token':'5c781084b3465316f2129d0e'}\n",
    "cookie = {'OWLER_PC':'sb7sYWNyPeOR6Jr7IJZPOwp0ALbFoRREQ01XGmmtZT6t5LfL92Rqq2Yk5Vc9CzeOB0X4qw6SLA2iYj58JER1wowUiS2fUStJ2y424DG-1ritUeLrow_ZrSAAS4s6lwuzeuF79OLQ2oKbEYS1EO9eZw'}\n",
    "req = urllib2.Request(url=url,headers=headers,cookie=cookie)\n",
    "res = urllib2.urlopen(req)\n",
    "html = res.read().decode('utf-8')\n",
    "print(html)\n"
   ]
  },
  {
   "cell_type": "code",
   "execution_count": 1,
   "metadata": {},
   "outputs": [
    {
     "data": {
      "text/plain": [
       "<GET https://www.owler.com/company/apple>"
      ]
     },
     "execution_count": 1,
     "metadata": {},
     "output_type": "execute_result"
    }
   ],
   "source": [
    "import scrapy\n",
    "import logging\n",
    " \n",
    "start_url = 'https://www.owler.com/company/apple'\n",
    "cookie = {'OWLER_PC':'sb7sYWNyPeOR6Jr7IJZPOwp0ALbFoRREQ01XGmmtZT6t5LfL92Rqq2Yk5Vc9CzeOB0X4qw6SLA2iYj58JER1wowUiS2fUStJ2y424DG-1ritUeLrow_ZrSAAS4s6lwuzeuF79OLQ2oKbEYS1EO9eZw'}\n",
    "headers = {\n",
    "    'Connection' : 'keep - alive',\n",
    "    'User-Agent' : 'Mozilla/5.0 (X11; Linux x86_64) AppleWebKit/537.36 (KHTML, like Gecko) Chrome/52.0.2743.82 Safari/537.36'\n",
    "}\n",
    "scrapy.Request(url=start_url,headers=headers,cookies=cookie)\n"
   ]
  },
  {
   "cell_type": "code",
   "execution_count": 5,
   "metadata": {},
   "outputs": [
    {
     "ename": "NameError",
     "evalue": "name 'response' is not defined",
     "output_type": "error",
     "traceback": [
      "\u001b[0;31m---------------------------------------------------------------------------\u001b[0m",
      "\u001b[0;31mNameError\u001b[0m                                 Traceback (most recent call last)",
      "\u001b[0;32m<ipython-input-5-567a05af31ba>\u001b[0m in \u001b[0;36m<module>\u001b[0;34m()\u001b[0m\n\u001b[0;32m----> 1\u001b[0;31m \u001b[0mresponse\u001b[0m\u001b[0;34m.\u001b[0m\u001b[0murl\u001b[0m\u001b[0;34m\u001b[0m\u001b[0;34m\u001b[0m\u001b[0m\n\u001b[0m",
      "\u001b[0;31mNameError\u001b[0m: name 'response' is not defined"
     ]
    }
   ],
   "source": [
    "response.url"
   ]
  },
  {
   "cell_type": "code",
   "execution_count": 6,
   "metadata": {},
   "outputs": [],
   "source": [
    "import scrapy\n",
    "\n",
    "    \n",
    "class Owler_Spider(scrapy.Spider):\n",
    "    name = \"owler_apple\"\n",
    "    start_urls = [\n",
    "        'https://www.owler.com/company/apple',\n",
    "    ]\n",
    "    \n",
    "    def request(self, url, callback):\n",
    "        \"\"\"\n",
    "         wrapper for scrapy.request\n",
    "        \"\"\"\n",
    "        request = scrapy.Request(url=url, callback=callback)\n",
    "        request.cookies['OWLER_PC'] = 'sb7sYWNyPeOR6Jr7IJZPOwp0ALbFoRREQ01XGmmtZT6t5LfL92Rqq2Yk5Vc9CzeOB0X4qw6SLA2iYj58JER1wowUiS2fUStJ2y424DG-1ritUeLrow_ZrSAAS4s6lwuzeuF79OLQ2oKbEYS1EO9eZw'\n",
    "        request.headers['User-Agent'] = (\n",
    "            'Mozilla/5.0 (Windows NT 10.0; WOW64) AppleWebKit/537.36 (KHTML, '\n",
    "            'like Gecko) Chrome/45.0.2454.85 Safari/537.36')\n",
    "        request.headers['Connection'] = ('keep - alive')\n",
    "        return request\n",
    "    \n",
    "    def parse(self, response):\n",
    "        yield {     # return some results\n",
    "            'title': response.css('h1::text').extract_first(default='Missing').strip().replace('\"', \"\"),\n",
    "            'url': response.url,\n",
    "        }\n",
    "\n",
    "        urls = response.css('a::attr(href)').re(r'^/.+?/$')     # find all sub urls\n",
    "        for url in urls:\n",
    "            yield response.follow(url, callback=self.parse)     # it will filter duplication automatically\n"
   ]
  }
 ],
 "metadata": {
  "kernelspec": {
   "display_name": "Python 3",
   "language": "python",
   "name": "python3"
  },
  "language_info": {
   "codemirror_mode": {
    "name": "ipython",
    "version": 3
   },
   "file_extension": ".py",
   "mimetype": "text/x-python",
   "name": "python",
   "nbconvert_exporter": "python",
   "pygments_lexer": "ipython3",
   "version": "3.7.2"
  },
  "toc": {
   "base_numbering": 1,
   "nav_menu": {},
   "number_sections": true,
   "sideBar": true,
   "skip_h1_title": false,
   "title_cell": "Table of Contents",
   "title_sidebar": "Contents",
   "toc_cell": false,
   "toc_position": {},
   "toc_section_display": true,
   "toc_window_display": false
  }
 },
 "nbformat": 4,
 "nbformat_minor": 2
}
