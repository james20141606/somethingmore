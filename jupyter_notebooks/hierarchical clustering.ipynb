{
 "cells": [
  {
   "cell_type": "code",
   "execution_count": 1,
   "metadata": {},
   "outputs": [
    {
     "name": "stdout",
     "output_type": "stream",
     "text": [
      "Populating the interactive namespace from numpy and matplotlib\n"
     ]
    }
   ],
   "source": [
    "import scipy\n",
    "import scipy.cluster.hierarchy as sch\n",
    "from scipy.cluster.vq import vq,kmeans,whiten\n",
    "import numpy as np\n",
    "%pylab inline"
   ]
  },
  {
   "cell_type": "code",
   "execution_count": 2,
   "metadata": {},
   "outputs": [
    {
     "data": {
      "text/plain": [
       "array([[ 1.36495522,  0.5972237 ,  1.23903335,  0.62369285],\n",
       "       [-0.65039391,  0.56516504,  0.91013075,  0.70396312],\n",
       "       [ 0.28973641,  0.01220999,  0.78917901, -2.34725256],\n",
       "       [-0.60260814, -0.79957761, -1.43578122, -0.06721925],\n",
       "       [ 1.62256755,  0.5087978 ,  1.5235312 , -1.13242467],\n",
       "       [ 0.90379654, -0.96639076, -0.99870829,  1.45352738],\n",
       "       [ 0.0373656 , -2.08837768, -1.28944235, -1.80797832],\n",
       "       [-1.09359713,  1.02028911, -1.50446362,  0.0169104 ],\n",
       "       [ 0.96686928,  1.67976126,  1.0861898 ,  0.18833193],\n",
       "       [-1.74575515,  1.56923046, -1.90121605,  1.05552544],\n",
       "       [-1.99340143,  0.82665711, -1.10375574, -0.27669023],\n",
       "       [-1.16474499, -0.41780726, -0.82326478, -0.02484068],\n",
       "       [-1.77044381,  2.25549797, -2.42841774,  0.06719309],\n",
       "       [-0.29433564,  1.13609918,  1.86994611, -0.38342867],\n",
       "       [ 1.57919514, -1.39858249, -0.55140486,  1.63776271],\n",
       "       [-0.25500069, -1.49089586,  2.14842258,  0.33451519],\n",
       "       [ 1.63056619, -1.24865059, -0.23872756,  1.15751207],\n",
       "       [ 0.41086081, -0.71843984,  0.99747712, -0.03486172],\n",
       "       [-0.76701626, -0.33631902,  2.08243853,  0.27330429],\n",
       "       [ 0.2201747 ,  0.36028836, -1.74518692, -0.68559866]])"
      ]
     },
     "execution_count": 2,
     "metadata": {},
     "output_type": "execute_result"
    }
   ],
   "source": [
    "points=scipy.randn(20,4)\n",
    "points"
   ]
  },
  {
   "cell_type": "code",
   "execution_count": 3,
   "metadata": {
    "collapsed": true
   },
   "outputs": [],
   "source": [
    "#1. 层次聚类\n",
    "#生成点与点之间的距离矩阵,这里用的欧氏距离:\n",
    "disMat = sch.distance.pdist(points,'euclidean') \n",
    "#进行层次聚类:\n",
    "Z=sch.linkage(disMat,method='average') "
   ]
  },
  {
   "cell_type": "code",
   "execution_count": 6,
   "metadata": {},
   "outputs": [
    {
     "data": {
      "text/plain": [
       "{'color_list': ['g',\n",
       "  'g',\n",
       "  'r',\n",
       "  'r',\n",
       "  'r',\n",
       "  'r',\n",
       "  'r',\n",
       "  'r',\n",
       "  'r',\n",
       "  'b',\n",
       "  'b',\n",
       "  'c',\n",
       "  'c',\n",
       "  'c',\n",
       "  'c',\n",
       "  'c',\n",
       "  'c',\n",
       "  'b',\n",
       "  'b'],\n",
       " 'dcoord': [[0.0, 0.5945808080379763, 0.5945808080379763, 0.0],\n",
       "  [0.0, 1.0323848979426531, 1.0323848979426531, 0.5945808080379763],\n",
       "  [0.0, 1.2422802694718571, 1.2422802694718571, 0.0],\n",
       "  [0.0, 1.8664061566990771, 1.8664061566990771, 1.2422802694718571],\n",
       "  [0.0, 1.5988776510986107, 1.5988776510986107, 0.0],\n",
       "  [0.0, 1.2662181099876775, 1.2662181099876775, 0.0],\n",
       "  [0.0, 1.6282391851925313, 1.6282391851925313, 1.2662181099876775],\n",
       "  [1.5988776510986107,\n",
       "   2.0759663346874793,\n",
       "   2.0759663346874793,\n",
       "   1.6282391851925313],\n",
       "  [1.8664061566990771,\n",
       "   2.4822063030723194,\n",
       "   2.4822063030723194,\n",
       "   2.0759663346874793],\n",
       "  [0.0, 2.8955099395565105, 2.8955099395565105, 2.4822063030723194],\n",
       "  [1.0323848979426531,\n",
       "   3.5020272345025192,\n",
       "   3.5020272345025192,\n",
       "   2.8955099395565105],\n",
       "  [0.0, 1.0459011720665492, 1.0459011720665492, 0.0],\n",
       "  [0.0, 1.3138931091139352, 1.3138931091139352, 0.0],\n",
       "  [1.0459011720665492,\n",
       "   1.7040286271695901,\n",
       "   1.7040286271695901,\n",
       "   1.3138931091139352],\n",
       "  [0.0, 0.91581589824200893, 0.91581589824200893, 0.0],\n",
       "  [0.0, 1.7665884960843088, 1.7665884960843088, 0.91581589824200893],\n",
       "  [1.7040286271695901,\n",
       "   2.4271918828920764,\n",
       "   2.4271918828920764,\n",
       "   1.7665884960843088],\n",
       "  [0.0, 3.6608222413924993, 3.6608222413924993, 2.4271918828920764],\n",
       "  [3.5020272345025192,\n",
       "   3.8882022026426761,\n",
       "   3.8882022026426761,\n",
       "   3.6608222413924993]],\n",
       " 'icoord': [[15.0, 15.0, 25.0, 25.0],\n",
       "  [5.0, 5.0, 20.0, 20.0],\n",
       "  [55.0, 55.0, 65.0, 65.0],\n",
       "  [45.0, 45.0, 60.0, 60.0],\n",
       "  [75.0, 75.0, 85.0, 85.0],\n",
       "  [105.0, 105.0, 115.0, 115.0],\n",
       "  [95.0, 95.0, 110.0, 110.0],\n",
       "  [80.0, 80.0, 102.5, 102.5],\n",
       "  [52.5, 52.5, 91.25, 91.25],\n",
       "  [35.0, 35.0, 71.875, 71.875],\n",
       "  [12.5, 12.5, 53.4375, 53.4375],\n",
       "  [135.0, 135.0, 145.0, 145.0],\n",
       "  [155.0, 155.0, 165.0, 165.0],\n",
       "  [140.0, 140.0, 160.0, 160.0],\n",
       "  [185.0, 185.0, 195.0, 195.0],\n",
       "  [175.0, 175.0, 190.0, 190.0],\n",
       "  [150.0, 150.0, 182.5, 182.5],\n",
       "  [125.0, 125.0, 166.25, 166.25],\n",
       "  [32.96875, 32.96875, 145.625, 145.625]],\n",
       " 'ivl': ['5',\n",
       "  '14',\n",
       "  '16',\n",
       "  '2',\n",
       "  '4',\n",
       "  '0',\n",
       "  '8',\n",
       "  '1',\n",
       "  '13',\n",
       "  '17',\n",
       "  '15',\n",
       "  '18',\n",
       "  '6',\n",
       "  '7',\n",
       "  '10',\n",
       "  '9',\n",
       "  '12',\n",
       "  '19',\n",
       "  '3',\n",
       "  '11'],\n",
       " 'leaves': [5,\n",
       "  14,\n",
       "  16,\n",
       "  2,\n",
       "  4,\n",
       "  0,\n",
       "  8,\n",
       "  1,\n",
       "  13,\n",
       "  17,\n",
       "  15,\n",
       "  18,\n",
       "  6,\n",
       "  7,\n",
       "  10,\n",
       "  9,\n",
       "  12,\n",
       "  19,\n",
       "  3,\n",
       "  11]}"
      ]
     },
     "execution_count": 6,
     "metadata": {},
     "output_type": "execute_result"
    }
   ],
   "source": [
    "P"
   ]
  },
  {
   "cell_type": "code",
   "execution_count": 5,
   "metadata": {},
   "outputs": [
    {
     "data": {
      "text/plain": [
       "<matplotlib.image.AxesImage at 0x1191f77d0>"
      ]
     },
     "execution_count": 5,
     "metadata": {},
     "output_type": "execute_result"
    },
    {
     "data": {
      "image/png": "[encoded data removed]",
      "text/plain": [
       "<matplotlib.figure.Figure at 0x119067a10>"
      ]
     },
     "metadata": {},
     "output_type": "display_data"
    },
    {
     "data": {
      "image/png": "[encoded data removed]",
      "text/plain": [
       "<matplotlib.figure.Figure at 0x1190679d0>"
      ]
     },
     "metadata": {},
     "output_type": "display_data"
    }
   ],
   "source": [
    "#1. 层次聚类\n",
    "#生成点与点之间的距离矩阵,这里用的欧氏距离:\n",
    "disMat = sch.distance.pdist(points,'euclidean') \n",
    "#进行层次聚类:\n",
    "Z=sch.linkage(disMat,method='average') \n",
    "#将层级聚类结果以树状图表示出来并保存为plot_dendrogram.png\n",
    "P=sch.dendrogram(Z)\n",
    "matshow(Z)"
   ]
  },
  {
   "cell_type": "code",
   "execution_count": 17,
   "metadata": {
    "collapsed": true
   },
   "outputs": [],
   "source": [
    "#根据linkage matrix Z得到聚类结果:\n",
    "cluster= sch.fcluster(Z, t=1, criterion='inconsistent')"
   ]
  },
  {
   "cell_type": "code",
   "execution_count": 18,
   "metadata": {},
   "outputs": [
    {
     "name": "stdout",
     "output_type": "stream",
     "text": [
      "Original cluster by hierarchy clustering:\n",
      "[ 1  5  1  2  6  4  7  2  8  9  4  6  5  3  4 10  6  3  3  4]\n"
     ]
    }
   ],
   "source": [
    "print 'Original cluster by hierarchy clustering:\\n',cluster"
   ]
  },
  {
   "cell_type": "code",
   "execution_count": null,
   "metadata": {
    "collapsed": true
   },
   "outputs": [],
   "source": []
  }
 ],
 "metadata": {
  "kernelspec": {
   "display_name": "Python 3",
   "language": "python",
   "name": "python3"
  },
  "language_info": {
   "codemirror_mode": {
    "name": "ipython",
    "version": 3
   },
   "file_extension": ".py",
   "mimetype": "text/x-python",
   "name": "python",
   "nbconvert_exporter": "python",
   "pygments_lexer": "ipython3",
   "version": "3.7.3"
  },
  "toc": {
   "base_numbering": 1,
   "nav_menu": {},
   "number_sections": true,
   "sideBar": true,
   "skip_h1_title": false,
   "title_cell": "Table of Contents",
   "title_sidebar": "Contents",
   "toc_cell": false,
   "toc_position": {},
   "toc_section_display": true,
   "toc_window_display": false
  }
 },
 "nbformat": 4,
 "nbformat_minor": 2
}
