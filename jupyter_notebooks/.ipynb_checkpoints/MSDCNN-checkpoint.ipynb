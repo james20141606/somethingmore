{
 "cells": [
  {
   "cell_type": "code",
   "execution_count": 5,
   "metadata": {},
   "outputs": [
    {
     "name": "stdout",
     "output_type": "stream",
     "text": [
      "Populating the interactive namespace from numpy and matplotlib\n"
     ]
    }
   ],
   "source": [
    "%pylab inline\n",
    "\n",
    "import warnings\n",
    "warnings.filterwarnings('ignore')\n",
    "import numpy as np\n",
    "import argparse, sys, os, errno\n",
    "from glob import glob\n",
    "import pandas as pd\n",
    "import matplotlib.pyplot as plt\n",
    "from keras.layers import Conv2D\n",
    "from keras.models import Model\n",
    "from keras.layers import Input, Activation\n",
    "from keras.layers import add, concatenate\n",
    "import seaborn as sns\n",
    "import h5py\n",
    "import keras as K\n",
    "from keras.callbacks import TensorBoard\n",
    "from keras.callbacks import EarlyStopping\n",
    "from keras.initializers import RandomNormal\n",
    "from keras.callbacks import ModelCheckpoint\n",
    "from keras.utils.vis_utils import model_to_dot"
   ]
  },
  {
   "cell_type": "code",
   "execution_count": 2,
   "metadata": {
    "collapsed": true
   },
   "outputs": [],
   "source": [
    "def __conv_init(a):\n",
    "    print(\"conv_init\", a)\n",
    "    k = RandomNormal(0, 0.02)(a) # for convolution kernel\n",
    "    k.conv_weight = True    \n",
    "    return k\n",
    "conv_init = RandomNormal(0, 0.02)\n",
    "def mixed_scaled_dense_network(input_tensor, num_layers=32, nc_in=3, nc_out=1): #, nc_in=3, nc_out=1\n",
    "    \"\"\"\n",
    "    Inefficient implementation of paper: A mixed-scale dense convolutional neural network for image analysis\n",
    "    http://www.pnas.org/content/115/2/254\n",
    "    \"\"\"\n",
    "    msd_layers = {}\n",
    "    x = input_tensor\n",
    "    msd_layers[\"input\"] = x\n",
    "    for i in range(num_layers):\n",
    "        dilation = (i % 10) + 1\n",
    "        msd_layers[\"layer{0}\".format(i)] = Conv2D(1, kernel_size=3, strides=1, dilation_rate=dilation, \n",
    "                                                  kernel_initializer=conv_init, padding=\"same\")(x)\n",
    "        for j in range(i):\n",
    "            dilation = ((i + j) %10) + 1\n",
    "            conv_3x3 = Conv2D(1, kernel_size=3, strides=1, dilation_rate=dilation,\n",
    "                              kernel_initializer=conv_init, use_bias=True, padding=\"same\")(msd_layers[\"layer{0}\".format(j)])\n",
    "            msd_layers[\"layer{0}\".format(i)] = add([msd_layers[\"layer{0}\".format(i)], conv_3x3])\n",
    "        msd_layers[\"layer{0}\".format(i)] = Activation(\"relu\")(msd_layers[\"layer{0}\".format(i)])\n",
    "    \n",
    "    concat_all = x\n",
    "    for i in range(num_layers):\n",
    "        concat_all = concatenate([concat_all, msd_layers[\"layer{0}\".format(i)]])\n",
    "    msd_layers[\"merge_concat_all\"] = concat_all\n",
    "    out = Conv2D(nc_out, kernel_size=1, kernel_initializer=conv_init, padding=\"same\")(concat_all)\n",
    "    msd_layers[\"output\"] = out\n",
    "    \n",
    "    return out, msd_layers"
   ]
  },
  {
   "cell_type": "code",
   "execution_count": 3,
   "metadata": {
    "collapsed": true
   },
   "outputs": [],
   "source": [
    "input_layer = Input(shape=(128, 128, 3))\n",
    "output_layer, msd_layers = mixed_scaled_dense_network(input_layer, num_layers=3)\n",
    "model = Model(inputs=[input_layer], outputs=[output_layer])"
   ]
  },
  {
   "cell_type": "code",
   "execution_count": 4,
   "metadata": {},
   "outputs": [
    {
     "name": "stdout",
     "output_type": "stream",
     "text": [
      "____________________________________________________________________________________________________\n",
      "Layer (type)                     Output Shape          Param #     Connected to                     \n",
      "====================================================================================================\n",
      "input_1 (InputLayer)             (None, 128, 128, 3)   0                                            \n",
      "____________________________________________________________________________________________________\n",
      "conv2d_1 (Conv2D)                (None, 128, 128, 1)   28          input_1[0][0]                    \n",
      "____________________________________________________________________________________________________\n",
      "activation_1 (Activation)        (None, 128, 128, 1)   0           conv2d_1[0][0]                   \n",
      "____________________________________________________________________________________________________\n",
      "conv2d_2 (Conv2D)                (None, 128, 128, 1)   28          input_1[0][0]                    \n",
      "____________________________________________________________________________________________________\n",
      "conv2d_3 (Conv2D)                (None, 128, 128, 1)   10          activation_1[0][0]               \n",
      "____________________________________________________________________________________________________\n",
      "add_1 (Add)                      (None, 128, 128, 1)   0           conv2d_2[0][0]                   \n",
      "                                                                   conv2d_3[0][0]                   \n",
      "____________________________________________________________________________________________________\n",
      "activation_2 (Activation)        (None, 128, 128, 1)   0           add_1[0][0]                      \n",
      "____________________________________________________________________________________________________\n",
      "conv2d_4 (Conv2D)                (None, 128, 128, 1)   28          input_1[0][0]                    \n",
      "____________________________________________________________________________________________________\n",
      "conv2d_5 (Conv2D)                (None, 128, 128, 1)   10          activation_1[0][0]               \n",
      "____________________________________________________________________________________________________\n",
      "add_2 (Add)                      (None, 128, 128, 1)   0           conv2d_4[0][0]                   \n",
      "                                                                   conv2d_5[0][0]                   \n",
      "____________________________________________________________________________________________________\n",
      "conv2d_6 (Conv2D)                (None, 128, 128, 1)   10          activation_2[0][0]               \n",
      "____________________________________________________________________________________________________\n",
      "concatenate_1 (Concatenate)      (None, 128, 128, 4)   0           input_1[0][0]                    \n",
      "                                                                   activation_1[0][0]               \n",
      "____________________________________________________________________________________________________\n",
      "add_3 (Add)                      (None, 128, 128, 1)   0           add_2[0][0]                      \n",
      "                                                                   conv2d_6[0][0]                   \n",
      "____________________________________________________________________________________________________\n",
      "concatenate_2 (Concatenate)      (None, 128, 128, 5)   0           concatenate_1[0][0]              \n",
      "                                                                   activation_2[0][0]               \n",
      "____________________________________________________________________________________________________\n",
      "activation_3 (Activation)        (None, 128, 128, 1)   0           add_3[0][0]                      \n",
      "____________________________________________________________________________________________________\n",
      "concatenate_3 (Concatenate)      (None, 128, 128, 6)   0           concatenate_2[0][0]              \n",
      "                                                                   activation_3[0][0]               \n",
      "____________________________________________________________________________________________________\n",
      "conv2d_7 (Conv2D)                (None, 128, 128, 1)   7           concatenate_3[0][0]              \n",
      "====================================================================================================\n",
      "Total params: 121\n",
      "Trainable params: 121\n",
      "Non-trainable params: 0\n",
      "____________________________________________________________________________________________________\n"
     ]
    }
   ],
   "source": [
    "model.summary()"
   ]
  },
  {
   "cell_type": "code",
   "execution_count": 6,
   "metadata": {},
   "outputs": [
    {
     "data": {
      "text/plain": [
       "0"
      ]
     },
     "execution_count": 6,
     "metadata": {},
     "output_type": "execute_result"
    }
   ],
   "source": [
    "dot = model_to_dot(model, show_shapes=True, show_layer_names=True)\n",
    "dot.set_rankdir('same')\n",
    "with open('/tmp/model.dot', 'w') as f:\n",
    "    f.write(dot.to_string())\n",
    "os.system('dot -Tpdf -o /tmp/model.pdf /tmp/model.dot')"
   ]
  },
  {
   "cell_type": "code",
   "execution_count": null,
   "metadata": {
    "collapsed": true
   },
   "outputs": [],
   "source": []
  }
 ],
 "metadata": {
  "kernelspec": {
   "display_name": "Python [default]",
   "language": "python",
   "name": "python2"
  },
  "language_info": {
   "codemirror_mode": {
    "name": "ipython",
    "version": 2
   },
   "file_extension": ".py",
   "mimetype": "text/x-python",
   "name": "python",
   "nbconvert_exporter": "python",
   "pygments_lexer": "ipython2",
   "version": "2.7.13"
  }
 },
 "nbformat": 4,
 "nbformat_minor": 2
}
