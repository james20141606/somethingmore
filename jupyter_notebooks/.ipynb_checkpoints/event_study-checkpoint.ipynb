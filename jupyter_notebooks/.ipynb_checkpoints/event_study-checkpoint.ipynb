{
 "cells": [
  {
   "cell_type": "code",
   "execution_count": 1,
   "metadata": {},
   "outputs": [],
   "source": [
    "import pandas as pd\n",
    "import numpy as np\n",
    "import scipy as sp\n",
    "import matplotlib.pyplot as plt\n",
    "from scipy.optimize import leastsq\n",
    "from tqdm import tqdm_notebook as tqdm"
   ]
  },
  {
   "cell_type": "code",
   "execution_count": 3,
   "metadata": {},
   "outputs": [
    {
     "data": {
      "text/plain": [
       "'/Users/james/somethingmore/jupyter_notebooks'"
      ]
     },
     "execution_count": 3,
     "metadata": {},
     "output_type": "execute_result"
    }
   ],
   "source": [
    "ls "
   ]
  },
  {
   "cell_type": "code",
   "execution_count": 5,
   "metadata": {},
   "outputs": [],
   "source": [
    "rec=pd.read_sas('Recommendation.sas7bdat')\n",
    "ipo=pd.read_sas('ipos_1996_2000.sas7bdat')\n",
    "ret=pd.read_sas('AssignmentReturns.sas7bdat')\n",
    "ret=ret.rename(index=str, columns={\"DATE\": \"date\", \"PERMNO\": \"permno\"})\n",
    "mret=pd.read_sas('Market_returns.sas7bdat')"
   ]
  },
  {
   "cell_type": "code",
   "execution_count": 6,
   "metadata": {},
   "outputs": [],
   "source": [
    "iporec=pd.merge(ipo,rec,on='CUSIP',how='outer') \n",
    "n_iporec = iporec.drop_duplicates(['permno'])"
   ]
  },
  {
   "cell_type": "code",
   "execution_count": 7,
   "metadata": {},
   "outputs": [],
   "source": [
    "ret=ret.merge(mret,on='date')\n",
    "ret['ar']=ret['RET']-ret['VWRETD']\n",
    "ret=ret.dropna(axis=0,how='any')"
   ]
  },
  {
   "cell_type": "code",
   "execution_count": 8,
   "metadata": {},
   "outputs": [],
   "source": [
    "ret.sort_values(by=['permno','date'], inplace=True)"
   ]
  },
  {
   "cell_type": "code",
   "execution_count": 9,
   "metadata": {},
   "outputs": [],
   "source": [
    "all_d=ret.merge(n_iporec,on='permno')"
   ]
  },
  {
   "cell_type": "code",
   "execution_count": 10,
   "metadata": {},
   "outputs": [],
   "source": [
    "all_d=all_d.dropna(axis=0,how='any')"
   ]
  },
  {
   "cell_type": "code",
   "execution_count": 11,
   "metadata": {},
   "outputs": [],
   "source": [
    "all_d=all_d.drop(['CUSIP_x'],axis=1)\n",
    "all_d=all_d.rename(columns={\"CUSIP_y\": \"cusip\"})"
   ]
  },
  {
   "cell_type": "code",
   "execution_count": 12,
   "metadata": {},
   "outputs": [],
   "source": [
    "all_d['date']=pd.to_datetime(all_d['date'])\n",
    "all_d['ANNDATS']=pd.to_datetime(all_d['ANNDATS'])"
   ]
  },
  {
   "cell_type": "code",
   "execution_count": null,
   "metadata": {},
   "outputs": [
    {
     "data": {
      "application/vnd.jupyter.widget-view+json": {
       "model_id": "7cad3b01cfe640d89547540c9150962d",
       "version_major": 2,
       "version_minor": 0
      },
      "text/plain": [
       "HBox(children=(IntProgress(value=0, max=1851), HTML(value='')))"
      ]
     },
     "metadata": {},
     "output_type": "display_data"
    },
    {
     "name": "stderr",
     "output_type": "stream",
     "text": [
      "/Users/james/anaconda3/lib/python3.7/site-packages/numpy/core/fromnumeric.py:56: FutureWarning: Series.nonzero() is deprecated and will be removed in a future version.Use Series.to_numpy().nonzero() instead\n",
      "  return getattr(obj, method)(*args, **kwds)\n",
      "/Users/james/anaconda3/lib/python3.7/site-packages/pandas/core/indexing.py:190: SettingWithCopyWarning: \n",
      "A value is trying to be set on a copy of a slice from a DataFrame\n",
      "\n",
      "See the caveats in the documentation: http://pandas.pydata.org/pandas-docs/stable/indexing.html#indexing-view-versus-copy\n",
      "  self._setitem_with_indexer(indexer, value)\n"
     ]
    }
   ],
   "source": [
    "#%debug\n",
    "all_d['rel_day'] = str(0)\n",
    "keys = []\n",
    "for key in tqdm(np.unique(all_d['permno'])):\n",
    "    try:\n",
    "        #all_d[all_d['permno']==key]\n",
    "        tmpdf = all_d[all_d['permno']==key]\n",
    "        tmpdf['date'][np.isin(tmpdf['date'],tmpdf['ANNDATS'])] #找到日期相同的位置\n",
    "        #np.where(np.isin(tmpdf['date'],tmpdf['ANNDATS'])==1)[0]\n",
    "        #tmpposition = np.where((tmpdf['date']==tmpdf['ANNDATS'])==1)[0][0] 不能解决anndate非交易日问题\n",
    "        #(pd.to_datetime(tmpdf['date']) - pd.to_datetime(tmpdf['ANNDATS'])).dt.days 日期做差\n",
    "        tmpposition = np.argwhere((pd.to_datetime(tmpdf['date']) - pd.to_datetime(tmpdf['ANNDATS'])).dt.days >=0)[0][0] #找做差的最小的非负值的位置\n",
    "        #tmpdf.iloc[tmpposition]\n",
    "        #tmpdf['rel-day'] = np.arange(-tmpposition+1,tmpdf.shape[0]+1-tmpposition)\n",
    "        all_d['rel_day'].iloc[np.where(all_d['permno']==key)] = \\\n",
    "                np.arange(-tmpposition,tmpdf.shape[0]-tmpposition)\n",
    "    except:\n",
    "        print (key)\n",
    "        keys.append(key)"
   ]
  },
  {
   "cell_type": "code",
   "execution_count": null,
   "metadata": {},
   "outputs": [],
   "source": [
    "all_d_drop = all_d[~np.isin(all_d['permno'],keys)]"
   ]
  },
  {
   "cell_type": "code",
   "execution_count": null,
   "metadata": {},
   "outputs": [],
   "source": [
    "all_d_drop['rel_day']=pd.to_numeric(all_d_drop['rel_day'])"
   ]
  },
  {
   "cell_type": "code",
   "execution_count": null,
   "metadata": {},
   "outputs": [],
   "source": [
    "all_d_filter=all_d_drop[(all_d_drop['rel_day']<=5 )& (all_d_drop['rel_day']>=-5)]"
   ]
  },
  {
   "cell_type": "code",
   "execution_count": null,
   "metadata": {
    "scrolled": true
   },
   "outputs": [],
   "source": [
    "all_d_filter.iloc[10000:20000]"
   ]
  },
  {
   "cell_type": "code",
   "execution_count": null,
   "metadata": {},
   "outputs": [],
   "source": [
    "all_d_filter['car']=all_d_filter['ar'].groupby(all_d_filter['permno']).cumsum()"
   ]
  },
  {
   "cell_type": "code",
   "execution_count": null,
   "metadata": {},
   "outputs": [],
   "source": [
    "all_d_filter['sample']='the others'\n",
    "all_d_filter['IRECCD']=pd.to_numeric(all_d_filter['IRECCD'])\n",
    "all_d_filter.loc[all_d_filter.IRECCD==1, 'sample'] = 'strong buy' \n",
    "all_d_filter.loc[all_d_filter.IRECCD==2, 'sample'] =  'buy'"
   ]
  },
  {
   "cell_type": "code",
   "execution_count": null,
   "metadata": {},
   "outputs": [],
   "source": [
    "all_d_filter.sort_values(by=['sample','rel_day'], inplace=True)\n",
    "mcar=all_d_filter['car'].groupby([all_d_filter['sample'],all_d_filter['rel_day']]).mean()\n",
    "ncar=all_d_filter['car'].groupby([all_d_filter['sample'],all_d_filter['rel_day']]).count()\n",
    "mar=all_d_filter['ar'].groupby([all_d_filter['sample'],all_d_filter['rel_day']]).mean()\n",
    "nar=all_d_filter['ar'].groupby([all_d_filter['sample'],all_d_filter['rel_day']]).count()"
   ]
  },
  {
   "cell_type": "markdown",
   "metadata": {},
   "source": [
    "<div class='alert alert-block alert-info'>\n",
    " <b>debug</b>!\n",
    "</div>"
   ]
  },
  {
   "cell_type": "code",
   "execution_count": null,
   "metadata": {},
   "outputs": [],
   "source": [
    "all_d_filter[(all_d_filter['sample']=='buy')&(all_d_filter['rel_day']==-5)].shape[0]"
   ]
  },
  {
   "cell_type": "code",
   "execution_count": null,
   "metadata": {},
   "outputs": [],
   "source": [
    "all_d_filter[(all_d_filter['sample']=='buy')&(all_d_filter['rel_day']==-4)].shape[0]"
   ]
  },
  {
   "cell_type": "code",
   "execution_count": null,
   "metadata": {},
   "outputs": [],
   "source": [
    "np.unique(all_d_filter[(all_d_filter['sample']=='buy')&(all_d_filter['rel_day']==-5)]['permno'],return_counts=1)[0].shape"
   ]
  },
  {
   "cell_type": "code",
   "execution_count": null,
   "metadata": {},
   "outputs": [],
   "source": [
    "np.unique(all_d_filter[(all_d_filter['sample']=='buy')&(all_d_filter['rel_day']==-4)]['permno'],return_counts=1)[0].shape"
   ]
  },
  {
   "cell_type": "code",
   "execution_count": null,
   "metadata": {},
   "outputs": [],
   "source": [
    "np.setdiff1d(np.array(all_d_filter[(all_d_filter['sample']=='buy')&(all_d_filter['rel_day']==-1)]['permno']),\n",
    "             np.array(all_d_filter[(all_d_filter['sample']=='buy')&(all_d_filter['rel_day']==-3)]['permno']),\n",
    "    )"
   ]
  },
  {
   "cell_type": "code",
   "execution_count": null,
   "metadata": {},
   "outputs": [],
   "source": [
    "np.array(all_d_filter[(all_d_filter['sample']=='buy')&(all_d_filter['rel_day']==-4)]['permno'])"
   ]
  },
  {
   "cell_type": "code",
   "execution_count": null,
   "metadata": {
    "scrolled": true
   },
   "outputs": [],
   "source": [
    "all_d_filter[all_d_filter['permno'] ==87495.]"
   ]
  },
  {
   "cell_type": "code",
   "execution_count": null,
   "metadata": {},
   "outputs": [],
   "source": [
    "all_d_filter[all_d_filter['permno'] ==86171.0]"
   ]
  },
  {
   "cell_type": "code",
   "execution_count": null,
   "metadata": {},
   "outputs": [],
   "source": [
    "all_d[all_d['permno'] ==87495]"
   ]
  },
  {
   "cell_type": "code",
   "execution_count": null,
   "metadata": {},
   "outputs": [],
   "source": [
    "all_d_filter['car'].groupby([all_d_filter['sample'],all_d_filter['rel_day']]).count()"
   ]
  },
  {
   "cell_type": "code",
   "execution_count": null,
   "metadata": {},
   "outputs": [],
   "source": [
    "all_d_filter.groupby([all_d_filter['permno']]).count()['rel_day'].iloc[np.where(all_d_filter.groupby([all_d_filter['permno']]).count()['rel_day'] !=11)]"
   ]
  },
  {
   "cell_type": "markdown",
   "metadata": {},
   "source": [
    "<div class='alert alert-block alert-success'>\n",
    " <b>Debug结束</b>\n",
    "</div>"
   ]
  },
  {
   "cell_type": "markdown",
   "metadata": {},
   "source": [
    "### 如果你想filter掉不等于11的那些异常值的话："
   ]
  },
  {
   "cell_type": "code",
   "execution_count": null,
   "metadata": {},
   "outputs": [],
   "source": [
    "rel_missing_permno_ind = all_d_filter.groupby([all_d_filter['permno']]).count()['rel_day'].iloc[\\\n",
    "                        np.where(all_d_filter.groupby([all_d_filter['permno']]).count()['rel_day'] !=11)].index\n",
    "rel_missing_permno_ind"
   ]
  },
  {
   "cell_type": "code",
   "execution_count": null,
   "metadata": {},
   "outputs": [],
   "source": [
    "all_d_filter.sort_values(by=['sample','rel_day'], inplace=True)\n",
    "all_d_drop_rel_missing = all_d_filter[~np.isin(all_d_filter['permno'],rel_missing_permno_ind)]\n",
    "#all_d_drop_rel_missing是去除了有问题的permno的结果"
   ]
  },
  {
   "cell_type": "code",
   "execution_count": null,
   "metadata": {},
   "outputs": [],
   "source": [
    "all_d_drop_rel_missing.groupby([all_d_drop_rel_missing['permno']]).count()['rel_day'].iloc[\\\n",
    "        np.where(all_d_drop_rel_missing.groupby([all_d_drop_rel_missing['permno']]).count()['rel_day'] !=11)].index"
   ]
  },
  {
   "cell_type": "code",
   "execution_count": null,
   "metadata": {},
   "outputs": [],
   "source": [
    "def get_mean_count_value(df,key):\n",
    "    '''\n",
    "    get mean and count, groupby sample and rel day\n",
    "    '''\n",
    "    mean=df[key].groupby([df['sample'],df['rel_day']]).mean()\n",
    "    count=df[key].groupby([df['sample'],df['rel_day']]).count()\n",
    "    return mean,count"
   ]
  },
  {
   "cell_type": "code",
   "execution_count": null,
   "metadata": {},
   "outputs": [],
   "source": [
    "#mcar=all_d_filter['car'].groupby([all_d_filter['sample'],all_d_filter['rel_day']]).mean()\n",
    "#ncar=all_d_filter['car'].groupby([all_d_filter['sample'],all_d_filter['rel_day']]).count()\n",
    "#mar=all_d_filter['ar'].groupby([all_d_filter['sample'],all_d_filter['rel_day']]).mean()\n",
    "#nar=all_d_filter['ar'].groupby([all_d_filter['sample'],all_d_filter['rel_day']]).count()"
   ]
  },
  {
   "cell_type": "code",
   "execution_count": null,
   "metadata": {
    "scrolled": true
   },
   "outputs": [],
   "source": [
    "mcar,ncar = get_mean_count_value(all_d_drop_rel_missing,'car')\n",
    "mar,nar = get_mean_count_value(all_d_drop_rel_missing,'ar')"
   ]
  },
  {
   "cell_type": "code",
   "execution_count": null,
   "metadata": {},
   "outputs": [],
   "source": [
    "all_d_drop_rel_missing.groupby([all_d_drop_rel_missing['sample']]).mean()"
   ]
  },
  {
   "cell_type": "code",
   "execution_count": null,
   "metadata": {},
   "outputs": [],
   "source": [
    "all_d_drop_rel_missing.groupby([all_d_drop_rel_missing['rel_day']]).mean()"
   ]
  },
  {
   "cell_type": "code",
   "execution_count": null,
   "metadata": {},
   "outputs": [],
   "source": [
    "np.unique(all_d_drop_rel_missing['sample'])"
   ]
  },
  {
   "cell_type": "code",
   "execution_count": null,
   "metadata": {},
   "outputs": [],
   "source": [
    "np.unique(all_d_drop_rel_missing['rel_day'])"
   ]
  },
  {
   "cell_type": "code",
   "execution_count": null,
   "metadata": {},
   "outputs": [],
   "source": [
    "from scipy.stats import ttest_1samp"
   ]
  },
  {
   "cell_type": "code",
   "execution_count": null,
   "metadata": {
    "scrolled": true
   },
   "outputs": [],
   "source": [
    "for i in np.unique(all_d_drop_rel_missing['sample']):\n",
    "    for j in np.unique(all_d_drop_rel_missing['rel_day']):\n",
    "        #display(all_d_drop_rel_missing[(all_d_drop_rel_missing['sample']==i)&(all_d_drop_rel_missing['rel_day']==j)])\n",
    "        tmpar = all_d_drop_rel_missing[(all_d_drop_rel_missing['sample']==i)&(all_d_drop_rel_missing['rel_day']==j)]['ar']\n",
    "        print ( i,j)\n",
    "        print (ttest_1samp(tmpar, 0) )\n",
    "        print (np.mean(tmpar*100))"
   ]
  },
  {
   "cell_type": "code",
   "execution_count": null,
   "metadata": {
    "scrolled": true
   },
   "outputs": [],
   "source": [
    "def t_test_table(testkey):\n",
    "    testtable = pd.DataFrame(index=np.unique(all_d_drop_rel_missing['rel_day']),columns=np.unique(all_d_drop_rel_missing['sample']))\n",
    "    testtable_pvalue  = pd.DataFrame(index=np.unique(all_d_drop_rel_missing['rel_day']),columns=np.unique(all_d_drop_rel_missing['sample']))\n",
    "    for i in np.unique(all_d_drop_rel_missing['sample']):\n",
    "        for j in np.unique(all_d_drop_rel_missing['rel_day']):\n",
    "            #display(all_d_drop_rel_missing[(all_d_drop_rel_missing['sample']==i)&(all_d_drop_rel_missing['rel_day']==j)])\n",
    "            tmpcar = all_d_drop_rel_missing[(all_d_drop_rel_missing['sample']==i)&(all_d_drop_rel_missing['rel_day']==j)][testkey]\n",
    "            testtable.loc[j,i] = ttest_1samp(tmpcar, 0)[0]\n",
    "            testtable_pvalue.loc[j,i] = ttest_1samp(tmpcar, 0)[1]\n",
    "            #print ( i,j)\n",
    "            #print (ttest_1samp(tmpcar, 0) )\n",
    "            #print (np.mean(tmpcar*100))\n",
    "    return testtable,testtable_pvalue\n",
    "\n",
    "ar_testtable,ar_testtable_pvalue = t_test_table('ar')\n",
    "car_testtable,car_testtable_pvalue = t_test_table('car')"
   ]
  },
  {
   "cell_type": "code",
   "execution_count": null,
   "metadata": {},
   "outputs": [],
   "source": [
    "display(ar_testtable)\n",
    "display(ar_testtable_pvalue)"
   ]
  },
  {
   "cell_type": "code",
   "execution_count": null,
   "metadata": {
    "scrolled": true
   },
   "outputs": [],
   "source": [
    "all_d_drop_rel_missing.groupby([all_d_drop_rel_missing['sample'],all_d_drop_rel_missing['rel_day']]).mean()*100"
   ]
  },
  {
   "cell_type": "markdown",
   "metadata": {},
   "source": [
    "## plot"
   ]
  },
  {
   "cell_type": "code",
   "execution_count": null,
   "metadata": {},
   "outputs": [],
   "source": [
    "mcar.index.levels[0]"
   ]
  },
  {
   "cell_type": "code",
   "execution_count": null,
   "metadata": {},
   "outputs": [],
   "source": [
    "mcar.index.levels[1]"
   ]
  },
  {
   "cell_type": "code",
   "execution_count": null,
   "metadata": {},
   "outputs": [],
   "source": [
    "np.arange(-5,5)"
   ]
  },
  {
   "cell_type": "code",
   "execution_count": null,
   "metadata": {},
   "outputs": [],
   "source": [
    "np.arange(-5,6)"
   ]
  },
  {
   "cell_type": "code",
   "execution_count": null,
   "metadata": {},
   "outputs": [],
   "source": [
    "#x轴是-5到5，然后Y轴是car,也就是cumulative abnormal return, 然后分sample画三条，我还在研究你不用管它\n",
    "fig,ax=plt.subplots(figsize=(10,6))\n",
    "markers = ['o','v','x']\n",
    "for i in range(3):\n",
    "    ax.plot(np.arange(mcar.index.levels[1][0],mcar.index.levels[1][-1]+1),np.array(mcar[mcar.index.levels[0][i]]),\n",
    "               label=mcar.index.levels[0][i],linewidth=3)\n",
    "    ax.scatter(np.arange(mcar.index.levels[1][0],mcar.index.levels[1][-1]+1),np.array(mcar[mcar.index.levels[0][i]]),\n",
    "               label=mcar.index.levels[0][i],marker=markers[i])\n",
    "    ax.set_xlim(mcar.index.levels[1][0],mcar.index.levels[1][-1])\n",
    "ax.legend()    \n",
    "ax.set_title('MCAR',fontweight='bold',fontsize=20)"
   ]
  },
  {
   "cell_type": "code",
   "execution_count": null,
   "metadata": {},
   "outputs": [],
   "source": [
    "from bokeh.io import output_notebook,reset_output\n",
    "reset_output()\n",
    "output_notebook()\n",
    "from bokeh.plotting import figure, output_file, show\n",
    "from bokeh.models import Legend"
   ]
  },
  {
   "cell_type": "code",
   "execution_count": null,
   "metadata": {},
   "outputs": [],
   "source": [
    "p = figure(plot_width=800, plot_height=400)\n",
    "\n",
    "p.title.text = \"MCAR\"\n",
    "p.title.align = \"center\"\n",
    "p.title.text_color = \"orange\"\n",
    "p.title.text_font_size = \"25px\"\n",
    "p.title.background_fill_color = \"blue\"\n",
    "colors = ['red','green','blue']\n",
    "\n",
    "c = {}\n",
    "d = {}\n",
    "for i in range(3):\n",
    "    c[i] = p.line(np.arange(mcar.index.levels[1][0],mcar.index.levels[1][-1]+1),np.array(mcar[mcar.index.levels[0][i]]),\n",
    "               line_width=3,line_color=colors[i],)\n",
    "    d[i] = p.square(np.arange(mcar.index.levels[1][0],mcar.index.levels[1][-1]+1),np.array(mcar[mcar.index.levels[0][i]]),\n",
    "        fill_color=None, line_color=colors[i])\n",
    "\n",
    "legend = Legend(items=[(mcar.index.levels[0][i],[c[i],d[i]])for i in range(3)], location=(0, -30))\n",
    "p.add_layout(legend, 'right')\n",
    "\n",
    "show(p)"
   ]
  },
  {
   "cell_type": "code",
   "execution_count": null,
   "metadata": {},
   "outputs": [],
   "source": [
    "np.array(mcar[mcar.index.levels[0][0]])"
   ]
  },
  {
   "cell_type": "code",
   "execution_count": null,
   "metadata": {},
   "outputs": [],
   "source": [
    "mcar[mcar.index.levels[0][0]]"
   ]
  },
  {
   "cell_type": "code",
   "execution_count": null,
   "metadata": {},
   "outputs": [],
   "source": [
    "plt.figure(figsize=(10,6))\n",
    "plt.plot(np.array(mar[mar.index.levels[0][0]]))\n",
    "plt.plot(np.array(mar[mar.index.levels[0][1]]))\n",
    "plt.plot(np.array(mar[mar.index.levels[0][2]]))"
   ]
  },
  {
   "cell_type": "code",
   "execution_count": null,
   "metadata": {},
   "outputs": [],
   "source": []
  },
  {
   "cell_type": "code",
   "execution_count": null,
   "metadata": {},
   "outputs": [],
   "source": []
  }
 ],
 "metadata": {
  "kernelspec": {
   "display_name": "Python 3",
   "language": "python",
   "name": "python3"
  },
  "language_info": {
   "codemirror_mode": {
    "name": "ipython",
    "version": 3
   },
   "file_extension": ".py",
   "mimetype": "text/x-python",
   "name": "python",
   "nbconvert_exporter": "python",
   "pygments_lexer": "ipython3",
   "version": "3.7.3"
  },
  "toc": {
   "base_numbering": 1,
   "nav_menu": {},
   "number_sections": true,
   "sideBar": true,
   "skip_h1_title": false,
   "title_cell": "Table of Contents",
   "title_sidebar": "Contents",
   "toc_cell": false,
   "toc_position": {},
   "toc_section_display": true,
   "toc_window_display": false
  }
 },
 "nbformat": 4,
 "nbformat_minor": 2
}
