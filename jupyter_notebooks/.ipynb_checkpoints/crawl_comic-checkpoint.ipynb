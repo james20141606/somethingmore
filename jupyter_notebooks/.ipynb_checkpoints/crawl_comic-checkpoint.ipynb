{
 "cells": [
  {
   "cell_type": "code",
   "execution_count": 1,
   "metadata": {},
   "outputs": [
    {
     "name": "stdout",
     "output_type": "stream",
     "text": [
      "Populating the interactive namespace from numpy and matplotlib\n"
     ]
    }
   ],
   "source": [
    "import gc, argparse, sys, os, errno\n",
    "%pylab inline\n",
    "import numpy as np\n",
    "import pandas as pd\n",
    "import matplotlib.pyplot as plt\n",
    "import seaborn as sns\n",
    "#sns.set()\n",
    "#sns.set_style('whitegrid')\n",
    "import h5py\n",
    "from PIL import Image\n",
    "import os\n",
    "from tqdm.notebook import tqdm\n",
    "import scipy\n",
    "import sklearn\n",
    "from scipy.stats import pearsonr\n",
    "import warnings\n",
    "warnings.filterwarnings('ignore')"
   ]
  },
  {
   "cell_type": "code",
   "execution_count": 2,
   "metadata": {},
   "outputs": [],
   "source": [
    "from selenium import webdriver\n",
    "import requests"
   ]
  },
  {
   "cell_type": "code",
   "execution_count": 3,
   "metadata": {},
   "outputs": [],
   "source": [
    "def mkdir(path):\n",
    "    '''\n",
    "    防止目录存在\n",
    "    '''\n",
    "    if not os.path.exists(path):\n",
    "        os.makedirs(path)\n",
    "\n",
    "\n",
    "def SavePic(filename, url):\n",
    "    '''\n",
    "    通过requests库\n",
    "    将抓取到的图片保存到本地\n",
    "    '''\n",
    "    content = requests.get(url).content\n",
    "    with open(filename, 'wb') as f:\n",
    "        f.write(content)"
   ]
  },
  {
   "cell_type": "code",
   "execution_count": 14,
   "metadata": {},
   "outputs": [],
   "source": []
  },
  {
   "cell_type": "markdown",
   "metadata": {},
   "source": [
    "SavePic( 'comic_crawl/test/test.png','http://www.xmanhua.com/m130497/#ipg5' )\n",
    "browser.title.split('_')[]\n",
    "browser.find_element_by_id('cp_image').get_attribute('src')\n",
    "len(browser.find_elements_by_class_name('chapterpage'))\n",
    "browser.find_elements_by_class_name('chapterpage')[2].get_attribute(\"href\")\n",
    "SavePic('comic_crawl/test/周刊174/1.jpg', browser.find_element_by_id('cp_image').get_attribute('src'))"
   ]
  },
  {
   "cell_type": "code",
   "execution_count": 74,
   "metadata": {},
   "outputs": [],
   "source": [
    "basedir = 'comic_crawl/huiye/'\n",
    "mkdir(basedir)"
   ]
  },
  {
   "cell_type": "code",
   "execution_count": 67,
   "metadata": {},
   "outputs": [],
   "source": [
    "comic_url = 'http://xmanhua.com/60xm/'\n",
    "browser = webdriver.PhantomJS()\n",
    "browser.get(comic_url)\n",
    "browser.implicitly_wait(3)"
   ]
  },
  {
   "cell_type": "code",
   "execution_count": 73,
   "metadata": {},
   "outputs": [],
   "source": [
    "comic_list = []\n",
    "for i in range(len(browser.find_elements_by_class_name('detail-list-form-item'))):\n",
    "    comic_list.append(browser.find_elements_by_class_name('detail-list-form-item')[i].get_attribute(\"href\"))"
   ]
  },
  {
   "cell_type": "code",
   "execution_count": 75,
   "metadata": {},
   "outputs": [
    {
     "data": {
      "text/plain": [
       "['http://xmanhua.com/m130497/',\n",
       " 'http://xmanhua.com/m128587/',\n",
       " 'http://xmanhua.com/m127132/',\n",
       " 'http://xmanhua.com/m125914/',\n",
       " 'http://xmanhua.com/m125678/',\n",
       " 'http://xmanhua.com/m123116/',\n",
       " 'http://xmanhua.com/m122065/',\n",
       " 'http://xmanhua.com/m120667/',\n",
       " 'http://xmanhua.com/m119516/',\n",
       " 'http://xmanhua.com/m118032/',\n",
       " 'http://xmanhua.com/m116099/',\n",
       " 'http://xmanhua.com/m115013/',\n",
       " 'http://xmanhua.com/m114432/',\n",
       " 'http://xmanhua.com/m113247/',\n",
       " 'http://xmanhua.com/m112752/',\n",
       " 'http://xmanhua.com/m112730/',\n",
       " 'http://xmanhua.com/m112542/',\n",
       " 'http://xmanhua.com/m111482/',\n",
       " 'http://xmanhua.com/m108936/',\n",
       " 'http://xmanhua.com/m108935/',\n",
       " 'http://xmanhua.com/m108934/',\n",
       " 'http://xmanhua.com/m108933/',\n",
       " 'http://xmanhua.com/m108932/',\n",
       " 'http://xmanhua.com/m108931/',\n",
       " 'http://xmanhua.com/m91952/',\n",
       " 'http://xmanhua.com/m81173/',\n",
       " 'http://xmanhua.com/m81172/',\n",
       " 'http://xmanhua.com/m80685/',\n",
       " 'http://xmanhua.com/m80684/',\n",
       " 'http://xmanhua.com/m80683/',\n",
       " 'http://xmanhua.com/m80682/',\n",
       " 'http://xmanhua.com/m80681/',\n",
       " 'http://xmanhua.com/m80680/',\n",
       " 'http://xmanhua.com/m80679/',\n",
       " 'http://xmanhua.com/m80678/',\n",
       " 'http://xmanhua.com/m31591/',\n",
       " 'http://xmanhua.com/m17858/',\n",
       " 'http://xmanhua.com/m17857/',\n",
       " 'http://xmanhua.com/m17856/',\n",
       " 'http://xmanhua.com/m13548/',\n",
       " 'http://xmanhua.com/m13459/',\n",
       " 'http://xmanhua.com/m13458/',\n",
       " 'http://xmanhua.com/m13457/',\n",
       " 'http://xmanhua.com/m13456/',\n",
       " 'http://xmanhua.com/m13165/',\n",
       " 'http://xmanhua.com/m13157/',\n",
       " 'http://xmanhua.com/m13154/',\n",
       " 'http://xmanhua.com/m13153/',\n",
       " 'http://xmanhua.com/m13152/',\n",
       " 'http://xmanhua.com/m13151/',\n",
       " 'http://xmanhua.com/m9415/',\n",
       " 'http://xmanhua.com/m9414/',\n",
       " 'http://xmanhua.com/m9413/',\n",
       " 'http://xmanhua.com/m9412/',\n",
       " 'http://xmanhua.com/m9411/',\n",
       " 'http://xmanhua.com/m9410/',\n",
       " 'http://xmanhua.com/m9407/',\n",
       " 'http://xmanhua.com/m9409/',\n",
       " 'http://xmanhua.com/m9408/',\n",
       " 'http://xmanhua.com/m9406/',\n",
       " 'http://xmanhua.com/m9405/',\n",
       " 'http://xmanhua.com/m9404/',\n",
       " 'http://xmanhua.com/m9403/',\n",
       " 'http://xmanhua.com/m9402/',\n",
       " 'http://xmanhua.com/m9400/',\n",
       " 'http://xmanhua.com/m9401/',\n",
       " 'http://xmanhua.com/m9398/',\n",
       " 'http://xmanhua.com/m9397/',\n",
       " 'http://xmanhua.com/m9396/',\n",
       " 'http://xmanhua.com/m9395/',\n",
       " 'http://xmanhua.com/m9393/',\n",
       " 'http://xmanhua.com/m9392/',\n",
       " 'http://xmanhua.com/m9383/',\n",
       " 'http://xmanhua.com/m9394/',\n",
       " 'http://xmanhua.com/m9391/',\n",
       " 'http://xmanhua.com/m9390/',\n",
       " 'http://xmanhua.com/m9384/',\n",
       " 'http://xmanhua.com/m9382/',\n",
       " 'http://xmanhua.com/m9381/',\n",
       " 'http://xmanhua.com/m9380/',\n",
       " 'http://xmanhua.com/m9379/',\n",
       " 'http://xmanhua.com/m9378/',\n",
       " 'http://xmanhua.com/m9377/',\n",
       " 'http://xmanhua.com/m9376/',\n",
       " 'http://xmanhua.com/m9375/',\n",
       " 'http://xmanhua.com/m9374/',\n",
       " 'http://xmanhua.com/m9373/',\n",
       " 'http://xmanhua.com/m9372/',\n",
       " 'http://xmanhua.com/m9371/',\n",
       " 'http://xmanhua.com/m9370/',\n",
       " 'http://xmanhua.com/m9369/',\n",
       " 'http://xmanhua.com/m9368/',\n",
       " 'http://xmanhua.com/m9367/',\n",
       " 'http://xmanhua.com/m9366/',\n",
       " 'http://xmanhua.com/m9365/',\n",
       " 'http://xmanhua.com/m9364/',\n",
       " 'http://xmanhua.com/m9363/',\n",
       " 'http://xmanhua.com/m9362/',\n",
       " 'http://xmanhua.com/m9361/',\n",
       " 'http://xmanhua.com/m9360/',\n",
       " 'http://xmanhua.com/m9359/',\n",
       " 'http://xmanhua.com/m9358/',\n",
       " 'http://xmanhua.com/m9357/',\n",
       " 'http://xmanhua.com/m9356/',\n",
       " 'http://xmanhua.com/m9355/',\n",
       " 'http://xmanhua.com/m9354/',\n",
       " 'http://xmanhua.com/m9353/',\n",
       " 'http://xmanhua.com/m9352/',\n",
       " 'http://xmanhua.com/m9351/',\n",
       " 'http://xmanhua.com/m9350/',\n",
       " 'http://xmanhua.com/m9349/',\n",
       " 'http://xmanhua.com/m9348/',\n",
       " 'http://xmanhua.com/m9347/',\n",
       " 'http://xmanhua.com/m9346/',\n",
       " 'http://xmanhua.com/m9345/',\n",
       " 'http://xmanhua.com/m9344/',\n",
       " 'http://xmanhua.com/m9343/',\n",
       " 'http://xmanhua.com/m9342/',\n",
       " 'http://xmanhua.com/m9341/',\n",
       " 'http://xmanhua.com/m9340/',\n",
       " 'http://xmanhua.com/m9339/',\n",
       " 'http://xmanhua.com/m9338/',\n",
       " 'http://xmanhua.com/m9337/',\n",
       " 'http://xmanhua.com/m9336/',\n",
       " 'http://xmanhua.com/m9335/',\n",
       " 'http://xmanhua.com/m9334/',\n",
       " 'http://xmanhua.com/m9333/',\n",
       " 'http://xmanhua.com/m9332/',\n",
       " 'http://xmanhua.com/m9331/',\n",
       " 'http://xmanhua.com/m9330/',\n",
       " 'http://xmanhua.com/m9329/',\n",
       " 'http://xmanhua.com/m9328/',\n",
       " 'http://xmanhua.com/m9327/',\n",
       " 'http://xmanhua.com/m9326/',\n",
       " 'http://xmanhua.com/m9325/',\n",
       " 'http://xmanhua.com/m9324/',\n",
       " 'http://xmanhua.com/m9323/',\n",
       " 'http://xmanhua.com/m9322/',\n",
       " 'http://xmanhua.com/m9321/',\n",
       " 'http://xmanhua.com/m9320/',\n",
       " 'http://xmanhua.com/m9399/',\n",
       " 'http://xmanhua.com/m9319/',\n",
       " 'http://xmanhua.com/m9318/',\n",
       " 'http://xmanhua.com/m9317/',\n",
       " 'http://xmanhua.com/m9316/',\n",
       " 'http://xmanhua.com/m9312/',\n",
       " 'http://xmanhua.com/m9311/',\n",
       " 'http://xmanhua.com/m9310/',\n",
       " 'http://xmanhua.com/m9309/',\n",
       " 'http://xmanhua.com/m9314/',\n",
       " 'http://xmanhua.com/m9313/',\n",
       " 'http://xmanhua.com/m9308/',\n",
       " 'http://xmanhua.com/m9305/',\n",
       " 'http://xmanhua.com/m9315/',\n",
       " 'http://xmanhua.com/m9304/',\n",
       " 'http://xmanhua.com/m9302/',\n",
       " 'http://xmanhua.com/m9301/',\n",
       " 'http://xmanhua.com/m9300/',\n",
       " 'http://xmanhua.com/m9283/',\n",
       " 'http://xmanhua.com/m9287/',\n",
       " 'http://xmanhua.com/m9286/',\n",
       " 'http://xmanhua.com/m9299/',\n",
       " 'http://xmanhua.com/m9298/',\n",
       " 'http://xmanhua.com/m9297/',\n",
       " 'http://xmanhua.com/m9296/',\n",
       " 'http://xmanhua.com/m9295/',\n",
       " 'http://xmanhua.com/m9307/',\n",
       " 'http://xmanhua.com/m9306/',\n",
       " 'http://xmanhua.com/m9294/',\n",
       " 'http://xmanhua.com/m9293/',\n",
       " 'http://xmanhua.com/m9292/',\n",
       " 'http://xmanhua.com/m9291/',\n",
       " 'http://xmanhua.com/m9290/',\n",
       " 'http://xmanhua.com/m9289/',\n",
       " 'http://xmanhua.com/m9303/',\n",
       " 'http://xmanhua.com/m9288/',\n",
       " 'http://xmanhua.com/m9285/',\n",
       " 'http://xmanhua.com/m9284/',\n",
       " 'http://xmanhua.com/m9281/',\n",
       " 'http://xmanhua.com/m9282/',\n",
       " 'http://xmanhua.com/m9280/',\n",
       " 'http://xmanhua.com/m9279/',\n",
       " 'http://xmanhua.com/m9278/',\n",
       " 'http://xmanhua.com/m9277/',\n",
       " 'http://xmanhua.com/m9276/',\n",
       " 'http://xmanhua.com/m9275/',\n",
       " 'http://xmanhua.com/m9274/',\n",
       " 'http://xmanhua.com/m9273/',\n",
       " 'http://xmanhua.com/m9272/',\n",
       " 'http://xmanhua.com/m9271/',\n",
       " 'http://xmanhua.com/m9270/',\n",
       " 'http://xmanhua.com/m9269/',\n",
       " 'http://xmanhua.com/m9268/',\n",
       " 'http://xmanhua.com/m9267/',\n",
       " 'http://xmanhua.com/m9266/',\n",
       " 'http://xmanhua.com/m9265/',\n",
       " 'http://xmanhua.com/m9264/',\n",
       " 'http://xmanhua.com/m9263/',\n",
       " 'http://xmanhua.com/m9262/',\n",
       " 'http://xmanhua.com/m9261/',\n",
       " 'http://xmanhua.com/m9260/',\n",
       " 'http://xmanhua.com/m9259/',\n",
       " 'http://xmanhua.com/m9258/',\n",
       " 'http://xmanhua.com/m9257/',\n",
       " 'http://xmanhua.com/m9256/',\n",
       " 'http://xmanhua.com/m9255/',\n",
       " 'http://xmanhua.com/m9254/',\n",
       " 'http://xmanhua.com/m9253/',\n",
       " 'http://xmanhua.com/m9252/',\n",
       " 'http://xmanhua.com/m9251/',\n",
       " 'http://xmanhua.com/m9250/',\n",
       " 'http://xmanhua.com/m9249/',\n",
       " 'http://xmanhua.com/m9389/',\n",
       " 'http://xmanhua.com/m9388/',\n",
       " 'http://xmanhua.com/m9387/',\n",
       " 'http://xmanhua.com/m9386/',\n",
       " 'http://xmanhua.com/m9385/']"
      ]
     },
     "execution_count": 75,
     "metadata": {},
     "output_type": "execute_result"
    }
   ],
   "source": [
    "comic_list"
   ]
  },
  {
   "cell_type": "code",
   "execution_count": null,
   "metadata": {},
   "outputs": [
    {
     "data": {
      "application/vnd.jupyter.widget-view+json": {
       "model_id": "e5d7d13889be4f72a5f2b068b5371da0",
       "version_major": 2,
       "version_minor": 0
      },
      "text/plain": [
       "HBox(children=(FloatProgress(value=0.0, max=217.0), HTML(value='')))"
      ]
     },
     "metadata": {},
     "output_type": "display_data"
    },
    {
     "data": {
      "application/vnd.jupyter.widget-view+json": {
       "model_id": "11a4af7697094b40a4a21db8981312aa",
       "version_major": 2,
       "version_minor": 0
      },
      "text/plain": [
       "HBox(children=(FloatProgress(value=0.0, max=20.0), HTML(value='')))"
      ]
     },
     "metadata": {},
     "output_type": "display_data"
    },
    {
     "name": "stdout",
     "output_type": "stream",
     "text": [
      "\n",
      "当前章节\t輝夜大小姐想讓我告白 ~天才們的戀愛頭腦戰~漫畫_周刊185_輝夜大小姐想讓我告白 ~天才們的戀愛頭腦戰~漫畫在線閱讀</漫畫名></章節顯示名></漫畫名>  下载完毕\n"
     ]
    },
    {
     "data": {
      "application/vnd.jupyter.widget-view+json": {
       "model_id": "03c19b9e577f42f181f4246a4c7e9249",
       "version_major": 2,
       "version_minor": 0
      },
      "text/plain": [
       "HBox(children=(FloatProgress(value=0.0, max=21.0), HTML(value='')))"
      ]
     },
     "metadata": {},
     "output_type": "display_data"
    },
    {
     "name": "stdout",
     "output_type": "stream",
     "text": [
      "\n",
      "当前章节\t輝夜大小姐想讓我告白 ~天才們的戀愛頭腦戰~漫畫_周刊184_輝夜大小姐想讓我告白 ~天才們的戀愛頭腦戰~漫畫在線閱讀</漫畫名></章節顯示名></漫畫名>  下载完毕\n"
     ]
    },
    {
     "data": {
      "application/vnd.jupyter.widget-view+json": {
       "model_id": "ddd1a08318cd4ee7ae6667beae20f529",
       "version_major": 2,
       "version_minor": 0
      },
      "text/plain": [
       "HBox(children=(FloatProgress(value=0.0, max=20.0), HTML(value='')))"
      ]
     },
     "metadata": {},
     "output_type": "display_data"
    },
    {
     "name": "stdout",
     "output_type": "stream",
     "text": [
      "\n",
      "当前章节\t輝夜大小姐想讓我告白 ~天才們的戀愛頭腦戰~漫畫_周刊183_輝夜大小姐想讓我告白 ~天才們的戀愛頭腦戰~漫畫在線閱讀</漫畫名></章節顯示名></漫畫名>  下载完毕\n"
     ]
    },
    {
     "data": {
      "application/vnd.jupyter.widget-view+json": {
       "model_id": "60c23147ae9f4328b8c6096cce9d9549",
       "version_major": 2,
       "version_minor": 0
      },
      "text/plain": [
       "HBox(children=(FloatProgress(value=0.0, max=20.0), HTML(value='')))"
      ]
     },
     "metadata": {},
     "output_type": "display_data"
    },
    {
     "name": "stdout",
     "output_type": "stream",
     "text": [
      "\n",
      "当前章节\t輝夜大小姐想讓我告白 ~天才們的戀愛頭腦戰~漫畫_周刊182_輝夜大小姐想讓我告白 ~天才們的戀愛頭腦戰~漫畫在線閱讀</漫畫名></章節顯示名></漫畫名>  下载完毕\n"
     ]
    },
    {
     "data": {
      "application/vnd.jupyter.widget-view+json": {
       "model_id": "0c9f03ffaa6b4ecaa47ff26bf7ead798",
       "version_major": 2,
       "version_minor": 0
      },
      "text/plain": [
       "HBox(children=(FloatProgress(value=0.0, max=23.0), HTML(value='')))"
      ]
     },
     "metadata": {},
     "output_type": "display_data"
    },
    {
     "name": "stdout",
     "output_type": "stream",
     "text": [
      "\n",
      "当前章节\t輝夜大小姐想讓我告白 ~天才們的戀愛頭腦戰~漫畫_彩色版05話_輝夜大小姐想讓我告白 ~天才們的戀愛頭腦戰~漫畫在線閱讀</漫畫名></章節顯示名></漫畫名>  下载完毕\n"
     ]
    },
    {
     "data": {
      "application/vnd.jupyter.widget-view+json": {
       "model_id": "8be96109b29b4bcfb88c62f20379b8f2",
       "version_major": 2,
       "version_minor": 0
      },
      "text/plain": [
       "HBox(children=(FloatProgress(value=0.0, max=19.0), HTML(value='')))"
      ]
     },
     "metadata": {},
     "output_type": "display_data"
    }
   ],
   "source": [
    "browser = webdriver.PhantomJS()\n",
    "#browser = webdriver.Chrome(executable_path='/Users/james/chromedriver')\n",
    "for url in tqdm(comic_list):\n",
    "    try:\n",
    "        browser.get(url)\n",
    "        browser.implicitly_wait(3)\n",
    "\n",
    "        # 创建章节目录\n",
    "        dirname = basedir + '/' + browser.title.split('_')[1]\n",
    "        mkdir(dirname)\n",
    "\n",
    "        # 找到该漫画一共有多少页\n",
    "        #pageNum = len(browser.find_elements_by_tag_name('option'))\n",
    "\n",
    "        # 找到下一页的按钮\n",
    "        #nextpage = browser.find_element_by_xpath('//*[@id=\"AD_j1\"]/div/a[4]')\n",
    "        # 找到图片地址，并点击下一页\n",
    "        #pages = browser.find_elements_by_class_name('chapterpage')#[2].get_attribute(\"href\")\n",
    "        #count = 1\n",
    "        for i in tqdm(range(len(browser.find_elements_by_class_name('chapterpage')))):\n",
    "            #print (page.get_attribute(\"href\"))\n",
    "            browser.get(browser.find_elements_by_class_name('chapterpage')[i].get_attribute(\"href\"))\n",
    "            browser.implicitly_wait(3)\n",
    "            pic_url  = browser.find_element_by_id('cp_image').get_attribute('src')\n",
    "            #pic_url = browser.find_element_by_id('curPic').get_attribute('src')\n",
    "            filename = dirname + '/' + str(i+1) + '.jpg'\n",
    "            SavePic(filename, pic_url)\n",
    "            # 点击下一页的按钮，加载下一张图\n",
    "            #count +=1\n",
    "\n",
    "        print('当前章节\\t{}  下载完毕'.format(browser.title))\n",
    "    except:\n",
    "        print('当前章节\\t{}  下载出错'.format(browser.title)) \n",
    "\n",
    "browser.quit()\n",
    "print('所有章节下载完毕')"
   ]
  },
  {
   "cell_type": "code",
   "execution_count": null,
   "metadata": {},
   "outputs": [],
   "source": []
  }
 ],
 "metadata": {
  "kernelspec": {
   "display_name": "Python 3",
   "language": "python",
   "name": "python3"
  },
  "language_info": {
   "codemirror_mode": {
    "name": "ipython",
    "version": 3
   },
   "file_extension": ".py",
   "mimetype": "text/x-python",
   "name": "python",
   "nbconvert_exporter": "python",
   "pygments_lexer": "ipython3",
   "version": "3.7.6"
  },
  "toc": {
   "base_numbering": 1,
   "nav_menu": {},
   "number_sections": true,
   "sideBar": true,
   "skip_h1_title": false,
   "title_cell": "Table of Contents",
   "title_sidebar": "Contents",
   "toc_cell": false,
   "toc_position": {},
   "toc_section_display": true,
   "toc_window_display": false
  }
 },
 "nbformat": 4,
 "nbformat_minor": 4
}
