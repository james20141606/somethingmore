{
 "cells": [
  {
   "cell_type": "code",
   "execution_count": 46,
   "metadata": {
    "collapsed": true
   },
   "outputs": [],
   "source": [
    "import numpy as np\n",
    "import pandas as pd\n",
    "import sklearn"
   ]
  },
  {
   "cell_type": "code",
   "execution_count": 47,
   "metadata": {
    "collapsed": true
   },
   "outputs": [],
   "source": [
    "from sklearn.linear_model import LogisticRegression"
   ]
  },
  {
   "cell_type": "code",
   "execution_count": 48,
   "metadata": {
    "collapsed": true
   },
   "outputs": [],
   "source": [
    "lg = LogisticRegression()"
   ]
  },
  {
   "cell_type": "code",
   "execution_count": 327,
   "metadata": {},
   "outputs": [
    {
     "data": {
      "text/plain": [
       "u'/Share/home/chenxupeng/projects/math'"
      ]
     },
     "execution_count": 327,
     "metadata": {},
     "output_type": "execute_result"
    }
   ],
   "source": [
    "pwd"
   ]
  },
  {
   "cell_type": "code",
   "execution_count": null,
   "metadata": {},
   "outputs": [],
   "source": []
  },
  {
   "cell_type": "code",
   "execution_count": 268,
   "metadata": {
    "collapsed": true
   },
   "outputs": [],
   "source": [
    "a= np.arange(835)\n",
    "np.random.shuffle(a)"
   ]
  },
  {
   "cell_type": "code",
   "execution_count": 269,
   "metadata": {
    "collapsed": true
   },
   "outputs": [],
   "source": [
    "test_index = {}\n",
    "for i in range(9):\n",
    "    test_index[i] = a[83*i:83*(i+1)]\n",
    "test_index[9] = a[83*9:]"
   ]
  },
  {
   "cell_type": "code",
   "execution_count": null,
   "metadata": {
    "collapsed": true
   },
   "outputs": [],
   "source": []
  },
  {
   "cell_type": "code",
   "execution_count": 270,
   "metadata": {
    "collapsed": true
   },
   "outputs": [],
   "source": [
    "train_index = {}\n",
    "for i in range(10):\n",
    "    train_index[i] = np.setxor1d(a, test_index[i])"
   ]
  },
  {
   "cell_type": "code",
   "execution_count": null,
   "metadata": {},
   "outputs": [],
   "source": []
  },
  {
   "cell_type": "code",
   "execution_count": null,
   "metadata": {
    "collapsed": true
   },
   "outputs": [],
   "source": []
  },
  {
   "cell_type": "code",
   "execution_count": null,
   "metadata": {},
   "outputs": [],
   "source": []
  },
  {
   "cell_type": "code",
   "execution_count": null,
   "metadata": {
    "collapsed": true
   },
   "outputs": [],
   "source": []
  },
  {
   "cell_type": "code",
   "execution_count": null,
   "metadata": {
    "collapsed": true
   },
   "outputs": [],
   "source": []
  },
  {
   "cell_type": "code",
   "execution_count": null,
   "metadata": {
    "collapsed": true
   },
   "outputs": [],
   "source": []
  },
  {
   "cell_type": "code",
   "execution_count": null,
   "metadata": {},
   "outputs": [],
   "source": []
  },
  {
   "cell_type": "code",
   "execution_count": null,
   "metadata": {
    "collapsed": true
   },
   "outputs": [],
   "source": []
  },
  {
   "cell_type": "code",
   "execution_count": null,
   "metadata": {},
   "outputs": [],
   "source": []
  },
  {
   "cell_type": "code",
   "execution_count": null,
   "metadata": {},
   "outputs": [],
   "source": []
  },
  {
   "cell_type": "code",
   "execution_count": null,
   "metadata": {
    "collapsed": true
   },
   "outputs": [],
   "source": []
  },
  {
   "cell_type": "code",
   "execution_count": 271,
   "metadata": {},
   "outputs": [],
   "source": [
    "all = pd.read_table('dataAll.csv',delimiter=',')"
   ]
  },
  {
   "cell_type": "code",
   "execution_count": null,
   "metadata": {},
   "outputs": [],
   "source": []
  },
  {
   "cell_type": "code",
   "execution_count": 272,
   "metadata": {},
   "outputs": [],
   "source": [
    "all = np.asarray(all)\n",
    "price = all[:,8:9]\n"
   ]
  },
  {
   "cell_type": "code",
   "execution_count": 273,
   "metadata": {},
   "outputs": [],
   "source": [
    "a = [0,8]\n",
    "feature = np.delete(all,a,axis=1)"
   ]
  },
  {
   "cell_type": "code",
   "execution_count": null,
   "metadata": {},
   "outputs": [],
   "source": []
  },
  {
   "cell_type": "code",
   "execution_count": null,
   "metadata": {},
   "outputs": [],
   "source": []
  },
  {
   "cell_type": "code",
   "execution_count": null,
   "metadata": {},
   "outputs": [],
   "source": []
  },
  {
   "cell_type": "code",
   "execution_count": null,
   "metadata": {},
   "outputs": [],
   "source": []
  },
  {
   "cell_type": "code",
   "execution_count": 276,
   "metadata": {},
   "outputs": [
    {
     "data": {
      "text/plain": [
       "[0, 8]"
      ]
     },
     "execution_count": 276,
     "metadata": {},
     "output_type": "execute_result"
    }
   ],
   "source": []
  },
  {
   "cell_type": "code",
   "execution_count": 277,
   "metadata": {},
   "outputs": [],
   "source": [
    "a = {}\n",
    "for i in range(26):\n",
    "    a[i] = np.zeros((1, 26))\n",
    "    a[i][0,i] = 1"
   ]
  },
  {
   "cell_type": "code",
   "execution_count": 278,
   "metadata": {},
   "outputs": [],
   "source": [
    "m = np.array([])\n",
    "for i in range(835):\n",
    "    for j in range(26):\n",
    "        if feature[i:i+1,9:] == j:\n",
    "            m = np.concatenate((m, a[j][0]), axis=0)"
   ]
  },
  {
   "cell_type": "code",
   "execution_count": 279,
   "metadata": {},
   "outputs": [],
   "source": [
    "m = m.reshape(-1,26)"
   ]
  },
  {
   "cell_type": "code",
   "execution_count": null,
   "metadata": {},
   "outputs": [],
   "source": []
  },
  {
   "cell_type": "code",
   "execution_count": 280,
   "metadata": {},
   "outputs": [],
   "source": [
    "feature = np.concatenate((feature[:,:9],m),axis = 1).astype(float)"
   ]
  },
  {
   "cell_type": "code",
   "execution_count": 282,
   "metadata": {},
   "outputs": [
    {
     "data": {
      "text/plain": [
       "array([[ 11.,  18.,  16., ...,   0.,   0.,   0.],\n",
       "       [  4.,  24.,   7., ...,   0.,   0.,   0.],\n",
       "       [  7.,  16.,  15., ...,   0.,   0.,   0.],\n",
       "       ..., \n",
       "       [  6.,  12.,   9., ...,   0.,   0.,   0.],\n",
       "       [  9.,  21.,  20., ...,   0.,   0.,   0.],\n",
       "       [  7.,   5.,  10., ...,   0.,   1.,   0.]])"
      ]
     },
     "execution_count": 282,
     "metadata": {},
     "output_type": "execute_result"
    }
   ],
   "source": [
    "feature"
   ]
  },
  {
   "cell_type": "code",
   "execution_count": 283,
   "metadata": {},
   "outputs": [],
   "source": [
    "price = price.ravel()"
   ]
  },
  {
   "cell_type": "code",
   "execution_count": 323,
   "metadata": {
    "collapsed": true
   },
   "outputs": [],
   "source": [
    "training_set = {}\n",
    "test_set = {}\n",
    "training_label = {}\n",
    "test_label = {}\n",
    "for i in range(10):\n",
    "    training_set[i] = feature[train_index[i]]\n",
    "    test_set[i] = feature[test_index[i]]\n",
    "    training_label[i] = price[train_index[i]]\n",
    "    test_label[i] = price[test_index[i]]"
   ]
  },
  {
   "cell_type": "code",
   "execution_count": 306,
   "metadata": {},
   "outputs": [
    {
     "data": {
      "text/plain": [
       "(835,)"
      ]
     },
     "execution_count": 306,
     "metadata": {},
     "output_type": "execute_result"
    }
   ],
   "source": [
    "price.shape"
   ]
  },
  {
   "cell_type": "code",
   "execution_count": null,
   "metadata": {},
   "outputs": [],
   "source": []
  },
  {
   "cell_type": "code",
   "execution_count": null,
   "metadata": {},
   "outputs": [],
   "source": []
  },
  {
   "cell_type": "code",
   "execution_count": 307,
   "metadata": {
    "collapsed": true
   },
   "outputs": [],
   "source": [
    "import sklearn\n",
    "from sklearn.metrics import r2_score\n",
    "from scipy.stats.stats import pearsonr"
   ]
  },
  {
   "cell_type": "code",
   "execution_count": 308,
   "metadata": {},
   "outputs": [],
   "source": [
    "import xgboost\n",
    "from xgboost.sklearn import XGBRegressor\n"
   ]
  },
  {
   "cell_type": "code",
   "execution_count": 309,
   "metadata": {},
   "outputs": [
    {
     "name": "stdout",
     "output_type": "stream",
     "text": [
      "-0.137779023635\n",
      "0.429769731939\n",
      "-0.386029893465\n",
      "-0.213929671322\n",
      "0.616521516208\n",
      "0.0853181101988\n",
      "0.545690690521\n",
      "-0.545996986419\n",
      "-0.0768804749307\n",
      "0.313126411451\n",
      "average:0.062981\n"
     ]
    }
   ],
   "source": [
    "predict = {}\n",
    "r2 = {}\n",
    "sum = 0\n",
    "for i in range(10):\n",
    "    reg = XGBRegressor()\n",
    "    reg.fit(training_set[i],training_label[i])\n",
    "    predict[i] = reg.predict(test_set[i])\n",
    "    r2[i] = r2_score(predict[i],test_label[i])\n",
    "    sum = sum + r2[i]\n",
    "    print r2[i]\n",
    "print 'average:%f' %(sum/10)"
   ]
  },
  {
   "cell_type": "code",
   "execution_count": 310,
   "metadata": {},
   "outputs": [
    {
     "data": {
      "text/plain": [
       "array([0.08885955810546875, -9.200416564941406, 0.10869598388671875,\n",
       "       -0.8942108154296875, -0.05390167236328125, -0.11946868896484375,\n",
       "       0.5062103271484375, 0.5485687255859375, 2.8500442504882812,\n",
       "       0.47219085693359375, -1.9937896728515625, 2.0514373779296875,\n",
       "       0.1894073486328125, -1.6092453002929688, 0.873565673828125,\n",
       "       2.3415985107421875, 2.0486526489257812, 0.31554412841796875,\n",
       "       1.1690597534179688, 0.07921600341796875, -1.8397903442382812,\n",
       "       0.5458755493164062, -0.00830078125, -3.9869308471679688,\n",
       "       -0.48905181884765625, 0.094970703125, 2.8896102905273438,\n",
       "       0.6808853149414062, -0.5124359130859375, 0.2321014404296875,\n",
       "       2.807464599609375, 0.8297348022460938, 0.41506195068359375,\n",
       "       -0.27954864501953125, 1.812530517578125, -5.470207214355469,\n",
       "       -3.9890518188476562, 0.24515533447265625, 0.170135498046875,\n",
       "       0.0062103271484375, 0.36447906494140625, 0.04769134521484375,\n",
       "       -0.12596893310546875, 1.0791397094726562, -1.1744461059570312,\n",
       "       5.129539489746094, 1.3326339721679688, 1.1757583618164062,\n",
       "       -0.17897796630859375, 0.10869598388671875, -3.3038253784179688,\n",
       "       3.1318740844726562, -4.927986145019531, -0.11946868896484375,\n",
       "       0.9197921752929688, -0.8942108154296875, -0.30660247802734375,\n",
       "       5.129539489746094, -6.33856201171875, 0.28221893310546875,\n",
       "       0.04587554931640625, 0.5062103271484375, 2.2296371459960938,\n",
       "       1.81378173828125, 0.08885955810546875, -1.276275634765625,\n",
       "       0.8076248168945312, 0.04587554931640625, -4.329078674316406,\n",
       "       0.10869598388671875, 6.91473388671875, 0.13039398193359375,\n",
       "       0.739654541015625, -0.02777862548828125, 4.155059814453125,\n",
       "       -0.096038818359375, -0.003662109375, 2.0776290893554688,\n",
       "       3.5662002563476562, 1.94622802734375, 0.5851593017578125,\n",
       "       0.24819183349609375, -2.0544967651367188], dtype=object)"
      ]
     },
     "execution_count": 310,
     "metadata": {},
     "output_type": "execute_result"
    }
   ],
   "source": [
    "predict[1] - test_label[1]"
   ]
  },
  {
   "cell_type": "code",
   "execution_count": 311,
   "metadata": {
    "collapsed": true
   },
   "outputs": [],
   "source": [
    "MSE = {}\n",
    "for i in range(10):\n",
    "    MSE[i] = (abs(predict[i] - test_label[i]))**(2)"
   ]
  },
  {
   "cell_type": "code",
   "execution_count": 312,
   "metadata": {},
   "outputs": [
    {
     "name": "stdout",
     "output_type": "stream",
     "text": [
      "12.3009192388\n",
      "5.66630286379\n",
      "15.0386648457\n",
      "14.324204509\n",
      "3.40798154895\n",
      "8.67999838932\n",
      "4.82911085767\n",
      "17.1222704965\n",
      "9.85628227574\n",
      "9.50518566386\n"
     ]
    }
   ],
   "source": [
    "mse = {}\n",
    "for i in range(10):\n",
    "    mse[i] = (np.sum(MSE[i]))/(predict[i].shape[0])\n",
    "    print mse[i]"
   ]
  },
  {
   "cell_type": "code",
   "execution_count": null,
   "metadata": {},
   "outputs": [],
   "source": []
  },
  {
   "cell_type": "code",
   "execution_count": null,
   "metadata": {},
   "outputs": [],
   "source": []
  },
  {
   "cell_type": "code",
   "execution_count": 313,
   "metadata": {},
   "outputs": [
    {
     "name": "stdout",
     "output_type": "stream",
     "text": [
      "average:0.686519\n"
     ]
    }
   ],
   "source": [
    "r2 = {}\n",
    "ix = {}\n",
    "sum = 0\n",
    "\n",
    "for i in range(10):\n",
    "    ix[i] = np.where(MSE[i] > 20)\n",
    "    predict[i] = np.delete(predict[i],ix[i])\n",
    "    test_label[i] = np.delete(test_label[i],ix[i])\n",
    "    r2[i] = r2_score(predict[i],test_label[i])\n",
    "    sum = sum + r2[i]\n",
    "print 'average:%f' %(sum/10)"
   ]
  },
  {
   "cell_type": "code",
   "execution_count": 314,
   "metadata": {},
   "outputs": [
    {
     "data": {
      "text/plain": [
       "{0: 0.76232850478910241,\n",
       " 1: 0.73507947815284058,\n",
       " 2: 0.68933544286820925,\n",
       " 3: 0.69090785889629225,\n",
       " 4: 0.73968222154972918,\n",
       " 5: 0.60941266416977458,\n",
       " 6: 0.69334914259855573,\n",
       " 7: 0.6071983165376531,\n",
       " 8: 0.61252355177781059,\n",
       " 9: 0.72537379615801645}"
      ]
     },
     "execution_count": 314,
     "metadata": {},
     "output_type": "execute_result"
    }
   ],
   "source": [
    "r2"
   ]
  },
  {
   "cell_type": "code",
   "execution_count": 315,
   "metadata": {},
   "outputs": [
    {
     "name": "stdout",
     "output_type": "stream",
     "text": [
      "(9,)\n",
      "(7,)\n",
      "(7,)\n",
      "(13,)\n",
      "(3,)\n",
      "(6,)\n",
      "(6,)\n",
      "(14,)\n",
      "(4,)\n",
      "(10,)\n"
     ]
    }
   ],
   "source": [
    "for i in range(10):\n",
    "    print ix[i][0].shape"
   ]
  },
  {
   "cell_type": "code",
   "execution_count": 318,
   "metadata": {},
   "outputs": [],
   "source": [
    "diff = {}\n",
    "for i in range(10):\n",
    "    diff[i] = abs(predict[i] - test_label[i])"
   ]
  },
  {
   "cell_type": "code",
   "execution_count": null,
   "metadata": {},
   "outputs": [],
   "source": []
  },
  {
   "cell_type": "code",
   "execution_count": 319,
   "metadata": {},
   "outputs": [
    {
     "name": "stdout",
     "output_type": "stream",
     "text": [
      "0.998093579267\n",
      "1.07337770964\n",
      "1.28097313329\n",
      "1.37109266009\n",
      "1.08887863159\n",
      "1.29775059688\n",
      "1.18276363224\n",
      "1.22350068023\n",
      "1.47608957411\n",
      "1.22879194602\n"
     ]
    }
   ],
   "source": [
    "mean = {}\n",
    "for i in range(10):\n",
    "    mean[i] = (np.sum(diff[i]))/(predict[i].shape[0])\n",
    "    print mean[i]"
   ]
  },
  {
   "cell_type": "code",
   "execution_count": null,
   "metadata": {
    "collapsed": true
   },
   "outputs": [],
   "source": []
  },
  {
   "cell_type": "code",
   "execution_count": 320,
   "metadata": {},
   "outputs": [
    {
     "data": {
      "image/png": "[encoded data removed]",
      "text/plain": [
       "<matplotlib.figure.Figure at 0x2abf770e0650>"
      ]
     },
     "metadata": {},
     "output_type": "display_data"
    }
   ],
   "source": [
    "fig, ax = subplots(10, 1, figsize=(5, 50))\n",
    "for i in range(10):\n",
    "    ax[i].hist(diff[i],bins = 50)"
   ]
  },
  {
   "cell_type": "code",
   "execution_count": 205,
   "metadata": {},
   "outputs": [
    {
     "data": {
      "image/png": "[encoded data removed]",
      "text/plain": [
       "<matplotlib.figure.Figure at 0x2abf7620dcd0>"
      ]
     },
     "metadata": {},
     "output_type": "display_data"
    }
   ],
   "source": [
    "fig, ax = subplots(10, 1, figsize=(5, 50))\n",
    "for i in range(10):\n",
    "    ax[i].scatter(predict[i], test_label[i], marker = '.', color = 'b')\n",
    "    ax[i].set_xlim(left=60, right=100)\n",
    "    ax[i].set_ylim(bottom=60, top=100)\n",
    "    line1 = [(60, 60), (100, 100)]\n",
    "    (line1_xs, line1_ys) = zip(*line1)\n",
    "    ax[i].add_line(Line2D(line1_xs, line1_ys, linewidth=1, color='blue'))"
   ]
  },
  {
   "cell_type": "code",
   "execution_count": 326,
   "metadata": {},
   "outputs": [
    {
     "name": "stdout",
     "output_type": "stream",
     "text": [
      "-0.655867477193\n",
      "0.137835556252\n",
      "-0.522274406894\n",
      "-0.73153654305\n",
      "0.00551139893039\n",
      "-0.716307912599\n",
      "0.148913360312\n",
      "-1.79975581159\n",
      "-0.762369681823\n",
      "0.096443337278\n",
      "average:-0.479941\n"
     ]
    }
   ],
   "source": [
    "from sklearn.linear_model import Ridge\n",
    "predict = {}\n",
    "r2 = {}\n",
    "sum = 0\n",
    "for i in range(10):\n",
    "    reg = Ridge(alpha = 1)\n",
    "    reg.fit(training_set[i],training_label[i])\n",
    "    predict[i] = reg.predict(test_set[i])\n",
    "    r2[i] = r2_score(predict[i],test_label[i])\n",
    "    sum = sum + r2[i]\n",
    "    print r2[i]\n",
    "print 'average:%f' %(sum/10)"
   ]
  },
  {
   "cell_type": "code",
   "execution_count": 191,
   "metadata": {},
   "outputs": [
    {
     "name": "stderr",
     "output_type": "stream",
     "text": [
      "/Share/home/chenxupeng/anaconda2/lib/python2.7/site-packages/scipy/linalg/basic.py:223: RuntimeWarning: scipy.linalg.solve\n",
      "Ill-conditioned matrix detected. Result is not guaranteed to be accurate.\n",
      "Reciprocal condition number: 1.88778010275e-18\n",
      "  ' condition number: {}'.format(rcond), RuntimeWarning)\n",
      "/Share/home/chenxupeng/anaconda2/lib/python2.7/site-packages/scipy/linalg/basic.py:223: RuntimeWarning: scipy.linalg.solve\n",
      "Ill-conditioned matrix detected. Result is not guaranteed to be accurate.\n",
      "Reciprocal condition number: 3.72895490984e-18\n",
      "  ' condition number: {}'.format(rcond), RuntimeWarning)\n",
      "/Share/home/chenxupeng/anaconda2/lib/python2.7/site-packages/scipy/linalg/basic.py:223: RuntimeWarning: scipy.linalg.solve\n",
      "Ill-conditioned matrix detected. Result is not guaranteed to be accurate.\n",
      "Reciprocal condition number: 3.63626078607e-18\n",
      "  ' condition number: {}'.format(rcond), RuntimeWarning)\n",
      "/Share/home/chenxupeng/anaconda2/lib/python2.7/site-packages/scipy/linalg/basic.py:223: RuntimeWarning: scipy.linalg.solve\n",
      "Ill-conditioned matrix detected. Result is not guaranteed to be accurate.\n",
      "Reciprocal condition number: 1.02062129473e-18\n",
      "  ' condition number: {}'.format(rcond), RuntimeWarning)\n"
     ]
    },
    {
     "name": "stdout",
     "output_type": "stream",
     "text": [
      "0.0535404258984\n",
      "0.00159856148808\n",
      "0.0578443782185\n",
      "0.00100715822555\n"
     ]
    },
    {
     "name": "stderr",
     "output_type": "stream",
     "text": [
      "/Share/home/chenxupeng/anaconda2/lib/python2.7/site-packages/scipy/linalg/basic.py:223: RuntimeWarning: scipy.linalg.solve\n",
      "Ill-conditioned matrix detected. Result is not guaranteed to be accurate.\n",
      "Reciprocal condition number: 3.69386644602e-18\n",
      "  ' condition number: {}'.format(rcond), RuntimeWarning)\n",
      "/Share/home/chenxupeng/anaconda2/lib/python2.7/site-packages/scipy/linalg/basic.py:223: RuntimeWarning: scipy.linalg.solve\n",
      "Ill-conditioned matrix detected. Result is not guaranteed to be accurate.\n",
      "Reciprocal condition number: 1.0156538896e-18\n",
      "  ' condition number: {}'.format(rcond), RuntimeWarning)\n",
      "/Share/home/chenxupeng/anaconda2/lib/python2.7/site-packages/scipy/linalg/basic.py:223: RuntimeWarning: scipy.linalg.solve\n",
      "Ill-conditioned matrix detected. Result is not guaranteed to be accurate.\n",
      "Reciprocal condition number: 2.4561533613e-18\n",
      "  ' condition number: {}'.format(rcond), RuntimeWarning)\n",
      "/Share/home/chenxupeng/anaconda2/lib/python2.7/site-packages/scipy/linalg/basic.py:223: RuntimeWarning: scipy.linalg.solve\n",
      "Ill-conditioned matrix detected. Result is not guaranteed to be accurate.\n",
      "Reciprocal condition number: 3.63308090368e-18\n",
      "  ' condition number: {}'.format(rcond), RuntimeWarning)\n"
     ]
    },
    {
     "name": "stdout",
     "output_type": "stream",
     "text": [
      "0.0877318720957\n",
      "0.0991417256007\n",
      "-0.0452104110917\n",
      "0.020473688904\n",
      "-0.00153187325912\n",
      "0.0402929419118\n",
      "average:0.031489\n"
     ]
    },
    {
     "name": "stderr",
     "output_type": "stream",
     "text": [
      "/Share/home/chenxupeng/anaconda2/lib/python2.7/site-packages/scipy/linalg/basic.py:223: RuntimeWarning: scipy.linalg.solve\n",
      "Ill-conditioned matrix detected. Result is not guaranteed to be accurate.\n",
      "Reciprocal condition number: 1.01282035488e-18\n",
      "  ' condition number: {}'.format(rcond), RuntimeWarning)\n",
      "/Share/home/chenxupeng/anaconda2/lib/python2.7/site-packages/scipy/linalg/basic.py:223: RuntimeWarning: scipy.linalg.solve\n",
      "Ill-conditioned matrix detected. Result is not guaranteed to be accurate.\n",
      "Reciprocal condition number: 1.23957316879e-18\n",
      "  ' condition number: {}'.format(rcond), RuntimeWarning)\n"
     ]
    }
   ],
   "source": [
    "from sklearn.kernel_ridge import KernelRidge\n",
    "predict = {}\n",
    "r2 = {}\n",
    "sum = 0\n",
    "for i in range(10):\n",
    "    reg = KernelRidge(alpha = 10**(-1),kernel = 'polynomial',degree = 3)\n",
    "    reg.fit(training_set[i],training_label[i])\n",
    "    predict[i] = reg.predict(test_set[i])\n",
    "    r2[i] = r2_score(predict[i],test_label[i])\n",
    "    sum = sum + r2[i]\n",
    "    print r2[i]\n",
    "print 'average:%f' %(sum/10)"
   ]
  },
  {
   "cell_type": "code",
   "execution_count": 192,
   "metadata": {},
   "outputs": [
    {
     "name": "stdout",
     "output_type": "stream",
     "text": [
      "-0.434814121342\n",
      "-0.21328549607\n",
      "-0.83440700413\n",
      "0.216438865747\n",
      "0.114893049774\n",
      "0.439433347492\n",
      "0.407764143156\n",
      "0.430115543436\n",
      "0.50176463705\n",
      "-0.423011005142\n",
      "average:0.020489\n"
     ]
    }
   ],
   "source": [
    "from sklearn import neighbors\n",
    "\n",
    "predict = {}\n",
    "r2 = {}\n",
    "sum = 0\n",
    "for i in range(10):\n",
    "    reg = neighbors.KNeighborsRegressor(n_neighbors=4)\n",
    "    reg.fit(training_set[i],training_label[i])\n",
    "    predict[i] = reg.predict(test_set[i])\n",
    "    r2[i] = r2_score(predict[i],test_label[i])\n",
    "    sum = sum + r2[i]\n",
    "    print r2[i]\n",
    "print 'average:%f' %(sum/10)"
   ]
  },
  {
   "cell_type": "code",
   "execution_count": 193,
   "metadata": {},
   "outputs": [
    {
     "name": "stdout",
     "output_type": "stream",
     "text": [
      "-0.286244701597\n",
      "-0.877437029467\n",
      "-0.433910166564\n",
      "-0.0414109752774\n",
      "0.569204731286\n",
      "0.416181258893\n",
      "0.321408795889\n",
      "0.446539563708\n",
      "0.512785158207\n",
      "-0.159380899098\n",
      "average:0.046774\n"
     ]
    }
   ],
   "source": [
    "from sklearn.ensemble import RandomForestRegressor\n",
    "predict = {}\n",
    "r2 = {}\n",
    "sum = 0\n",
    "for i in range(10):\n",
    "    reg = RandomForestRegressor(n_estimators=10, criterion='mse', max_depth=None)\n",
    "    reg.fit(training_set[i],training_label[i])\n",
    "    predict[i] = reg.predict(test_set[i])\n",
    "    r2[i] = r2_score(predict[i],test_label[i])\n",
    "    sum = sum + r2[i]\n",
    "    print r2[i]\n",
    "print 'average:%f' %(sum/10)"
   ]
  },
  {
   "cell_type": "code",
   "execution_count": 115,
   "metadata": {},
   "outputs": [
    {
     "name": "stdout",
     "output_type": "stream",
     "text": [
      "Populating the interactive namespace from numpy and matplotlib\n"
     ]
    },
    {
     "name": "stderr",
     "output_type": "stream",
     "text": [
      "/Share/home/chenxupeng/anaconda2/lib/python2.7/site-packages/IPython/core/magics/pylab.py:161: UserWarning: pylab import has clobbered these variables: ['all', 'sum', 'diff', 'table']\n",
      "`%matplotlib` prevents importing * from pylab and numpy\n",
      "  \"\\n`%matplotlib` prevents importing * from pylab and numpy\"\n"
     ]
    }
   ],
   "source": [
    "%pylab inline"
   ]
  },
  {
   "cell_type": "code",
   "execution_count": 119,
   "metadata": {},
   "outputs": [
    {
     "data": {
      "text/plain": [
       "<matplotlib.lines.Line2D at 0x2abf18067510>"
      ]
     },
     "execution_count": 119,
     "metadata": {},
     "output_type": "execute_result"
    },
    {
     "data": {
      "image/png": "[encoded data removed]",
      "text/plain": [
       "<matplotlib.figure.Figure at 0x2abf7556bd90>"
      ]
     },
     "metadata": {},
     "output_type": "display_data"
    }
   ],
   "source": [
    "fig, ax = subplots(figsize=(5, 5))\n",
    "ax.scatter(predict[1], test_label[1], marker = '.', color = 'b')\n",
    "ax.set_xlim(left=60, right=100)\n",
    "ax.set_ylim(bottom=60, top=100)\n",
    "line1 = [(60, 60), (100, 100)]\n",
    "(line1_xs, line1_ys) = zip(*line1)\n",
    "ax.add_line(Line2D(line1_xs, line1_ys, linewidth=1, color='blue'))"
   ]
  },
  {
   "cell_type": "code",
   "execution_count": 325,
   "metadata": {},
   "outputs": [
    {
     "name": "stdout",
     "output_type": "stream",
     "text": [
      "-7.23382998101\n",
      "-6.29143068729\n",
      "-5.47996762534\n",
      "-6.43405738945\n",
      "-8.37334740484\n",
      "-5.56867362465\n",
      "-3.19168060767\n",
      "-8.15241169136\n",
      "-8.22140436375\n",
      "-5.33145026029\n",
      "average:-6.427825\n"
     ]
    }
   ],
   "source": [
    "from sklearn.gaussian_process import GaussianProcessRegressor\n",
    "from sklearn.gaussian_process.kernels import RBF\n",
    "kernel = RBF(length_scale=1.0, length_scale_bounds=(1e-05, 100000.0))\n",
    "predict = {}\n",
    "r2 = {}\n",
    "sum = 0\n",
    "for i in range(10):\n",
    "    reg = GaussianProcessRegressor()\n",
    "    reg.fit(training_set[i],training_label[i])\n",
    "    predict[i] = reg.predict(test_set[i])\n",
    "    r2[i] = r2_score(predict[i],test_label[i])\n",
    "    sum = sum + r2[i]\n",
    "    print r2[i]\n",
    "print 'average:%f' %(sum/10)"
   ]
  },
  {
   "cell_type": "code",
   "execution_count": null,
   "metadata": {
    "collapsed": true
   },
   "outputs": [],
   "source": []
  }
 ],
 "metadata": {
  "kernelspec": {
   "display_name": "Python 3",
   "language": "python",
   "name": "python3"
  },
  "language_info": {
   "codemirror_mode": {
    "name": "ipython",
    "version": 2
   },
   "file_extension": ".py",
   "mimetype": "text/x-python",
   "name": "python",
   "nbconvert_exporter": "python",
   "pygments_lexer": "ipython2",
   "version": "2.7.13"
  },
  "toc": {
   "base_numbering": 1,
   "nav_menu": {},
   "number_sections": true,
   "sideBar": true,
   "skip_h1_title": false,
   "title_cell": "Table of Contents",
   "title_sidebar": "Contents",
   "toc_cell": false,
   "toc_position": {},
   "toc_section_display": true,
   "toc_window_display": false
  }
 },
 "nbformat": 4,
 "nbformat_minor": 2
}
