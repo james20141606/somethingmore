{
 "cells": [
  {
   "cell_type": "code",
   "execution_count": 1,
   "metadata": {},
   "outputs": [
    {
     "name": "stdout",
     "output_type": "stream",
     "text": [
      "Populating the interactive namespace from numpy and matplotlib\n"
     ]
    }
   ],
   "source": [
    "import gc, argparse, sys, os, errno\n",
    "%pylab inline\n",
    "import numpy as np\n",
    "import pandas as pd\n",
    "import matplotlib.pyplot as plt\n",
    "import seaborn as sns\n",
    "#sns.set()\n",
    "#sns.set_style('whitegrid')\n",
    "import h5py\n",
    "from PIL import Image\n",
    "import os\n",
    "from tqdm import tqdm_notebook as tqdm\n",
    "import scipy\n",
    "import sklearn\n",
    "from scipy.stats import pearsonr\n",
    "import warnings\n",
    "warnings.filterwarnings('ignore')"
   ]
  },
  {
   "cell_type": "code",
   "execution_count": 65,
   "metadata": {},
   "outputs": [],
   "source": [
    "table1 = pd.read_excel('cargo1.xlsx',index_col=0)"
   ]
  },
  {
   "cell_type": "code",
   "execution_count": 66,
   "metadata": {},
   "outputs": [
    {
     "data": {
      "text/html": [
       "<div>\n",
       "<style scoped>\n",
       "    .dataframe tbody tr th:only-of-type {\n",
       "        vertical-align: middle;\n",
       "    }\n",
       "\n",
       "    .dataframe tbody tr th {\n",
       "        vertical-align: top;\n",
       "    }\n",
       "\n",
       "    .dataframe thead th {\n",
       "        text-align: right;\n",
       "    }\n",
       "</style>\n",
       "<table border=\"1\" class=\"dataframe\">\n",
       "  <thead>\n",
       "    <tr style=\"text-align: right;\">\n",
       "      <th></th>\n",
       "      <th>日期</th>\n",
       "      <th>车号</th>\n",
       "      <th>吨位</th>\n",
       "      <th>单价</th>\n",
       "      <th>总价</th>\n",
       "      <th>月份</th>\n",
       "    </tr>\n",
       "    <tr>\n",
       "      <th>序号</th>\n",
       "      <th></th>\n",
       "      <th></th>\n",
       "      <th></th>\n",
       "      <th></th>\n",
       "      <th></th>\n",
       "      <th></th>\n",
       "    </tr>\n",
       "  </thead>\n",
       "  <tbody>\n",
       "    <tr>\n",
       "      <th>1.0</th>\n",
       "      <td>五月    5</td>\n",
       "      <td>035A3</td>\n",
       "      <td>5.0</td>\n",
       "      <td>410</td>\n",
       "      <td>2050</td>\n",
       "      <td>5</td>\n",
       "    </tr>\n",
       "    <tr>\n",
       "      <th>2.0</th>\n",
       "      <td>NaN</td>\n",
       "      <td>NaN</td>\n",
       "      <td>30.0</td>\n",
       "      <td>360</td>\n",
       "      <td>10800</td>\n",
       "      <td>5</td>\n",
       "    </tr>\n",
       "    <tr>\n",
       "      <th>3.0</th>\n",
       "      <td>5.6</td>\n",
       "      <td>6F029</td>\n",
       "      <td>35.0</td>\n",
       "      <td>360</td>\n",
       "      <td>12600</td>\n",
       "      <td>5</td>\n",
       "    </tr>\n",
       "    <tr>\n",
       "      <th>4.0</th>\n",
       "      <td>NaN</td>\n",
       "      <td>1950</td>\n",
       "      <td>35.0</td>\n",
       "      <td>360</td>\n",
       "      <td>12600</td>\n",
       "      <td>5</td>\n",
       "    </tr>\n",
       "    <tr>\n",
       "      <th>5.0</th>\n",
       "      <td>5.8</td>\n",
       "      <td>18112</td>\n",
       "      <td>18.0</td>\n",
       "      <td>360</td>\n",
       "      <td>6480</td>\n",
       "      <td>5</td>\n",
       "    </tr>\n",
       "  </tbody>\n",
       "</table>\n",
       "</div>"
      ],
      "text/plain": [
       "          日期     车号    吨位   单价     总价  月份\n",
       "序号                                       \n",
       "1.0  五月    5  035A3   5.0  410   2050   5\n",
       "2.0      NaN    NaN  30.0  360  10800   5\n",
       "3.0      5.6  6F029  35.0  360  12600   5\n",
       "4.0      NaN   1950  35.0  360  12600   5\n",
       "5.0      5.8  18112  18.0  360   6480   5"
      ]
     },
     "execution_count": 66,
     "metadata": {},
     "output_type": "execute_result"
    }
   ],
   "source": [
    "table1.head()"
   ]
  },
  {
   "cell_type": "code",
   "execution_count": 18,
   "metadata": {},
   "outputs": [],
   "source": [
    "table1['总1'] = table1['吨位'] *table1['单价'] "
   ]
  },
  {
   "cell_type": "code",
   "execution_count": 19,
   "metadata": {},
   "outputs": [
    {
     "data": {
      "text/html": [
       "<div>\n",
       "<style scoped>\n",
       "    .dataframe tbody tr th:only-of-type {\n",
       "        vertical-align: middle;\n",
       "    }\n",
       "\n",
       "    .dataframe tbody tr th {\n",
       "        vertical-align: top;\n",
       "    }\n",
       "\n",
       "    .dataframe thead th {\n",
       "        text-align: right;\n",
       "    }\n",
       "</style>\n",
       "<table border=\"1\" class=\"dataframe\">\n",
       "  <thead>\n",
       "    <tr style=\"text-align: right;\">\n",
       "      <th></th>\n",
       "      <th>日期</th>\n",
       "      <th>车号</th>\n",
       "      <th>吨位</th>\n",
       "      <th>单价</th>\n",
       "      <th>总价</th>\n",
       "      <th>月份</th>\n",
       "      <th>总1</th>\n",
       "    </tr>\n",
       "    <tr>\n",
       "      <th>序号</th>\n",
       "      <th></th>\n",
       "      <th></th>\n",
       "      <th></th>\n",
       "      <th></th>\n",
       "      <th></th>\n",
       "      <th></th>\n",
       "      <th></th>\n",
       "    </tr>\n",
       "  </thead>\n",
       "  <tbody>\n",
       "    <tr>\n",
       "      <th>1.0</th>\n",
       "      <td>五月    5</td>\n",
       "      <td>035A3</td>\n",
       "      <td>5.0</td>\n",
       "      <td>410</td>\n",
       "      <td>2050</td>\n",
       "      <td>5</td>\n",
       "      <td>2050.0</td>\n",
       "    </tr>\n",
       "    <tr>\n",
       "      <th>2.0</th>\n",
       "      <td>NaN</td>\n",
       "      <td>NaN</td>\n",
       "      <td>30.0</td>\n",
       "      <td>360</td>\n",
       "      <td>10800</td>\n",
       "      <td>5</td>\n",
       "      <td>10800.0</td>\n",
       "    </tr>\n",
       "    <tr>\n",
       "      <th>3.0</th>\n",
       "      <td>5.6</td>\n",
       "      <td>6F029</td>\n",
       "      <td>35.0</td>\n",
       "      <td>360</td>\n",
       "      <td>12600</td>\n",
       "      <td>5</td>\n",
       "      <td>12600.0</td>\n",
       "    </tr>\n",
       "    <tr>\n",
       "      <th>4.0</th>\n",
       "      <td>NaN</td>\n",
       "      <td>1950</td>\n",
       "      <td>35.0</td>\n",
       "      <td>360</td>\n",
       "      <td>12600</td>\n",
       "      <td>5</td>\n",
       "      <td>12600.0</td>\n",
       "    </tr>\n",
       "    <tr>\n",
       "      <th>5.0</th>\n",
       "      <td>5.8</td>\n",
       "      <td>18112</td>\n",
       "      <td>18.0</td>\n",
       "      <td>360</td>\n",
       "      <td>6480</td>\n",
       "      <td>5</td>\n",
       "      <td>6480.0</td>\n",
       "    </tr>\n",
       "  </tbody>\n",
       "</table>\n",
       "</div>"
      ],
      "text/plain": [
       "          日期     车号    吨位   单价     总价  月份       总1\n",
       "序号                                                \n",
       "1.0  五月    5  035A3   5.0  410   2050   5   2050.0\n",
       "2.0      NaN    NaN  30.0  360  10800   5  10800.0\n",
       "3.0      5.6  6F029  35.0  360  12600   5  12600.0\n",
       "4.0      NaN   1950  35.0  360  12600   5  12600.0\n",
       "5.0      5.8  18112  18.0  360   6480   5   6480.0"
      ]
     },
     "execution_count": 19,
     "metadata": {},
     "output_type": "execute_result"
    }
   ],
   "source": [
    "table1.head()"
   ]
  },
  {
   "cell_type": "code",
   "execution_count": 20,
   "metadata": {},
   "outputs": [
    {
     "data": {
      "text/html": [
       "<div>\n",
       "<style scoped>\n",
       "    .dataframe tbody tr th:only-of-type {\n",
       "        vertical-align: middle;\n",
       "    }\n",
       "\n",
       "    .dataframe tbody tr th {\n",
       "        vertical-align: top;\n",
       "    }\n",
       "\n",
       "    .dataframe thead th {\n",
       "        text-align: right;\n",
       "    }\n",
       "</style>\n",
       "<table border=\"1\" class=\"dataframe\">\n",
       "  <thead>\n",
       "    <tr style=\"text-align: right;\">\n",
       "      <th></th>\n",
       "      <th>吨位</th>\n",
       "      <th>单价</th>\n",
       "      <th>总价</th>\n",
       "      <th>总1</th>\n",
       "    </tr>\n",
       "    <tr>\n",
       "      <th>月份</th>\n",
       "      <th></th>\n",
       "      <th></th>\n",
       "      <th></th>\n",
       "      <th></th>\n",
       "    </tr>\n",
       "  </thead>\n",
       "  <tbody>\n",
       "    <tr>\n",
       "      <th>5</th>\n",
       "      <td>765.5</td>\n",
       "      <td>8690</td>\n",
       "      <td>275830</td>\n",
       "      <td>275830.0</td>\n",
       "    </tr>\n",
       "    <tr>\n",
       "      <th>6</th>\n",
       "      <td>645.0</td>\n",
       "      <td>7020</td>\n",
       "      <td>226425</td>\n",
       "      <td>226425.0</td>\n",
       "    </tr>\n",
       "    <tr>\n",
       "      <th>7</th>\n",
       "      <td>687.0</td>\n",
       "      <td>6785</td>\n",
       "      <td>233845</td>\n",
       "      <td>233845.0</td>\n",
       "    </tr>\n",
       "    <tr>\n",
       "      <th>8</th>\n",
       "      <td>624.0</td>\n",
       "      <td>6270</td>\n",
       "      <td>205920</td>\n",
       "      <td>205920.0</td>\n",
       "    </tr>\n",
       "    <tr>\n",
       "      <th>9</th>\n",
       "      <td>1429.0</td>\n",
       "      <td>14570</td>\n",
       "      <td>484250</td>\n",
       "      <td>484250.0</td>\n",
       "    </tr>\n",
       "    <tr>\n",
       "      <th>10</th>\n",
       "      <td>738.0</td>\n",
       "      <td>7700</td>\n",
       "      <td>258300</td>\n",
       "      <td>258300.0</td>\n",
       "    </tr>\n",
       "    <tr>\n",
       "      <th>11</th>\n",
       "      <td>3822.0</td>\n",
       "      <td>43000</td>\n",
       "      <td>1378150</td>\n",
       "      <td>1378150.0</td>\n",
       "    </tr>\n",
       "    <tr>\n",
       "      <th>12</th>\n",
       "      <td>3473.0</td>\n",
       "      <td>39550</td>\n",
       "      <td>1256800</td>\n",
       "      <td>1256800.0</td>\n",
       "    </tr>\n",
       "    <tr>\n",
       "      <th>13</th>\n",
       "      <td>406.0</td>\n",
       "      <td>4600</td>\n",
       "      <td>142850</td>\n",
       "      <td>142850.0</td>\n",
       "    </tr>\n",
       "  </tbody>\n",
       "</table>\n",
       "</div>"
      ],
      "text/plain": [
       "        吨位     单价       总价         总1\n",
       "月份                                   \n",
       "5    765.5   8690   275830   275830.0\n",
       "6    645.0   7020   226425   226425.0\n",
       "7    687.0   6785   233845   233845.0\n",
       "8    624.0   6270   205920   205920.0\n",
       "9   1429.0  14570   484250   484250.0\n",
       "10   738.0   7700   258300   258300.0\n",
       "11  3822.0  43000  1378150  1378150.0\n",
       "12  3473.0  39550  1256800  1256800.0\n",
       "13   406.0   4600   142850   142850.0"
      ]
     },
     "execution_count": 20,
     "metadata": {},
     "output_type": "execute_result"
    }
   ],
   "source": [
    "table1.groupby('月份').sum()"
   ]
  },
  {
   "cell_type": "code",
   "execution_count": 67,
   "metadata": {},
   "outputs": [],
   "source": [
    "month11 = np.array(table1[table1['月份'] ==11]['总价'])"
   ]
  },
  {
   "cell_type": "code",
   "execution_count": 25,
   "metadata": {},
   "outputs": [
    {
     "data": {
      "text/plain": [
       "1061050.0"
      ]
     },
     "execution_count": 25,
     "metadata": {},
     "output_type": "execute_result"
    }
   ],
   "source": [
    "1378150 - np.loadtxt('11month.txt').sum()*10"
   ]
  },
  {
   "cell_type": "code",
   "execution_count": 87,
   "metadata": {},
   "outputs": [
    {
     "data": {
      "text/plain": [
       "65262.0"
      ]
     },
     "execution_count": 87,
     "metadata": {},
     "output_type": "execute_result"
    }
   ],
   "source": [
    "arr1.sum()"
   ]
  },
  {
   "cell_type": "code",
   "execution_count": 136,
   "metadata": {},
   "outputs": [],
   "source": [
    "arr1 = np.loadtxt('11month.txt')\n",
    "arr2 = np.loadtxt('11month2.txt')\n",
    "arr3 = np.loadtxt('11month3.txt')\n",
    "arr4 = np.loadtxt('11month4.txt')\n",
    "month11_ = np.concatenate((arr1, arr2, arr3, arr4))"
   ]
  },
  {
   "cell_type": "code",
   "execution_count": 137,
   "metadata": {},
   "outputs": [
    {
     "data": {
      "text/plain": [
       "array([1190., 1155., 1155., 1225., 1155., 1120., 1190., 1225., 1225.,\n",
       "       1190., 1190., 1225., 1225., 1190., 1190., 1120., 1120., 1190.,\n",
       "       1190., 1120., 1120., 1120., 1120., 1190., 1155., 1225., 1190.,\n",
       "       1225., 1320., 1280., 1190., 1190., 1190., 1155., 1120., 1225.,\n",
       "       1120., 1190., 1320., 1225., 1120., 1190., 1155., 1360., 1190.,\n",
       "       1280., 1155., 1120., 1190., 1190., 1155., 1190., 1155., 1155.,\n",
       "       1225., 1120., 1360., 1190., 1190., 1320., 1360., 1320., 1225.,\n",
       "       1190., 1360., 1155., 1155.,  600.,  700., 1360., 1155., 1225.,\n",
       "       1190., 1225., 1280., 1400., 1190., 1280., 1190., 1190., 1190.,\n",
       "       1155., 1155., 1190., 1190., 1280., 1155., 1190., 1190.,  600.,\n",
       "        700., 1225., 1155., 1000.,  315., 1280., 1190.,  400.,  770.,\n",
       "       1400., 1280., 1190., 1120., 1155., 1155., 1155., 1120., 1320.,\n",
       "       1190., 1320., 1190., 1190., 1190., 1120.,  600.,  665., 1320.,\n",
       "       1190., 1360., 1225.])"
      ]
     },
     "execution_count": 137,
     "metadata": {},
     "output_type": "execute_result"
    }
   ],
   "source": [
    "month11_"
   ]
  },
  {
   "cell_type": "code",
   "execution_count": 138,
   "metadata": {},
   "outputs": [
    {
     "data": {
      "text/plain": [
       "(640650.0, 323450.0, 290350.0, 135600.0)"
      ]
     },
     "execution_count": 138,
     "metadata": {},
     "output_type": "execute_result"
    }
   ],
   "source": [
    "arr1.sum()*10, arr2.sum()*10, arr3.sum()*10, arr4.sum()*10"
   ]
  },
  {
   "cell_type": "code",
   "execution_count": 147,
   "metadata": {},
   "outputs": [
    {
     "data": {
      "text/plain": [
       "(120,)"
      ]
     },
     "execution_count": 147,
     "metadata": {},
     "output_type": "execute_result"
    }
   ],
   "source": [
    "month11_.shape"
   ]
  },
  {
   "cell_type": "code",
   "execution_count": 150,
   "metadata": {},
   "outputs": [
    {
     "data": {
      "text/plain": [
       "array([11900, 12250, 11200, 11550, 11550, 12250, 11550, 11900, 11900,\n",
       "       11900, 12250, 12250, 11900, 11900, 12250, 11200, 11900, 11900,\n",
       "       11200, 11200, 11200, 11200, 11200, 12250, 11900, 11550, 11900,\n",
       "       12250, 11900, 13200, 11550, 11200, 11900, 12800, 11900, 12250,\n",
       "       11900, 11200, 12250, 13600, 11200, 11900, 11550, 13200, 11900,\n",
       "       11900, 11550, 11200, 11900, 12800, 11550, 11550, 11900, 11550,\n",
       "       12250, 11200, 13600, 11900, 11900, 13200, 13600, 11900, 12250,\n",
       "       13200, 11550,  6000,  7000, 13600, 11550, 13600, 11550, 12250,\n",
       "       11900, 12800, 12250, 14000, 11900, 12800, 11900, 11900, 11550,\n",
       "       11550, 11900, 11900, 12800, 11900, 11550, 12250,  7000,  6000,\n",
       "       11550, 11900, 10000,  3150, 12800, 11900,  4000,  7700, 14000,\n",
       "       11900, 12800, 11200, 11550, 11550, 11550, 11200, 13200, 11900,\n",
       "       13200, 11900, 11900, 11900, 11200,  6650,  6000, 11900, 13200,\n",
       "       12250, 13600])"
      ]
     },
     "execution_count": 150,
     "metadata": {},
     "output_type": "execute_result"
    }
   ],
   "source": [
    "month11"
   ]
  },
  {
   "cell_type": "code",
   "execution_count": 152,
   "metadata": {},
   "outputs": [
    {
     "data": {
      "text/plain": [
       "array([11900., 11550., 11550., 12250., 11550., 11200., 11900., 12250.,\n",
       "       12250., 11900., 11900., 12250., 12250., 11900., 11900., 11200.,\n",
       "       11200., 11900., 11900., 11200., 11200., 11200., 11200., 11900.,\n",
       "       11550., 12250., 11900., 12250., 13200., 12800., 11900., 11900.,\n",
       "       11900., 11550., 11200., 12250., 11200., 11900., 13200., 12250.,\n",
       "       11200., 11900., 11550., 13600., 11900., 12800., 11550., 11200.,\n",
       "       11900., 11900., 11550., 11900., 11550., 11550., 12250., 11200.,\n",
       "       13600., 11900., 11900., 13200., 13600., 13200., 12250., 11900.,\n",
       "       13600., 11550., 11550.,  6000.,  7000., 13600., 11550., 12250.,\n",
       "       11900., 12250., 12800., 14000., 11900., 12800., 11900., 11900.,\n",
       "       11900., 11550., 11550., 11900., 11900., 12800., 11550., 11900.,\n",
       "       11900.,  6000.,  7000., 12250., 11550., 10000.,  3150., 12800.,\n",
       "       11900.,  4000.,  7700., 14000., 12800., 11900., 11200., 11550.,\n",
       "       11550., 11550., 11200., 13200., 11900., 13200., 11900., 11900.,\n",
       "       11900., 11200.,  6000.,  6650., 13200., 11900., 13600., 12250.])"
      ]
     },
     "execution_count": 152,
     "metadata": {},
     "output_type": "execute_result"
    }
   ],
   "source": [
    "month11_*10"
   ]
  },
  {
   "cell_type": "code",
   "execution_count": 139,
   "metadata": {},
   "outputs": [
    {
     "data": {
      "text/plain": [
       "array([ 3150.,  4000.,  6000.,  6000.,  6000.,  6650.,  7000.,  7000.,\n",
       "        7700., 10000., 11200., 11200., 11200., 11200., 11200., 11200.,\n",
       "       11200., 11200., 11200., 11200., 11200., 11200., 11200., 11200.,\n",
       "       11200., 11550., 11550., 11550., 11550., 11550., 11550., 11550.,\n",
       "       11550., 11550., 11550., 11550., 11550., 11550., 11550., 11550.,\n",
       "       11550., 11550., 11550., 11550., 11550., 11900., 11900., 11900.,\n",
       "       11900., 11900., 11900., 11900., 11900., 11900., 11900., 11900.,\n",
       "       11900., 11900., 11900., 11900., 11900., 11900., 11900., 11900.,\n",
       "       11900., 11900., 11900., 11900., 11900., 11900., 11900., 11900.,\n",
       "       11900., 11900., 11900., 11900., 11900., 11900., 11900., 11900.,\n",
       "       11900., 11900., 11900., 12250., 12250., 12250., 12250., 12250.,\n",
       "       12250., 12250., 12250., 12250., 12250., 12250., 12250., 12250.,\n",
       "       12250., 12250., 12800., 12800., 12800., 12800., 12800., 12800.,\n",
       "       12800., 13200., 13200., 13200., 13200., 13200., 13200., 13200.,\n",
       "       13600., 13600., 13600., 13600., 13600., 13600., 14000., 14000.])"
      ]
     },
     "execution_count": 139,
     "metadata": {},
     "output_type": "execute_result"
    }
   ],
   "source": [
    "np.sort(month11_*10)"
   ]
  },
  {
   "cell_type": "code",
   "execution_count": 140,
   "metadata": {},
   "outputs": [
    {
     "data": {
      "text/plain": [
       "array([ 3150,  4000,  6000,  6000,  6000,  6650,  7000,  7000,  7700,\n",
       "       10000, 11200, 11200, 11200, 11200, 11200, 11200, 11200, 11200,\n",
       "       11200, 11200, 11200, 11200, 11200, 11200, 11200, 11550, 11550,\n",
       "       11550, 11550, 11550, 11550, 11550, 11550, 11550, 11550, 11550,\n",
       "       11550, 11550, 11550, 11550, 11550, 11550, 11550, 11550, 11550,\n",
       "       11900, 11900, 11900, 11900, 11900, 11900, 11900, 11900, 11900,\n",
       "       11900, 11900, 11900, 11900, 11900, 11900, 11900, 11900, 11900,\n",
       "       11900, 11900, 11900, 11900, 11900, 11900, 11900, 11900, 11900,\n",
       "       11900, 11900, 11900, 11900, 11900, 11900, 11900, 11900, 11900,\n",
       "       11900, 12250, 12250, 12250, 12250, 12250, 12250, 12250, 12250,\n",
       "       12250, 12250, 12250, 12250, 12250, 12250, 12250, 12800, 12800,\n",
       "       12800, 12800, 12800, 12800, 12800, 13200, 13200, 13200, 13200,\n",
       "       13200, 13200, 13200, 13600, 13600, 13600, 13600, 13600, 13600,\n",
       "       14000, 14000])"
      ]
     },
     "execution_count": 140,
     "metadata": {},
     "output_type": "execute_result"
    }
   ],
   "source": [
    "np.sort(month11)"
   ]
  },
  {
   "cell_type": "code",
   "execution_count": 141,
   "metadata": {},
   "outputs": [
    {
     "data": {
      "text/plain": [
       "(array([ 1.,  1.,  0.,  0.,  0.,  3.,  1.,  2.,  1.,  0.,  0.,  0.,  1.,\n",
       "         0., 15., 20., 52.,  7.,  7.,  8.]),\n",
       " array([ 3150. ,  3692.5,  4235. ,  4777.5,  5320. ,  5862.5,  6405. ,\n",
       "         6947.5,  7490. ,  8032.5,  8575. ,  9117.5,  9660. , 10202.5,\n",
       "        10745. , 11287.5, 11830. , 12372.5, 12915. , 13457.5, 14000. ]),\n",
       " <a list of 20 Patch objects>)"
      ]
     },
     "execution_count": 141,
     "metadata": {},
     "output_type": "execute_result"
    },
    {
     "data": {
      "image/png": "[encoded data removed]",
      "text/plain": [
       "<Figure size 432x288 with 1 Axes>"
      ]
     },
     "metadata": {
      "needs_background": "light"
     },
     "output_type": "display_data"
    }
   ],
   "source": [
    "hist(month11,bins=20)"
   ]
  },
  {
   "cell_type": "code",
   "execution_count": 142,
   "metadata": {},
   "outputs": [
    {
     "data": {
      "text/plain": [
       "(array([ 1.,  1.,  0.,  0.,  0.,  3.,  1.,  2.,  1.,  0.,  0.,  0.,  1.,\n",
       "         0., 15., 20., 53.,  7.,  7.,  8.]),\n",
       " array([ 3150. ,  3692.5,  4235. ,  4777.5,  5320. ,  5862.5,  6405. ,\n",
       "         6947.5,  7490. ,  8032.5,  8575. ,  9117.5,  9660. , 10202.5,\n",
       "        10745. , 11287.5, 11830. , 12372.5, 12915. , 13457.5, 14000. ]),\n",
       " <a list of 20 Patch objects>)"
      ]
     },
     "execution_count": 142,
     "metadata": {},
     "output_type": "execute_result"
    },
    {
     "data": {
      "image/png": "[encoded data removed]",
      "text/plain": [
       "<Figure size 432x288 with 1 Axes>"
      ]
     },
     "metadata": {
      "needs_background": "light"
     },
     "output_type": "display_data"
    }
   ],
   "source": [
    "hist(month11_*10,bins=20)"
   ]
  },
  {
   "cell_type": "code",
   "execution_count": 143,
   "metadata": {},
   "outputs": [
    {
     "data": {
      "text/plain": [
       "(array([ 3150,  4000,  6000,  6650,  7000,  7700, 10000, 11200, 11550,\n",
       "        11900, 12250, 12800, 13200, 13600, 14000]),\n",
       " array([ 1,  1,  3,  1,  2,  1,  1, 15, 20, 37, 15,  7,  7,  6,  2]))"
      ]
     },
     "execution_count": 143,
     "metadata": {},
     "output_type": "execute_result"
    }
   ],
   "source": [
    "np.unique(month11,return_counts=1)"
   ]
  },
  {
   "cell_type": "code",
   "execution_count": 144,
   "metadata": {},
   "outputs": [
    {
     "data": {
      "text/plain": [
       "(array([ 3150.,  4000.,  6000.,  6650.,  7000.,  7700., 10000., 11200.,\n",
       "        11550., 11900., 12250., 12800., 13200., 13600., 14000.]),\n",
       " array([ 1,  1,  3,  1,  2,  1,  1, 15, 20, 38, 15,  7,  7,  6,  2]))"
      ]
     },
     "execution_count": 144,
     "metadata": {},
     "output_type": "execute_result"
    }
   ],
   "source": [
    "np.unique(month11_*10,return_counts=1)"
   ]
  },
  {
   "cell_type": "code",
   "execution_count": 107,
   "metadata": {},
   "outputs": [
    {
     "data": {
      "text/plain": [
       "19150"
      ]
     },
     "execution_count": 107,
     "metadata": {},
     "output_type": "execute_result"
    }
   ],
   "source": [
    "11500+ 12550 - 4900"
   ]
  },
  {
   "cell_type": "code",
   "execution_count": 145,
   "metadata": {},
   "outputs": [
    {
     "data": {
      "text/plain": [
       "array([], dtype=float64)"
      ]
     },
     "execution_count": 145,
     "metadata": {},
     "output_type": "execute_result"
    }
   ],
   "source": [
    "np.setdiff1d(np.sort(month11_*10),np.sort(month11))"
   ]
  },
  {
   "cell_type": "code",
   "execution_count": 146,
   "metadata": {},
   "outputs": [
    {
     "data": {
      "text/plain": [
       "(1390050.0, 1378150, 11900.0)"
      ]
     },
     "execution_count": 146,
     "metadata": {},
     "output_type": "execute_result"
    }
   ],
   "source": [
    "np.sort(month11_*10).sum(),np.sort(month11).sum(),np.sort(month11_*10).sum()-np.sort(month11).sum()"
   ]
  },
  {
   "cell_type": "code",
   "execution_count": 39,
   "metadata": {},
   "outputs": [
    {
     "data": {
      "text/plain": [
       "1590070.0"
      ]
     },
     "execution_count": 39,
     "metadata": {},
     "output_type": "execute_result"
    }
   ],
   "source": [
    "np.loadtxt('11month.txt').sum()*10 + np.loadtxt('11month2.txt').sum()*10 + np.loadtxt('11month3.txt').sum()*10 + np.loadtxt('11month4.txt').sum()*10 + np.loadtxt('11month5.txt').sum()*10"
   ]
  },
  {
   "cell_type": "code",
   "execution_count": null,
   "metadata": {},
   "outputs": [],
   "source": []
  }
 ],
 "metadata": {
  "kernelspec": {
   "display_name": "Python 3",
   "language": "python",
   "name": "python3"
  },
  "language_info": {
   "codemirror_mode": {
    "name": "ipython",
    "version": 3
   },
   "file_extension": ".py",
   "mimetype": "text/x-python",
   "name": "python",
   "nbconvert_exporter": "python",
   "pygments_lexer": "ipython3",
   "version": "3.7.3"
  },
  "toc": {
   "base_numbering": 1,
   "nav_menu": {},
   "number_sections": true,
   "sideBar": true,
   "skip_h1_title": false,
   "title_cell": "Table of Contents",
   "title_sidebar": "Contents",
   "toc_cell": false,
   "toc_position": {},
   "toc_section_display": true,
   "toc_window_display": false
  }
 },
 "nbformat": 4,
 "nbformat_minor": 2
}
