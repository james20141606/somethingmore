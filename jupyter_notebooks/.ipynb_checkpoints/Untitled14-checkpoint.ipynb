{
 "cells": [
  {
   "cell_type": "code",
   "execution_count": 9,
   "metadata": {
    "collapsed": true
   },
   "outputs": [],
   "source": [
    "import numpy as np\n",
    "import pandas as pd"
   ]
  },
  {
   "cell_type": "code",
   "execution_count": 22,
   "metadata": {},
   "outputs": [],
   "source": [
    "a = pd.read_csv('/Users/james/indiana1.csv',dtype=str)"
   ]
  },
  {
   "cell_type": "code",
   "execution_count": null,
   "metadata": {},
   "outputs": [],
   "source": []
  },
  {
   "cell_type": "code",
   "execution_count": 81,
   "metadata": {},
   "outputs": [],
   "source": [
    "norm = a.iloc[0:1417,0:1]"
   ]
  },
  {
   "cell_type": "code",
   "execution_count": 82,
   "metadata": {},
   "outputs": [
    {
     "data": {
      "text/plain": [
       "(1417, 1)"
      ]
     },
     "execution_count": 82,
     "metadata": {},
     "output_type": "execute_result"
    }
   ],
   "source": [
    "Cardiomegaly = a.iloc[1418:1493,0:1]\n",
    "Calcinosis_aorta = a.iloc[1494:1514,0:1]\n",
    "Atherosclerosis = a.iloc[1515:1542,0:1]\n",
    "Aorta_tortuous = a.iloc[1543:1601,0:1]\n",
    "norm = norm.as_matrix()\n",
    "norm = norm.astype(int)\n",
    "norm.shape"
   ]
  },
  {
   "cell_type": "code",
   "execution_count": 83,
   "metadata": {},
   "outputs": [
    {
     "data": {
      "text/plain": [
       "(75, 1)"
      ]
     },
     "execution_count": 83,
     "metadata": {},
     "output_type": "execute_result"
    }
   ],
   "source": [
    "Cardiomegaly.shape"
   ]
  },
  {
   "cell_type": "code",
   "execution_count": 74,
   "metadata": {
    "collapsed": true
   },
   "outputs": [],
   "source": [
    "Cardiomegaly = Cardiomegaly.as_matrix()\n",
    "Cardiomegaly = Cardiomegaly.astype(int)\n",
    "Calcinosis_aorta = Calcinosis_aorta.as_matrix()\n",
    "Calcinosis_aorta = Calcinosis_aorta.astype(int)\n",
    "Atherosclerosis = Atherosclerosis.as_matrix()\n",
    "Atherosclerosis = Atherosclerosis.astype(int)\n",
    "Aorta_tortuous = Aorta_tortuous.as_matrix()\n",
    "Aorta_tortuous = Aorta_tortuous.astype(int)"
   ]
  },
  {
   "cell_type": "code",
   "execution_count": 75,
   "metadata": {},
   "outputs": [],
   "source": [
    "np.savetxt('norm.txt',norm,fmt='%d')"
   ]
  },
  {
   "cell_type": "code",
   "execution_count": 76,
   "metadata": {
    "collapsed": true
   },
   "outputs": [],
   "source": [
    "np.savetxt('Cardiomegaly.txt',Cardiomegaly,fmt='%d')\n",
    "np.savetxt('Calcinosis_aorta.txt',Calcinosis_aorta,fmt='%d')\n",
    "np.savetxt('Atherosclerosis.txt',Atherosclerosis,fmt='%d')\n",
    "np.savetxt('Aorta_tortuous.txt',Aorta_tortuous,fmt='%d')"
   ]
  },
  {
   "cell_type": "code",
   "execution_count": null,
   "metadata": {
    "collapsed": true
   },
   "outputs": [],
   "source": []
  }
 ],
 "metadata": {
  "kernelspec": {
   "display_name": "Python 3",
   "language": "python",
   "name": "python3"
  },
  "language_info": {
   "codemirror_mode": {
    "name": "ipython",
    "version": 3
   },
   "file_extension": ".py",
   "mimetype": "text/x-python",
   "name": "python",
   "nbconvert_exporter": "python",
   "pygments_lexer": "ipython3",
   "version": "3.7.3"
  },
  "toc": {
   "base_numbering": 1,
   "nav_menu": {},
   "number_sections": true,
   "sideBar": true,
   "skip_h1_title": false,
   "title_cell": "Table of Contents",
   "title_sidebar": "Contents",
   "toc_cell": false,
   "toc_position": {},
   "toc_section_display": true,
   "toc_window_display": false
  }
 },
 "nbformat": 4,
 "nbformat_minor": 2
}
