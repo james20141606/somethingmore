{
 "cells": [
  {
   "cell_type": "code",
   "execution_count": 1,
   "metadata": {
    "collapsed": true
   },
   "outputs": [],
   "source": [
    "import pandas as pd\n",
    "import numpy as np\n",
    "from sklearn.decomposition import PCA\n",
    "import matplotlib.pyplot as plt"
   ]
  },
  {
   "cell_type": "code",
   "execution_count": 2,
   "metadata": {
    "collapsed": true
   },
   "outputs": [],
   "source": [
    "table = pd.read_csv('dataset3.txt',delimiter='\\t')"
   ]
  },
  {
   "cell_type": "code",
   "execution_count": 3,
   "metadata": {},
   "outputs": [],
   "source": [
    "a = range(0,11,1)"
   ]
  },
  {
   "cell_type": "code",
   "execution_count": 4,
   "metadata": {
    "collapsed": true
   },
   "outputs": [],
   "source": [
    "table.columns =a"
   ]
  },
  {
   "cell_type": "code",
   "execution_count": 5,
   "metadata": {},
   "outputs": [
    {
     "data": {
      "text/html": [
       "<div>\n",
       "<style>\n",
       "    .dataframe thead tr:only-child th {\n",
       "        text-align: right;\n",
       "    }\n",
       "\n",
       "    .dataframe thead th {\n",
       "        text-align: left;\n",
       "    }\n",
       "\n",
       "    .dataframe tbody tr th {\n",
       "        vertical-align: top;\n",
       "    }\n",
       "</style>\n",
       "<table border=\"1\" class=\"dataframe\">\n",
       "  <thead>\n",
       "    <tr style=\"text-align: right;\">\n",
       "      <th></th>\n",
       "      <th>0</th>\n",
       "      <th>1</th>\n",
       "      <th>2</th>\n",
       "      <th>3</th>\n",
       "      <th>4</th>\n",
       "      <th>5</th>\n",
       "      <th>6</th>\n",
       "      <th>7</th>\n",
       "      <th>8</th>\n",
       "      <th>9</th>\n",
       "      <th>10</th>\n",
       "    </tr>\n",
       "  </thead>\n",
       "  <tbody>\n",
       "    <tr>\n",
       "      <th>0</th>\n",
       "      <td>240.25</td>\n",
       "      <td>16.81</td>\n",
       "      <td>41.0</td>\n",
       "      <td>17.07</td>\n",
       "      <td>155.0</td>\n",
       "      <td>170.0</td>\n",
       "      <td>51.0</td>\n",
       "      <td>162.71</td>\n",
       "      <td>165.05</td>\n",
       "      <td>160.38</td>\n",
       "      <td>F</td>\n",
       "    </tr>\n",
       "    <tr>\n",
       "      <th>1</th>\n",
       "      <td>249.64</td>\n",
       "      <td>17.64</td>\n",
       "      <td>42.0</td>\n",
       "      <td>16.82</td>\n",
       "      <td>158.0</td>\n",
       "      <td>176.0</td>\n",
       "      <td>60.0</td>\n",
       "      <td>160.30</td>\n",
       "      <td>161.27</td>\n",
       "      <td>168.75</td>\n",
       "      <td>F</td>\n",
       "    </tr>\n",
       "    <tr>\n",
       "      <th>2</th>\n",
       "      <td>265.69</td>\n",
       "      <td>30.25</td>\n",
       "      <td>55.0</td>\n",
       "      <td>20.70</td>\n",
       "      <td>163.0</td>\n",
       "      <td>172.0</td>\n",
       "      <td>64.0</td>\n",
       "      <td>184.24</td>\n",
       "      <td>169.06</td>\n",
       "      <td>173.31</td>\n",
       "      <td>F</td>\n",
       "    </tr>\n",
       "    <tr>\n",
       "      <th>3</th>\n",
       "      <td>252.81</td>\n",
       "      <td>21.16</td>\n",
       "      <td>46.0</td>\n",
       "      <td>18.20</td>\n",
       "      <td>159.0</td>\n",
       "      <td>160.0</td>\n",
       "      <td>72.0</td>\n",
       "      <td>182.67</td>\n",
       "      <td>174.44</td>\n",
       "      <td>153.37</td>\n",
       "      <td>F</td>\n",
       "    </tr>\n",
       "    <tr>\n",
       "      <th>4</th>\n",
       "      <td>289.00</td>\n",
       "      <td>25.00</td>\n",
       "      <td>50.0</td>\n",
       "      <td>17.30</td>\n",
       "      <td>170.0</td>\n",
       "      <td>167.0</td>\n",
       "      <td>70.0</td>\n",
       "      <td>198.68</td>\n",
       "      <td>170.79</td>\n",
       "      <td>176.13</td>\n",
       "      <td>F</td>\n",
       "    </tr>\n",
       "  </tbody>\n",
       "</table>\n",
       "</div>"
      ],
      "text/plain": [
       "       0      1     2      3      4      5     6       7       8       9  10\n",
       "0  240.25  16.81  41.0  17.07  155.0  170.0  51.0  162.71  165.05  160.38  F\n",
       "1  249.64  17.64  42.0  16.82  158.0  176.0  60.0  160.30  161.27  168.75  F\n",
       "2  265.69  30.25  55.0  20.70  163.0  172.0  64.0  184.24  169.06  173.31  F\n",
       "3  252.81  21.16  46.0  18.20  159.0  160.0  72.0  182.67  174.44  153.37  F\n",
       "4  289.00  25.00  50.0  17.30  170.0  167.0  70.0  198.68  170.79  176.13  F"
      ]
     },
     "execution_count": 5,
     "metadata": {},
     "output_type": "execute_result"
    }
   ],
   "source": [
    "table.head()"
   ]
  },
  {
   "cell_type": "code",
   "execution_count": 6,
   "metadata": {
    "collapsed": true
   },
   "outputs": [],
   "source": [
    "data = np.array(table)[:,:-1]"
   ]
  },
  {
   "cell_type": "code",
   "execution_count": 7,
   "metadata": {
    "collapsed": true
   },
   "outputs": [],
   "source": [
    "pca = PCA(n_components=None, copy=True, whiten=False)  "
   ]
  },
  {
   "cell_type": "code",
   "execution_count": 8,
   "metadata": {},
   "outputs": [
    {
     "data": {
      "text/plain": [
       "PCA(copy=True, iterated_power='auto', n_components=None, random_state=None,\n",
       "  svd_solver='auto', tol=0.0, whiten=False)"
      ]
     },
     "execution_count": 8,
     "metadata": {},
     "output_type": "execute_result"
    }
   ],
   "source": [
    "pca.fit(data)"
   ]
  },
  {
   "cell_type": "code",
   "execution_count": 9,
   "metadata": {},
   "outputs": [
    {
     "data": {
      "text/plain": [
       "array([  6.11595774e-01,   1.39157987e-01,   7.37764364e-02,\n",
       "         6.89892346e-02,   5.25709358e-02,   3.87759021e-02,\n",
       "         1.41219416e-02,   9.73404509e-04,   2.59513548e-05,\n",
       "         1.24327926e-05])"
      ]
     },
     "execution_count": 9,
     "metadata": {},
     "output_type": "execute_result"
    }
   ],
   "source": [
    "variance_ratio = pca.explained_variance_ratio_ \n",
    "pca.explained_variance_ratio_"
   ]
  },
  {
   "cell_type": "code",
   "execution_count": 10,
   "metadata": {},
   "outputs": [
    {
     "data": {
      "image/png": "[encoded data removed]",
      "text/plain": [
       "<matplotlib.figure.Figure at 0x115fe9690>"
      ]
     },
     "metadata": {},
     "output_type": "display_data"
    }
   ],
   "source": [
    "#每个主成分的方差占总体方差的比例\n",
    "plt.style.use('ggplot')\n",
    "plt.plot(variance_ratio)\n",
    "plt.title('variance ratio of principal component')\n",
    "plt.xlabel('principal component')\n",
    "plt.ylabel('variance ratio')\n",
    "plt.show()"
   ]
  },
  {
   "cell_type": "code",
   "execution_count": 11,
   "metadata": {
    "collapsed": true
   },
   "outputs": [],
   "source": [
    "#求ratio的累积分布\n",
    "def cumulative_ratio(data):\n",
    "    data_new = np.ndarray([10,])\n",
    "    for i in range(10):\n",
    "        data_new[i] = data[i] +np.sum(data[:i])\n",
    "    return data_new"
   ]
  },
  {
   "cell_type": "code",
   "execution_count": 12,
   "metadata": {
    "collapsed": true
   },
   "outputs": [],
   "source": [
    "variance_ratio_cumul = cumulative_ratio(variance_ratio)"
   ]
  },
  {
   "cell_type": "code",
   "execution_count": 13,
   "metadata": {},
   "outputs": [
    {
     "data": {
      "text/plain": [
       "array([ 0.61159577,  0.75075376,  0.8245302 ,  0.89351943,  0.94609037,\n",
       "        0.98486627,  0.99898821,  0.99996162,  0.99998757,  1.        ])"
      ]
     },
     "execution_count": 13,
     "metadata": {},
     "output_type": "execute_result"
    }
   ],
   "source": [
    "variance_ratio_cumul"
   ]
  },
  {
   "cell_type": "code",
   "execution_count": 14,
   "metadata": {},
   "outputs": [
    {
     "data": {
      "image/png": "[encoded data removed]",
      "text/plain": [
       "<matplotlib.figure.Figure at 0x119536210>"
      ]
     },
     "metadata": {},
     "output_type": "display_data"
    }
   ],
   "source": [
    "#每个主成分的方差占总体方差的比例\n",
    "plt.style.use('ggplot')\n",
    "plt.plot(variance_ratio_cumul)\n",
    "plt.title('variance ratio of principal component')\n",
    "plt.xlabel('principal component')\n",
    "plt.ylabel('variance ratio')\n",
    "plt.show()"
   ]
  },
  {
   "cell_type": "code",
   "execution_count": 15,
   "metadata": {
    "collapsed": true
   },
   "outputs": [],
   "source": [
    "pca = PCA(n_components=3, copy=True, whiten=False)  "
   ]
  },
  {
   "cell_type": "code",
   "execution_count": 16,
   "metadata": {},
   "outputs": [
    {
     "data": {
      "text/plain": [
       "(953, 3)"
      ]
     },
     "execution_count": 16,
     "metadata": {},
     "output_type": "execute_result"
    }
   ],
   "source": [
    "transformed_data = pca.fit_transform(data)\n",
    "transformed_data.shape"
   ]
  },
  {
   "cell_type": "code",
   "execution_count": 17,
   "metadata": {},
   "outputs": [
    {
     "data": {
      "text/plain": [
       "array([ 0.61159577,  0.13915799,  0.07377644])"
      ]
     },
     "execution_count": 17,
     "metadata": {},
     "output_type": "execute_result"
    }
   ],
   "source": [
    "pca.explained_variance_ratio_"
   ]
  },
  {
   "cell_type": "markdown",
   "metadata": {
    "collapsed": true
   },
   "source": [
    "#pick the first three components\n",
    "'''\n",
    "分别用原始的十维特征和PCA 选出的主成分做分级聚类，考查采用\n",
    "不同特征、不同距离度量选项对结果的影响，讨论将数据聚为几类更合\n",
    "理。将聚类结果以适当的方式显示出来，对聚类结果进行分析和讨论\n",
    "'''"
   ]
  },
  {
   "cell_type": "code",
   "execution_count": 18,
   "metadata": {},
   "outputs": [
    {
     "data": {
      "text/plain": [
       "(953, 3)"
      ]
     },
     "execution_count": 18,
     "metadata": {},
     "output_type": "execute_result"
    }
   ],
   "source": [
    "transformed_data.shape"
   ]
  },
  {
   "cell_type": "code",
   "execution_count": 19,
   "metadata": {},
   "outputs": [],
   "source": [
    "from sklearn.cluster import AgglomerativeClustering as hc\n",
    "from sklearn.cluster import AgglomerativeClustering\n",
    "from scipy.cluster import hierarchy\n",
    "from scipy.cluster.hierarchy import dendrogram, linkage\n",
    "import matplotlib.pyplot as plt"
   ]
  },
  {
   "cell_type": "code",
   "execution_count": 50,
   "metadata": {
    "collapsed": true
   },
   "outputs": [],
   "source": [
    "true_label_ = np.concatenate((np.repeat(0,468),np.repeat(1,953-468)))"
   ]
  },
  {
   "cell_type": "code",
   "execution_count": 78,
   "metadata": {
    "collapsed": true
   },
   "outputs": [],
   "source": [
    "def ACC(label):\n",
    "    true_label = np.copy(true_label_)\n",
    "    if np.sum(label_pca[:468])/np.sum(label_pca[468:]) >1: \n",
    "        true_label = - true_label +1  \n",
    "    else:\n",
    "        true_label = true_label\n",
    "    whole = 1- np.abs(np.sum(label-true_label))/953.0\n",
    "    female = 1- np.abs(np.sum(label[:468]-true_label[:468]))/468.\n",
    "    male =1- np.abs(np.sum(label[468:]-true_label[468:]))/(953.-468.)\n",
    "    return whole,female,male\n",
    "def cluster_result(affinity,linkage):\n",
    "    hcluster_1 = hc(affinity=affinity,linkage=linkage)\n",
    "    hcluster_2 = hc(affinity=affinity,linkage=linkage)\n",
    "    label_pca = hcluster_1.fit_predict(transformed_data)\n",
    "    label_origin = hcluster_2.fit_predict(data)\n",
    "    pca_acc,pca_acc_f,pca_acc_m = ACC(label_pca)\n",
    "    ori_acc,ori_acc_f,ori_acc_m = ACC(label_origin)\n",
    "    return np.array([ori_acc,ori_acc_f,ori_acc_m,pca_acc,pca_acc_f,pca_acc_m])"
   ]
  },
  {
   "cell_type": "code",
   "execution_count": 79,
   "metadata": {},
   "outputs": [],
   "source": [
    "affinity = np.array(['euclidean', 'l1', 'l2','manhattan', 'cosine'])\n",
    "linkage = np.array(['ward','complete','average'])"
   ]
  },
  {
   "cell_type": "code",
   "execution_count": 80,
   "metadata": {},
   "outputs": [],
   "source": [
    "acc_result = np.zeros([11,6])\n",
    "acc_result[0] = cluster_result(affinity[0],linkage[0])\n",
    "for i in range(2):\n",
    "    for j in range(5):\n",
    "        acc_result[5*i+j+1]= cluster_result(affinity[j],linkage[i+1])    "
   ]
  },
  {
   "cell_type": "code",
   "execution_count": 81,
   "metadata": {
    "collapsed": true
   },
   "outputs": [],
   "source": [
    "import matplotlib.pyplot as plt"
   ]
  },
  {
   "cell_type": "code",
   "execution_count": 98,
   "metadata": {
    "collapsed": true
   },
   "outputs": [],
   "source": [
    "table = pd.DataFrame(acc_result)\n",
    "table.columns= ['ori_W','ori_F','ori_M','pca_W','pca_F','pca_M']\n",
    "list = ['ward_euclidean']\n",
    "for i in range(2):\n",
    "    for j in range(5):\n",
    "        list.append(linkage[i+1]+'_'+affinity[j])\n",
    "table.index = list"
   ]
  },
  {
   "cell_type": "code",
   "execution_count": 99,
   "metadata": {},
   "outputs": [
    {
     "data": {
      "text/html": [
       "<div>\n",
       "<style>\n",
       "    .dataframe thead tr:only-child th {\n",
       "        text-align: right;\n",
       "    }\n",
       "\n",
       "    .dataframe thead th {\n",
       "        text-align: left;\n",
       "    }\n",
       "\n",
       "    .dataframe tbody tr th {\n",
       "        vertical-align: top;\n",
       "    }\n",
       "</style>\n",
       "<table border=\"1\" class=\"dataframe\">\n",
       "  <thead>\n",
       "    <tr style=\"text-align: right;\">\n",
       "      <th></th>\n",
       "      <th>ori_W</th>\n",
       "      <th>ori_F</th>\n",
       "      <th>ori_M</th>\n",
       "      <th>pca_W</th>\n",
       "      <th>pca_F</th>\n",
       "      <th>pca_M</th>\n",
       "    </tr>\n",
       "  </thead>\n",
       "  <tbody>\n",
       "    <tr>\n",
       "      <th>ward_euclidean</th>\n",
       "      <td>0.879328</td>\n",
       "      <td>0.955128</td>\n",
       "      <td>0.719588</td>\n",
       "      <td>0.799580</td>\n",
       "      <td>0.967949</td>\n",
       "      <td>0.575258</td>\n",
       "    </tr>\n",
       "    <tr>\n",
       "      <th>complete_euclidean</th>\n",
       "      <td>0.497377</td>\n",
       "      <td>1.000000</td>\n",
       "      <td>0.012371</td>\n",
       "      <td>0.497377</td>\n",
       "      <td>1.000000</td>\n",
       "      <td>0.012371</td>\n",
       "    </tr>\n",
       "    <tr>\n",
       "      <th>complete_l1</th>\n",
       "      <td>0.492130</td>\n",
       "      <td>1.000000</td>\n",
       "      <td>0.002062</td>\n",
       "      <td>0.497377</td>\n",
       "      <td>1.000000</td>\n",
       "      <td>0.012371</td>\n",
       "    </tr>\n",
       "    <tr>\n",
       "      <th>complete_l2</th>\n",
       "      <td>0.497377</td>\n",
       "      <td>1.000000</td>\n",
       "      <td>0.012371</td>\n",
       "      <td>0.497377</td>\n",
       "      <td>1.000000</td>\n",
       "      <td>0.012371</td>\n",
       "    </tr>\n",
       "    <tr>\n",
       "      <th>complete_manhattan</th>\n",
       "      <td>0.492130</td>\n",
       "      <td>1.000000</td>\n",
       "      <td>0.002062</td>\n",
       "      <td>0.497377</td>\n",
       "      <td>1.000000</td>\n",
       "      <td>0.012371</td>\n",
       "    </tr>\n",
       "    <tr>\n",
       "      <th>complete_cosine</th>\n",
       "      <td>0.498426</td>\n",
       "      <td>1.000000</td>\n",
       "      <td>0.014433</td>\n",
       "      <td>0.946485</td>\n",
       "      <td>0.897436</td>\n",
       "      <td>0.795876</td>\n",
       "    </tr>\n",
       "    <tr>\n",
       "      <th>average_euclidean</th>\n",
       "      <td>0.492130</td>\n",
       "      <td>1.000000</td>\n",
       "      <td>0.002062</td>\n",
       "      <td>0.515215</td>\n",
       "      <td>0.000000</td>\n",
       "      <td>0.987629</td>\n",
       "    </tr>\n",
       "    <tr>\n",
       "      <th>average_l1</th>\n",
       "      <td>0.516264</td>\n",
       "      <td>0.000000</td>\n",
       "      <td>0.985567</td>\n",
       "      <td>0.492130</td>\n",
       "      <td>1.000000</td>\n",
       "      <td>0.002062</td>\n",
       "    </tr>\n",
       "    <tr>\n",
       "      <th>average_l2</th>\n",
       "      <td>0.492130</td>\n",
       "      <td>1.000000</td>\n",
       "      <td>0.002062</td>\n",
       "      <td>0.515215</td>\n",
       "      <td>0.000000</td>\n",
       "      <td>0.987629</td>\n",
       "    </tr>\n",
       "    <tr>\n",
       "      <th>average_manhattan</th>\n",
       "      <td>0.516264</td>\n",
       "      <td>0.000000</td>\n",
       "      <td>0.985567</td>\n",
       "      <td>0.492130</td>\n",
       "      <td>1.000000</td>\n",
       "      <td>0.002062</td>\n",
       "    </tr>\n",
       "    <tr>\n",
       "      <th>average_cosine</th>\n",
       "      <td>0.516264</td>\n",
       "      <td>0.000000</td>\n",
       "      <td>0.985567</td>\n",
       "      <td>1.000000</td>\n",
       "      <td>0.091880</td>\n",
       "      <td>0.123711</td>\n",
       "    </tr>\n",
       "  </tbody>\n",
       "</table>\n",
       "</div>"
      ],
      "text/plain": [
       "                       ori_W     ori_F     ori_M     pca_W     pca_F     pca_M\n",
       "ward_euclidean      0.879328  0.955128  0.719588  0.799580  0.967949  0.575258\n",
       "complete_euclidean  0.497377  1.000000  0.012371  0.497377  1.000000  0.012371\n",
       "complete_l1         0.492130  1.000000  0.002062  0.497377  1.000000  0.012371\n",
       "complete_l2         0.497377  1.000000  0.012371  0.497377  1.000000  0.012371\n",
       "complete_manhattan  0.492130  1.000000  0.002062  0.497377  1.000000  0.012371\n",
       "complete_cosine     0.498426  1.000000  0.014433  0.946485  0.897436  0.795876\n",
       "average_euclidean   0.492130  1.000000  0.002062  0.515215  0.000000  0.987629\n",
       "average_l1          0.516264  0.000000  0.985567  0.492130  1.000000  0.002062\n",
       "average_l2          0.492130  1.000000  0.002062  0.515215  0.000000  0.987629\n",
       "average_manhattan   0.516264  0.000000  0.985567  0.492130  1.000000  0.002062\n",
       "average_cosine      0.516264  0.000000  0.985567  1.000000  0.091880  0.123711"
      ]
     },
     "execution_count": 99,
     "metadata": {},
     "output_type": "execute_result"
    }
   ],
   "source": [
    "table"
   ]
  },
  {
   "cell_type": "markdown",
   "metadata": {},
   "source": [
    "最好的结果是euc加上ward 以及cosine complete"
   ]
  },
  {
   "cell_type": "code",
   "execution_count": 101,
   "metadata": {},
   "outputs": [
    {
     "data": {
      "image/png": "[encoded data removed]",
      "text/plain": [
       "<matplotlib.figure.Figure at 0x11a7c1990>"
      ]
     },
     "metadata": {},
     "output_type": "display_data"
    }
   ],
   "source": [
    "x = [1,2,3,4,5,6]\n",
    "plt.plot(x,acc_result[5])\n",
    "plt.ylim(0,1)\n",
    "plt.xlim(0,7)\n",
    "labels = ['ori_W','ori_F','ori_M','pca_W','pca_F','pca_M']\n",
    "plt.xticks(x, labels)\n",
    "plt.title('use cosine and complete as clustering method')\n",
    "plt.show()"
   ]
  },
  {
   "cell_type": "code",
   "execution_count": 87,
   "metadata": {},
   "outputs": [
    {
     "data": {
      "image/png": "[encoded data removed]",
      "text/plain": [
       "<matplotlib.figure.Figure at 0x1165e5f10>"
      ]
     },
     "metadata": {},
     "output_type": "display_data"
    }
   ],
   "source": [
    "x = [1,2,3,4,5,6]\n",
    "plt.plot(x,acc_result[0])\n",
    "plt.ylim(0,1)\n",
    "plt.xlim(0,7)\n",
    "labels = ['ori_W','ori_F','ori_M','pca_W','pca_F','pca_M']\n",
    "plt.xticks(x, labels)\n",
    "plt.title('use euclidean and ward as clustering method')\n",
    "plt.show()"
   ]
  },
  {
   "cell_type": "markdown",
   "metadata": {},
   "source": [
    "比较聚类准确率？ 前468是Female\n",
    "总准确率  女生中预测错的  男生中预测错的"
   ]
  },
  {
   "cell_type": "markdown",
   "metadata": {},
   "source": [
    "print 'use PCA components as features to calculate whole accruracy: %s' %pca_acc \n",
    "print 'use PCA components as features to calculate female accruracy: %s' %pca_acc_f\n",
    "print 'use PCA components as features to calculate male accruracy: %s' %pca_acc_m \n",
    "print 'use all features to calculate whole accruracy: %s' %ori_acc \n",
    "print 'use all features to calculate female accruracy: %s' %ori_acc_f\n",
    "print 'use all features to calculate male accruracy: %s' %ori_acc_m "
   ]
  },
  {
   "cell_type": "markdown",
   "metadata": {},
   "source": [
    "画图效果很不好看，存储数据用R画图"
   ]
  },
  {
   "cell_type": "markdown",
   "metadata": {},
   "source": [
    "可以指定不同的距离方式以及其他参数"
   ]
  },
  {
   "cell_type": "code",
   "execution_count": null,
   "metadata": {
    "collapsed": true
   },
   "outputs": [],
   "source": []
  }
 ],
 "metadata": {
  "kernelspec": {
   "display_name": "Python 2",
   "language": "python",
   "name": "python2"
  },
  "language_info": {
   "codemirror_mode": {
    "name": "ipython",
    "version": 2
   },
   "file_extension": ".py",
   "mimetype": "text/x-python",
   "name": "python",
   "nbconvert_exporter": "python",
   "pygments_lexer": "ipython2",
   "version": "2.7.13"
  }
 },
 "nbformat": 4,
 "nbformat_minor": 2
}
