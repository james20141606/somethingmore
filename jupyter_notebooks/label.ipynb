{
 "cells": [
  {
   "cell_type": "code",
   "execution_count": 1,
   "metadata": {
    "collapsed": true
   },
   "outputs": [],
   "source": [
    "%matplotlib inline\n",
    "import SimpleITK as sitk\n",
    "import numpy as np # linear algebra\n",
    "import pandas as pd # data processing, CSV file I/O (e.g. pd.read_csv)\n",
    "import os\n",
    "import scipy.ndimage\n",
    "from skimage import measure, morphology\n",
    "from mpl_toolkits.mplot3d.art3d import Poly3DCollection\n",
    "import h5py\n",
    "import matplotlib.pyplot as plt"
   ]
  },
  {
   "cell_type": "code",
   "execution_count": null,
   "metadata": {
    "collapsed": true
   },
   "outputs": [],
   "source": []
  },
  {
   "cell_type": "code",
   "execution_count": 2,
   "metadata": {},
   "outputs": [
    {
     "name": "stdout",
     "output_type": "stream",
     "text": [
      "/home/chenxupeng/projects/pr\n"
     ]
    }
   ],
   "source": [
    "cd .."
   ]
  },
  {
   "cell_type": "code",
   "execution_count": 3,
   "metadata": {
    "collapsed": true
   },
   "outputs": [],
   "source": [
    "patient_info =pd.read_csv('data/annotations.csv')\n",
    "id_ = np.loadtxt('label/idwithnodeindex',dtype = \"S\")\n",
    "patient_info['node'] = id_\n",
    "diameter = {}\n",
    "for i in range(patient_info.shape[0]):\n",
    "    diameter[i] = patient_info['diameter_mm'][i]"
   ]
  },
  {
   "cell_type": "code",
   "execution_count": null,
   "metadata": {
    "collapsed": true
   },
   "outputs": [],
   "source": [
    "patient_path = {}\n",
    "coord_X = {}\n",
    "coord_Y = {}\n",
    "coord_Z = {}\n",
    "diameter = {}\n",
    "seriesuid = {}\n",
    "for i in range(patient_info.shape[0]):\n",
    "    patient_path[i] = 'data/train_set/'+ patient_info['seriesuid'][i] + '.mhd'\n",
    "    coord_X[i]= patient_info['coordX'][i] \n",
    "    coord_Y[i]= patient_info['coordY'][i]\n",
    "    coord_Z[i]= patient_info['coordZ'][i]\n",
    "    diameter[i] = patient_info['diameter_mm'][i]\n",
    "    seriesuid[i] = patient_info['seriesuid'][i]"
   ]
  },
  {
   "cell_type": "code",
   "execution_count": null,
   "metadata": {},
   "outputs": [],
   "source": [
    "origin_node = {}\n",
    "for i in range(patient_info.shape[0]):\n",
    "    #找第i行node对应第几个病人的origin\n",
    "    count = np.unique(np.array(patient_info[\"seriesuid\"])[:i+1]).shape[0]\n",
    "    origin_node[i] = origin[count-1]\n",
    "v_center = {}\n",
    "center = {}\n",
    "for i in range(975):\n",
    "    center[i] = np.array([coord_X[i],coord_Y[i],coord_Z[i]])\n",
    "    v_center[i] = center[i] -origin_node[i] \n",
    "vcenter = np.array([val for (key,val) in v_center.iteritems()])"
   ]
  },
  {
   "cell_type": "code",
   "execution_count": null,
   "metadata": {},
   "outputs": [],
   "source": [
    "index = np.array([])\n",
    "for i in range(975):\n",
    "    if vcenter[i][0] >0:\n",
    "        if vcenter[i][1] >0:\n",
    "            if vcenter[i][2] >0:\n",
    "                index = np.concatenate((index,[i]))"
   ]
  },
  {
   "cell_type": "code",
   "execution_count": 20,
   "metadata": {},
   "outputs": [],
   "source": [
    "for i in index:\n",
    "    i = int(i)\n",
    "    count = np.unique(np.array(patient_info[\"seriesuid\"])[:i+1]).shape[0] -1 \n",
    "    index_1, index_2 = count/20 +1 ,count%20\n",
    "    with h5py.File('preprocess/processed_tensor/processed_tensor_'+str(index_1)) as f:\n",
    "        t = f[f.keys()[int(index_2)]][:,:,:]\n",
    "    local = vcenter[i]\n",
    "    x,y,z = local[0],local[1],local[2]\n",
    "    if 0 <= diameter[i] <= 6:\n",
    "        r = 3      \n",
    "    elif 6 <= diameter[i] < 16:\n",
    "        r = 8\n",
    "    else:\n",
    "        r = 20\n",
    "    ind = {}\n",
    "    for j in range(12):\n",
    "        tt= np.rint(np.array([x-r,x+r,y-r,y+r,z-r,z+r,z+2*r,z+3*r,x+2*r,x+3*r,y+2*r,y+3*r])).astype('int')\n",
    "        ind[j+1] = tt[j] \n",
    "    tensor_posi = t[ind[1]:ind[2],ind[3]:ind[4],ind[5]:ind[6]]\n",
    "    if round(z+3*r) < t.shape[2]:\n",
    "        tensor_nega =  t[ind[1]:ind[2],ind[3]:ind[4],ind[7]:ind[8]]\n",
    "    elif round(x+3*r) < t.shape[0]:\n",
    "        tensor_negaa = t[ind[9]:ind[10],ind[3]:ind[4],ind[5]:ind[6]]\n",
    "    elif round(y+3*r) < t.shape[1]:\n",
    "        tensor_negaaa =  t[ind[1]:ind[2],ind[11]:ind[12],ind[5]:ind[6]]\n",
    "    else:\n",
    "        pass\n",
    "    name = patient_info[\"node\"][i]\n",
    "    with h5py.File('preprocess/3D_/'+str(2*r)+'/'+name) as m:\n",
    "        m.create_dataset('posi',data =tensor_posi )\n",
    "        m.create_dataset('nega',data =tensor_nega )"
   ]
  },
  {
   "cell_type": "code",
   "execution_count": 9,
   "metadata": {
    "collapsed": true
   },
   "outputs": [],
   "source": [
    "'''\n",
    "patient_path = {}\n",
    "coord_X = {}\n",
    "coord_Y = {}\n",
    "coord_Z = {}\n",
    "diameter = {}\n",
    "seriesuid = {}\n",
    "for i in range(patient_info.shape[0]):\n",
    "    patient_path[i] = 'data/train_set/'+ patient_info['seriesuid'][i] + '.mhd'\n",
    "    coord_X[i]= patient_info['coordX'][i] \n",
    "    coord_Y[i]= patient_info['coordY'][i]\n",
    "    coord_Z[i]= patient_info['coordZ'][i]\n",
    "    diameter[i] = patient_info['diameter_mm'][i]\n",
    "    seriesuid[i] = patient_info['seriesuid'][i]\n",
    "\n",
    "spacing = {}\n",
    "img = {}\n",
    "img_array = {}\n",
    "for i in range(patient_info.shape[0]):\n",
    "    img[i] = sitk.ReadImage(patient_path[i])\n",
    "    spacing[i] = np.array(img[i].GetSpacing())\n",
    "origin = {}\n",
    "for i in range(patient_info.shape[0]):\n",
    "    origin[i] = np.array(img[i].GetOrigin())\n",
    "    \n",
    "id_ = np.array(patient_info[\"seriesuid\"])\n",
    "idd = np.copy(id_)\n",
    "for i in range(975):\n",
    "    if id_[i] in idd[:i]:\n",
    "        count = 1\n",
    "        for j in range(i):\n",
    "            if id_[i] == id_[j][:10]:\n",
    "                count += 1\n",
    "        id_[i] = id_[i]+'_'+str(count)\n",
    "        print count\n",
    "    else:\n",
    "        id_[i] = id_[i]+'_'+str(1)\n",
    "        \n",
    "np.savetxt('label/idwithnodeindex',id_,fmt='%s')\n",
    "\n",
    "#spacing dimension origin都是根据病人算的，要还原到975个样本里\n",
    "with h5py.File('label/patientinfo') as f:\n",
    "    for i in range(975):\n",
    "        name = patient_info.iloc[i,5]\n",
    "        f.create_group(name)\n",
    "        f.create_dataset(name+'/coordX',data = coord_X[i])\n",
    "        f.create_dataset(name+'/coordY',data = coord_Y[i])\n",
    "        f.create_dataset(name+'/coordZ',data = coord_Z[i] )\n",
    "        f.create_dataset(name+'/diameter',data = diameter[i])\n",
    "        f.create_dataset(name+'/origin',data = origin[i])\n",
    "        f.create_dataset(name+'/spacing',data = spacing[i])\n",
    "distance_x= {}\n",
    "distance_y= {}\n",
    "distance_z= {}\n",
    "diameter_x = {}\n",
    "diameter_y = {}\n",
    "diameter_z = {}\n",
    "for i in range(975):\n",
    "    diameter_x[i] = (origin[i][0] - coord_X[i])/spacing[i][0]\n",
    "    diameter_y[i] = (origin[i][1] - coord_Y[i])/spacing[i][1]\n",
    "    diameter_z[i] = (origin[i][2] - coord_Z[i])/spacing[i][2]\n",
    "    distance_x[i] = diameter[i]/spacing[i][0]\n",
    "    distance_y[i] = diameter[i]/spacing[i][1]\n",
    "    distance_z[i] = diameter[i]/spacing[i][2]\n",
    "\n",
    "with h5py.File('label/labelinfo') as f:\n",
    "    for i in range(975):\n",
    "        name = patient_info.iloc[i:i+1,0:1]\n",
    "        f.create_group(name)\n",
    "        f.create_dataset(name+'/diameter_x',data = diameter_x[i])\n",
    "        f.create_dataset(name+'/diameter_y',data = diameter_y[i])\n",
    "        f.create_dataset(name+'/diameter_z',data = diameter_z[i])\n",
    "        f.create_dataset(name+'/distance_x',data = distance_x[i])\n",
    "        f.create_dataset(name+'/distance_y',data = distance_y[i]) \n",
    "        f.create_dataset(name+'/distance_z',data = distance_z[i])\n",
    "        f.create_dataset(name+'/dimension_x',data = )\n",
    "        f.create_dataset(name+'/dimension_y',data = )\n",
    "        f.create_dataset(name+'/dimension_z',data = )  \n",
    "\n",
    "origin_ = {}\n",
    "origin = np.array([[],[],[]]).T\n",
    "for i in range(30):\n",
    "    origin_[i] = np.loadtxt('preprocess/origin/origin_info_'+str(i+1)+'.txt',dtype = \"S\")\n",
    "    origin = np.concatenate((origin,origin_[i]))\n",
    "origin = origin.astype('float')\n",
    "np.savetxt('preprocess/origin/origin.txt',origin,fmt = '%f')\n",
    "\n",
    "#结节直径：diameter/spacing  处以2位半径  \n",
    "#结节中心点： 算annotation的坐标距离样本中心坐标的dx dy dz，分别除以各自的spacing即为最后的距离  \n",
    "#0-6   6-16   15-40  \n",
    "#三个方向半径不同 按照最大长度 截正方体\n",
    "#找到img的三个维度，中心点，由distance推算出要截的中心点  以及三个方向的最长长度   截出来正方体  \n",
    "#即确定三个维度的i j k的范围  存下来这个范围  \n",
    "#经过分析其实不需要spacing和origin的东西了，只用annotation，距离和diameter在新图像的上面是多少就是多少层！\n",
    "origin = np.loadtxt('preprocess/origin/origin.txt')\n",
    "#找到所有node对应的origin\n",
    "origin_node = {}\n",
    "for i in range(patient_info.shape[0]):\n",
    "    #找第i行node对应第几个病人的origin\n",
    "    count = np.unique(np.array(patient_info[\"seriesuid\"])[:i+1]).shape[0]\n",
    "    origin_node[i] = origin[count-1]\n",
    "v_center = {}\n",
    "center = {}\n",
    "for i in range(975):\n",
    "    center[i] = np.array([coord_X[i],coord_Y[i],coord_Z[i]])\n",
    "    v_center[i] = origin_node[i] - center[i]\n",
    "vcenter = np.array([val for (key,val) in v_center.iteritems()])\n",
    "np.savetxt('preprocess/vcenter.txt',vcenter,fmt = '%f')\n",
    "\n",
    "shapee = np.array([])\n",
    "for i in range(975):\n",
    "    count = np.unique(np.array(patient_info[\"seriesuid\"])[:i+1]).shape[0] -1 \n",
    "    index_1, index_2 = count/20 +1 ,count%20\n",
    "    with h5py.File('preprocess/processed_tensor/processed_tensor_'+str(index_1)) as f:\n",
    "        t = f[f.keys()[int(index_2)]][:,:,:]\n",
    "        shape_ = np.array(t.shape)\n",
    "    shapee = np.concatenate((shapee,shape_))\n",
    "np.savetxt('preprocess/processedtensor_dimension.txt',shapee,fmt = '%f')\n",
    "'''"
   ]
  },
  {
   "cell_type": "code",
   "execution_count": 10,
   "metadata": {
    "collapsed": true
   },
   "outputs": [],
   "source": []
  },
  {
   "cell_type": "code",
   "execution_count": 11,
   "metadata": {
    "collapsed": true
   },
   "outputs": [],
   "source": []
  },
  {
   "cell_type": "code",
   "execution_count": 17,
   "metadata": {
    "collapsed": true
   },
   "outputs": [],
   "source": [
    "#挑选三个文件夹下的posi和nega"
   ]
  },
  {
   "cell_type": "code",
   "execution_count": 73,
   "metadata": {},
   "outputs": [
    {
     "name": "stdout",
     "output_type": "stream",
     "text": [
      "/home/chenxupeng/projects/pr/preprocess/3D_/6\n"
     ]
    }
   ],
   "source": [
    "cd /home/chenxupeng/projects/pr/preprocess/3D_/6"
   ]
  },
  {
   "cell_type": "code",
   "execution_count": 69,
   "metadata": {},
   "outputs": [],
   "source": [
    "name = np.loadtxt('a.txt',dtype = \"S\")\n",
    "pick_posi = np.array([])\n",
    "pick_nega = np.array([])\n",
    "for i in range(name.shape[0]):\n",
    "    with h5py.File(name[i]) as f:\n",
    "        posi = f['posi'][:,:,:]\n",
    "        nega = f['nega'][:,:,:]\n",
    "    if posi.shape[0]+posi.shape[1]+posi.shape[2] ==48:\n",
    "        pick_posi = np.concatenate((pick_posi,[name[i]]))\n",
    "    if nega.shape[0]+nega.shape[1]+nega.shape[2] == 40:\n",
    "        pick_nega = np.concatenate((pick_nega,[name[i]]))\n",
    "np.savetxt('nega_pick',pick_nega,fmt = '%s')\n",
    "np.savetxt('posi_pick',pick_posi,fmt = '%s')"
   ]
  },
  {
   "cell_type": "code",
   "execution_count": 70,
   "metadata": {},
   "outputs": [
    {
     "data": {
      "text/plain": [
       "(197,)"
      ]
     },
     "execution_count": 70,
     "metadata": {},
     "output_type": "execute_result"
    }
   ],
   "source": [
    "pick_nega.shape"
   ]
  },
  {
   "cell_type": "code",
   "execution_count": 71,
   "metadata": {},
   "outputs": [
    {
     "data": {
      "text/plain": [
       "(373,)"
      ]
     },
     "execution_count": 71,
     "metadata": {},
     "output_type": "execute_result"
    }
   ],
   "source": [
    "name.shape"
   ]
  },
  {
   "cell_type": "code",
   "execution_count": 72,
   "metadata": {},
   "outputs": [
    {
     "data": {
      "text/plain": [
       "(189,)"
      ]
     },
     "execution_count": 72,
     "metadata": {},
     "output_type": "execute_result"
    }
   ],
   "source": [
    "pick_posi.shape"
   ]
  },
  {
   "cell_type": "code",
   "execution_count": 122,
   "metadata": {
    "collapsed": true
   },
   "outputs": [],
   "source": []
  },
  {
   "cell_type": "code",
   "execution_count": 74,
   "metadata": {
    "collapsed": true
   },
   "outputs": [],
   "source": [
    "name = np.loadtxt('a.txt',dtype = \"S\")\n",
    "countposi = np.array([])\n",
    "countnega = np.array([])\n",
    "for i in range(name.shape[0]):\n",
    "    with h5py.File(name[i]) as f:\n",
    "        posi = f['posi'][:,:,:]\n",
    "        nega = f['nega'][:,:,:]\n",
    "    countposi = np.concatenate((countposi,[posi.shape[0]+posi.shape[1]+posi.shape[2]]))   \n",
    "    countnega = np.concatenate((countnega,[nega.shape[0]+nega.shape[1]+nega.shape[2]]))  "
   ]
  },
  {
   "cell_type": "code",
   "execution_count": 65,
   "metadata": {},
   "outputs": [
    {
     "data": {
      "image/png": "[encoded data removed]",
      "text/plain": [
       "<matplotlib.figure.Figure at 0x7f091b84b4d0>"
      ]
     },
     "metadata": {},
     "output_type": "display_data"
    }
   ],
   "source": [
    "plt.hist(countposi,bins = 20)\n",
    "plt.show()"
   ]
  },
  {
   "cell_type": "code",
   "execution_count": 66,
   "metadata": {},
   "outputs": [
    {
     "data": {
      "image/png": "[encoded data removed]",
      "text/plain": [
       "<matplotlib.figure.Figure at 0x7f090284ce90>"
      ]
     },
     "metadata": {},
     "output_type": "display_data"
    }
   ],
   "source": [
    "plt.hist(countnega,bins = 20)\n",
    "plt.show()"
   ]
  },
  {
   "cell_type": "code",
   "execution_count": null,
   "metadata": {
    "collapsed": true
   },
   "outputs": [],
   "source": [
    "                                                                                                                                                                                                                                                                                                                                                                                                                                                                                                                                                                                                                                                                                                                                                                                                                                                                                                                                                                                                                                                                                                                                                                                                                                                                                                                                                                                        "
   ]
  },
  {
   "cell_type": "code",
   "execution_count": 38,
   "metadata": {
    "collapsed": true
   },
   "outputs": [],
   "source": []
  },
  {
   "cell_type": "code",
   "execution_count": 141,
   "metadata": {
    "collapsed": true
   },
   "outputs": [],
   "source": []
  },
  {
   "cell_type": "code",
   "execution_count": null,
   "metadata": {
    "collapsed": true
   },
   "outputs": [],
   "source": []
  },
  {
   "cell_type": "code",
   "execution_count": null,
   "metadata": {
    "collapsed": true
   },
   "outputs": [],
   "source": []
  },
  {
   "cell_type": "code",
   "execution_count": null,
   "metadata": {
    "collapsed": true
   },
   "outputs": [],
   "source": []
  },
  {
   "cell_type": "code",
   "execution_count": null,
   "metadata": {
    "collapsed": true
   },
   "outputs": [],
   "source": []
  },
  {
   "cell_type": "code",
   "execution_count": null,
   "metadata": {
    "collapsed": true
   },
   "outputs": [],
   "source": []
  },
  {
   "cell_type": "code",
   "execution_count": null,
   "metadata": {
    "collapsed": true
   },
   "outputs": [],
   "source": []
  },
  {
   "cell_type": "code",
   "execution_count": null,
   "metadata": {
    "collapsed": true
   },
   "outputs": [],
   "source": []
  },
  {
   "cell_type": "code",
   "execution_count": null,
   "metadata": {
    "collapsed": true
   },
   "outputs": [],
   "source": []
  },
  {
   "cell_type": "code",
   "execution_count": 219,
   "metadata": {
    "collapsed": true
   },
   "outputs": [],
   "source": []
  },
  {
   "cell_type": "code",
   "execution_count": null,
   "metadata": {
    "collapsed": true
   },
   "outputs": [],
   "source": []
  },
  {
   "cell_type": "code",
   "execution_count": null,
   "metadata": {
    "collapsed": true
   },
   "outputs": [],
   "source": []
  },
  {
   "cell_type": "code",
   "execution_count": null,
   "metadata": {
    "collapsed": true
   },
   "outputs": [],
   "source": []
  },
  {
   "cell_type": "code",
   "execution_count": null,
   "metadata": {
    "collapsed": true
   },
   "outputs": [],
   "source": []
  }
 ],
 "metadata": {
  "kernelspec": {
   "display_name": "Python 2",
   "language": "python",
   "name": "python2"
  },
  "language_info": {
   "codemirror_mode": {
    "name": "ipython",
    "version": 2
   },
   "file_extension": ".py",
   "mimetype": "text/x-python",
   "name": "python",
   "nbconvert_exporter": "python",
   "pygments_lexer": "ipython2",
   "version": "2.7.13"
  }
 },
 "nbformat": 4,
 "nbformat_minor": 2
}
