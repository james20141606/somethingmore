{
 "cells": [
  {
   "cell_type": "markdown",
   "metadata": {},
   "source": [
    "# Gibbs sampling for linear regression in Python\n",
    "\n",
    "Kieran Campbell - kieranc [at] well.ox.ac.uk"
   ]
  },
  {
   "cell_type": "markdown",
   "metadata": {},
   "source": [
    "### Bayesian linear regression\n",
    "\n",
    "Here we are interested in Gibbs sampling for normal linear regression with one independent variable. We assume we have paired data  \\\\( (y_i, x_i) , i = 1, \\ldots, N \\\\). We wish to find the posterior distributions of the coefficients \\\\(\\beta_0\\\\) (the intercept), \\\\(\\beta_1\\\\) (the gradient) and of the precision $\\tau$ which is the reciprocal of the variance. The model can be written as \n",
    "\n",
    "$$ y_i \\sim \\mathcal{N}(\\beta_0 + \\beta_1 x_i, 1 / \\tau) $$\n",
    "\n",
    "or equivalently\n",
    "\n",
    "$$ y_i = \\beta_0 + \\beta_1 x_i + \\epsilon, \\; \\; \\epsilon \\sim \\mathcal{N}(0, 1 / \\tau) $$\n",
    "\n",
    "The likelihood for this model may be written as\n",
    "\n",
    "$$ L(y_1, \\ldots, y_N, x_1, \\ldots, x_N | \\beta_0, \\beta_1, \\tau) = \\prod_{i = 1}^N \\mathcal{N}(\\beta_0 + \\beta_1 x_i, 1 / \\tau) $$\n",
    "\n",
    "We also wish to place [conjugate priors](https://en.wikipedia.org/wiki/Conjugate_prior) on \\\\(\\beta_0\\\\), \\\\(\\beta_1\\\\) and \\\\(\\tau\\\\) for reasons that will become apparent later. For these we choose\n",
    "\n",
    "$$ \\beta_0 \\sim \\mathcal{N}(\\mu_0, 1 / \\tau_0) $$\n",
    "\n",
    "$$ \\beta_1 \\sim \\mathcal{N}(\\mu, 1 / \\tau_1) $$\n",
    "\n",
    "$$ \\tau \\sim \\text{Gamma}(\\alpha, \\beta) $$\n",
    "\n",
    "\n",
    "\n",
    "### Gibbs sampling\n",
    "\n",
    "[Gibbs sampling](https://en.wikipedia.org/wiki/Gibbs_sampling) works as follows: suppose we have two parameters \\\\(\\theta_1\\\\) and \\\\(\\theta_2\\\\) and some data \\\\(x\\\\). Our goal is to find the posterior distribution of \\\\(p(\\theta_1, \\theta_2 \\| x)\\\\). To do this in a Gibbs sampling regime we need to work out the conditional distributions \\\\(p(\\theta_1 \\| \\theta_2, x)\\\\) and \\\\(p(\\theta_2 \\| \\theta_1, x)\\\\) (which is typically the hard part). The Gibbs updates are then\n",
    "\n",
    "1. Pick some initial \\\\(\\theta_2^{(i)}\\\\).\n",
    "2. Sample \\\\( \\theta_1^{(i+1)} \\sim p(\\theta_1 \\| \\theta_2^{(i)}, x) \\\\)\n",
    "3. Sample \\\\( \\theta_2^{(i+1)} \\sim p(\\theta_2 \\| \\theta_1^{(i+1)}, x) \\\\)\n",
    "\n",
    "Then increment \\\\(i\\\\) and repeat \\\\(K\\\\) times to draw \\\\(K\\\\) samples. This is equivalent to sampling new values for a given variable *while holding all others constant*. The key thing to remember in Gibbs sampling is to always use the most recent parameter values for all samples (e.g. sample \\\\(\\theta_2^{(i+1)} \\sim p(\\theta_2 \\| \\theta_1^{(i+1)}, x)\\\\) and not \\\\(\\theta_2^{(i+1)} \\sim p(\\theta_2 \\| \\theta_1^{(i)}, x)\\\\) provided \\\\(\\theta_1^{(i+1)}\\\\) has already been sampled).\n",
    "\n",
    "The massive advantage of Gibbs sampling over other MCMC methods (namely Metropolis-Hastings) is that no tuning parameters are required! The downside is the need of a fair bit of maths to derive the updates, which even then aren't always guaranteed to exist."
   ]
  },
  {
   "cell_type": "markdown",
   "metadata": {},
   "source": [
    "### Pythonic setup\n",
    "\n",
    "First let's set ourselves up with python imports and functions so we can implement the functions as we derive them."
   ]
  },
  {
   "cell_type": "code",
   "execution_count": 5,
   "metadata": {},
   "outputs": [],
   "source": [
    "import numpy as np\n",
    "\n",
    "%matplotlib inline\n",
    "import matplotlib.pyplot as plt\n",
    "import seaborn as sns"
   ]
  },
  {
   "cell_type": "markdown",
   "metadata": {},
   "source": [
    "### Deriving a Gibbs sampler\n",
    "\n",
    "The general approach to deriving an update for a variable is \n",
    "\n",
    "1. Write down the posterior conditional density in log-form\n",
    "2. Throw away all terms that don't depend on the current sampling variable\n",
    "3. Pretend this is the density for your variable of interest and all other variables are fixed. What distribution does the log-density remind you of?\n",
    "4. That's your conditional sampling density!\n",
    "\n",
    "We go through this for our three variables step by step below.\n",
    "\n",
    "#### Updates for \\\\(\\beta_0\\\\)\n",
    "\n",
    "We're interested in finding\n",
    "\n",
    "$$ p(\\beta_0 | \\beta_1, \\tau, y, x) \\propto p(y, x | \\beta_0, \\beta_1, \\tau) p(\\beta_0) $$\n",
    "\n",
    "\n",
    "Note that \\\\(p(y, x \\| \\beta_0, \\beta_1, \\tau)\\\\) is just the likelihood from above and \\\\(p(\\beta_0)\\\\) is simply \\\\(\\mathcal{N}(\\mu_0, 1 / \\tau_0)\\\\). \n",
    "\n",
    "If a variable \\\\(x\\\\) follows a normal distribution with mean \\\\(\\mu\\\\) and precision \\\\(\\tau\\\\) then the log-dependence on \\\\(x\\\\) is \\\\(-\\frac{\\tau}{2}(x - \\mu)^2 \\propto -\\frac{\\tau}{2} x^2 + \\tau \\mu x\\\\). So if we can force the log-posterior conditional density into a quadratic form then the coefficient of \\\\(x^2\\\\) (where \\\\(x\\\\) is the variable of interest) will be \\\\(\\tau \\mu\\\\) and the coefficient of \\\\(x^2\\\\) will be \\\\(-\\frac{\\tau}{2}\\\\). \n",
    "\n",
    "Hence the log-dependence on \\\\(\\beta_0\\\\) is\n",
    "\n",
    "$$ -\\frac{\\tau_0}{2}(\\beta_0 - \\mu_0)^2 - \\frac{\\tau}{2} \\sum_{i=1}^N (y_i - \\beta_0 - \\beta_1 x_i)^2 $$\n",
    "\n",
    "Although it's perhaps not obvious, this expression is quadratic in \\\\(\\beta_0\\\\), meaning the conditional sampling density for \\\\(\\beta_0\\\\) will also be normal. A bit of algebra (dropping all terms that don't involve \\\\(\\beta_0\\\\) takes us to\n",
    "\n",
    "$$ -\\frac{\\tau_0}{2} \\beta_0^2 +\\tau_0 \\mu_0 \\beta_0 -\\frac{\\tau}{2} N \\beta_0^2 \n",
    "+ \\tau \\sum_i (y_i - \\beta_1 x_i) \\beta_0$$\n",
    "\n",
    "In other words the coefficient of \\\\(\\beta_0\\\\) is \\\\(\\tau_0 \\mu_0 + \\tau \\sum_i (y_i - \\beta_1 x_i) \\\\) while the coefficient of \\\\(\\beta_0^2\\\\) is \\\\(-\\frac{\\tau_0}{2} -\\frac{\\tau}{2} N\\\\). This implies the conditional sampling distribution of \\\\(\\beta_0\\\\) is\n",
    "\n",
    "$$ \\beta_0 | \\beta_1, \\tau, \\tau_0, \\mu_0, x, y \\sim \\mathcal{N}\\left( \\frac{\\tau_0 \\mu_0 + \\tau \\sum_i (y_i - \\beta_1 x_i)}{\\tau_0 + \\tau N}, 1 / (\\tau_0 + \\tau N) \\right) $$\n",
    "\n",
    "Let's turn that into a python function:"
   ]
  },
  {
   "cell_type": "code",
   "execution_count": 38,
   "metadata": {
    "collapsed": true
   },
   "outputs": [],
   "source": [
    "def sample_beta_0(y, x, beta_1, tau, mu_0, tau_0):\n",
    "    N = len(y)\n",
    "    assert len(x) == N\n",
    "    precision = tau_0 + tau * N\n",
    "    mean = tau_0 * mu_0 + tau * np.sum(y - beta_1 * x)\n",
    "    mean /= precision\n",
    "    return np.random.normal(mean, 1 / np.sqrt(precision))"
   ]
  },
  {
   "cell_type": "markdown",
   "metadata": {},
   "source": [
    "Sweet! Now back to the maths.\n",
    "\n",
    "#### Update for \\\\(\\beta_1\\\\)\n",
    "\n",
    "Similarly to \\\\(\\beta_0\\\\), the dependence of the conditional log-posterior is given by\n",
    "\n",
    "$$ -\\frac{\\tau_1}{2}(\\beta_1 - \\mu_1)^2 - \\frac{\\tau}{2} \\sum_{i=1}^N (y_i - \\beta_0 - \\beta_1 x_i)^2 $$\n",
    "\n",
    "which if we expand out and drop all terms that don't include \\\\(\\beta_1\\\\) we get\n",
    "\n",
    "$$ -\\frac{\\tau_1}{2} \\beta_1^2 +\\tau_1 \\mu_1 \\beta_1 -\\frac{\\tau}{2} \\sum_i x_i^2 \\beta_1^2 \n",
    "+ \\tau \\sum_i (y_i - \\beta_0) x_i \\beta_1$$\n",
    "\n",
    "so the coefficient of \\\\(\\beta_1\\\\) is \\\\(\\tau_1 \\mu_1 + \\tau  \\sum_i (y_i - \\beta_0) x_i\\\\) while the coefficient of \\\\(\\beta_1^2\\\\) is  \\\\(-\\frac{\\tau_1}{2} -\\frac{\\tau}{2} \\sum_i x_i^2\\\\). Therefore the conditional sampling density of \\\\(\\beta_1\\\\) is \n",
    "\n",
    "$$ \\beta_1 | \\beta_0, \\tau, \\mu_1, \\tau_1, x, y \\sim \\mathcal{N}\\left( \\frac{\\tau_1 \\mu_1 + \\tau  \\sum_i (y_i - \\beta_0) x_i}{\\tau_1 + \\tau \\sum_i x_i^2}, 1 / (\\tau_1 + \\tau \\sum_i x_i^2) \\right) $$\n",
    "\n",
    "Let's turn that into a Python function too:"
   ]
  },
  {
   "cell_type": "code",
   "execution_count": 39,
   "metadata": {
    "collapsed": true
   },
   "outputs": [],
   "source": [
    "def sample_beta_1(y, x, beta_0, tau, mu_1, tau_1):\n",
    "    N = len(y)\n",
    "    assert len(x) == N\n",
    "    precision = tau_1 + tau * np.sum(x * x)\n",
    "    mean = tau_1 * mu_1 + tau * np.sum( (y - beta_0) * x)\n",
    "    mean /= precision\n",
    "    return np.random.normal(mean, 1 / np.sqrt(precision))"
   ]
  },
  {
   "cell_type": "markdown",
   "metadata": {},
   "source": [
    "#### Update for \\\\(\\tau\\\\)\n",
    "\n",
    "Deriving the Gibbs update for \\\\(\\tau\\\\) is the trickiest part of this exercise as we have to deal with non-Gaussian distributions. First let's introduce the Gamma distribution, parametrised by \\\\(\\alpha\\\\) and \\\\(\\beta\\\\). Up to the normalising constant the probability of an observation \\\\(x\\\\) under a Gamma density is given by\n",
    "$$ p(x; \\alpha, \\beta) \\propto \\beta^\\alpha x^{\\alpha - 1} e^{-\\beta x} $$\n",
    "and so the log-dependency of any terms involving \\\\(x\\\\) is given by\n",
    "$$ l(x; \\alpha, \\beta) \\propto (\\alpha - 1) \\log x - \\beta x $$\n",
    "\n",
    "Now back to our derivation. We want\n",
    "\n",
    "$$ p(\\tau | \\beta_0, \\beta_1, y, x) \\propto p(y, x | \\beta_0 \\beta_1, \\tau) p(\\tau) $$\n",
    "\n",
    "which in this case is a density of \n",
    "\n",
    "$$ \\prod_{i = 1}^N \\mathcal{N}(\\beta_0 + \\beta_1 x_i, 1 / \\tau) \\times \\text{Gamma}(\\tau | \\alpha, \\beta) $$\n",
    "\n",
    "The key question to ask here is, *what's the density of \\\\(\\tau\\\\) assuming all other parameters are held constant*? If we look at the log density of this expression we get \n",
    "\n",
    "$$ \\frac{N}{2} \\log \\tau - \\frac{\\tau}{2} \\sum_i (y_i - \\beta_0 - \\beta_1 x_i)^2 + (\\alpha - 1) \\log \\tau - \\beta \\tau $$\n",
    "\n",
    "which has a coefficient of \\\\(\\tau\\\\) of \\\\( - \\sum_i \\frac{(y_i - \\beta_0 - \\beta_1 x_i)^2}{2} - \\beta\\\\) and a coefficient of \\\\(\\log \\tau\\\\) of \\\\(\\frac{N}{2} + \\alpha - 1\\\\). If you look at the equation of the log-density of the Gamma distribution above, this implies that \\\\(\\tau\\\\) as a conditional sampling density of\n",
    "\n",
    "$$ \\tau | \\beta_0, \\beta_1, \\alpha, \\beta, x, y \\sim \\text{Gamma} \\left( \\alpha + \\frac{N}{2}, \\beta + \\sum_i \\frac{(y_i - \\beta_0 - \\beta_1 x_i)^2}{2} \\right) $$\n",
    "\n",
    "We can now code this into python. `np.random.gamma` uses the shape and scale parameterisation of a Gamma distribution, where the shape \\\\(k = \\alpha\\\\) but the scale \\\\(\\theta = 1 / \\beta\\\\), so we need to invert our expression for \\\\(\\beta\\\\) before sampling:"
   ]
  },
  {
   "cell_type": "code",
   "execution_count": 40,
   "metadata": {},
   "outputs": [],
   "source": [
    "def sample_tau(y, x, beta_0, beta_1, alpha, beta):\n",
    "    N = len(y)\n",
    "    alpha_new = alpha + N / 2\n",
    "    resid = y - beta_0 - beta_1 * x\n",
    "    beta_new = beta + np.sum(resid * resid) / 2\n",
    "    return np.random.gamma(alpha_new, 1 / beta_new)"
   ]
  },
  {
   "cell_type": "markdown",
   "metadata": {},
   "source": [
    "#### Some synthetic data\n",
    "\n",
    "To test our Gibbs sampler we'll need some synthetic data. Let's keep things simple - set \\\\(\\beta_0 = -1\\\\), \\\\(\\beta_1 = 2\\\\) and \\\\( \\tau = 1 \\\\):"
   ]
  },
  {
   "cell_type": "code",
   "execution_count": 41,
   "metadata": {},
   "outputs": [
    {
     "data": {
      "text/plain": [
       "<matplotlib.collections.PathCollection at 0x108488400>"
      ]
     },
     "execution_count": 41,
     "metadata": {},
     "output_type": "execute_result"
    },
    {
     "data": {
      "image/png": "[encoded data removed]",
      "text/plain": [
       "<matplotlib.figure.Figure at 0x108bae5f8>"
      ]
     },
     "metadata": {},
     "output_type": "display_data"
    }
   ],
   "source": [
    "beta_0_true = -1\n",
    "beta_1_true = 2\n",
    "tau_true = 1\n",
    "\n",
    "N = 50\n",
    "x = np.random.uniform(low = 0, high = 4, size = N)\n",
    "y = np.random.normal(beta_0_true + beta_1_true * x, 1 / np.sqrt(tau_true))\n",
    "\n",
    "plt.scatter(x, y)"
   ]
  },
  {
   "cell_type": "markdown",
   "metadata": {},
   "source": [
    "### Writing our Gibbs sampler\n",
    "\n",
    "Now we're ready to write the Gibbs sampler. Apart from the data we need to supply initial parameter estimates and hyper parameters. Note that technically we only need to supply all but one of the initial parameters and one of them will be sampled first and that value used for the rest of that iteration."
   ]
  },
  {
   "cell_type": "code",
   "execution_count": 42,
   "metadata": {
    "collapsed": true
   },
   "outputs": [],
   "source": [
    "## specify initial values\n",
    "init = {\"beta_0\": 0,\n",
    "        \"beta_1\": 0,\n",
    "        \"tau\": 2}\n",
    "\n",
    "## specify hyper parameters\n",
    "hypers = {\"mu_0\": 0,\n",
    "         \"tau_0\": 1,\n",
    "         \"mu_1\": 0,\n",
    "         \"tau_1\": 1,\n",
    "         \"alpha\": 2,\n",
    "         \"beta\": 1}\n",
    "\n",
    "def gibbs(y, x, iters, init, hypers):\n",
    "    assert len(y) == len(x)\n",
    "    beta_0 = init[\"beta_0\"]\n",
    "    beta_1 = init[\"beta_1\"]\n",
    "    tau = init[\"tau\"]\n",
    "    \n",
    "    trace = np.zeros((iters, 3)) ## trace to store values of beta_0, beta_1, tau\n",
    "    \n",
    "    for it in range(iters):\n",
    "        beta_0 = sample_beta_0(y, x, beta_1, tau, hypers[\"mu_0\"], hypers[\"tau_0\"])\n",
    "        beta_1 = sample_beta_1(y, x, beta_0, tau, hypers[\"mu_1\"], hypers[\"tau_1\"])\n",
    "        tau = sample_tau(y, x, beta_0, beta_1, hypers[\"alpha\"], hypers[\"beta\"])\n",
    "        trace[it,:] = np.array((beta_0, beta_1, tau))\n",
    "        \n",
    "    return trace"
   ]
  },
  {
   "cell_type": "markdown",
   "metadata": {},
   "source": [
    "Let's test it out!"
   ]
  },
  {
   "cell_type": "code",
   "execution_count": 44,
   "metadata": {},
   "outputs": [
    {
     "data": {
      "text/plain": [
       "array([[ 3.11402287,  0.41004987,  0.26934712],\n",
       "       [ 2.23863274,  0.72516157,  0.52218892],\n",
       "       [ 1.87998455,  0.99068647,  0.53321582],\n",
       "       ..., \n",
       "       [-0.38212999,  1.76538648,  0.64028601],\n",
       "       [-0.31500311,  1.64138505,  0.90244681],\n",
       "       [-0.0808753 ,  1.66417406,  0.73124862]])"
      ]
     },
     "execution_count": 44,
     "metadata": {},
     "output_type": "execute_result"
    }
   ],
   "source": [
    "iters = 1000\n",
    "trace = gibbs(y, x, iters, init, hypers)\n",
    "trace"
   ]
  }
 ],
 "metadata": {
  "kernelspec": {
   "display_name": "Python 3",
   "language": "python",
   "name": "python3"
  },
  "language_info": {
   "codemirror_mode": {
    "name": "ipython",
    "version": 3
   },
   "file_extension": ".py",
   "mimetype": "text/x-python",
   "name": "python",
   "nbconvert_exporter": "python",
   "pygments_lexer": "ipython3",
   "version": "3.7.0"
  },
  "toc": {
   "base_numbering": 1,
   "nav_menu": {},
   "number_sections": true,
   "sideBar": true,
   "skip_h1_title": false,
   "title_cell": "Table of Contents",
   "title_sidebar": "Contents",
   "toc_cell": false,
   "toc_position": {},
   "toc_section_display": true,
   "toc_window_display": false
  }
 },
 "nbformat": 4,
 "nbformat_minor": 1
}
