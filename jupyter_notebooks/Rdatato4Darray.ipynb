{
 "cells": [
  {
   "cell_type": "code",
   "execution_count": 1,
   "metadata": {},
   "outputs": [
    {
     "name": "stdout",
     "output_type": "stream",
     "text": [
      "Populating the interactive namespace from numpy and matplotlib\n"
     ]
    }
   ],
   "source": [
    "%pylab inline\n",
    "import warnings\n",
    "import numpy as np\n",
    "warnings.filterwarnings('ignore')\n",
    "import rpy2.robjects as robjects\n",
    "import time\n",
    "import h5py"
   ]
  },
  {
   "cell_type": "code",
   "execution_count": 2,
   "metadata": {},
   "outputs": [
    {
     "data": {
      "text/plain": [
       "u'/Share/home/chenxupeng/projects/math'"
      ]
     },
     "execution_count": 2,
     "metadata": {},
     "output_type": "execute_result"
    }
   ],
   "source": [
    "pwd"
   ]
  },
  {
   "cell_type": "markdown",
   "metadata": {},
   "source": [
    "看起来像是一个国家一个1680*1680 <br>\n",
    "写法需要调整"
   ]
  },
  {
   "cell_type": "code",
   "execution_count": 12,
   "metadata": {},
   "outputs": [
    {
     "name": "stdout",
     "output_type": "stream",
     "text": [
      "time consuming: 7.020000 second !\n"
     ]
    }
   ],
   "source": [
    "# load your file\n",
    "start = time.clock()\n",
    "robjects.r['load']('L3_1_DVA_FIN.RData')\n",
    "\n",
    "# retrieve the matrix that was loaded from the file\n",
    "arrdata= np.array(robjects.r['L3_1_DVA_FIN'])\n",
    "\n",
    "densearr= np.ndarray([48,48,35,35])\n",
    "for i in range(48):\n",
    "    for j in range(48):\n",
    "        densearr[i,j] = arrdata[35*i:35*(i+1),i*35:(i+1)*35,j]\n",
    "country = array(['AUS', 'AUT', 'BEL', 'BGR', 'BRA', 'CAN', 'PRC', 'CYP', 'CZE',\n",
    "       'DEU', 'DNK', 'ESP', 'EST', 'FIN', 'FRA', 'GBR', 'GRC', 'HUN',\n",
    "       'IDN', 'IND', 'IRL', 'ITA', 'JPN', 'KOR', 'LTU', 'LUX', 'LVA',\n",
    "       'MEX', 'MLT', 'NLD', 'POL', 'PRT', 'ROM', 'RUS', 'SVK', 'SVN',\n",
    "       'SWE', 'TUR', 'TAP', 'USA', 'BAN', 'MAL', 'PHI', 'THA', 'VIE',\n",
    "       'MON', 'SRI', 'RoW'])\n",
    "notes = np.array(['dense:[A,B,:,:],first country A is original vertical coordinates,second country B\\\n",
    "is horizontal ordinate first country name, the whole original horizontal ordinate \\\n",
    "vertical coordinate refers to 1680 row names and horizontal ordinate refers to 80640 \\\n",
    "col names. In numpy array, [i,j,:,:] refers to ith row and jth col, which is ith country in \\\n",
    "ordinate(country2) in original csv file. the verification of organization rule has been done.\\\n",
    "the sparse to dense conversion is verified. finally the sparse matrix with shape 1680*80640 is converted \\\n",
    "to tensor with shape 48*48*35*35,compression rate 48 fold'])\n",
    "with h5py.File('densearrayL3_1_DVA_FIN.h5') as f:\n",
    "    f.create_dataset('dense',data = densearr)\n",
    "    f.create_dataset('country',data = country)\n",
    "    f.create_dataset('notes',data = notes)\n",
    "elapsed = (time.clock() - start)\n",
    "print 'time consuming: %f second !' %elapsed"
   ]
  },
  {
   "cell_type": "code",
   "execution_count": null,
   "metadata": {},
   "outputs": [],
   "source": []
  }
 ],
 "metadata": {
  "anaconda-cloud": {},
  "kernelspec": {
   "display_name": "Python [conda root]",
   "language": "python",
   "name": "conda-root-py"
  },
  "language_info": {
   "codemirror_mode": {
    "name": "ipython",
    "version": 2
   },
   "file_extension": ".py",
   "mimetype": "text/x-python",
   "name": "python",
   "nbconvert_exporter": "python",
   "pygments_lexer": "ipython2",
   "version": "2.7.14"
  }
 },
 "nbformat": 4,
 "nbformat_minor": 2
}
