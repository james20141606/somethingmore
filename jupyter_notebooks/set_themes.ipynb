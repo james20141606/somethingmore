{
 "cells": [
  {
   "cell_type": "code",
   "execution_count": 4,
   "metadata": {},
   "outputs": [
    {
     "name": "stdout",
     "output_type": "stream",
     "text": [
      "Available Themes: \r\n",
      "   chesterish\r\n",
      "   grade3\r\n",
      "   gruvboxd\r\n",
      "   gruvboxl\r\n",
      "   monokai\r\n",
      "   oceans16\r\n",
      "   onedork\r\n",
      "   solarizedd\r\n",
      "   solarizedl\r\n"
     ]
    }
   ],
   "source": [
    "!jt -l"
   ]
  },
  {
   "cell_type": "code",
   "execution_count": 36,
   "metadata": {},
   "outputs": [],
   "source": [
    "!jt -t chesterish"
   ]
  },
  {
   "cell_type": "code",
   "execution_count": 9,
   "metadata": {},
   "outputs": [],
   "source": [
    "!jt --lineh 100 -cellw 90% -f dejavu -tf ptmono -t grade3 -ofs 14 -nfs 14 -tfs 14 -fs 14 -T -N"
   ]
  },
  {
   "cell_type": "markdown",
   "metadata": {},
   "source": [
    "https://github.com/dunovank/jupyter-themes\n",
    "\n",
    "cl options\targ\tdefault\n",
    "Usage help\t-h\t--\n",
    "List Themes\t-l\t--\n",
    "Theme Name to Install\t-t\t--\n",
    "Code Font\t-f\t--\n",
    "Code Font-Size\t-fs\t11\n",
    "Notebook Font\t-nf\t--\n",
    "Notebook Font Size\t-nfs\t13\n",
    "Text/MD Cell Font\t-tf\t--\n",
    "Text/MD Cell Fontsize\t-tfs\t13\n",
    "Pandas DF Fontsize\t-dfs\t9\n",
    "Output Area Fontsize\t-ofs\t8.5\n",
    "Mathjax Fontsize (%)\t-mathfs\t100\n",
    "Intro Page Margins\t-m\tauto\n",
    "Cell Width\t-cellw\t980\n",
    "Line Height\t-lineh\t170\n",
    "Cursor Width\t-cursw\t2\n",
    "Cursor Color\t-cursc\t--\n",
    "Alt Prompt Layout\t-altp\t--\n",
    "Alt Markdown BG Color\t-altmd\t--\n",
    "Alt Output BG Color\t-altout\t--\n",
    "Style Vim NBExt*\t-vim\t--\n",
    "Toolbar Visible\t-T\t--\n",
    "Name & Logo Visible\t-N\t--\n",
    "Kernel Logo Visible\t-kl\t--\n",
    "Reset Default Theme\t-r\t--\n",
    "Force Default Fonts\t-dfonts\t--"
   ]
  },
  {
   "cell_type": "code",
   "execution_count": null,
   "metadata": {},
   "outputs": [],
   "source": [
    "example\n",
    "# list available themes\n",
    "# onedork | grade3 | oceans16 | chesterish | monokai | solarizedl | solarizedd\n",
    "jt -l\n",
    "\n",
    "# select theme...\n",
    "jt -t chesterish\n",
    "\n",
    "# restore default theme\n",
    "# NOTE: Need to delete browser cache after running jt -r\n",
    "# If this doesn't work, try starting a new notebook session.\n",
    "jt -r\n",
    "\n",
    "# toggle toolbar ON and notebook name ON\n",
    "jt -t grade3 -T -N\n",
    "\n",
    "# toggle kernel logo.  kernel logo is in same container as name\n",
    "# toggled with -N.  That means that making the kernel logo visible is\n",
    "# pointless without also making the name visible\n",
    "jt -t grade3 -N -kl\n",
    "\n",
    "# set code font to 'Roboto Mono' 12pt\n",
    "# (see monospace font table below)\n",
    "jt -t onedork -f roboto -fs 12\n",
    "\n",
    "# set code font to Fira Mono, 11.5pt\n",
    "# 3digit font-sizes get converted into float (115-->11.5)\n",
    "# 2digit font-sizes > 25 get converted into float (85-->8.5)\n",
    "jt -t solarizedd -f fira -fs 115\n",
    "\n",
    "# set font/font-size of markdown (text cells) and notebook (interface)\n",
    "# see sans-serif & serif font tables below\n",
    "jt -t oceans16 -tf merriserif -tfs 10 -nf ptsans -nfs 13\n",
    "\n",
    "# adjust cell width (% screen width) and line height\n",
    "jt -t chesterish -cellw 90% -lineh 170\n",
    "\n",
    "# or set the cell width in pixels by leaving off the '%' sign\n",
    "jt -t solarizedl -cellw 860\n",
    "\n",
    "# fix the container-margins on the intro page (defaults to 'auto')\n",
    "jt -t monokai -m 200\n",
    "\n",
    "# adjust cursor width (in px) and make cursor red\n",
    "# options: b (blue), o (orange), r (red), p (purple), g (green), x (font color)\n",
    "jt -t oceans16 -cursc r -cursw 5\n",
    "\n",
    "# choose alternate prompt layout (narrower/no numbers)\n",
    "jt -t grade3 -altp\n",
    "\n",
    "# my two go-to styles\n",
    "# dark\n",
    "jt -t onedork -fs 105 -altp -tfs 13 -nfs 115 -ofs 12 -cellw 88% -T\n",
    "# light\n",
    "jt -t grade3 -fs 105 -altp -tfs 13 -nfs 115 -ofs 12 -cellw 88% -T"
   ]
  },
  {
   "cell_type": "code",
   "execution_count": 43,
   "metadata": {},
   "outputs": [],
   "source": [
    "!jt -t onedork -fs 105 -altp -tfs 13 -nfs 115 -ofs 12 -cellw 88% -T -N"
   ]
  },
  {
   "cell_type": "code",
   "execution_count": 42,
   "metadata": {},
   "outputs": [],
   "source": [
    "!jt -t onedork -cellw 88% -f dejavu -tf ptmono -fs 105 -ofs 12 -nfs 13 -tfs 13 -fs 13 -T -N"
   ]
  },
  {
   "cell_type": "code",
   "execution_count": 33,
   "metadata": {},
   "outputs": [
    {
     "name": "stdout",
     "output_type": "stream",
     "text": [
      "fontsize\n"
     ]
    }
   ],
   "source": [
    "print ('fontsize')"
   ]
  },
  {
   "cell_type": "code",
   "execution_count": null,
   "metadata": {},
   "outputs": [],
   "source": [
    "!jt -r"
   ]
  },
  {
   "cell_type": "markdown",
   "metadata": {},
   "source": [
    "# plots"
   ]
  },
  {
   "cell_type": "code",
   "execution_count": 27,
   "metadata": {},
   "outputs": [],
   "source": [
    "# import jtplot submodule from jupyterthemes\n",
    "from jupyterthemes import jtplot\n",
    "\n",
    "# currently installed theme will be used to\n",
    "# set plot style if no arguments provided\n",
    "jtplot.style()\n",
    "# import jtplot module in notebook\n",
    "from jupyterthemes import jtplot\n",
    "\n",
    "# choose which theme to inherit plotting style from\n",
    "# onedork | grade3 | oceans16 | chesterish | monokai | solarizedl | solarizedd\n",
    "jtplot.style(theme='onedork')\n",
    "\n",
    "# set \"context\" (paper, notebook, talk, poster)\n",
    "# scale font-size of ticklabels, legend, etc.\n",
    "# remove spines from x and y axes and make grid dashed\n",
    "jtplot.style(context='talk', fscale=1.4, spines=False, gridlines='--')\n",
    "\n",
    "# turn on X- and Y-axis tick marks (default=False)\n",
    "# turn off the axis grid lines (default=True)\n",
    "# and set the default figure size\n",
    "jtplot.style(ticks=True, grid=False, figsize=(6, 4.5))\n",
    "\n"
   ]
  },
  {
   "cell_type": "code",
   "execution_count": 28,
   "metadata": {},
   "outputs": [
    {
     "name": "stdout",
     "output_type": "stream",
     "text": [
      "Populating the interactive namespace from numpy and matplotlib\n"
     ]
    }
   ],
   "source": [
    "import numpy as np\n",
    "%pylab inline"
   ]
  },
  {
   "cell_type": "code",
   "execution_count": 29,
   "metadata": {},
   "outputs": [
    {
     "data": {
      "text/plain": [
       "(array([1., 0., 0., 1., 1., 1., 3., 1., 1., 1., 2., 2., 2., 3., 1., 1., 2.,\n",
       "        6., 3., 4., 2., 5., 4., 3., 3., 4., 2., 4., 4., 3., 2., 2., 3., 3.,\n",
       "        3., 2., 1., 3., 1., 2., 2., 1., 1., 2., 1., 0., 0., 0., 0., 1.]),\n",
       " array([-2.14215786, -2.05413266, -1.96610746, -1.87808227, -1.79005707,\n",
       "        -1.70203187, -1.61400667, -1.52598148, -1.43795628, -1.34993108,\n",
       "        -1.26190588, -1.17388069, -1.08585549, -0.99783029, -0.90980509,\n",
       "        -0.82177989, -0.7337547 , -0.6457295 , -0.5577043 , -0.4696791 ,\n",
       "        -0.38165391, -0.29362871, -0.20560351, -0.11757831, -0.02955312,\n",
       "         0.05847208,  0.14649728,  0.23452248,  0.32254767,  0.41057287,\n",
       "         0.49859807,  0.58662327,  0.67464847,  0.76267366,  0.85069886,\n",
       "         0.93872406,  1.02674926,  1.11477445,  1.20279965,  1.29082485,\n",
       "         1.37885005,  1.46687524,  1.55490044,  1.64292564,  1.73095084,\n",
       "         1.81897603,  1.90700123,  1.99502643,  2.08305163,  2.17107683,\n",
       "         2.25910202]),\n",
       " <a list of 50 Patch objects>)"
      ]
     },
     "execution_count": 29,
     "metadata": {},
     "output_type": "execute_result"
    },
    {
     "data": {
      "image/png": "[encoded data removed]",
      "text/plain": [
       "<Figure size 432x288 with 1 Axes>"
      ]
     },
     "metadata": {
      "needs_background": "dark"
     },
     "output_type": "display_data"
    }
   ],
   "source": [
    "hist(np.random.normal(0,1,100),bins=50)"
   ]
  },
  {
   "cell_type": "code",
   "execution_count": 30,
   "metadata": {},
   "outputs": [
    {
     "data": {
      "text/plain": [
       "<matplotlib.collections.PathCollection at 0x10f9646d8>"
      ]
     },
     "execution_count": 30,
     "metadata": {},
     "output_type": "execute_result"
    },
    {
     "data": {
      "image/png": "[encoded data removed]",
      "text/plain": [
       "<Figure size 432x288 with 1 Axes>"
      ]
     },
     "metadata": {
      "needs_background": "dark"
     },
     "output_type": "display_data"
    }
   ],
   "source": [
    "scatter(np.random.normal(0,1,100),np.random.normal(0,1,100))"
   ]
  },
  {
   "cell_type": "code",
   "execution_count": null,
   "metadata": {},
   "outputs": [],
   "source": [
    "# reset default matplotlib rcParams\n",
    "jtplot.reset()"
   ]
  },
  {
   "cell_type": "code",
   "execution_count": 41,
   "metadata": {},
   "outputs": [],
   "source": [
    "import pandas as pd\n",
    "import qgrid"
   ]
  },
  {
   "cell_type": "code",
   "execution_count": 45,
   "metadata": {},
   "outputs": [
    {
     "data": {
      "text/html": [
       "\n",
       "        <iframe\n",
       "            width=\"800\"\n",
       "            height=\"450\"\n",
       "            src=\"https://arxiv.org/pdf/1406.2661.pdf\"\n",
       "            frameborder=\"0\"\n",
       "            allowfullscreen\n",
       "        ></iframe>\n",
       "        "
      ],
      "text/plain": [
       "<IPython.lib.display.IFrame at 0x12312a8d0>"
      ]
     },
     "execution_count": 45,
     "metadata": {},
     "output_type": "execute_result"
    }
   ],
   "source": [
    "from IPython.display import IFrame\n",
    "IFrame('https://arxiv.org/pdf/1406.2661.pdf', width=800, height=450)"
   ]
  },
  {
   "cell_type": "code",
   "execution_count": 46,
   "metadata": {},
   "outputs": [
    {
     "data": {
      "text/html": [
       "\n",
       "        <iframe\n",
       "            width=\"800\"\n",
       "            height=\"450\"\n",
       "            src=\"https://www.baidu.com\"\n",
       "            frameborder=\"0\"\n",
       "            allowfullscreen\n",
       "        ></iframe>\n",
       "        "
      ],
      "text/plain": [
       "<IPython.lib.display.IFrame at 0x12312a518>"
      ]
     },
     "execution_count": 46,
     "metadata": {},
     "output_type": "execute_result"
    }
   ],
   "source": [
    "IFrame('https://www.baidu.com', width=800, height=450)"
   ]
  },
  {
   "cell_type": "code",
   "execution_count": 50,
   "metadata": {},
   "outputs": [
    {
     "data": {
      "text/html": [
       "\n",
       "        <iframe\n",
       "            width=\"800\"\n",
       "            height=\"450\"\n",
       "            src=\"https://www.cmwonderland.com/blog\"\n",
       "            frameborder=\"0\"\n",
       "            allowfullscreen\n",
       "        ></iframe>\n",
       "        "
      ],
      "text/plain": [
       "<IPython.lib.display.IFrame at 0x12312a6a0>"
      ]
     },
     "execution_count": 50,
     "metadata": {},
     "output_type": "execute_result"
    }
   ],
   "source": [
    "IFrame('https://www.cmwonderland.com/blog', width=800, height=450)"
   ]
  },
  {
   "cell_type": "code",
   "execution_count": 47,
   "metadata": {},
   "outputs": [
    {
     "data": {
      "text/html": [
       "\n",
       "        <iframe\n",
       "            width=\"800\"\n",
       "            height=\"300\"\n",
       "            src=\"https://www.youtube.com/embed/mJeNghZXtMo\"\n",
       "            frameborder=\"0\"\n",
       "            allowfullscreen\n",
       "        ></iframe>\n",
       "        "
      ],
      "text/plain": [
       "<IPython.lib.display.YouTubeVideo at 0x12312a2e8>"
      ]
     },
     "execution_count": 47,
     "metadata": {},
     "output_type": "execute_result"
    }
   ],
   "source": [
    "from IPython.display import YouTubeVideo\n",
    "YouTubeVideo('mJeNghZXtMo', width=800, height=300)"
   ]
  },
  {
   "cell_type": "code",
   "execution_count": null,
   "metadata": {},
   "outputs": [],
   "source": []
  }
 ],
 "metadata": {
  "kernelspec": {
   "display_name": "Python 3",
   "language": "python",
   "name": "python3"
  },
  "language_info": {
   "codemirror_mode": {
    "name": "ipython",
    "version": 3
   },
   "file_extension": ".py",
   "mimetype": "text/x-python",
   "name": "python",
   "nbconvert_exporter": "python",
   "pygments_lexer": "ipython3",
   "version": "3.6.8"
  },
  "toc": {
   "base_numbering": 1,
   "nav_menu": {},
   "number_sections": true,
   "sideBar": true,
   "skip_h1_title": false,
   "title_cell": "Table of Contents",
   "title_sidebar": "Contents",
   "toc_cell": false,
   "toc_position": {},
   "toc_section_display": true,
   "toc_window_display": false
  }
 },
 "nbformat": 4,
 "nbformat_minor": 2
}
