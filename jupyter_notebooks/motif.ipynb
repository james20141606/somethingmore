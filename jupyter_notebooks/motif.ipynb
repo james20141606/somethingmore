{
 "cells": [
  {
   "cell_type": "code",
   "execution_count": 4,
   "metadata": {},
   "outputs": [
    {
     "name": "stdout",
     "output_type": "stream",
     "text": [
      "/home/chenxupeng/projects/deepshape\n"
     ]
    }
   ],
   "source": [
    "cd /home/chenxupeng/projects/deepshape"
   ]
  },
  {
   "cell_type": "code",
   "execution_count": 26,
   "metadata": {},
   "outputs": [],
   "source": [
    "import keras\n",
    "from keras import backend as K\n",
    "from keras.callbacks import EarlyStopping,TensorBoard,ModelCheckpoint\n",
    "from keras.optimizers import Adam\n",
    "import tensorflow as tf\n",
    "from keras.models import Model,Sequential\n",
    "from keras.layers import multiply,Merge,Input,Conv1D,  Conv2D, MaxPooling1D,MaxPooling2D, UpSampling2D,Lambda, Dot,average,add, concatenate,GlobalMaxPooling1D, GlobalMaxPooling2D, AveragePooling1D\n",
    "from keras.layers.normalization import BatchNormalization\n",
    "from keras.layers.core import Dense, Dropout, Activation, Flatten,Reshape\n",
    "from keras.layers.merge import Concatenate, Add\n",
    "from keras.initializers import RandomNormal\n",
    "from keras.regularizers import l2, l1, l1_l2\n",
    "from keras.layers.wrappers import Bidirectional\n",
    "from keras.layers.recurrent import LSTM\n",
    "from functools import partial\n",
    "import os\n",
    "os.environ['CUDA_DEVICE_ORDER'] = 'PCI_BUS_ID'\n",
    "os.environ['CUDA_VISIBLE_DEVICES'] = '4'\n",
    "from keras.backend.tensorflow_backend import set_session\n",
    "config = tf.ConfigProto()\n",
    "#config.gpu_options.per_process_gpu_memory_fraction = 0.99\n",
    "config.gpu_options.allow_growth =True\n",
    "set_session(tf.Session(config=config))"
   ]
  },
  {
   "cell_type": "code",
   "execution_count": 3,
   "metadata": {},
   "outputs": [
    {
     "name": "stdout",
     "output_type": "stream",
     "text": [
      "Populating the interactive namespace from numpy and matplotlib\n"
     ]
    },
    {
     "name": "stderr",
     "output_type": "stream",
     "text": [
      "/home/chenxupeng/anaconda3/lib/python3.6/site-packages/IPython/core/magics/pylab.py:160: UserWarning: pylab import has clobbered these variables: ['average', 'add', 'concatenate']\n",
      "`%matplotlib` prevents importing * from pylab and numpy\n",
      "  \"\\n`%matplotlib` prevents importing * from pylab and numpy\"\n"
     ]
    }
   ],
   "source": [
    "import argparse, sys, os, errno\n",
    "%pylab inline\n",
    "import numpy as np\n",
    "import pandas as pd\n",
    "import matplotlib.pyplot as plt\n",
    "plt.style.use('ggplot')\n",
    "import seaborn as sns\n",
    "import h5py\n",
    "import os\n",
    "from tqdm import tqdm\n",
    "import scipy\n",
    "import sklearn\n",
    "from scipy.stats import pearsonr\n",
    "import warnings\n",
    "warnings.filterwarnings('ignore')\n",
    "import sys\n",
    "sys.path.append('bin')"
   ]
  },
  {
   "cell_type": "markdown",
   "metadata": {},
   "source": [
    "peaks.transcript_coord.extended.fa\n",
    "peaks.icshape.Lu_2016_invitro\n",
    "peaks.icshape.Lu_2016_invivo\n",
    "peaks.bed  "
   ]
  },
  {
   "cell_type": "code",
   "execution_count": null,
   "metadata": {
    "deletable": false,
    "editable": false,
    "run_control": {
     "frozen": true
    }
   },
   "outputs": [],
   "source": [
    "icshape = {}\n",
    "with h5py.File('1_PARCLIP_AGO1234_hg19/30000/training_sample_0/peaks.icshape.Lu_2016_invitro', 'r') as fin:\n",
    "    for key in fin.keys():\n",
    "        icshape[key] = fin[key][:]"
   ]
  },
  {
   "cell_type": "code",
   "execution_count": null,
   "metadata": {
    "deletable": false,
    "editable": false,
    "run_control": {
     "frozen": true
    }
   },
   "outputs": [],
   "source": [
    "def get_icshape(bed_file,icshape_file,output_file):\n",
    "    import numpy as np\n",
    "    import h5py\n",
    "    import pandas as pd\n",
    "    from tqdm import tqdm\n",
    "    from genomic_data import GenomicData\n",
    "\n",
    "    bed = pd.read_table(bed_file, header=None)\n",
    "\n",
    "    icshape = {}\n",
    "    with h5py.File(icshape_file, 'r') as fin:\n",
    "        for key in fin.keys():\n",
    "            icshape[key] = fin[key][:]\n",
    "\n",
    "    logger.info('create output file: ')\n",
    "    if not os.path.exists(output_file):\n",
    "        fout = h5py.File(output_file, 'w')\n",
    "        for row in tqdm(bed.itertuples(index=False), total=bed.shape[0]):\n",
    "            transcript_id = row[0]\n",
    "            peak_id =str(row[3])\n",
    "            data = icshape.get(transcript_id)\n",
    "            if data is not None:\n",
    "                fout.create_dataset('%s,%s,%d,%d'%(peak_id, transcript_id, row[1], row[2]), data=data[row[1]:row[2]])\n",
    "        fout.close()\n",
    "def create_dataset(args):\n",
    "    import numpy as np\n",
    "    import h5py\n",
    "    import pandas as pd\n",
    "    from tqdm import tqdm\n",
    "    from formats import read_fasta\n",
    "\n",
    "    logger.info('read peak file: ' + args.peak_file)\n",
    "    peaks = pd.read_table(args.peak_file,\n",
    "        names=['chrom', 'start', 'end', 'peak_id', 'label', 'strand'])\n",
    "    peaks['peak_id'] = peaks['peak_id'].astype('U')\n",
    "    peaks.index = peaks['peak_id']\n",
    "    logger.info('read sequence file: ' + args.sequence_file)\n",
    "    sequences = {name:seq for name, seq in read_fasta(args.sequence_file)}\n",
    "    logger.info('read reactivity file: ' + args.reactivity_file)\n",
    "    reactivities = {}\n",
    "    with h5py.File(args.reactivity_file, 'r') as f:\n",
    "        for peak_id in f.keys():\n",
    "            reactivities[peak_id.split(',')[0]] = f[peak_id][:]\n",
    "    peak_ids = list(sorted(reactivities.keys()))\n",
    "\n",
    "    def onehot_encode(x, alphabet='ATCG'):\n",
    "        alphabet = np.frombuffer(bytearray(alphabet, encoding='ascii'), dtype='S1')\n",
    "        x_shape = list(x.shape)\n",
    "        encoded = (x.reshape(x_shape + [1]) == alphabet.reshape([1]*len(x_shape) + [-1])).astype(np.int32)\n",
    "        return encoded\n",
    "\n",
    "    X_seq = np.concatenate([np.frombuffer(bytearray(sequences[peak_id], encoding='ascii'), dtype='S1')[np.newaxis, :] for peak_id in peak_ids], axis=0)\n",
    "    X_seq = onehot_encode(X_seq)\n",
    "    X_r   = np.concatenate([reactivities[peak_id][np.newaxis, :, np.newaxis] for peak_id in peak_ids], axis=0)\n",
    "    # imputate reactivities with median values\n",
    "    X_r[np.isnan(X_r)] = np.nanmedian(X_r.flatten())\n",
    "    X = np.concatenate([X_seq, X_r], axis=2)\n",
    "    y = peaks['label'][peak_ids]\n",
    "    logger.info('create output file: ' + args.output_file)\n",
    "    with h5py.File(args.output_file, 'w') as fout:\n",
    "        fout.create_dataset('X', data=X)\n",
    "        fout.create_dataset('y', data=y)"
   ]
  },
  {
   "cell_type": "code",
   "execution_count": null,
   "metadata": {
    "deletable": false,
    "editable": false,
    "run_control": {
     "frozen": true
    }
   },
   "outputs": [],
   "source": [
    "def summarize_metrics(args):\n",
    "    import numpy as np\n",
    "    import h5py\n",
    "    import pandas as pd\n",
    "    from tqdm import tqdm\n",
    "    from ioutils import open_file_or_stdout\n",
    "\n",
    "    def parse_filename(filename):\n",
    "        c = filename.split('/')\n",
    "        d = {'dataset': c[2],\n",
    "            'cv_index': c[4].split('_')[-1],\n",
    "            'model_name': c[-1].split('.')[1],\n",
    "            'icshape_dataset': c[-1].split('.')[2]\n",
    "        }\n",
    "        return d\n",
    "\n",
    "    summary = []\n",
    "    for input_file in args.input_files:\n",
    "        d = parse_filename(input_file)\n",
    "        with h5py.File(input_file, 'r') as f:\n",
    "            d['accuracy'] = f['metrics/accuracy'][()]\n",
    "            d['roc_auc'] = f['metrics/roc_auc'][()]\n",
    "            summary.append(d)\n",
    "    summary = pd.DataFrame.from_records(summary)\n",
    "    summary = summary[['dataset', 'icshape_dataset', 'model_name', 'cv_index', 'accuracy', 'roc_auc']]\n",
    "    with open_file_or_stdout(args.output_file) as fout:\n",
    "        summary.to_csv(fout, sep='\\t', index=False)"
   ]
  },
  {
   "cell_type": "code",
   "execution_count": 7,
   "metadata": {},
   "outputs": [],
   "source": [
    "output_dir = 'output/motif_ionmf'\n",
    "datasets =  [\"10_PARCLIP_ELAVL1A_hg19\", \"11_CLIPSEQ_ELAVL1_hg19\",\"12_PARCLIP_EWSR1_hg19\",\n",
    "        \"13_PARCLIP_FUS_hg19\",\"14_PARCLIP_FUS_mut_hg19\",\"15_PARCLIP_IGF2BP123_hg19\",\n",
    "        \"1_PARCLIP_AGO1234_hg19\",\"21_PARCLIP_MOV10_Sievers_hg19\",\n",
    "        \"22_ICLIP_NSUN2_293_group_4007_all-NSUN2-293-hg19_sum_G_hg19--ensembl59_from_3137-3202_bedGraph-cDNA-hits-in-genome\",\n",
    "        \"23_PARCLIP_PUM2_hg19\",\"24_PARCLIP_QKI_hg19\",\"25_CLIPSEQ_SFRS1_hg19\",\n",
    "        \"26_PARCLIP_TAF15_hg19\",\"2_PARCLIP_AGO2MNASE_hg19\",\"3_HITSCLIP_Ago2_binding_clusters\",\n",
    "        \"4_HITSCLIP_Ago2_binding_clusters_2\",\"5_CLIPSEQ_AGO2_hg19\",\"8_PARCLIP_ELAVL1_hg19\",\n",
    "        \"9_PARCLIP_ELAVL1MNASE_hg19\"]\n",
    "n_samples = '30000'\n",
    "subset = [\"training_sample_0\",\"training_sample_1\",\"training_sample_2\",\n",
    "        \"test_sample_0\",\"test_sample_1\",\"test_sample_2\"]\n",
    "training_sets= [\"training_sample_0\",\"training_sample_1\",\"training_sample_2\"]\n",
    "test_sets =  [\"test_sample_0\",\"test_sample_1\",\"test_sample_2\"]\n",
    "training_sample ={\"test_sample_0\": \"training_sample_0\",\"test_sample_1\": \"training_sample_1\",\n",
    "\"test_sample_2\": \"training_sample_2\"}\n",
    "annotation = \"gencode.v19\"\n",
    "ionmf_data_dir = \"home/chenxupeng/projects/deepshape/clip\"\n",
    "icshape_datasets = [\"Lu_2016_invitro\", \"Lu_2016_invivo\"]\n",
    "features = ['observed_reactivity','seq_only']"
   ]
  },
  {
   "cell_type": "code",
   "execution_count": 8,
   "metadata": {},
   "outputs": [],
   "source": [
    "def get_icshape_data(datasetind,subsetind,icshapedatasetind,featureind):\n",
    "    return 'output/motif_ionmf'+'/'+datasets[datasetind]+'/'+n_samples+'/'+\\\n",
    "training_sets[subsetind]+'/'+'dataset.'+icshape_datasets[icshapedatasetind]+'.'+features[featureind]"
   ]
  },
  {
   "cell_type": "markdown",
   "metadata": {},
   "source": [
    "# prepare dataset"
   ]
  },
  {
   "cell_type": "markdown",
   "metadata": {},
   "source": [
    "## sequence data"
   ]
  },
  {
   "cell_type": "code",
   "execution_count": null,
   "metadata": {
    "deletable": false,
    "editable": false,
    "run_control": {
     "frozen": true
    }
   },
   "outputs": [],
   "source": [
    "get_icshape_data(0,0,0,1) #[19,3,2,2]\n",
    "with h5py.File(get_icshape_data(0,0,0,1)) as f:\n",
    "    sequences = f['X'][:]\n",
    "    label = f['y'][:]"
   ]
  },
  {
   "cell_type": "markdown",
   "metadata": {},
   "source": [
    "## icshape data &seq data"
   ]
  },
  {
   "cell_type": "code",
   "execution_count": 9,
   "metadata": {},
   "outputs": [],
   "source": [
    "#[19,3,2,2]\n",
    "with h5py.File(get_icshape_data(0,0,0,0)) as f:\n",
    "    train_X = f['X'][:]\n",
    "    train_y = f['y'][:]"
   ]
  },
  {
   "cell_type": "code",
   "execution_count": 13,
   "metadata": {},
   "outputs": [
    {
     "data": {
      "text/plain": [
       "0.0949999988079071"
      ]
     },
     "execution_count": 13,
     "metadata": {},
     "output_type": "execute_result"
    }
   ],
   "source": [
    "train_X[0,:,-1][1]"
   ]
  },
  {
   "cell_type": "markdown",
   "metadata": {},
   "source": [
    "# merge layer to connect weight data with input\n",
    "weight layer single channel"
   ]
  },
  {
   "cell_type": "code",
   "execution_count": 63,
   "metadata": {},
   "outputs": [],
   "source": [
    "def tf_window_function(x, c, w, t):\n",
    "    return tf.where(x <= c, \n",
    "                    tf.sigmoid(t*(x - (c - 0.5*w))),\n",
    "                    tf.sigmoid(t*(-x + (c + 0.5*w))))"
   ]
  },
  {
   "cell_type": "code",
   "execution_count": 59,
   "metadata": {},
   "outputs": [],
   "source": [
    "def merge_model(window_size, n_channels=5, weight_channels =1,regression=False, dense=False):\n",
    "    A1 = keras.layers.Input(shape=(window_size,n_channels),name='A1')\n",
    "    A2 = Conv1D(window_size, 7, padding='valid',kernel_regularizer=l2(0.0001),name=\"A2\")(A1)\n",
    "    A3 = Activation('relu',name=\"A3\")(A2)\n",
    "    A4 = MaxPooling1D(2,name=\"A4\")(A3)\n",
    "    A5 = Conv1D(window_size, 3, padding='valid', kernel_regularizer=l2(0.0001),name=\"A5\")(A4)\n",
    "    A6 = Activation('relu',name=\"A6\")(A5)\n",
    "    A7 = MaxPooling1D(2,name=\"A7\")(A6)\n",
    "    A8 = Conv1D(window_size, 3, padding='valid', kernel_regularizer=l2(0.0001),name=\"A8\")(A7)\n",
    "    A9 = Activation('relu',name=\"A9\")(A8)\n",
    "    A10 = MaxPooling1D(2,name=\"A10\")(A9)\n",
    "    A11 = Flatten(name=\"A11\")(A10)\n",
    "    A12 = Dense(window_size, kernel_regularizer=l2(0.0001),name=\"A12\")(A11)\n",
    "    A13 = Activation('relu',name=\"A13\")(A12)\n",
    "    \n",
    "    B2 = Conv1D(window_size, 7, padding='valid',kernel_regularizer=l2(0.0001),name=\"B2\")(A1)\n",
    "    B3 = Activation('relu',name=\"B3\")(B2)\n",
    "    B4 = MaxPooling1D(2,name=\"B4\")(B3)\n",
    "    B5 = Conv1D(window_size, 3, padding='valid', kernel_regularizer=l2(0.0001),name=\"B5\")(B4)\n",
    "    B6 = Activation('relu',name=\"B6\")(B5)\n",
    "    B7 = MaxPooling1D(2,name=\"B7\")(B6)\n",
    "    B8 = Conv1D(window_size, 3, padding='valid', kernel_regularizer=l2(0.0001),name=\"B8\")(B7)\n",
    "    B9 = Activation('relu',name=\"B9\")(B8)\n",
    "    B10 = MaxPooling1D(2,name=\"B10\")(B9)\n",
    "    B11 = Flatten(name=\"B11\")(B10)\n",
    "    B12 = Dense(window_size, kernel_regularizer=l2(0.0001),name=\"B12\")(B11)\n",
    "    B13 = Activation('relu',name=\"B13\")(B12)\n",
    "    B14 = Dense(3, kernel_regularizer=l2(0.0001),name=\"B14\")(B13)\n",
    "    B15 = Activation('relu',name=\"B15\")(B14)\n",
    "    \n",
    "    rangenum = tf.cast(K.arange(1,101), tf.float32)\n",
    "    funcwindow =Lambda(lambda x: tf_window_function(rangenum,x[0],x[1],x[2]),\\\n",
    "                       output_shape=(window_size,),name='functionwindow')(B15)\n",
    "    \n",
    "    output_size = window_size if dense else 1 \n",
    "    multiple = multiply([A13, funcwindow])\n",
    "    if not regression:\n",
    "        out = Dense(output_size,init = 'normal',activation ='sigmoid',name='out')(multiple)\n",
    "    model = Model(inputs=[A1], outputs=[out])\n",
    "    return model"
   ]
  },
  {
   "cell_type": "code",
   "execution_count": 62,
   "metadata": {},
   "outputs": [
    {
     "data": {
      "text/plain": [
       "<tf.Tensor 'Select_1:0' shape=(100,) dtype=float32>"
      ]
     },
     "execution_count": 62,
     "metadata": {},
     "output_type": "execute_result"
    }
   ],
   "source": [
    "rangenum = tf.cast(K.arange(1,101), tf.float32)\n",
    "x = tf.cast(tf.Variable([3,2,4]), tf.float32)\n",
    "tf_window_function(rangenum,x[0],x[1],x[2])"
   ]
  },
  {
   "cell_type": "code",
   "execution_count": 60,
   "metadata": {},
   "outputs": [
    {
     "ename": "ValueError",
     "evalue": "Dimensions must be equal, but are 100 and 3 for 'functionwindow_4/LessEqual' (op: 'LessEqual') with input shapes: [100], [3].",
     "output_type": "error",
     "traceback": [
      "\u001b[0;31m---------------------------------------------------------------------------\u001b[0m",
      "\u001b[0;31mInvalidArgumentError\u001b[0m                      Traceback (most recent call last)",
      "\u001b[0;32m~/anaconda3/lib/python3.6/site-packages/tensorflow/python/framework/common_shapes.py\u001b[0m in \u001b[0;36m_call_cpp_shape_fn_impl\u001b[0;34m(op, input_tensors_needed, input_tensors_as_shapes_needed, debug_python_shape_fn, require_shape_fn)\u001b[0m\n\u001b[1;32m    670\u001b[0m           \u001b[0mgraph_def_version\u001b[0m\u001b[0;34m,\u001b[0m \u001b[0mnode_def_str\u001b[0m\u001b[0;34m,\u001b[0m \u001b[0minput_shapes\u001b[0m\u001b[0;34m,\u001b[0m \u001b[0minput_tensors\u001b[0m\u001b[0;34m,\u001b[0m\u001b[0;34m\u001b[0m\u001b[0m\n\u001b[0;32m--> 671\u001b[0;31m           input_tensors_as_shapes, status)\n\u001b[0m\u001b[1;32m    672\u001b[0m   \u001b[0;32mexcept\u001b[0m \u001b[0merrors\u001b[0m\u001b[0;34m.\u001b[0m\u001b[0mInvalidArgumentError\u001b[0m \u001b[0;32mas\u001b[0m \u001b[0merr\u001b[0m\u001b[0;34m:\u001b[0m\u001b[0;34m\u001b[0m\u001b[0m\n",
      "\u001b[0;32m~/anaconda3/lib/python3.6/contextlib.py\u001b[0m in \u001b[0;36m__exit__\u001b[0;34m(self, type, value, traceback)\u001b[0m\n\u001b[1;32m     87\u001b[0m             \u001b[0;32mtry\u001b[0m\u001b[0;34m:\u001b[0m\u001b[0;34m\u001b[0m\u001b[0m\n\u001b[0;32m---> 88\u001b[0;31m                 \u001b[0mnext\u001b[0m\u001b[0;34m(\u001b[0m\u001b[0mself\u001b[0m\u001b[0;34m.\u001b[0m\u001b[0mgen\u001b[0m\u001b[0;34m)\u001b[0m\u001b[0;34m\u001b[0m\u001b[0m\n\u001b[0m\u001b[1;32m     89\u001b[0m             \u001b[0;32mexcept\u001b[0m \u001b[0mStopIteration\u001b[0m\u001b[0;34m:\u001b[0m\u001b[0;34m\u001b[0m\u001b[0m\n",
      "\u001b[0;32m~/anaconda3/lib/python3.6/site-packages/tensorflow/python/framework/errors_impl.py\u001b[0m in \u001b[0;36mraise_exception_on_not_ok_status\u001b[0;34m()\u001b[0m\n\u001b[1;32m    465\u001b[0m           \u001b[0mcompat\u001b[0m\u001b[0;34m.\u001b[0m\u001b[0mas_text\u001b[0m\u001b[0;34m(\u001b[0m\u001b[0mpywrap_tensorflow\u001b[0m\u001b[0;34m.\u001b[0m\u001b[0mTF_Message\u001b[0m\u001b[0;34m(\u001b[0m\u001b[0mstatus\u001b[0m\u001b[0;34m)\u001b[0m\u001b[0;34m)\u001b[0m\u001b[0;34m,\u001b[0m\u001b[0;34m\u001b[0m\u001b[0m\n\u001b[0;32m--> 466\u001b[0;31m           pywrap_tensorflow.TF_GetCode(status))\n\u001b[0m\u001b[1;32m    467\u001b[0m   \u001b[0;32mfinally\u001b[0m\u001b[0;34m:\u001b[0m\u001b[0;34m\u001b[0m\u001b[0m\n",
      "\u001b[0;31mInvalidArgumentError\u001b[0m: Dimensions must be equal, but are 100 and 3 for 'functionwindow_4/LessEqual' (op: 'LessEqual') with input shapes: [100], [3].",
      "\nDuring handling of the above exception, another exception occurred:\n",
      "\u001b[0;31mValueError\u001b[0m                                Traceback (most recent call last)",
      "\u001b[0;32m<ipython-input-60-a4498a76e88d>\u001b[0m in \u001b[0;36m<module>\u001b[0;34m()\u001b[0m\n\u001b[0;32m----> 1\u001b[0;31m \u001b[0mmodel\u001b[0m \u001b[0;34m=\u001b[0m \u001b[0mmerge_model\u001b[0m\u001b[0;34m(\u001b[0m\u001b[0;36m100\u001b[0m\u001b[0;34m)\u001b[0m\u001b[0;34m\u001b[0m\u001b[0m\n\u001b[0m\u001b[1;32m      2\u001b[0m \u001b[0mloss\u001b[0m \u001b[0;34m=\u001b[0m \u001b[0;34m'binary_crossentropy'\u001b[0m\u001b[0;34m\u001b[0m\u001b[0m\n\u001b[1;32m      3\u001b[0m \u001b[0mmetrics\u001b[0m \u001b[0;34m=\u001b[0m \u001b[0;34m[\u001b[0m\u001b[0;34m'accuracy'\u001b[0m\u001b[0;34m]\u001b[0m\u001b[0;34m\u001b[0m\u001b[0m\n\u001b[1;32m      4\u001b[0m \u001b[0mmodel\u001b[0m\u001b[0;34m.\u001b[0m\u001b[0mcompile\u001b[0m\u001b[0;34m(\u001b[0m\u001b[0moptimizer\u001b[0m\u001b[0;34m=\u001b[0m\u001b[0;34m'Adam'\u001b[0m\u001b[0;34m,\u001b[0m\u001b[0mloss\u001b[0m\u001b[0;34m=\u001b[0m\u001b[0mloss\u001b[0m\u001b[0;34m,\u001b[0m\u001b[0mmetrics\u001b[0m\u001b[0;34m=\u001b[0m\u001b[0mmetrics\u001b[0m\u001b[0;34m)\u001b[0m\u001b[0;34m\u001b[0m\u001b[0m\n\u001b[1;32m      5\u001b[0m \u001b[0mmodel\u001b[0m\u001b[0;34m.\u001b[0m\u001b[0msummary\u001b[0m\u001b[0;34m(\u001b[0m\u001b[0;34m)\u001b[0m\u001b[0;34m\u001b[0m\u001b[0m\n",
      "\u001b[0;32m<ipython-input-59-204523c44217>\u001b[0m in \u001b[0;36mmerge_model\u001b[0;34m(window_size, n_channels, weight_channels, regression, dense)\u001b[0m\n\u001b[1;32m     30\u001b[0m \u001b[0;34m\u001b[0m\u001b[0m\n\u001b[1;32m     31\u001b[0m     \u001b[0mrangenum\u001b[0m \u001b[0;34m=\u001b[0m \u001b[0mtf\u001b[0m\u001b[0;34m.\u001b[0m\u001b[0mcast\u001b[0m\u001b[0;34m(\u001b[0m\u001b[0mK\u001b[0m\u001b[0;34m.\u001b[0m\u001b[0marange\u001b[0m\u001b[0;34m(\u001b[0m\u001b[0;36m1\u001b[0m\u001b[0;34m,\u001b[0m\u001b[0;36m101\u001b[0m\u001b[0;34m)\u001b[0m\u001b[0;34m,\u001b[0m \u001b[0mtf\u001b[0m\u001b[0;34m.\u001b[0m\u001b[0mfloat32\u001b[0m\u001b[0;34m)\u001b[0m\u001b[0;34m\u001b[0m\u001b[0m\n\u001b[0;32m---> 32\u001b[0;31m     \u001b[0mfuncwindow\u001b[0m \u001b[0;34m=\u001b[0m\u001b[0mLambda\u001b[0m\u001b[0;34m(\u001b[0m\u001b[0;32mlambda\u001b[0m \u001b[0mx\u001b[0m\u001b[0;34m:\u001b[0m \u001b[0mtf_window_function\u001b[0m\u001b[0;34m(\u001b[0m\u001b[0mrangenum\u001b[0m\u001b[0;34m,\u001b[0m\u001b[0mx\u001b[0m\u001b[0;34m[\u001b[0m\u001b[0;36m0\u001b[0m\u001b[0;34m]\u001b[0m\u001b[0;34m,\u001b[0m\u001b[0mx\u001b[0m\u001b[0;34m[\u001b[0m\u001b[0;36m1\u001b[0m\u001b[0;34m]\u001b[0m\u001b[0;34m,\u001b[0m\u001b[0mx\u001b[0m\u001b[0;34m[\u001b[0m\u001b[0;36m2\u001b[0m\u001b[0;34m]\u001b[0m\u001b[0;34m)\u001b[0m\u001b[0;34m,\u001b[0m                       \u001b[0moutput_shape\u001b[0m\u001b[0;34m=\u001b[0m\u001b[0;34m(\u001b[0m\u001b[0mwindow_size\u001b[0m\u001b[0;34m,\u001b[0m\u001b[0;34m)\u001b[0m\u001b[0;34m,\u001b[0m\u001b[0mname\u001b[0m\u001b[0;34m=\u001b[0m\u001b[0;34m'functionwindow'\u001b[0m\u001b[0;34m)\u001b[0m\u001b[0;34m(\u001b[0m\u001b[0mB15\u001b[0m\u001b[0;34m)\u001b[0m\u001b[0;34m\u001b[0m\u001b[0m\n\u001b[0m\u001b[1;32m     33\u001b[0m \u001b[0;34m\u001b[0m\u001b[0m\n\u001b[1;32m     34\u001b[0m     \u001b[0moutput_size\u001b[0m \u001b[0;34m=\u001b[0m \u001b[0mwindow_size\u001b[0m \u001b[0;32mif\u001b[0m \u001b[0mdense\u001b[0m \u001b[0;32melse\u001b[0m \u001b[0;36m1\u001b[0m\u001b[0;34m\u001b[0m\u001b[0m\n",
      "\u001b[0;32m~/anaconda3/lib/python3.6/site-packages/keras/engine/topology.py\u001b[0m in \u001b[0;36m__call__\u001b[0;34m(self, inputs, **kwargs)\u001b[0m\n\u001b[1;32m    617\u001b[0m \u001b[0;34m\u001b[0m\u001b[0m\n\u001b[1;32m    618\u001b[0m             \u001b[0;31m# Actually call the layer, collecting output(s), mask(s), and shape(s).\u001b[0m\u001b[0;34m\u001b[0m\u001b[0;34m\u001b[0m\u001b[0m\n\u001b[0;32m--> 619\u001b[0;31m             \u001b[0moutput\u001b[0m \u001b[0;34m=\u001b[0m \u001b[0mself\u001b[0m\u001b[0;34m.\u001b[0m\u001b[0mcall\u001b[0m\u001b[0;34m(\u001b[0m\u001b[0minputs\u001b[0m\u001b[0;34m,\u001b[0m \u001b[0;34m**\u001b[0m\u001b[0mkwargs\u001b[0m\u001b[0;34m)\u001b[0m\u001b[0;34m\u001b[0m\u001b[0m\n\u001b[0m\u001b[1;32m    620\u001b[0m             \u001b[0moutput_mask\u001b[0m \u001b[0;34m=\u001b[0m \u001b[0mself\u001b[0m\u001b[0;34m.\u001b[0m\u001b[0mcompute_mask\u001b[0m\u001b[0;34m(\u001b[0m\u001b[0minputs\u001b[0m\u001b[0;34m,\u001b[0m \u001b[0mprevious_mask\u001b[0m\u001b[0;34m)\u001b[0m\u001b[0;34m\u001b[0m\u001b[0m\n\u001b[1;32m    621\u001b[0m \u001b[0;34m\u001b[0m\u001b[0m\n",
      "\u001b[0;32m~/anaconda3/lib/python3.6/site-packages/keras/layers/core.py\u001b[0m in \u001b[0;36mcall\u001b[0;34m(self, inputs, mask)\u001b[0m\n\u001b[1;32m    683\u001b[0m         \u001b[0;32mif\u001b[0m \u001b[0mhas_arg\u001b[0m\u001b[0;34m(\u001b[0m\u001b[0mself\u001b[0m\u001b[0;34m.\u001b[0m\u001b[0mfunction\u001b[0m\u001b[0;34m,\u001b[0m \u001b[0;34m'mask'\u001b[0m\u001b[0;34m)\u001b[0m\u001b[0;34m:\u001b[0m\u001b[0;34m\u001b[0m\u001b[0m\n\u001b[1;32m    684\u001b[0m             \u001b[0marguments\u001b[0m\u001b[0;34m[\u001b[0m\u001b[0;34m'mask'\u001b[0m\u001b[0;34m]\u001b[0m \u001b[0;34m=\u001b[0m \u001b[0mmask\u001b[0m\u001b[0;34m\u001b[0m\u001b[0m\n\u001b[0;32m--> 685\u001b[0;31m         \u001b[0;32mreturn\u001b[0m \u001b[0mself\u001b[0m\u001b[0;34m.\u001b[0m\u001b[0mfunction\u001b[0m\u001b[0;34m(\u001b[0m\u001b[0minputs\u001b[0m\u001b[0;34m,\u001b[0m \u001b[0;34m**\u001b[0m\u001b[0marguments\u001b[0m\u001b[0;34m)\u001b[0m\u001b[0;34m\u001b[0m\u001b[0m\n\u001b[0m\u001b[1;32m    686\u001b[0m \u001b[0;34m\u001b[0m\u001b[0m\n\u001b[1;32m    687\u001b[0m     \u001b[0;32mdef\u001b[0m \u001b[0mcompute_mask\u001b[0m\u001b[0;34m(\u001b[0m\u001b[0mself\u001b[0m\u001b[0;34m,\u001b[0m \u001b[0minputs\u001b[0m\u001b[0;34m,\u001b[0m \u001b[0mmask\u001b[0m\u001b[0;34m=\u001b[0m\u001b[0;32mNone\u001b[0m\u001b[0;34m)\u001b[0m\u001b[0;34m:\u001b[0m\u001b[0;34m\u001b[0m\u001b[0m\n",
      "\u001b[0;32m<ipython-input-59-204523c44217>\u001b[0m in \u001b[0;36m<lambda>\u001b[0;34m(x)\u001b[0m\n\u001b[1;32m     30\u001b[0m \u001b[0;34m\u001b[0m\u001b[0m\n\u001b[1;32m     31\u001b[0m     \u001b[0mrangenum\u001b[0m \u001b[0;34m=\u001b[0m \u001b[0mtf\u001b[0m\u001b[0;34m.\u001b[0m\u001b[0mcast\u001b[0m\u001b[0;34m(\u001b[0m\u001b[0mK\u001b[0m\u001b[0;34m.\u001b[0m\u001b[0marange\u001b[0m\u001b[0;34m(\u001b[0m\u001b[0;36m1\u001b[0m\u001b[0;34m,\u001b[0m\u001b[0;36m101\u001b[0m\u001b[0;34m)\u001b[0m\u001b[0;34m,\u001b[0m \u001b[0mtf\u001b[0m\u001b[0;34m.\u001b[0m\u001b[0mfloat32\u001b[0m\u001b[0;34m)\u001b[0m\u001b[0;34m\u001b[0m\u001b[0m\n\u001b[0;32m---> 32\u001b[0;31m     \u001b[0mfuncwindow\u001b[0m \u001b[0;34m=\u001b[0m\u001b[0mLambda\u001b[0m\u001b[0;34m(\u001b[0m\u001b[0;32mlambda\u001b[0m \u001b[0mx\u001b[0m\u001b[0;34m:\u001b[0m \u001b[0mtf_window_function\u001b[0m\u001b[0;34m(\u001b[0m\u001b[0mrangenum\u001b[0m\u001b[0;34m,\u001b[0m\u001b[0mx\u001b[0m\u001b[0;34m[\u001b[0m\u001b[0;36m0\u001b[0m\u001b[0;34m]\u001b[0m\u001b[0;34m,\u001b[0m\u001b[0mx\u001b[0m\u001b[0;34m[\u001b[0m\u001b[0;36m1\u001b[0m\u001b[0;34m]\u001b[0m\u001b[0;34m,\u001b[0m\u001b[0mx\u001b[0m\u001b[0;34m[\u001b[0m\u001b[0;36m2\u001b[0m\u001b[0;34m]\u001b[0m\u001b[0;34m)\u001b[0m\u001b[0;34m,\u001b[0m                       \u001b[0moutput_shape\u001b[0m\u001b[0;34m=\u001b[0m\u001b[0;34m(\u001b[0m\u001b[0mwindow_size\u001b[0m\u001b[0;34m,\u001b[0m\u001b[0;34m)\u001b[0m\u001b[0;34m,\u001b[0m\u001b[0mname\u001b[0m\u001b[0;34m=\u001b[0m\u001b[0;34m'functionwindow'\u001b[0m\u001b[0;34m)\u001b[0m\u001b[0;34m(\u001b[0m\u001b[0mB15\u001b[0m\u001b[0;34m)\u001b[0m\u001b[0;34m\u001b[0m\u001b[0m\n\u001b[0m\u001b[1;32m     33\u001b[0m \u001b[0;34m\u001b[0m\u001b[0m\n\u001b[1;32m     34\u001b[0m     \u001b[0moutput_size\u001b[0m \u001b[0;34m=\u001b[0m \u001b[0mwindow_size\u001b[0m \u001b[0;32mif\u001b[0m \u001b[0mdense\u001b[0m \u001b[0;32melse\u001b[0m \u001b[0;36m1\u001b[0m\u001b[0;34m\u001b[0m\u001b[0m\n",
      "\u001b[0;32m<ipython-input-48-123f02b2940a>\u001b[0m in \u001b[0;36mtf_window_function\u001b[0;34m(x, c, w, t)\u001b[0m\n\u001b[1;32m      1\u001b[0m \u001b[0;32mdef\u001b[0m \u001b[0mtf_window_function\u001b[0m\u001b[0;34m(\u001b[0m\u001b[0mx\u001b[0m\u001b[0;34m,\u001b[0m \u001b[0mc\u001b[0m\u001b[0;34m,\u001b[0m \u001b[0mw\u001b[0m\u001b[0;34m,\u001b[0m \u001b[0mt\u001b[0m\u001b[0;34m)\u001b[0m\u001b[0;34m:\u001b[0m\u001b[0;34m\u001b[0m\u001b[0m\n\u001b[0;32m----> 2\u001b[0;31m     return tf.where(x <= c, \n\u001b[0m\u001b[1;32m      3\u001b[0m                     \u001b[0mtf\u001b[0m\u001b[0;34m.\u001b[0m\u001b[0msigmoid\u001b[0m\u001b[0;34m(\u001b[0m\u001b[0mt\u001b[0m\u001b[0;34m*\u001b[0m\u001b[0;34m(\u001b[0m\u001b[0mx\u001b[0m \u001b[0;34m-\u001b[0m \u001b[0;34m(\u001b[0m\u001b[0mc\u001b[0m \u001b[0;34m-\u001b[0m \u001b[0;36m0.5\u001b[0m\u001b[0;34m*\u001b[0m\u001b[0mw\u001b[0m\u001b[0;34m)\u001b[0m\u001b[0;34m)\u001b[0m\u001b[0;34m)\u001b[0m\u001b[0;34m,\u001b[0m\u001b[0;34m\u001b[0m\u001b[0m\n\u001b[1;32m      4\u001b[0m                     tf.sigmoid(t*(-x + (c + 0.5*w))))\n",
      "\u001b[0;32m~/anaconda3/lib/python3.6/site-packages/tensorflow/python/ops/gen_math_ops.py\u001b[0m in \u001b[0;36mless_equal\u001b[0;34m(x, y, name)\u001b[0m\n\u001b[1;32m   1083\u001b[0m     \u001b[0mA\u001b[0m\u001b[0;31m \u001b[0m\u001b[0;31m`\u001b[0m\u001b[0mTensor\u001b[0m\u001b[0;31m`\u001b[0m \u001b[0mof\u001b[0m \u001b[0mtype\u001b[0m\u001b[0;31m \u001b[0m\u001b[0;31m`\u001b[0m\u001b[0mbool\u001b[0m\u001b[0;31m`\u001b[0m\u001b[0;34m.\u001b[0m\u001b[0;34m\u001b[0m\u001b[0m\n\u001b[1;32m   1084\u001b[0m   \"\"\"\n\u001b[0;32m-> 1085\u001b[0;31m   \u001b[0mresult\u001b[0m \u001b[0;34m=\u001b[0m \u001b[0m_op_def_lib\u001b[0m\u001b[0;34m.\u001b[0m\u001b[0mapply_op\u001b[0m\u001b[0;34m(\u001b[0m\u001b[0;34m\"LessEqual\"\u001b[0m\u001b[0;34m,\u001b[0m \u001b[0mx\u001b[0m\u001b[0;34m=\u001b[0m\u001b[0mx\u001b[0m\u001b[0;34m,\u001b[0m \u001b[0my\u001b[0m\u001b[0;34m=\u001b[0m\u001b[0my\u001b[0m\u001b[0;34m,\u001b[0m \u001b[0mname\u001b[0m\u001b[0;34m=\u001b[0m\u001b[0mname\u001b[0m\u001b[0;34m)\u001b[0m\u001b[0;34m\u001b[0m\u001b[0m\n\u001b[0m\u001b[1;32m   1086\u001b[0m   \u001b[0;32mreturn\u001b[0m \u001b[0mresult\u001b[0m\u001b[0;34m\u001b[0m\u001b[0m\n\u001b[1;32m   1087\u001b[0m \u001b[0;34m\u001b[0m\u001b[0m\n",
      "\u001b[0;32m~/anaconda3/lib/python3.6/site-packages/tensorflow/python/framework/op_def_library.py\u001b[0m in \u001b[0;36mapply_op\u001b[0;34m(self, op_type_name, name, **keywords)\u001b[0m\n\u001b[1;32m    766\u001b[0m         op = g.create_op(op_type_name, inputs, output_types, name=scope,\n\u001b[1;32m    767\u001b[0m                          \u001b[0minput_types\u001b[0m\u001b[0;34m=\u001b[0m\u001b[0minput_types\u001b[0m\u001b[0;34m,\u001b[0m \u001b[0mattrs\u001b[0m\u001b[0;34m=\u001b[0m\u001b[0mattr_protos\u001b[0m\u001b[0;34m,\u001b[0m\u001b[0;34m\u001b[0m\u001b[0m\n\u001b[0;32m--> 768\u001b[0;31m                          op_def=op_def)\n\u001b[0m\u001b[1;32m    769\u001b[0m         \u001b[0;32mif\u001b[0m \u001b[0moutput_structure\u001b[0m\u001b[0;34m:\u001b[0m\u001b[0;34m\u001b[0m\u001b[0m\n\u001b[1;32m    770\u001b[0m           \u001b[0moutputs\u001b[0m \u001b[0;34m=\u001b[0m \u001b[0mop\u001b[0m\u001b[0;34m.\u001b[0m\u001b[0moutputs\u001b[0m\u001b[0;34m\u001b[0m\u001b[0m\n",
      "\u001b[0;32m~/anaconda3/lib/python3.6/site-packages/tensorflow/python/framework/ops.py\u001b[0m in \u001b[0;36mcreate_op\u001b[0;34m(self, op_type, inputs, dtypes, input_types, name, attrs, op_def, compute_shapes, compute_device)\u001b[0m\n\u001b[1;32m   2336\u001b[0m                     original_op=self._default_original_op, op_def=op_def)\n\u001b[1;32m   2337\u001b[0m     \u001b[0;32mif\u001b[0m \u001b[0mcompute_shapes\u001b[0m\u001b[0;34m:\u001b[0m\u001b[0;34m\u001b[0m\u001b[0m\n\u001b[0;32m-> 2338\u001b[0;31m       \u001b[0mset_shapes_for_outputs\u001b[0m\u001b[0;34m(\u001b[0m\u001b[0mret\u001b[0m\u001b[0;34m)\u001b[0m\u001b[0;34m\u001b[0m\u001b[0m\n\u001b[0m\u001b[1;32m   2339\u001b[0m     \u001b[0mself\u001b[0m\u001b[0;34m.\u001b[0m\u001b[0m_add_op\u001b[0m\u001b[0;34m(\u001b[0m\u001b[0mret\u001b[0m\u001b[0;34m)\u001b[0m\u001b[0;34m\u001b[0m\u001b[0m\n\u001b[1;32m   2340\u001b[0m     \u001b[0mself\u001b[0m\u001b[0;34m.\u001b[0m\u001b[0m_record_op_seen_by_control_dependencies\u001b[0m\u001b[0;34m(\u001b[0m\u001b[0mret\u001b[0m\u001b[0;34m)\u001b[0m\u001b[0;34m\u001b[0m\u001b[0m\n",
      "\u001b[0;32m~/anaconda3/lib/python3.6/site-packages/tensorflow/python/framework/ops.py\u001b[0m in \u001b[0;36mset_shapes_for_outputs\u001b[0;34m(op)\u001b[0m\n\u001b[1;32m   1717\u001b[0m       \u001b[0mshape_func\u001b[0m \u001b[0;34m=\u001b[0m \u001b[0m_call_cpp_shape_fn_and_require_op\u001b[0m\u001b[0;34m\u001b[0m\u001b[0m\n\u001b[1;32m   1718\u001b[0m \u001b[0;34m\u001b[0m\u001b[0m\n\u001b[0;32m-> 1719\u001b[0;31m   \u001b[0mshapes\u001b[0m \u001b[0;34m=\u001b[0m \u001b[0mshape_func\u001b[0m\u001b[0;34m(\u001b[0m\u001b[0mop\u001b[0m\u001b[0;34m)\u001b[0m\u001b[0;34m\u001b[0m\u001b[0m\n\u001b[0m\u001b[1;32m   1720\u001b[0m   \u001b[0;32mif\u001b[0m \u001b[0mshapes\u001b[0m \u001b[0;32mis\u001b[0m \u001b[0;32mNone\u001b[0m\u001b[0;34m:\u001b[0m\u001b[0;34m\u001b[0m\u001b[0m\n\u001b[1;32m   1721\u001b[0m     raise RuntimeError(\n",
      "\u001b[0;32m~/anaconda3/lib/python3.6/site-packages/tensorflow/python/framework/ops.py\u001b[0m in \u001b[0;36mcall_with_requiring\u001b[0;34m(op)\u001b[0m\n\u001b[1;32m   1667\u001b[0m \u001b[0;34m\u001b[0m\u001b[0m\n\u001b[1;32m   1668\u001b[0m   \u001b[0;32mdef\u001b[0m \u001b[0mcall_with_requiring\u001b[0m\u001b[0;34m(\u001b[0m\u001b[0mop\u001b[0m\u001b[0;34m)\u001b[0m\u001b[0;34m:\u001b[0m\u001b[0;34m\u001b[0m\u001b[0m\n\u001b[0;32m-> 1669\u001b[0;31m     \u001b[0;32mreturn\u001b[0m \u001b[0mcall_cpp_shape_fn\u001b[0m\u001b[0;34m(\u001b[0m\u001b[0mop\u001b[0m\u001b[0;34m,\u001b[0m \u001b[0mrequire_shape_fn\u001b[0m\u001b[0;34m=\u001b[0m\u001b[0;32mTrue\u001b[0m\u001b[0;34m)\u001b[0m\u001b[0;34m\u001b[0m\u001b[0m\n\u001b[0m\u001b[1;32m   1670\u001b[0m \u001b[0;34m\u001b[0m\u001b[0m\n\u001b[1;32m   1671\u001b[0m   \u001b[0m_call_cpp_shape_fn_and_require_op\u001b[0m \u001b[0;34m=\u001b[0m \u001b[0mcall_with_requiring\u001b[0m\u001b[0;34m\u001b[0m\u001b[0m\n",
      "\u001b[0;32m~/anaconda3/lib/python3.6/site-packages/tensorflow/python/framework/common_shapes.py\u001b[0m in \u001b[0;36mcall_cpp_shape_fn\u001b[0;34m(op, input_tensors_needed, input_tensors_as_shapes_needed, debug_python_shape_fn, require_shape_fn)\u001b[0m\n\u001b[1;32m    608\u001b[0m     res = _call_cpp_shape_fn_impl(op, input_tensors_needed,\n\u001b[1;32m    609\u001b[0m                                   \u001b[0minput_tensors_as_shapes_needed\u001b[0m\u001b[0;34m,\u001b[0m\u001b[0;34m\u001b[0m\u001b[0m\n\u001b[0;32m--> 610\u001b[0;31m                                   debug_python_shape_fn, require_shape_fn)\n\u001b[0m\u001b[1;32m    611\u001b[0m     \u001b[0;32mif\u001b[0m \u001b[0;32mnot\u001b[0m \u001b[0misinstance\u001b[0m\u001b[0;34m(\u001b[0m\u001b[0mres\u001b[0m\u001b[0;34m,\u001b[0m \u001b[0mdict\u001b[0m\u001b[0;34m)\u001b[0m\u001b[0;34m:\u001b[0m\u001b[0;34m\u001b[0m\u001b[0m\n\u001b[1;32m    612\u001b[0m       \u001b[0;31m# Handles the case where _call_cpp_shape_fn_impl calls unknown_shape(op).\u001b[0m\u001b[0;34m\u001b[0m\u001b[0;34m\u001b[0m\u001b[0m\n",
      "\u001b[0;32m~/anaconda3/lib/python3.6/site-packages/tensorflow/python/framework/common_shapes.py\u001b[0m in \u001b[0;36m_call_cpp_shape_fn_impl\u001b[0;34m(op, input_tensors_needed, input_tensors_as_shapes_needed, debug_python_shape_fn, require_shape_fn)\u001b[0m\n\u001b[1;32m    674\u001b[0m       \u001b[0mmissing_shape_fn\u001b[0m \u001b[0;34m=\u001b[0m \u001b[0;32mTrue\u001b[0m\u001b[0;34m\u001b[0m\u001b[0m\n\u001b[1;32m    675\u001b[0m     \u001b[0;32melse\u001b[0m\u001b[0;34m:\u001b[0m\u001b[0;34m\u001b[0m\u001b[0m\n\u001b[0;32m--> 676\u001b[0;31m       \u001b[0;32mraise\u001b[0m \u001b[0mValueError\u001b[0m\u001b[0;34m(\u001b[0m\u001b[0merr\u001b[0m\u001b[0;34m.\u001b[0m\u001b[0mmessage\u001b[0m\u001b[0;34m)\u001b[0m\u001b[0;34m\u001b[0m\u001b[0m\n\u001b[0m\u001b[1;32m    677\u001b[0m \u001b[0;34m\u001b[0m\u001b[0m\n\u001b[1;32m    678\u001b[0m   \u001b[0;32mif\u001b[0m \u001b[0mmissing_shape_fn\u001b[0m\u001b[0;34m:\u001b[0m\u001b[0;34m\u001b[0m\u001b[0m\n",
      "\u001b[0;31mValueError\u001b[0m: Dimensions must be equal, but are 100 and 3 for 'functionwindow_4/LessEqual' (op: 'LessEqual') with input shapes: [100], [3]."
     ]
    }
   ],
   "source": [
    "model = merge_model(100)\n",
    "loss = 'binary_crossentropy'\n",
    "metrics = ['accuracy']\n",
    "model.compile(optimizer='Adam',loss=loss,metrics=metrics)\n",
    "model.summary()"
   ]
  },
  {
   "cell_type": "markdown",
   "metadata": {},
   "source": [
    "## visualize model"
   ]
  },
  {
   "cell_type": "markdown",
   "metadata": {},
   "source": [
    "####  训练模型学会三个参数，获得窗口函数\n",
    "假设，只有一个峰，如果有两个？"
   ]
  },
  {
   "cell_type": "code",
   "execution_count": 46,
   "metadata": {},
   "outputs": [
    {
     "data": {
      "text/plain": [
       "(1000,)"
      ]
     },
     "execution_count": 46,
     "metadata": {},
     "output_type": "execute_result"
    }
   ],
   "source": [
    "x.shape"
   ]
  },
  {
   "cell_type": "code",
   "execution_count": 44,
   "metadata": {},
   "outputs": [
    {
     "data": {
      "text/plain": [
       "array([4.24835426e-18, 4.69562758e-18, 5.18999054e-18, 5.73640079e-18,\n",
       "       6.34033797e-18, 7.00785859e-18, 7.74565681e-18, 8.56113157e-18,\n",
       "       9.46246079e-18, 1.04586833e-17, 1.15597897e-17, 1.27768223e-17,\n",
       "       1.41219860e-17, 1.56087706e-17, 1.72520862e-17, 1.90684126e-17,\n",
       "       2.10759647e-17, 2.32948749e-17, 2.57473955e-17, 2.84581212e-17,\n",
       "       3.14542364e-17, 3.47657872e-17, 3.84259832e-17, 4.24715303e-17,\n",
       "       4.69429989e-17, 5.18852306e-17, 5.73477882e-17, 6.33854523e-17,\n",
       "       7.00587711e-17, 7.74346672e-17, 8.55871091e-17, 9.45978527e-17,\n",
       "       1.04557261e-16, 1.15565212e-16, 1.27732097e-16, 1.41179930e-16,\n",
       "       1.56043572e-16, 1.72472082e-16, 1.90630210e-16, 2.10700054e-16,\n",
       "       2.32882883e-16, 2.57401154e-16, 2.84500747e-16, 3.14453427e-16,\n",
       "       3.47559571e-16, 3.84151182e-16, 4.24595214e-16, 4.69297257e-16,\n",
       "       5.18705601e-16, 5.73315731e-16, 6.33675300e-16, 7.00389619e-16,\n",
       "       7.74127725e-16, 8.55629093e-16, 9.45711051e-16, 1.04527698e-15,\n",
       "       1.15532536e-15, 1.27695981e-15, 1.41140011e-15, 1.55999451e-15,\n",
       "       1.72423315e-15, 1.90576309e-15, 2.10640479e-15, 2.32817035e-15,\n",
       "       2.57328374e-15, 2.84420304e-15, 3.14364515e-15, 3.47461299e-15,\n",
       "       3.84042563e-15, 4.24475160e-15, 4.69164563e-15, 5.18558936e-15,\n",
       "       5.73153625e-15, 6.33496128e-15, 7.00191583e-15, 7.73908840e-15,\n",
       "       8.55387163e-15, 9.45443650e-15, 1.04498142e-14, 1.15499869e-14,\n",
       "       1.27659874e-14, 1.41100104e-14, 1.55955342e-14, 1.72374562e-14,\n",
       "       1.90522424e-14, 2.10580920e-14, 2.32751206e-14, 2.57255614e-14,\n",
       "       2.84339884e-14, 3.14275628e-14, 3.47363054e-14, 3.83933975e-14,\n",
       "       4.24355139e-14, 4.69031907e-14, 5.18412313e-14, 5.72991566e-14,\n",
       "       6.33317007e-14, 6.99993604e-14, 7.73690016e-14, 8.55145302e-14,\n",
       "       9.45176325e-14, 1.04468596e-13, 1.15467211e-13, 1.27623778e-13,\n",
       "       1.41060208e-13, 1.55911245e-13, 1.72325823e-13, 1.90468553e-13,\n",
       "       2.10521378e-13, 2.32685395e-13, 2.57182875e-13, 2.84259487e-13,\n",
       "       3.14186766e-13, 3.47264836e-13, 3.83825417e-13, 4.24235152e-13,\n",
       "       4.68899287e-13, 5.18265732e-13, 5.72829552e-13, 6.33137936e-13,\n",
       "       6.99795680e-13, 7.73471255e-13, 8.54903509e-13, 9.44909076e-13,\n",
       "       1.04439057e-12, 1.15434563e-12, 1.27587693e-12, 1.41020323e-12,\n",
       "       1.55867161e-12, 1.72277098e-12, 1.90414698e-12, 2.10461853e-12,\n",
       "       2.32619603e-12, 2.57110156e-12, 2.84179112e-12, 3.14097930e-12,\n",
       "       3.47166647e-12, 3.83716890e-12, 4.24115200e-12, 4.68766706e-12,\n",
       "       5.18119192e-12, 5.72667584e-12, 6.32958916e-12, 6.99597812e-12,\n",
       "       7.73252555e-12, 8.54661784e-12, 9.44641902e-12, 1.04409527e-11,\n",
       "       1.15401924e-11, 1.27551617e-11, 1.40980449e-11, 1.55823090e-11,\n",
       "       1.72228386e-11, 1.90360858e-11, 2.10402345e-11, 2.32553830e-11,\n",
       "       2.57037458e-11, 2.84098760e-11, 3.14009118e-11, 3.47068485e-11,\n",
       "       3.83608394e-11, 4.23995281e-11, 4.68634162e-11, 5.17972693e-11,\n",
       "       5.72505662e-11, 6.32779946e-11, 6.99400001e-11, 7.73033918e-11,\n",
       "       8.54420128e-11, 9.44374804e-11, 1.04380005e-10, 1.15369294e-10,\n",
       "       1.27515552e-10, 1.40940587e-10, 1.55779031e-10, 1.72179689e-10,\n",
       "       1.90307033e-10, 2.10342853e-10, 2.32488075e-10, 2.56964780e-10,\n",
       "       2.84018431e-10, 3.13920332e-10, 3.46970351e-10, 3.83499928e-10,\n",
       "       4.23875396e-10, 4.68501655e-10, 5.17826236e-10, 5.72343785e-10,\n",
       "       6.32601027e-10, 6.99202244e-10, 7.72815341e-10, 8.54178539e-10,\n",
       "       9.44107781e-10, 1.04350491e-09, 1.15336673e-09, 1.27479497e-09,\n",
       "       1.40900736e-09, 1.55734984e-09, 1.72131005e-09, 1.90253224e-09,\n",
       "       2.10283378e-09, 2.32422338e-09, 2.56892123e-09, 2.83938124e-09,\n",
       "       3.13831570e-09, 3.46872244e-09, 3.83391492e-09, 4.23755543e-09,\n",
       "       4.68369184e-09, 5.17679818e-09, 5.72181952e-09, 6.32422155e-09,\n",
       "       6.99004540e-09, 7.72596822e-09, 8.53937013e-09, 9.43840826e-09,\n",
       "       1.04320985e-08, 1.15304060e-08, 1.27443450e-08, 1.40860894e-08,\n",
       "       1.55690947e-08, 1.72082332e-08, 1.90199426e-08, 2.10223916e-08,\n",
       "       2.32356616e-08, 2.56819480e-08, 2.83857833e-08, 3.13742825e-08,\n",
       "       3.46774155e-08, 3.83283075e-08, 4.23635710e-08, 4.68236732e-08,\n",
       "       5.17533419e-08, 5.72020137e-08, 6.32243301e-08, 6.98806852e-08,\n",
       "       7.72378316e-08, 8.53695496e-08, 9.43573874e-08, 1.04291478e-07,\n",
       "       1.15271446e-07, 1.27407401e-07, 1.40821048e-07, 1.55646904e-07,\n",
       "       1.72033649e-07, 1.90145615e-07, 2.10164436e-07, 2.32290868e-07,\n",
       "       2.56746805e-07, 2.83777499e-07, 3.13654025e-07, 3.46675996e-07,\n",
       "       3.83174569e-07, 4.23515765e-07, 4.68104141e-07, 5.17386845e-07,\n",
       "       5.71858104e-07, 6.32064174e-07, 6.98608825e-07, 7.72159389e-07,\n",
       "       8.53453458e-07, 9.43306277e-07, 1.04261892e-06, 1.15238733e-06,\n",
       "       1.27371230e-06, 1.40781052e-06, 1.55602677e-06, 1.71984740e-06,\n",
       "       1.90091526e-06, 2.10104614e-06, 2.32224703e-06, 2.56673617e-06,\n",
       "       2.83696537e-06, 3.13564455e-06, 3.46576892e-06, 3.83064905e-06,\n",
       "       4.23394402e-06, 4.67969813e-06, 5.17238146e-06, 5.71693469e-06,\n",
       "       6.31881864e-06, 6.98406903e-06, 7.71935697e-06, 8.53205592e-06,\n",
       "       9.43031553e-06, 1.04231434e-05, 1.15204955e-05, 1.27333757e-05,\n",
       "       1.40739464e-05, 1.55556502e-05, 1.71933451e-05, 1.90034527e-05,\n",
       "       2.10041237e-05, 2.32154190e-05, 2.56595117e-05, 2.83609082e-05,\n",
       "       3.13466950e-05, 3.46468094e-05, 3.82943395e-05, 4.23258564e-05,\n",
       "       4.67817797e-05, 5.17067834e-05, 5.71502427e-05, 6.31667288e-05,\n",
       "       6.98165557e-05, 7.71663838e-05, 8.52898875e-05, 9.42684927e-05,\n",
       "       1.04192192e-04, 1.15160444e-04, 1.27283171e-04, 1.40681856e-04,\n",
       "       1.55490757e-04, 1.71858251e-04, 1.89948318e-04, 2.09942173e-04,\n",
       "       2.32040082e-04, 2.56463356e-04, 2.83456563e-04, 3.13289960e-04,\n",
       "       3.46262192e-04, 3.82703261e-04, 4.22977812e-04, 4.67488754e-04,\n",
       "       5.16681265e-04, 5.71047207e-04, 6.31129999e-04, 6.97529996e-04,\n",
       "       7.70910422e-04, 8.52003917e-04, 9.41619747e-04, 1.04065177e-03,\n",
       "       1.15008720e-03, 1.27101626e-03, 1.40464287e-03, 1.55229629e-03,\n",
       "       1.71544410e-03, 1.89570634e-03, 2.09487114e-03, 2.31491187e-03,\n",
       "       2.55800595e-03, 2.82655556e-03, 3.12321030e-03, 3.45089202e-03,\n",
       "       3.81282203e-03, 4.21255084e-03, 4.65399067e-03, 5.14145082e-03,\n",
       "       5.67967633e-03, 6.27388990e-03, 6.92983743e-03, 7.65383735e-03,\n",
       "       8.45283385e-03, 9.33445433e-03, 1.03070709e-02, 1.13798665e-02,\n",
       "       1.25629051e-02, 1.38672058e-02, 1.53048223e-02, 1.68889244e-02,\n",
       "       1.86338838e-02, 2.05553624e-02, 2.26704018e-02, 2.49975134e-02,\n",
       "       2.75567672e-02, 3.03698767e-02, 3.34602789e-02, 3.68532044e-02,\n",
       "       4.05757346e-02, 4.46568424e-02, 4.91274095e-02, 5.40202154e-02,\n",
       "       5.93698912e-02, 6.52128292e-02, 7.15870413e-02, 7.85319568e-02,\n",
       "       8.60881491e-02, 9.42969829e-02, 1.03200172e-01, 1.12839239e-01,\n",
       "       1.23254875e-01, 1.34486184e-01, 1.46569829e-01, 1.59539065e-01,\n",
       "       1.73422687e-01, 1.88243900e-01, 2.04019134e-01, 2.20756850e-01,\n",
       "       2.38456360e-01, 2.57106737e-01, 2.76685836e-01, 2.97159519e-01,\n",
       "       3.18481120e-01, 3.40591219e-01, 3.63417767e-01, 3.86876596e-01,\n",
       "       4.10872336e-01, 4.35299732e-01, 4.60045331e-01, 4.84989497e-01,\n",
       "       5.10008673e-01, 5.34977809e-01, 5.59772852e-01, 5.84273193e-01,\n",
       "       6.08363974e-01, 6.31938152e-01, 6.54898264e-01, 6.77157815e-01,\n",
       "       6.98642277e-01, 7.19289684e-01, 7.39050826e-01, 7.57889092e-01,\n",
       "       7.75779996e-01, 7.92710438e-01, 8.08677768e-01, 8.23688708e-01,\n",
       "       8.37758192e-01, 8.50908164e-01, 8.63166393e-01, 8.74565331e-01,\n",
       "       8.85141038e-01, 8.94932203e-01, 9.03979263e-01, 9.12323628e-01,\n",
       "       9.20007022e-01, 9.27070916e-01, 9.33556073e-01, 9.39502176e-01,\n",
       "       9.44947539e-01, 9.49928890e-01, 9.54481223e-01, 9.58637691e-01,\n",
       "       9.62429558e-01, 9.65886177e-01, 9.69035007e-01, 9.71901644e-01,\n",
       "       9.74509878e-01, 9.76881761e-01, 9.79037685e-01, 9.80996467e-01,\n",
       "       9.82775434e-01, 9.84390518e-01, 9.85856341e-01, 9.87186306e-01,\n",
       "       9.88392684e-01, 9.89486693e-01, 9.90478584e-01, 9.91377709e-01,\n",
       "       9.92192597e-01, 9.92931020e-01, 9.93600053e-01, 9.94206136e-01,\n",
       "       9.94755125e-01, 9.95252344e-01, 9.95702630e-01, 9.96110376e-01,\n",
       "       9.96479571e-01, 9.96813834e-01, 9.97116451e-01, 9.97390402e-01,\n",
       "       9.97638387e-01, 9.97862857e-01, 9.98066033e-01, 9.98249927e-01,\n",
       "       9.98416363e-01, 9.98566993e-01, 9.98703315e-01, 9.98826683e-01,\n",
       "       9.98938327e-01, 9.99039357e-01, 9.99130782e-01, 9.99213513e-01,\n",
       "       9.99288375e-01, 9.99356116e-01, 9.99417412e-01, 9.99472876e-01,\n",
       "       9.99523062e-01, 9.99568473e-01, 9.99609561e-01, 9.99646738e-01,\n",
       "       9.99680377e-01, 9.99710813e-01, 9.99738352e-01, 9.99763269e-01,\n",
       "       9.99785813e-01, 9.99806211e-01, 9.99824667e-01, 9.99841365e-01,\n",
       "       9.99856474e-01, 9.99870143e-01, 9.99882511e-01, 9.99893701e-01,\n",
       "       9.99903825e-01, 9.99912986e-01, 9.99921273e-01, 9.99928772e-01,\n",
       "       9.99935556e-01, 9.99941694e-01, 9.99947248e-01, 9.99952272e-01,\n",
       "       9.99952272e-01, 9.99947248e-01, 9.99941694e-01, 9.99935556e-01,\n",
       "       9.99928772e-01, 9.99921273e-01, 9.99912986e-01, 9.99903825e-01,\n",
       "       9.99893701e-01, 9.99882511e-01, 9.99870143e-01, 9.99856474e-01,\n",
       "       9.99841365e-01, 9.99824667e-01, 9.99806211e-01, 9.99785813e-01,\n",
       "       9.99763269e-01, 9.99738352e-01, 9.99710813e-01, 9.99680377e-01,\n",
       "       9.99646738e-01, 9.99609561e-01, 9.99568473e-01, 9.99523062e-01,\n",
       "       9.99472876e-01, 9.99417412e-01, 9.99356116e-01, 9.99288375e-01,\n",
       "       9.99213513e-01, 9.99130782e-01, 9.99039357e-01, 9.98938327e-01,\n",
       "       9.98826683e-01, 9.98703315e-01, 9.98566993e-01, 9.98416363e-01,\n",
       "       9.98249927e-01, 9.98066033e-01, 9.97862857e-01, 9.97638387e-01,\n",
       "       9.97390402e-01, 9.97116451e-01, 9.96813834e-01, 9.96479571e-01,\n",
       "       9.96110376e-01, 9.95702630e-01, 9.95252344e-01, 9.94755125e-01,\n",
       "       9.94206136e-01, 9.93600053e-01, 9.92931020e-01, 9.92192597e-01,\n",
       "       9.91377709e-01, 9.90478584e-01, 9.89486693e-01, 9.88392684e-01,\n",
       "       9.87186306e-01, 9.85856341e-01, 9.84390518e-01, 9.82775434e-01,\n",
       "       9.80996467e-01, 9.79037685e-01, 9.76881761e-01, 9.74509878e-01,\n",
       "       9.71901644e-01, 9.69035007e-01, 9.65886177e-01, 9.62429558e-01,\n",
       "       9.58637691e-01, 9.54481223e-01, 9.49928890e-01, 9.44947539e-01,\n",
       "       9.39502176e-01, 9.33556073e-01, 9.27070916e-01, 9.20007022e-01,\n",
       "       9.12323628e-01, 9.03979263e-01, 8.94932203e-01, 8.85141038e-01,\n",
       "       8.74565331e-01, 8.63166393e-01, 8.50908164e-01, 8.37758192e-01,\n",
       "       8.23688708e-01, 8.08677768e-01, 7.92710438e-01, 7.75779996e-01,\n",
       "       7.57889092e-01, 7.39050826e-01, 7.19289684e-01, 6.98642277e-01,\n",
       "       6.77157815e-01, 6.54898264e-01, 6.31938152e-01, 6.08363974e-01,\n",
       "       5.84273193e-01, 5.59772852e-01, 5.34977809e-01, 5.10008673e-01,\n",
       "       4.84989497e-01, 4.60045331e-01, 4.35299732e-01, 4.10872336e-01,\n",
       "       3.86876596e-01, 3.63417767e-01, 3.40591219e-01, 3.18481120e-01,\n",
       "       2.97159519e-01, 2.76685836e-01, 2.57106737e-01, 2.38456360e-01,\n",
       "       2.20756850e-01, 2.04019134e-01, 1.88243900e-01, 1.73422687e-01,\n",
       "       1.59539065e-01, 1.46569829e-01, 1.34486184e-01, 1.23254875e-01,\n",
       "       1.12839239e-01, 1.03200172e-01, 9.42969829e-02, 8.60881491e-02,\n",
       "       7.85319568e-02, 7.15870413e-02, 6.52128292e-02, 5.93698912e-02,\n",
       "       5.40202154e-02, 4.91274095e-02, 4.46568424e-02, 4.05757346e-02,\n",
       "       3.68532044e-02, 3.34602789e-02, 3.03698767e-02, 2.75567672e-02,\n",
       "       2.49975134e-02, 2.26704018e-02, 2.05553624e-02, 1.86338838e-02,\n",
       "       1.68889244e-02, 1.53048223e-02, 1.38672058e-02, 1.25629051e-02,\n",
       "       1.13798665e-02, 1.03070709e-02, 9.33445433e-03, 8.45283385e-03,\n",
       "       7.65383735e-03, 6.92983743e-03, 6.27388990e-03, 5.67967633e-03,\n",
       "       5.14145082e-03, 4.65399067e-03, 4.21255084e-03, 3.81282203e-03,\n",
       "       3.45089202e-03, 3.12321030e-03, 2.82655556e-03, 2.55800595e-03,\n",
       "       2.31491187e-03, 2.09487114e-03, 1.89570634e-03, 1.71544410e-03,\n",
       "       1.55229629e-03, 1.40464287e-03, 1.27101626e-03, 1.15008720e-03,\n",
       "       1.04065177e-03, 9.41619747e-04, 8.52003917e-04, 7.70910422e-04,\n",
       "       6.97529996e-04, 6.31129999e-04, 5.71047207e-04, 5.16681265e-04,\n",
       "       4.67488754e-04, 4.22977812e-04, 3.82703261e-04, 3.46262192e-04,\n",
       "       3.13289960e-04, 2.83456563e-04, 2.56463356e-04, 2.32040082e-04,\n",
       "       2.09942173e-04, 1.89948318e-04, 1.71858251e-04, 1.55490757e-04,\n",
       "       1.40681856e-04, 1.27283171e-04, 1.15160444e-04, 1.04192192e-04,\n",
       "       9.42684927e-05, 8.52898875e-05, 7.71663838e-05, 6.98165557e-05,\n",
       "       6.31667288e-05, 5.71502427e-05, 5.17067834e-05, 4.67817797e-05,\n",
       "       4.23258564e-05, 3.82943395e-05, 3.46468094e-05, 3.13466950e-05,\n",
       "       2.83609082e-05, 2.56595117e-05, 2.32154190e-05, 2.10041237e-05,\n",
       "       1.90034527e-05, 1.71933451e-05, 1.55556502e-05, 1.40739464e-05,\n",
       "       1.27333757e-05, 1.15204955e-05, 1.04231434e-05, 9.43031553e-06,\n",
       "       8.53205592e-06, 7.71935697e-06, 6.98406903e-06, 6.31881864e-06,\n",
       "       5.71693469e-06, 5.17238146e-06, 4.67969813e-06, 4.23394402e-06,\n",
       "       3.83064905e-06, 3.46576892e-06, 3.13564455e-06, 2.83696537e-06,\n",
       "       2.56673617e-06, 2.32224703e-06, 2.10104614e-06, 1.90091526e-06,\n",
       "       1.71984740e-06, 1.55602677e-06, 1.40781052e-06, 1.27371230e-06,\n",
       "       1.15238733e-06, 1.04261892e-06, 9.43306277e-07, 8.53453458e-07,\n",
       "       7.72159389e-07, 6.98608825e-07, 6.32064174e-07, 5.71858104e-07,\n",
       "       5.17386845e-07, 4.68104141e-07, 4.23515765e-07, 3.83174569e-07,\n",
       "       3.46675996e-07, 3.13654025e-07, 2.83777499e-07, 2.56746805e-07,\n",
       "       2.32290868e-07, 2.10164436e-07, 1.90145615e-07, 1.72033649e-07,\n",
       "       1.55646904e-07, 1.40821048e-07, 1.27407401e-07, 1.15271446e-07,\n",
       "       1.04291478e-07, 9.43573874e-08, 8.53695496e-08, 7.72378316e-08,\n",
       "       6.98806852e-08, 6.32243301e-08, 5.72020137e-08, 5.17533419e-08,\n",
       "       4.68236732e-08, 4.23635710e-08, 3.83283075e-08, 3.46774155e-08,\n",
       "       3.13742825e-08, 2.83857833e-08, 2.56819480e-08, 2.32356616e-08,\n",
       "       2.10223916e-08, 1.90199426e-08, 1.72082332e-08, 1.55690947e-08,\n",
       "       1.40860894e-08, 1.27443450e-08, 1.15304060e-08, 1.04320985e-08,\n",
       "       9.43840826e-09, 8.53937013e-09, 7.72596822e-09, 6.99004540e-09,\n",
       "       6.32422155e-09, 5.72181952e-09, 5.17679818e-09, 4.68369184e-09,\n",
       "       4.23755543e-09, 3.83391492e-09, 3.46872244e-09, 3.13831570e-09,\n",
       "       2.83938124e-09, 2.56892123e-09, 2.32422338e-09, 2.10283378e-09,\n",
       "       1.90253224e-09, 1.72131005e-09, 1.55734984e-09, 1.40900736e-09,\n",
       "       1.27479497e-09, 1.15336673e-09, 1.04350491e-09, 9.44107781e-10,\n",
       "       8.54178539e-10, 7.72815341e-10, 6.99202244e-10, 6.32601027e-10,\n",
       "       5.72343785e-10, 5.17826236e-10, 4.68501655e-10, 4.23875396e-10,\n",
       "       3.83499928e-10, 3.46970351e-10, 3.13920332e-10, 2.84018431e-10,\n",
       "       2.56964780e-10, 2.32488075e-10, 2.10342853e-10, 1.90307033e-10,\n",
       "       1.72179689e-10, 1.55779031e-10, 1.40940587e-10, 1.27515552e-10,\n",
       "       1.15369294e-10, 1.04380005e-10, 9.44374804e-11, 8.54420128e-11,\n",
       "       7.73033918e-11, 6.99400001e-11, 6.32779946e-11, 5.72505662e-11,\n",
       "       5.17972693e-11, 4.68634162e-11, 4.23995281e-11, 3.83608394e-11,\n",
       "       3.47068485e-11, 3.14009118e-11, 2.84098760e-11, 2.57037458e-11,\n",
       "       2.32553830e-11, 2.10402345e-11, 1.90360858e-11, 1.72228386e-11,\n",
       "       1.55823090e-11, 1.40980449e-11, 1.27551617e-11, 1.15401924e-11,\n",
       "       1.04409527e-11, 9.44641902e-12, 8.54661784e-12, 7.73252555e-12,\n",
       "       6.99597812e-12, 6.32958916e-12, 5.72667584e-12, 5.18119192e-12,\n",
       "       4.68766706e-12, 4.24115200e-12, 3.83716890e-12, 3.47166647e-12,\n",
       "       3.14097930e-12, 2.84179112e-12, 2.57110156e-12, 2.32619603e-12,\n",
       "       2.10461853e-12, 1.90414698e-12, 1.72277098e-12, 1.55867161e-12,\n",
       "       1.41020323e-12, 1.27587693e-12, 1.15434563e-12, 1.04439057e-12,\n",
       "       9.44909076e-13, 8.54903509e-13, 7.73471255e-13, 6.99795680e-13,\n",
       "       6.33137936e-13, 5.72829552e-13, 5.18265732e-13, 4.68899287e-13,\n",
       "       4.24235152e-13, 3.83825417e-13, 3.47264836e-13, 3.14186766e-13,\n",
       "       2.84259487e-13, 2.57182875e-13, 2.32685395e-13, 2.10521378e-13,\n",
       "       1.90468553e-13, 1.72325823e-13, 1.55911245e-13, 1.41060208e-13,\n",
       "       1.27623778e-13, 1.15467211e-13, 1.04468596e-13, 9.45176325e-14,\n",
       "       8.55145302e-14, 7.73690016e-14, 6.99993604e-14, 6.33317007e-14,\n",
       "       5.72991566e-14, 5.18412313e-14, 4.69031907e-14, 4.24355139e-14,\n",
       "       3.83933975e-14, 3.47363054e-14, 3.14275628e-14, 2.84339884e-14,\n",
       "       2.57255614e-14, 2.32751206e-14, 2.10580920e-14, 1.90522424e-14,\n",
       "       1.72374562e-14, 1.55955342e-14, 1.41100104e-14, 1.27659874e-14,\n",
       "       1.15499869e-14, 1.04498142e-14, 9.45443650e-15, 8.55387163e-15,\n",
       "       7.73908840e-15, 7.00191583e-15, 6.33496128e-15, 5.73153625e-15,\n",
       "       5.18558936e-15, 4.69164563e-15, 4.24475160e-15, 3.84042563e-15,\n",
       "       3.47461299e-15, 3.14364515e-15, 2.84420304e-15, 2.57328374e-15,\n",
       "       2.32817035e-15, 2.10640479e-15, 1.90576309e-15, 1.72423315e-15,\n",
       "       1.55999451e-15, 1.41140011e-15, 1.27695981e-15, 1.15532536e-15,\n",
       "       1.04527698e-15, 9.45711051e-16, 8.55629093e-16, 7.74127725e-16,\n",
       "       7.00389619e-16, 6.33675300e-16, 5.73315731e-16, 5.18705601e-16,\n",
       "       4.69297257e-16, 4.24595214e-16, 3.84151182e-16, 3.47559571e-16,\n",
       "       3.14453427e-16, 2.84500747e-16, 2.57401154e-16, 2.32882883e-16,\n",
       "       2.10700054e-16, 1.90630210e-16, 1.72472082e-16, 1.56043572e-16,\n",
       "       1.41179930e-16, 1.27732097e-16, 1.15565212e-16, 1.04557261e-16,\n",
       "       9.45978527e-17, 8.55871091e-17, 7.74346672e-17, 7.00587711e-17,\n",
       "       6.33854523e-17, 5.73477882e-17, 5.18852306e-17, 4.69429989e-17,\n",
       "       4.24715303e-17, 3.84259832e-17, 3.47657872e-17, 3.14542364e-17,\n",
       "       2.84581212e-17, 2.57473955e-17, 2.32948749e-17, 2.10759647e-17,\n",
       "       1.90684126e-17, 1.72520862e-17, 1.56087706e-17, 1.41219860e-17,\n",
       "       1.27768223e-17, 1.15597897e-17, 1.04586833e-17, 9.46246079e-18,\n",
       "       8.56113157e-18, 7.74565681e-18, 7.00785859e-18, 6.34033797e-18,\n",
       "       5.73640079e-18, 5.18999054e-18, 4.69562758e-18, 4.24835426e-18])"
      ]
     },
     "execution_count": 44,
     "metadata": {},
     "output_type": "execute_result"
    }
   ],
   "source": [
    "window_function(x, c=5, w=2, t=10)"
   ]
  },
  {
   "cell_type": "code",
   "execution_count": 43,
   "metadata": {},
   "outputs": [
    {
     "data": {
      "image/png": "[encoded data removed]",
      "text/plain": [
       "<matplotlib.figure.Figure at 0x7fe1743785f8>"
      ]
     },
     "metadata": {},
     "output_type": "display_data"
    }
   ],
   "source": [
    "def sigmoid(x):\n",
    "    return 1.0/(1.0 + np.exp(-x))\n",
    "\n",
    "def window_function(x, c, w, t=1):\n",
    "    return np.where(x <= c, \n",
    "                    sigmoid(t*(x - (c - 0.5*w))),\n",
    "                    sigmoid(t*(-x + (c + 0.5*w))))\n",
    "\n",
    "x = np.linspace(0, 10, 1000)\n",
    "y = window_function(x, c=5, w=2, t=10)\n",
    "fig, axes = plt.subplots(5, 1, figsize=(16, 12))\n",
    "axes[0].plot(x, window_function(x, c=5, w=2, t=10))\n",
    "axes[0].set_title('c=5, w=2, t=10')\n",
    "axes[1].plot(x, window_function(x, c=5, w=4, t=10))\n",
    "axes[1].set_title('c=5, w=4, t=10')\n",
    "axes[2].plot(x, window_function(x, c=3, w=2, t=10))\n",
    "axes[2].set_title('c=3, w=2, t=10')\n",
    "axes[3].plot(x, window_function(x, c=5, w=2, t=100))\n",
    "axes[3].set_title('c=5, w=2, t=100')\n",
    "axes[4].plot(x, window_function(x, c=5, w=2, t=3))\n",
    "axes[4].set_title('c=5, w=2, t=3')\n",
    "plt.tight_layout()"
   ]
  },
  {
   "cell_type": "markdown",
   "metadata": {},
   "source": [
    "### 获取model的train之后的weight"
   ]
  },
  {
   "cell_type": "code",
   "execution_count": null,
   "metadata": {},
   "outputs": [],
   "source": []
  },
  {
   "cell_type": "code",
   "execution_count": null,
   "metadata": {},
   "outputs": [],
   "source": []
  }
 ],
 "metadata": {
  "kernelspec": {
   "display_name": "Python 3",
   "language": "python",
   "name": "python3"
  },
  "language_info": {
   "codemirror_mode": {
    "name": "ipython",
    "version": 3
   },
   "file_extension": ".py",
   "mimetype": "text/x-python",
   "name": "python",
   "nbconvert_exporter": "python",
   "pygments_lexer": "ipython3",
   "version": "3.6.4"
  },
  "toc": {
   "base_numbering": 1,
   "nav_menu": {},
   "number_sections": true,
   "sideBar": true,
   "skip_h1_title": false,
   "title_cell": "Table of Contents",
   "title_sidebar": "Contents",
   "toc_cell": false,
   "toc_position": {},
   "toc_section_display": true,
   "toc_window_display": false
  }
 },
 "nbformat": 4,
 "nbformat_minor": 2
}
