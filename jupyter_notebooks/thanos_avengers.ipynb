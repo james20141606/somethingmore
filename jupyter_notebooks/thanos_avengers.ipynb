{
 "cells": [
  {
   "cell_type": "markdown",
   "metadata": {},
   "source": [
    "**Question:**\n",
    "六人组，每人带一宝石手套，去找灭霸决战，到了草屋，七人围圈而坐，六对一，灭霸人少，给予先打响指的权利，灭霸打后，超级英雄全化灰就灭霸胜，没全化灰就由一个活着的超级英雄打一个响指，看二分之一消失的概率能不能把灭霸打成灰。没成灰就继续第二回合，灭霸继续优先打响指 </br>\n",
    "问灭霸死的概率是多少"
   ]
  },
  {
   "cell_type": "code",
   "execution_count": 141,
   "metadata": {},
   "outputs": [
    {
     "name": "stdout",
     "output_type": "stream",
     "text": [
      "Populating the interactive namespace from numpy and matplotlib\n"
     ]
    }
   ],
   "source": [
    "import numpy as np\n",
    "%pylab inline\n",
    "from tqdm import tqdm_notebook as tqdm\n",
    "import seaborn as sns\n",
    "import pandas as pd\n",
    "np.random.seed(1111)\n",
    "from matplotlib.backends.backend_pdf import PdfPages, PdfFile\n",
    "from IPython.display import HTML, display, FileLink\n",
    "from base64 import b64encode, b64decode\n",
    "from io import StringIO, BytesIO\n",
    "from contextlib import contextmanager\n",
    "def display_dataframe(df, filename=None, encoding='utf-8', format='csv', type='button',gradientfunc=False, **kwargs):\n",
    "    #display(df)\n",
    "    #if isinstance(df, pd.DataFrame):\n",
    "    #    display(df.style.set_caption(filename))\n",
    "    #else:\n",
    "    if gradientfunc == False:\n",
    "        display(df.style.set_caption(filename))    \n",
    "    else:\n",
    "        display(df.style.format(gradient_func).set_caption(filename)) \n",
    "    if filename is None:\n",
    "        filename = \"dataframe\"\n",
    "    if format == 'csv':\n",
    "        data = df.to_csv(**kwargs)\n",
    "        mime_type = 'text/csv'\n",
    "        filename = filename + '.csv'\n",
    "    elif format == 'tsv':\n",
    "        data = df.to_csv(**kwargs)\n",
    "        mime_type = 'text/plain'\n",
    "        filename = filename + '.txt'\n",
    "    else:\n",
    "        raise ValueError('unknown file format: {}'.format(format))\n",
    "    data = 'data:{mime_type};base64,'.format(mime_type=mime_type) + str(b64encode(bytes(data, encoding=encoding)), encoding=encoding)\n",
    "    if type == 'hyperlink':\n",
    "        display(HTML('<a href=\" \" download={filename} target=\"_blank\">{filename}</a >'.format(\n",
    "            mime_type=mime_type, filename=filename, data=data)))\n",
    "    elif type == 'button':\n",
    "        button_id = 'button_{}'.format(np.random.randint(1000000000))\n",
    "        display(HTML(r'<input type=\"button\" id=\"{0}\" value=\"Download\">'.format(button_id)))\n",
    "        display(HTML('''<script>\n",
    "    document.getElementById(\"{button_id}\").addEventListener(\"click\", function(event){{\n",
    "        var filename = \"{filename}\";\n",
    "        var data = \"{data}\";\n",
    "        const element = document.createElement('a');\n",
    "        element.setAttribute('href', data);\n",
    "        element.setAttribute('download', filename);\n",
    "        element.style.display = 'none';\n",
    "        document.body.appendChild(element);\n",
    "        element.click();\n",
    "        document.body.removeChild(element);\n",
    "    }});\n",
    "</script>'''.format(button_id=button_id, filename=filename, data=data)))"
   ]
  },
  {
   "cell_type": "code",
   "execution_count": 40,
   "metadata": {},
   "outputs": [
    {
     "data": {
      "text/plain": [
       "array([0, 0, 0, 0, 0, 0])"
      ]
     },
     "execution_count": 40,
     "metadata": {},
     "output_type": "execute_result"
    }
   ],
   "source": [
    "np.random.randint(0,2,size=6)"
   ]
  },
  {
   "cell_type": "code",
   "execution_count": 41,
   "metadata": {},
   "outputs": [],
   "source": [
    "def check_survive(input_num):\n",
    "    '''\n",
    "    input_num: how many people to be decided to survive by stones\n",
    "    status: 0 means dead, 1 means alive\n",
    "    '''\n",
    "    random_output = np.random.randint(0,2,size=input_num)\n",
    "    alive = random_output.sum()\n",
    "    dead = random_output.shape[0] - alive\n",
    "    return alive, dead"
   ]
  },
  {
   "cell_type": "code",
   "execution_count": 47,
   "metadata": {},
   "outputs": [
    {
     "data": {
      "text/plain": [
       "(5, 1)"
      ]
     },
     "execution_count": 47,
     "metadata": {},
     "output_type": "execute_result"
    }
   ],
   "source": [
    "check_survive(6)"
   ]
  },
  {
   "cell_type": "code",
   "execution_count": 62,
   "metadata": {},
   "outputs": [
    {
     "data": {
      "text/plain": [
       "1"
      ]
     },
     "execution_count": 62,
     "metadata": {},
     "output_type": "execute_result"
    }
   ],
   "source": [
    "np.random.randint(2)"
   ]
  },
  {
   "cell_type": "code",
   "execution_count": 193,
   "metadata": {},
   "outputs": [
    {
     "name": "stdout",
     "output_type": "stream",
     "text": [
      "Round 1, avengers alive: 4, dead: 2\n",
      "Round 2, avengers alive: 0, dead: 4\n",
      "Avengers die first\n"
     ]
    }
   ],
   "source": [
    "avengers_alive_num = 6\n",
    "round_num = 0\n",
    "while True:\n",
    "    round_num += 1\n",
    "    avengers_alive_num,avengers_dead_num = check_survive(avengers_alive_num)\n",
    "    print ('Round {}, avengers alive: {}, dead: {}'.format(round_num,avengers_alive_num,avengers_dead_num) )\n",
    "    if avengers_alive_num ==0:\n",
    "        print ('Avengers die first')\n",
    "        break\n",
    "    elif np.random.randint(2) ==0:\n",
    "        print ('Thanos die first')\n",
    "        break"
   ]
  },
  {
   "cell_type": "code",
   "execution_count": 163,
   "metadata": {},
   "outputs": [],
   "source": [
    "def summarize(avengers_alive_num = 6):\n",
    "    round_num = 0\n",
    "    while True:\n",
    "        round_num += 1\n",
    "        avengers_alive_num,avengers_dead_num = check_survive(avengers_alive_num)\n",
    "        #print ('Round {}, avengers alive: {}, dead: {}'.format(round_num,avengers_alive_num,avengers_dead_num) )\n",
    "        if avengers_alive_num ==0:\n",
    "            #print ('Avengers die first')\n",
    "            return round_num, 1\n",
    "        elif np.random.randint(2) ==0:\n",
    "            #print ('Thanos die first')\n",
    "            return round_num, 0"
   ]
  },
  {
   "cell_type": "code",
   "execution_count": 179,
   "metadata": {},
   "outputs": [
    {
     "data": {
      "application/vnd.jupyter.widget-view+json": {
       "model_id": "7120ba62659a4cc5a5b943ddf39e6519",
       "version_major": 2,
       "version_minor": 0
      },
      "text/plain": [
       "HBox(children=(IntProgress(value=0, max=14000605), HTML(value='')))"
      ]
     },
     "metadata": {},
     "output_type": "display_data"
    },
    {
     "name": "stdout",
     "output_type": "stream",
     "text": [
      "\n"
     ]
    }
   ],
   "source": [
    "test_time = 14000605\n",
    "summarize_data = np.ndarray([test_time,2])\n",
    "for i in tqdm(range(test_time)):\n",
    "    summarize_data[i] = summarize()"
   ]
  },
  {
   "cell_type": "code",
   "execution_count": 180,
   "metadata": {},
   "outputs": [
    {
     "data": {
      "text/plain": [
       "<matplotlib.axes._subplots.AxesSubplot at 0x1224e2278>"
      ]
     },
     "execution_count": 180,
     "metadata": {},
     "output_type": "execute_result"
    },
    {
     "data": {
      "image/png": "[encoded data removed]",
      "text/plain": [
       "<Figure size 576x288 with 1 Axes>"
      ]
     },
     "metadata": {
      "needs_background": "light"
     },
     "output_type": "display_data"
    }
   ],
   "source": [
    "fig,ax=plt.subplots(figsize=(8,4))\n",
    "sns.distplot(summarize_data[:,1],kde=0,ax=ax)"
   ]
  },
  {
   "cell_type": "code",
   "execution_count": 181,
   "metadata": {},
   "outputs": [
    {
     "data": {
      "text/plain": [
       "<matplotlib.axes._subplots.AxesSubplot at 0x122c0ccc0>"
      ]
     },
     "execution_count": 181,
     "metadata": {},
     "output_type": "execute_result"
    },
    {
     "data": {
      "image/png": "[encoded data removed]",
      "text/plain": [
       "<Figure size 576x288 with 1 Axes>"
      ]
     },
     "metadata": {
      "needs_background": "light"
     },
     "output_type": "display_data"
    }
   ],
   "source": [
    "fig,ax=plt.subplots(figsize=(8,4))\n",
    "sns.distplot(summarize_data[np.where(summarize_data[:,1]==0)][:,0],kde=0,ax=ax,color='r')\n",
    "sns.distplot(summarize_data[np.where(summarize_data[:,1]==1)][:,0],kde=0,ax=ax,color='m')"
   ]
  },
  {
   "cell_type": "code",
   "execution_count": 182,
   "metadata": {},
   "outputs": [
    {
     "name": "stdout",
     "output_type": "stream",
     "text": [
      "Avengers win 0.7941024691432977, Thanos win 0.20589753085670226\n"
     ]
    }
   ],
   "source": [
    "print ('Avengers win {}, Thanos win {}'.format(1 - summarize_data[:,1].sum()/test_time,summarize_data[:,1].sum()/test_time) )"
   ]
  },
  {
   "cell_type": "code",
   "execution_count": 183,
   "metadata": {},
   "outputs": [
    {
     "data": {
      "text/html": [
       "<style  type=\"text/css\" >\n",
       "</style>  \n",
       "<table id=\"T_66861af8_6fbe_11e9_a40f_8c8590804826\" ><caption>Avengers win times in 14000605 times</caption> \n",
       "<thead>    <tr> \n",
       "        <th class=\"blank level0\" ></th> \n",
       "        <th class=\"col_heading level0 col0\" >win time</th> \n",
       "        <th class=\"col_heading level0 col1\" >win probability</th> \n",
       "    </tr>    <tr> \n",
       "        <th class=\"index_name level0\" >1</th> \n",
       "        <th class=\"blank\" ></th> \n",
       "        <th class=\"blank\" ></th> \n",
       "    </tr></thead> \n",
       "<tbody>    <tr> \n",
       "        <th id=\"T_66861af8_6fbe_11e9_a40f_8c8590804826level0_row0\" class=\"row_heading level0 row0\" >1</th> \n",
       "        <td id=\"T_66861af8_6fbe_11e9_a40f_8c8590804826row0_col0\" class=\"data row0 col0\" >6.89009e+06</td> \n",
       "        <td id=\"T_66861af8_6fbe_11e9_a40f_8c8590804826row0_col1\" class=\"data row0 col1\" >0.492128</td> \n",
       "    </tr>    <tr> \n",
       "        <th id=\"T_66861af8_6fbe_11e9_a40f_8c8590804826level0_row1\" class=\"row_heading level0 row1\" >2</th> \n",
       "        <td id=\"T_66861af8_6fbe_11e9_a40f_8c8590804826row1_col0\" class=\"data row1 col0\" >2.87929e+06</td> \n",
       "        <td id=\"T_66861af8_6fbe_11e9_a40f_8c8590804826row1_col1\" class=\"data row1 col1\" >0.205655</td> \n",
       "    </tr>    <tr> \n",
       "        <th id=\"T_66861af8_6fbe_11e9_a40f_8c8590804826level0_row2\" class=\"row_heading level0 row2\" >3</th> \n",
       "        <td id=\"T_66861af8_6fbe_11e9_a40f_8c8590804826row2_col0\" class=\"data row2 col0\" >964531</td> \n",
       "        <td id=\"T_66861af8_6fbe_11e9_a40f_8c8590804826row2_col1\" class=\"data row2 col1\" >0.0688921</td> \n",
       "    </tr>    <tr> \n",
       "        <th id=\"T_66861af8_6fbe_11e9_a40f_8c8590804826level0_row3\" class=\"row_heading level0 row3\" >4</th> \n",
       "        <td id=\"T_66861af8_6fbe_11e9_a40f_8c8590804826row3_col0\" class=\"data row3 col0\" >281705</td> \n",
       "        <td id=\"T_66861af8_6fbe_11e9_a40f_8c8590804826row3_col1\" class=\"data row3 col1\" >0.0201209</td> \n",
       "    </tr>    <tr> \n",
       "        <th id=\"T_66861af8_6fbe_11e9_a40f_8c8590804826level0_row4\" class=\"row_heading level0 row4\" >5</th> \n",
       "        <td id=\"T_66861af8_6fbe_11e9_a40f_8c8590804826row4_col0\" class=\"data row4 col0\" >75992</td> \n",
       "        <td id=\"T_66861af8_6fbe_11e9_a40f_8c8590804826row4_col1\" class=\"data row4 col1\" >0.00542777</td> \n",
       "    </tr>    <tr> \n",
       "        <th id=\"T_66861af8_6fbe_11e9_a40f_8c8590804826level0_row5\" class=\"row_heading level0 row5\" >6</th> \n",
       "        <td id=\"T_66861af8_6fbe_11e9_a40f_8c8590804826row5_col0\" class=\"data row5 col0\" >19592</td> \n",
       "        <td id=\"T_66861af8_6fbe_11e9_a40f_8c8590804826row5_col1\" class=\"data row5 col1\" >0.00139937</td> \n",
       "    </tr>    <tr> \n",
       "        <th id=\"T_66861af8_6fbe_11e9_a40f_8c8590804826level0_row6\" class=\"row_heading level0 row6\" >7</th> \n",
       "        <td id=\"T_66861af8_6fbe_11e9_a40f_8c8590804826row6_col0\" class=\"data row6 col0\" >4984</td> \n",
       "        <td id=\"T_66861af8_6fbe_11e9_a40f_8c8590804826row6_col1\" class=\"data row6 col1\" >0.000355985</td> \n",
       "    </tr>    <tr> \n",
       "        <th id=\"T_66861af8_6fbe_11e9_a40f_8c8590804826level0_row7\" class=\"row_heading level0 row7\" >8</th> \n",
       "        <td id=\"T_66861af8_6fbe_11e9_a40f_8c8590804826row7_col0\" class=\"data row7 col0\" >1275</td> \n",
       "        <td id=\"T_66861af8_6fbe_11e9_a40f_8c8590804826row7_col1\" class=\"data row7 col1\" >9.10675e-05</td> \n",
       "    </tr>    <tr> \n",
       "        <th id=\"T_66861af8_6fbe_11e9_a40f_8c8590804826level0_row8\" class=\"row_heading level0 row8\" >9</th> \n",
       "        <td id=\"T_66861af8_6fbe_11e9_a40f_8c8590804826row8_col0\" class=\"data row8 col0\" >333</td> \n",
       "        <td id=\"T_66861af8_6fbe_11e9_a40f_8c8590804826row8_col1\" class=\"data row8 col1\" >2.37847e-05</td> \n",
       "    </tr>    <tr> \n",
       "        <th id=\"T_66861af8_6fbe_11e9_a40f_8c8590804826level0_row9\" class=\"row_heading level0 row9\" >10</th> \n",
       "        <td id=\"T_66861af8_6fbe_11e9_a40f_8c8590804826row9_col0\" class=\"data row9 col0\" >96</td> \n",
       "        <td id=\"T_66861af8_6fbe_11e9_a40f_8c8590804826row9_col1\" class=\"data row9 col1\" >6.85685e-06</td> \n",
       "    </tr>    <tr> \n",
       "        <th id=\"T_66861af8_6fbe_11e9_a40f_8c8590804826level0_row10\" class=\"row_heading level0 row10\" >11</th> \n",
       "        <td id=\"T_66861af8_6fbe_11e9_a40f_8c8590804826row10_col0\" class=\"data row10 col0\" >18</td> \n",
       "        <td id=\"T_66861af8_6fbe_11e9_a40f_8c8590804826row10_col1\" class=\"data row10 col1\" >1.28566e-06</td> \n",
       "    </tr>    <tr> \n",
       "        <th id=\"T_66861af8_6fbe_11e9_a40f_8c8590804826level0_row11\" class=\"row_heading level0 row11\" >12</th> \n",
       "        <td id=\"T_66861af8_6fbe_11e9_a40f_8c8590804826row11_col0\" class=\"data row11 col0\" >5</td> \n",
       "        <td id=\"T_66861af8_6fbe_11e9_a40f_8c8590804826row11_col1\" class=\"data row11 col1\" >3.57127e-07</td> \n",
       "    </tr>    <tr> \n",
       "        <th id=\"T_66861af8_6fbe_11e9_a40f_8c8590804826level0_row12\" class=\"row_heading level0 row12\" >13</th> \n",
       "        <td id=\"T_66861af8_6fbe_11e9_a40f_8c8590804826row12_col0\" class=\"data row12 col0\" >2</td> \n",
       "        <td id=\"T_66861af8_6fbe_11e9_a40f_8c8590804826row12_col1\" class=\"data row12 col1\" >1.42851e-07</td> \n",
       "    </tr></tbody> \n",
       "</table> "
      ],
      "text/plain": [
       "<pandas.io.formats.style.Styler at 0x1243a8c50>"
      ]
     },
     "metadata": {},
     "output_type": "display_data"
    },
    {
     "data": {
      "text/html": [
       "<input type=\"button\" id=\"button_99249445\" value=\"Download\">"
      ],
      "text/plain": [
       "<IPython.core.display.HTML object>"
      ]
     },
     "metadata": {},
     "output_type": "display_data"
    },
    {
     "data": {
      "text/html": [
       "<script>\n",
       "    document.getElementById(\"button_99249445\").addEventListener(\"click\", function(event){\n",
       "        var filename = \"Avengers win times in 14000605 times.csv\";\n",
       "        var data = \"data:text/csv;base64,MSx3aW4gdGltZSx3aW4gcHJvYmFiaWxpdHkKMSw2ODkwMDg4LjAsMC40OTIxMjc4NzU5MDI1MDU2CjIsMjg3OTI5NC4wLDAuMjA1NjU0OTY5OTEwMjI4ODkKMyw5NjQ1MzEuMCwwLjA2ODg5MjA5NDMwNTkyNDYzCjQsMjgxNzA1LjAsMC4wMjAxMjA5MTYyMDMyNjQwNzUKNSw3NTk5Mi4wLDAuMDA1NDI3NzY1NDQyOTkzMzU3CjYsMTk1OTIuMCwwLjAwMTM5OTM2ODA5ODczNTczMzEKNyw0OTg0LjAsMC4wMDAzNTU5ODQ2MTYzNzkwNzc5Mwo4LDEyNzUuMCw5LjEwNjc0OTMxNTQ3NjAxZS0wNQo5LDMzMy4wLDIuMzc4NDY4NjQ0NzQ3ODUyZS0wNQoxMCw5Ni4wLDYuODU2ODQ2NTQzNDE3MjMxZS0wNgoxMSwxOC4wLDEuMjg1NjU4NzI2ODkwNzMwOGUtMDYKMTIsNS4wLDMuNTcxMjc0MjQxMzYzMTQxZS0wNwoxMywyLjAsMS40Mjg1MDk2OTY1NDUyNTYzZS0wNwo=\";\n",
       "        const element = document.createElement('a');\n",
       "        element.setAttribute('href', data);\n",
       "        element.setAttribute('download', filename);\n",
       "        element.style.display = 'none';\n",
       "        document.body.appendChild(element);\n",
       "        element.click();\n",
       "        document.body.removeChild(element);\n",
       "    });\n",
       "</script>"
      ],
      "text/plain": [
       "<IPython.core.display.HTML object>"
      ]
     },
     "metadata": {},
     "output_type": "display_data"
    }
   ],
   "source": [
    "unique_sum = np.unique(summarize_data[np.where(summarize_data[:,1]==0)][:,0],return_counts=1)\n",
    "df = pd.DataFrame(np.concatenate((unique_sum[1].reshape(-1,1),unique_sum[0].astype('int').reshape(-1,1),unique_sum[1].reshape(-1,1)/test_time),axis=1))\n",
    "df.iloc[:,1] = np.array(df.iloc[:,1]).astype('int')\n",
    "df = df.set_index(1)\n",
    "df.columns = ['win time','win probability']\n",
    "display_dataframe(df,filename='Avengers win times in {} times'.format(test_time))\n",
    "    "
   ]
  },
  {
   "cell_type": "code",
   "execution_count": 184,
   "metadata": {},
   "outputs": [
    {
     "data": {
      "text/html": [
       "<style  type=\"text/css\" >\n",
       "</style>  \n",
       "<table id=\"T_66af5bb6_6fbe_11e9_a40f_8c8590804826\" ><caption>Thanos win times in 14000605 times</caption> \n",
       "<thead>    <tr> \n",
       "        <th class=\"blank level0\" ></th> \n",
       "        <th class=\"col_heading level0 col0\" >win time</th> \n",
       "        <th class=\"col_heading level0 col1\" >win probability</th> \n",
       "    </tr>    <tr> \n",
       "        <th class=\"index_name level0\" >1</th> \n",
       "        <th class=\"blank\" ></th> \n",
       "        <th class=\"blank\" ></th> \n",
       "    </tr></thead> \n",
       "<tbody>    <tr> \n",
       "        <th id=\"T_66af5bb6_6fbe_11e9_a40f_8c8590804826level0_row0\" class=\"row_heading level0 row0\" >1</th> \n",
       "        <td id=\"T_66af5bb6_6fbe_11e9_a40f_8c8590804826row0_col0\" class=\"data row0 col0\" >218425</td> \n",
       "        <td id=\"T_66af5bb6_6fbe_11e9_a40f_8c8590804826row0_col1\" class=\"data row0 col1\" >0.0156011</td> \n",
       "    </tr>    <tr> \n",
       "        <th id=\"T_66af5bb6_6fbe_11e9_a40f_8c8590804826level0_row1\" class=\"row_heading level0 row1\" >2</th> \n",
       "        <td id=\"T_66af5bb6_6fbe_11e9_a40f_8c8590804826row1_col0\" class=\"data row1 col0\" >1.13556e+06</td> \n",
       "        <td id=\"T_66af5bb6_6fbe_11e9_a40f_8c8590804826row1_col1\" class=\"data row1 col1\" >0.0811078</td> \n",
       "    </tr>    <tr> \n",
       "        <th id=\"T_66af5bb6_6fbe_11e9_a40f_8c8590804826level0_row2\" class=\"row_heading level0 row2\" >3</th> \n",
       "        <td id=\"T_66af5bb6_6fbe_11e9_a40f_8c8590804826row2_col0\" class=\"data row2 col0\" >948045</td> \n",
       "        <td id=\"T_66af5bb6_6fbe_11e9_a40f_8c8590804826row2_col1\" class=\"data row2 col1\" >0.0677146</td> \n",
       "    </tr>    <tr> \n",
       "        <th id=\"T_66af5bb6_6fbe_11e9_a40f_8c8590804826level0_row3\" class=\"row_heading level0 row3\" >4</th> \n",
       "        <td id=\"T_66af5bb6_6fbe_11e9_a40f_8c8590804826row3_col0\" class=\"data row3 col0\" >402544</td> \n",
       "        <td id=\"T_66af5bb6_6fbe_11e9_a40f_8c8590804826row3_col1\" class=\"data row3 col1\" >0.0287519</td> \n",
       "    </tr>    <tr> \n",
       "        <th id=\"T_66af5bb6_6fbe_11e9_a40f_8c8590804826level0_row4\" class=\"row_heading level0 row4\" >5</th> \n",
       "        <td id=\"T_66af5bb6_6fbe_11e9_a40f_8c8590804826row4_col0\" class=\"data row4 col0\" >128792</td> \n",
       "        <td id=\"T_66af5bb6_6fbe_11e9_a40f_8c8590804826row4_col1\" class=\"data row4 col1\" >0.00919903</td> \n",
       "    </tr>    <tr> \n",
       "        <th id=\"T_66af5bb6_6fbe_11e9_a40f_8c8590804826level0_row5\" class=\"row_heading level0 row5\" >6</th> \n",
       "        <td id=\"T_66af5bb6_6fbe_11e9_a40f_8c8590804826row5_col0\" class=\"data row5 col0\" >36425</td> \n",
       "        <td id=\"T_66af5bb6_6fbe_11e9_a40f_8c8590804826row5_col1\" class=\"data row5 col1\" >0.00260167</td> \n",
       "    </tr>    <tr> \n",
       "        <th id=\"T_66af5bb6_6fbe_11e9_a40f_8c8590804826level0_row6\" class=\"row_heading level0 row6\" >7</th> \n",
       "        <td id=\"T_66af5bb6_6fbe_11e9_a40f_8c8590804826row6_col0\" class=\"data row6 col0\" >9574</td> \n",
       "        <td id=\"T_66af5bb6_6fbe_11e9_a40f_8c8590804826row6_col1\" class=\"data row6 col1\" >0.000683828</td> \n",
       "    </tr>    <tr> \n",
       "        <th id=\"T_66af5bb6_6fbe_11e9_a40f_8c8590804826level0_row7\" class=\"row_heading level0 row7\" >8</th> \n",
       "        <td id=\"T_66af5bb6_6fbe_11e9_a40f_8c8590804826row7_col0\" class=\"data row7 col0\" >2471</td> \n",
       "        <td id=\"T_66af5bb6_6fbe_11e9_a40f_8c8590804826row7_col1\" class=\"data row7 col1\" >0.000176492</td> \n",
       "    </tr>    <tr> \n",
       "        <th id=\"T_66af5bb6_6fbe_11e9_a40f_8c8590804826level0_row8\" class=\"row_heading level0 row8\" >9</th> \n",
       "        <td id=\"T_66af5bb6_6fbe_11e9_a40f_8c8590804826row8_col0\" class=\"data row8 col0\" >658</td> \n",
       "        <td id=\"T_66af5bb6_6fbe_11e9_a40f_8c8590804826row8_col1\" class=\"data row8 col1\" >4.6998e-05</td> \n",
       "    </tr>    <tr> \n",
       "        <th id=\"T_66af5bb6_6fbe_11e9_a40f_8c8590804826level0_row9\" class=\"row_heading level0 row9\" >10</th> \n",
       "        <td id=\"T_66af5bb6_6fbe_11e9_a40f_8c8590804826row9_col0\" class=\"data row9 col0\" >152</td> \n",
       "        <td id=\"T_66af5bb6_6fbe_11e9_a40f_8c8590804826row9_col1\" class=\"data row9 col1\" >1.08567e-05</td> \n",
       "    </tr>    <tr> \n",
       "        <th id=\"T_66af5bb6_6fbe_11e9_a40f_8c8590804826level0_row10\" class=\"row_heading level0 row10\" >11</th> \n",
       "        <td id=\"T_66af5bb6_6fbe_11e9_a40f_8c8590804826row10_col0\" class=\"data row10 col0\" >27</td> \n",
       "        <td id=\"T_66af5bb6_6fbe_11e9_a40f_8c8590804826row10_col1\" class=\"data row10 col1\" >1.92849e-06</td> \n",
       "    </tr>    <tr> \n",
       "        <th id=\"T_66af5bb6_6fbe_11e9_a40f_8c8590804826level0_row11\" class=\"row_heading level0 row11\" >12</th> \n",
       "        <td id=\"T_66af5bb6_6fbe_11e9_a40f_8c8590804826row11_col0\" class=\"data row11 col0\" >12</td> \n",
       "        <td id=\"T_66af5bb6_6fbe_11e9_a40f_8c8590804826row11_col1\" class=\"data row11 col1\" >8.57106e-07</td> \n",
       "    </tr>    <tr> \n",
       "        <th id=\"T_66af5bb6_6fbe_11e9_a40f_8c8590804826level0_row12\" class=\"row_heading level0 row12\" >13</th> \n",
       "        <td id=\"T_66af5bb6_6fbe_11e9_a40f_8c8590804826row12_col0\" class=\"data row12 col0\" >5</td> \n",
       "        <td id=\"T_66af5bb6_6fbe_11e9_a40f_8c8590804826row12_col1\" class=\"data row12 col1\" >3.57127e-07</td> \n",
       "    </tr>    <tr> \n",
       "        <th id=\"T_66af5bb6_6fbe_11e9_a40f_8c8590804826level0_row13\" class=\"row_heading level0 row13\" >14</th> \n",
       "        <td id=\"T_66af5bb6_6fbe_11e9_a40f_8c8590804826row13_col0\" class=\"data row13 col0\" >2</td> \n",
       "        <td id=\"T_66af5bb6_6fbe_11e9_a40f_8c8590804826row13_col1\" class=\"data row13 col1\" >1.42851e-07</td> \n",
       "    </tr></tbody> \n",
       "</table> "
      ],
      "text/plain": [
       "<pandas.io.formats.style.Styler at 0x1231e93c8>"
      ]
     },
     "metadata": {},
     "output_type": "display_data"
    },
    {
     "data": {
      "text/html": [
       "<input type=\"button\" id=\"button_479111329\" value=\"Download\">"
      ],
      "text/plain": [
       "<IPython.core.display.HTML object>"
      ]
     },
     "metadata": {},
     "output_type": "display_data"
    },
    {
     "data": {
      "text/html": [
       "<script>\n",
       "    document.getElementById(\"button_479111329\").addEventListener(\"click\", function(event){\n",
       "        var filename = \"Thanos win times in 14000605 times.csv\";\n",
       "        var data = \"data:text/csv;base64,MSx3aW4gdGltZSx3aW4gcHJvYmFiaWxpdHkKMSwyMTg0MjUuMCwwLjAxNTYwMTExMTUyMzM5NDg4MgoyLDExMzU1NTguMCwwLjA4MTEwNzc4MDY5OTQ3NjkxCjMsOTQ4MDQ1LjAsMC4wNjc3MTQ1NzM3NjMwNjIzOAo0LDQwMjU0NC4wLDAuMDI4NzUxOTAwMzY0MzA1Njg3CjUsMTI4NzkyLjAsMC4wMDkxOTkwMzEwNDE4NzI4MzMKNiwzNjQyNS4wLDAuMDAyNjAxNjczMjg0ODMzMDQ4Mwo3LDk1NzQuMCwwLjAwMDY4MzgyNzU5MTczNjIxNDMKOCwyNDcxLjAsMC4wMDAxNzY0OTIzNzMwMDgxNjY0NQo5LDY1OC4wLDQuNjk5Nzk2OTAxNjMzODkzNWUtMDUKMTAsMTUyLjAsMS4wODU2NjczNjkzNzQzOTQ4ZS0wNQoxMSwyNy4wLDEuOTI4NDg4MDkwMzM2MDk2NGUtMDYKMTIsMTIuMCw4LjU3MTA1ODE3OTI3MTUzOGUtMDcKMTMsNS4wLDMuNTcxMjc0MjQxMzYzMTQxZS0wNwoxNCwyLjAsMS40Mjg1MDk2OTY1NDUyNTYzZS0wNwo=\";\n",
       "        const element = document.createElement('a');\n",
       "        element.setAttribute('href', data);\n",
       "        element.setAttribute('download', filename);\n",
       "        element.style.display = 'none';\n",
       "        document.body.appendChild(element);\n",
       "        element.click();\n",
       "        document.body.removeChild(element);\n",
       "    });\n",
       "</script>"
      ],
      "text/plain": [
       "<IPython.core.display.HTML object>"
      ]
     },
     "metadata": {},
     "output_type": "display_data"
    }
   ],
   "source": [
    "unique_sum = np.unique(summarize_data[np.where(summarize_data[:,1]==1)][:,0],return_counts=1)\n",
    "df = pd.DataFrame(np.concatenate((unique_sum[1].reshape(-1,1),unique_sum[0].astype('int').reshape(-1,1),unique_sum[1].reshape(-1,1)/test_time),axis=1))\n",
    "df.iloc[:,1] = np.array(df.iloc[:,1]).astype('int')\n",
    "df = df.set_index(1)\n",
    "df.columns = ['win time','win probability']\n",
    "display_dataframe(df,filename='Thanos win times in {} times'.format(test_time))\n",
    "    "
   ]
  },
  {
   "cell_type": "markdown",
   "metadata": {},
   "source": [
    "灭霸死的有点惨，其实复仇者初始只有两个人的时候概率稍微对等"
   ]
  },
  {
   "cell_type": "code",
   "execution_count": 185,
   "metadata": {},
   "outputs": [],
   "source": [
    "def summarize(avengers_alive_num = 6):\n",
    "    round_num = 0\n",
    "    while True:\n",
    "        round_num += 1\n",
    "        avengers_alive_num,avengers_dead_num = check_survive(avengers_alive_num)\n",
    "        #print ('Round {}, avengers alive: {}, dead: {}'.format(round_num,avengers_alive_num,avengers_dead_num) )\n",
    "        if avengers_alive_num ==0:\n",
    "            #print ('Avengers die first')\n",
    "            return round_num, 1\n",
    "        elif np.random.randint(2) ==0:\n",
    "            #print ('Thanos die first')\n",
    "            return round_num, 0"
   ]
  },
  {
   "cell_type": "code",
   "execution_count": 186,
   "metadata": {},
   "outputs": [
    {
     "data": {
      "application/vnd.jupyter.widget-view+json": {
       "model_id": "7cab124006e947a2854c806b51fa0efe",
       "version_major": 2,
       "version_minor": 0
      },
      "text/plain": [
       "HBox(children=(IntProgress(value=0, max=14000605), HTML(value='')))"
      ]
     },
     "metadata": {},
     "output_type": "display_data"
    },
    {
     "name": "stdout",
     "output_type": "stream",
     "text": [
      "\n"
     ]
    }
   ],
   "source": [
    "test_time = 14000605\n",
    "summarize_data = np.ndarray([test_time,2])\n",
    "for i in tqdm(range(test_time)):\n",
    "    summarize_data[i] = summarize(avengers_alive_num =2)"
   ]
  },
  {
   "cell_type": "code",
   "execution_count": 187,
   "metadata": {},
   "outputs": [
    {
     "data": {
      "text/plain": [
       "<matplotlib.axes._subplots.AxesSubplot at 0x120020470>"
      ]
     },
     "execution_count": 187,
     "metadata": {},
     "output_type": "execute_result"
    },
    {
     "data": {
      "image/png": "[encoded data removed]",
      "text/plain": [
       "<Figure size 576x576 with 2 Axes>"
      ]
     },
     "metadata": {
      "needs_background": "light"
     },
     "output_type": "display_data"
    }
   ],
   "source": [
    "fig,ax=plt.subplots(2,1,figsize=(8,8))\n",
    "sns.distplot(summarize_data[:,1],kde=0,ax=ax[0])\n",
    "sns.distplot(summarize_data[np.where(summarize_data[:,1]==0)][:,0],kde=0,ax=ax[1],color='r')\n",
    "sns.distplot(summarize_data[np.where(summarize_data[:,1]==1)][:,0],kde=0,ax=ax[1],color='m')"
   ]
  },
  {
   "cell_type": "code",
   "execution_count": 188,
   "metadata": {},
   "outputs": [
    {
     "name": "stdout",
     "output_type": "stream",
     "text": [
      "Avengers win 0.5239146451171217, Thanos win 0.4760853548828783\n"
     ]
    }
   ],
   "source": [
    "print ('Avengers win {}, Thanos win {}'.format(1 - summarize_data[:,1].sum()/test_time,summarize_data[:,1].sum()/test_time) )"
   ]
  },
  {
   "cell_type": "code",
   "execution_count": 189,
   "metadata": {},
   "outputs": [
    {
     "data": {
      "text/html": [
       "<style  type=\"text/css\" >\n",
       "</style>  \n",
       "<table id=\"T_ee5d01da_6fbe_11e9_a40f_8c8590804826\" ><caption>Avengers win times in 14000605 times</caption> \n",
       "<thead>    <tr> \n",
       "        <th class=\"blank level0\" ></th> \n",
       "        <th class=\"col_heading level0 col0\" >win time</th> \n",
       "        <th class=\"col_heading level0 col1\" >win probability</th> \n",
       "    </tr>    <tr> \n",
       "        <th class=\"index_name level0\" >1</th> \n",
       "        <th class=\"blank\" ></th> \n",
       "        <th class=\"blank\" ></th> \n",
       "    </tr></thead> \n",
       "<tbody>    <tr> \n",
       "        <th id=\"T_ee5d01da_6fbe_11e9_a40f_8c8590804826level0_row0\" class=\"row_heading level0 row0\" >1</th> \n",
       "        <td id=\"T_ee5d01da_6fbe_11e9_a40f_8c8590804826row0_col0\" class=\"data row0 col0\" >5.25144e+06</td> \n",
       "        <td id=\"T_ee5d01da_6fbe_11e9_a40f_8c8590804826row0_col1\" class=\"data row0 col1\" >0.375087</td> \n",
       "    </tr>    <tr> \n",
       "        <th id=\"T_ee5d01da_6fbe_11e9_a40f_8c8590804826level0_row1\" class=\"row_heading level0 row1\" >2</th> \n",
       "        <td id=\"T_ee5d01da_6fbe_11e9_a40f_8c8590804826row1_col0\" class=\"data row1 col0\" >1.53137e+06</td> \n",
       "        <td id=\"T_ee5d01da_6fbe_11e9_a40f_8c8590804826row1_col1\" class=\"data row1 col1\" >0.109379</td> \n",
       "    </tr>    <tr> \n",
       "        <th id=\"T_ee5d01da_6fbe_11e9_a40f_8c8590804826level0_row2\" class=\"row_heading level0 row2\" >3</th> \n",
       "        <td id=\"T_ee5d01da_6fbe_11e9_a40f_8c8590804826row2_col0\" class=\"data row2 col0\" >410229</td> \n",
       "        <td id=\"T_ee5d01da_6fbe_11e9_a40f_8c8590804826row2_col1\" class=\"data row2 col1\" >0.0293008</td> \n",
       "    </tr>    <tr> \n",
       "        <th id=\"T_ee5d01da_6fbe_11e9_a40f_8c8590804826level0_row3\" class=\"row_heading level0 row3\" >4</th> \n",
       "        <td id=\"T_ee5d01da_6fbe_11e9_a40f_8c8590804826row3_col0\" class=\"data row3 col0\" >106185</td> \n",
       "        <td id=\"T_ee5d01da_6fbe_11e9_a40f_8c8590804826row3_col1\" class=\"data row3 col1\" >0.00758432</td> \n",
       "    </tr>    <tr> \n",
       "        <th id=\"T_ee5d01da_6fbe_11e9_a40f_8c8590804826level0_row4\" class=\"row_heading level0 row4\" >5</th> \n",
       "        <td id=\"T_ee5d01da_6fbe_11e9_a40f_8c8590804826row4_col0\" class=\"data row4 col0\" >26915</td> \n",
       "        <td id=\"T_ee5d01da_6fbe_11e9_a40f_8c8590804826row4_col1\" class=\"data row4 col1\" >0.00192242</td> \n",
       "    </tr>    <tr> \n",
       "        <th id=\"T_ee5d01da_6fbe_11e9_a40f_8c8590804826level0_row5\" class=\"row_heading level0 row5\" >6</th> \n",
       "        <td id=\"T_ee5d01da_6fbe_11e9_a40f_8c8590804826row5_col0\" class=\"data row5 col0\" >6759</td> \n",
       "        <td id=\"T_ee5d01da_6fbe_11e9_a40f_8c8590804826row5_col1\" class=\"data row5 col1\" >0.000482765</td> \n",
       "    </tr>    <tr> \n",
       "        <th id=\"T_ee5d01da_6fbe_11e9_a40f_8c8590804826level0_row6\" class=\"row_heading level0 row6\" >7</th> \n",
       "        <td id=\"T_ee5d01da_6fbe_11e9_a40f_8c8590804826row6_col0\" class=\"data row6 col0\" >1714</td> \n",
       "        <td id=\"T_ee5d01da_6fbe_11e9_a40f_8c8590804826row6_col1\" class=\"data row6 col1\" >0.000122423</td> \n",
       "    </tr>    <tr> \n",
       "        <th id=\"T_ee5d01da_6fbe_11e9_a40f_8c8590804826level0_row7\" class=\"row_heading level0 row7\" >8</th> \n",
       "        <td id=\"T_ee5d01da_6fbe_11e9_a40f_8c8590804826row7_col0\" class=\"data row7 col0\" >376</td> \n",
       "        <td id=\"T_ee5d01da_6fbe_11e9_a40f_8c8590804826row7_col1\" class=\"data row7 col1\" >2.6856e-05</td> \n",
       "    </tr>    <tr> \n",
       "        <th id=\"T_ee5d01da_6fbe_11e9_a40f_8c8590804826level0_row8\" class=\"row_heading level0 row8\" >9</th> \n",
       "        <td id=\"T_ee5d01da_6fbe_11e9_a40f_8c8590804826row8_col0\" class=\"data row8 col0\" >100</td> \n",
       "        <td id=\"T_ee5d01da_6fbe_11e9_a40f_8c8590804826row8_col1\" class=\"data row8 col1\" >7.14255e-06</td> \n",
       "    </tr>    <tr> \n",
       "        <th id=\"T_ee5d01da_6fbe_11e9_a40f_8c8590804826level0_row9\" class=\"row_heading level0 row9\" >10</th> \n",
       "        <td id=\"T_ee5d01da_6fbe_11e9_a40f_8c8590804826row9_col0\" class=\"data row9 col0\" >27</td> \n",
       "        <td id=\"T_ee5d01da_6fbe_11e9_a40f_8c8590804826row9_col1\" class=\"data row9 col1\" >1.92849e-06</td> \n",
       "    </tr>    <tr> \n",
       "        <th id=\"T_ee5d01da_6fbe_11e9_a40f_8c8590804826level0_row10\" class=\"row_heading level0 row10\" >11</th> \n",
       "        <td id=\"T_ee5d01da_6fbe_11e9_a40f_8c8590804826row10_col0\" class=\"data row10 col0\" >9</td> \n",
       "        <td id=\"T_ee5d01da_6fbe_11e9_a40f_8c8590804826row10_col1\" class=\"data row10 col1\" >6.42829e-07</td> \n",
       "    </tr>    <tr> \n",
       "        <th id=\"T_ee5d01da_6fbe_11e9_a40f_8c8590804826level0_row11\" class=\"row_heading level0 row11\" >13</th> \n",
       "        <td id=\"T_ee5d01da_6fbe_11e9_a40f_8c8590804826row11_col0\" class=\"data row11 col0\" >1</td> \n",
       "        <td id=\"T_ee5d01da_6fbe_11e9_a40f_8c8590804826row11_col1\" class=\"data row11 col1\" >7.14255e-08</td> \n",
       "    </tr></tbody> \n",
       "</table> "
      ],
      "text/plain": [
       "<pandas.io.formats.style.Styler at 0x12399b400>"
      ]
     },
     "metadata": {},
     "output_type": "display_data"
    },
    {
     "data": {
      "text/html": [
       "<input type=\"button\" id=\"button_112144720\" value=\"Download\">"
      ],
      "text/plain": [
       "<IPython.core.display.HTML object>"
      ]
     },
     "metadata": {},
     "output_type": "display_data"
    },
    {
     "data": {
      "text/html": [
       "<script>\n",
       "    document.getElementById(\"button_112144720\").addEventListener(\"click\", function(event){\n",
       "        var filename = \"Avengers win times in 14000605 times.csv\";\n",
       "        var data = \"data:text/csv;base64,MSx3aW4gdGltZSx3aW4gcHJvYmFiaWxpdHkKMSw1MjUxNDQwLjAsMC4zNzUwODY2NDgwNDEyODEwNgoyLDE1MzEzNjcuMCwwLjEwOTM3ODYzMDQyMzQ3MDk4CjMsNDEwMjI5LjAsMC4wMjkzMDA4MDUyMTUyMDMyCjQsMTA2MTg1LjAsMC4wMDc1ODQzMTUxMDYzODI5MDMKNSwyNjkxNS4wLDAuMDAxOTIyNDE2OTI0MTI1Nzc4OQo2LDY3NTkuMCwwLjAwMDQ4Mjc2NDg1MTk0NzQ2OTQKNywxNzE0LjAsMC4wMDAxMjI0MjMyODA5OTM5Mjg1CjgsMzc2LjAsMi42ODU1OTgyMjk1MDUwODJlLTA1CjksMTAwLjAsNy4xNDI1NDg0ODI3MjYyODNlLTA2CjEwLDI3LjAsMS45Mjg0ODgwOTAzMzYwOTY0ZS0wNgoxMSw5LjAsNi40MjgyOTM2MzQ0NTM2NTRlLTA3CjEzLDEuMCw3LjE0MjU0ODQ4MjcyNjI4MmUtMDgK\";\n",
       "        const element = document.createElement('a');\n",
       "        element.setAttribute('href', data);\n",
       "        element.setAttribute('download', filename);\n",
       "        element.style.display = 'none';\n",
       "        document.body.appendChild(element);\n",
       "        element.click();\n",
       "        document.body.removeChild(element);\n",
       "    });\n",
       "</script>"
      ],
      "text/plain": [
       "<IPython.core.display.HTML object>"
      ]
     },
     "metadata": {},
     "output_type": "display_data"
    },
    {
     "data": {
      "text/html": [
       "<style  type=\"text/css\" >\n",
       "</style>  \n",
       "<table id=\"T_eea3f306_6fbe_11e9_a40f_8c8590804826\" ><caption>Thanos win times in 14000605 times</caption> \n",
       "<thead>    <tr> \n",
       "        <th class=\"blank level0\" ></th> \n",
       "        <th class=\"col_heading level0 col0\" >win time</th> \n",
       "        <th class=\"col_heading level0 col1\" >win probability</th> \n",
       "    </tr>    <tr> \n",
       "        <th class=\"index_name level0\" >1</th> \n",
       "        <th class=\"blank\" ></th> \n",
       "        <th class=\"blank\" ></th> \n",
       "    </tr></thead> \n",
       "<tbody>    <tr> \n",
       "        <th id=\"T_eea3f306_6fbe_11e9_a40f_8c8590804826level0_row0\" class=\"row_heading level0 row0\" >1</th> \n",
       "        <td id=\"T_eea3f306_6fbe_11e9_a40f_8c8590804826row0_col0\" class=\"data row0 col0\" >3.49812e+06</td> \n",
       "        <td id=\"T_eea3f306_6fbe_11e9_a40f_8c8590804826row0_col1\" class=\"data row0 col1\" >0.249855</td> \n",
       "    </tr>    <tr> \n",
       "        <th id=\"T_eea3f306_6fbe_11e9_a40f_8c8590804826level0_row1\" class=\"row_heading level0 row1\" >2</th> \n",
       "        <td id=\"T_eea3f306_6fbe_11e9_a40f_8c8590804826row1_col0\" class=\"data row1 col0\" >2.18628e+06</td> \n",
       "        <td id=\"T_eea3f306_6fbe_11e9_a40f_8c8590804826row1_col1\" class=\"data row1 col1\" >0.156156</td> \n",
       "    </tr>    <tr> \n",
       "        <th id=\"T_eea3f306_6fbe_11e9_a40f_8c8590804826level0_row2\" class=\"row_heading level0 row2\" >3</th> \n",
       "        <td id=\"T_eea3f306_6fbe_11e9_a40f_8c8590804826row2_col0\" class=\"data row2 col0\" >712269</td> \n",
       "        <td id=\"T_eea3f306_6fbe_11e9_a40f_8c8590804826row2_col1\" class=\"data row2 col1\" >0.0508742</td> \n",
       "    </tr>    <tr> \n",
       "        <th id=\"T_eea3f306_6fbe_11e9_a40f_8c8590804826level0_row3\" class=\"row_heading level0 row3\" >4</th> \n",
       "        <td id=\"T_eea3f306_6fbe_11e9_a40f_8c8590804826row3_col0\" class=\"data row3 col0\" >198958</td> \n",
       "        <td id=\"T_eea3f306_6fbe_11e9_a40f_8c8590804826row3_col1\" class=\"data row3 col1\" >0.0142107</td> \n",
       "    </tr>    <tr> \n",
       "        <th id=\"T_eea3f306_6fbe_11e9_a40f_8c8590804826level0_row4\" class=\"row_heading level0 row4\" >5</th> \n",
       "        <td id=\"T_eea3f306_6fbe_11e9_a40f_8c8590804826row4_col0\" class=\"data row4 col0\" >52039</td> \n",
       "        <td id=\"T_eea3f306_6fbe_11e9_a40f_8c8590804826row4_col1\" class=\"data row4 col1\" >0.00371691</td> \n",
       "    </tr>    <tr> \n",
       "        <th id=\"T_eea3f306_6fbe_11e9_a40f_8c8590804826level0_row5\" class=\"row_heading level0 row5\" >6</th> \n",
       "        <td id=\"T_eea3f306_6fbe_11e9_a40f_8c8590804826row5_col0\" class=\"data row5 col0\" >13288</td> \n",
       "        <td id=\"T_eea3f306_6fbe_11e9_a40f_8c8590804826row5_col1\" class=\"data row5 col1\" >0.000949102</td> \n",
       "    </tr>    <tr> \n",
       "        <th id=\"T_eea3f306_6fbe_11e9_a40f_8c8590804826level0_row6\" class=\"row_heading level0 row6\" >7</th> \n",
       "        <td id=\"T_eea3f306_6fbe_11e9_a40f_8c8590804826row6_col0\" class=\"data row6 col0\" >3400</td> \n",
       "        <td id=\"T_eea3f306_6fbe_11e9_a40f_8c8590804826row6_col1\" class=\"data row6 col1\" >0.000242847</td> \n",
       "    </tr>    <tr> \n",
       "        <th id=\"T_eea3f306_6fbe_11e9_a40f_8c8590804826level0_row7\" class=\"row_heading level0 row7\" >8</th> \n",
       "        <td id=\"T_eea3f306_6fbe_11e9_a40f_8c8590804826row7_col0\" class=\"data row7 col0\" >825</td> \n",
       "        <td id=\"T_eea3f306_6fbe_11e9_a40f_8c8590804826row7_col1\" class=\"data row7 col1\" >5.8926e-05</td> \n",
       "    </tr>    <tr> \n",
       "        <th id=\"T_eea3f306_6fbe_11e9_a40f_8c8590804826level0_row8\" class=\"row_heading level0 row8\" >9</th> \n",
       "        <td id=\"T_eea3f306_6fbe_11e9_a40f_8c8590804826row8_col0\" class=\"data row8 col0\" >216</td> \n",
       "        <td id=\"T_eea3f306_6fbe_11e9_a40f_8c8590804826row8_col1\" class=\"data row8 col1\" >1.54279e-05</td> \n",
       "    </tr>    <tr> \n",
       "        <th id=\"T_eea3f306_6fbe_11e9_a40f_8c8590804826level0_row9\" class=\"row_heading level0 row9\" >10</th> \n",
       "        <td id=\"T_eea3f306_6fbe_11e9_a40f_8c8590804826row9_col0\" class=\"data row9 col0\" >68</td> \n",
       "        <td id=\"T_eea3f306_6fbe_11e9_a40f_8c8590804826row9_col1\" class=\"data row9 col1\" >4.85693e-06</td> \n",
       "    </tr>    <tr> \n",
       "        <th id=\"T_eea3f306_6fbe_11e9_a40f_8c8590804826level0_row10\" class=\"row_heading level0 row10\" >11</th> \n",
       "        <td id=\"T_eea3f306_6fbe_11e9_a40f_8c8590804826row10_col0\" class=\"data row10 col0\" >17</td> \n",
       "        <td id=\"T_eea3f306_6fbe_11e9_a40f_8c8590804826row10_col1\" class=\"data row10 col1\" >1.21423e-06</td> \n",
       "    </tr>    <tr> \n",
       "        <th id=\"T_eea3f306_6fbe_11e9_a40f_8c8590804826level0_row11\" class=\"row_heading level0 row11\" >12</th> \n",
       "        <td id=\"T_eea3f306_6fbe_11e9_a40f_8c8590804826row11_col0\" class=\"data row11 col0\" >6</td> \n",
       "        <td id=\"T_eea3f306_6fbe_11e9_a40f_8c8590804826row11_col1\" class=\"data row11 col1\" >4.28553e-07</td> \n",
       "    </tr>    <tr> \n",
       "        <th id=\"T_eea3f306_6fbe_11e9_a40f_8c8590804826level0_row12\" class=\"row_heading level0 row12\" >13</th> \n",
       "        <td id=\"T_eea3f306_6fbe_11e9_a40f_8c8590804826row12_col0\" class=\"data row12 col0\" >2</td> \n",
       "        <td id=\"T_eea3f306_6fbe_11e9_a40f_8c8590804826row12_col1\" class=\"data row12 col1\" >1.42851e-07</td> \n",
       "    </tr></tbody> \n",
       "</table> "
      ],
      "text/plain": [
       "<pandas.io.formats.style.Styler at 0x10be65cf8>"
      ]
     },
     "metadata": {},
     "output_type": "display_data"
    },
    {
     "data": {
      "text/html": [
       "<input type=\"button\" id=\"button_109904713\" value=\"Download\">"
      ],
      "text/plain": [
       "<IPython.core.display.HTML object>"
      ]
     },
     "metadata": {},
     "output_type": "display_data"
    },
    {
     "data": {
      "text/html": [
       "<script>\n",
       "    document.getElementById(\"button_109904713\").addEventListener(\"click\", function(event){\n",
       "        var filename = \"Thanos win times in 14000605 times.csv\";\n",
       "        var data = \"data:text/csv;base64,MSx3aW4gdGltZSx3aW4gcHJvYmFiaWxpdHkKMSwzNDk4MTE4LjAsMC4yNDk4NTQ3NzQxMzI5NzQ5NwoyLDIxODYyNzcuMCwwLjE1NjE1NTg5NDY5MTY5MzcKMyw3MTIyNjkuMCwwLjA1MDg3NDE1ODY1MjQyOTY2CjQsMTk4OTU4LjAsMC4wMTQyMTA2NzE2MTAyNjI1NTcKNSw1MjAzOS4wLDAuMDAzNzE2OTEwODA0OTI1OTMKNiwxMzI4OC4wLDAuMDAwOTQ5MTAxODQyMzg0NjY4NAo3LDM0MDAuMCwwLjAwMDI0Mjg0NjY0ODQxMjY5MzU5CjgsODI1LjAsNS44OTI2MDI0OTgyNDkxODNlLTA1CjksMjE2LjAsMS41NDI3OTA0NzIyNjg4NzdlLTA1CjEwLDY4LjAsNC44NTY5MzI5NjgyNTM4NzJlLTA2CjExLDE3LjAsMS4yMTQyMzMyNDIwNjM0NjhlLTA2CjEyLDYuMCw0LjI4NTUyOTA4OTYzNTc2OWUtMDcKMTMsMi4wLDEuNDI4NTA5Njk2NTQ1MjU2M2UtMDcK\";\n",
       "        const element = document.createElement('a');\n",
       "        element.setAttribute('href', data);\n",
       "        element.setAttribute('download', filename);\n",
       "        element.style.display = 'none';\n",
       "        document.body.appendChild(element);\n",
       "        element.click();\n",
       "        document.body.removeChild(element);\n",
       "    });\n",
       "</script>"
      ],
      "text/plain": [
       "<IPython.core.display.HTML object>"
      ]
     },
     "metadata": {},
     "output_type": "display_data"
    }
   ],
   "source": [
    "unique_sum = np.unique(summarize_data[np.where(summarize_data[:,1]==0)][:,0],return_counts=1)\n",
    "df = pd.DataFrame(np.concatenate((unique_sum[1].reshape(-1,1),unique_sum[0].astype('int').reshape(-1,1),unique_sum[1].reshape(-1,1)/test_time),axis=1))\n",
    "df.iloc[:,1] = np.array(df.iloc[:,1]).astype('int')\n",
    "df = df.set_index(1)\n",
    "df.columns = ['win time','win probability']\n",
    "display_dataframe(df,filename='Avengers win times in {} times'.format(test_time))\n",
    "    \n",
    "unique_sum = np.unique(summarize_data[np.where(summarize_data[:,1]==1)][:,0],return_counts=1)\n",
    "df = pd.DataFrame(np.concatenate((unique_sum[1].reshape(-1,1),unique_sum[0].astype('int').reshape(-1,1),unique_sum[1].reshape(-1,1)/test_time),axis=1))\n",
    "df.iloc[:,1] = np.array(df.iloc[:,1]).astype('int')\n",
    "df = df.set_index(1)\n",
    "df.columns = ['win time','win probability']\n",
    "display_dataframe(df,filename='Thanos win times in {} times'.format(test_time))"
   ]
  },
  {
   "cell_type": "code",
   "execution_count": 190,
   "metadata": {},
   "outputs": [
    {
     "name": "stdout",
     "output_type": "stream",
     "text": [
      "Avengers win 0.5239146451171217, Thanos win 0.4760853548828783\n"
     ]
    }
   ],
   "source": [
    "print ('Avengers win {}, Thanos win {}'.format(1 - summarize_data[:,1].sum()/test_time,summarize_data[:,1].sum()/test_time) )"
   ]
  },
  {
   "cell_type": "code",
   "execution_count": null,
   "metadata": {},
   "outputs": [],
   "source": []
  }
 ],
 "metadata": {
  "kernelspec": {
   "display_name": "Python 3",
   "language": "python",
   "name": "python3"
  },
  "language_info": {
   "codemirror_mode": {
    "name": "ipython",
    "version": 3
   },
   "file_extension": ".py",
   "mimetype": "text/x-python",
   "name": "python",
   "nbconvert_exporter": "python",
   "pygments_lexer": "ipython3",
   "version": "3.7.2"
  },
  "toc": {
   "base_numbering": 1,
   "nav_menu": {},
   "number_sections": true,
   "sideBar": true,
   "skip_h1_title": false,
   "title_cell": "Table of Contents",
   "title_sidebar": "Contents",
   "toc_cell": false,
   "toc_position": {},
   "toc_section_display": true,
   "toc_window_display": false
  }
 },
 "nbformat": 4,
 "nbformat_minor": 2
}
