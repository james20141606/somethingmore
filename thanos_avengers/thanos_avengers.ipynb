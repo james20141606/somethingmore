{
 "cells": [
  {
   "cell_type": "markdown",
   "metadata": {},
   "source": [
    "**Question:**\n",
    "六人组，每人带一宝石手套，去找灭霸决战，到了草屋，七人围圈而坐，六对一，灭霸人少，给予先打响指的权利，灭霸打后，超级英雄全化灰就灭霸胜，没全化灰就由一个活着的超级英雄打一个响指，看二分之一消失的概率能不能把灭霸打成灰。没成灰就继续第二回合，灭霸继续优先打响指 </br>\n",
    "问灭霸死的概率是多少"
   ]
  },
  {
   "cell_type": "code",
   "execution_count": 141,
   "metadata": {},
   "outputs": [
    {
     "name": "stdout",
     "output_type": "stream",
     "text": [
      "Populating the interactive namespace from numpy and matplotlib\n"
     ]
    }
   ],
   "source": [
    "import numpy as np\n",
    "%pylab inline\n",
    "from tqdm import tqdm_notebook as tqdm\n",
    "import seaborn as sns\n",
    "import pandas as pd\n",
    "np.random.seed(1111)\n",
    "from matplotlib.backends.backend_pdf import PdfPages, PdfFile\n",
    "from IPython.display import HTML, display, FileLink\n",
    "from base64 import b64encode, b64decode\n",
    "from io import StringIO, BytesIO\n",
    "from contextlib import contextmanager\n",
    "def display_dataframe(df, filename=None, encoding='utf-8', format='csv', type='button',gradientfunc=False, **kwargs):\n",
    "    #display(df)\n",
    "    #if isinstance(df, pd.DataFrame):\n",
    "    #    display(df.style.set_caption(filename))\n",
    "    #else:\n",
    "    if gradientfunc == False:\n",
    "        display(df.style.set_caption(filename))    \n",
    "    else:\n",
    "        display(df.style.format(gradient_func).set_caption(filename)) \n",
    "    if filename is None:\n",
    "        filename = \"dataframe\"\n",
    "    if format == 'csv':\n",
    "        data = df.to_csv(**kwargs)\n",
    "        mime_type = 'text/csv'\n",
    "        filename = filename + '.csv'\n",
    "    elif format == 'tsv':\n",
    "        data = df.to_csv(**kwargs)\n",
    "        mime_type = 'text/plain'\n",
    "        filename = filename + '.txt'\n",
    "    else:\n",
    "        raise ValueError('unknown file format: {}'.format(format))\n",
    "    data = 'data:{mime_type};base64,'.format(mime_type=mime_type) + str(b64encode(bytes(data, encoding=encoding)), encoding=encoding)\n",
    "    if type == 'hyperlink':\n",
    "        display(HTML('<a href=\" \" download={filename} target=\"_blank\">{filename}</a >'.format(\n",
    "            mime_type=mime_type, filename=filename, data=data)))\n",
    "    elif type == 'button':\n",
    "        button_id = 'button_{}'.format(np.random.randint(1000000000))\n",
    "        display(HTML(r'<input type=\"button\" id=\"{0}\" value=\"Download\">'.format(button_id)))\n",
    "        display(HTML('''<script>\n",
    "    document.getElementById(\"{button_id}\").addEventListener(\"click\", function(event){{\n",
    "        var filename = \"{filename}\";\n",
    "        var data = \"{data}\";\n",
    "        const element = document.createElement('a');\n",
    "        element.setAttribute('href', data);\n",
    "        element.setAttribute('download', filename);\n",
    "        element.style.display = 'none';\n",
    "        document.body.appendChild(element);\n",
    "        element.click();\n",
    "        document.body.removeChild(element);\n",
    "    }});\n",
    "</script>'''.format(button_id=button_id, filename=filename, data=data)))"
   ]
  },
  {
   "cell_type": "code",
   "execution_count": 40,
   "metadata": {},
   "outputs": [
    {
     "data": {
      "text/plain": [
       "array([0, 0, 0, 0, 0, 0])"
      ]
     },
     "execution_count": 40,
     "metadata": {},
     "output_type": "execute_result"
    }
   ],
   "source": [
    "np.random.randint(0,2,size=6)"
   ]
  },
  {
   "cell_type": "code",
   "execution_count": 41,
   "metadata": {},
   "outputs": [],
   "source": [
    "def check_survive(input_num):\n",
    "    '''\n",
    "    input_num: how many people to be decided to survive by stones\n",
    "    status: 0 means dead, 1 means alive\n",
    "    '''\n",
    "    random_output = np.random.randint(0,2,size=input_num)\n",
    "    alive = random_output.sum()\n",
    "    dead = random_output.shape[0] - alive\n",
    "    return alive, dead"
   ]
  },
  {
   "cell_type": "code",
   "execution_count": 47,
   "metadata": {},
   "outputs": [
    {
     "data": {
      "text/plain": [
       "(5, 1)"
      ]
     },
     "execution_count": 47,
     "metadata": {},
     "output_type": "execute_result"
    }
   ],
   "source": [
    "check_survive(6)"
   ]
  },
  {
   "cell_type": "code",
   "execution_count": 62,
   "metadata": {},
   "outputs": [
    {
     "data": {
      "text/plain": [
       "1"
      ]
     },
     "execution_count": 62,
     "metadata": {},
     "output_type": "execute_result"
    }
   ],
   "source": [
    "np.random.randint(2)"
   ]
  },
  {
   "cell_type": "code",
   "execution_count": 75,
   "metadata": {},
   "outputs": [
    {
     "name": "stdout",
     "output_type": "stream",
     "text": [
      "Round 1, avengers alive: 1, dead: 5\n",
      "Thanos die first\n"
     ]
    }
   ],
   "source": [
    "avengers_alive_num = 6\n",
    "round_num = 0\n",
    "while True:\n",
    "    round_num += 1\n",
    "    avengers_alive_num,avengers_dead_num = check_survive(avengers_alive_num)\n",
    "    print ('Round {}, avengers alive: {}, dead: {}'.format(round_num,avengers_alive_num,avengers_dead_num) )\n",
    "    if avengers_alive_num ==0:\n",
    "        print ('Avengers die first')\n",
    "        break\n",
    "    elif np.random.randint(2) ==0:\n",
    "        print ('Thanos die first')\n",
    "        break"
   ]
  },
  {
   "cell_type": "code",
   "execution_count": 163,
   "metadata": {},
   "outputs": [],
   "source": [
    "def summarize(avengers_alive_num = 6):\n",
    "    round_num = 0\n",
    "    while True:\n",
    "        round_num += 1\n",
    "        avengers_alive_num,avengers_dead_num = check_survive(avengers_alive_num)\n",
    "        #print ('Round {}, avengers alive: {}, dead: {}'.format(round_num,avengers_alive_num,avengers_dead_num) )\n",
    "        if avengers_alive_num ==0:\n",
    "            #print ('Avengers die first')\n",
    "            return round_num, 1\n",
    "        elif np.random.randint(2) ==0:\n",
    "            #print ('Thanos die first')\n",
    "            return round_num, 0"
   ]
  },
  {
   "cell_type": "code",
   "execution_count": 108,
   "metadata": {},
   "outputs": [
    {
     "data": {
      "application/vnd.jupyter.widget-view+json": {
       "model_id": "8ca291e5c32c4f71b9ee9a00499305ac",
       "version_major": 2,
       "version_minor": 0
      },
      "text/plain": [
       "HBox(children=(IntProgress(value=0, max=1000000), HTML(value='')))"
      ]
     },
     "metadata": {},
     "output_type": "display_data"
    },
    {
     "name": "stdout",
     "output_type": "stream",
     "text": [
      "\n"
     ]
    }
   ],
   "source": [
    "test_time = 1000000\n",
    "summarize_data = np.ndarray([test_time,2])\n",
    "for i in tqdm(range(test_time)):\n",
    "    summarize_data[i] = summarize()"
   ]
  },
  {
   "cell_type": "code",
   "execution_count": 109,
   "metadata": {},
   "outputs": [
    {
     "data": {
      "text/plain": [
       "<matplotlib.axes._subplots.AxesSubplot at 0x1203fafd0>"
      ]
     },
     "execution_count": 109,
     "metadata": {},
     "output_type": "execute_result"
    },
    {
     "data": {
      "image/png": "[encoded data removed]",
      "text/plain": [
       "<Figure size 576x288 with 1 Axes>"
      ]
     },
     "metadata": {
      "needs_background": "light"
     },
     "output_type": "display_data"
    }
   ],
   "source": [
    "fig,ax=plt.subplots(figsize=(8,4))\n",
    "sns.distplot(summarize_data[:,1],kde=0,ax=ax)"
   ]
  },
  {
   "cell_type": "code",
   "execution_count": 110,
   "metadata": {},
   "outputs": [
    {
     "data": {
      "text/plain": [
       "<matplotlib.axes._subplots.AxesSubplot at 0x10b6a53c8>"
      ]
     },
     "execution_count": 110,
     "metadata": {},
     "output_type": "execute_result"
    },
    {
     "data": {
      "image/png": "[encoded data removed]",
      "text/plain": [
       "<Figure size 576x288 with 1 Axes>"
      ]
     },
     "metadata": {
      "needs_background": "light"
     },
     "output_type": "display_data"
    }
   ],
   "source": [
    "fig,ax=plt.subplots(figsize=(8,4))\n",
    "sns.distplot(summarize_data[np.where(summarize_data[:,1]==0)][:,0],kde=0,ax=ax,color='r')\n",
    "sns.distplot(summarize_data[np.where(summarize_data[:,1]==1)][:,0],kde=0,ax=ax,color='m')"
   ]
  },
  {
   "cell_type": "code",
   "execution_count": 116,
   "metadata": {},
   "outputs": [
    {
     "name": "stdout",
     "output_type": "stream",
     "text": [
      "Avengers win 0.794047, Thanos win 0.205953\n"
     ]
    }
   ],
   "source": [
    "print ('Avengers win {}, Thanos win {}'.format(1 - summarize_data[:,1].sum()/test_time,summarize_data[:,1].sum()/test_time) )"
   ]
  },
  {
   "cell_type": "code",
   "execution_count": 177,
   "metadata": {},
   "outputs": [
    {
     "data": {
      "text/html": [
       "<style  type=\"text/css\" >\n",
       "</style>  \n",
       "<table id=\"T_dd414f8e_6fbc_11e9_a40f_8c8590804826\" ><caption>Avengers win times in 1000000 times</caption> \n",
       "<thead>    <tr> \n",
       "        <th class=\"blank level0\" ></th> \n",
       "        <th class=\"col_heading level0 col0\" >win time</th> \n",
       "        <th class=\"col_heading level0 col1\" >win probability</th> \n",
       "    </tr>    <tr> \n",
       "        <th class=\"index_name level0\" >1</th> \n",
       "        <th class=\"blank\" ></th> \n",
       "        <th class=\"blank\" ></th> \n",
       "    </tr></thead> \n",
       "<tbody>    <tr> \n",
       "        <th id=\"T_dd414f8e_6fbc_11e9_a40f_8c8590804826level0_row0\" class=\"row_heading level0 row0\" >1</th> \n",
       "        <td id=\"T_dd414f8e_6fbc_11e9_a40f_8c8590804826row0_col0\" class=\"data row0 col0\" >374015</td> \n",
       "        <td id=\"T_dd414f8e_6fbc_11e9_a40f_8c8590804826row0_col1\" class=\"data row0 col1\" >0.374015</td> \n",
       "    </tr>    <tr> \n",
       "        <th id=\"T_dd414f8e_6fbc_11e9_a40f_8c8590804826level0_row1\" class=\"row_heading level0 row1\" >2</th> \n",
       "        <td id=\"T_dd414f8e_6fbc_11e9_a40f_8c8590804826row1_col0\" class=\"data row1 col0\" >109568</td> \n",
       "        <td id=\"T_dd414f8e_6fbc_11e9_a40f_8c8590804826row1_col1\" class=\"data row1 col1\" >0.109568</td> \n",
       "    </tr>    <tr> \n",
       "        <th id=\"T_dd414f8e_6fbc_11e9_a40f_8c8590804826level0_row2\" class=\"row_heading level0 row2\" >3</th> \n",
       "        <td id=\"T_dd414f8e_6fbc_11e9_a40f_8c8590804826row2_col0\" class=\"data row2 col0\" >29220</td> \n",
       "        <td id=\"T_dd414f8e_6fbc_11e9_a40f_8c8590804826row2_col1\" class=\"data row2 col1\" >0.02922</td> \n",
       "    </tr>    <tr> \n",
       "        <th id=\"T_dd414f8e_6fbc_11e9_a40f_8c8590804826level0_row3\" class=\"row_heading level0 row3\" >4</th> \n",
       "        <td id=\"T_dd414f8e_6fbc_11e9_a40f_8c8590804826row3_col0\" class=\"data row3 col0\" >7567</td> \n",
       "        <td id=\"T_dd414f8e_6fbc_11e9_a40f_8c8590804826row3_col1\" class=\"data row3 col1\" >0.007567</td> \n",
       "    </tr>    <tr> \n",
       "        <th id=\"T_dd414f8e_6fbc_11e9_a40f_8c8590804826level0_row4\" class=\"row_heading level0 row4\" >5</th> \n",
       "        <td id=\"T_dd414f8e_6fbc_11e9_a40f_8c8590804826row4_col0\" class=\"data row4 col0\" >1921</td> \n",
       "        <td id=\"T_dd414f8e_6fbc_11e9_a40f_8c8590804826row4_col1\" class=\"data row4 col1\" >0.001921</td> \n",
       "    </tr>    <tr> \n",
       "        <th id=\"T_dd414f8e_6fbc_11e9_a40f_8c8590804826level0_row5\" class=\"row_heading level0 row5\" >6</th> \n",
       "        <td id=\"T_dd414f8e_6fbc_11e9_a40f_8c8590804826row5_col0\" class=\"data row5 col0\" >515</td> \n",
       "        <td id=\"T_dd414f8e_6fbc_11e9_a40f_8c8590804826row5_col1\" class=\"data row5 col1\" >0.000515</td> \n",
       "    </tr>    <tr> \n",
       "        <th id=\"T_dd414f8e_6fbc_11e9_a40f_8c8590804826level0_row6\" class=\"row_heading level0 row6\" >7</th> \n",
       "        <td id=\"T_dd414f8e_6fbc_11e9_a40f_8c8590804826row6_col0\" class=\"data row6 col0\" >128</td> \n",
       "        <td id=\"T_dd414f8e_6fbc_11e9_a40f_8c8590804826row6_col1\" class=\"data row6 col1\" >0.000128</td> \n",
       "    </tr>    <tr> \n",
       "        <th id=\"T_dd414f8e_6fbc_11e9_a40f_8c8590804826level0_row7\" class=\"row_heading level0 row7\" >8</th> \n",
       "        <td id=\"T_dd414f8e_6fbc_11e9_a40f_8c8590804826row7_col0\" class=\"data row7 col0\" >26</td> \n",
       "        <td id=\"T_dd414f8e_6fbc_11e9_a40f_8c8590804826row7_col1\" class=\"data row7 col1\" >2.6e-05</td> \n",
       "    </tr>    <tr> \n",
       "        <th id=\"T_dd414f8e_6fbc_11e9_a40f_8c8590804826level0_row8\" class=\"row_heading level0 row8\" >9</th> \n",
       "        <td id=\"T_dd414f8e_6fbc_11e9_a40f_8c8590804826row8_col0\" class=\"data row8 col0\" >10</td> \n",
       "        <td id=\"T_dd414f8e_6fbc_11e9_a40f_8c8590804826row8_col1\" class=\"data row8 col1\" >1e-05</td> \n",
       "    </tr>    <tr> \n",
       "        <th id=\"T_dd414f8e_6fbc_11e9_a40f_8c8590804826level0_row9\" class=\"row_heading level0 row9\" >10</th> \n",
       "        <td id=\"T_dd414f8e_6fbc_11e9_a40f_8c8590804826row9_col0\" class=\"data row9 col0\" >1</td> \n",
       "        <td id=\"T_dd414f8e_6fbc_11e9_a40f_8c8590804826row9_col1\" class=\"data row9 col1\" >1e-06</td> \n",
       "    </tr></tbody> \n",
       "</table> "
      ],
      "text/plain": [
       "<pandas.io.formats.style.Styler at 0x12399bf28>"
      ]
     },
     "metadata": {},
     "output_type": "display_data"
    },
    {
     "data": {
      "text/html": [
       "<input type=\"button\" id=\"button_49984029\" value=\"Download\">"
      ],
      "text/plain": [
       "<IPython.core.display.HTML object>"
      ]
     },
     "metadata": {},
     "output_type": "display_data"
    },
    {
     "data": {
      "text/html": [
       "<script>\n",
       "    document.getElementById(\"button_49984029\").addEventListener(\"click\", function(event){\n",
       "        var filename = \"Avengers win times in 1000000 times.csv\";\n",
       "        var data = \"data:text/csv;base64,MSx3aW4gdGltZSx3aW4gcHJvYmFiaWxpdHkKMSwzNzQwMTUuMCwwLjM3NDAxNQoyLDEwOTU2OC4wLDAuMTA5NTY4CjMsMjkyMjAuMCwwLjAyOTIyCjQsNzU2Ny4wLDAuMDA3NTY3CjUsMTkyMS4wLDAuMDAxOTIxCjYsNTE1LjAsMC4wMDA1MTUKNywxMjguMCwwLjAwMDEyOAo4LDI2LjAsMi42ZS0wNQo5LDEwLjAsMWUtMDUKMTAsMS4wLDFlLTA2Cg==\";\n",
       "        const element = document.createElement('a');\n",
       "        element.setAttribute('href', data);\n",
       "        element.setAttribute('download', filename);\n",
       "        element.style.display = 'none';\n",
       "        document.body.appendChild(element);\n",
       "        element.click();\n",
       "        document.body.removeChild(element);\n",
       "    });\n",
       "</script>"
      ],
      "text/plain": [
       "<IPython.core.display.HTML object>"
      ]
     },
     "metadata": {},
     "output_type": "display_data"
    }
   ],
   "source": [
    "unique_sum = np.unique(summarize_data[np.where(summarize_data[:,1]==0)][:,0],return_counts=1)\n",
    "df = pd.DataFrame(np.concatenate((unique_sum[1].reshape(-1,1),unique_sum[0].astype('int').reshape(-1,1),unique_sum[1].reshape(-1,1)/test_time),axis=1))\n",
    "df.iloc[:,1] = np.array(df.iloc[:,1]).astype('int')\n",
    "df = df.set_index(1)\n",
    "df.columns = ['win time','win probability']\n",
    "display_dataframe(df,filename='Avengers win times in {} times'.format(test_time))\n",
    "    "
   ]
  },
  {
   "cell_type": "code",
   "execution_count": 178,
   "metadata": {},
   "outputs": [
    {
     "data": {
      "text/html": [
       "<style  type=\"text/css\" >\n",
       "</style>  \n",
       "<table id=\"T_de28c058_6fbc_11e9_a40f_8c8590804826\" ><caption>Thanos win times in 1000000 times</caption> \n",
       "<thead>    <tr> \n",
       "        <th class=\"blank level0\" ></th> \n",
       "        <th class=\"col_heading level0 col0\" >win time</th> \n",
       "        <th class=\"col_heading level0 col1\" >win probability</th> \n",
       "    </tr>    <tr> \n",
       "        <th class=\"index_name level0\" >1</th> \n",
       "        <th class=\"blank\" ></th> \n",
       "        <th class=\"blank\" ></th> \n",
       "    </tr></thead> \n",
       "<tbody>    <tr> \n",
       "        <th id=\"T_de28c058_6fbc_11e9_a40f_8c8590804826level0_row0\" class=\"row_heading level0 row0\" >1</th> \n",
       "        <td id=\"T_de28c058_6fbc_11e9_a40f_8c8590804826row0_col0\" class=\"data row0 col0\" >250296</td> \n",
       "        <td id=\"T_de28c058_6fbc_11e9_a40f_8c8590804826row0_col1\" class=\"data row0 col1\" >0.250296</td> \n",
       "    </tr>    <tr> \n",
       "        <th id=\"T_de28c058_6fbc_11e9_a40f_8c8590804826level0_row1\" class=\"row_heading level0 row1\" >2</th> \n",
       "        <td id=\"T_de28c058_6fbc_11e9_a40f_8c8590804826row1_col0\" class=\"data row1 col0\" >156560</td> \n",
       "        <td id=\"T_de28c058_6fbc_11e9_a40f_8c8590804826row1_col1\" class=\"data row1 col1\" >0.15656</td> \n",
       "    </tr>    <tr> \n",
       "        <th id=\"T_de28c058_6fbc_11e9_a40f_8c8590804826level0_row2\" class=\"row_heading level0 row2\" >3</th> \n",
       "        <td id=\"T_de28c058_6fbc_11e9_a40f_8c8590804826row2_col0\" class=\"data row2 col0\" >50920</td> \n",
       "        <td id=\"T_de28c058_6fbc_11e9_a40f_8c8590804826row2_col1\" class=\"data row2 col1\" >0.05092</td> \n",
       "    </tr>    <tr> \n",
       "        <th id=\"T_de28c058_6fbc_11e9_a40f_8c8590804826level0_row3\" class=\"row_heading level0 row3\" >4</th> \n",
       "        <td id=\"T_de28c058_6fbc_11e9_a40f_8c8590804826row3_col0\" class=\"data row3 col0\" >14207</td> \n",
       "        <td id=\"T_de28c058_6fbc_11e9_a40f_8c8590804826row3_col1\" class=\"data row3 col1\" >0.014207</td> \n",
       "    </tr>    <tr> \n",
       "        <th id=\"T_de28c058_6fbc_11e9_a40f_8c8590804826level0_row4\" class=\"row_heading level0 row4\" >5</th> \n",
       "        <td id=\"T_de28c058_6fbc_11e9_a40f_8c8590804826row4_col0\" class=\"data row4 col0\" >3766</td> \n",
       "        <td id=\"T_de28c058_6fbc_11e9_a40f_8c8590804826row4_col1\" class=\"data row4 col1\" >0.003766</td> \n",
       "    </tr>    <tr> \n",
       "        <th id=\"T_de28c058_6fbc_11e9_a40f_8c8590804826level0_row5\" class=\"row_heading level0 row5\" >6</th> \n",
       "        <td id=\"T_de28c058_6fbc_11e9_a40f_8c8590804826row5_col0\" class=\"data row5 col0\" >946</td> \n",
       "        <td id=\"T_de28c058_6fbc_11e9_a40f_8c8590804826row5_col1\" class=\"data row5 col1\" >0.000946</td> \n",
       "    </tr>    <tr> \n",
       "        <th id=\"T_de28c058_6fbc_11e9_a40f_8c8590804826level0_row6\" class=\"row_heading level0 row6\" >7</th> \n",
       "        <td id=\"T_de28c058_6fbc_11e9_a40f_8c8590804826row6_col0\" class=\"data row6 col0\" >251</td> \n",
       "        <td id=\"T_de28c058_6fbc_11e9_a40f_8c8590804826row6_col1\" class=\"data row6 col1\" >0.000251</td> \n",
       "    </tr>    <tr> \n",
       "        <th id=\"T_de28c058_6fbc_11e9_a40f_8c8590804826level0_row7\" class=\"row_heading level0 row7\" >8</th> \n",
       "        <td id=\"T_de28c058_6fbc_11e9_a40f_8c8590804826row7_col0\" class=\"data row7 col0\" >67</td> \n",
       "        <td id=\"T_de28c058_6fbc_11e9_a40f_8c8590804826row7_col1\" class=\"data row7 col1\" >6.7e-05</td> \n",
       "    </tr>    <tr> \n",
       "        <th id=\"T_de28c058_6fbc_11e9_a40f_8c8590804826level0_row8\" class=\"row_heading level0 row8\" >9</th> \n",
       "        <td id=\"T_de28c058_6fbc_11e9_a40f_8c8590804826row8_col0\" class=\"data row8 col0\" >15</td> \n",
       "        <td id=\"T_de28c058_6fbc_11e9_a40f_8c8590804826row8_col1\" class=\"data row8 col1\" >1.5e-05</td> \n",
       "    </tr>    <tr> \n",
       "        <th id=\"T_de28c058_6fbc_11e9_a40f_8c8590804826level0_row9\" class=\"row_heading level0 row9\" >11</th> \n",
       "        <td id=\"T_de28c058_6fbc_11e9_a40f_8c8590804826row9_col0\" class=\"data row9 col0\" >1</td> \n",
       "        <td id=\"T_de28c058_6fbc_11e9_a40f_8c8590804826row9_col1\" class=\"data row9 col1\" >1e-06</td> \n",
       "    </tr></tbody> \n",
       "</table> "
      ],
      "text/plain": [
       "<pandas.io.formats.style.Styler at 0x12399be10>"
      ]
     },
     "metadata": {},
     "output_type": "display_data"
    },
    {
     "data": {
      "text/html": [
       "<input type=\"button\" id=\"button_695678885\" value=\"Download\">"
      ],
      "text/plain": [
       "<IPython.core.display.HTML object>"
      ]
     },
     "metadata": {},
     "output_type": "display_data"
    },
    {
     "data": {
      "text/html": [
       "<script>\n",
       "    document.getElementById(\"button_695678885\").addEventListener(\"click\", function(event){\n",
       "        var filename = \"Thanos win times in 1000000 times.csv\";\n",
       "        var data = \"data:text/csv;base64,MSx3aW4gdGltZSx3aW4gcHJvYmFiaWxpdHkKMSwyNTAyOTYuMCwwLjI1MDI5NgoyLDE1NjU2MC4wLDAuMTU2NTYKMyw1MDkyMC4wLDAuMDUwOTIKNCwxNDIwNy4wLDAuMDE0MjA3CjUsMzc2Ni4wLDAuMDAzNzY2CjYsOTQ2LjAsMC4wMDA5NDYKNywyNTEuMCwwLjAwMDI1MQo4LDY3LjAsNi43ZS0wNQo5LDE1LjAsMS41ZS0wNQoxMSwxLjAsMWUtMDYK\";\n",
       "        const element = document.createElement('a');\n",
       "        element.setAttribute('href', data);\n",
       "        element.setAttribute('download', filename);\n",
       "        element.style.display = 'none';\n",
       "        document.body.appendChild(element);\n",
       "        element.click();\n",
       "        document.body.removeChild(element);\n",
       "    });\n",
       "</script>"
      ],
      "text/plain": [
       "<IPython.core.display.HTML object>"
      ]
     },
     "metadata": {},
     "output_type": "display_data"
    }
   ],
   "source": [
    "unique_sum = np.unique(summarize_data[np.where(summarize_data[:,1]==1)][:,0],return_counts=1)\n",
    "df = pd.DataFrame(np.concatenate((unique_sum[1].reshape(-1,1),unique_sum[0].astype('int').reshape(-1,1),unique_sum[1].reshape(-1,1)/test_time),axis=1))\n",
    "df.iloc[:,1] = np.array(df.iloc[:,1]).astype('int')\n",
    "df = df.set_index(1)\n",
    "df.columns = ['win time','win probability']\n",
    "display_dataframe(df,filename='Thanos win times in {} times'.format(test_time))\n",
    "    "
   ]
  },
  {
   "cell_type": "markdown",
   "metadata": {},
   "source": [
    "灭霸死的有点惨，其实复仇者初始只有两个人的时候概率稍微对等"
   ]
  },
  {
   "cell_type": "code",
   "execution_count": 164,
   "metadata": {},
   "outputs": [],
   "source": [
    "def summarize(avengers_alive_num = 6):\n",
    "    round_num = 0\n",
    "    while True:\n",
    "        round_num += 1\n",
    "        avengers_alive_num,avengers_dead_num = check_survive(avengers_alive_num)\n",
    "        #print ('Round {}, avengers alive: {}, dead: {}'.format(round_num,avengers_alive_num,avengers_dead_num) )\n",
    "        if avengers_alive_num ==0:\n",
    "            #print ('Avengers die first')\n",
    "            return round_num, 1\n",
    "        elif np.random.randint(2) ==0:\n",
    "            #print ('Thanos die first')\n",
    "            return round_num, 0"
   ]
  },
  {
   "cell_type": "code",
   "execution_count": 172,
   "metadata": {},
   "outputs": [
    {
     "data": {
      "application/vnd.jupyter.widget-view+json": {
       "model_id": "3fbc88dc5dbb4db19ada9aa86c656495",
       "version_major": 2,
       "version_minor": 0
      },
      "text/plain": [
       "HBox(children=(IntProgress(value=0, max=1000000), HTML(value='')))"
      ]
     },
     "metadata": {},
     "output_type": "display_data"
    },
    {
     "name": "stdout",
     "output_type": "stream",
     "text": [
      "\n"
     ]
    }
   ],
   "source": [
    "test_time = 1000000\n",
    "summarize_data = np.ndarray([test_time,2])\n",
    "for i in tqdm(range(test_time)):\n",
    "    summarize_data[i] = summarize(avengers_alive_num =2)"
   ]
  },
  {
   "cell_type": "code",
   "execution_count": 173,
   "metadata": {},
   "outputs": [
    {
     "data": {
      "text/plain": [
       "<matplotlib.axes._subplots.AxesSubplot at 0x122681748>"
      ]
     },
     "execution_count": 173,
     "metadata": {},
     "output_type": "execute_result"
    },
    {
     "data": {
      "image/png": "[encoded data removed]",
      "text/plain": [
       "<Figure size 576x576 with 2 Axes>"
      ]
     },
     "metadata": {
      "needs_background": "light"
     },
     "output_type": "display_data"
    }
   ],
   "source": [
    "fig,ax=plt.subplots(2,1,figsize=(8,8))\n",
    "sns.distplot(summarize_data[:,1],kde=0,ax=ax[0])\n",
    "sns.distplot(summarize_data[np.where(summarize_data[:,1]==0)][:,0],kde=0,ax=ax[1],color='r')\n",
    "sns.distplot(summarize_data[np.where(summarize_data[:,1]==1)][:,0],kde=0,ax=ax[1],color='m')"
   ]
  },
  {
   "cell_type": "code",
   "execution_count": 174,
   "metadata": {},
   "outputs": [
    {
     "name": "stdout",
     "output_type": "stream",
     "text": [
      "Avengers win 0.5229710000000001, Thanos win 0.477029\n"
     ]
    }
   ],
   "source": [
    "print ('Avengers win {}, Thanos win {}'.format(1 - summarize_data[:,1].sum()/test_time,summarize_data[:,1].sum()/test_time) )"
   ]
  },
  {
   "cell_type": "code",
   "execution_count": 176,
   "metadata": {},
   "outputs": [
    {
     "data": {
      "text/html": [
       "<style  type=\"text/css\" >\n",
       "</style>  \n",
       "<table id=\"T_d554637e_6fbc_11e9_a40f_8c8590804826\" ><caption>Avengers win times in 1000000 times</caption> \n",
       "<thead>    <tr> \n",
       "        <th class=\"blank level0\" ></th> \n",
       "        <th class=\"col_heading level0 col0\" >win time</th> \n",
       "        <th class=\"col_heading level0 col1\" >win probability</th> \n",
       "    </tr>    <tr> \n",
       "        <th class=\"index_name level0\" >1</th> \n",
       "        <th class=\"blank\" ></th> \n",
       "        <th class=\"blank\" ></th> \n",
       "    </tr></thead> \n",
       "<tbody>    <tr> \n",
       "        <th id=\"T_d554637e_6fbc_11e9_a40f_8c8590804826level0_row0\" class=\"row_heading level0 row0\" >1</th> \n",
       "        <td id=\"T_d554637e_6fbc_11e9_a40f_8c8590804826row0_col0\" class=\"data row0 col0\" >374015</td> \n",
       "        <td id=\"T_d554637e_6fbc_11e9_a40f_8c8590804826row0_col1\" class=\"data row0 col1\" >0.374015</td> \n",
       "    </tr>    <tr> \n",
       "        <th id=\"T_d554637e_6fbc_11e9_a40f_8c8590804826level0_row1\" class=\"row_heading level0 row1\" >2</th> \n",
       "        <td id=\"T_d554637e_6fbc_11e9_a40f_8c8590804826row1_col0\" class=\"data row1 col0\" >109568</td> \n",
       "        <td id=\"T_d554637e_6fbc_11e9_a40f_8c8590804826row1_col1\" class=\"data row1 col1\" >0.109568</td> \n",
       "    </tr>    <tr> \n",
       "        <th id=\"T_d554637e_6fbc_11e9_a40f_8c8590804826level0_row2\" class=\"row_heading level0 row2\" >3</th> \n",
       "        <td id=\"T_d554637e_6fbc_11e9_a40f_8c8590804826row2_col0\" class=\"data row2 col0\" >29220</td> \n",
       "        <td id=\"T_d554637e_6fbc_11e9_a40f_8c8590804826row2_col1\" class=\"data row2 col1\" >0.02922</td> \n",
       "    </tr>    <tr> \n",
       "        <th id=\"T_d554637e_6fbc_11e9_a40f_8c8590804826level0_row3\" class=\"row_heading level0 row3\" >4</th> \n",
       "        <td id=\"T_d554637e_6fbc_11e9_a40f_8c8590804826row3_col0\" class=\"data row3 col0\" >7567</td> \n",
       "        <td id=\"T_d554637e_6fbc_11e9_a40f_8c8590804826row3_col1\" class=\"data row3 col1\" >0.007567</td> \n",
       "    </tr>    <tr> \n",
       "        <th id=\"T_d554637e_6fbc_11e9_a40f_8c8590804826level0_row4\" class=\"row_heading level0 row4\" >5</th> \n",
       "        <td id=\"T_d554637e_6fbc_11e9_a40f_8c8590804826row4_col0\" class=\"data row4 col0\" >1921</td> \n",
       "        <td id=\"T_d554637e_6fbc_11e9_a40f_8c8590804826row4_col1\" class=\"data row4 col1\" >0.001921</td> \n",
       "    </tr>    <tr> \n",
       "        <th id=\"T_d554637e_6fbc_11e9_a40f_8c8590804826level0_row5\" class=\"row_heading level0 row5\" >6</th> \n",
       "        <td id=\"T_d554637e_6fbc_11e9_a40f_8c8590804826row5_col0\" class=\"data row5 col0\" >515</td> \n",
       "        <td id=\"T_d554637e_6fbc_11e9_a40f_8c8590804826row5_col1\" class=\"data row5 col1\" >0.000515</td> \n",
       "    </tr>    <tr> \n",
       "        <th id=\"T_d554637e_6fbc_11e9_a40f_8c8590804826level0_row6\" class=\"row_heading level0 row6\" >7</th> \n",
       "        <td id=\"T_d554637e_6fbc_11e9_a40f_8c8590804826row6_col0\" class=\"data row6 col0\" >128</td> \n",
       "        <td id=\"T_d554637e_6fbc_11e9_a40f_8c8590804826row6_col1\" class=\"data row6 col1\" >0.000128</td> \n",
       "    </tr>    <tr> \n",
       "        <th id=\"T_d554637e_6fbc_11e9_a40f_8c8590804826level0_row7\" class=\"row_heading level0 row7\" >8</th> \n",
       "        <td id=\"T_d554637e_6fbc_11e9_a40f_8c8590804826row7_col0\" class=\"data row7 col0\" >26</td> \n",
       "        <td id=\"T_d554637e_6fbc_11e9_a40f_8c8590804826row7_col1\" class=\"data row7 col1\" >2.6e-05</td> \n",
       "    </tr>    <tr> \n",
       "        <th id=\"T_d554637e_6fbc_11e9_a40f_8c8590804826level0_row8\" class=\"row_heading level0 row8\" >9</th> \n",
       "        <td id=\"T_d554637e_6fbc_11e9_a40f_8c8590804826row8_col0\" class=\"data row8 col0\" >10</td> \n",
       "        <td id=\"T_d554637e_6fbc_11e9_a40f_8c8590804826row8_col1\" class=\"data row8 col1\" >1e-05</td> \n",
       "    </tr>    <tr> \n",
       "        <th id=\"T_d554637e_6fbc_11e9_a40f_8c8590804826level0_row9\" class=\"row_heading level0 row9\" >10</th> \n",
       "        <td id=\"T_d554637e_6fbc_11e9_a40f_8c8590804826row9_col0\" class=\"data row9 col0\" >1</td> \n",
       "        <td id=\"T_d554637e_6fbc_11e9_a40f_8c8590804826row9_col1\" class=\"data row9 col1\" >1e-06</td> \n",
       "    </tr></tbody> \n",
       "</table> "
      ],
      "text/plain": [
       "<pandas.io.formats.style.Styler at 0x12265e860>"
      ]
     },
     "metadata": {},
     "output_type": "display_data"
    },
    {
     "data": {
      "text/html": [
       "<input type=\"button\" id=\"button_539761335\" value=\"Download\">"
      ],
      "text/plain": [
       "<IPython.core.display.HTML object>"
      ]
     },
     "metadata": {},
     "output_type": "display_data"
    },
    {
     "data": {
      "text/html": [
       "<script>\n",
       "    document.getElementById(\"button_539761335\").addEventListener(\"click\", function(event){\n",
       "        var filename = \"Avengers win times in 1000000 times.csv\";\n",
       "        var data = \"data:text/csv;base64,MSx3aW4gdGltZSx3aW4gcHJvYmFiaWxpdHkKMSwzNzQwMTUuMCwwLjM3NDAxNQoyLDEwOTU2OC4wLDAuMTA5NTY4CjMsMjkyMjAuMCwwLjAyOTIyCjQsNzU2Ny4wLDAuMDA3NTY3CjUsMTkyMS4wLDAuMDAxOTIxCjYsNTE1LjAsMC4wMDA1MTUKNywxMjguMCwwLjAwMDEyOAo4LDI2LjAsMi42ZS0wNQo5LDEwLjAsMWUtMDUKMTAsMS4wLDFlLTA2Cg==\";\n",
       "        const element = document.createElement('a');\n",
       "        element.setAttribute('href', data);\n",
       "        element.setAttribute('download', filename);\n",
       "        element.style.display = 'none';\n",
       "        document.body.appendChild(element);\n",
       "        element.click();\n",
       "        document.body.removeChild(element);\n",
       "    });\n",
       "</script>"
      ],
      "text/plain": [
       "<IPython.core.display.HTML object>"
      ]
     },
     "metadata": {},
     "output_type": "display_data"
    },
    {
     "data": {
      "text/html": [
       "<style  type=\"text/css\" >\n",
       "</style>  \n",
       "<table id=\"T_d55b2fec_6fbc_11e9_a40f_8c8590804826\" ><caption>Thanos win times in 1000000 times</caption> \n",
       "<thead>    <tr> \n",
       "        <th class=\"blank level0\" ></th> \n",
       "        <th class=\"col_heading level0 col0\" >win time</th> \n",
       "        <th class=\"col_heading level0 col1\" >win probability</th> \n",
       "    </tr>    <tr> \n",
       "        <th class=\"index_name level0\" >1</th> \n",
       "        <th class=\"blank\" ></th> \n",
       "        <th class=\"blank\" ></th> \n",
       "    </tr></thead> \n",
       "<tbody>    <tr> \n",
       "        <th id=\"T_d55b2fec_6fbc_11e9_a40f_8c8590804826level0_row0\" class=\"row_heading level0 row0\" >1</th> \n",
       "        <td id=\"T_d55b2fec_6fbc_11e9_a40f_8c8590804826row0_col0\" class=\"data row0 col0\" >250296</td> \n",
       "        <td id=\"T_d55b2fec_6fbc_11e9_a40f_8c8590804826row0_col1\" class=\"data row0 col1\" >0.250296</td> \n",
       "    </tr>    <tr> \n",
       "        <th id=\"T_d55b2fec_6fbc_11e9_a40f_8c8590804826level0_row1\" class=\"row_heading level0 row1\" >2</th> \n",
       "        <td id=\"T_d55b2fec_6fbc_11e9_a40f_8c8590804826row1_col0\" class=\"data row1 col0\" >156560</td> \n",
       "        <td id=\"T_d55b2fec_6fbc_11e9_a40f_8c8590804826row1_col1\" class=\"data row1 col1\" >0.15656</td> \n",
       "    </tr>    <tr> \n",
       "        <th id=\"T_d55b2fec_6fbc_11e9_a40f_8c8590804826level0_row2\" class=\"row_heading level0 row2\" >3</th> \n",
       "        <td id=\"T_d55b2fec_6fbc_11e9_a40f_8c8590804826row2_col0\" class=\"data row2 col0\" >50920</td> \n",
       "        <td id=\"T_d55b2fec_6fbc_11e9_a40f_8c8590804826row2_col1\" class=\"data row2 col1\" >0.05092</td> \n",
       "    </tr>    <tr> \n",
       "        <th id=\"T_d55b2fec_6fbc_11e9_a40f_8c8590804826level0_row3\" class=\"row_heading level0 row3\" >4</th> \n",
       "        <td id=\"T_d55b2fec_6fbc_11e9_a40f_8c8590804826row3_col0\" class=\"data row3 col0\" >14207</td> \n",
       "        <td id=\"T_d55b2fec_6fbc_11e9_a40f_8c8590804826row3_col1\" class=\"data row3 col1\" >0.014207</td> \n",
       "    </tr>    <tr> \n",
       "        <th id=\"T_d55b2fec_6fbc_11e9_a40f_8c8590804826level0_row4\" class=\"row_heading level0 row4\" >5</th> \n",
       "        <td id=\"T_d55b2fec_6fbc_11e9_a40f_8c8590804826row4_col0\" class=\"data row4 col0\" >3766</td> \n",
       "        <td id=\"T_d55b2fec_6fbc_11e9_a40f_8c8590804826row4_col1\" class=\"data row4 col1\" >0.003766</td> \n",
       "    </tr>    <tr> \n",
       "        <th id=\"T_d55b2fec_6fbc_11e9_a40f_8c8590804826level0_row5\" class=\"row_heading level0 row5\" >6</th> \n",
       "        <td id=\"T_d55b2fec_6fbc_11e9_a40f_8c8590804826row5_col0\" class=\"data row5 col0\" >946</td> \n",
       "        <td id=\"T_d55b2fec_6fbc_11e9_a40f_8c8590804826row5_col1\" class=\"data row5 col1\" >0.000946</td> \n",
       "    </tr>    <tr> \n",
       "        <th id=\"T_d55b2fec_6fbc_11e9_a40f_8c8590804826level0_row6\" class=\"row_heading level0 row6\" >7</th> \n",
       "        <td id=\"T_d55b2fec_6fbc_11e9_a40f_8c8590804826row6_col0\" class=\"data row6 col0\" >251</td> \n",
       "        <td id=\"T_d55b2fec_6fbc_11e9_a40f_8c8590804826row6_col1\" class=\"data row6 col1\" >0.000251</td> \n",
       "    </tr>    <tr> \n",
       "        <th id=\"T_d55b2fec_6fbc_11e9_a40f_8c8590804826level0_row7\" class=\"row_heading level0 row7\" >8</th> \n",
       "        <td id=\"T_d55b2fec_6fbc_11e9_a40f_8c8590804826row7_col0\" class=\"data row7 col0\" >67</td> \n",
       "        <td id=\"T_d55b2fec_6fbc_11e9_a40f_8c8590804826row7_col1\" class=\"data row7 col1\" >6.7e-05</td> \n",
       "    </tr>    <tr> \n",
       "        <th id=\"T_d55b2fec_6fbc_11e9_a40f_8c8590804826level0_row8\" class=\"row_heading level0 row8\" >9</th> \n",
       "        <td id=\"T_d55b2fec_6fbc_11e9_a40f_8c8590804826row8_col0\" class=\"data row8 col0\" >15</td> \n",
       "        <td id=\"T_d55b2fec_6fbc_11e9_a40f_8c8590804826row8_col1\" class=\"data row8 col1\" >1.5e-05</td> \n",
       "    </tr>    <tr> \n",
       "        <th id=\"T_d55b2fec_6fbc_11e9_a40f_8c8590804826level0_row9\" class=\"row_heading level0 row9\" >11</th> \n",
       "        <td id=\"T_d55b2fec_6fbc_11e9_a40f_8c8590804826row9_col0\" class=\"data row9 col0\" >1</td> \n",
       "        <td id=\"T_d55b2fec_6fbc_11e9_a40f_8c8590804826row9_col1\" class=\"data row9 col1\" >1e-06</td> \n",
       "    </tr></tbody> \n",
       "</table> "
      ],
      "text/plain": [
       "<pandas.io.formats.style.Styler at 0x122462cc0>"
      ]
     },
     "metadata": {},
     "output_type": "display_data"
    },
    {
     "data": {
      "text/html": [
       "<input type=\"button\" id=\"button_934325676\" value=\"Download\">"
      ],
      "text/plain": [
       "<IPython.core.display.HTML object>"
      ]
     },
     "metadata": {},
     "output_type": "display_data"
    },
    {
     "data": {
      "text/html": [
       "<script>\n",
       "    document.getElementById(\"button_934325676\").addEventListener(\"click\", function(event){\n",
       "        var filename = \"Thanos win times in 1000000 times.csv\";\n",
       "        var data = \"data:text/csv;base64,MSx3aW4gdGltZSx3aW4gcHJvYmFiaWxpdHkKMSwyNTAyOTYuMCwwLjI1MDI5NgoyLDE1NjU2MC4wLDAuMTU2NTYKMyw1MDkyMC4wLDAuMDUwOTIKNCwxNDIwNy4wLDAuMDE0MjA3CjUsMzc2Ni4wLDAuMDAzNzY2CjYsOTQ2LjAsMC4wMDA5NDYKNywyNTEuMCwwLjAwMDI1MQo4LDY3LjAsNi43ZS0wNQo5LDE1LjAsMS41ZS0wNQoxMSwxLjAsMWUtMDYK\";\n",
       "        const element = document.createElement('a');\n",
       "        element.setAttribute('href', data);\n",
       "        element.setAttribute('download', filename);\n",
       "        element.style.display = 'none';\n",
       "        document.body.appendChild(element);\n",
       "        element.click();\n",
       "        document.body.removeChild(element);\n",
       "    });\n",
       "</script>"
      ],
      "text/plain": [
       "<IPython.core.display.HTML object>"
      ]
     },
     "metadata": {},
     "output_type": "display_data"
    }
   ],
   "source": [
    "unique_sum = np.unique(summarize_data[np.where(summarize_data[:,1]==0)][:,0],return_counts=1)\n",
    "df = pd.DataFrame(np.concatenate((unique_sum[1].reshape(-1,1),unique_sum[0].astype('int').reshape(-1,1),unique_sum[1].reshape(-1,1)/test_time),axis=1))\n",
    "df.iloc[:,1] = np.array(df.iloc[:,1]).astype('int')\n",
    "df = df.set_index(1)\n",
    "df.columns = ['win time','win probability']\n",
    "display_dataframe(df,filename='Avengers win times in {} times'.format(test_time))\n",
    "    \n",
    "unique_sum = np.unique(summarize_data[np.where(summarize_data[:,1]==1)][:,0],return_counts=1)\n",
    "df = pd.DataFrame(np.concatenate((unique_sum[1].reshape(-1,1),unique_sum[0].astype('int').reshape(-1,1),unique_sum[1].reshape(-1,1)/test_time),axis=1))\n",
    "df.iloc[:,1] = np.array(df.iloc[:,1]).astype('int')\n",
    "df = df.set_index(1)\n",
    "df.columns = ['win time','win probability']\n",
    "display_dataframe(df,filename='Thanos win times in {} times'.format(test_time))"
   ]
  },
  {
   "cell_type": "code",
   "execution_count": null,
   "metadata": {},
   "outputs": [],
   "source": []
  }
 ],
 "metadata": {
  "kernelspec": {
   "display_name": "Python 3",
   "language": "python",
   "name": "python3"
  },
  "language_info": {
   "codemirror_mode": {
    "name": "ipython",
    "version": 3
   },
   "file_extension": ".py",
   "mimetype": "text/x-python",
   "name": "python",
   "nbconvert_exporter": "python",
   "pygments_lexer": "ipython3",
   "version": "3.7.2"
  },
  "toc": {
   "base_numbering": 1,
   "nav_menu": {},
   "number_sections": true,
   "sideBar": true,
   "skip_h1_title": false,
   "title_cell": "Table of Contents",
   "title_sidebar": "Contents",
   "toc_cell": false,
   "toc_position": {},
   "toc_section_display": true,
   "toc_window_display": false
  }
 },
 "nbformat": 4,
 "nbformat_minor": 2
}
