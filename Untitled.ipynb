{
 "cells": [
  {
   "cell_type": "code",
   "execution_count": 6,
   "metadata": {},
   "outputs": [
    {
     "ename": "NameError",
     "evalue": "name 'makeBoard' is not defined",
     "output_type": "error",
     "traceback": [
      "\u001b[0;31m------------------------------------------------------------------\u001b[0m",
      "\u001b[0;31mNameError\u001b[0m                        Traceback (most recent call last)",
      "\u001b[0;32m<ipython-input-6-788d1f774d35>\u001b[0m in \u001b[0;36m<module>\u001b[0;34m\u001b[0m\n\u001b[1;32m     46\u001b[0m                 \u001b[0mboard\u001b[0m\u001b[0;34m[\u001b[0m\u001b[0mi\u001b[0m\u001b[0;34m]\u001b[0m\u001b[0;34m[\u001b[0m\u001b[0mj\u001b[0m\u001b[0;34m]\u001b[0m \u001b[0;34m=\u001b[0m \u001b[0mcheckMe\u001b[0m\u001b[0;34m\u001b[0m\u001b[0;34m\u001b[0m\u001b[0m\n\u001b[1;32m     47\u001b[0m     \u001b[0;32mreturn\u001b[0m \u001b[0mboard\u001b[0m\u001b[0;34m\u001b[0m\u001b[0;34m\u001b[0m\u001b[0m\n\u001b[0;32m---> 48\u001b[0;31m \u001b[0ma\u001b[0m\u001b[0;34m=\u001b[0m\u001b[0mmakeBoard\u001b[0m\u001b[0;34m(\u001b[0m\u001b[0;34m)\u001b[0m\u001b[0;34m\u001b[0m\u001b[0;34m\u001b[0m\u001b[0m\n\u001b[0m\u001b[1;32m     49\u001b[0m \u001b[0mrows\u001b[0m \u001b[0;34m=\u001b[0m \u001b[0;34m[\u001b[0m\u001b[0;34m]\u001b[0m\u001b[0;34m\u001b[0m\u001b[0;34m\u001b[0m\u001b[0m\n\u001b[1;32m     50\u001b[0m \u001b[0;32mfor\u001b[0m \u001b[0mi\u001b[0m \u001b[0;32min\u001b[0m \u001b[0mrange\u001b[0m\u001b[0;34m(\u001b[0m\u001b[0;36m1\u001b[0m\u001b[0;34m,\u001b[0m\u001b[0;36m10\u001b[0m\u001b[0;34m)\u001b[0m\u001b[0;34m:\u001b[0m\u001b[0;34m\u001b[0m\u001b[0;34m\u001b[0m\u001b[0m\n",
      "\u001b[0;31mNameError\u001b[0m: name 'makeBoard' is not defined"
     ]
    }
   ],
   "source": [
    "from tkinter import *\n",
    "import random\n",
    "numbers = [1,2,3,4,5,6,7,8,9]\n",
    "window=Tk()\n",
    "window.title(\"SUDOKO\")\n",
    "def reg():\n",
    "    def makeBoard():\n",
    "        board = None\n",
    "        while board is None:\n",
    "            board = attemptBoard()\n",
    "        return board\n",
    "\n",
    "def attemptBoard():\n",
    "    board = [[None for i in range(9)] for j  in range(9)]\n",
    "    for i in range(9):\n",
    "        for j in range(9):\n",
    "            checking = numbers[:]\n",
    "            random.shuffle(checking)\n",
    "            x = -1\n",
    "            loopStart = 0\n",
    "            while board[i][j] is None:\n",
    "                x += 1\n",
    "                if x == 9:\n",
    "\n",
    "                    return None\n",
    "                checkMe = [checking[x],True]\n",
    "                if checkMe in board[i]:\n",
    "\n",
    "                    continue\n",
    "                checkis = False\n",
    "                for checkRow in board:\n",
    "                    if checkRow[j] == checkMe:\n",
    "\n",
    "                        checkis = True\n",
    "                if checkis: continue\n",
    "\n",
    "                if i % 3 == 1:\n",
    "                    if   j % 3 == 0 and checkMe in (board[i-1][j+1],board[i-1][j+2]): continue\n",
    "                    elif j % 3 == 1 and checkMe in (board[i-1][j-1],board[i-1][j+1]): continue\n",
    "                    elif j % 3 == 2 and checkMe in (board[i-1][j-1],board[i-1][j-2]): continue\n",
    "                elif i % 3 == 2:\n",
    "                    if   j % 3 == 0 and checkMe in (board[i-1][j+1],board[i-1][j+2],board[i-2][j+1],board[i-2][j+2]): continue\n",
    "                    elif j % 3 == 1 and checkMe in (board[i-1][j-1],board[i-1][j+1],board[i-2][j-1],board[i-2][j+1]): continue\n",
    "                    elif j % 3 == 2 and checkMe in (board[i-1][j-1],board[i-1][j-2],board[i-2][j-1],board[i-2][j-2]): continue\n",
    "\n",
    "                board[i][j] = checkMe\n",
    "    return board\n",
    "a=makeBoard()\n",
    "rows = []\n",
    "for i in range(1,10):\n",
    "    cols = []\n",
    "    for j in range(1,10):\n",
    "        e = Label(window,text=str(a[i-1][j-1][0]),width=6, relief=\"groove\")\n",
    "        e.grid(row=i, column=j, sticky=NSEW,)\n",
    "        cols.append(e)\n",
    "    rows.append(cols)\n",
    "l1=Label(window,text=\"*\")\n",
    "l1.grid(row=0,column=0)\n",
    "l2=Label(window,text=\"9*9 SUDOKU Generator\",height=3)\n",
    "l2.grid(row=0,column=3,columnspan=4)\n",
    "\n",
    "b1=Button(window,text=\"Regenerate\",width=6,command=reg)\n",
    "b1.grid(row=10,column=8)\n",
    "b6=Button(window,text=\"close\",width=6,command=window.destroy)\n",
    "b6.grid(row=11,column=8)\n",
    "\n",
    "reg()\n",
    "window.mainloop()"
   ]
  },
  {
   "cell_type": "code",
   "execution_count": null,
   "metadata": {},
   "outputs": [],
   "source": []
  }
 ],
 "metadata": {
  "kernelspec": {
   "display_name": "Python 3",
   "language": "python",
   "name": "python3"
  },
  "language_info": {
   "codemirror_mode": {
    "name": "ipython",
    "version": 3
   },
   "file_extension": ".py",
   "mimetype": "text/x-python",
   "name": "python",
   "nbconvert_exporter": "python",
   "pygments_lexer": "ipython3",
   "version": "3.8.5"
  },
  "toc": {
   "base_numbering": 1,
   "nav_menu": {},
   "number_sections": true,
   "sideBar": true,
   "skip_h1_title": false,
   "title_cell": "Table of Contents",
   "title_sidebar": "Contents",
   "toc_cell": false,
   "toc_position": {},
   "toc_section_display": true,
   "toc_window_display": false
  }
 },
 "nbformat": 4,
 "nbformat_minor": 4
}
